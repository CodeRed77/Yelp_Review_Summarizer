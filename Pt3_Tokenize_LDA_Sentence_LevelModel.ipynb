{
 "cells": [
  {
   "cell_type": "code",
   "execution_count": 1,
   "metadata": {
    "ExecuteTime": {
     "end_time": "2017-11-05T18:08:14.014378Z",
     "start_time": "2017-11-05T18:08:14.001205Z"
    }
   },
   "outputs": [
    {
     "data": {
      "text/html": [
       "<style>.container { width:100% !important; }</style>"
      ],
      "text/plain": [
       "<IPython.core.display.HTML object>"
      ]
     },
     "metadata": {},
     "output_type": "display_data"
    }
   ],
   "source": [
    "from IPython.core.display import display, HTML\n",
    "display(HTML(\"<style>.container { width:100% !important; }</style>\"))\n",
    "# add quotes before and after <style>"
   ]
  },
  {
   "cell_type": "markdown",
   "metadata": {},
   "source": [
    "### Load packages"
   ]
  },
  {
   "cell_type": "code",
   "execution_count": 1,
   "metadata": {
    "ExecuteTime": {
     "end_time": "2017-11-08T00:11:40.213672Z",
     "start_time": "2017-11-08T00:11:37.177993Z"
    }
   },
   "outputs": [
    {
     "name": "stdout",
     "output_type": "stream",
     "text": [
      "Populating the interactive namespace from numpy and matplotlib\n"
     ]
    }
   ],
   "source": [
    "import nltk\n",
    "import datetime\n",
    "import re\n",
    "import requests\n",
    "import pandas as pd\n",
    "import numpy as np\n",
    "from bs4 import BeautifulSoup\n",
    "import lxml\n",
    "from io import StringIO\n",
    "from collections import Counter\n",
    "from sklearn.decomposition import PCA\n",
    "import pickle\n",
    "import json\n",
    "import os\n",
    "\n",
    "import seaborn as sns\n",
    "sns.set_style(\"darkgrid\")\n",
    "%pylab inline\n",
    "\n",
    "#visualization\n",
    "from IPython.display import Image\n",
    "import pydotplus\n",
    "from sklearn.tree import export_graphviz\n",
    "\n",
    "# visualization\n",
    "%matplotlib inline\n",
    "import matplotlib.pyplot as plt"
   ]
  },
  {
   "cell_type": "code",
   "execution_count": 2,
   "metadata": {
    "ExecuteTime": {
     "end_time": "2017-11-08T00:11:40.336583Z",
     "start_time": "2017-11-08T00:11:40.245831Z"
    },
    "collapsed": true
   },
   "outputs": [],
   "source": [
    "from sklearn.tree import DecisionTreeClassifier\n",
    "from sklearn.ensemble import RandomForestClassifier\n",
    "from sklearn.linear_model import LinearRegression, LogisticRegression\n",
    "from sklearn.model_selection import train_test_split\n",
    "from sklearn import metrics\n",
    "import scipy.stats as stats\n",
    "from sklearn.metrics import roc_curve, auc\n",
    "from sklearn.utils import resample\n",
    "from sklearn.neighbors import KNeighborsClassifier\n",
    "from sklearn import metrics\n",
    "from sklearn.metrics import confusion_matrix\n",
    "from sklearn.metrics import average_precision_score\n",
    "from imblearn.over_sampling import SMOTE\n",
    "from sklearn.model_selection import GridSearchCV\n",
    "from sklearn.externals import joblib"
   ]
  },
  {
   "cell_type": "code",
   "execution_count": 3,
   "metadata": {
    "ExecuteTime": {
     "end_time": "2017-11-08T00:11:40.465828Z",
     "start_time": "2017-11-08T00:11:40.357319Z"
    },
    "collapsed": true
   },
   "outputs": [],
   "source": [
    "from nltk.stem.snowball import SnowballStemmer\n",
    "stemmer = SnowballStemmer(\"english\")\n",
    "from nltk.tokenize import word_tokenize\n",
    "from nltk.tokenize import sent_tokenize\n",
    "from nltk.corpus import stopwords\n",
    "from nltk.stem.wordnet import WordNetLemmatizer\n",
    "from nltk.stem.porter import PorterStemmer\n",
    "from sklearn.feature_extraction.text import CountVectorizer, TfidfVectorizer\n",
    "from sklearn.feature_extraction import text\n",
    "from sklearn.feature_extraction.text import TfidfTransformer\n",
    "from sklearn.decomposition import NMF, LatentDirichletAllocation\n",
    "from sklearn.naive_bayes import MultinomialNB\n",
    "from nltk.tag import pos_tag\n",
    "\n",
    "from textblob import TextBlob\n"
   ]
  },
  {
   "cell_type": "markdown",
   "metadata": {},
   "source": [
    "### Sentence Tokenize"
   ]
  },
  {
   "cell_type": "code",
   "execution_count": 5,
   "metadata": {
    "ExecuteTime": {
     "end_time": "2017-11-05T18:09:12.135229Z",
     "start_time": "2017-11-05T18:09:11.552687Z"
    },
    "collapsed": true
   },
   "outputs": [],
   "source": [
    "bus_review_small = np.load('data/bus_review_small.pkl')"
   ]
  },
  {
   "cell_type": "code",
   "execution_count": 7,
   "metadata": {
    "ExecuteTime": {
     "end_time": "2017-11-08T00:36:10.325352Z",
     "start_time": "2017-11-08T00:36:09.878715Z"
    }
   },
   "outputs": [],
   "source": [
    "bus_review_small_mny = np.load('data/bus_review_small_mny.pkl')"
   ]
  },
  {
   "cell_type": "code",
   "execution_count": 9,
   "metadata": {
    "ExecuteTime": {
     "end_time": "2017-11-08T00:38:08.300261Z",
     "start_time": "2017-11-08T00:38:08.214895Z"
    },
    "collapsed": true
   },
   "outputs": [],
   "source": [
    "bus_review_small2 = bus_review_small_mny.dropna().copy()"
   ]
  },
  {
   "cell_type": "code",
   "execution_count": 10,
   "metadata": {
    "ExecuteTime": {
     "end_time": "2017-11-08T00:38:09.808699Z",
     "start_time": "2017-11-08T00:38:09.803485Z"
    }
   },
   "outputs": [
    {
     "data": {
      "text/plain": [
       "(50000, 29)"
      ]
     },
     "execution_count": 10,
     "metadata": {},
     "output_type": "execute_result"
    }
   ],
   "source": [
    "bus_review_small2.shape"
   ]
  },
  {
   "cell_type": "code",
   "execution_count": 11,
   "metadata": {
    "ExecuteTime": {
     "end_time": "2017-11-08T00:38:17.201555Z",
     "start_time": "2017-11-08T00:38:17.194296Z"
    },
    "scrolled": true
   },
   "outputs": [
    {
     "data": {
      "text/plain": [
       "348495    Meatballs in a cone. That is the reason we cam...\n",
       "5872      Part of my new foodie escapades, my friends an...\n",
       "47283     I love this place. It's always quiet and clean...\n",
       "68825     DELICIOUS FOOD! WILL GO BACK FOR THE ALL YOU C...\n",
       "230951    I love this location! Sometimes there can be a...\n",
       "359482    I went with a friend and luckily we didn't hav...\n",
       "345537    My absolute favorite place in Phoenix!!! The v...\n",
       "220273    I was in the mood for Chinese buffet and thoug...\n",
       "20791     Sorry I just don't understand the attraction t...\n",
       "569829    We had lunch here on a Sunday and I'd describe...\n",
       "Name: review_txt, dtype: object"
      ]
     },
     "execution_count": 11,
     "metadata": {},
     "output_type": "execute_result"
    }
   ],
   "source": [
    "bus_review_small_mny.iloc[:10,:]['review_txt']"
   ]
  },
  {
   "cell_type": "code",
   "execution_count": 12,
   "metadata": {
    "ExecuteTime": {
     "end_time": "2017-11-08T00:38:19.313986Z",
     "start_time": "2017-11-08T00:38:19.309539Z"
    },
    "collapsed": true
   },
   "outputs": [],
   "source": [
    "def custom_tokenize(text):\n",
    "    try:\n",
    "        return sent_tokenize(text)\n",
    "    except:\n",
    "        return ''\n"
   ]
  },
  {
   "cell_type": "code",
   "execution_count": 13,
   "metadata": {
    "ExecuteTime": {
     "end_time": "2017-11-08T00:38:26.877994Z",
     "start_time": "2017-11-08T00:38:26.871932Z"
    }
   },
   "outputs": [
    {
     "data": {
      "text/plain": [
       "(50000, 29)"
      ]
     },
     "execution_count": 13,
     "metadata": {},
     "output_type": "execute_result"
    }
   ],
   "source": [
    "bus_review_small2.shape"
   ]
  },
  {
   "cell_type": "code",
   "execution_count": 14,
   "metadata": {
    "ExecuteTime": {
     "end_time": "2017-11-08T00:38:52.172557Z",
     "start_time": "2017-11-08T00:38:35.392891Z"
    },
    "collapsed": true
   },
   "outputs": [],
   "source": [
    "bus_review_small2['sent_token'] = bus_review_small2['review_txt'].apply(custom_tokenize) "
   ]
  },
  {
   "cell_type": "code",
   "execution_count": null,
   "metadata": {
    "collapsed": true
   },
   "outputs": [],
   "source": []
  },
  {
   "cell_type": "code",
   "execution_count": 15,
   "metadata": {
    "ExecuteTime": {
     "end_time": "2017-11-08T00:38:53.448290Z",
     "start_time": "2017-11-08T00:38:53.352590Z"
    }
   },
   "outputs": [
    {
     "data": {
      "text/html": [
       "<div>\n",
       "<style>\n",
       "    .dataframe thead tr:only-child th {\n",
       "        text-align: right;\n",
       "    }\n",
       "\n",
       "    .dataframe thead th {\n",
       "        text-align: left;\n",
       "    }\n",
       "\n",
       "    .dataframe tbody tr th {\n",
       "        vertical-align: top;\n",
       "    }\n",
       "</style>\n",
       "<table border=\"1\" class=\"dataframe\">\n",
       "  <thead>\n",
       "    <tr style=\"text-align: right;\">\n",
       "      <th></th>\n",
       "      <th>user_id</th>\n",
       "      <th>user_rvw_cnt</th>\n",
       "      <th>business_id</th>\n",
       "      <th>name</th>\n",
       "      <th>categories</th>\n",
       "      <th>attributes</th>\n",
       "      <th>stars</th>\n",
       "      <th>review_count</th>\n",
       "      <th>city</th>\n",
       "      <th>state</th>\n",
       "      <th>...</th>\n",
       "      <th>date</th>\n",
       "      <th>funny</th>\n",
       "      <th>review_id</th>\n",
       "      <th>user_stars</th>\n",
       "      <th>review_txt</th>\n",
       "      <th>useful</th>\n",
       "      <th>yelping_since</th>\n",
       "      <th>first_yr_elite</th>\n",
       "      <th>elite_prior</th>\n",
       "      <th>sent_token</th>\n",
       "    </tr>\n",
       "  </thead>\n",
       "  <tbody>\n",
       "    <tr>\n",
       "      <th>348495</th>\n",
       "      <td>SlDD_u9gt9-RTviBWHAy4A</td>\n",
       "      <td>47</td>\n",
       "      <td>tdo6JvAKwmMAKU8T5jfORw</td>\n",
       "      <td>Fidelli Kitchen</td>\n",
       "      <td>[Italian, Nightlife, Wine Bars, Restaurants, B...</td>\n",
       "      <td>{'Alcohol': 'beer_and_wine', 'HasTV': False, '...</td>\n",
       "      <td>4.0</td>\n",
       "      <td>47</td>\n",
       "      <td>Charlotte</td>\n",
       "      <td>NC</td>\n",
       "      <td>...</td>\n",
       "      <td>2016-12-30</td>\n",
       "      <td>10.0</td>\n",
       "      <td>LdvZmKFR4wk_fbP9dPiREw</td>\n",
       "      <td>4</td>\n",
       "      <td>Meatballs in a cone. That is the reason we cam...</td>\n",
       "      <td>12.0</td>\n",
       "      <td>2011-04-11</td>\n",
       "      <td>2016.0</td>\n",
       "      <td>1</td>\n",
       "      <td>[Meatballs in a cone., That is the reason we c...</td>\n",
       "    </tr>\n",
       "    <tr>\n",
       "      <th>5872</th>\n",
       "      <td>-YYe0kff9YAYzr5L09TT_A</td>\n",
       "      <td>7</td>\n",
       "      <td>ukAUNyzUcBA4Su8UKjaJKg</td>\n",
       "      <td>7 Numbers Restaurant</td>\n",
       "      <td>[Restaurants, Italian]</td>\n",
       "      <td>{'RestaurantsTableService': True, 'GoodForMeal...</td>\n",
       "      <td>4.0</td>\n",
       "      <td>86</td>\n",
       "      <td>Toronto</td>\n",
       "      <td>ON</td>\n",
       "      <td>...</td>\n",
       "      <td>2015-09-06</td>\n",
       "      <td>0.0</td>\n",
       "      <td>m8ln3p3ZaPkr05JtJ6M0Ug</td>\n",
       "      <td>4</td>\n",
       "      <td>Part of my new foodie escapades, my friends an...</td>\n",
       "      <td>0.0</td>\n",
       "      <td>2010-08-29</td>\n",
       "      <td>2015.0</td>\n",
       "      <td>1</td>\n",
       "      <td>[Part of my new foodie escapades, my friends a...</td>\n",
       "    </tr>\n",
       "    <tr>\n",
       "      <th>47283</th>\n",
       "      <td>31AAc5BMVM4tVCqlTJgE1w</td>\n",
       "      <td>6</td>\n",
       "      <td>yNBVOKSZN_AIjSJdhF_rqA</td>\n",
       "      <td>Garbanzo Mediterranean Grill</td>\n",
       "      <td>[Caterers, American (Traditional), Falafel, Me...</td>\n",
       "      <td>{'Alcohol': 'none', 'HasTV': False, 'NoiseLeve...</td>\n",
       "      <td>3.5</td>\n",
       "      <td>122</td>\n",
       "      <td>Phoenix</td>\n",
       "      <td>AZ</td>\n",
       "      <td>...</td>\n",
       "      <td>2015-04-06</td>\n",
       "      <td>0.0</td>\n",
       "      <td>MW3Aa0xYLg9ZZzpsP-0ipQ</td>\n",
       "      <td>4</td>\n",
       "      <td>I love this place. It's always quiet and clean...</td>\n",
       "      <td>1.0</td>\n",
       "      <td>2013-09-23</td>\n",
       "      <td>99999.0</td>\n",
       "      <td>0</td>\n",
       "      <td>[I love this place., It's always quiet and cle...</td>\n",
       "    </tr>\n",
       "    <tr>\n",
       "      <th>68825</th>\n",
       "      <td>4wfyhqXWAeVPxmAk-dlneg</td>\n",
       "      <td>2</td>\n",
       "      <td>5C58ejb2nmJojUFPlvJj2A</td>\n",
       "      <td>Masa Sushi &amp; Teppanyaki</td>\n",
       "      <td>[Restaurants, Sushi Bars, Japanese]</td>\n",
       "      <td>{'RestaurantsTableService': True, 'GoodForMeal...</td>\n",
       "      <td>2.5</td>\n",
       "      <td>70</td>\n",
       "      <td>Toronto</td>\n",
       "      <td>ON</td>\n",
       "      <td>...</td>\n",
       "      <td>2012-03-06</td>\n",
       "      <td>0.0</td>\n",
       "      <td>H-lonjG5lZMl2a3EvfUftQ</td>\n",
       "      <td>4</td>\n",
       "      <td>DELICIOUS FOOD! WILL GO BACK FOR THE ALL YOU C...</td>\n",
       "      <td>0.0</td>\n",
       "      <td>2011-07-23</td>\n",
       "      <td>99999.0</td>\n",
       "      <td>0</td>\n",
       "      <td>[DELICIOUS FOOD!, WILL GO BACK FOR THE ALL YOU...</td>\n",
       "    </tr>\n",
       "    <tr>\n",
       "      <th>230951</th>\n",
       "      <td>Iv3-ijKAeAkioYLst-n9kg</td>\n",
       "      <td>15</td>\n",
       "      <td>QSCDR9RBTVyTw7p_Nbq1Xg</td>\n",
       "      <td>Einstein Bros Bagels</td>\n",
       "      <td>[Restaurants, Delis, Food, Bagels, Breakfast &amp;...</td>\n",
       "      <td>{'RestaurantsTableService': False, 'GoodForMea...</td>\n",
       "      <td>2.5</td>\n",
       "      <td>51</td>\n",
       "      <td>Phoenix</td>\n",
       "      <td>AZ</td>\n",
       "      <td>...</td>\n",
       "      <td>2014-06-18</td>\n",
       "      <td>0.0</td>\n",
       "      <td>uGt-XNof0vt7dHUvhblfuQ</td>\n",
       "      <td>4</td>\n",
       "      <td>I love this location! Sometimes there can be a...</td>\n",
       "      <td>0.0</td>\n",
       "      <td>2009-04-23</td>\n",
       "      <td>99999.0</td>\n",
       "      <td>0</td>\n",
       "      <td>[I love this location!, Sometimes there can be...</td>\n",
       "    </tr>\n",
       "  </tbody>\n",
       "</table>\n",
       "<p>5 rows × 30 columns</p>\n",
       "</div>"
      ],
      "text/plain": [
       "                       user_id  user_rvw_cnt             business_id  \\\n",
       "348495  SlDD_u9gt9-RTviBWHAy4A            47  tdo6JvAKwmMAKU8T5jfORw   \n",
       "5872    -YYe0kff9YAYzr5L09TT_A             7  ukAUNyzUcBA4Su8UKjaJKg   \n",
       "47283   31AAc5BMVM4tVCqlTJgE1w             6  yNBVOKSZN_AIjSJdhF_rqA   \n",
       "68825   4wfyhqXWAeVPxmAk-dlneg             2  5C58ejb2nmJojUFPlvJj2A   \n",
       "230951  Iv3-ijKAeAkioYLst-n9kg            15  QSCDR9RBTVyTw7p_Nbq1Xg   \n",
       "\n",
       "                                name  \\\n",
       "348495               Fidelli Kitchen   \n",
       "5872            7 Numbers Restaurant   \n",
       "47283   Garbanzo Mediterranean Grill   \n",
       "68825        Masa Sushi & Teppanyaki   \n",
       "230951          Einstein Bros Bagels   \n",
       "\n",
       "                                               categories  \\\n",
       "348495  [Italian, Nightlife, Wine Bars, Restaurants, B...   \n",
       "5872                               [Restaurants, Italian]   \n",
       "47283   [Caterers, American (Traditional), Falafel, Me...   \n",
       "68825                 [Restaurants, Sushi Bars, Japanese]   \n",
       "230951  [Restaurants, Delis, Food, Bagels, Breakfast &...   \n",
       "\n",
       "                                               attributes stars  review_count  \\\n",
       "348495  {'Alcohol': 'beer_and_wine', 'HasTV': False, '...   4.0            47   \n",
       "5872    {'RestaurantsTableService': True, 'GoodForMeal...   4.0            86   \n",
       "47283   {'Alcohol': 'none', 'HasTV': False, 'NoiseLeve...   3.5           122   \n",
       "68825   {'RestaurantsTableService': True, 'GoodForMeal...   2.5            70   \n",
       "230951  {'RestaurantsTableService': False, 'GoodForMea...   2.5            51   \n",
       "\n",
       "             city state                        ...                          \\\n",
       "348495  Charlotte    NC                        ...                           \n",
       "5872      Toronto    ON                        ...                           \n",
       "47283     Phoenix    AZ                        ...                           \n",
       "68825     Toronto    ON                        ...                           \n",
       "230951    Phoenix    AZ                        ...                           \n",
       "\n",
       "             date  funny               review_id user_stars  \\\n",
       "348495 2016-12-30   10.0  LdvZmKFR4wk_fbP9dPiREw          4   \n",
       "5872   2015-09-06    0.0  m8ln3p3ZaPkr05JtJ6M0Ug          4   \n",
       "47283  2015-04-06    0.0  MW3Aa0xYLg9ZZzpsP-0ipQ          4   \n",
       "68825  2012-03-06    0.0  H-lonjG5lZMl2a3EvfUftQ          4   \n",
       "230951 2014-06-18    0.0  uGt-XNof0vt7dHUvhblfuQ          4   \n",
       "\n",
       "                                               review_txt  useful  \\\n",
       "348495  Meatballs in a cone. That is the reason we cam...    12.0   \n",
       "5872    Part of my new foodie escapades, my friends an...     0.0   \n",
       "47283   I love this place. It's always quiet and clean...     1.0   \n",
       "68825   DELICIOUS FOOD! WILL GO BACK FOR THE ALL YOU C...     0.0   \n",
       "230951  I love this location! Sometimes there can be a...     0.0   \n",
       "\n",
       "        yelping_since  first_yr_elite  elite_prior  \\\n",
       "348495     2011-04-11          2016.0            1   \n",
       "5872       2010-08-29          2015.0            1   \n",
       "47283      2013-09-23         99999.0            0   \n",
       "68825      2011-07-23         99999.0            0   \n",
       "230951     2009-04-23         99999.0            0   \n",
       "\n",
       "                                               sent_token  \n",
       "348495  [Meatballs in a cone., That is the reason we c...  \n",
       "5872    [Part of my new foodie escapades, my friends a...  \n",
       "47283   [I love this place., It's always quiet and cle...  \n",
       "68825   [DELICIOUS FOOD!, WILL GO BACK FOR THE ALL YOU...  \n",
       "230951  [I love this location!, Sometimes there can be...  \n",
       "\n",
       "[5 rows x 30 columns]"
      ]
     },
     "execution_count": 15,
     "metadata": {},
     "output_type": "execute_result"
    }
   ],
   "source": [
    "bus_review_small2.head()"
   ]
  },
  {
   "cell_type": "code",
   "execution_count": 16,
   "metadata": {
    "ExecuteTime": {
     "end_time": "2017-11-08T00:39:06.005932Z",
     "start_time": "2017-11-08T00:38:54.711675Z"
    },
    "collapsed": true,
    "scrolled": true
   },
   "outputs": [],
   "source": [
    "# Each row is a sentence\n",
    "review_sent = pd.DataFrame(bus_review_small2.set_index(['review_id'])['sent_token'].apply(pd.Series).stack()).reset_index()"
   ]
  },
  {
   "cell_type": "code",
   "execution_count": 17,
   "metadata": {
    "ExecuteTime": {
     "end_time": "2017-11-08T00:39:07.164378Z",
     "start_time": "2017-11-08T00:39:07.149654Z"
    }
   },
   "outputs": [
    {
     "data": {
      "text/html": [
       "<div>\n",
       "<style>\n",
       "    .dataframe thead tr:only-child th {\n",
       "        text-align: right;\n",
       "    }\n",
       "\n",
       "    .dataframe thead th {\n",
       "        text-align: left;\n",
       "    }\n",
       "\n",
       "    .dataframe tbody tr th {\n",
       "        vertical-align: top;\n",
       "    }\n",
       "</style>\n",
       "<table border=\"1\" class=\"dataframe\">\n",
       "  <thead>\n",
       "    <tr style=\"text-align: right;\">\n",
       "      <th></th>\n",
       "      <th>review_id</th>\n",
       "      <th>level_1</th>\n",
       "      <th>0</th>\n",
       "    </tr>\n",
       "  </thead>\n",
       "  <tbody>\n",
       "    <tr>\n",
       "      <th>0</th>\n",
       "      <td>LdvZmKFR4wk_fbP9dPiREw</td>\n",
       "      <td>0</td>\n",
       "      <td>Meatballs in a cone.</td>\n",
       "    </tr>\n",
       "    <tr>\n",
       "      <th>1</th>\n",
       "      <td>LdvZmKFR4wk_fbP9dPiREw</td>\n",
       "      <td>1</td>\n",
       "      <td>That is the reason we came.</td>\n",
       "    </tr>\n",
       "    <tr>\n",
       "      <th>2</th>\n",
       "      <td>LdvZmKFR4wk_fbP9dPiREw</td>\n",
       "      <td>2</td>\n",
       "      <td>Nothing more, nothing less.</td>\n",
       "    </tr>\n",
       "    <tr>\n",
       "      <th>3</th>\n",
       "      <td>LdvZmKFR4wk_fbP9dPiREw</td>\n",
       "      <td>3</td>\n",
       "      <td>A man, on a mission.</td>\n",
       "    </tr>\n",
       "    <tr>\n",
       "      <th>4</th>\n",
       "      <td>LdvZmKFR4wk_fbP9dPiREw</td>\n",
       "      <td>4</td>\n",
       "      <td>I walked in and the staff was lovely.</td>\n",
       "    </tr>\n",
       "  </tbody>\n",
       "</table>\n",
       "</div>"
      ],
      "text/plain": [
       "                review_id  level_1                                      0\n",
       "0  LdvZmKFR4wk_fbP9dPiREw        0                   Meatballs in a cone.\n",
       "1  LdvZmKFR4wk_fbP9dPiREw        1            That is the reason we came.\n",
       "2  LdvZmKFR4wk_fbP9dPiREw        2            Nothing more, nothing less.\n",
       "3  LdvZmKFR4wk_fbP9dPiREw        3                   A man, on a mission.\n",
       "4  LdvZmKFR4wk_fbP9dPiREw        4  I walked in and the staff was lovely."
      ]
     },
     "execution_count": 17,
     "metadata": {},
     "output_type": "execute_result"
    }
   ],
   "source": [
    "review_sent.head()"
   ]
  },
  {
   "cell_type": "code",
   "execution_count": 18,
   "metadata": {
    "ExecuteTime": {
     "end_time": "2017-11-08T00:39:08.343468Z",
     "start_time": "2017-11-08T00:39:08.339511Z"
    },
    "collapsed": true
   },
   "outputs": [],
   "source": [
    "# review_sent[review_sent.isnull().any(axis=1)]"
   ]
  },
  {
   "cell_type": "code",
   "execution_count": 19,
   "metadata": {
    "ExecuteTime": {
     "end_time": "2017-11-08T00:39:14.480571Z",
     "start_time": "2017-11-08T00:39:14.215838Z"
    },
    "collapsed": true
   },
   "outputs": [],
   "source": [
    "review_sent['sent_cnt'] = review_sent['review_id'].groupby(review_sent['review_id']).transform('count')\n",
    "review_sent.drop('level_1', axis=1, inplace=True)\n",
    "\n",
    "review_sent.columns = ['review_id', 'sentence', 'sent_cnt']\n"
   ]
  },
  {
   "cell_type": "code",
   "execution_count": 20,
   "metadata": {
    "ExecuteTime": {
     "end_time": "2017-11-08T00:39:15.698006Z",
     "start_time": "2017-11-08T00:39:15.690390Z"
    }
   },
   "outputs": [
    {
     "data": {
      "text/plain": [
       "(427412, 3)"
      ]
     },
     "execution_count": 20,
     "metadata": {},
     "output_type": "execute_result"
    }
   ],
   "source": [
    "review_sent.shape"
   ]
  },
  {
   "cell_type": "code",
   "execution_count": 21,
   "metadata": {
    "ExecuteTime": {
     "end_time": "2017-11-08T00:39:22.374903Z",
     "start_time": "2017-11-08T00:39:22.296621Z"
    }
   },
   "outputs": [
    {
     "name": "stdout",
     "output_type": "stream",
     "text": [
      "<class 'pandas.core.frame.DataFrame'>\n",
      "RangeIndex: 427412 entries, 0 to 427411\n",
      "Data columns (total 3 columns):\n",
      "review_id    427412 non-null object\n",
      "sentence     427412 non-null object\n",
      "sent_cnt     427412 non-null int64\n",
      "dtypes: int64(1), object(2)\n",
      "memory usage: 9.8+ MB\n"
     ]
    }
   ],
   "source": [
    "review_sent.info()"
   ]
  },
  {
   "cell_type": "code",
   "execution_count": 22,
   "metadata": {
    "ExecuteTime": {
     "end_time": "2017-11-08T00:39:23.742876Z",
     "start_time": "2017-11-08T00:39:23.728020Z"
    }
   },
   "outputs": [
    {
     "data": {
      "text/html": [
       "<div>\n",
       "<style>\n",
       "    .dataframe thead tr:only-child th {\n",
       "        text-align: right;\n",
       "    }\n",
       "\n",
       "    .dataframe thead th {\n",
       "        text-align: left;\n",
       "    }\n",
       "\n",
       "    .dataframe tbody tr th {\n",
       "        vertical-align: top;\n",
       "    }\n",
       "</style>\n",
       "<table border=\"1\" class=\"dataframe\">\n",
       "  <thead>\n",
       "    <tr style=\"text-align: right;\">\n",
       "      <th></th>\n",
       "      <th>review_id</th>\n",
       "      <th>sentence</th>\n",
       "      <th>sent_cnt</th>\n",
       "    </tr>\n",
       "  </thead>\n",
       "  <tbody>\n",
       "    <tr>\n",
       "      <th>0</th>\n",
       "      <td>LdvZmKFR4wk_fbP9dPiREw</td>\n",
       "      <td>Meatballs in a cone.</td>\n",
       "      <td>21</td>\n",
       "    </tr>\n",
       "    <tr>\n",
       "      <th>1</th>\n",
       "      <td>LdvZmKFR4wk_fbP9dPiREw</td>\n",
       "      <td>That is the reason we came.</td>\n",
       "      <td>21</td>\n",
       "    </tr>\n",
       "    <tr>\n",
       "      <th>2</th>\n",
       "      <td>LdvZmKFR4wk_fbP9dPiREw</td>\n",
       "      <td>Nothing more, nothing less.</td>\n",
       "      <td>21</td>\n",
       "    </tr>\n",
       "    <tr>\n",
       "      <th>3</th>\n",
       "      <td>LdvZmKFR4wk_fbP9dPiREw</td>\n",
       "      <td>A man, on a mission.</td>\n",
       "      <td>21</td>\n",
       "    </tr>\n",
       "    <tr>\n",
       "      <th>4</th>\n",
       "      <td>LdvZmKFR4wk_fbP9dPiREw</td>\n",
       "      <td>I walked in and the staff was lovely.</td>\n",
       "      <td>21</td>\n",
       "    </tr>\n",
       "  </tbody>\n",
       "</table>\n",
       "</div>"
      ],
      "text/plain": [
       "                review_id                               sentence  sent_cnt\n",
       "0  LdvZmKFR4wk_fbP9dPiREw                   Meatballs in a cone.        21\n",
       "1  LdvZmKFR4wk_fbP9dPiREw            That is the reason we came.        21\n",
       "2  LdvZmKFR4wk_fbP9dPiREw            Nothing more, nothing less.        21\n",
       "3  LdvZmKFR4wk_fbP9dPiREw                   A man, on a mission.        21\n",
       "4  LdvZmKFR4wk_fbP9dPiREw  I walked in and the staff was lovely.        21"
      ]
     },
     "execution_count": 22,
     "metadata": {},
     "output_type": "execute_result"
    }
   ],
   "source": [
    "review_sent.head()"
   ]
  },
  {
   "cell_type": "code",
   "execution_count": 338,
   "metadata": {
    "ExecuteTime": {
     "end_time": "2017-11-10T13:38:01.427980Z",
     "start_time": "2017-11-10T13:38:00.767300Z"
    }
   },
   "outputs": [
    {
     "data": {
      "text/plain": [
       "''"
      ]
     },
     "execution_count": 338,
     "metadata": {},
     "output_type": "execute_result"
    },
    {
     "data": {
      "image/png": "[encoded data removed]",
      "text/plain": [
       "<matplotlib.figure.Figure at 0x14b428240>"
      ]
     },
     "metadata": {},
     "output_type": "display_data"
    }
   ],
   "source": [
    "review_sent.sent_cnt.hist(bins=100)\n",
    "plt.title(\"Sentence Count by Review\")\n",
    "plt.xlabel(\"Number of Sentences in Review\")\n",
    ";"
   ]
  },
  {
   "cell_type": "code",
   "execution_count": 340,
   "metadata": {
    "ExecuteTime": {
     "end_time": "2017-11-10T13:41:58.121583Z",
     "start_time": "2017-11-10T13:41:58.116306Z"
    }
   },
   "outputs": [
    {
     "data": {
      "text/plain": [
       "Index(['review_id', 'sentence', 'sent_cnt'], dtype='object')"
      ]
     },
     "execution_count": 340,
     "metadata": {},
     "output_type": "execute_result"
    }
   ],
   "source": [
    "review_sent.columns"
   ]
  },
  {
   "cell_type": "code",
   "execution_count": 357,
   "metadata": {
    "ExecuteTime": {
     "end_time": "2017-11-10T17:13:31.506998Z",
     "start_time": "2017-11-10T17:13:30.067382Z"
    }
   },
   "outputs": [
    {
     "data": {
      "image/png": "[encoded data removed]",
      "text/plain": [
       "<matplotlib.figure.Figure at 0x1430f9dd8>"
      ]
     },
     "metadata": {},
     "output_type": "display_data"
    }
   ],
   "source": [
    "g = sns.FacetGrid(review_sent, size=(8))\n",
    "g.map(sns.distplot, \"sent_cnt\", color='r')\n",
    "plt.title(\"Sentence Count by Review\\n\", fontsize=15)\n",
    "plt.xlabel(\"\\nNumber of Sentences in Review\", fontsize=15)\n",
    "plt.ylabel(\"% dist\", fontsize=15)\n",
    "g.add_legend();"
   ]
  },
  {
   "cell_type": "code",
   "execution_count": 335,
   "metadata": {
    "ExecuteTime": {
     "end_time": "2017-11-10T13:35:40.863889Z",
     "start_time": "2017-11-10T13:35:40.806507Z"
    }
   },
   "outputs": [
    {
     "data": {
      "text/plain": [
       "count    427412.000000\n",
       "mean         13.900064\n",
       "std          10.349888\n",
       "min           1.000000\n",
       "25%           7.000000\n",
       "50%          11.000000\n",
       "75%          18.000000\n",
       "max         100.000000\n",
       "Name: sent_cnt, dtype: float64"
      ]
     },
     "execution_count": 335,
     "metadata": {},
     "output_type": "execute_result"
    }
   ],
   "source": [
    "review_sent.sent_cnt.describe()"
   ]
  },
  {
   "cell_type": "code",
   "execution_count": 28,
   "metadata": {
    "ExecuteTime": {
     "end_time": "2017-11-08T00:41:06.801823Z",
     "start_time": "2017-11-08T00:41:06.780978Z"
    }
   },
   "outputs": [],
   "source": [
    "review_sent_mny_sent = review_sent[review_sent['sent_cnt'] >= 10]"
   ]
  },
  {
   "cell_type": "code",
   "execution_count": 29,
   "metadata": {
    "ExecuteTime": {
     "end_time": "2017-11-08T00:41:25.844459Z",
     "start_time": "2017-11-08T00:41:25.407075Z"
    },
    "collapsed": true
   },
   "outputs": [],
   "source": [
    "# Merge back to original df\n",
    "review_sent_merge_mny = pd.merge(bus_review_small2, review_sent_mny_sent, how='inner', left_on = 'review_id', right_on = 'review_id')\n"
   ]
  },
  {
   "cell_type": "code",
   "execution_count": 30,
   "metadata": {
    "ExecuteTime": {
     "end_time": "2017-11-08T00:41:36.515076Z",
     "start_time": "2017-11-08T00:41:36.099965Z"
    }
   },
   "outputs": [
    {
     "data": {
      "text/html": [
       "<div>\n",
       "<style>\n",
       "    .dataframe thead tr:only-child th {\n",
       "        text-align: right;\n",
       "    }\n",
       "\n",
       "    .dataframe thead th {\n",
       "        text-align: left;\n",
       "    }\n",
       "\n",
       "    .dataframe tbody tr th {\n",
       "        vertical-align: top;\n",
       "    }\n",
       "</style>\n",
       "<table border=\"1\" class=\"dataframe\">\n",
       "  <thead>\n",
       "    <tr style=\"text-align: right;\">\n",
       "      <th></th>\n",
       "      <th>user_id</th>\n",
       "      <th>user_rvw_cnt</th>\n",
       "      <th>business_id</th>\n",
       "      <th>name</th>\n",
       "      <th>categories</th>\n",
       "      <th>attributes</th>\n",
       "      <th>stars</th>\n",
       "      <th>review_count</th>\n",
       "      <th>city</th>\n",
       "      <th>state</th>\n",
       "      <th>...</th>\n",
       "      <th>review_id</th>\n",
       "      <th>user_stars</th>\n",
       "      <th>review_txt</th>\n",
       "      <th>useful</th>\n",
       "      <th>yelping_since</th>\n",
       "      <th>first_yr_elite</th>\n",
       "      <th>elite_prior</th>\n",
       "      <th>sent_token</th>\n",
       "      <th>sentence</th>\n",
       "      <th>sent_cnt</th>\n",
       "    </tr>\n",
       "  </thead>\n",
       "  <tbody>\n",
       "  </tbody>\n",
       "</table>\n",
       "<p>0 rows × 32 columns</p>\n",
       "</div>"
      ],
      "text/plain": [
       "Empty DataFrame\n",
       "Columns: [user_id, user_rvw_cnt, business_id, name, categories, attributes, stars, review_count, city, state, postal_code, latitude, longitude, categories2, name_cnt, Sushi, Pizza, Restaurants, Cat_Flag, cool, date, funny, review_id, user_stars, review_txt, useful, yelping_since, first_yr_elite, elite_prior, sent_token, sentence, sent_cnt]\n",
       "Index: []\n",
       "\n",
       "[0 rows x 32 columns]"
      ]
     },
     "execution_count": 30,
     "metadata": {},
     "output_type": "execute_result"
    }
   ],
   "source": [
    "review_sent_merge_mny[review_sent_merge_mny.isnull().any(axis=1)]"
   ]
  },
  {
   "cell_type": "code",
   "execution_count": 31,
   "metadata": {
    "ExecuteTime": {
     "end_time": "2017-11-08T00:41:43.956339Z",
     "start_time": "2017-11-08T00:41:43.890791Z"
    },
    "scrolled": true
   },
   "outputs": [
    {
     "data": {
      "text/html": [
       "<div>\n",
       "<style>\n",
       "    .dataframe thead tr:only-child th {\n",
       "        text-align: right;\n",
       "    }\n",
       "\n",
       "    .dataframe thead th {\n",
       "        text-align: left;\n",
       "    }\n",
       "\n",
       "    .dataframe tbody tr th {\n",
       "        vertical-align: top;\n",
       "    }\n",
       "</style>\n",
       "<table border=\"1\" class=\"dataframe\">\n",
       "  <thead>\n",
       "    <tr style=\"text-align: right;\">\n",
       "      <th></th>\n",
       "      <th>user_id</th>\n",
       "      <th>user_rvw_cnt</th>\n",
       "      <th>business_id</th>\n",
       "      <th>name</th>\n",
       "      <th>categories</th>\n",
       "      <th>attributes</th>\n",
       "      <th>stars</th>\n",
       "      <th>review_count</th>\n",
       "      <th>city</th>\n",
       "      <th>state</th>\n",
       "      <th>...</th>\n",
       "      <th>review_id</th>\n",
       "      <th>user_stars</th>\n",
       "      <th>review_txt</th>\n",
       "      <th>useful</th>\n",
       "      <th>yelping_since</th>\n",
       "      <th>first_yr_elite</th>\n",
       "      <th>elite_prior</th>\n",
       "      <th>sent_token</th>\n",
       "      <th>sentence</th>\n",
       "      <th>sent_cnt</th>\n",
       "    </tr>\n",
       "  </thead>\n",
       "  <tbody>\n",
       "    <tr>\n",
       "      <th>0</th>\n",
       "      <td>SlDD_u9gt9-RTviBWHAy4A</td>\n",
       "      <td>47</td>\n",
       "      <td>tdo6JvAKwmMAKU8T5jfORw</td>\n",
       "      <td>Fidelli Kitchen</td>\n",
       "      <td>[Italian, Nightlife, Wine Bars, Restaurants, B...</td>\n",
       "      <td>{'Alcohol': 'beer_and_wine', 'HasTV': False, '...</td>\n",
       "      <td>4.0</td>\n",
       "      <td>47</td>\n",
       "      <td>Charlotte</td>\n",
       "      <td>NC</td>\n",
       "      <td>...</td>\n",
       "      <td>LdvZmKFR4wk_fbP9dPiREw</td>\n",
       "      <td>4</td>\n",
       "      <td>Meatballs in a cone. That is the reason we cam...</td>\n",
       "      <td>12.0</td>\n",
       "      <td>2011-04-11</td>\n",
       "      <td>2016.0</td>\n",
       "      <td>1</td>\n",
       "      <td>[Meatballs in a cone., That is the reason we c...</td>\n",
       "      <td>Meatballs in a cone.</td>\n",
       "      <td>21</td>\n",
       "    </tr>\n",
       "    <tr>\n",
       "      <th>1</th>\n",
       "      <td>SlDD_u9gt9-RTviBWHAy4A</td>\n",
       "      <td>47</td>\n",
       "      <td>tdo6JvAKwmMAKU8T5jfORw</td>\n",
       "      <td>Fidelli Kitchen</td>\n",
       "      <td>[Italian, Nightlife, Wine Bars, Restaurants, B...</td>\n",
       "      <td>{'Alcohol': 'beer_and_wine', 'HasTV': False, '...</td>\n",
       "      <td>4.0</td>\n",
       "      <td>47</td>\n",
       "      <td>Charlotte</td>\n",
       "      <td>NC</td>\n",
       "      <td>...</td>\n",
       "      <td>LdvZmKFR4wk_fbP9dPiREw</td>\n",
       "      <td>4</td>\n",
       "      <td>Meatballs in a cone. That is the reason we cam...</td>\n",
       "      <td>12.0</td>\n",
       "      <td>2011-04-11</td>\n",
       "      <td>2016.0</td>\n",
       "      <td>1</td>\n",
       "      <td>[Meatballs in a cone., That is the reason we c...</td>\n",
       "      <td>That is the reason we came.</td>\n",
       "      <td>21</td>\n",
       "    </tr>\n",
       "    <tr>\n",
       "      <th>2</th>\n",
       "      <td>SlDD_u9gt9-RTviBWHAy4A</td>\n",
       "      <td>47</td>\n",
       "      <td>tdo6JvAKwmMAKU8T5jfORw</td>\n",
       "      <td>Fidelli Kitchen</td>\n",
       "      <td>[Italian, Nightlife, Wine Bars, Restaurants, B...</td>\n",
       "      <td>{'Alcohol': 'beer_and_wine', 'HasTV': False, '...</td>\n",
       "      <td>4.0</td>\n",
       "      <td>47</td>\n",
       "      <td>Charlotte</td>\n",
       "      <td>NC</td>\n",
       "      <td>...</td>\n",
       "      <td>LdvZmKFR4wk_fbP9dPiREw</td>\n",
       "      <td>4</td>\n",
       "      <td>Meatballs in a cone. That is the reason we cam...</td>\n",
       "      <td>12.0</td>\n",
       "      <td>2011-04-11</td>\n",
       "      <td>2016.0</td>\n",
       "      <td>1</td>\n",
       "      <td>[Meatballs in a cone., That is the reason we c...</td>\n",
       "      <td>Nothing more, nothing less.</td>\n",
       "      <td>21</td>\n",
       "    </tr>\n",
       "    <tr>\n",
       "      <th>3</th>\n",
       "      <td>SlDD_u9gt9-RTviBWHAy4A</td>\n",
       "      <td>47</td>\n",
       "      <td>tdo6JvAKwmMAKU8T5jfORw</td>\n",
       "      <td>Fidelli Kitchen</td>\n",
       "      <td>[Italian, Nightlife, Wine Bars, Restaurants, B...</td>\n",
       "      <td>{'Alcohol': 'beer_and_wine', 'HasTV': False, '...</td>\n",
       "      <td>4.0</td>\n",
       "      <td>47</td>\n",
       "      <td>Charlotte</td>\n",
       "      <td>NC</td>\n",
       "      <td>...</td>\n",
       "      <td>LdvZmKFR4wk_fbP9dPiREw</td>\n",
       "      <td>4</td>\n",
       "      <td>Meatballs in a cone. That is the reason we cam...</td>\n",
       "      <td>12.0</td>\n",
       "      <td>2011-04-11</td>\n",
       "      <td>2016.0</td>\n",
       "      <td>1</td>\n",
       "      <td>[Meatballs in a cone., That is the reason we c...</td>\n",
       "      <td>A man, on a mission.</td>\n",
       "      <td>21</td>\n",
       "    </tr>\n",
       "    <tr>\n",
       "      <th>4</th>\n",
       "      <td>SlDD_u9gt9-RTviBWHAy4A</td>\n",
       "      <td>47</td>\n",
       "      <td>tdo6JvAKwmMAKU8T5jfORw</td>\n",
       "      <td>Fidelli Kitchen</td>\n",
       "      <td>[Italian, Nightlife, Wine Bars, Restaurants, B...</td>\n",
       "      <td>{'Alcohol': 'beer_and_wine', 'HasTV': False, '...</td>\n",
       "      <td>4.0</td>\n",
       "      <td>47</td>\n",
       "      <td>Charlotte</td>\n",
       "      <td>NC</td>\n",
       "      <td>...</td>\n",
       "      <td>LdvZmKFR4wk_fbP9dPiREw</td>\n",
       "      <td>4</td>\n",
       "      <td>Meatballs in a cone. That is the reason we cam...</td>\n",
       "      <td>12.0</td>\n",
       "      <td>2011-04-11</td>\n",
       "      <td>2016.0</td>\n",
       "      <td>1</td>\n",
       "      <td>[Meatballs in a cone., That is the reason we c...</td>\n",
       "      <td>I walked in and the staff was lovely.</td>\n",
       "      <td>21</td>\n",
       "    </tr>\n",
       "    <tr>\n",
       "      <th>5</th>\n",
       "      <td>SlDD_u9gt9-RTviBWHAy4A</td>\n",
       "      <td>47</td>\n",
       "      <td>tdo6JvAKwmMAKU8T5jfORw</td>\n",
       "      <td>Fidelli Kitchen</td>\n",
       "      <td>[Italian, Nightlife, Wine Bars, Restaurants, B...</td>\n",
       "      <td>{'Alcohol': 'beer_and_wine', 'HasTV': False, '...</td>\n",
       "      <td>4.0</td>\n",
       "      <td>47</td>\n",
       "      <td>Charlotte</td>\n",
       "      <td>NC</td>\n",
       "      <td>...</td>\n",
       "      <td>LdvZmKFR4wk_fbP9dPiREw</td>\n",
       "      <td>4</td>\n",
       "      <td>Meatballs in a cone. That is the reason we cam...</td>\n",
       "      <td>12.0</td>\n",
       "      <td>2011-04-11</td>\n",
       "      <td>2016.0</td>\n",
       "      <td>1</td>\n",
       "      <td>[Meatballs in a cone., That is the reason we c...</td>\n",
       "      <td>They said take your time and look around.</td>\n",
       "      <td>21</td>\n",
       "    </tr>\n",
       "    <tr>\n",
       "      <th>6</th>\n",
       "      <td>SlDD_u9gt9-RTviBWHAy4A</td>\n",
       "      <td>47</td>\n",
       "      <td>tdo6JvAKwmMAKU8T5jfORw</td>\n",
       "      <td>Fidelli Kitchen</td>\n",
       "      <td>[Italian, Nightlife, Wine Bars, Restaurants, B...</td>\n",
       "      <td>{'Alcohol': 'beer_and_wine', 'HasTV': False, '...</td>\n",
       "      <td>4.0</td>\n",
       "      <td>47</td>\n",
       "      <td>Charlotte</td>\n",
       "      <td>NC</td>\n",
       "      <td>...</td>\n",
       "      <td>LdvZmKFR4wk_fbP9dPiREw</td>\n",
       "      <td>4</td>\n",
       "      <td>Meatballs in a cone. That is the reason we cam...</td>\n",
       "      <td>12.0</td>\n",
       "      <td>2011-04-11</td>\n",
       "      <td>2016.0</td>\n",
       "      <td>1</td>\n",
       "      <td>[Meatballs in a cone., That is the reason we c...</td>\n",
       "      <td>I told them, I know what I want.</td>\n",
       "      <td>21</td>\n",
       "    </tr>\n",
       "    <tr>\n",
       "      <th>7</th>\n",
       "      <td>SlDD_u9gt9-RTviBWHAy4A</td>\n",
       "      <td>47</td>\n",
       "      <td>tdo6JvAKwmMAKU8T5jfORw</td>\n",
       "      <td>Fidelli Kitchen</td>\n",
       "      <td>[Italian, Nightlife, Wine Bars, Restaurants, B...</td>\n",
       "      <td>{'Alcohol': 'beer_and_wine', 'HasTV': False, '...</td>\n",
       "      <td>4.0</td>\n",
       "      <td>47</td>\n",
       "      <td>Charlotte</td>\n",
       "      <td>NC</td>\n",
       "      <td>...</td>\n",
       "      <td>LdvZmKFR4wk_fbP9dPiREw</td>\n",
       "      <td>4</td>\n",
       "      <td>Meatballs in a cone. That is the reason we cam...</td>\n",
       "      <td>12.0</td>\n",
       "      <td>2011-04-11</td>\n",
       "      <td>2016.0</td>\n",
       "      <td>1</td>\n",
       "      <td>[Meatballs in a cone., That is the reason we c...</td>\n",
       "      <td>Our eyes lock and they knew what I was there f...</td>\n",
       "      <td>21</td>\n",
       "    </tr>\n",
       "    <tr>\n",
       "      <th>8</th>\n",
       "      <td>SlDD_u9gt9-RTviBWHAy4A</td>\n",
       "      <td>47</td>\n",
       "      <td>tdo6JvAKwmMAKU8T5jfORw</td>\n",
       "      <td>Fidelli Kitchen</td>\n",
       "      <td>[Italian, Nightlife, Wine Bars, Restaurants, B...</td>\n",
       "      <td>{'Alcohol': 'beer_and_wine', 'HasTV': False, '...</td>\n",
       "      <td>4.0</td>\n",
       "      <td>47</td>\n",
       "      <td>Charlotte</td>\n",
       "      <td>NC</td>\n",
       "      <td>...</td>\n",
       "      <td>LdvZmKFR4wk_fbP9dPiREw</td>\n",
       "      <td>4</td>\n",
       "      <td>Meatballs in a cone. That is the reason we cam...</td>\n",
       "      <td>12.0</td>\n",
       "      <td>2011-04-11</td>\n",
       "      <td>2016.0</td>\n",
       "      <td>1</td>\n",
       "      <td>[Meatballs in a cone., That is the reason we c...</td>\n",
       "      <td>Just kidding...</td>\n",
       "      <td>21</td>\n",
       "    </tr>\n",
       "    <tr>\n",
       "      <th>9</th>\n",
       "      <td>SlDD_u9gt9-RTviBWHAy4A</td>\n",
       "      <td>47</td>\n",
       "      <td>tdo6JvAKwmMAKU8T5jfORw</td>\n",
       "      <td>Fidelli Kitchen</td>\n",
       "      <td>[Italian, Nightlife, Wine Bars, Restaurants, B...</td>\n",
       "      <td>{'Alcohol': 'beer_and_wine', 'HasTV': False, '...</td>\n",
       "      <td>4.0</td>\n",
       "      <td>47</td>\n",
       "      <td>Charlotte</td>\n",
       "      <td>NC</td>\n",
       "      <td>...</td>\n",
       "      <td>LdvZmKFR4wk_fbP9dPiREw</td>\n",
       "      <td>4</td>\n",
       "      <td>Meatballs in a cone. That is the reason we cam...</td>\n",
       "      <td>12.0</td>\n",
       "      <td>2011-04-11</td>\n",
       "      <td>2016.0</td>\n",
       "      <td>1</td>\n",
       "      <td>[Meatballs in a cone., That is the reason we c...</td>\n",
       "      <td>I had to tell them what I wanted.</td>\n",
       "      <td>21</td>\n",
       "    </tr>\n",
       "  </tbody>\n",
       "</table>\n",
       "<p>10 rows × 32 columns</p>\n",
       "</div>"
      ],
      "text/plain": [
       "                  user_id  user_rvw_cnt             business_id  \\\n",
       "0  SlDD_u9gt9-RTviBWHAy4A            47  tdo6JvAKwmMAKU8T5jfORw   \n",
       "1  SlDD_u9gt9-RTviBWHAy4A            47  tdo6JvAKwmMAKU8T5jfORw   \n",
       "2  SlDD_u9gt9-RTviBWHAy4A            47  tdo6JvAKwmMAKU8T5jfORw   \n",
       "3  SlDD_u9gt9-RTviBWHAy4A            47  tdo6JvAKwmMAKU8T5jfORw   \n",
       "4  SlDD_u9gt9-RTviBWHAy4A            47  tdo6JvAKwmMAKU8T5jfORw   \n",
       "5  SlDD_u9gt9-RTviBWHAy4A            47  tdo6JvAKwmMAKU8T5jfORw   \n",
       "6  SlDD_u9gt9-RTviBWHAy4A            47  tdo6JvAKwmMAKU8T5jfORw   \n",
       "7  SlDD_u9gt9-RTviBWHAy4A            47  tdo6JvAKwmMAKU8T5jfORw   \n",
       "8  SlDD_u9gt9-RTviBWHAy4A            47  tdo6JvAKwmMAKU8T5jfORw   \n",
       "9  SlDD_u9gt9-RTviBWHAy4A            47  tdo6JvAKwmMAKU8T5jfORw   \n",
       "\n",
       "              name                                         categories  \\\n",
       "0  Fidelli Kitchen  [Italian, Nightlife, Wine Bars, Restaurants, B...   \n",
       "1  Fidelli Kitchen  [Italian, Nightlife, Wine Bars, Restaurants, B...   \n",
       "2  Fidelli Kitchen  [Italian, Nightlife, Wine Bars, Restaurants, B...   \n",
       "3  Fidelli Kitchen  [Italian, Nightlife, Wine Bars, Restaurants, B...   \n",
       "4  Fidelli Kitchen  [Italian, Nightlife, Wine Bars, Restaurants, B...   \n",
       "5  Fidelli Kitchen  [Italian, Nightlife, Wine Bars, Restaurants, B...   \n",
       "6  Fidelli Kitchen  [Italian, Nightlife, Wine Bars, Restaurants, B...   \n",
       "7  Fidelli Kitchen  [Italian, Nightlife, Wine Bars, Restaurants, B...   \n",
       "8  Fidelli Kitchen  [Italian, Nightlife, Wine Bars, Restaurants, B...   \n",
       "9  Fidelli Kitchen  [Italian, Nightlife, Wine Bars, Restaurants, B...   \n",
       "\n",
       "                                          attributes stars  review_count  \\\n",
       "0  {'Alcohol': 'beer_and_wine', 'HasTV': False, '...   4.0            47   \n",
       "1  {'Alcohol': 'beer_and_wine', 'HasTV': False, '...   4.0            47   \n",
       "2  {'Alcohol': 'beer_and_wine', 'HasTV': False, '...   4.0            47   \n",
       "3  {'Alcohol': 'beer_and_wine', 'HasTV': False, '...   4.0            47   \n",
       "4  {'Alcohol': 'beer_and_wine', 'HasTV': False, '...   4.0            47   \n",
       "5  {'Alcohol': 'beer_and_wine', 'HasTV': False, '...   4.0            47   \n",
       "6  {'Alcohol': 'beer_and_wine', 'HasTV': False, '...   4.0            47   \n",
       "7  {'Alcohol': 'beer_and_wine', 'HasTV': False, '...   4.0            47   \n",
       "8  {'Alcohol': 'beer_and_wine', 'HasTV': False, '...   4.0            47   \n",
       "9  {'Alcohol': 'beer_and_wine', 'HasTV': False, '...   4.0            47   \n",
       "\n",
       "        city state    ...                  review_id  user_stars  \\\n",
       "0  Charlotte    NC    ...     LdvZmKFR4wk_fbP9dPiREw           4   \n",
       "1  Charlotte    NC    ...     LdvZmKFR4wk_fbP9dPiREw           4   \n",
       "2  Charlotte    NC    ...     LdvZmKFR4wk_fbP9dPiREw           4   \n",
       "3  Charlotte    NC    ...     LdvZmKFR4wk_fbP9dPiREw           4   \n",
       "4  Charlotte    NC    ...     LdvZmKFR4wk_fbP9dPiREw           4   \n",
       "5  Charlotte    NC    ...     LdvZmKFR4wk_fbP9dPiREw           4   \n",
       "6  Charlotte    NC    ...     LdvZmKFR4wk_fbP9dPiREw           4   \n",
       "7  Charlotte    NC    ...     LdvZmKFR4wk_fbP9dPiREw           4   \n",
       "8  Charlotte    NC    ...     LdvZmKFR4wk_fbP9dPiREw           4   \n",
       "9  Charlotte    NC    ...     LdvZmKFR4wk_fbP9dPiREw           4   \n",
       "\n",
       "                                          review_txt useful  yelping_since  \\\n",
       "0  Meatballs in a cone. That is the reason we cam...   12.0     2011-04-11   \n",
       "1  Meatballs in a cone. That is the reason we cam...   12.0     2011-04-11   \n",
       "2  Meatballs in a cone. That is the reason we cam...   12.0     2011-04-11   \n",
       "3  Meatballs in a cone. That is the reason we cam...   12.0     2011-04-11   \n",
       "4  Meatballs in a cone. That is the reason we cam...   12.0     2011-04-11   \n",
       "5  Meatballs in a cone. That is the reason we cam...   12.0     2011-04-11   \n",
       "6  Meatballs in a cone. That is the reason we cam...   12.0     2011-04-11   \n",
       "7  Meatballs in a cone. That is the reason we cam...   12.0     2011-04-11   \n",
       "8  Meatballs in a cone. That is the reason we cam...   12.0     2011-04-11   \n",
       "9  Meatballs in a cone. That is the reason we cam...   12.0     2011-04-11   \n",
       "\n",
       "   first_yr_elite  elite_prior  \\\n",
       "0          2016.0            1   \n",
       "1          2016.0            1   \n",
       "2          2016.0            1   \n",
       "3          2016.0            1   \n",
       "4          2016.0            1   \n",
       "5          2016.0            1   \n",
       "6          2016.0            1   \n",
       "7          2016.0            1   \n",
       "8          2016.0            1   \n",
       "9          2016.0            1   \n",
       "\n",
       "                                          sent_token  \\\n",
       "0  [Meatballs in a cone., That is the reason we c...   \n",
       "1  [Meatballs in a cone., That is the reason we c...   \n",
       "2  [Meatballs in a cone., That is the reason we c...   \n",
       "3  [Meatballs in a cone., That is the reason we c...   \n",
       "4  [Meatballs in a cone., That is the reason we c...   \n",
       "5  [Meatballs in a cone., That is the reason we c...   \n",
       "6  [Meatballs in a cone., That is the reason we c...   \n",
       "7  [Meatballs in a cone., That is the reason we c...   \n",
       "8  [Meatballs in a cone., That is the reason we c...   \n",
       "9  [Meatballs in a cone., That is the reason we c...   \n",
       "\n",
       "                                            sentence  sent_cnt  \n",
       "0                               Meatballs in a cone.        21  \n",
       "1                        That is the reason we came.        21  \n",
       "2                        Nothing more, nothing less.        21  \n",
       "3                               A man, on a mission.        21  \n",
       "4              I walked in and the staff was lovely.        21  \n",
       "5          They said take your time and look around.        21  \n",
       "6                   I told them, I know what I want.        21  \n",
       "7  Our eyes lock and they knew what I was there f...        21  \n",
       "8                                    Just kidding...        21  \n",
       "9                  I had to tell them what I wanted.        21  \n",
       "\n",
       "[10 rows x 32 columns]"
      ]
     },
     "execution_count": 31,
     "metadata": {},
     "output_type": "execute_result"
    }
   ],
   "source": [
    "review_sent_merge_mny.head(10)"
   ]
  },
  {
   "cell_type": "code",
   "execution_count": 32,
   "metadata": {
    "ExecuteTime": {
     "end_time": "2017-11-08T00:41:57.182997Z",
     "start_time": "2017-11-08T00:41:57.177821Z"
    }
   },
   "outputs": [
    {
     "data": {
      "text/plain": [
       "(246358, 32)"
      ]
     },
     "execution_count": 32,
     "metadata": {},
     "output_type": "execute_result"
    }
   ],
   "source": [
    "review_sent_merge_mny.shape"
   ]
  },
  {
   "cell_type": "code",
   "execution_count": 33,
   "metadata": {
    "ExecuteTime": {
     "end_time": "2017-11-08T00:42:00.539648Z",
     "start_time": "2017-11-08T00:42:00.536750Z"
    },
    "collapsed": true
   },
   "outputs": [],
   "source": [
    "# prog = re.compile(pattern)\n",
    "# result = prog.match(string)"
   ]
  },
  {
   "cell_type": "code",
   "execution_count": 34,
   "metadata": {
    "ExecuteTime": {
     "end_time": "2017-11-08T00:42:02.328674Z",
     "start_time": "2017-11-08T00:42:02.324791Z"
    },
    "collapsed": true
   },
   "outputs": [],
   "source": [
    "# prog = re.compile('^([a-zA-Z]+|\\W)$')"
   ]
  },
  {
   "cell_type": "markdown",
   "metadata": {
    "ExecuteTime": {
     "end_time": "2017-10-31T20:17:23.228418Z",
     "start_time": "2017-10-31T20:17:23.158223Z"
    }
   },
   "source": [
    "#### Tokenize"
   ]
  },
  {
   "cell_type": "code",
   "execution_count": null,
   "metadata": {
    "collapsed": true
   },
   "outputs": [],
   "source": []
  },
  {
   "cell_type": "markdown",
   "metadata": {},
   "source": [
    "### Sentiment Analysis - sentence at a time"
   ]
  },
  {
   "cell_type": "code",
   "execution_count": 35,
   "metadata": {
    "ExecuteTime": {
     "end_time": "2017-11-08T00:42:09.512326Z",
     "start_time": "2017-11-08T00:42:09.507050Z"
    },
    "collapsed": true
   },
   "outputs": [],
   "source": [
    "# bus_review_small['sent_token'] = bus_review_small['review_txt'].apply(custom_tokenize) \n",
    "\n",
    "def custom_sent_pol(text):\n",
    "    try:\n",
    "        return TextBlob(text).sentiment[0]\n",
    "    except:\n",
    "        return 0"
   ]
  },
  {
   "cell_type": "code",
   "execution_count": 36,
   "metadata": {
    "ExecuteTime": {
     "end_time": "2017-11-08T00:43:00.732806Z",
     "start_time": "2017-11-08T00:42:20.488846Z"
    },
    "collapsed": true
   },
   "outputs": [],
   "source": [
    "# Sentence level sentiment\n",
    "review_sent_merge_mny['polarity'] = review_sent_merge_mny['sentence'].apply(custom_sent_pol)\n"
   ]
  },
  {
   "cell_type": "code",
   "execution_count": 37,
   "metadata": {
    "ExecuteTime": {
     "end_time": "2017-11-08T00:43:02.287635Z",
     "start_time": "2017-11-08T00:43:02.282542Z"
    }
   },
   "outputs": [
    {
     "data": {
      "text/plain": [
       "(246358, 33)"
      ]
     },
     "execution_count": 37,
     "metadata": {},
     "output_type": "execute_result"
    }
   ],
   "source": [
    "review_sent_merge_mny.shape"
   ]
  },
  {
   "cell_type": "code",
   "execution_count": 38,
   "metadata": {
    "ExecuteTime": {
     "end_time": "2017-11-08T00:43:04.032530Z",
     "start_time": "2017-11-08T00:43:03.927980Z"
    }
   },
   "outputs": [
    {
     "data": {
      "text/html": [
       "<div>\n",
       "<style>\n",
       "    .dataframe thead tr:only-child th {\n",
       "        text-align: right;\n",
       "    }\n",
       "\n",
       "    .dataframe thead th {\n",
       "        text-align: left;\n",
       "    }\n",
       "\n",
       "    .dataframe tbody tr th {\n",
       "        vertical-align: top;\n",
       "    }\n",
       "</style>\n",
       "<table border=\"1\" class=\"dataframe\">\n",
       "  <thead>\n",
       "    <tr style=\"text-align: right;\">\n",
       "      <th></th>\n",
       "      <th>user_id</th>\n",
       "      <th>user_rvw_cnt</th>\n",
       "      <th>business_id</th>\n",
       "      <th>name</th>\n",
       "      <th>categories</th>\n",
       "      <th>attributes</th>\n",
       "      <th>stars</th>\n",
       "      <th>review_count</th>\n",
       "      <th>city</th>\n",
       "      <th>state</th>\n",
       "      <th>...</th>\n",
       "      <th>user_stars</th>\n",
       "      <th>review_txt</th>\n",
       "      <th>useful</th>\n",
       "      <th>yelping_since</th>\n",
       "      <th>first_yr_elite</th>\n",
       "      <th>elite_prior</th>\n",
       "      <th>sent_token</th>\n",
       "      <th>sentence</th>\n",
       "      <th>sent_cnt</th>\n",
       "      <th>polarity</th>\n",
       "    </tr>\n",
       "  </thead>\n",
       "  <tbody>\n",
       "    <tr>\n",
       "      <th>0</th>\n",
       "      <td>SlDD_u9gt9-RTviBWHAy4A</td>\n",
       "      <td>47</td>\n",
       "      <td>tdo6JvAKwmMAKU8T5jfORw</td>\n",
       "      <td>Fidelli Kitchen</td>\n",
       "      <td>[Italian, Nightlife, Wine Bars, Restaurants, B...</td>\n",
       "      <td>{'Alcohol': 'beer_and_wine', 'HasTV': False, '...</td>\n",
       "      <td>4.0</td>\n",
       "      <td>47</td>\n",
       "      <td>Charlotte</td>\n",
       "      <td>NC</td>\n",
       "      <td>...</td>\n",
       "      <td>4</td>\n",
       "      <td>Meatballs in a cone. That is the reason we cam...</td>\n",
       "      <td>12.0</td>\n",
       "      <td>2011-04-11</td>\n",
       "      <td>2016.0</td>\n",
       "      <td>1</td>\n",
       "      <td>[Meatballs in a cone., That is the reason we c...</td>\n",
       "      <td>Meatballs in a cone.</td>\n",
       "      <td>21</td>\n",
       "      <td>0.000000</td>\n",
       "    </tr>\n",
       "    <tr>\n",
       "      <th>1</th>\n",
       "      <td>SlDD_u9gt9-RTviBWHAy4A</td>\n",
       "      <td>47</td>\n",
       "      <td>tdo6JvAKwmMAKU8T5jfORw</td>\n",
       "      <td>Fidelli Kitchen</td>\n",
       "      <td>[Italian, Nightlife, Wine Bars, Restaurants, B...</td>\n",
       "      <td>{'Alcohol': 'beer_and_wine', 'HasTV': False, '...</td>\n",
       "      <td>4.0</td>\n",
       "      <td>47</td>\n",
       "      <td>Charlotte</td>\n",
       "      <td>NC</td>\n",
       "      <td>...</td>\n",
       "      <td>4</td>\n",
       "      <td>Meatballs in a cone. That is the reason we cam...</td>\n",
       "      <td>12.0</td>\n",
       "      <td>2011-04-11</td>\n",
       "      <td>2016.0</td>\n",
       "      <td>1</td>\n",
       "      <td>[Meatballs in a cone., That is the reason we c...</td>\n",
       "      <td>That is the reason we came.</td>\n",
       "      <td>21</td>\n",
       "      <td>0.000000</td>\n",
       "    </tr>\n",
       "    <tr>\n",
       "      <th>2</th>\n",
       "      <td>SlDD_u9gt9-RTviBWHAy4A</td>\n",
       "      <td>47</td>\n",
       "      <td>tdo6JvAKwmMAKU8T5jfORw</td>\n",
       "      <td>Fidelli Kitchen</td>\n",
       "      <td>[Italian, Nightlife, Wine Bars, Restaurants, B...</td>\n",
       "      <td>{'Alcohol': 'beer_and_wine', 'HasTV': False, '...</td>\n",
       "      <td>4.0</td>\n",
       "      <td>47</td>\n",
       "      <td>Charlotte</td>\n",
       "      <td>NC</td>\n",
       "      <td>...</td>\n",
       "      <td>4</td>\n",
       "      <td>Meatballs in a cone. That is the reason we cam...</td>\n",
       "      <td>12.0</td>\n",
       "      <td>2011-04-11</td>\n",
       "      <td>2016.0</td>\n",
       "      <td>1</td>\n",
       "      <td>[Meatballs in a cone., That is the reason we c...</td>\n",
       "      <td>Nothing more, nothing less.</td>\n",
       "      <td>21</td>\n",
       "      <td>0.166667</td>\n",
       "    </tr>\n",
       "    <tr>\n",
       "      <th>3</th>\n",
       "      <td>SlDD_u9gt9-RTviBWHAy4A</td>\n",
       "      <td>47</td>\n",
       "      <td>tdo6JvAKwmMAKU8T5jfORw</td>\n",
       "      <td>Fidelli Kitchen</td>\n",
       "      <td>[Italian, Nightlife, Wine Bars, Restaurants, B...</td>\n",
       "      <td>{'Alcohol': 'beer_and_wine', 'HasTV': False, '...</td>\n",
       "      <td>4.0</td>\n",
       "      <td>47</td>\n",
       "      <td>Charlotte</td>\n",
       "      <td>NC</td>\n",
       "      <td>...</td>\n",
       "      <td>4</td>\n",
       "      <td>Meatballs in a cone. That is the reason we cam...</td>\n",
       "      <td>12.0</td>\n",
       "      <td>2011-04-11</td>\n",
       "      <td>2016.0</td>\n",
       "      <td>1</td>\n",
       "      <td>[Meatballs in a cone., That is the reason we c...</td>\n",
       "      <td>A man, on a mission.</td>\n",
       "      <td>21</td>\n",
       "      <td>0.000000</td>\n",
       "    </tr>\n",
       "    <tr>\n",
       "      <th>4</th>\n",
       "      <td>SlDD_u9gt9-RTviBWHAy4A</td>\n",
       "      <td>47</td>\n",
       "      <td>tdo6JvAKwmMAKU8T5jfORw</td>\n",
       "      <td>Fidelli Kitchen</td>\n",
       "      <td>[Italian, Nightlife, Wine Bars, Restaurants, B...</td>\n",
       "      <td>{'Alcohol': 'beer_and_wine', 'HasTV': False, '...</td>\n",
       "      <td>4.0</td>\n",
       "      <td>47</td>\n",
       "      <td>Charlotte</td>\n",
       "      <td>NC</td>\n",
       "      <td>...</td>\n",
       "      <td>4</td>\n",
       "      <td>Meatballs in a cone. That is the reason we cam...</td>\n",
       "      <td>12.0</td>\n",
       "      <td>2011-04-11</td>\n",
       "      <td>2016.0</td>\n",
       "      <td>1</td>\n",
       "      <td>[Meatballs in a cone., That is the reason we c...</td>\n",
       "      <td>I walked in and the staff was lovely.</td>\n",
       "      <td>21</td>\n",
       "      <td>0.500000</td>\n",
       "    </tr>\n",
       "  </tbody>\n",
       "</table>\n",
       "<p>5 rows × 33 columns</p>\n",
       "</div>"
      ],
      "text/plain": [
       "                  user_id  user_rvw_cnt             business_id  \\\n",
       "0  SlDD_u9gt9-RTviBWHAy4A            47  tdo6JvAKwmMAKU8T5jfORw   \n",
       "1  SlDD_u9gt9-RTviBWHAy4A            47  tdo6JvAKwmMAKU8T5jfORw   \n",
       "2  SlDD_u9gt9-RTviBWHAy4A            47  tdo6JvAKwmMAKU8T5jfORw   \n",
       "3  SlDD_u9gt9-RTviBWHAy4A            47  tdo6JvAKwmMAKU8T5jfORw   \n",
       "4  SlDD_u9gt9-RTviBWHAy4A            47  tdo6JvAKwmMAKU8T5jfORw   \n",
       "\n",
       "              name                                         categories  \\\n",
       "0  Fidelli Kitchen  [Italian, Nightlife, Wine Bars, Restaurants, B...   \n",
       "1  Fidelli Kitchen  [Italian, Nightlife, Wine Bars, Restaurants, B...   \n",
       "2  Fidelli Kitchen  [Italian, Nightlife, Wine Bars, Restaurants, B...   \n",
       "3  Fidelli Kitchen  [Italian, Nightlife, Wine Bars, Restaurants, B...   \n",
       "4  Fidelli Kitchen  [Italian, Nightlife, Wine Bars, Restaurants, B...   \n",
       "\n",
       "                                          attributes stars  review_count  \\\n",
       "0  {'Alcohol': 'beer_and_wine', 'HasTV': False, '...   4.0            47   \n",
       "1  {'Alcohol': 'beer_and_wine', 'HasTV': False, '...   4.0            47   \n",
       "2  {'Alcohol': 'beer_and_wine', 'HasTV': False, '...   4.0            47   \n",
       "3  {'Alcohol': 'beer_and_wine', 'HasTV': False, '...   4.0            47   \n",
       "4  {'Alcohol': 'beer_and_wine', 'HasTV': False, '...   4.0            47   \n",
       "\n",
       "        city state    ...    user_stars  \\\n",
       "0  Charlotte    NC    ...             4   \n",
       "1  Charlotte    NC    ...             4   \n",
       "2  Charlotte    NC    ...             4   \n",
       "3  Charlotte    NC    ...             4   \n",
       "4  Charlotte    NC    ...             4   \n",
       "\n",
       "                                          review_txt  useful yelping_since  \\\n",
       "0  Meatballs in a cone. That is the reason we cam...    12.0    2011-04-11   \n",
       "1  Meatballs in a cone. That is the reason we cam...    12.0    2011-04-11   \n",
       "2  Meatballs in a cone. That is the reason we cam...    12.0    2011-04-11   \n",
       "3  Meatballs in a cone. That is the reason we cam...    12.0    2011-04-11   \n",
       "4  Meatballs in a cone. That is the reason we cam...    12.0    2011-04-11   \n",
       "\n",
       "   first_yr_elite  elite_prior  \\\n",
       "0          2016.0            1   \n",
       "1          2016.0            1   \n",
       "2          2016.0            1   \n",
       "3          2016.0            1   \n",
       "4          2016.0            1   \n",
       "\n",
       "                                          sent_token  \\\n",
       "0  [Meatballs in a cone., That is the reason we c...   \n",
       "1  [Meatballs in a cone., That is the reason we c...   \n",
       "2  [Meatballs in a cone., That is the reason we c...   \n",
       "3  [Meatballs in a cone., That is the reason we c...   \n",
       "4  [Meatballs in a cone., That is the reason we c...   \n",
       "\n",
       "                                sentence  sent_cnt  polarity  \n",
       "0                   Meatballs in a cone.        21  0.000000  \n",
       "1            That is the reason we came.        21  0.000000  \n",
       "2            Nothing more, nothing less.        21  0.166667  \n",
       "3                   A man, on a mission.        21  0.000000  \n",
       "4  I walked in and the staff was lovely.        21  0.500000  \n",
       "\n",
       "[5 rows x 33 columns]"
      ]
     },
     "execution_count": 38,
     "metadata": {},
     "output_type": "execute_result"
    }
   ],
   "source": [
    "review_sent_merge_mny.head()"
   ]
  },
  {
   "cell_type": "markdown",
   "metadata": {},
   "source": [
    "### Tokenize by sentence"
   ]
  },
  {
   "cell_type": "code",
   "execution_count": 39,
   "metadata": {
    "ExecuteTime": {
     "end_time": "2017-11-08T00:43:20.196554Z",
     "start_time": "2017-11-08T00:43:20.126373Z"
    },
    "collapsed": true
   },
   "outputs": [],
   "source": [
    "def strip_proppers_POS(text):\n",
    "    tagged = pos_tag(text) #use NLTK's part of speech tagger\n",
    "    non_propernouns = [word for word, pos in tagged if pos != 'NNP' and pos != 'NNPS']\n",
    "    return non_propernouns\n",
    "#     http://brandonrose.org/clustering_mobile\n",
    "\n",
    "def tokenize_stem(df, col_name):\n",
    "    '''\n",
    "    Input dataframe.\n",
    "    Output dataframe do stemming on a specific column\n",
    "    '''\n",
    "    # Tokenize\n",
    "    df['token'] = df[col_name].apply(word_tokenize) \n",
    "\n",
    "    # Create stem words\n",
    "    prog = re.compile('^([a-zA-Z]+|\\W)$')\n",
    "    \n",
    "#     df['stemmed'] = df[\"token\"].\\\n",
    "#         apply(lambda x: [stemmer.stem(y) for y in x if re.match('^([a-zA-Z]+|\\W)$', y)])\n",
    "    df['stemmed'] = df[\"token\"].\\\n",
    "        apply(lambda x: [stemmer.stem(y) for y in x if prog.match(y)])\n",
    "    \n",
    "    # remove Pronouns\n",
    " #   df['stemmed'] = df[\"stemmed\"].apply(strip_proppers_POS)\n",
    "        \n",
    "    df['stemmed2'] = df['stemmed'].apply(lambda x: ', '.join(x)).str.replace(',', '')\n",
    "#   df['stemmed2'] = df['stemmed2'].str.replace(',', '')\n",
    "        \n",
    "    df.drop('token', axis=1, inplace=True)\n",
    "    df.drop('stemmed', axis=1, inplace=True)\n",
    "\n",
    "    return df"
   ]
  },
  {
   "cell_type": "code",
   "execution_count": 340,
   "metadata": {
    "ExecuteTime": {
     "end_time": "2017-11-06T20:46:25.983996Z",
     "start_time": "2017-11-06T20:46:25.980141Z"
    },
    "collapsed": true,
    "scrolled": true
   },
   "outputs": [],
   "source": [
    "#test[['token', 'dflsj']].head(50)"
   ]
  },
  {
   "cell_type": "code",
   "execution_count": null,
   "metadata": {
    "collapsed": true
   },
   "outputs": [],
   "source": []
  },
  {
   "cell_type": "code",
   "execution_count": 40,
   "metadata": {
    "ExecuteTime": {
     "end_time": "2017-11-08T00:45:24.233803Z",
     "start_time": "2017-11-08T00:43:45.263195Z"
    },
    "collapsed": true
   },
   "outputs": [],
   "source": [
    "reviews_sent_token_mny = tokenize_stem(review_sent_merge_mny, 'sentence')"
   ]
  },
  {
   "cell_type": "code",
   "execution_count": 41,
   "metadata": {
    "ExecuteTime": {
     "end_time": "2017-11-08T00:45:26.291530Z",
     "start_time": "2017-11-08T00:45:26.232188Z"
    }
   },
   "outputs": [
    {
     "data": {
      "text/html": [
       "<div>\n",
       "<style>\n",
       "    .dataframe thead tr:only-child th {\n",
       "        text-align: right;\n",
       "    }\n",
       "\n",
       "    .dataframe thead th {\n",
       "        text-align: left;\n",
       "    }\n",
       "\n",
       "    .dataframe tbody tr th {\n",
       "        vertical-align: top;\n",
       "    }\n",
       "</style>\n",
       "<table border=\"1\" class=\"dataframe\">\n",
       "  <thead>\n",
       "    <tr style=\"text-align: right;\">\n",
       "      <th></th>\n",
       "      <th>user_id</th>\n",
       "      <th>user_rvw_cnt</th>\n",
       "      <th>business_id</th>\n",
       "      <th>name</th>\n",
       "      <th>categories</th>\n",
       "      <th>attributes</th>\n",
       "      <th>stars</th>\n",
       "      <th>review_count</th>\n",
       "      <th>city</th>\n",
       "      <th>state</th>\n",
       "      <th>...</th>\n",
       "      <th>review_txt</th>\n",
       "      <th>useful</th>\n",
       "      <th>yelping_since</th>\n",
       "      <th>first_yr_elite</th>\n",
       "      <th>elite_prior</th>\n",
       "      <th>sent_token</th>\n",
       "      <th>sentence</th>\n",
       "      <th>sent_cnt</th>\n",
       "      <th>polarity</th>\n",
       "      <th>stemmed2</th>\n",
       "    </tr>\n",
       "  </thead>\n",
       "  <tbody>\n",
       "    <tr>\n",
       "      <th>0</th>\n",
       "      <td>SlDD_u9gt9-RTviBWHAy4A</td>\n",
       "      <td>47</td>\n",
       "      <td>tdo6JvAKwmMAKU8T5jfORw</td>\n",
       "      <td>Fidelli Kitchen</td>\n",
       "      <td>[Italian, Nightlife, Wine Bars, Restaurants, B...</td>\n",
       "      <td>{'Alcohol': 'beer_and_wine', 'HasTV': False, '...</td>\n",
       "      <td>4.0</td>\n",
       "      <td>47</td>\n",
       "      <td>Charlotte</td>\n",
       "      <td>NC</td>\n",
       "      <td>...</td>\n",
       "      <td>Meatballs in a cone. That is the reason we cam...</td>\n",
       "      <td>12.0</td>\n",
       "      <td>2011-04-11</td>\n",
       "      <td>2016.0</td>\n",
       "      <td>1</td>\n",
       "      <td>[Meatballs in a cone., That is the reason we c...</td>\n",
       "      <td>Meatballs in a cone.</td>\n",
       "      <td>21</td>\n",
       "      <td>0.000000</td>\n",
       "      <td>meatbal in a cone .</td>\n",
       "    </tr>\n",
       "    <tr>\n",
       "      <th>1</th>\n",
       "      <td>SlDD_u9gt9-RTviBWHAy4A</td>\n",
       "      <td>47</td>\n",
       "      <td>tdo6JvAKwmMAKU8T5jfORw</td>\n",
       "      <td>Fidelli Kitchen</td>\n",
       "      <td>[Italian, Nightlife, Wine Bars, Restaurants, B...</td>\n",
       "      <td>{'Alcohol': 'beer_and_wine', 'HasTV': False, '...</td>\n",
       "      <td>4.0</td>\n",
       "      <td>47</td>\n",
       "      <td>Charlotte</td>\n",
       "      <td>NC</td>\n",
       "      <td>...</td>\n",
       "      <td>Meatballs in a cone. That is the reason we cam...</td>\n",
       "      <td>12.0</td>\n",
       "      <td>2011-04-11</td>\n",
       "      <td>2016.0</td>\n",
       "      <td>1</td>\n",
       "      <td>[Meatballs in a cone., That is the reason we c...</td>\n",
       "      <td>That is the reason we came.</td>\n",
       "      <td>21</td>\n",
       "      <td>0.000000</td>\n",
       "      <td>that is the reason we came .</td>\n",
       "    </tr>\n",
       "    <tr>\n",
       "      <th>2</th>\n",
       "      <td>SlDD_u9gt9-RTviBWHAy4A</td>\n",
       "      <td>47</td>\n",
       "      <td>tdo6JvAKwmMAKU8T5jfORw</td>\n",
       "      <td>Fidelli Kitchen</td>\n",
       "      <td>[Italian, Nightlife, Wine Bars, Restaurants, B...</td>\n",
       "      <td>{'Alcohol': 'beer_and_wine', 'HasTV': False, '...</td>\n",
       "      <td>4.0</td>\n",
       "      <td>47</td>\n",
       "      <td>Charlotte</td>\n",
       "      <td>NC</td>\n",
       "      <td>...</td>\n",
       "      <td>Meatballs in a cone. That is the reason we cam...</td>\n",
       "      <td>12.0</td>\n",
       "      <td>2011-04-11</td>\n",
       "      <td>2016.0</td>\n",
       "      <td>1</td>\n",
       "      <td>[Meatballs in a cone., That is the reason we c...</td>\n",
       "      <td>Nothing more, nothing less.</td>\n",
       "      <td>21</td>\n",
       "      <td>0.166667</td>\n",
       "      <td>noth more  noth less .</td>\n",
       "    </tr>\n",
       "    <tr>\n",
       "      <th>3</th>\n",
       "      <td>SlDD_u9gt9-RTviBWHAy4A</td>\n",
       "      <td>47</td>\n",
       "      <td>tdo6JvAKwmMAKU8T5jfORw</td>\n",
       "      <td>Fidelli Kitchen</td>\n",
       "      <td>[Italian, Nightlife, Wine Bars, Restaurants, B...</td>\n",
       "      <td>{'Alcohol': 'beer_and_wine', 'HasTV': False, '...</td>\n",
       "      <td>4.0</td>\n",
       "      <td>47</td>\n",
       "      <td>Charlotte</td>\n",
       "      <td>NC</td>\n",
       "      <td>...</td>\n",
       "      <td>Meatballs in a cone. That is the reason we cam...</td>\n",
       "      <td>12.0</td>\n",
       "      <td>2011-04-11</td>\n",
       "      <td>2016.0</td>\n",
       "      <td>1</td>\n",
       "      <td>[Meatballs in a cone., That is the reason we c...</td>\n",
       "      <td>A man, on a mission.</td>\n",
       "      <td>21</td>\n",
       "      <td>0.000000</td>\n",
       "      <td>a man  on a mission .</td>\n",
       "    </tr>\n",
       "    <tr>\n",
       "      <th>4</th>\n",
       "      <td>SlDD_u9gt9-RTviBWHAy4A</td>\n",
       "      <td>47</td>\n",
       "      <td>tdo6JvAKwmMAKU8T5jfORw</td>\n",
       "      <td>Fidelli Kitchen</td>\n",
       "      <td>[Italian, Nightlife, Wine Bars, Restaurants, B...</td>\n",
       "      <td>{'Alcohol': 'beer_and_wine', 'HasTV': False, '...</td>\n",
       "      <td>4.0</td>\n",
       "      <td>47</td>\n",
       "      <td>Charlotte</td>\n",
       "      <td>NC</td>\n",
       "      <td>...</td>\n",
       "      <td>Meatballs in a cone. That is the reason we cam...</td>\n",
       "      <td>12.0</td>\n",
       "      <td>2011-04-11</td>\n",
       "      <td>2016.0</td>\n",
       "      <td>1</td>\n",
       "      <td>[Meatballs in a cone., That is the reason we c...</td>\n",
       "      <td>I walked in and the staff was lovely.</td>\n",
       "      <td>21</td>\n",
       "      <td>0.500000</td>\n",
       "      <td>i walk in and the staff was love .</td>\n",
       "    </tr>\n",
       "  </tbody>\n",
       "</table>\n",
       "<p>5 rows × 34 columns</p>\n",
       "</div>"
      ],
      "text/plain": [
       "                  user_id  user_rvw_cnt             business_id  \\\n",
       "0  SlDD_u9gt9-RTviBWHAy4A            47  tdo6JvAKwmMAKU8T5jfORw   \n",
       "1  SlDD_u9gt9-RTviBWHAy4A            47  tdo6JvAKwmMAKU8T5jfORw   \n",
       "2  SlDD_u9gt9-RTviBWHAy4A            47  tdo6JvAKwmMAKU8T5jfORw   \n",
       "3  SlDD_u9gt9-RTviBWHAy4A            47  tdo6JvAKwmMAKU8T5jfORw   \n",
       "4  SlDD_u9gt9-RTviBWHAy4A            47  tdo6JvAKwmMAKU8T5jfORw   \n",
       "\n",
       "              name                                         categories  \\\n",
       "0  Fidelli Kitchen  [Italian, Nightlife, Wine Bars, Restaurants, B...   \n",
       "1  Fidelli Kitchen  [Italian, Nightlife, Wine Bars, Restaurants, B...   \n",
       "2  Fidelli Kitchen  [Italian, Nightlife, Wine Bars, Restaurants, B...   \n",
       "3  Fidelli Kitchen  [Italian, Nightlife, Wine Bars, Restaurants, B...   \n",
       "4  Fidelli Kitchen  [Italian, Nightlife, Wine Bars, Restaurants, B...   \n",
       "\n",
       "                                          attributes stars  review_count  \\\n",
       "0  {'Alcohol': 'beer_and_wine', 'HasTV': False, '...   4.0            47   \n",
       "1  {'Alcohol': 'beer_and_wine', 'HasTV': False, '...   4.0            47   \n",
       "2  {'Alcohol': 'beer_and_wine', 'HasTV': False, '...   4.0            47   \n",
       "3  {'Alcohol': 'beer_and_wine', 'HasTV': False, '...   4.0            47   \n",
       "4  {'Alcohol': 'beer_and_wine', 'HasTV': False, '...   4.0            47   \n",
       "\n",
       "        city state                 ...                  \\\n",
       "0  Charlotte    NC                 ...                   \n",
       "1  Charlotte    NC                 ...                   \n",
       "2  Charlotte    NC                 ...                   \n",
       "3  Charlotte    NC                 ...                   \n",
       "4  Charlotte    NC                 ...                   \n",
       "\n",
       "                                          review_txt  useful  yelping_since  \\\n",
       "0  Meatballs in a cone. That is the reason we cam...    12.0     2011-04-11   \n",
       "1  Meatballs in a cone. That is the reason we cam...    12.0     2011-04-11   \n",
       "2  Meatballs in a cone. That is the reason we cam...    12.0     2011-04-11   \n",
       "3  Meatballs in a cone. That is the reason we cam...    12.0     2011-04-11   \n",
       "4  Meatballs in a cone. That is the reason we cam...    12.0     2011-04-11   \n",
       "\n",
       "  first_yr_elite  elite_prior  \\\n",
       "0         2016.0            1   \n",
       "1         2016.0            1   \n",
       "2         2016.0            1   \n",
       "3         2016.0            1   \n",
       "4         2016.0            1   \n",
       "\n",
       "                                          sent_token  \\\n",
       "0  [Meatballs in a cone., That is the reason we c...   \n",
       "1  [Meatballs in a cone., That is the reason we c...   \n",
       "2  [Meatballs in a cone., That is the reason we c...   \n",
       "3  [Meatballs in a cone., That is the reason we c...   \n",
       "4  [Meatballs in a cone., That is the reason we c...   \n",
       "\n",
       "                                sentence  sent_cnt  polarity  \\\n",
       "0                   Meatballs in a cone.        21  0.000000   \n",
       "1            That is the reason we came.        21  0.000000   \n",
       "2            Nothing more, nothing less.        21  0.166667   \n",
       "3                   A man, on a mission.        21  0.000000   \n",
       "4  I walked in and the staff was lovely.        21  0.500000   \n",
       "\n",
       "                             stemmed2  \n",
       "0                 meatbal in a cone .  \n",
       "1        that is the reason we came .  \n",
       "2              noth more  noth less .  \n",
       "3               a man  on a mission .  \n",
       "4  i walk in and the staff was love .  \n",
       "\n",
       "[5 rows x 34 columns]"
      ]
     },
     "execution_count": 41,
     "metadata": {},
     "output_type": "execute_result"
    }
   ],
   "source": [
    "reviews_sent_token_mny.head()"
   ]
  },
  {
   "cell_type": "code",
   "execution_count": 42,
   "metadata": {
    "ExecuteTime": {
     "end_time": "2017-11-08T00:45:28.544919Z",
     "start_time": "2017-11-08T00:45:28.247100Z"
    },
    "scrolled": true
   },
   "outputs": [
    {
     "name": "stdout",
     "output_type": "stream",
     "text": [
      "<class 'pandas.core.frame.DataFrame'>\n",
      "Int64Index: 246358 entries, 0 to 246357\n",
      "Data columns (total 34 columns):\n",
      "user_id           246358 non-null object\n",
      "user_rvw_cnt      246358 non-null int64\n",
      "business_id       246358 non-null object\n",
      "name              246358 non-null object\n",
      "categories        246358 non-null object\n",
      "attributes        246358 non-null object\n",
      "stars             246358 non-null category\n",
      "review_count      246358 non-null int64\n",
      "city              246358 non-null category\n",
      "state             246358 non-null category\n",
      "postal_code       246358 non-null category\n",
      "latitude          246358 non-null float64\n",
      "longitude         246358 non-null float64\n",
      "categories2       246358 non-null object\n",
      "name_cnt          246358 non-null int64\n",
      "Sushi             246358 non-null int64\n",
      "Pizza             246358 non-null int64\n",
      "Restaurants       246358 non-null int64\n",
      "Cat_Flag          246358 non-null int64\n",
      "cool              246358 non-null float64\n",
      "date              246358 non-null datetime64[ns]\n",
      "funny             246358 non-null float64\n",
      "review_id         246358 non-null object\n",
      "user_stars        246358 non-null category\n",
      "review_txt        246358 non-null object\n",
      "useful            246358 non-null float64\n",
      "yelping_since     246358 non-null object\n",
      "first_yr_elite    246358 non-null float64\n",
      "elite_prior       246358 non-null int64\n",
      "sent_token        246358 non-null object\n",
      "sentence          246358 non-null object\n",
      "sent_cnt          246358 non-null int64\n",
      "polarity          246358 non-null float64\n",
      "stemmed2          246358 non-null object\n",
      "dtypes: category(5), datetime64[ns](1), float64(7), int64(9), object(12)\n",
      "memory usage: 57.8+ MB\n"
     ]
    }
   ],
   "source": [
    "reviews_sent_token_mny.info()"
   ]
  },
  {
   "cell_type": "code",
   "execution_count": 43,
   "metadata": {
    "ExecuteTime": {
     "end_time": "2017-11-08T00:45:30.675642Z",
     "start_time": "2017-11-08T00:45:30.668887Z"
    }
   },
   "outputs": [
    {
     "data": {
      "text/plain": [
       "(246358, 34)"
      ]
     },
     "execution_count": 43,
     "metadata": {},
     "output_type": "execute_result"
    }
   ],
   "source": [
    "reviews_sent_token_mny.shape"
   ]
  },
  {
   "cell_type": "code",
   "execution_count": 44,
   "metadata": {
    "ExecuteTime": {
     "end_time": "2017-11-08T00:45:33.571427Z",
     "start_time": "2017-11-08T00:45:32.662919Z"
    },
    "collapsed": true
   },
   "outputs": [],
   "source": [
    "reviews_sent_token_mny.to_pickle('data/reviews_sent_token_mny.pkl')"
   ]
  },
  {
   "cell_type": "markdown",
   "metadata": {},
   "source": [
    "### Load dataset"
   ]
  },
  {
   "cell_type": "code",
   "execution_count": 4,
   "metadata": {
    "ExecuteTime": {
     "end_time": "2017-11-08T00:12:17.769336Z",
     "start_time": "2017-11-08T00:12:16.544057Z"
    },
    "collapsed": true
   },
   "outputs": [],
   "source": [
    "reviews_sent_token_mny = np.load('data/reviews_sent_token_mny.pkl')"
   ]
  },
  {
   "cell_type": "code",
   "execution_count": 45,
   "metadata": {
    "ExecuteTime": {
     "end_time": "2017-11-08T00:46:04.682758Z",
     "start_time": "2017-11-08T00:46:04.585251Z"
    }
   },
   "outputs": [
    {
     "data": {
      "text/html": [
       "<div>\n",
       "<style>\n",
       "    .dataframe thead tr:only-child th {\n",
       "        text-align: right;\n",
       "    }\n",
       "\n",
       "    .dataframe thead th {\n",
       "        text-align: left;\n",
       "    }\n",
       "\n",
       "    .dataframe tbody tr th {\n",
       "        vertical-align: top;\n",
       "    }\n",
       "</style>\n",
       "<table border=\"1\" class=\"dataframe\">\n",
       "  <thead>\n",
       "    <tr style=\"text-align: right;\">\n",
       "      <th></th>\n",
       "      <th>user_id</th>\n",
       "      <th>user_rvw_cnt</th>\n",
       "      <th>business_id</th>\n",
       "      <th>name</th>\n",
       "      <th>categories</th>\n",
       "      <th>attributes</th>\n",
       "      <th>stars</th>\n",
       "      <th>review_count</th>\n",
       "      <th>city</th>\n",
       "      <th>state</th>\n",
       "      <th>...</th>\n",
       "      <th>review_txt</th>\n",
       "      <th>useful</th>\n",
       "      <th>yelping_since</th>\n",
       "      <th>first_yr_elite</th>\n",
       "      <th>elite_prior</th>\n",
       "      <th>sent_token</th>\n",
       "      <th>sentence</th>\n",
       "      <th>sent_cnt</th>\n",
       "      <th>polarity</th>\n",
       "      <th>stemmed2</th>\n",
       "    </tr>\n",
       "  </thead>\n",
       "  <tbody>\n",
       "    <tr>\n",
       "      <th>0</th>\n",
       "      <td>SlDD_u9gt9-RTviBWHAy4A</td>\n",
       "      <td>47</td>\n",
       "      <td>tdo6JvAKwmMAKU8T5jfORw</td>\n",
       "      <td>Fidelli Kitchen</td>\n",
       "      <td>[Italian, Nightlife, Wine Bars, Restaurants, B...</td>\n",
       "      <td>{'Alcohol': 'beer_and_wine', 'HasTV': False, '...</td>\n",
       "      <td>4.0</td>\n",
       "      <td>47</td>\n",
       "      <td>Charlotte</td>\n",
       "      <td>NC</td>\n",
       "      <td>...</td>\n",
       "      <td>Meatballs in a cone. That is the reason we cam...</td>\n",
       "      <td>12.0</td>\n",
       "      <td>2011-04-11</td>\n",
       "      <td>2016.0</td>\n",
       "      <td>1</td>\n",
       "      <td>[Meatballs in a cone., That is the reason we c...</td>\n",
       "      <td>Meatballs in a cone.</td>\n",
       "      <td>21</td>\n",
       "      <td>0.000000</td>\n",
       "      <td>meatbal in a cone .</td>\n",
       "    </tr>\n",
       "    <tr>\n",
       "      <th>1</th>\n",
       "      <td>SlDD_u9gt9-RTviBWHAy4A</td>\n",
       "      <td>47</td>\n",
       "      <td>tdo6JvAKwmMAKU8T5jfORw</td>\n",
       "      <td>Fidelli Kitchen</td>\n",
       "      <td>[Italian, Nightlife, Wine Bars, Restaurants, B...</td>\n",
       "      <td>{'Alcohol': 'beer_and_wine', 'HasTV': False, '...</td>\n",
       "      <td>4.0</td>\n",
       "      <td>47</td>\n",
       "      <td>Charlotte</td>\n",
       "      <td>NC</td>\n",
       "      <td>...</td>\n",
       "      <td>Meatballs in a cone. That is the reason we cam...</td>\n",
       "      <td>12.0</td>\n",
       "      <td>2011-04-11</td>\n",
       "      <td>2016.0</td>\n",
       "      <td>1</td>\n",
       "      <td>[Meatballs in a cone., That is the reason we c...</td>\n",
       "      <td>That is the reason we came.</td>\n",
       "      <td>21</td>\n",
       "      <td>0.000000</td>\n",
       "      <td>that is the reason we came .</td>\n",
       "    </tr>\n",
       "    <tr>\n",
       "      <th>2</th>\n",
       "      <td>SlDD_u9gt9-RTviBWHAy4A</td>\n",
       "      <td>47</td>\n",
       "      <td>tdo6JvAKwmMAKU8T5jfORw</td>\n",
       "      <td>Fidelli Kitchen</td>\n",
       "      <td>[Italian, Nightlife, Wine Bars, Restaurants, B...</td>\n",
       "      <td>{'Alcohol': 'beer_and_wine', 'HasTV': False, '...</td>\n",
       "      <td>4.0</td>\n",
       "      <td>47</td>\n",
       "      <td>Charlotte</td>\n",
       "      <td>NC</td>\n",
       "      <td>...</td>\n",
       "      <td>Meatballs in a cone. That is the reason we cam...</td>\n",
       "      <td>12.0</td>\n",
       "      <td>2011-04-11</td>\n",
       "      <td>2016.0</td>\n",
       "      <td>1</td>\n",
       "      <td>[Meatballs in a cone., That is the reason we c...</td>\n",
       "      <td>Nothing more, nothing less.</td>\n",
       "      <td>21</td>\n",
       "      <td>0.166667</td>\n",
       "      <td>noth more  noth less .</td>\n",
       "    </tr>\n",
       "    <tr>\n",
       "      <th>3</th>\n",
       "      <td>SlDD_u9gt9-RTviBWHAy4A</td>\n",
       "      <td>47</td>\n",
       "      <td>tdo6JvAKwmMAKU8T5jfORw</td>\n",
       "      <td>Fidelli Kitchen</td>\n",
       "      <td>[Italian, Nightlife, Wine Bars, Restaurants, B...</td>\n",
       "      <td>{'Alcohol': 'beer_and_wine', 'HasTV': False, '...</td>\n",
       "      <td>4.0</td>\n",
       "      <td>47</td>\n",
       "      <td>Charlotte</td>\n",
       "      <td>NC</td>\n",
       "      <td>...</td>\n",
       "      <td>Meatballs in a cone. That is the reason we cam...</td>\n",
       "      <td>12.0</td>\n",
       "      <td>2011-04-11</td>\n",
       "      <td>2016.0</td>\n",
       "      <td>1</td>\n",
       "      <td>[Meatballs in a cone., That is the reason we c...</td>\n",
       "      <td>A man, on a mission.</td>\n",
       "      <td>21</td>\n",
       "      <td>0.000000</td>\n",
       "      <td>a man  on a mission .</td>\n",
       "    </tr>\n",
       "    <tr>\n",
       "      <th>4</th>\n",
       "      <td>SlDD_u9gt9-RTviBWHAy4A</td>\n",
       "      <td>47</td>\n",
       "      <td>tdo6JvAKwmMAKU8T5jfORw</td>\n",
       "      <td>Fidelli Kitchen</td>\n",
       "      <td>[Italian, Nightlife, Wine Bars, Restaurants, B...</td>\n",
       "      <td>{'Alcohol': 'beer_and_wine', 'HasTV': False, '...</td>\n",
       "      <td>4.0</td>\n",
       "      <td>47</td>\n",
       "      <td>Charlotte</td>\n",
       "      <td>NC</td>\n",
       "      <td>...</td>\n",
       "      <td>Meatballs in a cone. That is the reason we cam...</td>\n",
       "      <td>12.0</td>\n",
       "      <td>2011-04-11</td>\n",
       "      <td>2016.0</td>\n",
       "      <td>1</td>\n",
       "      <td>[Meatballs in a cone., That is the reason we c...</td>\n",
       "      <td>I walked in and the staff was lovely.</td>\n",
       "      <td>21</td>\n",
       "      <td>0.500000</td>\n",
       "      <td>i walk in and the staff was love .</td>\n",
       "    </tr>\n",
       "  </tbody>\n",
       "</table>\n",
       "<p>5 rows × 34 columns</p>\n",
       "</div>"
      ],
      "text/plain": [
       "                  user_id  user_rvw_cnt             business_id  \\\n",
       "0  SlDD_u9gt9-RTviBWHAy4A            47  tdo6JvAKwmMAKU8T5jfORw   \n",
       "1  SlDD_u9gt9-RTviBWHAy4A            47  tdo6JvAKwmMAKU8T5jfORw   \n",
       "2  SlDD_u9gt9-RTviBWHAy4A            47  tdo6JvAKwmMAKU8T5jfORw   \n",
       "3  SlDD_u9gt9-RTviBWHAy4A            47  tdo6JvAKwmMAKU8T5jfORw   \n",
       "4  SlDD_u9gt9-RTviBWHAy4A            47  tdo6JvAKwmMAKU8T5jfORw   \n",
       "\n",
       "              name                                         categories  \\\n",
       "0  Fidelli Kitchen  [Italian, Nightlife, Wine Bars, Restaurants, B...   \n",
       "1  Fidelli Kitchen  [Italian, Nightlife, Wine Bars, Restaurants, B...   \n",
       "2  Fidelli Kitchen  [Italian, Nightlife, Wine Bars, Restaurants, B...   \n",
       "3  Fidelli Kitchen  [Italian, Nightlife, Wine Bars, Restaurants, B...   \n",
       "4  Fidelli Kitchen  [Italian, Nightlife, Wine Bars, Restaurants, B...   \n",
       "\n",
       "                                          attributes stars  review_count  \\\n",
       "0  {'Alcohol': 'beer_and_wine', 'HasTV': False, '...   4.0            47   \n",
       "1  {'Alcohol': 'beer_and_wine', 'HasTV': False, '...   4.0            47   \n",
       "2  {'Alcohol': 'beer_and_wine', 'HasTV': False, '...   4.0            47   \n",
       "3  {'Alcohol': 'beer_and_wine', 'HasTV': False, '...   4.0            47   \n",
       "4  {'Alcohol': 'beer_and_wine', 'HasTV': False, '...   4.0            47   \n",
       "\n",
       "        city state                 ...                  \\\n",
       "0  Charlotte    NC                 ...                   \n",
       "1  Charlotte    NC                 ...                   \n",
       "2  Charlotte    NC                 ...                   \n",
       "3  Charlotte    NC                 ...                   \n",
       "4  Charlotte    NC                 ...                   \n",
       "\n",
       "                                          review_txt  useful  yelping_since  \\\n",
       "0  Meatballs in a cone. That is the reason we cam...    12.0     2011-04-11   \n",
       "1  Meatballs in a cone. That is the reason we cam...    12.0     2011-04-11   \n",
       "2  Meatballs in a cone. That is the reason we cam...    12.0     2011-04-11   \n",
       "3  Meatballs in a cone. That is the reason we cam...    12.0     2011-04-11   \n",
       "4  Meatballs in a cone. That is the reason we cam...    12.0     2011-04-11   \n",
       "\n",
       "  first_yr_elite  elite_prior  \\\n",
       "0         2016.0            1   \n",
       "1         2016.0            1   \n",
       "2         2016.0            1   \n",
       "3         2016.0            1   \n",
       "4         2016.0            1   \n",
       "\n",
       "                                          sent_token  \\\n",
       "0  [Meatballs in a cone., That is the reason we c...   \n",
       "1  [Meatballs in a cone., That is the reason we c...   \n",
       "2  [Meatballs in a cone., That is the reason we c...   \n",
       "3  [Meatballs in a cone., That is the reason we c...   \n",
       "4  [Meatballs in a cone., That is the reason we c...   \n",
       "\n",
       "                                sentence  sent_cnt  polarity  \\\n",
       "0                   Meatballs in a cone.        21  0.000000   \n",
       "1            That is the reason we came.        21  0.000000   \n",
       "2            Nothing more, nothing less.        21  0.166667   \n",
       "3                   A man, on a mission.        21  0.000000   \n",
       "4  I walked in and the staff was lovely.        21  0.500000   \n",
       "\n",
       "                             stemmed2  \n",
       "0                 meatbal in a cone .  \n",
       "1        that is the reason we came .  \n",
       "2              noth more  noth less .  \n",
       "3               a man  on a mission .  \n",
       "4  i walk in and the staff was love .  \n",
       "\n",
       "[5 rows x 34 columns]"
      ]
     },
     "execution_count": 45,
     "metadata": {},
     "output_type": "execute_result"
    }
   ],
   "source": [
    "reviews_sent_token_mny.head()"
   ]
  },
  {
   "cell_type": "code",
   "execution_count": 46,
   "metadata": {
    "ExecuteTime": {
     "end_time": "2017-11-08T00:46:10.938340Z",
     "start_time": "2017-11-08T00:46:10.932390Z"
    }
   },
   "outputs": [
    {
     "data": {
      "text/plain": [
       "Index(['user_id', 'user_rvw_cnt', 'business_id', 'name', 'categories',\n",
       "       'attributes', 'stars', 'review_count', 'city', 'state', 'postal_code',\n",
       "       'latitude', 'longitude', 'categories2', 'name_cnt', 'Sushi', 'Pizza',\n",
       "       'Restaurants', 'Cat_Flag', 'cool', 'date', 'funny', 'review_id',\n",
       "       'user_stars', 'review_txt', 'useful', 'yelping_since', 'first_yr_elite',\n",
       "       'elite_prior', 'sent_token', 'sentence', 'sent_cnt', 'polarity',\n",
       "       'stemmed2'],\n",
       "      dtype='object')"
      ]
     },
     "execution_count": 46,
     "metadata": {},
     "output_type": "execute_result"
    }
   ],
   "source": [
    "reviews_sent_token_mny.columns"
   ]
  },
  {
   "cell_type": "code",
   "execution_count": 47,
   "metadata": {
    "ExecuteTime": {
     "end_time": "2017-11-08T00:46:18.011033Z",
     "start_time": "2017-11-08T00:46:18.000177Z"
    }
   },
   "outputs": [
    {
     "data": {
      "text/plain": [
       "0    150240\n",
       "1     96118\n",
       "Name: elite_prior, dtype: int64"
      ]
     },
     "execution_count": 47,
     "metadata": {},
     "output_type": "execute_result"
    }
   ],
   "source": [
    "reviews_sent_token_mny.elite_prior.value_counts()"
   ]
  },
  {
   "cell_type": "code",
   "execution_count": 48,
   "metadata": {
    "ExecuteTime": {
     "end_time": "2017-11-08T00:46:27.028531Z",
     "start_time": "2017-11-08T00:46:26.931086Z"
    }
   },
   "outputs": [
    {
     "data": {
      "text/html": [
       "<div>\n",
       "<style>\n",
       "    .dataframe thead tr:only-child th {\n",
       "        text-align: right;\n",
       "    }\n",
       "\n",
       "    .dataframe thead th {\n",
       "        text-align: left;\n",
       "    }\n",
       "\n",
       "    .dataframe tbody tr th {\n",
       "        vertical-align: top;\n",
       "    }\n",
       "</style>\n",
       "<table border=\"1\" class=\"dataframe\">\n",
       "  <thead>\n",
       "    <tr style=\"text-align: right;\">\n",
       "      <th>sent_cnt</th>\n",
       "      <th>(9.91, 14.5]</th>\n",
       "      <th>(14.5, 19.0]</th>\n",
       "      <th>(19.0, 23.5]</th>\n",
       "      <th>(23.5, 28.0]</th>\n",
       "      <th>(28.0, 32.5]</th>\n",
       "      <th>(32.5, 37.0]</th>\n",
       "      <th>(37.0, 41.5]</th>\n",
       "      <th>(41.5, 46.0]</th>\n",
       "      <th>(46.0, 50.5]</th>\n",
       "      <th>(50.5, 55.0]</th>\n",
       "      <th>(55.0, 59.5]</th>\n",
       "      <th>(59.5, 64.0]</th>\n",
       "      <th>(64.0, 68.5]</th>\n",
       "      <th>(68.5, 73.0]</th>\n",
       "      <th>(77.5, 82.0]</th>\n",
       "      <th>(82.0, 86.5]</th>\n",
       "      <th>(95.5, 100.0]</th>\n",
       "    </tr>\n",
       "    <tr>\n",
       "      <th>elite_prior</th>\n",
       "      <th></th>\n",
       "      <th></th>\n",
       "      <th></th>\n",
       "      <th></th>\n",
       "      <th></th>\n",
       "      <th></th>\n",
       "      <th></th>\n",
       "      <th></th>\n",
       "      <th></th>\n",
       "      <th></th>\n",
       "      <th></th>\n",
       "      <th></th>\n",
       "      <th></th>\n",
       "      <th></th>\n",
       "      <th></th>\n",
       "      <th></th>\n",
       "      <th></th>\n",
       "    </tr>\n",
       "  </thead>\n",
       "  <tbody>\n",
       "    <tr>\n",
       "      <th>0</th>\n",
       "      <td>63746</td>\n",
       "      <td>36096</td>\n",
       "      <td>16843</td>\n",
       "      <td>12775</td>\n",
       "      <td>7047</td>\n",
       "      <td>4929</td>\n",
       "      <td>3084</td>\n",
       "      <td>2195</td>\n",
       "      <td>1299</td>\n",
       "      <td>793</td>\n",
       "      <td>807</td>\n",
       "      <td>311</td>\n",
       "      <td>68</td>\n",
       "      <td>73</td>\n",
       "      <td>78</td>\n",
       "      <td>0</td>\n",
       "      <td>96</td>\n",
       "    </tr>\n",
       "    <tr>\n",
       "      <th>1</th>\n",
       "      <td>32115</td>\n",
       "      <td>24046</td>\n",
       "      <td>12351</td>\n",
       "      <td>10140</td>\n",
       "      <td>5714</td>\n",
       "      <td>4018</td>\n",
       "      <td>2559</td>\n",
       "      <td>2149</td>\n",
       "      <td>1106</td>\n",
       "      <td>744</td>\n",
       "      <td>232</td>\n",
       "      <td>61</td>\n",
       "      <td>401</td>\n",
       "      <td>142</td>\n",
       "      <td>157</td>\n",
       "      <td>83</td>\n",
       "      <td>100</td>\n",
       "    </tr>\n",
       "  </tbody>\n",
       "</table>\n",
       "</div>"
      ],
      "text/plain": [
       "sent_cnt     (9.91, 14.5]  (14.5, 19.0]  (19.0, 23.5]  (23.5, 28.0]  \\\n",
       "elite_prior                                                           \n",
       "0                   63746         36096         16843         12775   \n",
       "1                   32115         24046         12351         10140   \n",
       "\n",
       "sent_cnt     (28.0, 32.5]  (32.5, 37.0]  (37.0, 41.5]  (41.5, 46.0]  \\\n",
       "elite_prior                                                           \n",
       "0                    7047          4929          3084          2195   \n",
       "1                    5714          4018          2559          2149   \n",
       "\n",
       "sent_cnt     (46.0, 50.5]  (50.5, 55.0]  (55.0, 59.5]  (59.5, 64.0]  \\\n",
       "elite_prior                                                           \n",
       "0                    1299           793           807           311   \n",
       "1                    1106           744           232            61   \n",
       "\n",
       "sent_cnt     (64.0, 68.5]  (68.5, 73.0]  (77.5, 82.0]  (82.0, 86.5]  \\\n",
       "elite_prior                                                           \n",
       "0                      68            73            78             0   \n",
       "1                     401           142           157            83   \n",
       "\n",
       "sent_cnt     (95.5, 100.0]  \n",
       "elite_prior                 \n",
       "0                       96  \n",
       "1                      100  "
      ]
     },
     "execution_count": 48,
     "metadata": {},
     "output_type": "execute_result"
    }
   ],
   "source": [
    "pd.crosstab(reviews_sent_token_mny.elite_prior, pd.cut(reviews_sent_token_mny.sent_cnt, 20))"
   ]
  },
  {
   "cell_type": "code",
   "execution_count": 49,
   "metadata": {
    "ExecuteTime": {
     "end_time": "2017-11-08T00:46:39.226064Z",
     "start_time": "2017-11-08T00:46:38.923940Z"
    }
   },
   "outputs": [
    {
     "data": {
      "text/plain": [
       "Series([], Name: review_id, dtype: object)"
      ]
     },
     "execution_count": 49,
     "metadata": {},
     "output_type": "execute_result"
    }
   ],
   "source": [
    "reviews_sent_token_mny[reviews_sent_token_mny.isnull().any(axis=1)]['review_id']"
   ]
  },
  {
   "cell_type": "code",
   "execution_count": 50,
   "metadata": {
    "ExecuteTime": {
     "end_time": "2017-11-08T00:46:44.748857Z",
     "start_time": "2017-11-08T00:46:44.390914Z"
    }
   },
   "outputs": [
    {
     "data": {
      "text/plain": [
       "0.091634837499999997"
      ]
     },
     "execution_count": 50,
     "metadata": {},
     "output_type": "execute_result"
    }
   ],
   "source": [
    "(reviews_sent_token_mny.memory_usage(deep=True).sum())/(10e9)"
   ]
  },
  {
   "cell_type": "code",
   "execution_count": 38,
   "metadata": {
    "ExecuteTime": {
     "end_time": "2017-11-05T18:22:50.660825Z",
     "start_time": "2017-11-05T18:22:50.653709Z"
    },
    "collapsed": true
   },
   "outputs": [],
   "source": [
    "#reviews_tokenized = tokenize_stem(reviews_token, 'review_txt')"
   ]
  },
  {
   "cell_type": "code",
   "execution_count": 39,
   "metadata": {
    "ExecuteTime": {
     "end_time": "2017-11-05T18:22:52.364499Z",
     "start_time": "2017-11-05T18:22:52.359948Z"
    },
    "collapsed": true
   },
   "outputs": [],
   "source": [
    "#reviews_token.shape"
   ]
  },
  {
   "cell_type": "code",
   "execution_count": 51,
   "metadata": {
    "ExecuteTime": {
     "end_time": "2017-11-08T00:46:52.466200Z",
     "start_time": "2017-11-08T00:46:52.460380Z"
    }
   },
   "outputs": [
    {
     "data": {
      "text/plain": [
       "(246358, 34)"
      ]
     },
     "execution_count": 51,
     "metadata": {},
     "output_type": "execute_result"
    }
   ],
   "source": [
    "#reviews_tokenized.to_pickle('data/reviews_tokenized.pkl')\n",
    "reviews_sent_token_mny.shape"
   ]
  },
  {
   "cell_type": "code",
   "execution_count": 52,
   "metadata": {
    "ExecuteTime": {
     "end_time": "2017-11-08T00:46:57.356341Z",
     "start_time": "2017-11-08T00:46:57.285377Z"
    }
   },
   "outputs": [
    {
     "data": {
      "text/html": [
       "<div>\n",
       "<style>\n",
       "    .dataframe thead tr:only-child th {\n",
       "        text-align: right;\n",
       "    }\n",
       "\n",
       "    .dataframe thead th {\n",
       "        text-align: left;\n",
       "    }\n",
       "\n",
       "    .dataframe tbody tr th {\n",
       "        vertical-align: top;\n",
       "    }\n",
       "</style>\n",
       "<table border=\"1\" class=\"dataframe\">\n",
       "  <thead>\n",
       "    <tr style=\"text-align: right;\">\n",
       "      <th></th>\n",
       "      <th>user_id</th>\n",
       "      <th>user_rvw_cnt</th>\n",
       "      <th>business_id</th>\n",
       "      <th>name</th>\n",
       "      <th>categories</th>\n",
       "      <th>attributes</th>\n",
       "      <th>stars</th>\n",
       "      <th>review_count</th>\n",
       "      <th>city</th>\n",
       "      <th>state</th>\n",
       "      <th>...</th>\n",
       "      <th>review_txt</th>\n",
       "      <th>useful</th>\n",
       "      <th>yelping_since</th>\n",
       "      <th>first_yr_elite</th>\n",
       "      <th>elite_prior</th>\n",
       "      <th>sent_token</th>\n",
       "      <th>sentence</th>\n",
       "      <th>sent_cnt</th>\n",
       "      <th>polarity</th>\n",
       "      <th>stemmed2</th>\n",
       "    </tr>\n",
       "  </thead>\n",
       "  <tbody>\n",
       "    <tr>\n",
       "      <th>0</th>\n",
       "      <td>SlDD_u9gt9-RTviBWHAy4A</td>\n",
       "      <td>47</td>\n",
       "      <td>tdo6JvAKwmMAKU8T5jfORw</td>\n",
       "      <td>Fidelli Kitchen</td>\n",
       "      <td>[Italian, Nightlife, Wine Bars, Restaurants, B...</td>\n",
       "      <td>{'Alcohol': 'beer_and_wine', 'HasTV': False, '...</td>\n",
       "      <td>4.0</td>\n",
       "      <td>47</td>\n",
       "      <td>Charlotte</td>\n",
       "      <td>NC</td>\n",
       "      <td>...</td>\n",
       "      <td>Meatballs in a cone. That is the reason we cam...</td>\n",
       "      <td>12.0</td>\n",
       "      <td>2011-04-11</td>\n",
       "      <td>2016.0</td>\n",
       "      <td>1</td>\n",
       "      <td>[Meatballs in a cone., That is the reason we c...</td>\n",
       "      <td>Meatballs in a cone.</td>\n",
       "      <td>21</td>\n",
       "      <td>0.000000</td>\n",
       "      <td>meatbal in a cone .</td>\n",
       "    </tr>\n",
       "    <tr>\n",
       "      <th>1</th>\n",
       "      <td>SlDD_u9gt9-RTviBWHAy4A</td>\n",
       "      <td>47</td>\n",
       "      <td>tdo6JvAKwmMAKU8T5jfORw</td>\n",
       "      <td>Fidelli Kitchen</td>\n",
       "      <td>[Italian, Nightlife, Wine Bars, Restaurants, B...</td>\n",
       "      <td>{'Alcohol': 'beer_and_wine', 'HasTV': False, '...</td>\n",
       "      <td>4.0</td>\n",
       "      <td>47</td>\n",
       "      <td>Charlotte</td>\n",
       "      <td>NC</td>\n",
       "      <td>...</td>\n",
       "      <td>Meatballs in a cone. That is the reason we cam...</td>\n",
       "      <td>12.0</td>\n",
       "      <td>2011-04-11</td>\n",
       "      <td>2016.0</td>\n",
       "      <td>1</td>\n",
       "      <td>[Meatballs in a cone., That is the reason we c...</td>\n",
       "      <td>That is the reason we came.</td>\n",
       "      <td>21</td>\n",
       "      <td>0.000000</td>\n",
       "      <td>that is the reason we came .</td>\n",
       "    </tr>\n",
       "    <tr>\n",
       "      <th>2</th>\n",
       "      <td>SlDD_u9gt9-RTviBWHAy4A</td>\n",
       "      <td>47</td>\n",
       "      <td>tdo6JvAKwmMAKU8T5jfORw</td>\n",
       "      <td>Fidelli Kitchen</td>\n",
       "      <td>[Italian, Nightlife, Wine Bars, Restaurants, B...</td>\n",
       "      <td>{'Alcohol': 'beer_and_wine', 'HasTV': False, '...</td>\n",
       "      <td>4.0</td>\n",
       "      <td>47</td>\n",
       "      <td>Charlotte</td>\n",
       "      <td>NC</td>\n",
       "      <td>...</td>\n",
       "      <td>Meatballs in a cone. That is the reason we cam...</td>\n",
       "      <td>12.0</td>\n",
       "      <td>2011-04-11</td>\n",
       "      <td>2016.0</td>\n",
       "      <td>1</td>\n",
       "      <td>[Meatballs in a cone., That is the reason we c...</td>\n",
       "      <td>Nothing more, nothing less.</td>\n",
       "      <td>21</td>\n",
       "      <td>0.166667</td>\n",
       "      <td>noth more  noth less .</td>\n",
       "    </tr>\n",
       "    <tr>\n",
       "      <th>3</th>\n",
       "      <td>SlDD_u9gt9-RTviBWHAy4A</td>\n",
       "      <td>47</td>\n",
       "      <td>tdo6JvAKwmMAKU8T5jfORw</td>\n",
       "      <td>Fidelli Kitchen</td>\n",
       "      <td>[Italian, Nightlife, Wine Bars, Restaurants, B...</td>\n",
       "      <td>{'Alcohol': 'beer_and_wine', 'HasTV': False, '...</td>\n",
       "      <td>4.0</td>\n",
       "      <td>47</td>\n",
       "      <td>Charlotte</td>\n",
       "      <td>NC</td>\n",
       "      <td>...</td>\n",
       "      <td>Meatballs in a cone. That is the reason we cam...</td>\n",
       "      <td>12.0</td>\n",
       "      <td>2011-04-11</td>\n",
       "      <td>2016.0</td>\n",
       "      <td>1</td>\n",
       "      <td>[Meatballs in a cone., That is the reason we c...</td>\n",
       "      <td>A man, on a mission.</td>\n",
       "      <td>21</td>\n",
       "      <td>0.000000</td>\n",
       "      <td>a man  on a mission .</td>\n",
       "    </tr>\n",
       "    <tr>\n",
       "      <th>4</th>\n",
       "      <td>SlDD_u9gt9-RTviBWHAy4A</td>\n",
       "      <td>47</td>\n",
       "      <td>tdo6JvAKwmMAKU8T5jfORw</td>\n",
       "      <td>Fidelli Kitchen</td>\n",
       "      <td>[Italian, Nightlife, Wine Bars, Restaurants, B...</td>\n",
       "      <td>{'Alcohol': 'beer_and_wine', 'HasTV': False, '...</td>\n",
       "      <td>4.0</td>\n",
       "      <td>47</td>\n",
       "      <td>Charlotte</td>\n",
       "      <td>NC</td>\n",
       "      <td>...</td>\n",
       "      <td>Meatballs in a cone. That is the reason we cam...</td>\n",
       "      <td>12.0</td>\n",
       "      <td>2011-04-11</td>\n",
       "      <td>2016.0</td>\n",
       "      <td>1</td>\n",
       "      <td>[Meatballs in a cone., That is the reason we c...</td>\n",
       "      <td>I walked in and the staff was lovely.</td>\n",
       "      <td>21</td>\n",
       "      <td>0.500000</td>\n",
       "      <td>i walk in and the staff was love .</td>\n",
       "    </tr>\n",
       "  </tbody>\n",
       "</table>\n",
       "<p>5 rows × 34 columns</p>\n",
       "</div>"
      ],
      "text/plain": [
       "                  user_id  user_rvw_cnt             business_id  \\\n",
       "0  SlDD_u9gt9-RTviBWHAy4A            47  tdo6JvAKwmMAKU8T5jfORw   \n",
       "1  SlDD_u9gt9-RTviBWHAy4A            47  tdo6JvAKwmMAKU8T5jfORw   \n",
       "2  SlDD_u9gt9-RTviBWHAy4A            47  tdo6JvAKwmMAKU8T5jfORw   \n",
       "3  SlDD_u9gt9-RTviBWHAy4A            47  tdo6JvAKwmMAKU8T5jfORw   \n",
       "4  SlDD_u9gt9-RTviBWHAy4A            47  tdo6JvAKwmMAKU8T5jfORw   \n",
       "\n",
       "              name                                         categories  \\\n",
       "0  Fidelli Kitchen  [Italian, Nightlife, Wine Bars, Restaurants, B...   \n",
       "1  Fidelli Kitchen  [Italian, Nightlife, Wine Bars, Restaurants, B...   \n",
       "2  Fidelli Kitchen  [Italian, Nightlife, Wine Bars, Restaurants, B...   \n",
       "3  Fidelli Kitchen  [Italian, Nightlife, Wine Bars, Restaurants, B...   \n",
       "4  Fidelli Kitchen  [Italian, Nightlife, Wine Bars, Restaurants, B...   \n",
       "\n",
       "                                          attributes stars  review_count  \\\n",
       "0  {'Alcohol': 'beer_and_wine', 'HasTV': False, '...   4.0            47   \n",
       "1  {'Alcohol': 'beer_and_wine', 'HasTV': False, '...   4.0            47   \n",
       "2  {'Alcohol': 'beer_and_wine', 'HasTV': False, '...   4.0            47   \n",
       "3  {'Alcohol': 'beer_and_wine', 'HasTV': False, '...   4.0            47   \n",
       "4  {'Alcohol': 'beer_and_wine', 'HasTV': False, '...   4.0            47   \n",
       "\n",
       "        city state                 ...                  \\\n",
       "0  Charlotte    NC                 ...                   \n",
       "1  Charlotte    NC                 ...                   \n",
       "2  Charlotte    NC                 ...                   \n",
       "3  Charlotte    NC                 ...                   \n",
       "4  Charlotte    NC                 ...                   \n",
       "\n",
       "                                          review_txt  useful  yelping_since  \\\n",
       "0  Meatballs in a cone. That is the reason we cam...    12.0     2011-04-11   \n",
       "1  Meatballs in a cone. That is the reason we cam...    12.0     2011-04-11   \n",
       "2  Meatballs in a cone. That is the reason we cam...    12.0     2011-04-11   \n",
       "3  Meatballs in a cone. That is the reason we cam...    12.0     2011-04-11   \n",
       "4  Meatballs in a cone. That is the reason we cam...    12.0     2011-04-11   \n",
       "\n",
       "  first_yr_elite  elite_prior  \\\n",
       "0         2016.0            1   \n",
       "1         2016.0            1   \n",
       "2         2016.0            1   \n",
       "3         2016.0            1   \n",
       "4         2016.0            1   \n",
       "\n",
       "                                          sent_token  \\\n",
       "0  [Meatballs in a cone., That is the reason we c...   \n",
       "1  [Meatballs in a cone., That is the reason we c...   \n",
       "2  [Meatballs in a cone., That is the reason we c...   \n",
       "3  [Meatballs in a cone., That is the reason we c...   \n",
       "4  [Meatballs in a cone., That is the reason we c...   \n",
       "\n",
       "                                sentence  sent_cnt  polarity  \\\n",
       "0                   Meatballs in a cone.        21  0.000000   \n",
       "1            That is the reason we came.        21  0.000000   \n",
       "2            Nothing more, nothing less.        21  0.166667   \n",
       "3                   A man, on a mission.        21  0.000000   \n",
       "4  I walked in and the staff was lovely.        21  0.500000   \n",
       "\n",
       "                             stemmed2  \n",
       "0                 meatbal in a cone .  \n",
       "1        that is the reason we came .  \n",
       "2              noth more  noth less .  \n",
       "3               a man  on a mission .  \n",
       "4  i walk in and the staff was love .  \n",
       "\n",
       "[5 rows x 34 columns]"
      ]
     },
     "execution_count": 52,
     "metadata": {},
     "output_type": "execute_result"
    }
   ],
   "source": [
    "reviews_sent_token_mny.head()"
   ]
  },
  {
   "cell_type": "code",
   "execution_count": null,
   "metadata": {
    "collapsed": true
   },
   "outputs": [],
   "source": []
  },
  {
   "cell_type": "markdown",
   "metadata": {},
   "source": [
    "#### Count Vectorize and LDA on all Sentences"
   ]
  },
  {
   "cell_type": "code",
   "execution_count": 53,
   "metadata": {
    "ExecuteTime": {
     "end_time": "2017-11-08T00:47:26.255908Z",
     "start_time": "2017-11-08T00:47:26.069028Z"
    },
    "collapsed": true
   },
   "outputs": [],
   "source": [
    "good_r = reviews_sent_token_mny.loc[(reviews_sent_token['user_stars'] == 4) | (reviews_sent_token['user_stars'] == 5)]\n",
    "\n",
    "bad_r = reviews_sent_token_mny.loc[(reviews_sent_token['user_stars'] == 1) |\n",
    "                               (reviews_sent_token['user_stars'] == 2) |\n",
    "                               (reviews_sent_token['user_stars'] == 3)]"
   ]
  },
  {
   "cell_type": "code",
   "execution_count": 54,
   "metadata": {
    "ExecuteTime": {
     "end_time": "2017-11-08T00:47:28.997484Z",
     "start_time": "2017-11-08T00:47:28.991613Z"
    }
   },
   "outputs": [
    {
     "name": "stdout",
     "output_type": "stream",
     "text": [
      "(246358, 34)\n",
      "(150942, 34)\n",
      "(95416, 34)\n"
     ]
    }
   ],
   "source": [
    "print(reviews_sent_token_mny.shape)\n",
    "print(good_r.shape)\n",
    "print(bad_r.shape)"
   ]
  },
  {
   "cell_type": "code",
   "execution_count": 55,
   "metadata": {
    "ExecuteTime": {
     "end_time": "2017-11-08T00:47:43.839672Z",
     "start_time": "2017-11-08T00:47:43.827143Z"
    }
   },
   "outputs": [
    {
     "data": {
      "text/plain": [
       "4    74196\n",
       "5    62615\n",
       "3    47049\n",
       "2    33849\n",
       "1    28649\n",
       "Name: user_stars, dtype: int64"
      ]
     },
     "execution_count": 55,
     "metadata": {},
     "output_type": "execute_result"
    }
   ],
   "source": [
    "reviews_sent_token_mny.user_stars.value_counts(dropna=False)"
   ]
  },
  {
   "cell_type": "code",
   "execution_count": 43,
   "metadata": {
    "ExecuteTime": {
     "end_time": "2017-11-05T18:23:26.149290Z",
     "start_time": "2017-11-05T18:23:26.143041Z"
    }
   },
   "outputs": [
    {
     "data": {
      "text/plain": [
       "428363"
      ]
     },
     "execution_count": 43,
     "metadata": {},
     "output_type": "execute_result"
    }
   ],
   "source": [
    "261129 + 167234"
   ]
  },
  {
   "cell_type": "code",
   "execution_count": 56,
   "metadata": {
    "ExecuteTime": {
     "end_time": "2017-11-08T00:47:53.434504Z",
     "start_time": "2017-11-08T00:47:53.429094Z"
    },
    "collapsed": true
   },
   "outputs": [],
   "source": [
    "def display_topics(model, feature_names, no_top_words):\n",
    "    for topic_idx, topic in enumerate(model.components_):\n",
    "        print( \"Topic %d:\" % (topic_idx + 1))\n",
    "        print(\" \".join([feature_names[i]\n",
    "                        for i in topic.argsort()[ :-no_top_words - 1:-1]]))\n"
   ]
  },
  {
   "cell_type": "code",
   "execution_count": 57,
   "metadata": {
    "ExecuteTime": {
     "end_time": "2017-11-08T00:47:56.439884Z",
     "start_time": "2017-11-08T00:47:56.434244Z"
    },
    "collapsed": true
   },
   "outputs": [],
   "source": [
    "more_words = ['pizza', 'beer', 'burger', 'salad', 'mexican', 'chicken', 'phoenix', 'fri', 'taco', 'toronto', 'charlott', 'sauc']\n",
    "\n",
    "my_stop_words = text.ENGLISH_STOP_WORDS.union(more_words)"
   ]
  },
  {
   "cell_type": "code",
   "execution_count": 58,
   "metadata": {
    "ExecuteTime": {
     "end_time": "2017-11-08T00:48:11.440024Z",
     "start_time": "2017-11-08T00:48:07.987526Z"
    },
    "collapsed": true
   },
   "outputs": [],
   "source": [
    "# LDA can only use raw term counts for LDA because it is a probabilistic graphical model\n",
    "tf_vectorizer = CountVectorizer(max_df=0.50, min_df=20, stop_words = my_stop_words)\n",
    "\n",
    "tf = tf_vectorizer.fit_transform(reviews_sent_token_mny['stemmed2'])\n",
    "tf_feature_names = tf_vectorizer.get_feature_names()\n",
    "\n"
   ]
  },
  {
   "cell_type": "code",
   "execution_count": 283,
   "metadata": {
    "ExecuteTime": {
     "end_time": "2017-11-08T20:44:04.930538Z",
     "start_time": "2017-11-08T20:44:04.340127Z"
    }
   },
   "outputs": [
    {
     "data": {
      "text/plain": [
       "['tf_vectorizer.pkl']"
      ]
     },
     "execution_count": 283,
     "metadata": {},
     "output_type": "execute_result"
    }
   ],
   "source": [
    "# Save vectorizer for printing Top Words\n",
    "joblib.dump(tf_vectorizer, 'tf_vectorizer.pkl', protocol=2)"
   ]
  },
  {
   "cell_type": "code",
   "execution_count": 48,
   "metadata": {
    "ExecuteTime": {
     "end_time": "2017-11-05T18:23:59.614038Z",
     "start_time": "2017-11-05T18:23:53.137921Z"
    },
    "collapsed": true
   },
   "outputs": [],
   "source": [
    "# Count Vectorize Good and Bad\n",
    "# tf_good = tf_vectorizer.transform(good_r['stemmed2'])\n",
    "\n",
    "# tf_bad = tf_vectorizer.transform(bad_r['stemmed2'])\n"
   ]
  },
  {
   "cell_type": "code",
   "execution_count": 284,
   "metadata": {
    "ExecuteTime": {
     "end_time": "2017-11-08T20:44:12.113871Z",
     "start_time": "2017-11-08T20:44:12.058402Z"
    }
   },
   "outputs": [
    {
     "data": {
      "text/plain": [
       "['tf.pkl']"
      ]
     },
     "execution_count": 284,
     "metadata": {},
     "output_type": "execute_result"
    }
   ],
   "source": [
    "# save vectorized versions\n",
    "joblib.dump(tf, 'tf.pkl', protocol=2)\n",
    "\n",
    "# joblib.dump(tf_good, 'tf_good.pkl')\n",
    "# joblib.dump(tf_bad, 'tf_bad.pkl')"
   ]
  },
  {
   "cell_type": "markdown",
   "metadata": {},
   "source": [
    "### Start LDA - All"
   ]
  },
  {
   "cell_type": "code",
   "execution_count": 72,
   "metadata": {
    "ExecuteTime": {
     "end_time": "2017-11-08T01:03:07.195871Z",
     "start_time": "2017-11-08T01:03:07.184880Z"
    },
    "collapsed": true
   },
   "outputs": [],
   "source": [
    "no_topics = 12\n",
    "no_top_words = 10\n",
    "\n",
    "LDA_cols = ['LDA_' + str(i) for i in range(1, no_topics + 1)]\n",
    "\n",
    "lda_all = LatentDirichletAllocation(n_components = no_topics, max_iter = 5, learning_method='online',\n",
    "                                learning_offset = 50., random_state = 10)\n",
    "\n",
    "# lda_g = LatentDirichletAllocation(n_components = no_topics, max_iter = 5, learning_method='online',\n",
    "#                                 learning_offset = 50., random_state = 10)\n",
    "\n",
    "# lda_b = LatentDirichletAllocation(n_components = no_topics, max_iter = 5, learning_method='online',\n",
    "#                                 learning_offset = 50., random_state = 10)\n"
   ]
  },
  {
   "cell_type": "code",
   "execution_count": 73,
   "metadata": {
    "ExecuteTime": {
     "end_time": "2017-11-08T01:05:50.615148Z",
     "start_time": "2017-11-08T01:03:11.005213Z"
    },
    "collapsed": true
   },
   "outputs": [],
   "source": [
    "# Fitting - this takes long\n",
    "lda_fit = lda_all.fit(tf)"
   ]
  },
  {
   "cell_type": "markdown",
   "metadata": {},
   "source": [
    "Save below when satisfied"
   ]
  },
  {
   "cell_type": "code",
   "execution_count": 282,
   "metadata": {
    "ExecuteTime": {
     "end_time": "2017-11-08T20:42:32.483365Z",
     "start_time": "2017-11-08T20:42:32.441622Z"
    }
   },
   "outputs": [
    {
     "data": {
      "text/plain": [
       "['lda_fit.pkl']"
      ]
     },
     "execution_count": 282,
     "metadata": {},
     "output_type": "execute_result"
    }
   ],
   "source": [
    "# save fit\n",
    "joblib.dump(lda_all, 'lda_all.pkl', protocol=2)\n",
    "joblib.dump(lda_fit, 'lda_fit.pkl', protocol=2)\n"
   ]
  },
  {
   "cell_type": "code",
   "execution_count": 74,
   "metadata": {
    "ExecuteTime": {
     "end_time": "2017-11-08T01:06:08.877646Z",
     "start_time": "2017-11-08T01:05:53.852003Z"
    },
    "collapsed": true
   },
   "outputs": [],
   "source": [
    "# Create a DF with LDA cols\n",
    "lda_x = pd.DataFrame(lda_all.transform(tf), columns = LDA_cols)\n",
    "lda_x['Max_LDA'] = lda_x.idxmax(axis=1)\n",
    "\n",
    "# First merge back to original df\n",
    "review_LDA = pd.merge(reviews_sent_token_mny, lda_x, how='inner', left_index = True, right_index = True)"
   ]
  },
  {
   "cell_type": "code",
   "execution_count": 75,
   "metadata": {
    "ExecuteTime": {
     "end_time": "2017-11-08T01:06:12.000321Z",
     "start_time": "2017-11-08T01:06:11.992442Z"
    }
   },
   "outputs": [
    {
     "data": {
      "text/plain": [
       "0                                 Meatballs in a cone.\n",
       "1                          That is the reason we came.\n",
       "2                          Nothing more, nothing less.\n",
       "3                                 A man, on a mission.\n",
       "4                I walked in and the staff was lovely.\n",
       "5            They said take your time and look around.\n",
       "6                     I told them, I know what I want.\n",
       "7    Our eyes lock and they knew what I was there f...\n",
       "8                                      Just kidding...\n",
       "9                    I had to tell them what I wanted.\n",
       "Name: sentence, dtype: object"
      ]
     },
     "execution_count": 75,
     "metadata": {},
     "output_type": "execute_result"
    }
   ],
   "source": [
    "review_LDA['sentence'].head(10)"
   ]
  },
  {
   "cell_type": "code",
   "execution_count": 76,
   "metadata": {
    "ExecuteTime": {
     "end_time": "2017-11-08T01:06:15.126715Z",
     "start_time": "2017-11-08T01:06:15.074799Z"
    }
   },
   "outputs": [
    {
     "data": {
      "text/html": [
       "<div>\n",
       "<style>\n",
       "    .dataframe thead tr:only-child th {\n",
       "        text-align: right;\n",
       "    }\n",
       "\n",
       "    .dataframe thead th {\n",
       "        text-align: left;\n",
       "    }\n",
       "\n",
       "    .dataframe tbody tr th {\n",
       "        vertical-align: top;\n",
       "    }\n",
       "</style>\n",
       "<table border=\"1\" class=\"dataframe\">\n",
       "  <thead>\n",
       "    <tr style=\"text-align: right;\">\n",
       "      <th></th>\n",
       "      <th>LDA_1</th>\n",
       "      <th>LDA_2</th>\n",
       "      <th>LDA_3</th>\n",
       "      <th>LDA_4</th>\n",
       "      <th>LDA_5</th>\n",
       "      <th>LDA_6</th>\n",
       "      <th>LDA_7</th>\n",
       "      <th>LDA_8</th>\n",
       "      <th>LDA_9</th>\n",
       "      <th>LDA_10</th>\n",
       "      <th>LDA_11</th>\n",
       "      <th>LDA_12</th>\n",
       "      <th>Max_LDA</th>\n",
       "    </tr>\n",
       "  </thead>\n",
       "  <tbody>\n",
       "    <tr>\n",
       "      <th>0</th>\n",
       "      <td>0.027778</td>\n",
       "      <td>0.027778</td>\n",
       "      <td>0.027778</td>\n",
       "      <td>0.027778</td>\n",
       "      <td>0.027778</td>\n",
       "      <td>0.027778</td>\n",
       "      <td>0.694444</td>\n",
       "      <td>0.027778</td>\n",
       "      <td>0.027778</td>\n",
       "      <td>0.027778</td>\n",
       "      <td>0.027778</td>\n",
       "      <td>0.027778</td>\n",
       "      <td>LDA_7</td>\n",
       "    </tr>\n",
       "    <tr>\n",
       "      <th>1</th>\n",
       "      <td>0.027778</td>\n",
       "      <td>0.027778</td>\n",
       "      <td>0.027778</td>\n",
       "      <td>0.027778</td>\n",
       "      <td>0.027778</td>\n",
       "      <td>0.027778</td>\n",
       "      <td>0.027778</td>\n",
       "      <td>0.027778</td>\n",
       "      <td>0.361111</td>\n",
       "      <td>0.361111</td>\n",
       "      <td>0.027778</td>\n",
       "      <td>0.027778</td>\n",
       "      <td>LDA_10</td>\n",
       "    </tr>\n",
       "    <tr>\n",
       "      <th>2</th>\n",
       "      <td>0.027778</td>\n",
       "      <td>0.027778</td>\n",
       "      <td>0.027778</td>\n",
       "      <td>0.027778</td>\n",
       "      <td>0.694444</td>\n",
       "      <td>0.027778</td>\n",
       "      <td>0.027778</td>\n",
       "      <td>0.027778</td>\n",
       "      <td>0.027778</td>\n",
       "      <td>0.027778</td>\n",
       "      <td>0.027778</td>\n",
       "      <td>0.027778</td>\n",
       "      <td>LDA_5</td>\n",
       "    </tr>\n",
       "    <tr>\n",
       "      <th>3</th>\n",
       "      <td>0.027778</td>\n",
       "      <td>0.027778</td>\n",
       "      <td>0.027778</td>\n",
       "      <td>0.027778</td>\n",
       "      <td>0.694444</td>\n",
       "      <td>0.027778</td>\n",
       "      <td>0.027778</td>\n",
       "      <td>0.027778</td>\n",
       "      <td>0.027778</td>\n",
       "      <td>0.027778</td>\n",
       "      <td>0.027778</td>\n",
       "      <td>0.027778</td>\n",
       "      <td>LDA_5</td>\n",
       "    </tr>\n",
       "    <tr>\n",
       "      <th>4</th>\n",
       "      <td>0.020833</td>\n",
       "      <td>0.520833</td>\n",
       "      <td>0.020833</td>\n",
       "      <td>0.020834</td>\n",
       "      <td>0.020833</td>\n",
       "      <td>0.020833</td>\n",
       "      <td>0.020833</td>\n",
       "      <td>0.020833</td>\n",
       "      <td>0.020833</td>\n",
       "      <td>0.270833</td>\n",
       "      <td>0.020833</td>\n",
       "      <td>0.020833</td>\n",
       "      <td>LDA_2</td>\n",
       "    </tr>\n",
       "    <tr>\n",
       "      <th>5</th>\n",
       "      <td>0.270833</td>\n",
       "      <td>0.020834</td>\n",
       "      <td>0.020833</td>\n",
       "      <td>0.020834</td>\n",
       "      <td>0.020833</td>\n",
       "      <td>0.520833</td>\n",
       "      <td>0.020833</td>\n",
       "      <td>0.020833</td>\n",
       "      <td>0.020833</td>\n",
       "      <td>0.020833</td>\n",
       "      <td>0.020833</td>\n",
       "      <td>0.020833</td>\n",
       "      <td>LDA_6</td>\n",
       "    </tr>\n",
       "    <tr>\n",
       "      <th>6</th>\n",
       "      <td>0.020833</td>\n",
       "      <td>0.270833</td>\n",
       "      <td>0.020833</td>\n",
       "      <td>0.270833</td>\n",
       "      <td>0.020833</td>\n",
       "      <td>0.020833</td>\n",
       "      <td>0.020833</td>\n",
       "      <td>0.020833</td>\n",
       "      <td>0.020833</td>\n",
       "      <td>0.020833</td>\n",
       "      <td>0.020833</td>\n",
       "      <td>0.270833</td>\n",
       "      <td>LDA_12</td>\n",
       "    </tr>\n",
       "    <tr>\n",
       "      <th>7</th>\n",
       "      <td>0.020833</td>\n",
       "      <td>0.020833</td>\n",
       "      <td>0.020833</td>\n",
       "      <td>0.020833</td>\n",
       "      <td>0.770833</td>\n",
       "      <td>0.020833</td>\n",
       "      <td>0.020833</td>\n",
       "      <td>0.020833</td>\n",
       "      <td>0.020833</td>\n",
       "      <td>0.020833</td>\n",
       "      <td>0.020833</td>\n",
       "      <td>0.020833</td>\n",
       "      <td>LDA_5</td>\n",
       "    </tr>\n",
       "    <tr>\n",
       "      <th>8</th>\n",
       "      <td>0.027778</td>\n",
       "      <td>0.027778</td>\n",
       "      <td>0.027778</td>\n",
       "      <td>0.027778</td>\n",
       "      <td>0.027778</td>\n",
       "      <td>0.027778</td>\n",
       "      <td>0.027778</td>\n",
       "      <td>0.694444</td>\n",
       "      <td>0.027778</td>\n",
       "      <td>0.027778</td>\n",
       "      <td>0.027778</td>\n",
       "      <td>0.027778</td>\n",
       "      <td>LDA_8</td>\n",
       "    </tr>\n",
       "    <tr>\n",
       "      <th>9</th>\n",
       "      <td>0.027778</td>\n",
       "      <td>0.027778</td>\n",
       "      <td>0.027778</td>\n",
       "      <td>0.694444</td>\n",
       "      <td>0.027778</td>\n",
       "      <td>0.027778</td>\n",
       "      <td>0.027778</td>\n",
       "      <td>0.027778</td>\n",
       "      <td>0.027778</td>\n",
       "      <td>0.027778</td>\n",
       "      <td>0.027778</td>\n",
       "      <td>0.027778</td>\n",
       "      <td>LDA_4</td>\n",
       "    </tr>\n",
       "  </tbody>\n",
       "</table>\n",
       "</div>"
      ],
      "text/plain": [
       "      LDA_1     LDA_2     LDA_3     LDA_4     LDA_5     LDA_6     LDA_7  \\\n",
       "0  0.027778  0.027778  0.027778  0.027778  0.027778  0.027778  0.694444   \n",
       "1  0.027778  0.027778  0.027778  0.027778  0.027778  0.027778  0.027778   \n",
       "2  0.027778  0.027778  0.027778  0.027778  0.694444  0.027778  0.027778   \n",
       "3  0.027778  0.027778  0.027778  0.027778  0.694444  0.027778  0.027778   \n",
       "4  0.020833  0.520833  0.020833  0.020834  0.020833  0.020833  0.020833   \n",
       "5  0.270833  0.020834  0.020833  0.020834  0.020833  0.520833  0.020833   \n",
       "6  0.020833  0.270833  0.020833  0.270833  0.020833  0.020833  0.020833   \n",
       "7  0.020833  0.020833  0.020833  0.020833  0.770833  0.020833  0.020833   \n",
       "8  0.027778  0.027778  0.027778  0.027778  0.027778  0.027778  0.027778   \n",
       "9  0.027778  0.027778  0.027778  0.694444  0.027778  0.027778  0.027778   \n",
       "\n",
       "      LDA_8     LDA_9    LDA_10    LDA_11    LDA_12 Max_LDA  \n",
       "0  0.027778  0.027778  0.027778  0.027778  0.027778   LDA_7  \n",
       "1  0.027778  0.361111  0.361111  0.027778  0.027778  LDA_10  \n",
       "2  0.027778  0.027778  0.027778  0.027778  0.027778   LDA_5  \n",
       "3  0.027778  0.027778  0.027778  0.027778  0.027778   LDA_5  \n",
       "4  0.020833  0.020833  0.270833  0.020833  0.020833   LDA_2  \n",
       "5  0.020833  0.020833  0.020833  0.020833  0.020833   LDA_6  \n",
       "6  0.020833  0.020833  0.020833  0.020833  0.270833  LDA_12  \n",
       "7  0.020833  0.020833  0.020833  0.020833  0.020833   LDA_5  \n",
       "8  0.694444  0.027778  0.027778  0.027778  0.027778   LDA_8  \n",
       "9  0.027778  0.027778  0.027778  0.027778  0.027778   LDA_4  "
      ]
     },
     "execution_count": 76,
     "metadata": {},
     "output_type": "execute_result"
    }
   ],
   "source": [
    "lda_x.head(10)"
   ]
  },
  {
   "cell_type": "code",
   "execution_count": 77,
   "metadata": {
    "ExecuteTime": {
     "end_time": "2017-11-08T01:06:18.352823Z",
     "start_time": "2017-11-08T01:06:18.277315Z"
    }
   },
   "outputs": [
    {
     "name": "stdout",
     "output_type": "stream",
     "text": [
      "Topic 1:\n",
      "like chees said serv meat sandwich start big offer beef potato person onc grill bite\n",
      "Topic 2:\n",
      "tabl love wait definit seat minut sweet just recommend work order open everi arriv time\n",
      "Topic 3:\n",
      "great night place meal bar portion spici howev doe wine worth group huge size pay\n",
      "Topic 4:\n",
      "come want tri make time went bit dinner day restaur sure someth busi feel took\n",
      "Topic 5:\n",
      "good food servic menu friend think price lunch better veri special decid noth mayb steak\n",
      "Topic 6:\n",
      "did look time ask say alway like drink bad end actual waitress fish probabl let\n",
      "Topic 7:\n",
      "place review locat bread need new rice check tri option hot coffe hard choic finish\n",
      "Topic 8:\n",
      "just thing dish tast dessert like pork ani soup year fresh favorit qualiti breakfast bacon\n",
      "Topic 9:\n",
      "perfect way cook anoth hour everyth tasti use happi ca reason dine insid quick patio\n",
      "Topic 10:\n",
      "order veri came littl experi enjoy small amaz staff server food disappoint visit appet item\n",
      "Topic 11:\n",
      "realli onli becaus good pretti food flavor star like peopl befor sushi servic overal quit\n",
      "Topic 12:\n",
      "got best know nice eat delici roll differ lot egg expect custom atmospher awesom hous\n"
     ]
    }
   ],
   "source": [
    "#display_topics(nmf, tfidf_feature_names, no_top_words)\n",
    "display_topics(lda_fit, tf_feature_names, no_top_words = 15)\n"
   ]
  },
  {
   "cell_type": "markdown",
   "metadata": {},
   "source": [
    "### Aggregate LDA Weights"
   ]
  },
  {
   "cell_type": "code",
   "execution_count": 111,
   "metadata": {
    "ExecuteTime": {
     "end_time": "2017-11-08T01:25:35.014334Z",
     "start_time": "2017-11-08T01:25:35.009206Z"
    }
   },
   "outputs": [
    {
     "data": {
      "text/plain": [
       "Index(['review_id', 'sent_cnt', 'LDA_1', 'LDA_2', 'LDA_3', 'LDA_4', 'LDA_5',\n",
       "       'LDA_6', 'LDA_7', 'LDA_8', 'LDA_9', 'LDA_10', 'LDA_11', 'LDA_12'],\n",
       "      dtype='object')"
      ]
     },
     "execution_count": 111,
     "metadata": {},
     "output_type": "execute_result"
    }
   ],
   "source": [
    "review_LDA_agg.columns"
   ]
  },
  {
   "cell_type": "code",
   "execution_count": 308,
   "metadata": {
    "ExecuteTime": {
     "end_time": "2017-11-09T22:36:52.242864Z",
     "start_time": "2017-11-09T22:36:52.237048Z"
    }
   },
   "outputs": [
    {
     "data": {
      "text/plain": [
       "Index(['user_id', 'user_rvw_cnt', 'business_id', 'name', 'categories',\n",
       "       'attributes', 'stars', 'review_count', 'city', 'state', 'postal_code',\n",
       "       'latitude', 'longitude', 'categories2', 'name_cnt', 'Sushi', 'Pizza',\n",
       "       'Restaurants', 'Cat_Flag', 'cool', 'date', 'funny', 'review_id',\n",
       "       'user_stars', 'review_txt', 'useful', 'yelping_since', 'first_yr_elite',\n",
       "       'elite_prior', 'sent_token', 'sentence', 'sent_cnt', 'polarity',\n",
       "       'stemmed2', 'LDA_1', 'LDA_2', 'LDA_3', 'LDA_4', 'LDA_5', 'LDA_6',\n",
       "       'LDA_7', 'LDA_8', 'LDA_9', 'LDA_10', 'LDA_11', 'LDA_12', 'Max_LDA',\n",
       "       'useful_flag', 'funny_flag', 'cool_flag'],\n",
       "      dtype='object')"
      ]
     },
     "execution_count": 308,
     "metadata": {},
     "output_type": "execute_result"
    }
   ],
   "source": [
    "review_LDA.columns"
   ]
  },
  {
   "cell_type": "code",
   "execution_count": 309,
   "metadata": {
    "ExecuteTime": {
     "end_time": "2017-11-09T22:38:15.416448Z",
     "start_time": "2017-11-09T22:38:13.905319Z"
    },
    "collapsed": true
   },
   "outputs": [],
   "source": [
    "review_LDA.to_pickle('data/review_LDA.pkl')"
   ]
  },
  {
   "cell_type": "code",
   "execution_count": 78,
   "metadata": {
    "ExecuteTime": {
     "end_time": "2017-11-08T01:10:47.181089Z",
     "start_time": "2017-11-08T01:10:46.673431Z"
    },
    "collapsed": true,
    "scrolled": false
   },
   "outputs": [],
   "source": [
    "# Aggregate LDA\n",
    "review_LDA_agg = review_LDA.groupby('review_id').mean().reset_index()[['review_id'] + ['sent_cnt'] + LDA_cols]\n"
   ]
  },
  {
   "cell_type": "code",
   "execution_count": 117,
   "metadata": {
    "ExecuteTime": {
     "end_time": "2017-11-08T01:41:25.345876Z",
     "start_time": "2017-11-08T01:41:25.173471Z"
    }
   },
   "outputs": [],
   "source": [
    "# Aggregate Polarity\n",
    "review_agg_pol = reviews_sent_token_mny.groupby('review_id').mean().reset_index()[['review_id'] + ['polarity']]"
   ]
  },
  {
   "cell_type": "code",
   "execution_count": 118,
   "metadata": {
    "ExecuteTime": {
     "end_time": "2017-11-08T01:42:57.578838Z",
     "start_time": "2017-11-08T01:42:57.377387Z"
    }
   },
   "outputs": [],
   "source": [
    "# Merge Aggregated LDA and Agg Polarity\n",
    "bus_review_LDA_mny = bus_review_small_mny.set_index('review_id').join(review_LDA_agg.set_index('review_id'), how='inner')\n",
    "bus_review_LDA_mny.reset_index(inplace=True)\n",
    "\n",
    "bus_review_LDA_mny_pol = bus_review_LDA_mny.set_index('review_id').join(review_agg_pol.set_index('review_id'), how='inner')\n",
    "bus_review_LDA_mny_pol.reset_index(inplace=True)\n"
   ]
  },
  {
   "cell_type": "code",
   "execution_count": 119,
   "metadata": {
    "ExecuteTime": {
     "end_time": "2017-11-08T01:43:01.593572Z",
     "start_time": "2017-11-08T01:43:01.586916Z"
    }
   },
   "outputs": [
    {
     "data": {
      "text/plain": [
       "Index(['review_id', 'user_id', 'user_rvw_cnt', 'business_id', 'name',\n",
       "       'categories', 'attributes', 'stars', 'review_count', 'city', 'state',\n",
       "       'postal_code', 'latitude', 'longitude', 'categories2', 'name_cnt',\n",
       "       'Sushi', 'Pizza', 'Restaurants', 'Cat_Flag', 'cool', 'date', 'funny',\n",
       "       'user_stars', 'review_txt', 'useful', 'yelping_since', 'first_yr_elite',\n",
       "       'elite_prior', 'sent_cnt', 'LDA_1', 'LDA_2', 'LDA_3', 'LDA_4', 'LDA_5',\n",
       "       'LDA_6', 'LDA_7', 'LDA_8', 'LDA_9', 'LDA_10', 'LDA_11', 'LDA_12',\n",
       "       'polarity'],\n",
       "      dtype='object')"
      ]
     },
     "execution_count": 119,
     "metadata": {},
     "output_type": "execute_result"
    }
   ],
   "source": [
    "bus_review_LDA_mny_pol.columns"
   ]
  },
  {
   "cell_type": "code",
   "execution_count": 644,
   "metadata": {
    "ExecuteTime": {
     "end_time": "2017-11-07T22:01:19.387415Z",
     "start_time": "2017-11-07T22:01:19.380774Z"
    },
    "collapsed": true
   },
   "outputs": [],
   "source": [
    "# bus_review_small.loc[bus_review_small['review_id'] == 'DBFkxzPlSx0VBLdCGWPXpA']['review_txt']\n",
    "# review_txt name polarity review_txt review_id DBFkxzPlSx0VBLdCGWPXpA Max_LDA"
   ]
  },
  {
   "cell_type": "code",
   "execution_count": 82,
   "metadata": {
    "ExecuteTime": {
     "end_time": "2017-11-08T01:12:21.318906Z",
     "start_time": "2017-11-08T01:12:21.312556Z"
    }
   },
   "outputs": [
    {
     "data": {
      "text/plain": [
       "Index(['user_id', 'user_rvw_cnt', 'business_id', 'name', 'categories',\n",
       "       'attributes', 'stars', 'review_count', 'city', 'state', 'postal_code',\n",
       "       'latitude', 'longitude', 'categories2', 'name_cnt', 'Sushi', 'Pizza',\n",
       "       'Restaurants', 'Cat_Flag', 'cool', 'date', 'funny', 'review_id',\n",
       "       'user_stars', 'review_txt', 'useful', 'yelping_since', 'first_yr_elite',\n",
       "       'elite_prior', 'sent_token', 'sentence', 'sent_cnt', 'polarity',\n",
       "       'stemmed2', 'LDA_1', 'LDA_2', 'LDA_3', 'LDA_4', 'LDA_5', 'LDA_6',\n",
       "       'LDA_7', 'LDA_8', 'LDA_9', 'LDA_10', 'LDA_11', 'LDA_12', 'Max_LDA'],\n",
       "      dtype='object')"
      ]
     },
     "execution_count": 82,
     "metadata": {},
     "output_type": "execute_result"
    }
   ],
   "source": [
    "review_LDA.columns"
   ]
  },
  {
   "cell_type": "code",
   "execution_count": 84,
   "metadata": {
    "ExecuteTime": {
     "end_time": "2017-11-08T01:12:30.436320Z",
     "start_time": "2017-11-08T01:12:30.428712Z"
    }
   },
   "outputs": [
    {
     "data": {
      "text/plain": [
       "348495    LdvZmKFR4wk_fbP9dPiREw\n",
       "5872      m8ln3p3ZaPkr05JtJ6M0Ug\n",
       "47283     MW3Aa0xYLg9ZZzpsP-0ipQ\n",
       "68825     H-lonjG5lZMl2a3EvfUftQ\n",
       "230951    uGt-XNof0vt7dHUvhblfuQ\n",
       "Name: review_id, dtype: object"
      ]
     },
     "execution_count": 84,
     "metadata": {},
     "output_type": "execute_result"
    }
   ],
   "source": [
    "bus_review_small_mny.iloc[:5]['review_id']"
   ]
  },
  {
   "cell_type": "code",
   "execution_count": 360,
   "metadata": {
    "ExecuteTime": {
     "end_time": "2017-11-06T21:04:40.034806Z",
     "start_time": "2017-11-06T21:04:40.026404Z"
    }
   },
   "outputs": [
    {
     "data": {
      "text/plain": [
       "50"
      ]
     },
     "execution_count": 360,
     "metadata": {},
     "output_type": "execute_result"
    }
   ],
   "source": [
    "pd.options.display.max_colwidth\n",
    "\n",
    "# 69suGHxR3PVxicAgmUlhzA"
   ]
  },
  {
   "cell_type": "code",
   "execution_count": 85,
   "metadata": {
    "ExecuteTime": {
     "end_time": "2017-11-08T01:12:39.962423Z",
     "start_time": "2017-11-08T01:12:39.889476Z"
    },
    "scrolled": true
   },
   "outputs": [
    {
     "data": {
      "text/html": [
       "<div>\n",
       "<style>\n",
       "    .dataframe thead tr:only-child th {\n",
       "        text-align: right;\n",
       "    }\n",
       "\n",
       "    .dataframe thead th {\n",
       "        text-align: left;\n",
       "    }\n",
       "\n",
       "    .dataframe tbody tr th {\n",
       "        vertical-align: top;\n",
       "    }\n",
       "</style>\n",
       "<table border=\"1\" class=\"dataframe\">\n",
       "  <thead>\n",
       "    <tr style=\"text-align: right;\">\n",
       "      <th></th>\n",
       "      <th>review_id</th>\n",
       "      <th>user_stars</th>\n",
       "      <th>useful</th>\n",
       "      <th>funny</th>\n",
       "    </tr>\n",
       "  </thead>\n",
       "  <tbody>\n",
       "    <tr>\n",
       "      <th>43625</th>\n",
       "      <td>QovoEUcs34yvCCm5u92Rww</td>\n",
       "      <td>1</td>\n",
       "      <td>155.0</td>\n",
       "      <td>18.0</td>\n",
       "    </tr>\n",
       "    <tr>\n",
       "      <th>31287</th>\n",
       "      <td>D45Y8tOIR5NQ8lkPvl5BRA</td>\n",
       "      <td>3</td>\n",
       "      <td>133.0</td>\n",
       "      <td>145.0</td>\n",
       "    </tr>\n",
       "    <tr>\n",
       "      <th>153126</th>\n",
       "      <td>fIZsEjwiHeIVMVDbiUkNFA</td>\n",
       "      <td>1</td>\n",
       "      <td>92.0</td>\n",
       "      <td>33.0</td>\n",
       "    </tr>\n",
       "    <tr>\n",
       "      <th>651187</th>\n",
       "      <td>1Zhfk21ia7GWBj8tDqdHxw</td>\n",
       "      <td>4</td>\n",
       "      <td>87.0</td>\n",
       "      <td>68.0</td>\n",
       "    </tr>\n",
       "    <tr>\n",
       "      <th>275069</th>\n",
       "      <td>wowsIp9_KdLjcM88EI0ArA</td>\n",
       "      <td>1</td>\n",
       "      <td>79.0</td>\n",
       "      <td>13.0</td>\n",
       "    </tr>\n",
       "    <tr>\n",
       "      <th>560798</th>\n",
       "      <td>jnwypFBjrDaL1XIttFb4Fg</td>\n",
       "      <td>1</td>\n",
       "      <td>73.0</td>\n",
       "      <td>14.0</td>\n",
       "    </tr>\n",
       "    <tr>\n",
       "      <th>651180</th>\n",
       "      <td>mKet63rigUFJsC3N27Fdng</td>\n",
       "      <td>4</td>\n",
       "      <td>67.0</td>\n",
       "      <td>58.0</td>\n",
       "    </tr>\n",
       "    <tr>\n",
       "      <th>582021</th>\n",
       "      <td>WoFULsgUMf3e1-0Q1euzvw</td>\n",
       "      <td>1</td>\n",
       "      <td>60.0</td>\n",
       "      <td>45.0</td>\n",
       "    </tr>\n",
       "    <tr>\n",
       "      <th>651196</th>\n",
       "      <td>Y88af2FSebo58pXeL7hlgA</td>\n",
       "      <td>5</td>\n",
       "      <td>56.0</td>\n",
       "      <td>46.0</td>\n",
       "    </tr>\n",
       "    <tr>\n",
       "      <th>165905</th>\n",
       "      <td>VuEhuOaTjpyf84nF11JKyg</td>\n",
       "      <td>5</td>\n",
       "      <td>50.0</td>\n",
       "      <td>22.0</td>\n",
       "    </tr>\n",
       "    <tr>\n",
       "      <th>582022</th>\n",
       "      <td>s3X4-9c8cgmtLlmhVTsOag</td>\n",
       "      <td>5</td>\n",
       "      <td>47.0</td>\n",
       "      <td>33.0</td>\n",
       "    </tr>\n",
       "    <tr>\n",
       "      <th>218890</th>\n",
       "      <td>Z-_KjY9k8mOB97tNFgwEMg</td>\n",
       "      <td>4</td>\n",
       "      <td>45.0</td>\n",
       "      <td>0.0</td>\n",
       "    </tr>\n",
       "    <tr>\n",
       "      <th>328162</th>\n",
       "      <td>4zES7MtNZS3tJAoQ6hYWbQ</td>\n",
       "      <td>5</td>\n",
       "      <td>44.0</td>\n",
       "      <td>31.0</td>\n",
       "    </tr>\n",
       "    <tr>\n",
       "      <th>559647</th>\n",
       "      <td>njJ4Ad7Vv7tHSYLZpR9vcw</td>\n",
       "      <td>4</td>\n",
       "      <td>42.0</td>\n",
       "      <td>41.0</td>\n",
       "    </tr>\n",
       "    <tr>\n",
       "      <th>128587</th>\n",
       "      <td>hKxjOq0hAaGDycorYFuDVw</td>\n",
       "      <td>4</td>\n",
       "      <td>42.0</td>\n",
       "      <td>29.0</td>\n",
       "    </tr>\n",
       "    <tr>\n",
       "      <th>717464</th>\n",
       "      <td>639dORyBRumKB1qScufR7w</td>\n",
       "      <td>5</td>\n",
       "      <td>42.0</td>\n",
       "      <td>28.0</td>\n",
       "    </tr>\n",
       "    <tr>\n",
       "      <th>582016</th>\n",
       "      <td>udyt7S4z-hr3dHamP6fO1w</td>\n",
       "      <td>4</td>\n",
       "      <td>41.0</td>\n",
       "      <td>27.0</td>\n",
       "    </tr>\n",
       "    <tr>\n",
       "      <th>736433</th>\n",
       "      <td>gcW-NTQbYA-o_tjfz49n6A</td>\n",
       "      <td>4</td>\n",
       "      <td>40.0</td>\n",
       "      <td>39.0</td>\n",
       "    </tr>\n",
       "    <tr>\n",
       "      <th>736382</th>\n",
       "      <td>ncIgB-3V1Spe2RRPNASteQ</td>\n",
       "      <td>2</td>\n",
       "      <td>40.0</td>\n",
       "      <td>42.0</td>\n",
       "    </tr>\n",
       "    <tr>\n",
       "      <th>216731</th>\n",
       "      <td>kPdndTNqb7lARHauPiVO5A</td>\n",
       "      <td>5</td>\n",
       "      <td>38.0</td>\n",
       "      <td>34.0</td>\n",
       "    </tr>\n",
       "    <tr>\n",
       "      <th>205078</th>\n",
       "      <td>OfGV9G0TruKWi0t4wB2YiA</td>\n",
       "      <td>5</td>\n",
       "      <td>37.0</td>\n",
       "      <td>17.0</td>\n",
       "    </tr>\n",
       "    <tr>\n",
       "      <th>20143</th>\n",
       "      <td>8HcQ7sc7RjTV3J28gYGkvw</td>\n",
       "      <td>2</td>\n",
       "      <td>37.0</td>\n",
       "      <td>23.0</td>\n",
       "    </tr>\n",
       "    <tr>\n",
       "      <th>741172</th>\n",
       "      <td>GkcNZHKJ4YdWlmoh7ScTgg</td>\n",
       "      <td>4</td>\n",
       "      <td>35.0</td>\n",
       "      <td>29.0</td>\n",
       "    </tr>\n",
       "    <tr>\n",
       "      <th>231011</th>\n",
       "      <td>ockNdeR_0BNLc4wq6846ww</td>\n",
       "      <td>4</td>\n",
       "      <td>33.0</td>\n",
       "      <td>11.0</td>\n",
       "    </tr>\n",
       "    <tr>\n",
       "      <th>458479</th>\n",
       "      <td>DHqWs19iBmMHL5zyLaEt9Q</td>\n",
       "      <td>4</td>\n",
       "      <td>31.0</td>\n",
       "      <td>23.0</td>\n",
       "    </tr>\n",
       "    <tr>\n",
       "      <th>736586</th>\n",
       "      <td>etCnTTgfx37Tawk0Mb2gAA</td>\n",
       "      <td>4</td>\n",
       "      <td>30.0</td>\n",
       "      <td>25.0</td>\n",
       "    </tr>\n",
       "    <tr>\n",
       "      <th>78446</th>\n",
       "      <td>ke87GJPJpBjiahmcurkwLw</td>\n",
       "      <td>5</td>\n",
       "      <td>29.0</td>\n",
       "      <td>12.0</td>\n",
       "    </tr>\n",
       "    <tr>\n",
       "      <th>384026</th>\n",
       "      <td>i17MeneTjlbWsNMVBMc8yA</td>\n",
       "      <td>4</td>\n",
       "      <td>28.0</td>\n",
       "      <td>28.0</td>\n",
       "    </tr>\n",
       "    <tr>\n",
       "      <th>316263</th>\n",
       "      <td>3Wmu8XYhSdNveivSXI_eXQ</td>\n",
       "      <td>1</td>\n",
       "      <td>28.0</td>\n",
       "      <td>5.0</td>\n",
       "    </tr>\n",
       "    <tr>\n",
       "      <th>128520</th>\n",
       "      <td>8H2UU00--LS9sLNFl-ULxg</td>\n",
       "      <td>3</td>\n",
       "      <td>28.0</td>\n",
       "      <td>21.0</td>\n",
       "    </tr>\n",
       "    <tr>\n",
       "      <th>...</th>\n",
       "      <td>...</td>\n",
       "      <td>...</td>\n",
       "      <td>...</td>\n",
       "      <td>...</td>\n",
       "    </tr>\n",
       "    <tr>\n",
       "      <th>243944</th>\n",
       "      <td>UpiTIsQZvXKAt8EyG1P8Yw</td>\n",
       "      <td>5</td>\n",
       "      <td>0.0</td>\n",
       "      <td>0.0</td>\n",
       "    </tr>\n",
       "    <tr>\n",
       "      <th>334985</th>\n",
       "      <td>M-ZxVKx-dx8DnZM4Nj0aAQ</td>\n",
       "      <td>4</td>\n",
       "      <td>0.0</td>\n",
       "      <td>0.0</td>\n",
       "    </tr>\n",
       "    <tr>\n",
       "      <th>623948</th>\n",
       "      <td>oA_ZrKQa9uSDZ-6BGupSIw</td>\n",
       "      <td>4</td>\n",
       "      <td>0.0</td>\n",
       "      <td>1.0</td>\n",
       "    </tr>\n",
       "    <tr>\n",
       "      <th>261051</th>\n",
       "      <td>FfP26MWk3XxHMsf_uFljnA</td>\n",
       "      <td>3</td>\n",
       "      <td>0.0</td>\n",
       "      <td>0.0</td>\n",
       "    </tr>\n",
       "    <tr>\n",
       "      <th>523300</th>\n",
       "      <td>1mkq-N7SDKq1Rx3hGTxybg</td>\n",
       "      <td>5</td>\n",
       "      <td>0.0</td>\n",
       "      <td>0.0</td>\n",
       "    </tr>\n",
       "    <tr>\n",
       "      <th>71258</th>\n",
       "      <td>4SxrOPy-e4JuPq4gYapOzQ</td>\n",
       "      <td>5</td>\n",
       "      <td>0.0</td>\n",
       "      <td>0.0</td>\n",
       "    </tr>\n",
       "    <tr>\n",
       "      <th>698685</th>\n",
       "      <td>t6fnaGLv8Qmd4VMZTumIMA</td>\n",
       "      <td>4</td>\n",
       "      <td>0.0</td>\n",
       "      <td>0.0</td>\n",
       "    </tr>\n",
       "    <tr>\n",
       "      <th>667291</th>\n",
       "      <td>B9p6mV7Zn2OeBnte24JPGA</td>\n",
       "      <td>5</td>\n",
       "      <td>0.0</td>\n",
       "      <td>0.0</td>\n",
       "    </tr>\n",
       "    <tr>\n",
       "      <th>175819</th>\n",
       "      <td>Vy-LzKNIz-t5uSolTytxcw</td>\n",
       "      <td>5</td>\n",
       "      <td>0.0</td>\n",
       "      <td>0.0</td>\n",
       "    </tr>\n",
       "    <tr>\n",
       "      <th>318981</th>\n",
       "      <td>1JEsbmfRleUF2qpq9nOb1g</td>\n",
       "      <td>4</td>\n",
       "      <td>0.0</td>\n",
       "      <td>0.0</td>\n",
       "    </tr>\n",
       "    <tr>\n",
       "      <th>427908</th>\n",
       "      <td>EAaF--ZDa5n2Hu1OXjPFqg</td>\n",
       "      <td>4</td>\n",
       "      <td>0.0</td>\n",
       "      <td>0.0</td>\n",
       "    </tr>\n",
       "    <tr>\n",
       "      <th>1868</th>\n",
       "      <td>FsTERiu_q_sao44BjBJFng</td>\n",
       "      <td>2</td>\n",
       "      <td>0.0</td>\n",
       "      <td>0.0</td>\n",
       "    </tr>\n",
       "    <tr>\n",
       "      <th>362911</th>\n",
       "      <td>c-nNUcADgpGEnIWBZ1MW2w</td>\n",
       "      <td>4</td>\n",
       "      <td>0.0</td>\n",
       "      <td>0.0</td>\n",
       "    </tr>\n",
       "    <tr>\n",
       "      <th>631937</th>\n",
       "      <td>kr-VsAkC6OmX6AG3T9710Q</td>\n",
       "      <td>3</td>\n",
       "      <td>0.0</td>\n",
       "      <td>0.0</td>\n",
       "    </tr>\n",
       "    <tr>\n",
       "      <th>183392</th>\n",
       "      <td>_3caJu1Xpi3yGsCe9E6aGA</td>\n",
       "      <td>4</td>\n",
       "      <td>0.0</td>\n",
       "      <td>0.0</td>\n",
       "    </tr>\n",
       "    <tr>\n",
       "      <th>309180</th>\n",
       "      <td>Tn6W-2HM_OVZGzceRJ5jTw</td>\n",
       "      <td>5</td>\n",
       "      <td>0.0</td>\n",
       "      <td>0.0</td>\n",
       "    </tr>\n",
       "    <tr>\n",
       "      <th>43859</th>\n",
       "      <td>ZdDzMel5iE3rs9L8STUtKg</td>\n",
       "      <td>3</td>\n",
       "      <td>0.0</td>\n",
       "      <td>1.0</td>\n",
       "    </tr>\n",
       "    <tr>\n",
       "      <th>692880</th>\n",
       "      <td>s97-k4c8DUvEI2WFlbnfMg</td>\n",
       "      <td>5</td>\n",
       "      <td>0.0</td>\n",
       "      <td>0.0</td>\n",
       "    </tr>\n",
       "    <tr>\n",
       "      <th>210272</th>\n",
       "      <td>SMcmRTOXKxk0OQyXW6w7PA</td>\n",
       "      <td>5</td>\n",
       "      <td>0.0</td>\n",
       "      <td>0.0</td>\n",
       "    </tr>\n",
       "    <tr>\n",
       "      <th>645091</th>\n",
       "      <td>xGgQ0m2dflARrESy43iZaw</td>\n",
       "      <td>5</td>\n",
       "      <td>0.0</td>\n",
       "      <td>0.0</td>\n",
       "    </tr>\n",
       "    <tr>\n",
       "      <th>277117</th>\n",
       "      <td>bsj6e-xaOCYaWcnp5DkZhQ</td>\n",
       "      <td>5</td>\n",
       "      <td>0.0</td>\n",
       "      <td>0.0</td>\n",
       "    </tr>\n",
       "    <tr>\n",
       "      <th>378233</th>\n",
       "      <td>Sb4OAAp8tpHIeuDmasvA7w</td>\n",
       "      <td>4</td>\n",
       "      <td>0.0</td>\n",
       "      <td>0.0</td>\n",
       "    </tr>\n",
       "    <tr>\n",
       "      <th>543263</th>\n",
       "      <td>kxRMvHDNnhbEdeLFgtApbA</td>\n",
       "      <td>5</td>\n",
       "      <td>0.0</td>\n",
       "      <td>0.0</td>\n",
       "    </tr>\n",
       "    <tr>\n",
       "      <th>288909</th>\n",
       "      <td>tZpCvFeDbyBdhIXk7ydRkg</td>\n",
       "      <td>4</td>\n",
       "      <td>0.0</td>\n",
       "      <td>0.0</td>\n",
       "    </tr>\n",
       "    <tr>\n",
       "      <th>697256</th>\n",
       "      <td>GsyVQH2fwsUTv00QEwUzRw</td>\n",
       "      <td>3</td>\n",
       "      <td>0.0</td>\n",
       "      <td>0.0</td>\n",
       "    </tr>\n",
       "    <tr>\n",
       "      <th>435660</th>\n",
       "      <td>ep_We5g-IuDIqOq6k2LXjw</td>\n",
       "      <td>5</td>\n",
       "      <td>0.0</td>\n",
       "      <td>0.0</td>\n",
       "    </tr>\n",
       "    <tr>\n",
       "      <th>369822</th>\n",
       "      <td>lotMkEpfzNuqLEDm0Nz6lA</td>\n",
       "      <td>3</td>\n",
       "      <td>0.0</td>\n",
       "      <td>0.0</td>\n",
       "    </tr>\n",
       "    <tr>\n",
       "      <th>449098</th>\n",
       "      <td>j2H3nhctE2Mreum9PMKQyw</td>\n",
       "      <td>5</td>\n",
       "      <td>0.0</td>\n",
       "      <td>0.0</td>\n",
       "    </tr>\n",
       "    <tr>\n",
       "      <th>505806</th>\n",
       "      <td>jb8FyP84Crd77AlyN9xDvw</td>\n",
       "      <td>2</td>\n",
       "      <td>0.0</td>\n",
       "      <td>0.0</td>\n",
       "    </tr>\n",
       "    <tr>\n",
       "      <th>744090</th>\n",
       "      <td>K2qtRkPmVMYIFnVNSFXNvg</td>\n",
       "      <td>5</td>\n",
       "      <td>0.0</td>\n",
       "      <td>0.0</td>\n",
       "    </tr>\n",
       "  </tbody>\n",
       "</table>\n",
       "<p>50000 rows × 4 columns</p>\n",
       "</div>"
      ],
      "text/plain": [
       "                     review_id user_stars  useful  funny\n",
       "43625   QovoEUcs34yvCCm5u92Rww          1   155.0   18.0\n",
       "31287   D45Y8tOIR5NQ8lkPvl5BRA          3   133.0  145.0\n",
       "153126  fIZsEjwiHeIVMVDbiUkNFA          1    92.0   33.0\n",
       "651187  1Zhfk21ia7GWBj8tDqdHxw          4    87.0   68.0\n",
       "275069  wowsIp9_KdLjcM88EI0ArA          1    79.0   13.0\n",
       "560798  jnwypFBjrDaL1XIttFb4Fg          1    73.0   14.0\n",
       "651180  mKet63rigUFJsC3N27Fdng          4    67.0   58.0\n",
       "582021  WoFULsgUMf3e1-0Q1euzvw          1    60.0   45.0\n",
       "651196  Y88af2FSebo58pXeL7hlgA          5    56.0   46.0\n",
       "165905  VuEhuOaTjpyf84nF11JKyg          5    50.0   22.0\n",
       "582022  s3X4-9c8cgmtLlmhVTsOag          5    47.0   33.0\n",
       "218890  Z-_KjY9k8mOB97tNFgwEMg          4    45.0    0.0\n",
       "328162  4zES7MtNZS3tJAoQ6hYWbQ          5    44.0   31.0\n",
       "559647  njJ4Ad7Vv7tHSYLZpR9vcw          4    42.0   41.0\n",
       "128587  hKxjOq0hAaGDycorYFuDVw          4    42.0   29.0\n",
       "717464  639dORyBRumKB1qScufR7w          5    42.0   28.0\n",
       "582016  udyt7S4z-hr3dHamP6fO1w          4    41.0   27.0\n",
       "736433  gcW-NTQbYA-o_tjfz49n6A          4    40.0   39.0\n",
       "736382  ncIgB-3V1Spe2RRPNASteQ          2    40.0   42.0\n",
       "216731  kPdndTNqb7lARHauPiVO5A          5    38.0   34.0\n",
       "205078  OfGV9G0TruKWi0t4wB2YiA          5    37.0   17.0\n",
       "20143   8HcQ7sc7RjTV3J28gYGkvw          2    37.0   23.0\n",
       "741172  GkcNZHKJ4YdWlmoh7ScTgg          4    35.0   29.0\n",
       "231011  ockNdeR_0BNLc4wq6846ww          4    33.0   11.0\n",
       "458479  DHqWs19iBmMHL5zyLaEt9Q          4    31.0   23.0\n",
       "736586  etCnTTgfx37Tawk0Mb2gAA          4    30.0   25.0\n",
       "78446   ke87GJPJpBjiahmcurkwLw          5    29.0   12.0\n",
       "384026  i17MeneTjlbWsNMVBMc8yA          4    28.0   28.0\n",
       "316263  3Wmu8XYhSdNveivSXI_eXQ          1    28.0    5.0\n",
       "128520  8H2UU00--LS9sLNFl-ULxg          3    28.0   21.0\n",
       "...                        ...        ...     ...    ...\n",
       "243944  UpiTIsQZvXKAt8EyG1P8Yw          5     0.0    0.0\n",
       "334985  M-ZxVKx-dx8DnZM4Nj0aAQ          4     0.0    0.0\n",
       "623948  oA_ZrKQa9uSDZ-6BGupSIw          4     0.0    1.0\n",
       "261051  FfP26MWk3XxHMsf_uFljnA          3     0.0    0.0\n",
       "523300  1mkq-N7SDKq1Rx3hGTxybg          5     0.0    0.0\n",
       "71258   4SxrOPy-e4JuPq4gYapOzQ          5     0.0    0.0\n",
       "698685  t6fnaGLv8Qmd4VMZTumIMA          4     0.0    0.0\n",
       "667291  B9p6mV7Zn2OeBnte24JPGA          5     0.0    0.0\n",
       "175819  Vy-LzKNIz-t5uSolTytxcw          5     0.0    0.0\n",
       "318981  1JEsbmfRleUF2qpq9nOb1g          4     0.0    0.0\n",
       "427908  EAaF--ZDa5n2Hu1OXjPFqg          4     0.0    0.0\n",
       "1868    FsTERiu_q_sao44BjBJFng          2     0.0    0.0\n",
       "362911  c-nNUcADgpGEnIWBZ1MW2w          4     0.0    0.0\n",
       "631937  kr-VsAkC6OmX6AG3T9710Q          3     0.0    0.0\n",
       "183392  _3caJu1Xpi3yGsCe9E6aGA          4     0.0    0.0\n",
       "309180  Tn6W-2HM_OVZGzceRJ5jTw          5     0.0    0.0\n",
       "43859   ZdDzMel5iE3rs9L8STUtKg          3     0.0    1.0\n",
       "692880  s97-k4c8DUvEI2WFlbnfMg          5     0.0    0.0\n",
       "210272  SMcmRTOXKxk0OQyXW6w7PA          5     0.0    0.0\n",
       "645091  xGgQ0m2dflARrESy43iZaw          5     0.0    0.0\n",
       "277117  bsj6e-xaOCYaWcnp5DkZhQ          5     0.0    0.0\n",
       "378233  Sb4OAAp8tpHIeuDmasvA7w          4     0.0    0.0\n",
       "543263  kxRMvHDNnhbEdeLFgtApbA          5     0.0    0.0\n",
       "288909  tZpCvFeDbyBdhIXk7ydRkg          4     0.0    0.0\n",
       "697256  GsyVQH2fwsUTv00QEwUzRw          3     0.0    0.0\n",
       "435660  ep_We5g-IuDIqOq6k2LXjw          5     0.0    0.0\n",
       "369822  lotMkEpfzNuqLEDm0Nz6lA          3     0.0    0.0\n",
       "449098  j2H3nhctE2Mreum9PMKQyw          5     0.0    0.0\n",
       "505806  jb8FyP84Crd77AlyN9xDvw          2     0.0    0.0\n",
       "744090  K2qtRkPmVMYIFnVNSFXNvg          5     0.0    0.0\n",
       "\n",
       "[50000 rows x 4 columns]"
      ]
     },
     "execution_count": 85,
     "metadata": {},
     "output_type": "execute_result"
    }
   ],
   "source": [
    "bus_review_small_mny.sort_values('useful', ascending = False)[['review_id', 'user_stars', 'useful', 'funny']]"
   ]
  },
  {
   "cell_type": "code",
   "execution_count": 88,
   "metadata": {
    "ExecuteTime": {
     "end_time": "2017-11-08T01:13:29.160276Z",
     "start_time": "2017-11-08T01:13:29.157378Z"
    }
   },
   "outputs": [],
   "source": [
    "# check_val = (bus_review_small.loc[bus_review_small['review_id'] == 'qP-Ie7_S0Dthv2QTKoAJ0g']['review_txt'])\n",
    "# check_val.iloc[0]"
   ]
  },
  {
   "cell_type": "code",
   "execution_count": 89,
   "metadata": {
    "ExecuteTime": {
     "end_time": "2017-11-08T01:13:52.242527Z",
     "start_time": "2017-11-08T01:13:52.170105Z"
    }
   },
   "outputs": [
    {
     "data": {
      "text/html": [
       "<div>\n",
       "<style>\n",
       "    .dataframe thead tr:only-child th {\n",
       "        text-align: right;\n",
       "    }\n",
       "\n",
       "    .dataframe thead th {\n",
       "        text-align: left;\n",
       "    }\n",
       "\n",
       "    .dataframe tbody tr th {\n",
       "        vertical-align: top;\n",
       "    }\n",
       "</style>\n",
       "<table border=\"1\" class=\"dataframe\">\n",
       "  <thead>\n",
       "    <tr style=\"text-align: right;\">\n",
       "      <th></th>\n",
       "      <th>sentence</th>\n",
       "      <th>Max_LDA</th>\n",
       "    </tr>\n",
       "  </thead>\n",
       "  <tbody>\n",
       "  </tbody>\n",
       "</table>\n",
       "</div>"
      ],
      "text/plain": [
       "Empty DataFrame\n",
       "Columns: [sentence, Max_LDA]\n",
       "Index: []"
      ]
     },
     "execution_count": 89,
     "metadata": {},
     "output_type": "execute_result"
    }
   ],
   "source": [
    "review_id_check = 'qP-Ie7_S0Dthv2QTKoAJ0g'\n",
    "\n",
    "check_val2= review_LDA.loc[(review_LDA['review_id'] == review_id_check)][['sentence', 'Max_LDA']]\n",
    "\n",
    "check_val3 = review_LDA.loc[(review_LDA['review_id'] == review_id_check) &\n",
    "                (review_LDA['Max_LDA'].isin(['LDA_1', 'LDA_4', 'LDA_10']))][['sentence', 'Max_LDA']]\n",
    "\n",
    "check_val3.iloc[:]"
   ]
  },
  {
   "cell_type": "code",
   "execution_count": null,
   "metadata": {
    "collapsed": true
   },
   "outputs": [],
   "source": []
  },
  {
   "cell_type": "code",
   "execution_count": 120,
   "metadata": {
    "ExecuteTime": {
     "end_time": "2017-11-08T01:44:17.983632Z",
     "start_time": "2017-11-08T01:44:17.771936Z"
    },
    "collapsed": true
   },
   "outputs": [],
   "source": [
    "bus_review_LDA_mny_pol.to_pickle('data/bus_review_LDA_mny_pol.pkl')"
   ]
  },
  {
   "cell_type": "code",
   "execution_count": 91,
   "metadata": {
    "ExecuteTime": {
     "end_time": "2017-11-08T01:14:09.231732Z",
     "start_time": "2017-11-08T01:14:09.218468Z"
    }
   },
   "outputs": [
    {
     "name": "stdout",
     "output_type": "stream",
     "text": [
      "Topic 1:\n",
      "like chees said serv meat sandwich start big offer beef potato person onc grill bite\n",
      "Topic 2:\n",
      "tabl love wait definit seat minut sweet just recommend work order open everi arriv time\n",
      "Topic 3:\n",
      "great night place meal bar portion spici howev doe wine worth group huge size pay\n",
      "Topic 4:\n",
      "come want tri make time went bit dinner day restaur sure someth busi feel took\n",
      "Topic 5:\n",
      "good food servic menu friend think price lunch better veri special decid noth mayb steak\n",
      "Topic 6:\n",
      "did look time ask say alway like drink bad end actual waitress fish probabl let\n",
      "Topic 7:\n",
      "place review locat bread need new rice check tri option hot coffe hard choic finish\n",
      "Topic 8:\n",
      "just thing dish tast dessert like pork ani soup year fresh favorit qualiti breakfast bacon\n",
      "Topic 9:\n",
      "perfect way cook anoth hour everyth tasti use happi ca reason dine insid quick patio\n",
      "Topic 10:\n",
      "order veri came littl experi enjoy small amaz staff server food disappoint visit appet item\n",
      "Topic 11:\n",
      "realli onli becaus good pretti food flavor star like peopl befor sushi servic overal quit\n",
      "Topic 12:\n",
      "got best know nice eat delici roll differ lot egg expect custom atmospher awesom hous\n"
     ]
    }
   ],
   "source": [
    "#display_topics(nmf, tfidf_feature_names, no_top_words)\n",
    "display_topics(lda_fit, tf_feature_names, no_top_words = 15)"
   ]
  },
  {
   "cell_type": "markdown",
   "metadata": {
    "heading_collapsed": true
   },
   "source": [
    "### LDA fit Good"
   ]
  },
  {
   "cell_type": "code",
   "execution_count": 58,
   "metadata": {
    "ExecuteTime": {
     "end_time": "2017-11-05T18:34:53.365893Z",
     "start_time": "2017-11-05T18:31:53.342141Z"
    },
    "collapsed": true,
    "hidden": true
   },
   "outputs": [],
   "source": [
    "# Fitting - this takes long\n",
    "lda_fit_g = lda_g.fit(tf_good)"
   ]
  },
  {
   "cell_type": "code",
   "execution_count": 59,
   "metadata": {
    "ExecuteTime": {
     "end_time": "2017-11-05T18:35:13.877717Z",
     "start_time": "2017-11-05T18:34:57.046279Z"
    },
    "collapsed": true,
    "hidden": true
   },
   "outputs": [],
   "source": [
    "# Create a DF with LDA cols\n",
    "lda_good = pd.DataFrame(lda_fit_g.transform(tf_good), columns = LDA_cols)\n",
    "\n",
    "# First merge back to original df\n",
    "review_LDA_g = pd.merge(reviews_sent_token, lda_good, how='inner', left_index = True, right_index = True)"
   ]
  },
  {
   "cell_type": "code",
   "execution_count": 60,
   "metadata": {
    "ExecuteTime": {
     "end_time": "2017-11-05T18:35:17.415695Z",
     "start_time": "2017-11-05T18:35:17.395849Z"
    },
    "hidden": true
   },
   "outputs": [
    {
     "data": {
      "text/plain": [
       "['lda_fit_g.pkl']"
      ]
     },
     "execution_count": 60,
     "metadata": {},
     "output_type": "execute_result"
    }
   ],
   "source": [
    "# save fit\n",
    "joblib.dump(lda_g, 'lda_g.pkl')\n",
    "joblib.dump(lda_fit_g, 'lda_fit_g.pkl')\n"
   ]
  },
  {
   "cell_type": "code",
   "execution_count": 61,
   "metadata": {
    "ExecuteTime": {
     "end_time": "2017-11-05T18:35:21.468796Z",
     "start_time": "2017-11-05T18:35:20.935165Z"
    },
    "collapsed": true,
    "hidden": true,
    "scrolled": true
   },
   "outputs": [],
   "source": [
    "# Aggregate\n",
    "review_LDA_agg_g = review_LDA_g.groupby('review_id').mean().reset_index()[['review_id'] + ['sent_cnt'] + LDA_cols]\n",
    "bus_review_LDA_g = bus_review_small.set_index('review_id')\\\n",
    "                    .join(review_LDA_agg_g.set_index('review_id'), how='inner')\n",
    "bus_review_LDA_g.reset_index(inplace=True)"
   ]
  },
  {
   "cell_type": "code",
   "execution_count": 62,
   "metadata": {
    "ExecuteTime": {
     "end_time": "2017-11-05T18:35:25.719680Z",
     "start_time": "2017-11-05T18:35:25.273324Z"
    },
    "collapsed": true,
    "hidden": true
   },
   "outputs": [],
   "source": [
    "# Save file\n",
    "bus_review_LDA_g.to_pickle('data/bus_review_LDA_g.pkl')"
   ]
  },
  {
   "cell_type": "code",
   "execution_count": 63,
   "metadata": {
    "ExecuteTime": {
     "end_time": "2017-11-05T18:35:29.510814Z",
     "start_time": "2017-11-05T18:35:29.504355Z"
    },
    "hidden": true
   },
   "outputs": [
    {
     "data": {
      "text/plain": [
       "(30435, 12)"
      ]
     },
     "execution_count": 63,
     "metadata": {},
     "output_type": "execute_result"
    }
   ],
   "source": [
    "review_LDA_agg_g.shape"
   ]
  },
  {
   "cell_type": "code",
   "execution_count": 64,
   "metadata": {
    "ExecuteTime": {
     "end_time": "2017-11-05T18:35:33.277658Z",
     "start_time": "2017-11-05T18:35:33.264299Z"
    },
    "hidden": true
   },
   "outputs": [
    {
     "name": "stdout",
     "output_type": "stream",
     "text": [
      "Topic 1:\n",
      "enjoy excel day sweet come recommend pork sinc breakfast ani potato order walk steak hous\n",
      "Topic 2:\n",
      "like alway place dinner went peopl atmospher awesom server new veri feel friend option seat\n",
      "Topic 3:\n",
      "time nice wait menu night came tabl serv bit think order tri everi worth ca\n",
      "Topic 4:\n",
      "order fresh chees sandwich like meat high delici rice beef need soup egg recommend check\n",
      "Topic 5:\n",
      "great food servic veri friend amaz perfect staff right meal cook quick fish wonder just\n",
      "Topic 6:\n",
      "place drink lunch good happi special better food review portion hour qualiti small long huge\n",
      "Topic 7:\n",
      "good best food delici restaur price favorit tasti pretti sure spot thing sushi say wine\n",
      "Topic 8:\n",
      "love did littl dish just experi want busi befor lot way year make time dine\n",
      "Topic 9:\n",
      "realli definit tast good flavor everyth hot work roll super dessert spici fantast use visit\n",
      "Topic 10:\n",
      "tri bar becaus onli place got know look area someth start patio locat disappoint decid\n"
     ]
    }
   ],
   "source": [
    "#display_topics(nmf, tfidf_feature_names, no_top_words)\n",
    "display_topics(lda_fit_g, tf_feature_names, no_top_words = 15)"
   ]
  },
  {
   "cell_type": "markdown",
   "metadata": {
    "heading_collapsed": true
   },
   "source": [
    "### LDA fit Bad"
   ]
  },
  {
   "cell_type": "code",
   "execution_count": 65,
   "metadata": {
    "ExecuteTime": {
     "end_time": "2017-11-05T18:39:51.366722Z",
     "start_time": "2017-11-05T18:37:52.988500Z"
    },
    "collapsed": true,
    "hidden": true
   },
   "outputs": [],
   "source": [
    "# Fitting - this takes long\n",
    "lda_fit_b = lda_b.fit(tf_bad)"
   ]
  },
  {
   "cell_type": "code",
   "execution_count": 66,
   "metadata": {
    "ExecuteTime": {
     "end_time": "2017-11-05T18:39:55.340741Z",
     "start_time": "2017-11-05T18:39:55.322544Z"
    },
    "hidden": true
   },
   "outputs": [
    {
     "data": {
      "text/plain": [
       "['lda_fit_b.pkl']"
      ]
     },
     "execution_count": 66,
     "metadata": {},
     "output_type": "execute_result"
    }
   ],
   "source": [
    "# save fit\n",
    "joblib.dump(lda_b, 'lda_b.pkl')\n",
    "joblib.dump(lda_fit_b, 'lda_fit_b.pkl')"
   ]
  },
  {
   "cell_type": "code",
   "execution_count": 67,
   "metadata": {
    "ExecuteTime": {
     "end_time": "2017-11-05T18:40:10.426458Z",
     "start_time": "2017-11-05T18:39:59.244530Z"
    },
    "collapsed": true,
    "hidden": true
   },
   "outputs": [],
   "source": [
    "# Create a DF with LDA cols\n",
    "lda_bad = pd.DataFrame(lda_fit_b.transform(tf_bad), columns = LDA_cols)\n",
    "\n",
    "# First merge back to original df\n",
    "review_LDA_b = pd.merge(reviews_sent_token, lda_bad, how='inner', left_index = True, right_index = True)"
   ]
  },
  {
   "cell_type": "code",
   "execution_count": 68,
   "metadata": {
    "ExecuteTime": {
     "end_time": "2017-11-05T18:40:14.460391Z",
     "start_time": "2017-11-05T18:40:14.453513Z"
    },
    "hidden": true
   },
   "outputs": [
    {
     "data": {
      "text/plain": [
       "(167234, 10)"
      ]
     },
     "execution_count": 68,
     "metadata": {},
     "output_type": "execute_result"
    }
   ],
   "source": [
    "lda_bad.shape"
   ]
  },
  {
   "cell_type": "code",
   "execution_count": 69,
   "metadata": {
    "ExecuteTime": {
     "end_time": "2017-11-05T18:40:18.964012Z",
     "start_time": "2017-11-05T18:40:18.595118Z"
    },
    "collapsed": true,
    "hidden": true,
    "scrolled": true
   },
   "outputs": [],
   "source": [
    "# Aggregate\n",
    "review_LDA_agg_b = review_LDA_b.groupby('review_id').mean().reset_index()[['review_id'] + ['sent_cnt'] + LDA_cols]\n",
    "bus_review_LDA_b = bus_review_small.set_index('review_id')\\\n",
    "                    .join(review_LDA_agg_b.set_index('review_id'), how='inner')\n",
    "bus_review_LDA_b.reset_index(inplace=True)"
   ]
  },
  {
   "cell_type": "code",
   "execution_count": 70,
   "metadata": {
    "ExecuteTime": {
     "end_time": "2017-11-05T18:40:23.529760Z",
     "start_time": "2017-11-05T18:40:23.259748Z"
    },
    "collapsed": true,
    "hidden": true
   },
   "outputs": [],
   "source": [
    "bus_review_LDA_b.to_pickle('data/bus_review_LDA_b.pkl')"
   ]
  },
  {
   "cell_type": "code",
   "execution_count": 71,
   "metadata": {
    "ExecuteTime": {
     "end_time": "2017-11-05T18:40:27.783566Z",
     "start_time": "2017-11-05T18:40:27.770528Z"
    },
    "hidden": true
   },
   "outputs": [
    {
     "name": "stdout",
     "output_type": "stream",
     "text": [
      "Topic 1:\n",
      "good food servic veri great eat server think nice friend staff lunch time love decent\n",
      "Topic 2:\n",
      "drink littl bar noth meal special place pay okay dri impress later fine area close\n",
      "Topic 3:\n",
      "restaur tabl wait ask minut pretti went food serv seat anoth took hour busi night\n",
      "Topic 4:\n",
      "order came got onli thing sandwich dinner dish best steak quick tasti meal half reason\n",
      "Topic 5:\n",
      "price bad peopl star befor lot day good meat disappoint place long qualiti whi veri\n",
      "Topic 6:\n",
      "realli tri time say review waitress someth visit flavor decid servic second lack coupl stop\n",
      "Topic 7:\n",
      "just did like want becaus said place look experi ani tast food use right locat\n",
      "Topic 8:\n",
      "make sure sit differ offer sushi kind potato let roll shrimp sinc sweet wing parti\n",
      "Topic 9:\n",
      "place menu better come know bit ok food order way like feel time check actual\n",
      "Topic 10:\n",
      "custom cook chees bread fresh return egg hot tast ca piec end wine old owner\n"
     ]
    }
   ],
   "source": [
    "#display_topics(nmf, tfidf_feature_names, no_top_words)\n",
    "display_topics(lda_fit_b, tf_feature_names, no_top_words = 15)"
   ]
  },
  {
   "cell_type": "code",
   "execution_count": 117,
   "metadata": {
    "ExecuteTime": {
     "end_time": "2017-11-05T17:23:19.884871Z",
     "start_time": "2017-11-05T17:23:19.878976Z"
    },
    "hidden": true
   },
   "outputs": [
    {
     "name": "stdout",
     "output_type": "stream",
     "text": [
      "(49982, 40)\n",
      "(30435, 40)\n",
      "(19488, 40)\n"
     ]
    }
   ],
   "source": [
    "print(bus_review_LDA.shape)\n",
    "print(bus_review_LDA_g.shape)\n",
    "print(bus_review_LDA_b.shape)"
   ]
  },
  {
   "cell_type": "code",
   "execution_count": 118,
   "metadata": {
    "ExecuteTime": {
     "end_time": "2017-11-05T17:23:37.973098Z",
     "start_time": "2017-11-05T17:23:37.965833Z"
    },
    "hidden": true
   },
   "outputs": [
    {
     "data": {
      "text/plain": [
       "49923"
      ]
     },
     "execution_count": 118,
     "metadata": {},
     "output_type": "execute_result"
    }
   ],
   "source": [
    "30435 + 19488"
   ]
  },
  {
   "cell_type": "markdown",
   "metadata": {
    "collapsed": true,
    "heading_collapsed": true
   },
   "source": [
    "### NMF"
   ]
  },
  {
   "cell_type": "code",
   "execution_count": 278,
   "metadata": {
    "ExecuteTime": {
     "end_time": "2017-11-06T18:36:34.974352Z",
     "start_time": "2017-11-06T18:36:34.957551Z"
    },
    "collapsed": true,
    "hidden": true
   },
   "outputs": [],
   "source": [
    "from sklearn.utils.extmath import randomized_svd\n"
   ]
  },
  {
   "cell_type": "code",
   "execution_count": 283,
   "metadata": {
    "ExecuteTime": {
     "end_time": "2017-11-06T19:02:43.117105Z",
     "start_time": "2017-11-06T19:02:40.121127Z"
    },
    "collapsed": true,
    "hidden": true
   },
   "outputs": [],
   "source": [
    "U, Sigma, VT = randomized_svd(tfidf, n_components=10,\n",
    "                                      n_iter=5,\n",
    "                                      random_state=44)"
   ]
  },
  {
   "cell_type": "code",
   "execution_count": 284,
   "metadata": {
    "ExecuteTime": {
     "end_time": "2017-11-06T19:02:48.490894Z",
     "start_time": "2017-11-06T19:02:48.481631Z"
    },
    "hidden": true
   },
   "outputs": [
    {
     "data": {
      "text/plain": [
       "array([ 76.58547428,  60.4413362 ,  58.88042854,  53.51442511,\n",
       "        52.15981453,  49.8287125 ,  47.91688437,  47.18079049,\n",
       "        45.5854996 ,  44.82807208])"
      ]
     },
     "execution_count": 284,
     "metadata": {},
     "output_type": "execute_result"
    }
   ],
   "source": [
    "Sigma"
   ]
  },
  {
   "cell_type": "code",
   "execution_count": 282,
   "metadata": {
    "ExecuteTime": {
     "end_time": "2017-11-06T19:02:33.694017Z",
     "start_time": "2017-11-06T19:02:33.688649Z"
    },
    "collapsed": true,
    "hidden": true
   },
   "outputs": [],
   "source": [
    "sigma2 = Sigma.copy()"
   ]
  },
  {
   "cell_type": "code",
   "execution_count": 285,
   "metadata": {
    "ExecuteTime": {
     "end_time": "2017-11-06T19:02:56.017625Z",
     "start_time": "2017-11-06T19:02:56.012005Z"
    },
    "hidden": true
   },
   "outputs": [
    {
     "data": {
      "text/plain": [
       "array([ 76.58547988,  60.44147011,  58.8806619 ,  53.52545001,\n",
       "        52.16358087,  49.85053143,  47.91978756,  47.21169424,\n",
       "        45.6222229 ,  44.79874333,  44.39441478,  43.32697106,\n",
       "        42.01987625,  41.27418914,  40.9607463 ])"
      ]
     },
     "execution_count": 285,
     "metadata": {},
     "output_type": "execute_result"
    }
   ],
   "source": [
    "sigma2"
   ]
  },
  {
   "cell_type": "markdown",
   "metadata": {
    "heading_collapsed": true
   },
   "source": [
    "### Fit NMF model"
   ]
  },
  {
   "cell_type": "code",
   "execution_count": 475,
   "metadata": {
    "ExecuteTime": {
     "end_time": "2017-11-07T18:22:10.263620Z",
     "start_time": "2017-11-07T18:22:03.278817Z"
    },
    "collapsed": true,
    "hidden": true
   },
   "outputs": [],
   "source": [
    "# TFIDF\n",
    "tfidf_vectorizer = TfidfVectorizer(max_df=0.80, min_df=20, stop_words = my_stop_words)\n",
    "# stop_words='english'\n",
    "tfidf = tfidf_vectorizer.fit_transform(reviews_sent_token['stemmed2'])\n",
    "tfidf_feature_names = tfidf_vectorizer.get_feature_names()\n"
   ]
  },
  {
   "cell_type": "code",
   "execution_count": 500,
   "metadata": {
    "ExecuteTime": {
     "end_time": "2017-11-07T18:52:13.169052Z",
     "start_time": "2017-11-07T18:51:54.604596Z"
    },
    "collapsed": true,
    "hidden": true
   },
   "outputs": [],
   "source": [
    "nmf = NMF(n_components = 5, random_state=1, alpha=.1, l1_ratio=.5, init='nndsvd')\n",
    "nmf_fit = nmf.fit(tfidf)\n"
   ]
  },
  {
   "cell_type": "code",
   "execution_count": 501,
   "metadata": {
    "ExecuteTime": {
     "end_time": "2017-11-07T18:52:18.868297Z",
     "start_time": "2017-11-07T18:52:18.844219Z"
    },
    "hidden": true
   },
   "outputs": [
    {
     "data": {
      "text/plain": [
       "['nmf_fit.pkl']"
      ]
     },
     "execution_count": 501,
     "metadata": {},
     "output_type": "execute_result"
    }
   ],
   "source": [
    "# save fit\n",
    "joblib.dump(nmf, 'nmf.pkl')\n",
    "joblib.dump(lda_fit, 'nmf_fit.pkl')\n"
   ]
  },
  {
   "cell_type": "code",
   "execution_count": 502,
   "metadata": {
    "ExecuteTime": {
     "end_time": "2017-11-07T18:52:24.776898Z",
     "start_time": "2017-11-07T18:52:24.549895Z"
    },
    "collapsed": true,
    "hidden": true
   },
   "outputs": [],
   "source": [
    "nmf_transf = nmf.transform(tfidf)"
   ]
  },
  {
   "cell_type": "code",
   "execution_count": 503,
   "metadata": {
    "ExecuteTime": {
     "end_time": "2017-11-07T18:52:30.313522Z",
     "start_time": "2017-11-07T18:52:30.305094Z"
    },
    "hidden": true
   },
   "outputs": [
    {
     "data": {
      "text/plain": [
       "['NMF_1', 'NMF_2', 'NMF_3', 'NMF_4', 'NMF_5']"
      ]
     },
     "execution_count": 503,
     "metadata": {},
     "output_type": "execute_result"
    }
   ],
   "source": [
    "no_topics = 5\n",
    "\n",
    "NMF_cols = ['NMF_' + str(i) for i in range(1, no_topics + 1)]\n",
    "NMF_cols"
   ]
  },
  {
   "cell_type": "code",
   "execution_count": 504,
   "metadata": {
    "ExecuteTime": {
     "end_time": "2017-11-07T18:52:50.878865Z",
     "start_time": "2017-11-07T18:52:49.961791Z"
    },
    "collapsed": true,
    "hidden": true
   },
   "outputs": [],
   "source": [
    "# Create a DF with LDA cols\n",
    "nmf_x = pd.DataFrame(nmf.transform(tfidf), columns = NMF_cols)\n",
    "nmf_x['Max_NMF'] = nmf_x.idxmax(axis=1)\n",
    "\n",
    "# First merge back to original df\n",
    "review_NMF = pd.merge(reviews_sent_token, nmf_x, how='inner', left_index = True, right_index = True)"
   ]
  },
  {
   "cell_type": "code",
   "execution_count": 580,
   "metadata": {
    "ExecuteTime": {
     "end_time": "2017-11-07T20:48:07.780388Z",
     "start_time": "2017-11-07T20:48:07.764536Z"
    },
    "hidden": true
   },
   "outputs": [
    {
     "data": {
      "text/html": [
       "<div>\n",
       "<style>\n",
       "    .dataframe thead tr:only-child th {\n",
       "        text-align: right;\n",
       "    }\n",
       "\n",
       "    .dataframe thead th {\n",
       "        text-align: left;\n",
       "    }\n",
       "\n",
       "    .dataframe tbody tr th {\n",
       "        vertical-align: top;\n",
       "    }\n",
       "</style>\n",
       "<table border=\"1\" class=\"dataframe\">\n",
       "  <thead>\n",
       "    <tr style=\"text-align: right;\">\n",
       "      <th></th>\n",
       "      <th>NMF_1</th>\n",
       "      <th>NMF_2</th>\n",
       "      <th>NMF_3</th>\n",
       "      <th>NMF_4</th>\n",
       "      <th>NMF_5</th>\n",
       "      <th>Max_NMF</th>\n",
       "    </tr>\n",
       "  </thead>\n",
       "  <tbody>\n",
       "    <tr>\n",
       "      <th>0</th>\n",
       "      <td>0.000000</td>\n",
       "      <td>0.0</td>\n",
       "      <td>0.000045</td>\n",
       "      <td>0.000000</td>\n",
       "      <td>0.001705</td>\n",
       "      <td>NMF_5</td>\n",
       "    </tr>\n",
       "    <tr>\n",
       "      <th>1</th>\n",
       "      <td>0.000000</td>\n",
       "      <td>0.0</td>\n",
       "      <td>0.000069</td>\n",
       "      <td>0.000000</td>\n",
       "      <td>0.000795</td>\n",
       "      <td>NMF_5</td>\n",
       "    </tr>\n",
       "    <tr>\n",
       "      <th>2</th>\n",
       "      <td>0.000178</td>\n",
       "      <td>0.0</td>\n",
       "      <td>0.000313</td>\n",
       "      <td>0.000247</td>\n",
       "      <td>0.001801</td>\n",
       "      <td>NMF_5</td>\n",
       "    </tr>\n",
       "    <tr>\n",
       "      <th>3</th>\n",
       "      <td>0.000000</td>\n",
       "      <td>0.0</td>\n",
       "      <td>0.000124</td>\n",
       "      <td>0.000000</td>\n",
       "      <td>0.006069</td>\n",
       "      <td>NMF_5</td>\n",
       "    </tr>\n",
       "    <tr>\n",
       "      <th>4</th>\n",
       "      <td>0.000183</td>\n",
       "      <td>0.0</td>\n",
       "      <td>0.000000</td>\n",
       "      <td>0.000000</td>\n",
       "      <td>0.001234</td>\n",
       "      <td>NMF_5</td>\n",
       "    </tr>\n",
       "  </tbody>\n",
       "</table>\n",
       "</div>"
      ],
      "text/plain": [
       "      NMF_1  NMF_2     NMF_3     NMF_4     NMF_5 Max_NMF\n",
       "0  0.000000    0.0  0.000045  0.000000  0.001705   NMF_5\n",
       "1  0.000000    0.0  0.000069  0.000000  0.000795   NMF_5\n",
       "2  0.000178    0.0  0.000313  0.000247  0.001801   NMF_5\n",
       "3  0.000000    0.0  0.000124  0.000000  0.006069   NMF_5\n",
       "4  0.000183    0.0  0.000000  0.000000  0.001234   NMF_5"
      ]
     },
     "execution_count": 580,
     "metadata": {},
     "output_type": "execute_result"
    }
   ],
   "source": [
    "nmf_x.head()"
   ]
  },
  {
   "cell_type": "code",
   "execution_count": 505,
   "metadata": {
    "ExecuteTime": {
     "end_time": "2017-11-07T18:52:57.462041Z",
     "start_time": "2017-11-07T18:52:57.322543Z"
    },
    "collapsed": true,
    "hidden": true
   },
   "outputs": [
    {
     "data": {
      "text/html": [
       "<div>\n",
       "<style>\n",
       "    .dataframe thead tr:only-child th {\n",
       "        text-align: right;\n",
       "    }\n",
       "\n",
       "    .dataframe thead th {\n",
       "        text-align: left;\n",
       "    }\n",
       "\n",
       "    .dataframe tbody tr th {\n",
       "        vertical-align: top;\n",
       "    }\n",
       "</style>\n",
       "<table border=\"1\" class=\"dataframe\">\n",
       "  <thead>\n",
       "    <tr style=\"text-align: right;\">\n",
       "      <th></th>\n",
       "      <th>user_id</th>\n",
       "      <th>business_id</th>\n",
       "      <th>name</th>\n",
       "      <th>categories</th>\n",
       "      <th>attributes</th>\n",
       "      <th>stars</th>\n",
       "      <th>review_count</th>\n",
       "      <th>city</th>\n",
       "      <th>state</th>\n",
       "      <th>postal_code</th>\n",
       "      <th>...</th>\n",
       "      <th>sentence</th>\n",
       "      <th>sent_cnt</th>\n",
       "      <th>polarity</th>\n",
       "      <th>stemmed2</th>\n",
       "      <th>NMF_1</th>\n",
       "      <th>NMF_2</th>\n",
       "      <th>NMF_3</th>\n",
       "      <th>NMF_4</th>\n",
       "      <th>NMF_5</th>\n",
       "      <th>Max_NMF</th>\n",
       "    </tr>\n",
       "  </thead>\n",
       "  <tbody>\n",
       "    <tr>\n",
       "      <th>0</th>\n",
       "      <td>i8A3MWU33_mtMu3LUMlnWQ</td>\n",
       "      <td>s-YJpfR-LFRnH7qYVFuJuw</td>\n",
       "      <td>Touhenboku Ramen Restaurant</td>\n",
       "      <td>[Japanese, Food, Restaurants, Ramen, Desserts]</td>\n",
       "      <td>{'RestaurantsTableService': True, 'GoodForMeal...</td>\n",
       "      <td>3.5</td>\n",
       "      <td>201</td>\n",
       "      <td>Toronto</td>\n",
       "      <td>ON</td>\n",
       "      <td>M5V 1Z4</td>\n",
       "      <td>...</td>\n",
       "      <td>I was thrilled when I saw on twitter that anot...</td>\n",
       "      <td>27</td>\n",
       "      <td>0.425000</td>\n",
       "      <td>i was thrill when i saw on twitter that anoth ...</td>\n",
       "      <td>0.000000</td>\n",
       "      <td>0.000000</td>\n",
       "      <td>0.000045</td>\n",
       "      <td>0.000000</td>\n",
       "      <td>0.001705</td>\n",
       "      <td>NMF_5</td>\n",
       "    </tr>\n",
       "    <tr>\n",
       "      <th>1</th>\n",
       "      <td>i8A3MWU33_mtMu3LUMlnWQ</td>\n",
       "      <td>s-YJpfR-LFRnH7qYVFuJuw</td>\n",
       "      <td>Touhenboku Ramen Restaurant</td>\n",
       "      <td>[Japanese, Food, Restaurants, Ramen, Desserts]</td>\n",
       "      <td>{'RestaurantsTableService': True, 'GoodForMeal...</td>\n",
       "      <td>3.5</td>\n",
       "      <td>201</td>\n",
       "      <td>Toronto</td>\n",
       "      <td>ON</td>\n",
       "      <td>M5V 1Z4</td>\n",
       "      <td>...</td>\n",
       "      <td>They are officially open today!</td>\n",
       "      <td>27</td>\n",
       "      <td>0.000000</td>\n",
       "      <td>they are offici open today !</td>\n",
       "      <td>0.000000</td>\n",
       "      <td>0.000000</td>\n",
       "      <td>0.000069</td>\n",
       "      <td>0.000000</td>\n",
       "      <td>0.000795</td>\n",
       "      <td>NMF_5</td>\n",
       "    </tr>\n",
       "    <tr>\n",
       "      <th>2</th>\n",
       "      <td>i8A3MWU33_mtMu3LUMlnWQ</td>\n",
       "      <td>s-YJpfR-LFRnH7qYVFuJuw</td>\n",
       "      <td>Touhenboku Ramen Restaurant</td>\n",
       "      <td>[Japanese, Food, Restaurants, Ramen, Desserts]</td>\n",
       "      <td>{'RestaurantsTableService': True, 'GoodForMeal...</td>\n",
       "      <td>3.5</td>\n",
       "      <td>201</td>\n",
       "      <td>Toronto</td>\n",
       "      <td>ON</td>\n",
       "      <td>M5V 1Z4</td>\n",
       "      <td>...</td>\n",
       "      <td>Located at 261 Queen W, in my opinion this is ...</td>\n",
       "      <td>27</td>\n",
       "      <td>1.000000</td>\n",
       "      <td>locat at queen w  in my opinion this is probab...</td>\n",
       "      <td>0.000178</td>\n",
       "      <td>0.000000</td>\n",
       "      <td>0.000313</td>\n",
       "      <td>0.000247</td>\n",
       "      <td>0.001801</td>\n",
       "      <td>NMF_5</td>\n",
       "    </tr>\n",
       "    <tr>\n",
       "      <th>3</th>\n",
       "      <td>i8A3MWU33_mtMu3LUMlnWQ</td>\n",
       "      <td>s-YJpfR-LFRnH7qYVFuJuw</td>\n",
       "      <td>Touhenboku Ramen Restaurant</td>\n",
       "      <td>[Japanese, Food, Restaurants, Ramen, Desserts]</td>\n",
       "      <td>{'RestaurantsTableService': True, 'GoodForMeal...</td>\n",
       "      <td>3.5</td>\n",
       "      <td>201</td>\n",
       "      <td>Toronto</td>\n",
       "      <td>ON</td>\n",
       "      <td>M5V 1Z4</td>\n",
       "      <td>...</td>\n",
       "      <td>Who wouldn't want to have a comforting hot bow...</td>\n",
       "      <td>27</td>\n",
       "      <td>0.125000</td>\n",
       "      <td>who would want to have a comfort hot bowl of r...</td>\n",
       "      <td>0.000000</td>\n",
       "      <td>0.000000</td>\n",
       "      <td>0.000124</td>\n",
       "      <td>0.000000</td>\n",
       "      <td>0.006069</td>\n",
       "      <td>NMF_5</td>\n",
       "    </tr>\n",
       "    <tr>\n",
       "      <th>4</th>\n",
       "      <td>i8A3MWU33_mtMu3LUMlnWQ</td>\n",
       "      <td>s-YJpfR-LFRnH7qYVFuJuw</td>\n",
       "      <td>Touhenboku Ramen Restaurant</td>\n",
       "      <td>[Japanese, Food, Restaurants, Ramen, Desserts]</td>\n",
       "      <td>{'RestaurantsTableService': True, 'GoodForMeal...</td>\n",
       "      <td>3.5</td>\n",
       "      <td>201</td>\n",
       "      <td>Toronto</td>\n",
       "      <td>ON</td>\n",
       "      <td>M5V 1Z4</td>\n",
       "      <td>...</td>\n",
       "      <td>Can you believe that they have 450 Arita porce...</td>\n",
       "      <td>27</td>\n",
       "      <td>0.250000</td>\n",
       "      <td>can you believ that they have arita porcelain ...</td>\n",
       "      <td>0.000183</td>\n",
       "      <td>0.000000</td>\n",
       "      <td>0.000000</td>\n",
       "      <td>0.000000</td>\n",
       "      <td>0.001234</td>\n",
       "      <td>NMF_5</td>\n",
       "    </tr>\n",
       "    <tr>\n",
       "      <th>5</th>\n",
       "      <td>i8A3MWU33_mtMu3LUMlnWQ</td>\n",
       "      <td>s-YJpfR-LFRnH7qYVFuJuw</td>\n",
       "      <td>Touhenboku Ramen Restaurant</td>\n",
       "      <td>[Japanese, Food, Restaurants, Ramen, Desserts]</td>\n",
       "      <td>{'RestaurantsTableService': True, 'GoodForMeal...</td>\n",
       "      <td>3.5</td>\n",
       "      <td>201</td>\n",
       "      <td>Toronto</td>\n",
       "      <td>ON</td>\n",
       "      <td>M5V 1Z4</td>\n",
       "      <td>...</td>\n",
       "      <td>So it is not surprising that they even importe...</td>\n",
       "      <td>27</td>\n",
       "      <td>-0.350000</td>\n",
       "      <td>so it is not surpris that they even import the...</td>\n",
       "      <td>0.000000</td>\n",
       "      <td>0.000000</td>\n",
       "      <td>0.000000</td>\n",
       "      <td>0.000000</td>\n",
       "      <td>0.000201</td>\n",
       "      <td>NMF_5</td>\n",
       "    </tr>\n",
       "    <tr>\n",
       "      <th>6</th>\n",
       "      <td>i8A3MWU33_mtMu3LUMlnWQ</td>\n",
       "      <td>s-YJpfR-LFRnH7qYVFuJuw</td>\n",
       "      <td>Touhenboku Ramen Restaurant</td>\n",
       "      <td>[Japanese, Food, Restaurants, Ramen, Desserts]</td>\n",
       "      <td>{'RestaurantsTableService': True, 'GoodForMeal...</td>\n",
       "      <td>3.5</td>\n",
       "      <td>201</td>\n",
       "      <td>Toronto</td>\n",
       "      <td>ON</td>\n",
       "      <td>M5V 1Z4</td>\n",
       "      <td>...</td>\n",
       "      <td>Unlike most other ramen shops, Touhenboku used...</td>\n",
       "      <td>27</td>\n",
       "      <td>0.012500</td>\n",
       "      <td>unlik most other ramen shop  touhenboku use ch...</td>\n",
       "      <td>0.000000</td>\n",
       "      <td>0.000000</td>\n",
       "      <td>0.000000</td>\n",
       "      <td>0.000247</td>\n",
       "      <td>0.001630</td>\n",
       "      <td>NMF_5</td>\n",
       "    </tr>\n",
       "    <tr>\n",
       "      <th>7</th>\n",
       "      <td>i8A3MWU33_mtMu3LUMlnWQ</td>\n",
       "      <td>s-YJpfR-LFRnH7qYVFuJuw</td>\n",
       "      <td>Touhenboku Ramen Restaurant</td>\n",
       "      <td>[Japanese, Food, Restaurants, Ramen, Desserts]</td>\n",
       "      <td>{'RestaurantsTableService': True, 'GoodForMeal...</td>\n",
       "      <td>3.5</td>\n",
       "      <td>201</td>\n",
       "      <td>Toronto</td>\n",
       "      <td>ON</td>\n",
       "      <td>M5V 1Z4</td>\n",
       "      <td>...</td>\n",
       "      <td>Chef Machida also mixed his own flour blend in...</td>\n",
       "      <td>27</td>\n",
       "      <td>0.279286</td>\n",
       "      <td>chef machida also mix his own flour blend incl...</td>\n",
       "      <td>0.000000</td>\n",
       "      <td>0.000000</td>\n",
       "      <td>0.000047</td>\n",
       "      <td>0.000000</td>\n",
       "      <td>0.000932</td>\n",
       "      <td>NMF_5</td>\n",
       "    </tr>\n",
       "    <tr>\n",
       "      <th>8</th>\n",
       "      <td>i8A3MWU33_mtMu3LUMlnWQ</td>\n",
       "      <td>s-YJpfR-LFRnH7qYVFuJuw</td>\n",
       "      <td>Touhenboku Ramen Restaurant</td>\n",
       "      <td>[Japanese, Food, Restaurants, Ramen, Desserts]</td>\n",
       "      <td>{'RestaurantsTableService': True, 'GoodForMeal...</td>\n",
       "      <td>3.5</td>\n",
       "      <td>201</td>\n",
       "      <td>Toronto</td>\n",
       "      <td>ON</td>\n",
       "      <td>M5V 1Z4</td>\n",
       "      <td>...</td>\n",
       "      <td>There's 4 types of ramen on their menu : White...</td>\n",
       "      <td>27</td>\n",
       "      <td>0.066667</td>\n",
       "      <td>there type of ramen on their menu : white ( ) ...</td>\n",
       "      <td>0.000000</td>\n",
       "      <td>0.000000</td>\n",
       "      <td>0.000000</td>\n",
       "      <td>0.000000</td>\n",
       "      <td>0.001550</td>\n",
       "      <td>NMF_5</td>\n",
       "    </tr>\n",
       "    <tr>\n",
       "      <th>9</th>\n",
       "      <td>i8A3MWU33_mtMu3LUMlnWQ</td>\n",
       "      <td>s-YJpfR-LFRnH7qYVFuJuw</td>\n",
       "      <td>Touhenboku Ramen Restaurant</td>\n",
       "      <td>[Japanese, Food, Restaurants, Ramen, Desserts]</td>\n",
       "      <td>{'RestaurantsTableService': True, 'GoodForMeal...</td>\n",
       "      <td>3.5</td>\n",
       "      <td>201</td>\n",
       "      <td>Toronto</td>\n",
       "      <td>ON</td>\n",
       "      <td>M5V 1Z4</td>\n",
       "      <td>...</td>\n",
       "      <td>Each topped with wood ear mushrooms, half a bo...</td>\n",
       "      <td>27</td>\n",
       "      <td>-0.183333</td>\n",
       "      <td>each top with wood ear mushroom  half a boil e...</td>\n",
       "      <td>0.000000</td>\n",
       "      <td>0.000000</td>\n",
       "      <td>0.000000</td>\n",
       "      <td>0.000000</td>\n",
       "      <td>0.000817</td>\n",
       "      <td>NMF_5</td>\n",
       "    </tr>\n",
       "    <tr>\n",
       "      <th>10</th>\n",
       "      <td>i8A3MWU33_mtMu3LUMlnWQ</td>\n",
       "      <td>s-YJpfR-LFRnH7qYVFuJuw</td>\n",
       "      <td>Touhenboku Ramen Restaurant</td>\n",
       "      <td>[Japanese, Food, Restaurants, Ramen, Desserts]</td>\n",
       "      <td>{'RestaurantsTableService': True, 'GoodForMeal...</td>\n",
       "      <td>3.5</td>\n",
       "      <td>201</td>\n",
       "      <td>Toronto</td>\n",
       "      <td>ON</td>\n",
       "      <td>M5V 1Z4</td>\n",
       "      <td>...</td>\n",
       "      <td>Then there's the choice of thin and thick nood...</td>\n",
       "      <td>27</td>\n",
       "      <td>-0.231250</td>\n",
       "      <td>then there the choic of thin and thick noodl a...</td>\n",
       "      <td>0.000000</td>\n",
       "      <td>0.000104</td>\n",
       "      <td>0.000000</td>\n",
       "      <td>0.000000</td>\n",
       "      <td>0.000972</td>\n",
       "      <td>NMF_5</td>\n",
       "    </tr>\n",
       "    <tr>\n",
       "      <th>11</th>\n",
       "      <td>i8A3MWU33_mtMu3LUMlnWQ</td>\n",
       "      <td>s-YJpfR-LFRnH7qYVFuJuw</td>\n",
       "      <td>Touhenboku Ramen Restaurant</td>\n",
       "      <td>[Japanese, Food, Restaurants, Ramen, Desserts]</td>\n",
       "      <td>{'RestaurantsTableService': True, 'GoodForMeal...</td>\n",
       "      <td>3.5</td>\n",
       "      <td>201</td>\n",
       "      <td>Toronto</td>\n",
       "      <td>ON</td>\n",
       "      <td>M5V 1Z4</td>\n",
       "      <td>...</td>\n",
       "      <td>As per their website: \\n\"Ramen is more than no...</td>\n",
       "      <td>27</td>\n",
       "      <td>0.250000</td>\n",
       "      <td>as per their websit : ramen is more than noodl...</td>\n",
       "      <td>0.000000</td>\n",
       "      <td>0.000000</td>\n",
       "      <td>0.000000</td>\n",
       "      <td>0.008574</td>\n",
       "      <td>0.000337</td>\n",
       "      <td>NMF_4</td>\n",
       "    </tr>\n",
       "    <tr>\n",
       "      <th>12</th>\n",
       "      <td>i8A3MWU33_mtMu3LUMlnWQ</td>\n",
       "      <td>s-YJpfR-LFRnH7qYVFuJuw</td>\n",
       "      <td>Touhenboku Ramen Restaurant</td>\n",
       "      <td>[Japanese, Food, Restaurants, Ramen, Desserts]</td>\n",
       "      <td>{'RestaurantsTableService': True, 'GoodForMeal...</td>\n",
       "      <td>3.5</td>\n",
       "      <td>201</td>\n",
       "      <td>Toronto</td>\n",
       "      <td>ON</td>\n",
       "      <td>M5V 1Z4</td>\n",
       "      <td>...</td>\n",
       "      <td>The rich creamy broth is made entirely of chic...</td>\n",
       "      <td>27</td>\n",
       "      <td>-0.091667</td>\n",
       "      <td>the rich creami broth is made entir of chicken...</td>\n",
       "      <td>0.000000</td>\n",
       "      <td>0.000000</td>\n",
       "      <td>0.000000</td>\n",
       "      <td>0.000000</td>\n",
       "      <td>0.001026</td>\n",
       "      <td>NMF_5</td>\n",
       "    </tr>\n",
       "    <tr>\n",
       "      <th>13</th>\n",
       "      <td>i8A3MWU33_mtMu3LUMlnWQ</td>\n",
       "      <td>s-YJpfR-LFRnH7qYVFuJuw</td>\n",
       "      <td>Touhenboku Ramen Restaurant</td>\n",
       "      <td>[Japanese, Food, Restaurants, Ramen, Desserts]</td>\n",
       "      <td>{'RestaurantsTableService': True, 'GoodForMeal...</td>\n",
       "      <td>3.5</td>\n",
       "      <td>201</td>\n",
       "      <td>Toronto</td>\n",
       "      <td>ON</td>\n",
       "      <td>M5V 1Z4</td>\n",
       "      <td>...</td>\n",
       "      <td>I totally agree with the first half but i find...</td>\n",
       "      <td>27</td>\n",
       "      <td>-0.129167</td>\n",
       "      <td>i total agre with the first half but i find th...</td>\n",
       "      <td>0.000000</td>\n",
       "      <td>0.000000</td>\n",
       "      <td>0.000000</td>\n",
       "      <td>0.000078</td>\n",
       "      <td>0.001212</td>\n",
       "      <td>NMF_5</td>\n",
       "    </tr>\n",
       "    <tr>\n",
       "      <th>14</th>\n",
       "      <td>i8A3MWU33_mtMu3LUMlnWQ</td>\n",
       "      <td>s-YJpfR-LFRnH7qYVFuJuw</td>\n",
       "      <td>Touhenboku Ramen Restaurant</td>\n",
       "      <td>[Japanese, Food, Restaurants, Ramen, Desserts]</td>\n",
       "      <td>{'RestaurantsTableService': True, 'GoodForMeal...</td>\n",
       "      <td>3.5</td>\n",
       "      <td>201</td>\n",
       "      <td>Toronto</td>\n",
       "      <td>ON</td>\n",
       "      <td>M5V 1Z4</td>\n",
       "      <td>...</td>\n",
       "      <td>Here they have the white type of ramen which i...</td>\n",
       "      <td>27</td>\n",
       "      <td>0.000000</td>\n",
       "      <td>here they have the white type of ramen which i...</td>\n",
       "      <td>0.000000</td>\n",
       "      <td>0.000000</td>\n",
       "      <td>0.000000</td>\n",
       "      <td>0.000000</td>\n",
       "      <td>0.000334</td>\n",
       "      <td>NMF_5</td>\n",
       "    </tr>\n",
       "    <tr>\n",
       "      <th>15</th>\n",
       "      <td>i8A3MWU33_mtMu3LUMlnWQ</td>\n",
       "      <td>s-YJpfR-LFRnH7qYVFuJuw</td>\n",
       "      <td>Touhenboku Ramen Restaurant</td>\n",
       "      <td>[Japanese, Food, Restaurants, Ramen, Desserts]</td>\n",
       "      <td>{'RestaurantsTableService': True, 'GoodForMeal...</td>\n",
       "      <td>3.5</td>\n",
       "      <td>201</td>\n",
       "      <td>Toronto</td>\n",
       "      <td>ON</td>\n",
       "      <td>M5V 1Z4</td>\n",
       "      <td>...</td>\n",
       "      <td>And after trying both the thin and thick noodl...</td>\n",
       "      <td>27</td>\n",
       "      <td>-0.150000</td>\n",
       "      <td>and after tri both the thin and thick noodl  w...</td>\n",
       "      <td>0.000000</td>\n",
       "      <td>0.000000</td>\n",
       "      <td>0.000242</td>\n",
       "      <td>0.000093</td>\n",
       "      <td>0.004172</td>\n",
       "      <td>NMF_5</td>\n",
       "    </tr>\n",
       "    <tr>\n",
       "      <th>16</th>\n",
       "      <td>i8A3MWU33_mtMu3LUMlnWQ</td>\n",
       "      <td>s-YJpfR-LFRnH7qYVFuJuw</td>\n",
       "      <td>Touhenboku Ramen Restaurant</td>\n",
       "      <td>[Japanese, Food, Restaurants, Ramen, Desserts]</td>\n",
       "      <td>{'RestaurantsTableService': True, 'GoodForMeal...</td>\n",
       "      <td>3.5</td>\n",
       "      <td>201</td>\n",
       "      <td>Toronto</td>\n",
       "      <td>ON</td>\n",
       "      <td>M5V 1Z4</td>\n",
       "      <td>...</td>\n",
       "      <td>I somehow thought the thick one would be sligh...</td>\n",
       "      <td>27</td>\n",
       "      <td>-0.155556</td>\n",
       "      <td>i somehow thought the thick one would be sligh...</td>\n",
       "      <td>0.000000</td>\n",
       "      <td>0.000115</td>\n",
       "      <td>0.000000</td>\n",
       "      <td>0.000019</td>\n",
       "      <td>0.001018</td>\n",
       "      <td>NMF_5</td>\n",
       "    </tr>\n",
       "    <tr>\n",
       "      <th>17</th>\n",
       "      <td>i8A3MWU33_mtMu3LUMlnWQ</td>\n",
       "      <td>s-YJpfR-LFRnH7qYVFuJuw</td>\n",
       "      <td>Touhenboku Ramen Restaurant</td>\n",
       "      <td>[Japanese, Food, Restaurants, Ramen, Desserts]</td>\n",
       "      <td>{'RestaurantsTableService': True, 'GoodForMeal...</td>\n",
       "      <td>3.5</td>\n",
       "      <td>201</td>\n",
       "      <td>Toronto</td>\n",
       "      <td>ON</td>\n",
       "      <td>M5V 1Z4</td>\n",
       "      <td>...</td>\n",
       "      <td>Their recipe is somehow perfect for the thin v...</td>\n",
       "      <td>27</td>\n",
       "      <td>0.300000</td>\n",
       "      <td>their recip is somehow perfect for the thin ve...</td>\n",
       "      <td>0.000000</td>\n",
       "      <td>0.000000</td>\n",
       "      <td>0.000000</td>\n",
       "      <td>0.000000</td>\n",
       "      <td>0.000627</td>\n",
       "      <td>NMF_5</td>\n",
       "    </tr>\n",
       "    <tr>\n",
       "      <th>18</th>\n",
       "      <td>i8A3MWU33_mtMu3LUMlnWQ</td>\n",
       "      <td>s-YJpfR-LFRnH7qYVFuJuw</td>\n",
       "      <td>Touhenboku Ramen Restaurant</td>\n",
       "      <td>[Japanese, Food, Restaurants, Ramen, Desserts]</td>\n",
       "      <td>{'RestaurantsTableService': True, 'GoodForMeal...</td>\n",
       "      <td>3.5</td>\n",
       "      <td>201</td>\n",
       "      <td>Toronto</td>\n",
       "      <td>ON</td>\n",
       "      <td>M5V 1Z4</td>\n",
       "      <td>...</td>\n",
       "      <td>White $10.50\\n~ Original Touhenboku Ramen\\n~ B...</td>\n",
       "      <td>27</td>\n",
       "      <td>0.140000</td>\n",
       "      <td>white $ ~ origin touhenboku ramen ~ ben choos ...</td>\n",
       "      <td>0.000000</td>\n",
       "      <td>0.000000</td>\n",
       "      <td>0.000000</td>\n",
       "      <td>0.000000</td>\n",
       "      <td>0.001558</td>\n",
       "      <td>NMF_5</td>\n",
       "    </tr>\n",
       "    <tr>\n",
       "      <th>19</th>\n",
       "      <td>i8A3MWU33_mtMu3LUMlnWQ</td>\n",
       "      <td>s-YJpfR-LFRnH7qYVFuJuw</td>\n",
       "      <td>Touhenboku Ramen Restaurant</td>\n",
       "      <td>[Japanese, Food, Restaurants, Ramen, Desserts]</td>\n",
       "      <td>{'RestaurantsTableService': True, 'GoodForMeal...</td>\n",
       "      <td>3.5</td>\n",
       "      <td>201</td>\n",
       "      <td>Toronto</td>\n",
       "      <td>ON</td>\n",
       "      <td>M5V 1Z4</td>\n",
       "      <td>...</td>\n",
       "      <td>~ The soup/broth is really thick and on the oi...</td>\n",
       "      <td>27</td>\n",
       "      <td>-0.212500</td>\n",
       "      <td>~ the is realli thick and on the oili side but...</td>\n",
       "      <td>0.000000</td>\n",
       "      <td>0.001801</td>\n",
       "      <td>0.000234</td>\n",
       "      <td>0.000000</td>\n",
       "      <td>0.002411</td>\n",
       "      <td>NMF_5</td>\n",
       "    </tr>\n",
       "  </tbody>\n",
       "</table>\n",
       "<p>20 rows × 39 columns</p>\n",
       "</div>"
      ],
      "text/plain": [
       "                   user_id             business_id  \\\n",
       "0   i8A3MWU33_mtMu3LUMlnWQ  s-YJpfR-LFRnH7qYVFuJuw   \n",
       "1   i8A3MWU33_mtMu3LUMlnWQ  s-YJpfR-LFRnH7qYVFuJuw   \n",
       "2   i8A3MWU33_mtMu3LUMlnWQ  s-YJpfR-LFRnH7qYVFuJuw   \n",
       "3   i8A3MWU33_mtMu3LUMlnWQ  s-YJpfR-LFRnH7qYVFuJuw   \n",
       "4   i8A3MWU33_mtMu3LUMlnWQ  s-YJpfR-LFRnH7qYVFuJuw   \n",
       "5   i8A3MWU33_mtMu3LUMlnWQ  s-YJpfR-LFRnH7qYVFuJuw   \n",
       "6   i8A3MWU33_mtMu3LUMlnWQ  s-YJpfR-LFRnH7qYVFuJuw   \n",
       "7   i8A3MWU33_mtMu3LUMlnWQ  s-YJpfR-LFRnH7qYVFuJuw   \n",
       "8   i8A3MWU33_mtMu3LUMlnWQ  s-YJpfR-LFRnH7qYVFuJuw   \n",
       "9   i8A3MWU33_mtMu3LUMlnWQ  s-YJpfR-LFRnH7qYVFuJuw   \n",
       "10  i8A3MWU33_mtMu3LUMlnWQ  s-YJpfR-LFRnH7qYVFuJuw   \n",
       "11  i8A3MWU33_mtMu3LUMlnWQ  s-YJpfR-LFRnH7qYVFuJuw   \n",
       "12  i8A3MWU33_mtMu3LUMlnWQ  s-YJpfR-LFRnH7qYVFuJuw   \n",
       "13  i8A3MWU33_mtMu3LUMlnWQ  s-YJpfR-LFRnH7qYVFuJuw   \n",
       "14  i8A3MWU33_mtMu3LUMlnWQ  s-YJpfR-LFRnH7qYVFuJuw   \n",
       "15  i8A3MWU33_mtMu3LUMlnWQ  s-YJpfR-LFRnH7qYVFuJuw   \n",
       "16  i8A3MWU33_mtMu3LUMlnWQ  s-YJpfR-LFRnH7qYVFuJuw   \n",
       "17  i8A3MWU33_mtMu3LUMlnWQ  s-YJpfR-LFRnH7qYVFuJuw   \n",
       "18  i8A3MWU33_mtMu3LUMlnWQ  s-YJpfR-LFRnH7qYVFuJuw   \n",
       "19  i8A3MWU33_mtMu3LUMlnWQ  s-YJpfR-LFRnH7qYVFuJuw   \n",
       "\n",
       "                           name  \\\n",
       "0   Touhenboku Ramen Restaurant   \n",
       "1   Touhenboku Ramen Restaurant   \n",
       "2   Touhenboku Ramen Restaurant   \n",
       "3   Touhenboku Ramen Restaurant   \n",
       "4   Touhenboku Ramen Restaurant   \n",
       "5   Touhenboku Ramen Restaurant   \n",
       "6   Touhenboku Ramen Restaurant   \n",
       "7   Touhenboku Ramen Restaurant   \n",
       "8   Touhenboku Ramen Restaurant   \n",
       "9   Touhenboku Ramen Restaurant   \n",
       "10  Touhenboku Ramen Restaurant   \n",
       "11  Touhenboku Ramen Restaurant   \n",
       "12  Touhenboku Ramen Restaurant   \n",
       "13  Touhenboku Ramen Restaurant   \n",
       "14  Touhenboku Ramen Restaurant   \n",
       "15  Touhenboku Ramen Restaurant   \n",
       "16  Touhenboku Ramen Restaurant   \n",
       "17  Touhenboku Ramen Restaurant   \n",
       "18  Touhenboku Ramen Restaurant   \n",
       "19  Touhenboku Ramen Restaurant   \n",
       "\n",
       "                                        categories  \\\n",
       "0   [Japanese, Food, Restaurants, Ramen, Desserts]   \n",
       "1   [Japanese, Food, Restaurants, Ramen, Desserts]   \n",
       "2   [Japanese, Food, Restaurants, Ramen, Desserts]   \n",
       "3   [Japanese, Food, Restaurants, Ramen, Desserts]   \n",
       "4   [Japanese, Food, Restaurants, Ramen, Desserts]   \n",
       "5   [Japanese, Food, Restaurants, Ramen, Desserts]   \n",
       "6   [Japanese, Food, Restaurants, Ramen, Desserts]   \n",
       "7   [Japanese, Food, Restaurants, Ramen, Desserts]   \n",
       "8   [Japanese, Food, Restaurants, Ramen, Desserts]   \n",
       "9   [Japanese, Food, Restaurants, Ramen, Desserts]   \n",
       "10  [Japanese, Food, Restaurants, Ramen, Desserts]   \n",
       "11  [Japanese, Food, Restaurants, Ramen, Desserts]   \n",
       "12  [Japanese, Food, Restaurants, Ramen, Desserts]   \n",
       "13  [Japanese, Food, Restaurants, Ramen, Desserts]   \n",
       "14  [Japanese, Food, Restaurants, Ramen, Desserts]   \n",
       "15  [Japanese, Food, Restaurants, Ramen, Desserts]   \n",
       "16  [Japanese, Food, Restaurants, Ramen, Desserts]   \n",
       "17  [Japanese, Food, Restaurants, Ramen, Desserts]   \n",
       "18  [Japanese, Food, Restaurants, Ramen, Desserts]   \n",
       "19  [Japanese, Food, Restaurants, Ramen, Desserts]   \n",
       "\n",
       "                                           attributes stars  review_count  \\\n",
       "0   {'RestaurantsTableService': True, 'GoodForMeal...   3.5           201   \n",
       "1   {'RestaurantsTableService': True, 'GoodForMeal...   3.5           201   \n",
       "2   {'RestaurantsTableService': True, 'GoodForMeal...   3.5           201   \n",
       "3   {'RestaurantsTableService': True, 'GoodForMeal...   3.5           201   \n",
       "4   {'RestaurantsTableService': True, 'GoodForMeal...   3.5           201   \n",
       "5   {'RestaurantsTableService': True, 'GoodForMeal...   3.5           201   \n",
       "6   {'RestaurantsTableService': True, 'GoodForMeal...   3.5           201   \n",
       "7   {'RestaurantsTableService': True, 'GoodForMeal...   3.5           201   \n",
       "8   {'RestaurantsTableService': True, 'GoodForMeal...   3.5           201   \n",
       "9   {'RestaurantsTableService': True, 'GoodForMeal...   3.5           201   \n",
       "10  {'RestaurantsTableService': True, 'GoodForMeal...   3.5           201   \n",
       "11  {'RestaurantsTableService': True, 'GoodForMeal...   3.5           201   \n",
       "12  {'RestaurantsTableService': True, 'GoodForMeal...   3.5           201   \n",
       "13  {'RestaurantsTableService': True, 'GoodForMeal...   3.5           201   \n",
       "14  {'RestaurantsTableService': True, 'GoodForMeal...   3.5           201   \n",
       "15  {'RestaurantsTableService': True, 'GoodForMeal...   3.5           201   \n",
       "16  {'RestaurantsTableService': True, 'GoodForMeal...   3.5           201   \n",
       "17  {'RestaurantsTableService': True, 'GoodForMeal...   3.5           201   \n",
       "18  {'RestaurantsTableService': True, 'GoodForMeal...   3.5           201   \n",
       "19  {'RestaurantsTableService': True, 'GoodForMeal...   3.5           201   \n",
       "\n",
       "       city state postal_code   ...    \\\n",
       "0   Toronto    ON     M5V 1Z4   ...     \n",
       "1   Toronto    ON     M5V 1Z4   ...     \n",
       "2   Toronto    ON     M5V 1Z4   ...     \n",
       "3   Toronto    ON     M5V 1Z4   ...     \n",
       "4   Toronto    ON     M5V 1Z4   ...     \n",
       "5   Toronto    ON     M5V 1Z4   ...     \n",
       "6   Toronto    ON     M5V 1Z4   ...     \n",
       "7   Toronto    ON     M5V 1Z4   ...     \n",
       "8   Toronto    ON     M5V 1Z4   ...     \n",
       "9   Toronto    ON     M5V 1Z4   ...     \n",
       "10  Toronto    ON     M5V 1Z4   ...     \n",
       "11  Toronto    ON     M5V 1Z4   ...     \n",
       "12  Toronto    ON     M5V 1Z4   ...     \n",
       "13  Toronto    ON     M5V 1Z4   ...     \n",
       "14  Toronto    ON     M5V 1Z4   ...     \n",
       "15  Toronto    ON     M5V 1Z4   ...     \n",
       "16  Toronto    ON     M5V 1Z4   ...     \n",
       "17  Toronto    ON     M5V 1Z4   ...     \n",
       "18  Toronto    ON     M5V 1Z4   ...     \n",
       "19  Toronto    ON     M5V 1Z4   ...     \n",
       "\n",
       "                                             sentence  sent_cnt  polarity  \\\n",
       "0   I was thrilled when I saw on twitter that anot...        27  0.425000   \n",
       "1                     They are officially open today!        27  0.000000   \n",
       "2   Located at 261 Queen W, in my opinion this is ...        27  1.000000   \n",
       "3   Who wouldn't want to have a comforting hot bow...        27  0.125000   \n",
       "4   Can you believe that they have 450 Arita porce...        27  0.250000   \n",
       "5   So it is not surprising that they even importe...        27 -0.350000   \n",
       "6   Unlike most other ramen shops, Touhenboku used...        27  0.012500   \n",
       "7   Chef Machida also mixed his own flour blend in...        27  0.279286   \n",
       "8   There's 4 types of ramen on their menu : White...        27  0.066667   \n",
       "9   Each topped with wood ear mushrooms, half a bo...        27 -0.183333   \n",
       "10  Then there's the choice of thin and thick nood...        27 -0.231250   \n",
       "11  As per their website: \\n\"Ramen is more than no...        27  0.250000   \n",
       "12  The rich creamy broth is made entirely of chic...        27 -0.091667   \n",
       "13  I totally agree with the first half but i find...        27 -0.129167   \n",
       "14  Here they have the white type of ramen which i...        27  0.000000   \n",
       "15  And after trying both the thin and thick noodl...        27 -0.150000   \n",
       "16  I somehow thought the thick one would be sligh...        27 -0.155556   \n",
       "17  Their recipe is somehow perfect for the thin v...        27  0.300000   \n",
       "18  White $10.50\\n~ Original Touhenboku Ramen\\n~ B...        27  0.140000   \n",
       "19  ~ The soup/broth is really thick and on the oi...        27 -0.212500   \n",
       "\n",
       "                                             stemmed2     NMF_1     NMF_2  \\\n",
       "0   i was thrill when i saw on twitter that anoth ...  0.000000  0.000000   \n",
       "1                        they are offici open today !  0.000000  0.000000   \n",
       "2   locat at queen w  in my opinion this is probab...  0.000178  0.000000   \n",
       "3   who would want to have a comfort hot bowl of r...  0.000000  0.000000   \n",
       "4   can you believ that they have arita porcelain ...  0.000183  0.000000   \n",
       "5   so it is not surpris that they even import the...  0.000000  0.000000   \n",
       "6   unlik most other ramen shop  touhenboku use ch...  0.000000  0.000000   \n",
       "7   chef machida also mix his own flour blend incl...  0.000000  0.000000   \n",
       "8   there type of ramen on their menu : white ( ) ...  0.000000  0.000000   \n",
       "9   each top with wood ear mushroom  half a boil e...  0.000000  0.000000   \n",
       "10  then there the choic of thin and thick noodl a...  0.000000  0.000104   \n",
       "11  as per their websit : ramen is more than noodl...  0.000000  0.000000   \n",
       "12  the rich creami broth is made entir of chicken...  0.000000  0.000000   \n",
       "13  i total agre with the first half but i find th...  0.000000  0.000000   \n",
       "14  here they have the white type of ramen which i...  0.000000  0.000000   \n",
       "15  and after tri both the thin and thick noodl  w...  0.000000  0.000000   \n",
       "16  i somehow thought the thick one would be sligh...  0.000000  0.000115   \n",
       "17  their recip is somehow perfect for the thin ve...  0.000000  0.000000   \n",
       "18  white $ ~ origin touhenboku ramen ~ ben choos ...  0.000000  0.000000   \n",
       "19  ~ the is realli thick and on the oili side but...  0.000000  0.001801   \n",
       "\n",
       "       NMF_3     NMF_4     NMF_5 Max_NMF  \n",
       "0   0.000045  0.000000  0.001705   NMF_5  \n",
       "1   0.000069  0.000000  0.000795   NMF_5  \n",
       "2   0.000313  0.000247  0.001801   NMF_5  \n",
       "3   0.000124  0.000000  0.006069   NMF_5  \n",
       "4   0.000000  0.000000  0.001234   NMF_5  \n",
       "5   0.000000  0.000000  0.000201   NMF_5  \n",
       "6   0.000000  0.000247  0.001630   NMF_5  \n",
       "7   0.000047  0.000000  0.000932   NMF_5  \n",
       "8   0.000000  0.000000  0.001550   NMF_5  \n",
       "9   0.000000  0.000000  0.000817   NMF_5  \n",
       "10  0.000000  0.000000  0.000972   NMF_5  \n",
       "11  0.000000  0.008574  0.000337   NMF_4  \n",
       "12  0.000000  0.000000  0.001026   NMF_5  \n",
       "13  0.000000  0.000078  0.001212   NMF_5  \n",
       "14  0.000000  0.000000  0.000334   NMF_5  \n",
       "15  0.000242  0.000093  0.004172   NMF_5  \n",
       "16  0.000000  0.000019  0.001018   NMF_5  \n",
       "17  0.000000  0.000000  0.000627   NMF_5  \n",
       "18  0.000000  0.000000  0.001558   NMF_5  \n",
       "19  0.000234  0.000000  0.002411   NMF_5  \n",
       "\n",
       "[20 rows x 39 columns]"
      ]
     },
     "execution_count": 505,
     "metadata": {},
     "output_type": "execute_result"
    }
   ],
   "source": [
    "review_NMF.head(20)"
   ]
  },
  {
   "cell_type": "code",
   "execution_count": 506,
   "metadata": {
    "ExecuteTime": {
     "end_time": "2017-11-07T18:53:03.588515Z",
     "start_time": "2017-11-07T18:53:03.512042Z"
    },
    "hidden": true
   },
   "outputs": [
    {
     "data": {
      "text/plain": [
       "NMF_5    276971\n",
       "NMF_1     47309\n",
       "NMF_4     36600\n",
       "NMF_3     36516\n",
       "NMF_2     30967\n",
       "Name: Max_NMF, dtype: int64"
      ]
     },
     "execution_count": 506,
     "metadata": {},
     "output_type": "execute_result"
    }
   ],
   "source": [
    "review_NMF.Max_NMF.value_counts()"
   ]
  },
  {
   "cell_type": "code",
   "execution_count": 507,
   "metadata": {
    "ExecuteTime": {
     "end_time": "2017-11-07T18:53:10.512010Z",
     "start_time": "2017-11-07T18:53:10.504979Z"
    },
    "hidden": true
   },
   "outputs": [
    {
     "name": "stdout",
     "output_type": "stream",
     "text": [
      "Topic 1:\n",
      "great servic atmospher friend staff experi alway price custom excel select spot overal slow place locat attent ambianc quick lunch\n",
      "Topic 2:\n",
      "good veri realli servic pretti price overal tast select portion thing flavor nice alway look experi quit coffe stuff reason\n",
      "Topic 3:\n",
      "place love recommend realli amaz favorit awesom like definit best tri absolut high look want eat star new area busi\n",
      "Topic 4:\n",
      "food delici amaz price excel servic fresh qualiti best fast decent awesom star fantast alway ok better averag drink tasti\n",
      "Topic 5:\n",
      "time order like tri veri just friend come did wait definit realli restaur menu nice onli staff came want drink\n"
     ]
    }
   ],
   "source": [
    "display_topics(nmf, tfidf_feature_names, no_top_words=20)"
   ]
  },
  {
   "cell_type": "markdown",
   "metadata": {
    "heading_collapsed": true
   },
   "source": [
    "### Aggregate NMF Weights\n"
   ]
  },
  {
   "cell_type": "code",
   "execution_count": 508,
   "metadata": {
    "ExecuteTime": {
     "end_time": "2017-11-07T18:55:39.053332Z",
     "start_time": "2017-11-07T18:55:38.227744Z"
    },
    "collapsed": true,
    "hidden": true
   },
   "outputs": [],
   "source": [
    "# Aggregate\n",
    "review_NMF_agg = review_NMF.groupby('review_id').mean().reset_index()[['review_id'] + ['sent_cnt'] + NMF_cols]\n"
   ]
  },
  {
   "cell_type": "code",
   "execution_count": 509,
   "metadata": {
    "ExecuteTime": {
     "end_time": "2017-11-07T18:55:45.077561Z",
     "start_time": "2017-11-07T18:55:44.840825Z"
    },
    "collapsed": true,
    "hidden": true
   },
   "outputs": [],
   "source": [
    "bus_review_NMF = bus_review_small.set_index('review_id').join(review_NMF_agg.set_index('review_id'), how='inner')\n",
    "bus_review_NMF.reset_index(inplace=True)"
   ]
  },
  {
   "cell_type": "code",
   "execution_count": 511,
   "metadata": {
    "ExecuteTime": {
     "end_time": "2017-11-07T18:57:25.873674Z",
     "start_time": "2017-11-07T18:57:25.151517Z"
    },
    "collapsed": true,
    "hidden": true
   },
   "outputs": [],
   "source": [
    "bus_review_NMF.to_pickle('data/bus_review_NMF.pkl')"
   ]
  },
  {
   "cell_type": "code",
   "execution_count": 510,
   "metadata": {
    "ExecuteTime": {
     "end_time": "2017-11-07T18:55:52.134329Z",
     "start_time": "2017-11-07T18:55:52.087820Z"
    },
    "hidden": true
   },
   "outputs": [
    {
     "data": {
      "text/html": [
       "<div>\n",
       "<style>\n",
       "    .dataframe thead tr:only-child th {\n",
       "        text-align: right;\n",
       "    }\n",
       "\n",
       "    .dataframe thead th {\n",
       "        text-align: left;\n",
       "    }\n",
       "\n",
       "    .dataframe tbody tr th {\n",
       "        vertical-align: top;\n",
       "    }\n",
       "</style>\n",
       "<table border=\"1\" class=\"dataframe\">\n",
       "  <thead>\n",
       "    <tr style=\"text-align: right;\">\n",
       "      <th></th>\n",
       "      <th>review_id</th>\n",
       "      <th>user_id</th>\n",
       "      <th>business_id</th>\n",
       "      <th>name</th>\n",
       "      <th>categories</th>\n",
       "      <th>attributes</th>\n",
       "      <th>stars</th>\n",
       "      <th>review_count</th>\n",
       "      <th>city</th>\n",
       "      <th>state</th>\n",
       "      <th>...</th>\n",
       "      <th>yelping_since</th>\n",
       "      <th>first_yr_elite</th>\n",
       "      <th>elite_prior</th>\n",
       "      <th>sent_token</th>\n",
       "      <th>sent_cnt</th>\n",
       "      <th>NMF_1</th>\n",
       "      <th>NMF_2</th>\n",
       "      <th>NMF_3</th>\n",
       "      <th>NMF_4</th>\n",
       "      <th>NMF_5</th>\n",
       "    </tr>\n",
       "  </thead>\n",
       "  <tbody>\n",
       "    <tr>\n",
       "      <th>0</th>\n",
       "      <td>DBFkxzPlSx0VBLdCGWPXpA</td>\n",
       "      <td>i8A3MWU33_mtMu3LUMlnWQ</td>\n",
       "      <td>s-YJpfR-LFRnH7qYVFuJuw</td>\n",
       "      <td>Touhenboku Ramen Restaurant</td>\n",
       "      <td>[Japanese, Food, Restaurants, Ramen, Desserts]</td>\n",
       "      <td>{'RestaurantsTableService': True, 'GoodForMeal...</td>\n",
       "      <td>3.5</td>\n",
       "      <td>201</td>\n",
       "      <td>Toronto</td>\n",
       "      <td>ON</td>\n",
       "      <td>...</td>\n",
       "      <td>2010-11-10</td>\n",
       "      <td>2013.0</td>\n",
       "      <td>1</td>\n",
       "      <td>[I was thrilled when I saw on twitter that ano...</td>\n",
       "      <td>27</td>\n",
       "      <td>0.000664</td>\n",
       "      <td>0.000075</td>\n",
       "      <td>0.000359</td>\n",
       "      <td>0.000350</td>\n",
       "      <td>0.001728</td>\n",
       "    </tr>\n",
       "    <tr>\n",
       "      <th>1</th>\n",
       "      <td>SnwEJ7lAqGs6kZ2nbghudw</td>\n",
       "      <td>NMmu4oC-YRqdi0WY9pV78g</td>\n",
       "      <td>1zH3_Agw8CTgSmKgg4JNmg</td>\n",
       "      <td>Yasda Bento</td>\n",
       "      <td>[Korean, Noodles, Japanese, Restaurants]</td>\n",
       "      <td>{'RestaurantsTableService': False, 'GoodForMea...</td>\n",
       "      <td>3.5</td>\n",
       "      <td>61</td>\n",
       "      <td>Phoenix</td>\n",
       "      <td>AZ</td>\n",
       "      <td>...</td>\n",
       "      <td>2008-08-18</td>\n",
       "      <td>2008.0</td>\n",
       "      <td>1</td>\n",
       "      <td>[went here on a break from Jury Duty once., it...</td>\n",
       "      <td>8</td>\n",
       "      <td>0.000000</td>\n",
       "      <td>0.000013</td>\n",
       "      <td>0.002394</td>\n",
       "      <td>0.001359</td>\n",
       "      <td>0.001455</td>\n",
       "    </tr>\n",
       "    <tr>\n",
       "      <th>2</th>\n",
       "      <td>6GcGV7Sq-axwgmPBdEy3fQ</td>\n",
       "      <td>T23h5oJqopYrLXp_A1GFYA</td>\n",
       "      <td>8XoDXN2DKmQGJHZhkQbJ9A</td>\n",
       "      <td>Emily's Cafe</td>\n",
       "      <td>[Restaurants, Breakfast &amp; Brunch, Cafes]</td>\n",
       "      <td>{'RestaurantsTableService': True, 'GoodForMeal...</td>\n",
       "      <td>3.5</td>\n",
       "      <td>79</td>\n",
       "      <td>Scottsdale</td>\n",
       "      <td>AZ</td>\n",
       "      <td>...</td>\n",
       "      <td>2014-05-23</td>\n",
       "      <td>99999.0</td>\n",
       "      <td>0</td>\n",
       "      <td>[Despite the reviews about slow waiting times ...</td>\n",
       "      <td>5</td>\n",
       "      <td>0.003961</td>\n",
       "      <td>0.001204</td>\n",
       "      <td>0.000087</td>\n",
       "      <td>0.000965</td>\n",
       "      <td>0.005627</td>\n",
       "    </tr>\n",
       "    <tr>\n",
       "      <th>3</th>\n",
       "      <td>0VX2IuiyGmC-LrLfYUnGeQ</td>\n",
       "      <td>bK-lus15ReXTyDqdEj4OQg</td>\n",
       "      <td>6nKR80xEGHYf2UxAe_Cu_g</td>\n",
       "      <td>The Thumb BBQ</td>\n",
       "      <td>[Gas Stations, Burgers, Automotive, American (...</td>\n",
       "      <td>{'Alcohol': 'beer_and_wine', 'HasTV': True, 'N...</td>\n",
       "      <td>4.0</td>\n",
       "      <td>660</td>\n",
       "      <td>Scottsdale</td>\n",
       "      <td>AZ</td>\n",
       "      <td>...</td>\n",
       "      <td>2011-11-04</td>\n",
       "      <td>99999.0</td>\n",
       "      <td>0</td>\n",
       "      <td>[Food quality a 10., Had the pulled pork with ...</td>\n",
       "      <td>3</td>\n",
       "      <td>0.000234</td>\n",
       "      <td>0.000000</td>\n",
       "      <td>0.000126</td>\n",
       "      <td>0.008256</td>\n",
       "      <td>0.000464</td>\n",
       "    </tr>\n",
       "    <tr>\n",
       "      <th>4</th>\n",
       "      <td>Cd3JHCfGtdYdMJ2_Ipqh6Q</td>\n",
       "      <td>uAf25oGZ8aURLI3u57GF_w</td>\n",
       "      <td>NPiLy71qqXzb45k9eQOgCQ</td>\n",
       "      <td>Maizie's Cafe &amp; Bistro</td>\n",
       "      <td>[Cafes, Restaurants, American (New)]</td>\n",
       "      <td>{'RestaurantsTableService': True, 'GoodForMeal...</td>\n",
       "      <td>4.0</td>\n",
       "      <td>382</td>\n",
       "      <td>Phoenix</td>\n",
       "      <td>AZ</td>\n",
       "      <td>...</td>\n",
       "      <td>2011-04-16</td>\n",
       "      <td>99999.0</td>\n",
       "      <td>0</td>\n",
       "      <td>[Great drinks; spectacular sweet potato fries,...</td>\n",
       "      <td>3</td>\n",
       "      <td>0.007892</td>\n",
       "      <td>0.000613</td>\n",
       "      <td>0.000049</td>\n",
       "      <td>0.001073</td>\n",
       "      <td>0.001096</td>\n",
       "    </tr>\n",
       "  </tbody>\n",
       "</table>\n",
       "<p>5 rows × 35 columns</p>\n",
       "</div>"
      ],
      "text/plain": [
       "                review_id                 user_id             business_id  \\\n",
       "0  DBFkxzPlSx0VBLdCGWPXpA  i8A3MWU33_mtMu3LUMlnWQ  s-YJpfR-LFRnH7qYVFuJuw   \n",
       "1  SnwEJ7lAqGs6kZ2nbghudw  NMmu4oC-YRqdi0WY9pV78g  1zH3_Agw8CTgSmKgg4JNmg   \n",
       "2  6GcGV7Sq-axwgmPBdEy3fQ  T23h5oJqopYrLXp_A1GFYA  8XoDXN2DKmQGJHZhkQbJ9A   \n",
       "3  0VX2IuiyGmC-LrLfYUnGeQ  bK-lus15ReXTyDqdEj4OQg  6nKR80xEGHYf2UxAe_Cu_g   \n",
       "4  Cd3JHCfGtdYdMJ2_Ipqh6Q  uAf25oGZ8aURLI3u57GF_w  NPiLy71qqXzb45k9eQOgCQ   \n",
       "\n",
       "                          name  \\\n",
       "0  Touhenboku Ramen Restaurant   \n",
       "1                  Yasda Bento   \n",
       "2                 Emily's Cafe   \n",
       "3                The Thumb BBQ   \n",
       "4       Maizie's Cafe & Bistro   \n",
       "\n",
       "                                          categories  \\\n",
       "0     [Japanese, Food, Restaurants, Ramen, Desserts]   \n",
       "1           [Korean, Noodles, Japanese, Restaurants]   \n",
       "2           [Restaurants, Breakfast & Brunch, Cafes]   \n",
       "3  [Gas Stations, Burgers, Automotive, American (...   \n",
       "4               [Cafes, Restaurants, American (New)]   \n",
       "\n",
       "                                          attributes stars  review_count  \\\n",
       "0  {'RestaurantsTableService': True, 'GoodForMeal...   3.5           201   \n",
       "1  {'RestaurantsTableService': False, 'GoodForMea...   3.5            61   \n",
       "2  {'RestaurantsTableService': True, 'GoodForMeal...   3.5            79   \n",
       "3  {'Alcohol': 'beer_and_wine', 'HasTV': True, 'N...   4.0           660   \n",
       "4  {'RestaurantsTableService': True, 'GoodForMeal...   4.0           382   \n",
       "\n",
       "         city state    ...    yelping_since  first_yr_elite  elite_prior  \\\n",
       "0     Toronto    ON    ...       2010-11-10          2013.0            1   \n",
       "1     Phoenix    AZ    ...       2008-08-18          2008.0            1   \n",
       "2  Scottsdale    AZ    ...       2014-05-23         99999.0            0   \n",
       "3  Scottsdale    AZ    ...       2011-11-04         99999.0            0   \n",
       "4     Phoenix    AZ    ...       2011-04-16         99999.0            0   \n",
       "\n",
       "                                          sent_token  sent_cnt     NMF_1  \\\n",
       "0  [I was thrilled when I saw on twitter that ano...        27  0.000664   \n",
       "1  [went here on a break from Jury Duty once., it...         8  0.000000   \n",
       "2  [Despite the reviews about slow waiting times ...         5  0.003961   \n",
       "3  [Food quality a 10., Had the pulled pork with ...         3  0.000234   \n",
       "4  [Great drinks; spectacular sweet potato fries,...         3  0.007892   \n",
       "\n",
       "      NMF_2     NMF_3     NMF_4     NMF_5  \n",
       "0  0.000075  0.000359  0.000350  0.001728  \n",
       "1  0.000013  0.002394  0.001359  0.001455  \n",
       "2  0.001204  0.000087  0.000965  0.005627  \n",
       "3  0.000000  0.000126  0.008256  0.000464  \n",
       "4  0.000613  0.000049  0.001073  0.001096  \n",
       "\n",
       "[5 rows x 35 columns]"
      ]
     },
     "execution_count": 510,
     "metadata": {},
     "output_type": "execute_result"
    }
   ],
   "source": [
    "bus_review_NMF.head()"
   ]
  },
  {
   "cell_type": "code",
   "execution_count": null,
   "metadata": {
    "collapsed": true,
    "hidden": true
   },
   "outputs": [],
   "source": []
  },
  {
   "cell_type": "code",
   "execution_count": null,
   "metadata": {
    "collapsed": true,
    "hidden": true
   },
   "outputs": [],
   "source": []
  },
  {
   "cell_type": "markdown",
   "metadata": {},
   "source": [
    "### Create Flag for Useful / Funny LDA"
   ]
  },
  {
   "cell_type": "code",
   "execution_count": 265,
   "metadata": {
    "ExecuteTime": {
     "end_time": "2017-11-06T16:09:32.620487Z",
     "start_time": "2017-11-06T16:09:30.474283Z"
    },
    "collapsed": true
   },
   "outputs": [],
   "source": [
    "bus_review_LDA_mny = np.load('data/bus_review_LDA_mny.pkl')"
   ]
  },
  {
   "cell_type": "code",
   "execution_count": 122,
   "metadata": {
    "ExecuteTime": {
     "end_time": "2017-11-08T01:44:33.111014Z",
     "start_time": "2017-11-08T01:44:33.093154Z"
    },
    "collapsed": true
   },
   "outputs": [],
   "source": [
    "# create Targets flags\n",
    "for df in [bus_review_LDA_mny_pol, review_LDA]:\n",
    "    \n",
    "    df['useful_flag'] = np.where(df['useful'] >= 3, 1, 0)\n",
    "    df['funny_flag'] = np.where(df['funny'] >= 3, 1, 0)\n",
    "    df['cool_flag'] = np.where(df['cool'] >= 3, 1, 0)\n",
    "\n"
   ]
  },
  {
   "cell_type": "code",
   "execution_count": 123,
   "metadata": {
    "ExecuteTime": {
     "end_time": "2017-11-08T01:44:37.524658Z",
     "start_time": "2017-11-08T01:44:37.514114Z"
    }
   },
   "outputs": [
    {
     "data": {
      "text/plain": [
       "0    0.785497\n",
       "1    0.214503\n",
       "Name: useful_flag, dtype: float64"
      ]
     },
     "execution_count": 123,
     "metadata": {},
     "output_type": "execute_result"
    }
   ],
   "source": [
    "bus_review_LDA_mny_pol.useful_flag.value_counts(normalize=True)"
   ]
  },
  {
   "cell_type": "code",
   "execution_count": 94,
   "metadata": {
    "ExecuteTime": {
     "end_time": "2017-11-08T01:15:55.259044Z",
     "start_time": "2017-11-08T01:15:55.252711Z"
    }
   },
   "outputs": [
    {
     "data": {
      "text/plain": [
       "Index(['review_id', 'user_id', 'user_rvw_cnt', 'business_id', 'name',\n",
       "       'categories', 'attributes', 'stars', 'review_count', 'city', 'state',\n",
       "       'postal_code', 'latitude', 'longitude', 'categories2', 'name_cnt',\n",
       "       'Sushi', 'Pizza', 'Restaurants', 'Cat_Flag', 'cool', 'date', 'funny',\n",
       "       'user_stars', 'review_txt', 'useful', 'yelping_since', 'first_yr_elite',\n",
       "       'elite_prior', 'sent_cnt', 'LDA_1', 'LDA_2', 'LDA_3', 'LDA_4', 'LDA_5',\n",
       "       'LDA_6', 'LDA_7', 'LDA_8', 'LDA_9', 'LDA_10', 'LDA_11', 'LDA_12',\n",
       "       'useful_flag', 'funny_flag', 'cool_flag'],\n",
       "      dtype='object')"
      ]
     },
     "execution_count": 94,
     "metadata": {},
     "output_type": "execute_result"
    }
   ],
   "source": [
    "bus_review_LDA_mny.columns"
   ]
  },
  {
   "cell_type": "code",
   "execution_count": 95,
   "metadata": {
    "ExecuteTime": {
     "end_time": "2017-11-08T01:15:59.379750Z",
     "start_time": "2017-11-08T01:15:59.306111Z"
    }
   },
   "outputs": [
    {
     "data": {
      "text/html": [
       "<div>\n",
       "<style>\n",
       "    .dataframe thead tr:only-child th {\n",
       "        text-align: right;\n",
       "    }\n",
       "\n",
       "    .dataframe thead th {\n",
       "        text-align: left;\n",
       "    }\n",
       "\n",
       "    .dataframe tbody tr th {\n",
       "        vertical-align: top;\n",
       "    }\n",
       "</style>\n",
       "<table border=\"1\" class=\"dataframe\">\n",
       "  <thead>\n",
       "    <tr style=\"text-align: right;\">\n",
       "      <th></th>\n",
       "      <th>review_id</th>\n",
       "      <th>user_id</th>\n",
       "      <th>user_rvw_cnt</th>\n",
       "      <th>business_id</th>\n",
       "      <th>name</th>\n",
       "      <th>categories</th>\n",
       "      <th>attributes</th>\n",
       "      <th>stars</th>\n",
       "      <th>review_count</th>\n",
       "      <th>city</th>\n",
       "      <th>...</th>\n",
       "      <th>LDA_6</th>\n",
       "      <th>LDA_7</th>\n",
       "      <th>LDA_8</th>\n",
       "      <th>LDA_9</th>\n",
       "      <th>LDA_10</th>\n",
       "      <th>LDA_11</th>\n",
       "      <th>LDA_12</th>\n",
       "      <th>useful_flag</th>\n",
       "      <th>funny_flag</th>\n",
       "      <th>cool_flag</th>\n",
       "    </tr>\n",
       "  </thead>\n",
       "  <tbody>\n",
       "    <tr>\n",
       "      <th>0</th>\n",
       "      <td>LdvZmKFR4wk_fbP9dPiREw</td>\n",
       "      <td>SlDD_u9gt9-RTviBWHAy4A</td>\n",
       "      <td>47</td>\n",
       "      <td>tdo6JvAKwmMAKU8T5jfORw</td>\n",
       "      <td>Fidelli Kitchen</td>\n",
       "      <td>[Italian, Nightlife, Wine Bars, Restaurants, B...</td>\n",
       "      <td>{'Alcohol': 'beer_and_wine', 'HasTV': False, '...</td>\n",
       "      <td>4.0</td>\n",
       "      <td>47</td>\n",
       "      <td>Charlotte</td>\n",
       "      <td>...</td>\n",
       "      <td>0.047090</td>\n",
       "      <td>0.102646</td>\n",
       "      <td>0.055026</td>\n",
       "      <td>0.058995</td>\n",
       "      <td>0.094005</td>\n",
       "      <td>0.023281</td>\n",
       "      <td>0.098677</td>\n",
       "      <td>1</td>\n",
       "      <td>1</td>\n",
       "      <td>1</td>\n",
       "    </tr>\n",
       "    <tr>\n",
       "      <th>1</th>\n",
       "      <td>m8ln3p3ZaPkr05JtJ6M0Ug</td>\n",
       "      <td>-YYe0kff9YAYzr5L09TT_A</td>\n",
       "      <td>7</td>\n",
       "      <td>ukAUNyzUcBA4Su8UKjaJKg</td>\n",
       "      <td>7 Numbers Restaurant</td>\n",
       "      <td>[Restaurants, Italian]</td>\n",
       "      <td>{'RestaurantsTableService': True, 'GoodForMeal...</td>\n",
       "      <td>4.0</td>\n",
       "      <td>86</td>\n",
       "      <td>Toronto</td>\n",
       "      <td>...</td>\n",
       "      <td>0.073547</td>\n",
       "      <td>0.117430</td>\n",
       "      <td>0.038137</td>\n",
       "      <td>0.063862</td>\n",
       "      <td>0.042841</td>\n",
       "      <td>0.095687</td>\n",
       "      <td>0.093251</td>\n",
       "      <td>0</td>\n",
       "      <td>0</td>\n",
       "      <td>0</td>\n",
       "    </tr>\n",
       "    <tr>\n",
       "      <th>2</th>\n",
       "      <td>H-lonjG5lZMl2a3EvfUftQ</td>\n",
       "      <td>4wfyhqXWAeVPxmAk-dlneg</td>\n",
       "      <td>2</td>\n",
       "      <td>5C58ejb2nmJojUFPlvJj2A</td>\n",
       "      <td>Masa Sushi &amp; Teppanyaki</td>\n",
       "      <td>[Restaurants, Sushi Bars, Japanese]</td>\n",
       "      <td>{'RestaurantsTableService': True, 'GoodForMeal...</td>\n",
       "      <td>2.5</td>\n",
       "      <td>70</td>\n",
       "      <td>Toronto</td>\n",
       "      <td>...</td>\n",
       "      <td>0.055617</td>\n",
       "      <td>0.089937</td>\n",
       "      <td>0.033802</td>\n",
       "      <td>0.034631</td>\n",
       "      <td>0.168715</td>\n",
       "      <td>0.116587</td>\n",
       "      <td>0.114808</td>\n",
       "      <td>0</td>\n",
       "      <td>0</td>\n",
       "      <td>0</td>\n",
       "    </tr>\n",
       "    <tr>\n",
       "      <th>3</th>\n",
       "      <td>7uyEkP-At04L-tqKxQR7xg</td>\n",
       "      <td>HyipU_GItJtOcKzHSKeQjw</td>\n",
       "      <td>1</td>\n",
       "      <td>IAqyeVG1ZMrv7hiV3FAB6Q</td>\n",
       "      <td>Shanghai Buffet</td>\n",
       "      <td>[Buffets, Chinese, Restaurants]</td>\n",
       "      <td>{'RestaurantsTableService': True, 'GoodForMeal...</td>\n",
       "      <td>3.0</td>\n",
       "      <td>53</td>\n",
       "      <td>Phoenix</td>\n",
       "      <td>...</td>\n",
       "      <td>0.081224</td>\n",
       "      <td>0.059795</td>\n",
       "      <td>0.106224</td>\n",
       "      <td>0.014557</td>\n",
       "      <td>0.236424</td>\n",
       "      <td>0.183394</td>\n",
       "      <td>0.014557</td>\n",
       "      <td>0</td>\n",
       "      <td>0</td>\n",
       "      <td>0</td>\n",
       "    </tr>\n",
       "    <tr>\n",
       "      <th>4</th>\n",
       "      <td>9gS31FpSssSAjNYcgS9ycA</td>\n",
       "      <td>iT9-cHTEkzUmb85Evy7xcg</td>\n",
       "      <td>53</td>\n",
       "      <td>Tw3miGKZHtmxmaQZIYFRrA</td>\n",
       "      <td>Federal Pizza</td>\n",
       "      <td>[Restaurants, Italian, Pizza]</td>\n",
       "      <td>{'Alcohol': 'beer_and_wine', 'HasTV': True, 'N...</td>\n",
       "      <td>4.5</td>\n",
       "      <td>707</td>\n",
       "      <td>Phoenix</td>\n",
       "      <td>...</td>\n",
       "      <td>0.076631</td>\n",
       "      <td>0.027272</td>\n",
       "      <td>0.012528</td>\n",
       "      <td>0.040947</td>\n",
       "      <td>0.085056</td>\n",
       "      <td>0.118755</td>\n",
       "      <td>0.081264</td>\n",
       "      <td>0</td>\n",
       "      <td>1</td>\n",
       "      <td>0</td>\n",
       "    </tr>\n",
       "  </tbody>\n",
       "</table>\n",
       "<p>5 rows × 45 columns</p>\n",
       "</div>"
      ],
      "text/plain": [
       "                review_id                 user_id  user_rvw_cnt  \\\n",
       "0  LdvZmKFR4wk_fbP9dPiREw  SlDD_u9gt9-RTviBWHAy4A            47   \n",
       "1  m8ln3p3ZaPkr05JtJ6M0Ug  -YYe0kff9YAYzr5L09TT_A             7   \n",
       "2  H-lonjG5lZMl2a3EvfUftQ  4wfyhqXWAeVPxmAk-dlneg             2   \n",
       "3  7uyEkP-At04L-tqKxQR7xg  HyipU_GItJtOcKzHSKeQjw             1   \n",
       "4  9gS31FpSssSAjNYcgS9ycA  iT9-cHTEkzUmb85Evy7xcg            53   \n",
       "\n",
       "              business_id                     name  \\\n",
       "0  tdo6JvAKwmMAKU8T5jfORw          Fidelli Kitchen   \n",
       "1  ukAUNyzUcBA4Su8UKjaJKg     7 Numbers Restaurant   \n",
       "2  5C58ejb2nmJojUFPlvJj2A  Masa Sushi & Teppanyaki   \n",
       "3  IAqyeVG1ZMrv7hiV3FAB6Q          Shanghai Buffet   \n",
       "4  Tw3miGKZHtmxmaQZIYFRrA            Federal Pizza   \n",
       "\n",
       "                                          categories  \\\n",
       "0  [Italian, Nightlife, Wine Bars, Restaurants, B...   \n",
       "1                             [Restaurants, Italian]   \n",
       "2                [Restaurants, Sushi Bars, Japanese]   \n",
       "3                    [Buffets, Chinese, Restaurants]   \n",
       "4                      [Restaurants, Italian, Pizza]   \n",
       "\n",
       "                                          attributes stars  review_count  \\\n",
       "0  {'Alcohol': 'beer_and_wine', 'HasTV': False, '...   4.0            47   \n",
       "1  {'RestaurantsTableService': True, 'GoodForMeal...   4.0            86   \n",
       "2  {'RestaurantsTableService': True, 'GoodForMeal...   2.5            70   \n",
       "3  {'RestaurantsTableService': True, 'GoodForMeal...   3.0            53   \n",
       "4  {'Alcohol': 'beer_and_wine', 'HasTV': True, 'N...   4.5           707   \n",
       "\n",
       "        city    ...         LDA_6     LDA_7     LDA_8     LDA_9    LDA_10  \\\n",
       "0  Charlotte    ...      0.047090  0.102646  0.055026  0.058995  0.094005   \n",
       "1    Toronto    ...      0.073547  0.117430  0.038137  0.063862  0.042841   \n",
       "2    Toronto    ...      0.055617  0.089937  0.033802  0.034631  0.168715   \n",
       "3    Phoenix    ...      0.081224  0.059795  0.106224  0.014557  0.236424   \n",
       "4    Phoenix    ...      0.076631  0.027272  0.012528  0.040947  0.085056   \n",
       "\n",
       "     LDA_11    LDA_12  useful_flag  funny_flag  cool_flag  \n",
       "0  0.023281  0.098677            1           1          1  \n",
       "1  0.095687  0.093251            0           0          0  \n",
       "2  0.116587  0.114808            0           0          0  \n",
       "3  0.183394  0.014557            0           0          0  \n",
       "4  0.118755  0.081264            0           1          0  \n",
       "\n",
       "[5 rows x 45 columns]"
      ]
     },
     "execution_count": 95,
     "metadata": {},
     "output_type": "execute_result"
    }
   ],
   "source": [
    "bus_review_LDA_mny.head()"
   ]
  },
  {
   "cell_type": "markdown",
   "metadata": {},
   "source": [
    "### Predict Useful LDA - Review Level"
   ]
  },
  {
   "cell_type": "code",
   "execution_count": 372,
   "metadata": {
    "ExecuteTime": {
     "end_time": "2017-11-06T21:15:50.482361Z",
     "start_time": "2017-11-06T21:15:50.479284Z"
    },
    "collapsed": true,
    "scrolled": true
   },
   "outputs": [],
   "source": [
    "#review_LDA.isnull().sum()"
   ]
  },
  {
   "cell_type": "code",
   "execution_count": 124,
   "metadata": {
    "ExecuteTime": {
     "end_time": "2017-11-08T01:45:03.721788Z",
     "start_time": "2017-11-08T01:45:03.712804Z"
    },
    "scrolled": true
   },
   "outputs": [
    {
     "data": {
      "text/plain": [
       "['LDA_1',\n",
       " 'LDA_2',\n",
       " 'LDA_3',\n",
       " 'LDA_4',\n",
       " 'LDA_5',\n",
       " 'LDA_6',\n",
       " 'LDA_7',\n",
       " 'LDA_8',\n",
       " 'LDA_9',\n",
       " 'LDA_10',\n",
       " 'LDA_11',\n",
       " 'sent_cnt',\n",
       " 'user_stars',\n",
       " 'elite_prior',\n",
       " 'polarity']"
      ]
     },
     "execution_count": 124,
     "metadata": {},
     "output_type": "execute_result"
    }
   ],
   "source": [
    "no_topics = 12\n",
    "LDA_cols_pred = ['LDA_' + str(i) for i in range(1, no_topics)]\n",
    "\n",
    "feature_cols = LDA_cols_pred + ['sent_cnt'] + ['user_stars'] + ['elite_prior'] + ['polarity']\n",
    "#  + ['sent_cnt'] + ['user_stars'] + ['elite_prior']\n",
    "feature_cols"
   ]
  },
  {
   "cell_type": "code",
   "execution_count": 168,
   "metadata": {
    "ExecuteTime": {
     "end_time": "2017-11-08T02:19:48.665463Z",
     "start_time": "2017-11-08T02:19:48.660148Z"
    }
   },
   "outputs": [
    {
     "data": {
      "text/plain": [
       "(15142, 46)"
      ]
     },
     "execution_count": 168,
     "metadata": {},
     "output_type": "execute_result"
    }
   ],
   "source": [
    "bus_review_LDA_mny_pol.shape"
   ]
  },
  {
   "cell_type": "code",
   "execution_count": 334,
   "metadata": {
    "ExecuteTime": {
     "end_time": "2017-11-10T11:27:50.359750Z",
     "start_time": "2017-11-10T11:27:50.338688Z"
    }
   },
   "outputs": [
    {
     "data": {
      "text/plain": [
       "0    15.779855\n",
       "1    17.099804\n",
       "Name: sent_cnt, dtype: float64"
      ]
     },
     "execution_count": 334,
     "metadata": {},
     "output_type": "execute_result"
    }
   ],
   "source": [
    "# bus_review_LDA_mny_pol.groupby('elite_prior').mean().reset_index()['sent_cnt']\n",
    "\n"
   ]
  },
  {
   "cell_type": "code",
   "execution_count": 169,
   "metadata": {
    "ExecuteTime": {
     "end_time": "2017-11-08T02:19:55.063680Z",
     "start_time": "2017-11-08T02:19:55.022885Z"
    }
   },
   "outputs": [],
   "source": [
    "\n",
    "X = bus_review_LDA_mny_pol[bus_review_LDA_mny_pol['useful'] >= 0][feature_cols]\n",
    "y = bus_review_LDA_mny_pol[bus_review_LDA_mny_pol['useful'] >= 0]['useful_flag']\n",
    "\n",
    "# train/test split\n",
    "X_train, X_test, y_train, y_test = train_test_split(X, y, test_size=0.3, random_state=123)\n"
   ]
  },
  {
   "cell_type": "code",
   "execution_count": 170,
   "metadata": {
    "ExecuteTime": {
     "end_time": "2017-11-08T02:20:00.381701Z",
     "start_time": "2017-11-08T02:20:00.164323Z"
    }
   },
   "outputs": [
    {
     "name": "stdout",
     "output_type": "stream",
     "text": [
      "Logistic Train ROC: 0.707637279054\n",
      "Logistic Test ROC: 0.704656684623\n",
      "[[2285 1266]\n",
      " [ 342  650]]\n",
      "\n",
      "precision 0.339248434238\n",
      "recall 0.655241935484\n",
      "avg precision: 0.405784119604\n"
     ]
    }
   ],
   "source": [
    "logregM_LDA = LogisticRegression(C=1, penalty='l2', random_state=100, class_weight='balanced')\n",
    "\n",
    "logregM_LDA.fit(X_train, y_train)\n",
    "\n",
    "y_pred_train = logregM_LDA.predict_proba(X_train)\n",
    "y_pred_test = logregM_LDA.predict_proba(X_test)\n",
    "y_pred_test_class = logregM_LDA.predict(X_test)\n",
    "\n",
    "fpr_rt_LR, tpr_rt_LR, _ = roc_curve(y_test, y_pred_test[:,1])\n",
    "\n",
    "print (\"Logistic Train ROC:\", metrics.roc_auc_score(y_train, y_pred_train[:,1]))\n",
    "print (\"Logistic Test ROC:\", metrics.roc_auc_score(y_test, y_pred_test[:,1]))\n",
    "\n",
    "lr_auc = metrics.roc_auc_score(y_test, y_pred_test[:,1])\n",
    "\n",
    "print(metrics.confusion_matrix(y_test, y_pred_test_class))\n",
    "print(\"\\nprecision\", metrics.precision_score(y_test, y_pred_test_class))\n",
    "print(\"recall\", metrics.recall_score(y_test, y_pred_test_class))\n",
    "\n",
    "print(\"avg precision:\", average_precision_score(y_test, y_pred_test[:,1]))\n"
   ]
  },
  {
   "cell_type": "code",
   "execution_count": 285,
   "metadata": {
    "ExecuteTime": {
     "end_time": "2017-11-08T20:44:29.539098Z",
     "start_time": "2017-11-08T20:44:29.529710Z"
    }
   },
   "outputs": [
    {
     "data": {
      "text/plain": [
       "['logregM_LDA.pkl']"
      ]
     },
     "execution_count": 285,
     "metadata": {},
     "output_type": "execute_result"
    }
   ],
   "source": [
    "joblib.dump(logregM_LDA, 'logregM_LDA.pkl', protocol=2)"
   ]
  },
  {
   "cell_type": "code",
   "execution_count": 329,
   "metadata": {
    "ExecuteTime": {
     "end_time": "2017-11-10T01:22:50.488963Z",
     "start_time": "2017-11-10T01:22:50.482858Z"
    },
    "scrolled": true
   },
   "outputs": [
    {
     "data": {
      "text/plain": [
       "[(-0.34999999999999998, 'LDA_1'),\n",
       " (0.31, 'LDA_2'),\n",
       " (-0.66000000000000003, 'LDA_3'),\n",
       " (1.8600000000000001, 'LDA_4'),\n",
       " (-1.6599999999999999, 'LDA_5'),\n",
       " (0.070000000000000007, 'LDA_6'),\n",
       " (1.1000000000000001, 'LDA_7'),\n",
       " (-0.20000000000000001, 'LDA_8'),\n",
       " (1.02, 'LDA_9'),\n",
       " (-2.25, 'LDA_10'),\n",
       " (-0.83999999999999997, 'LDA_11'),\n",
       " (0.050000000000000003, 'sent_cnt'),\n",
       " (-0.02, 'user_stars'),\n",
       " (1.2, 'elite_prior'),\n",
       " (-0.75, 'polarity')]"
      ]
     },
     "execution_count": 329,
     "metadata": {},
     "output_type": "execute_result"
    }
   ],
   "source": [
    "(list(zip(np.round(logregM_LDA.coef_[0], 2), feature_cols)))"
   ]
  },
  {
   "cell_type": "code",
   "execution_count": null,
   "metadata": {
    "collapsed": true
   },
   "outputs": [],
   "source": []
  },
  {
   "cell_type": "code",
   "execution_count": null,
   "metadata": {
    "collapsed": true
   },
   "outputs": [],
   "source": []
  },
  {
   "cell_type": "code",
   "execution_count": null,
   "metadata": {
    "collapsed": true
   },
   "outputs": [],
   "source": []
  },
  {
   "cell_type": "code",
   "execution_count": 135,
   "metadata": {
    "ExecuteTime": {
     "end_time": "2017-11-08T01:50:47.776297Z",
     "start_time": "2017-11-08T01:50:41.174218Z"
    },
    "scrolled": false
   },
   "outputs": [
    {
     "name": "stdout",
     "output_type": "stream",
     "text": [
      "RForest ROC train:  0.732386070456\n",
      "RForest ROC test:  0.700863455092\n",
      "[[2297 1254]\n",
      " [ 348  644]]\n",
      "\n",
      "precision 0.339304531085\n",
      "recall 0.649193548387\n",
      "avg precision: 0.397198966898\n"
     ]
    },
    {
     "data": {
      "text/html": [
       "<div>\n",
       "<style>\n",
       "    .dataframe thead tr:only-child th {\n",
       "        text-align: right;\n",
       "    }\n",
       "\n",
       "    .dataframe thead th {\n",
       "        text-align: left;\n",
       "    }\n",
       "\n",
       "    .dataframe tbody tr th {\n",
       "        vertical-align: top;\n",
       "    }\n",
       "</style>\n",
       "<table border=\"1\" class=\"dataframe\">\n",
       "  <thead>\n",
       "    <tr style=\"text-align: right;\">\n",
       "      <th></th>\n",
       "      <th>feature</th>\n",
       "      <th>importance</th>\n",
       "    </tr>\n",
       "  </thead>\n",
       "  <tbody>\n",
       "    <tr>\n",
       "      <th>0</th>\n",
       "      <td>elite_prior</td>\n",
       "      <td>0.445836</td>\n",
       "    </tr>\n",
       "    <tr>\n",
       "      <th>1</th>\n",
       "      <td>sent_cnt</td>\n",
       "      <td>0.203329</td>\n",
       "    </tr>\n",
       "    <tr>\n",
       "      <th>2</th>\n",
       "      <td>LDA_10</td>\n",
       "      <td>0.052987</td>\n",
       "    </tr>\n",
       "    <tr>\n",
       "      <th>3</th>\n",
       "      <td>LDA_5</td>\n",
       "      <td>0.039460</td>\n",
       "    </tr>\n",
       "    <tr>\n",
       "      <th>4</th>\n",
       "      <td>LDA_4</td>\n",
       "      <td>0.036266</td>\n",
       "    </tr>\n",
       "    <tr>\n",
       "      <th>5</th>\n",
       "      <td>LDA_1</td>\n",
       "      <td>0.034708</td>\n",
       "    </tr>\n",
       "    <tr>\n",
       "      <th>6</th>\n",
       "      <td>polarity</td>\n",
       "      <td>0.029257</td>\n",
       "    </tr>\n",
       "    <tr>\n",
       "      <th>7</th>\n",
       "      <td>LDA_8</td>\n",
       "      <td>0.026976</td>\n",
       "    </tr>\n",
       "    <tr>\n",
       "      <th>8</th>\n",
       "      <td>LDA_9</td>\n",
       "      <td>0.023613</td>\n",
       "    </tr>\n",
       "    <tr>\n",
       "      <th>9</th>\n",
       "      <td>LDA_7</td>\n",
       "      <td>0.022360</td>\n",
       "    </tr>\n",
       "    <tr>\n",
       "      <th>10</th>\n",
       "      <td>LDA_6</td>\n",
       "      <td>0.021296</td>\n",
       "    </tr>\n",
       "    <tr>\n",
       "      <th>11</th>\n",
       "      <td>LDA_2</td>\n",
       "      <td>0.017934</td>\n",
       "    </tr>\n",
       "    <tr>\n",
       "      <th>12</th>\n",
       "      <td>LDA_3</td>\n",
       "      <td>0.015654</td>\n",
       "    </tr>\n",
       "    <tr>\n",
       "      <th>13</th>\n",
       "      <td>LDA_11</td>\n",
       "      <td>0.015537</td>\n",
       "    </tr>\n",
       "    <tr>\n",
       "      <th>14</th>\n",
       "      <td>user_stars</td>\n",
       "      <td>0.014786</td>\n",
       "    </tr>\n",
       "  </tbody>\n",
       "</table>\n",
       "</div>"
      ],
      "text/plain": [
       "        feature  importance\n",
       "0   elite_prior    0.445836\n",
       "1      sent_cnt    0.203329\n",
       "2        LDA_10    0.052987\n",
       "3         LDA_5    0.039460\n",
       "4         LDA_4    0.036266\n",
       "5         LDA_1    0.034708\n",
       "6      polarity    0.029257\n",
       "7         LDA_8    0.026976\n",
       "8         LDA_9    0.023613\n",
       "9         LDA_7    0.022360\n",
       "10        LDA_6    0.021296\n",
       "11        LDA_2    0.017934\n",
       "12        LDA_3    0.015654\n",
       "13       LDA_11    0.015537\n",
       "14   user_stars    0.014786"
      ]
     },
     "execution_count": 135,
     "metadata": {},
     "output_type": "execute_result"
    }
   ],
   "source": [
    "Forest = RandomForestClassifier(n_estimators=500, max_depth = 4, min_samples_split=30, class_weight='balanced',\n",
    "                                bootstrap=True, oob_score=True, random_state=100)\n",
    "\n",
    "Forest.fit(X_train, y_train)\n",
    "y_pred_train = Forest.predict_proba(X_train)\n",
    "y_pred_test = Forest.predict_proba(X_test)\n",
    "y_pred_test_class = Forest.predict(X_test)\n",
    "\n",
    "fpr_rt_RF, tpr_rt_RF, _ = roc_curve(y_test, y_pred_test[:,1])\n",
    "\n",
    "#print(\"RForest Accuracy: \", metrics.accuracy_score(y_test, y_pred_test))\n",
    "print(\"RForest ROC train: \", metrics.roc_auc_score(y_train, y_pred_train[:,1]))\n",
    "print(\"RForest ROC test: \", metrics.roc_auc_score(y_test, y_pred_test[:,1]))\n",
    "\n",
    "rf_auc = metrics.roc_auc_score(y_test, y_pred_test[:,1])\n",
    "\n",
    "\n",
    "print(metrics.confusion_matrix(y_test, y_pred_test_class))\n",
    "\n",
    "print(\"\\nprecision\", metrics.precision_score(y_test, y_pred_test_class))\n",
    "print(\"recall\", metrics.recall_score(y_test, y_pred_test_class))\n",
    "\n",
    "print(\"avg precision:\", average_precision_score(y_test, y_pred_test[:,1]))\n",
    "\n",
    "features = X_train.columns\n",
    "pd.DataFrame({'feature': features, 'importance': Forest.feature_importances_}).\\\n",
    "sort_values('importance', ascending=False).reset_index(drop=True)\n"
   ]
  },
  {
   "cell_type": "code",
   "execution_count": 106,
   "metadata": {
    "ExecuteTime": {
     "end_time": "2017-11-08T01:23:41.167054Z",
     "start_time": "2017-11-08T01:23:41.161547Z"
    }
   },
   "outputs": [
    {
     "data": {
      "text/plain": [
       "Index(['user_id', 'user_rvw_cnt', 'business_id', 'name', 'categories',\n",
       "       'attributes', 'stars', 'review_count', 'city', 'state', 'postal_code',\n",
       "       'latitude', 'longitude', 'categories2', 'name_cnt', 'Sushi', 'Pizza',\n",
       "       'Restaurants', 'Cat_Flag', 'cool', 'date', 'funny', 'review_id',\n",
       "       'user_stars', 'review_txt', 'useful', 'yelping_since', 'first_yr_elite',\n",
       "       'elite_prior', 'sent_token', 'sentence', 'sent_cnt', 'polarity',\n",
       "       'stemmed2', 'LDA_1', 'LDA_2', 'LDA_3', 'LDA_4', 'LDA_5', 'LDA_6',\n",
       "       'LDA_7', 'LDA_8', 'LDA_9', 'LDA_10', 'LDA_11', 'LDA_12', 'Max_LDA',\n",
       "       'useful_flag', 'funny_flag', 'cool_flag'],\n",
       "      dtype='object')"
      ]
     },
     "execution_count": 106,
     "metadata": {},
     "output_type": "execute_result"
    }
   ],
   "source": [
    "review_LDA.columns"
   ]
  },
  {
   "cell_type": "markdown",
   "metadata": {},
   "source": [
    "### Predict Usefulness - Sentence Level"
   ]
  },
  {
   "cell_type": "code",
   "execution_count": 107,
   "metadata": {
    "ExecuteTime": {
     "end_time": "2017-11-08T01:23:54.429913Z",
     "start_time": "2017-11-08T01:23:54.420583Z"
    },
    "scrolled": true
   },
   "outputs": [
    {
     "data": {
      "text/plain": [
       "['LDA_1',\n",
       " 'LDA_2',\n",
       " 'LDA_3',\n",
       " 'LDA_4',\n",
       " 'LDA_5',\n",
       " 'LDA_6',\n",
       " 'LDA_7',\n",
       " 'LDA_8',\n",
       " 'LDA_9',\n",
       " 'LDA_10',\n",
       " 'LDA_11',\n",
       " 'sent_cnt',\n",
       " 'user_stars',\n",
       " 'elite_prior',\n",
       " 'polarity']"
      ]
     },
     "execution_count": 107,
     "metadata": {},
     "output_type": "execute_result"
    }
   ],
   "source": [
    "no_topics = 12\n",
    "LDA_cols_pred = ['LDA_' + str(i) for i in range(1, no_topics)]\n",
    "\n",
    "feature_cols = LDA_cols_pred + ['sent_cnt'] + ['user_stars'] + ['elite_prior'] + ['polarity']\n",
    "#  + ['sent_cnt'] + ['user_stars'] + ['elite_prior']\n",
    "feature_cols"
   ]
  },
  {
   "cell_type": "code",
   "execution_count": 175,
   "metadata": {
    "ExecuteTime": {
     "end_time": "2017-11-08T02:21:42.844930Z",
     "start_time": "2017-11-08T02:21:42.828491Z"
    }
   },
   "outputs": [
    {
     "data": {
      "text/plain": [
       "(246358, 50)"
      ]
     },
     "execution_count": 175,
     "metadata": {},
     "output_type": "execute_result"
    }
   ],
   "source": [
    "review_LDA.shape"
   ]
  },
  {
   "cell_type": "code",
   "execution_count": 176,
   "metadata": {
    "ExecuteTime": {
     "end_time": "2017-11-08T02:21:56.675253Z",
     "start_time": "2017-11-08T02:21:56.047754Z"
    },
    "collapsed": true
   },
   "outputs": [],
   "source": [
    "\n",
    "X = review_LDA[review_LDA['useful'] >= 0][feature_cols]\n",
    "y = review_LDA[review_LDA['useful'] >= 0]['useful_flag']\n",
    "\n",
    "# train/test split\n",
    "X_train, X_test, y_train, y_test = train_test_split(X, y, test_size=0.3, random_state=123)\n"
   ]
  },
  {
   "cell_type": "code",
   "execution_count": 177,
   "metadata": {
    "ExecuteTime": {
     "end_time": "2017-11-08T02:22:28.122822Z",
     "start_time": "2017-11-08T02:22:25.924280Z"
    }
   },
   "outputs": [
    {
     "name": "stdout",
     "output_type": "stream",
     "text": [
      "Logistic Train ROC: 0.707043156325\n",
      "Logistic Test ROC: 0.707393308073\n",
      "[[34659 20637]\n",
      " [ 6064 12548]]\n",
      "\n",
      "precision 0.378122645774\n",
      "recall 0.674188695465\n",
      "avg precision: 0.445157433587\n"
     ]
    }
   ],
   "source": [
    "logregM_LDA_s = LogisticRegression(C=1, penalty='l2', random_state=100, class_weight='balanced')\n",
    "\n",
    "logregM_LDA_s.fit(X_train, y_train)\n",
    "\n",
    "y_pred_train = logregM_LDA_s.predict_proba(X_train)\n",
    "y_pred_test = logregM_LDA_s.predict_proba(X_test)\n",
    "y_pred_test_class = logregM_LDA_s.predict(X_test)\n",
    "\n",
    "fpr_rt_LR, tpr_rt_LR, _ = roc_curve(y_test, y_pred_test[:,1])\n",
    "\n",
    "print (\"Logistic Train ROC:\", metrics.roc_auc_score(y_train, y_pred_train[:,1]))\n",
    "print (\"Logistic Test ROC:\", metrics.roc_auc_score(y_test, y_pred_test[:,1]))\n",
    "\n",
    "lr_auc = metrics.roc_auc_score(y_test, y_pred_test[:,1])\n",
    "\n",
    "print(metrics.confusion_matrix(y_test, y_pred_test_class))\n",
    "print(\"\\nprecision\", metrics.precision_score(y_test, y_pred_test_class))\n",
    "print(\"recall\", metrics.recall_score(y_test, y_pred_test_class))\n",
    "\n",
    "print(\"avg precision:\", average_precision_score(y_test, y_pred_test[:,1]))\n"
   ]
  },
  {
   "cell_type": "code",
   "execution_count": 178,
   "metadata": {
    "ExecuteTime": {
     "end_time": "2017-11-08T02:22:39.599875Z",
     "start_time": "2017-11-08T02:22:39.589758Z"
    }
   },
   "outputs": [
    {
     "data": {
      "text/plain": [
       "[(-0.35446527421594998, 'LDA_1'),\n",
       " (0.30646616212038197, 'LDA_2'),\n",
       " (-0.65839026697145731, 'LDA_3'),\n",
       " (1.855387496331308, 'LDA_4'),\n",
       " (-1.663284138368887, 'LDA_5'),\n",
       " (0.066906023957525707, 'LDA_6'),\n",
       " (1.1029718246314382, 'LDA_7'),\n",
       " (-0.19604334369938714, 'LDA_8'),\n",
       " (1.0182626654907656, 'LDA_9'),\n",
       " (-2.2461595641675949, 'LDA_10'),\n",
       " (-0.84477172823117441, 'LDA_11'),\n",
       " (0.052381104463592461, 'sent_cnt'),\n",
       " (-0.020039012039709043, 'user_stars'),\n",
       " (1.2017459408154811, 'elite_prior'),\n",
       " (-0.7482665553707033, 'polarity')]"
      ]
     },
     "execution_count": 178,
     "metadata": {},
     "output_type": "execute_result"
    }
   ],
   "source": [
    "(list(zip(logregM_LDA.coef_[0], feature_cols)))"
   ]
  },
  {
   "cell_type": "code",
   "execution_count": 179,
   "metadata": {
    "ExecuteTime": {
     "end_time": "2017-11-08T02:22:46.554617Z",
     "start_time": "2017-11-08T02:22:46.546844Z"
    },
    "scrolled": true
   },
   "outputs": [
    {
     "data": {
      "text/plain": [
       "[(-0.10892319743120782, 'LDA_1'),\n",
       " (-0.0081854836568824793, 'LDA_2'),\n",
       " (-0.081086931318358868, 'LDA_3'),\n",
       " (0.16896423009859229, 'LDA_4'),\n",
       " (-0.19807711270535794, 'LDA_5'),\n",
       " (-0.060939577683287706, 'LDA_6'),\n",
       " (0.12353232823732649, 'LDA_7'),\n",
       " (-0.19314740077070025, 'LDA_8'),\n",
       " (0.039196251674429014, 'LDA_9'),\n",
       " (-0.31932885644969911, 'LDA_10'),\n",
       " (-0.074529565332452072, 'LDA_11'),\n",
       " (0.043620216989453807, 'sent_cnt'),\n",
       " (-0.051136582845994955, 'user_stars'),\n",
       " (1.1752880313449878, 'elite_prior'),\n",
       " (-0.085063816532125483, 'polarity')]"
      ]
     },
     "execution_count": 179,
     "metadata": {},
     "output_type": "execute_result"
    }
   ],
   "source": [
    "(list(zip(logregM_LDA_s.coef_[0], feature_cols)))"
   ]
  },
  {
   "cell_type": "code",
   "execution_count": null,
   "metadata": {
    "collapsed": true
   },
   "outputs": [],
   "source": []
  },
  {
   "cell_type": "code",
   "execution_count": 131,
   "metadata": {
    "ExecuteTime": {
     "end_time": "2017-11-08T01:48:16.357865Z",
     "start_time": "2017-11-08T01:47:11.606770Z"
    },
    "scrolled": false
   },
   "outputs": [
    {
     "name": "stdout",
     "output_type": "stream",
     "text": [
      "RForest ROC train:  0.71450799053\n",
      "RForest ROC test:  0.713718644377\n",
      "[[33895 21401]\n",
      " [ 5676 12936]]\n",
      "\n",
      "precision 0.376736465038\n",
      "recall 0.695035460993\n",
      "avg precision: 0.45504700472\n"
     ]
    },
    {
     "data": {
      "text/html": [
       "<div>\n",
       "<style>\n",
       "    .dataframe thead tr:only-child th {\n",
       "        text-align: right;\n",
       "    }\n",
       "\n",
       "    .dataframe thead th {\n",
       "        text-align: left;\n",
       "    }\n",
       "\n",
       "    .dataframe tbody tr th {\n",
       "        vertical-align: top;\n",
       "    }\n",
       "</style>\n",
       "<table border=\"1\" class=\"dataframe\">\n",
       "  <thead>\n",
       "    <tr style=\"text-align: right;\">\n",
       "      <th></th>\n",
       "      <th>feature</th>\n",
       "      <th>importance</th>\n",
       "    </tr>\n",
       "  </thead>\n",
       "  <tbody>\n",
       "    <tr>\n",
       "      <th>0</th>\n",
       "      <td>elite_prior</td>\n",
       "      <td>0.566750</td>\n",
       "    </tr>\n",
       "    <tr>\n",
       "      <th>1</th>\n",
       "      <td>sent_cnt</td>\n",
       "      <td>0.365201</td>\n",
       "    </tr>\n",
       "    <tr>\n",
       "      <th>2</th>\n",
       "      <td>user_stars</td>\n",
       "      <td>0.025179</td>\n",
       "    </tr>\n",
       "    <tr>\n",
       "      <th>3</th>\n",
       "      <td>LDA_10</td>\n",
       "      <td>0.007903</td>\n",
       "    </tr>\n",
       "    <tr>\n",
       "      <th>4</th>\n",
       "      <td>polarity</td>\n",
       "      <td>0.005667</td>\n",
       "    </tr>\n",
       "    <tr>\n",
       "      <th>5</th>\n",
       "      <td>LDA_5</td>\n",
       "      <td>0.005557</td>\n",
       "    </tr>\n",
       "    <tr>\n",
       "      <th>6</th>\n",
       "      <td>LDA_4</td>\n",
       "      <td>0.005006</td>\n",
       "    </tr>\n",
       "    <tr>\n",
       "      <th>7</th>\n",
       "      <td>LDA_1</td>\n",
       "      <td>0.002899</td>\n",
       "    </tr>\n",
       "    <tr>\n",
       "      <th>8</th>\n",
       "      <td>LDA_6</td>\n",
       "      <td>0.002714</td>\n",
       "    </tr>\n",
       "    <tr>\n",
       "      <th>9</th>\n",
       "      <td>LDA_9</td>\n",
       "      <td>0.002661</td>\n",
       "    </tr>\n",
       "    <tr>\n",
       "      <th>10</th>\n",
       "      <td>LDA_7</td>\n",
       "      <td>0.002626</td>\n",
       "    </tr>\n",
       "    <tr>\n",
       "      <th>11</th>\n",
       "      <td>LDA_11</td>\n",
       "      <td>0.002537</td>\n",
       "    </tr>\n",
       "    <tr>\n",
       "      <th>12</th>\n",
       "      <td>LDA_2</td>\n",
       "      <td>0.001795</td>\n",
       "    </tr>\n",
       "    <tr>\n",
       "      <th>13</th>\n",
       "      <td>LDA_8</td>\n",
       "      <td>0.001786</td>\n",
       "    </tr>\n",
       "    <tr>\n",
       "      <th>14</th>\n",
       "      <td>LDA_3</td>\n",
       "      <td>0.001719</td>\n",
       "    </tr>\n",
       "  </tbody>\n",
       "</table>\n",
       "</div>"
      ],
      "text/plain": [
       "        feature  importance\n",
       "0   elite_prior    0.566750\n",
       "1      sent_cnt    0.365201\n",
       "2    user_stars    0.025179\n",
       "3        LDA_10    0.007903\n",
       "4      polarity    0.005667\n",
       "5         LDA_5    0.005557\n",
       "6         LDA_4    0.005006\n",
       "7         LDA_1    0.002899\n",
       "8         LDA_6    0.002714\n",
       "9         LDA_9    0.002661\n",
       "10        LDA_7    0.002626\n",
       "11       LDA_11    0.002537\n",
       "12        LDA_2    0.001795\n",
       "13        LDA_8    0.001786\n",
       "14        LDA_3    0.001719"
      ]
     },
     "execution_count": 131,
     "metadata": {},
     "output_type": "execute_result"
    }
   ],
   "source": [
    "Forest = RandomForestClassifier(n_estimators=500, max_depth = 4, min_samples_split=30, class_weight='balanced',\n",
    "                                bootstrap=True, oob_score=True, random_state=100)\n",
    "\n",
    "Forest.fit(X_train, y_train)\n",
    "y_pred_train = Forest.predict_proba(X_train)\n",
    "y_pred_test = Forest.predict_proba(X_test)\n",
    "y_pred_test_class = Forest.predict(X_test)\n",
    "\n",
    "fpr_rt_RF, tpr_rt_RF, _ = roc_curve(y_test, y_pred_test[:,1])\n",
    "\n",
    "#print(\"RForest Accuracy: \", metrics.accuracy_score(y_test, y_pred_test))\n",
    "print(\"RForest ROC train: \", metrics.roc_auc_score(y_train, y_pred_train[:,1]))\n",
    "print(\"RForest ROC test: \", metrics.roc_auc_score(y_test, y_pred_test[:,1]))\n",
    "\n",
    "rf_auc = metrics.roc_auc_score(y_test, y_pred_test[:,1])\n",
    "\n",
    "\n",
    "\n",
    "print(metrics.confusion_matrix(y_test, y_pred_test_class))\n",
    "\n",
    "print(\"\\nprecision\", metrics.precision_score(y_test, y_pred_test_class))\n",
    "print(\"recall\", metrics.recall_score(y_test, y_pred_test_class))\n",
    "\n",
    "print(\"avg precision:\", average_precision_score(y_test, y_pred_test[:,1]))\n",
    "\n",
    "features = X_train.columns\n",
    "pd.DataFrame({'feature': features, 'importance': Forest.feature_importances_}).\\\n",
    "sort_values('importance', ascending=False).reset_index(drop=True)\n"
   ]
  },
  {
   "cell_type": "code",
   "execution_count": null,
   "metadata": {
    "collapsed": true
   },
   "outputs": [],
   "source": []
  },
  {
   "cell_type": "code",
   "execution_count": null,
   "metadata": {
    "collapsed": true
   },
   "outputs": [],
   "source": []
  },
  {
   "cell_type": "code",
   "execution_count": null,
   "metadata": {
    "collapsed": true
   },
   "outputs": [],
   "source": []
  },
  {
   "cell_type": "code",
   "execution_count": null,
   "metadata": {
    "collapsed": true
   },
   "outputs": [],
   "source": []
  },
  {
   "cell_type": "code",
   "execution_count": null,
   "metadata": {
    "collapsed": true
   },
   "outputs": [],
   "source": []
  },
  {
   "cell_type": "code",
   "execution_count": null,
   "metadata": {
    "collapsed": true
   },
   "outputs": [],
   "source": []
  },
  {
   "cell_type": "code",
   "execution_count": null,
   "metadata": {
    "collapsed": true
   },
   "outputs": [],
   "source": []
  },
  {
   "cell_type": "markdown",
   "metadata": {
    "heading_collapsed": true
   },
   "source": [
    "### Predict Usefulness of Review Sentences"
   ]
  },
  {
   "cell_type": "code",
   "execution_count": 380,
   "metadata": {
    "ExecuteTime": {
     "end_time": "2017-11-06T21:16:47.973822Z",
     "start_time": "2017-11-06T21:16:47.905141Z"
    },
    "hidden": true
   },
   "outputs": [
    {
     "name": "stdout",
     "output_type": "stream",
     "text": [
      "<class 'pandas.core.frame.DataFrame'>\n",
      "Int64Index: 428363 entries, 0 to 428362\n",
      "Data columns (total 7 columns):\n",
      "LDA_1          428363 non-null float64\n",
      "LDA_2          428363 non-null float64\n",
      "LDA_3          428363 non-null float64\n",
      "LDA_4          428363 non-null float64\n",
      "sent_cnt       428363 non-null int64\n",
      "user_stars     428363 non-null category\n",
      "elite_prior    428363 non-null int64\n",
      "dtypes: category(1), float64(4), int64(2)\n",
      "memory usage: 23.3 MB\n"
     ]
    }
   ],
   "source": [
    "X_check.info()"
   ]
  },
  {
   "cell_type": "code",
   "execution_count": 378,
   "metadata": {
    "ExecuteTime": {
     "end_time": "2017-11-06T21:16:30.726126Z",
     "start_time": "2017-11-06T21:16:30.711186Z"
    },
    "collapsed": true,
    "hidden": true
   },
   "outputs": [],
   "source": [
    "X_check = review_LDA[feature_cols]"
   ]
  },
  {
   "cell_type": "code",
   "execution_count": 379,
   "metadata": {
    "ExecuteTime": {
     "end_time": "2017-11-06T21:16:36.087660Z",
     "start_time": "2017-11-06T21:16:36.063558Z"
    },
    "hidden": true
   },
   "outputs": [
    {
     "data": {
      "text/html": [
       "<div>\n",
       "<style>\n",
       "    .dataframe thead tr:only-child th {\n",
       "        text-align: right;\n",
       "    }\n",
       "\n",
       "    .dataframe thead th {\n",
       "        text-align: left;\n",
       "    }\n",
       "\n",
       "    .dataframe tbody tr th {\n",
       "        vertical-align: top;\n",
       "    }\n",
       "</style>\n",
       "<table border=\"1\" class=\"dataframe\">\n",
       "  <thead>\n",
       "    <tr style=\"text-align: right;\">\n",
       "      <th></th>\n",
       "      <th>user_id</th>\n",
       "      <th>business_id</th>\n",
       "      <th>name</th>\n",
       "      <th>categories</th>\n",
       "      <th>attributes</th>\n",
       "      <th>stars</th>\n",
       "      <th>review_count</th>\n",
       "      <th>city</th>\n",
       "      <th>state</th>\n",
       "      <th>postal_code</th>\n",
       "      <th>...</th>\n",
       "      <th>sentence</th>\n",
       "      <th>sent_cnt</th>\n",
       "      <th>polarity</th>\n",
       "      <th>stemmed2</th>\n",
       "      <th>LDA_1</th>\n",
       "      <th>LDA_2</th>\n",
       "      <th>LDA_3</th>\n",
       "      <th>LDA_4</th>\n",
       "      <th>LDA_5</th>\n",
       "      <th>Max_LDA</th>\n",
       "    </tr>\n",
       "  </thead>\n",
       "  <tbody>\n",
       "  </tbody>\n",
       "</table>\n",
       "<p>0 rows × 39 columns</p>\n",
       "</div>"
      ],
      "text/plain": [
       "Empty DataFrame\n",
       "Columns: [user_id, business_id, name, categories, attributes, stars, review_count, city, state, postal_code, latitude, longitude, categories2, name_cnt, Sushi, Pizza, Restaurants, Cat_Flag, cool, date, funny, review_id, user_stars, review_txt, useful, yelping_since, first_yr_elite, elite_prior, sent_token, sentence, sent_cnt, polarity, stemmed2, LDA_1, LDA_2, LDA_3, LDA_4, LDA_5, Max_LDA]\n",
       "Index: []\n",
       "\n",
       "[0 rows x 39 columns]"
      ]
     },
     "execution_count": 379,
     "metadata": {},
     "output_type": "execute_result"
    }
   ],
   "source": [
    "review_LDA[pd.isnull(review_LDA['sent_cnt'])]"
   ]
  },
  {
   "cell_type": "code",
   "execution_count": null,
   "metadata": {
    "collapsed": true,
    "hidden": true
   },
   "outputs": [],
   "source": []
  },
  {
   "cell_type": "code",
   "execution_count": 381,
   "metadata": {
    "ExecuteTime": {
     "end_time": "2017-11-06T21:16:54.162844Z",
     "start_time": "2017-11-06T21:16:53.860272Z"
    },
    "collapsed": true,
    "hidden": true
   },
   "outputs": [],
   "source": [
    "y_pred_sent = logregM.predict_proba(X_check)\n"
   ]
  },
  {
   "cell_type": "code",
   "execution_count": 382,
   "metadata": {
    "ExecuteTime": {
     "end_time": "2017-11-06T21:20:05.666355Z",
     "start_time": "2017-11-06T21:20:05.381394Z"
    },
    "collapsed": true,
    "hidden": true
   },
   "outputs": [],
   "source": [
    "review_LDA['pred_useful'] = logregM.predict_proba(X_check)[:,1]"
   ]
  },
  {
   "cell_type": "code",
   "execution_count": 393,
   "metadata": {
    "ExecuteTime": {
     "end_time": "2017-11-06T21:35:07.923451Z",
     "start_time": "2017-11-06T21:35:07.878215Z"
    },
    "hidden": true
   },
   "outputs": [
    {
     "data": {
      "text/plain": [
       "count    428363.000000\n",
       "mean          0.524195\n",
       "std           0.261185\n",
       "min           0.069535\n",
       "25%           0.285673\n",
       "50%           0.492625\n",
       "75%           0.759706\n",
       "max           0.999981\n",
       "Name: pred_useful, dtype: float64"
      ]
     },
     "execution_count": 393,
     "metadata": {},
     "output_type": "execute_result"
    }
   ],
   "source": [
    "review_LDA.pred_useful.describe()"
   ]
  },
  {
   "cell_type": "code",
   "execution_count": 384,
   "metadata": {
    "ExecuteTime": {
     "end_time": "2017-11-06T21:21:12.780328Z",
     "start_time": "2017-11-06T21:21:12.770152Z"
    },
    "hidden": true,
    "scrolled": true
   },
   "outputs": [
    {
     "data": {
      "text/plain": [
       "Index(['user_id', 'business_id', 'name', 'categories', 'attributes', 'stars',\n",
       "       'review_count', 'city', 'state', 'postal_code', 'latitude', 'longitude',\n",
       "       'categories2', 'name_cnt', 'Sushi', 'Pizza', 'Restaurants', 'Cat_Flag',\n",
       "       'cool', 'date', 'funny', 'review_id', 'user_stars', 'review_txt',\n",
       "       'useful', 'yelping_since', 'first_yr_elite', 'elite_prior',\n",
       "       'sent_token', 'sentence', 'sent_cnt', 'polarity', 'stemmed2', 'LDA_1',\n",
       "       'LDA_2', 'LDA_3', 'LDA_4', 'LDA_5', 'Max_LDA', 'pred_useful'],\n",
       "      dtype='object')"
      ]
     },
     "execution_count": 384,
     "metadata": {},
     "output_type": "execute_result"
    }
   ],
   "source": [
    "review_LDA.columns"
   ]
  },
  {
   "cell_type": "code",
   "execution_count": 390,
   "metadata": {
    "ExecuteTime": {
     "end_time": "2017-11-06T21:25:32.640841Z",
     "start_time": "2017-11-06T21:25:32.539079Z"
    },
    "collapsed": true,
    "hidden": true
   },
   "outputs": [
    {
     "data": {
      "text/html": [
       "<div>\n",
       "<style>\n",
       "    .dataframe thead tr:only-child th {\n",
       "        text-align: right;\n",
       "    }\n",
       "\n",
       "    .dataframe thead th {\n",
       "        text-align: left;\n",
       "    }\n",
       "\n",
       "    .dataframe tbody tr th {\n",
       "        vertical-align: top;\n",
       "    }\n",
       "</style>\n",
       "<table border=\"1\" class=\"dataframe\">\n",
       "  <thead>\n",
       "    <tr style=\"text-align: right;\">\n",
       "      <th></th>\n",
       "      <th>sentence</th>\n",
       "      <th>pred_useful</th>\n",
       "      <th>review_id</th>\n",
       "      <th>elite_prior</th>\n",
       "      <th>sent_cnt</th>\n",
       "    </tr>\n",
       "  </thead>\n",
       "  <tbody>\n",
       "    <tr>\n",
       "      <th>0</th>\n",
       "      <td>I was thrilled when I saw on twitter that anot...</td>\n",
       "      <td>0.973055</td>\n",
       "      <td>DBFkxzPlSx0VBLdCGWPXpA</td>\n",
       "      <td>1</td>\n",
       "      <td>27</td>\n",
       "    </tr>\n",
       "    <tr>\n",
       "      <th>1</th>\n",
       "      <td>They are officially open today!</td>\n",
       "      <td>0.912103</td>\n",
       "      <td>DBFkxzPlSx0VBLdCGWPXpA</td>\n",
       "      <td>1</td>\n",
       "      <td>27</td>\n",
       "    </tr>\n",
       "    <tr>\n",
       "      <th>2</th>\n",
       "      <td>Located at 261 Queen W, in my opinion this is ...</td>\n",
       "      <td>0.936626</td>\n",
       "      <td>DBFkxzPlSx0VBLdCGWPXpA</td>\n",
       "      <td>1</td>\n",
       "      <td>27</td>\n",
       "    </tr>\n",
       "    <tr>\n",
       "      <th>3</th>\n",
       "      <td>Who wouldn't want to have a comforting hot bow...</td>\n",
       "      <td>0.897640</td>\n",
       "      <td>DBFkxzPlSx0VBLdCGWPXpA</td>\n",
       "      <td>1</td>\n",
       "      <td>27</td>\n",
       "    </tr>\n",
       "    <tr>\n",
       "      <th>4</th>\n",
       "      <td>Can you believe that they have 450 Arita porce...</td>\n",
       "      <td>0.968090</td>\n",
       "      <td>DBFkxzPlSx0VBLdCGWPXpA</td>\n",
       "      <td>1</td>\n",
       "      <td>27</td>\n",
       "    </tr>\n",
       "    <tr>\n",
       "      <th>5</th>\n",
       "      <td>So it is not surprising that they even importe...</td>\n",
       "      <td>0.936549</td>\n",
       "      <td>DBFkxzPlSx0VBLdCGWPXpA</td>\n",
       "      <td>1</td>\n",
       "      <td>27</td>\n",
       "    </tr>\n",
       "    <tr>\n",
       "      <th>6</th>\n",
       "      <td>Unlike most other ramen shops, Touhenboku used...</td>\n",
       "      <td>0.930176</td>\n",
       "      <td>DBFkxzPlSx0VBLdCGWPXpA</td>\n",
       "      <td>1</td>\n",
       "      <td>27</td>\n",
       "    </tr>\n",
       "    <tr>\n",
       "      <th>7</th>\n",
       "      <td>Chef Machida also mixed his own flour blend in...</td>\n",
       "      <td>0.957458</td>\n",
       "      <td>DBFkxzPlSx0VBLdCGWPXpA</td>\n",
       "      <td>1</td>\n",
       "      <td>27</td>\n",
       "    </tr>\n",
       "    <tr>\n",
       "      <th>8</th>\n",
       "      <td>There's 4 types of ramen on their menu : White...</td>\n",
       "      <td>0.970213</td>\n",
       "      <td>DBFkxzPlSx0VBLdCGWPXpA</td>\n",
       "      <td>1</td>\n",
       "      <td>27</td>\n",
       "    </tr>\n",
       "    <tr>\n",
       "      <th>9</th>\n",
       "      <td>Each topped with wood ear mushrooms, half a bo...</td>\n",
       "      <td>0.904423</td>\n",
       "      <td>DBFkxzPlSx0VBLdCGWPXpA</td>\n",
       "      <td>1</td>\n",
       "      <td>27</td>\n",
       "    </tr>\n",
       "    <tr>\n",
       "      <th>10</th>\n",
       "      <td>Then there's the choice of thin and thick nood...</td>\n",
       "      <td>0.930933</td>\n",
       "      <td>DBFkxzPlSx0VBLdCGWPXpA</td>\n",
       "      <td>1</td>\n",
       "      <td>27</td>\n",
       "    </tr>\n",
       "    <tr>\n",
       "      <th>11</th>\n",
       "      <td>As per their website: \\n\"Ramen is more than no...</td>\n",
       "      <td>0.927459</td>\n",
       "      <td>DBFkxzPlSx0VBLdCGWPXpA</td>\n",
       "      <td>1</td>\n",
       "      <td>27</td>\n",
       "    </tr>\n",
       "    <tr>\n",
       "      <th>12</th>\n",
       "      <td>The rich creamy broth is made entirely of chic...</td>\n",
       "      <td>0.899254</td>\n",
       "      <td>DBFkxzPlSx0VBLdCGWPXpA</td>\n",
       "      <td>1</td>\n",
       "      <td>27</td>\n",
       "    </tr>\n",
       "    <tr>\n",
       "      <th>13</th>\n",
       "      <td>I totally agree with the first half but i find...</td>\n",
       "      <td>0.889311</td>\n",
       "      <td>DBFkxzPlSx0VBLdCGWPXpA</td>\n",
       "      <td>1</td>\n",
       "      <td>27</td>\n",
       "    </tr>\n",
       "    <tr>\n",
       "      <th>14</th>\n",
       "      <td>Here they have the white type of ramen which i...</td>\n",
       "      <td>0.936606</td>\n",
       "      <td>DBFkxzPlSx0VBLdCGWPXpA</td>\n",
       "      <td>1</td>\n",
       "      <td>27</td>\n",
       "    </tr>\n",
       "    <tr>\n",
       "      <th>15</th>\n",
       "      <td>And after trying both the thin and thick noodl...</td>\n",
       "      <td>0.936463</td>\n",
       "      <td>DBFkxzPlSx0VBLdCGWPXpA</td>\n",
       "      <td>1</td>\n",
       "      <td>27</td>\n",
       "    </tr>\n",
       "    <tr>\n",
       "      <th>16</th>\n",
       "      <td>I somehow thought the thick one would be sligh...</td>\n",
       "      <td>0.963806</td>\n",
       "      <td>DBFkxzPlSx0VBLdCGWPXpA</td>\n",
       "      <td>1</td>\n",
       "      <td>27</td>\n",
       "    </tr>\n",
       "    <tr>\n",
       "      <th>17</th>\n",
       "      <td>Their recipe is somehow perfect for the thin v...</td>\n",
       "      <td>0.910483</td>\n",
       "      <td>DBFkxzPlSx0VBLdCGWPXpA</td>\n",
       "      <td>1</td>\n",
       "      <td>27</td>\n",
       "    </tr>\n",
       "    <tr>\n",
       "      <th>18</th>\n",
       "      <td>White $10.50\\n~ Original Touhenboku Ramen\\n~ B...</td>\n",
       "      <td>0.937337</td>\n",
       "      <td>DBFkxzPlSx0VBLdCGWPXpA</td>\n",
       "      <td>1</td>\n",
       "      <td>27</td>\n",
       "    </tr>\n",
       "    <tr>\n",
       "      <th>19</th>\n",
       "      <td>~ The soup/broth is really thick and on the oi...</td>\n",
       "      <td>0.908495</td>\n",
       "      <td>DBFkxzPlSx0VBLdCGWPXpA</td>\n",
       "      <td>1</td>\n",
       "      <td>27</td>\n",
       "    </tr>\n",
       "    <tr>\n",
       "      <th>20</th>\n",
       "      <td>Black $10.50\\n~ Garlicky Touhenboku Ramen\\n~ C...</td>\n",
       "      <td>0.939060</td>\n",
       "      <td>DBFkxzPlSx0VBLdCGWPXpA</td>\n",
       "      <td>1</td>\n",
       "      <td>27</td>\n",
       "    </tr>\n",
       "    <tr>\n",
       "      <th>21</th>\n",
       "      <td>Tomo Creampuff $5.50\\n~ This is a crisp choux ...</td>\n",
       "      <td>0.868354</td>\n",
       "      <td>DBFkxzPlSx0VBLdCGWPXpA</td>\n",
       "      <td>1</td>\n",
       "      <td>27</td>\n",
       "    </tr>\n",
       "    <tr>\n",
       "      <th>22</th>\n",
       "      <td>Not overly sweet, super delicate and light whi...</td>\n",
       "      <td>0.970645</td>\n",
       "      <td>DBFkxzPlSx0VBLdCGWPXpA</td>\n",
       "      <td>1</td>\n",
       "      <td>27</td>\n",
       "    </tr>\n",
       "    <tr>\n",
       "      <th>23</th>\n",
       "      <td>~ This was perfect palette cleanser after the ...</td>\n",
       "      <td>0.924883</td>\n",
       "      <td>DBFkxzPlSx0VBLdCGWPXpA</td>\n",
       "      <td>1</td>\n",
       "      <td>27</td>\n",
       "    </tr>\n",
       "    <tr>\n",
       "      <th>24</th>\n",
       "      <td>Verdict :\\n~ Smaller portion compare to other ...</td>\n",
       "      <td>0.930845</td>\n",
       "      <td>DBFkxzPlSx0VBLdCGWPXpA</td>\n",
       "      <td>1</td>\n",
       "      <td>27</td>\n",
       "    </tr>\n",
       "    <tr>\n",
       "      <th>25</th>\n",
       "      <td>~ Great authentic Japanese dessert \\n~ Would l...</td>\n",
       "      <td>0.932861</td>\n",
       "      <td>DBFkxzPlSx0VBLdCGWPXpA</td>\n",
       "      <td>1</td>\n",
       "      <td>27</td>\n",
       "    </tr>\n",
       "    <tr>\n",
       "      <th>26</th>\n",
       "      <td>~ Great Lunch combo options of Ramen+Donburi R...</td>\n",
       "      <td>0.951070</td>\n",
       "      <td>DBFkxzPlSx0VBLdCGWPXpA</td>\n",
       "      <td>1</td>\n",
       "      <td>27</td>\n",
       "    </tr>\n",
       "  </tbody>\n",
       "</table>\n",
       "</div>"
      ],
      "text/plain": [
       "                                             sentence  pred_useful  \\\n",
       "0   I was thrilled when I saw on twitter that anot...     0.973055   \n",
       "1                     They are officially open today!     0.912103   \n",
       "2   Located at 261 Queen W, in my opinion this is ...     0.936626   \n",
       "3   Who wouldn't want to have a comforting hot bow...     0.897640   \n",
       "4   Can you believe that they have 450 Arita porce...     0.968090   \n",
       "5   So it is not surprising that they even importe...     0.936549   \n",
       "6   Unlike most other ramen shops, Touhenboku used...     0.930176   \n",
       "7   Chef Machida also mixed his own flour blend in...     0.957458   \n",
       "8   There's 4 types of ramen on their menu : White...     0.970213   \n",
       "9   Each topped with wood ear mushrooms, half a bo...     0.904423   \n",
       "10  Then there's the choice of thin and thick nood...     0.930933   \n",
       "11  As per their website: \\n\"Ramen is more than no...     0.927459   \n",
       "12  The rich creamy broth is made entirely of chic...     0.899254   \n",
       "13  I totally agree with the first half but i find...     0.889311   \n",
       "14  Here they have the white type of ramen which i...     0.936606   \n",
       "15  And after trying both the thin and thick noodl...     0.936463   \n",
       "16  I somehow thought the thick one would be sligh...     0.963806   \n",
       "17  Their recipe is somehow perfect for the thin v...     0.910483   \n",
       "18  White $10.50\\n~ Original Touhenboku Ramen\\n~ B...     0.937337   \n",
       "19  ~ The soup/broth is really thick and on the oi...     0.908495   \n",
       "20  Black $10.50\\n~ Garlicky Touhenboku Ramen\\n~ C...     0.939060   \n",
       "21  Tomo Creampuff $5.50\\n~ This is a crisp choux ...     0.868354   \n",
       "22  Not overly sweet, super delicate and light whi...     0.970645   \n",
       "23  ~ This was perfect palette cleanser after the ...     0.924883   \n",
       "24  Verdict :\\n~ Smaller portion compare to other ...     0.930845   \n",
       "25  ~ Great authentic Japanese dessert \\n~ Would l...     0.932861   \n",
       "26  ~ Great Lunch combo options of Ramen+Donburi R...     0.951070   \n",
       "\n",
       "                 review_id  elite_prior  sent_cnt  \n",
       "0   DBFkxzPlSx0VBLdCGWPXpA            1        27  \n",
       "1   DBFkxzPlSx0VBLdCGWPXpA            1        27  \n",
       "2   DBFkxzPlSx0VBLdCGWPXpA            1        27  \n",
       "3   DBFkxzPlSx0VBLdCGWPXpA            1        27  \n",
       "4   DBFkxzPlSx0VBLdCGWPXpA            1        27  \n",
       "5   DBFkxzPlSx0VBLdCGWPXpA            1        27  \n",
       "6   DBFkxzPlSx0VBLdCGWPXpA            1        27  \n",
       "7   DBFkxzPlSx0VBLdCGWPXpA            1        27  \n",
       "8   DBFkxzPlSx0VBLdCGWPXpA            1        27  \n",
       "9   DBFkxzPlSx0VBLdCGWPXpA            1        27  \n",
       "10  DBFkxzPlSx0VBLdCGWPXpA            1        27  \n",
       "11  DBFkxzPlSx0VBLdCGWPXpA            1        27  \n",
       "12  DBFkxzPlSx0VBLdCGWPXpA            1        27  \n",
       "13  DBFkxzPlSx0VBLdCGWPXpA            1        27  \n",
       "14  DBFkxzPlSx0VBLdCGWPXpA            1        27  \n",
       "15  DBFkxzPlSx0VBLdCGWPXpA            1        27  \n",
       "16  DBFkxzPlSx0VBLdCGWPXpA            1        27  \n",
       "17  DBFkxzPlSx0VBLdCGWPXpA            1        27  \n",
       "18  DBFkxzPlSx0VBLdCGWPXpA            1        27  \n",
       "19  DBFkxzPlSx0VBLdCGWPXpA            1        27  \n",
       "20  DBFkxzPlSx0VBLdCGWPXpA            1        27  \n",
       "21  DBFkxzPlSx0VBLdCGWPXpA            1        27  \n",
       "22  DBFkxzPlSx0VBLdCGWPXpA            1        27  \n",
       "23  DBFkxzPlSx0VBLdCGWPXpA            1        27  \n",
       "24  DBFkxzPlSx0VBLdCGWPXpA            1        27  \n",
       "25  DBFkxzPlSx0VBLdCGWPXpA            1        27  \n",
       "26  DBFkxzPlSx0VBLdCGWPXpA            1        27  "
      ]
     },
     "execution_count": 390,
     "metadata": {},
     "output_type": "execute_result"
    }
   ],
   "source": [
    "review_LDA[['sentence', 'pred_useful', 'review_id', 'elite_prior', 'sent_cnt']].head(27)"
   ]
  },
  {
   "cell_type": "code",
   "execution_count": 396,
   "metadata": {
    "ExecuteTime": {
     "end_time": "2017-11-06T21:36:50.789741Z",
     "start_time": "2017-11-06T21:36:50.730732Z"
    },
    "hidden": true,
    "scrolled": true
   },
   "outputs": [
    {
     "data": {
      "text/html": [
       "<div>\n",
       "<style>\n",
       "    .dataframe thead tr:only-child th {\n",
       "        text-align: right;\n",
       "    }\n",
       "\n",
       "    .dataframe thead th {\n",
       "        text-align: left;\n",
       "    }\n",
       "\n",
       "    .dataframe tbody tr th {\n",
       "        vertical-align: top;\n",
       "    }\n",
       "</style>\n",
       "<table border=\"1\" class=\"dataframe\">\n",
       "  <thead>\n",
       "    <tr style=\"text-align: right;\">\n",
       "      <th></th>\n",
       "      <th>sentence</th>\n",
       "      <th>pred_useful</th>\n",
       "      <th>review_id</th>\n",
       "      <th>elite_prior</th>\n",
       "      <th>sent_cnt</th>\n",
       "    </tr>\n",
       "  </thead>\n",
       "  <tbody>\n",
       "    <tr>\n",
       "      <th>271228</th>\n",
       "      <td>3.25 stars!</td>\n",
       "      <td>0.970774</td>\n",
       "      <td>JY1iPh3alNfatnAg5PGqdQ</td>\n",
       "      <td>1</td>\n",
       "      <td>36</td>\n",
       "    </tr>\n",
       "    <tr>\n",
       "      <th>271229</th>\n",
       "      <td>[1]\\n\\nCome for the German Pancake and Avocado...</td>\n",
       "      <td>0.958191</td>\n",
       "      <td>JY1iPh3alNfatnAg5PGqdQ</td>\n",
       "      <td>1</td>\n",
       "      <td>36</td>\n",
       "    </tr>\n",
       "    <tr>\n",
       "      <th>271230</th>\n",
       "      <td>I was invited to this morning's private traini...</td>\n",
       "      <td>0.972879</td>\n",
       "      <td>JY1iPh3alNfatnAg5PGqdQ</td>\n",
       "      <td>1</td>\n",
       "      <td>36</td>\n",
       "    </tr>\n",
       "    <tr>\n",
       "      <th>271231</th>\n",
       "      <td>I was allowed to take up to three guests with ...</td>\n",
       "      <td>0.968057</td>\n",
       "      <td>JY1iPh3alNfatnAg5PGqdQ</td>\n",
       "      <td>1</td>\n",
       "      <td>36</td>\n",
       "    </tr>\n",
       "    <tr>\n",
       "      <th>271232</th>\n",
       "      <td>It was very nice to be personally greeted by K...</td>\n",
       "      <td>0.967196</td>\n",
       "      <td>JY1iPh3alNfatnAg5PGqdQ</td>\n",
       "      <td>1</td>\n",
       "      <td>36</td>\n",
       "    </tr>\n",
       "    <tr>\n",
       "      <th>271233</th>\n",
       "      <td>This Scottsdale location is the first to open ...</td>\n",
       "      <td>0.965599</td>\n",
       "      <td>JY1iPh3alNfatnAg5PGqdQ</td>\n",
       "      <td>1</td>\n",
       "      <td>36</td>\n",
       "    </tr>\n",
       "    <tr>\n",
       "      <th>271234</th>\n",
       "      <td>Elmer's private shareholders wanted to be able...</td>\n",
       "      <td>0.974501</td>\n",
       "      <td>JY1iPh3alNfatnAg5PGqdQ</td>\n",
       "      <td>1</td>\n",
       "      <td>36</td>\n",
       "    </tr>\n",
       "    <tr>\n",
       "      <th>271235</th>\n",
       "      <td>My 20-something cousin and I found the cozy sp...</td>\n",
       "      <td>0.962976</td>\n",
       "      <td>JY1iPh3alNfatnAg5PGqdQ</td>\n",
       "      <td>1</td>\n",
       "      <td>36</td>\n",
       "    </tr>\n",
       "    <tr>\n",
       "      <th>271236</th>\n",
       "      <td>I tipped our server \"S.\" 20% of the original t...</td>\n",
       "      <td>0.976181</td>\n",
       "      <td>JY1iPh3alNfatnAg5PGqdQ</td>\n",
       "      <td>1</td>\n",
       "      <td>36</td>\n",
       "    </tr>\n",
       "    <tr>\n",
       "      <th>271237</th>\n",
       "      <td>There were ten entrees and a handful of bevera...</td>\n",
       "      <td>0.980484</td>\n",
       "      <td>JY1iPh3alNfatnAg5PGqdQ</td>\n",
       "      <td>1</td>\n",
       "      <td>36</td>\n",
       "    </tr>\n",
       "    <tr>\n",
       "      <th>271238</th>\n",
       "      <td>http://www.yelp.com/biz_photos/egg-n-joe-scott...</td>\n",
       "      <td>0.970039</td>\n",
       "      <td>JY1iPh3alNfatnAg5PGqdQ</td>\n",
       "      <td>1</td>\n",
       "      <td>36</td>\n",
       "    </tr>\n",
       "    <tr>\n",
       "      <th>271239</th>\n",
       "      <td>http://www.yelp.com/biz_photos/egg-n-joe-scott...</td>\n",
       "      <td>0.972099</td>\n",
       "      <td>JY1iPh3alNfatnAg5PGqdQ</td>\n",
       "      <td>1</td>\n",
       "      <td>36</td>\n",
       "    </tr>\n",
       "    <tr>\n",
       "      <th>271240</th>\n",
       "      <td>http://www.yelp.com/biz_photos/egg-n-joe-scott...</td>\n",
       "      <td>0.970271</td>\n",
       "      <td>JY1iPh3alNfatnAg5PGqdQ</td>\n",
       "      <td>1</td>\n",
       "      <td>36</td>\n",
       "    </tr>\n",
       "    <tr>\n",
       "      <th>271241</th>\n",
       "      <td>He immediately suggested the Lingonberry, as h...</td>\n",
       "      <td>0.965882</td>\n",
       "      <td>JY1iPh3alNfatnAg5PGqdQ</td>\n",
       "      <td>1</td>\n",
       "      <td>36</td>\n",
       "    </tr>\n",
       "    <tr>\n",
       "      <th>271242</th>\n",
       "      <td>http://www.yelp.com/biz_photos/egg-n-joe-scott...</td>\n",
       "      <td>0.981800</td>\n",
       "      <td>JY1iPh3alNfatnAg5PGqdQ</td>\n",
       "      <td>1</td>\n",
       "      <td>36</td>\n",
       "    </tr>\n",
       "    <tr>\n",
       "      <th>271243</th>\n",
       "      <td>:)  I asked him which choice of meat did he re...</td>\n",
       "      <td>0.974941</td>\n",
       "      <td>JY1iPh3alNfatnAg5PGqdQ</td>\n",
       "      <td>1</td>\n",
       "      <td>36</td>\n",
       "    </tr>\n",
       "    <tr>\n",
       "      <th>271244</th>\n",
       "      <td>In retrospect, I should've stuck with bacon, b...</td>\n",
       "      <td>0.974358</td>\n",
       "      <td>JY1iPh3alNfatnAg5PGqdQ</td>\n",
       "      <td>1</td>\n",
       "      <td>36</td>\n",
       "    </tr>\n",
       "    <tr>\n",
       "      <th>271245</th>\n",
       "      <td>http://www.yelp.com/biz_photos/egg-n-joe-scott...</td>\n",
       "      <td>0.975565</td>\n",
       "      <td>JY1iPh3alNfatnAg5PGqdQ</td>\n",
       "      <td>1</td>\n",
       "      <td>36</td>\n",
       "    </tr>\n",
       "    <tr>\n",
       "      <th>271246</th>\n",
       "      <td>We wondered why, since it was the only benedic...</td>\n",
       "      <td>0.950785</td>\n",
       "      <td>JY1iPh3alNfatnAg5PGqdQ</td>\n",
       "      <td>1</td>\n",
       "      <td>36</td>\n",
       "    </tr>\n",
       "    <tr>\n",
       "      <th>271247</th>\n",
       "      <td>This was quickly remedied when \"S.\" delivered ...</td>\n",
       "      <td>0.972084</td>\n",
       "      <td>JY1iPh3alNfatnAg5PGqdQ</td>\n",
       "      <td>1</td>\n",
       "      <td>36</td>\n",
       "    </tr>\n",
       "    <tr>\n",
       "      <th>271248</th>\n",
       "      <td>I enjoyed the German pancake's texture and lem...</td>\n",
       "      <td>0.950660</td>\n",
       "      <td>JY1iPh3alNfatnAg5PGqdQ</td>\n",
       "      <td>1</td>\n",
       "      <td>36</td>\n",
       "    </tr>\n",
       "    <tr>\n",
       "      <th>271249</th>\n",
       "      <td>Thank goodness Sprout's is next door, because ...</td>\n",
       "      <td>0.971222</td>\n",
       "      <td>JY1iPh3alNfatnAg5PGqdQ</td>\n",
       "      <td>1</td>\n",
       "      <td>36</td>\n",
       "    </tr>\n",
       "    <tr>\n",
       "      <th>271250</th>\n",
       "      <td>Thank you!</td>\n",
       "      <td>0.975456</td>\n",
       "      <td>JY1iPh3alNfatnAg5PGqdQ</td>\n",
       "      <td>1</td>\n",
       "      <td>36</td>\n",
       "    </tr>\n",
       "    <tr>\n",
       "      <th>271251</th>\n",
       "      <td>The bacon strips, as I already mentioned, were...</td>\n",
       "      <td>0.982866</td>\n",
       "      <td>JY1iPh3alNfatnAg5PGqdQ</td>\n",
       "      <td>1</td>\n",
       "      <td>36</td>\n",
       "    </tr>\n",
       "    <tr>\n",
       "      <th>271252</th>\n",
       "      <td>Ugh.</td>\n",
       "      <td>0.964089</td>\n",
       "      <td>JY1iPh3alNfatnAg5PGqdQ</td>\n",
       "      <td>1</td>\n",
       "      <td>36</td>\n",
       "    </tr>\n",
       "    <tr>\n",
       "      <th>271253</th>\n",
       "      <td>Cousin thought they were good, though, but I'm...</td>\n",
       "      <td>0.967065</td>\n",
       "      <td>JY1iPh3alNfatnAg5PGqdQ</td>\n",
       "      <td>1</td>\n",
       "      <td>36</td>\n",
       "    </tr>\n",
       "    <tr>\n",
       "      <th>271254</th>\n",
       "      <td>I also liked the texture of the crepes, but fo...</td>\n",
       "      <td>0.951090</td>\n",
       "      <td>JY1iPh3alNfatnAg5PGqdQ</td>\n",
       "      <td>1</td>\n",
       "      <td>36</td>\n",
       "    </tr>\n",
       "    <tr>\n",
       "      <th>271255</th>\n",
       "      <td>I'd soon order the German pancake again and as...</td>\n",
       "      <td>0.949009</td>\n",
       "      <td>JY1iPh3alNfatnAg5PGqdQ</td>\n",
       "      <td>1</td>\n",
       "      <td>36</td>\n",
       "    </tr>\n",
       "    <tr>\n",
       "      <th>271256</th>\n",
       "      <td>FYI, both links were awful!</td>\n",
       "      <td>0.974408</td>\n",
       "      <td>JY1iPh3alNfatnAg5PGqdQ</td>\n",
       "      <td>1</td>\n",
       "      <td>36</td>\n",
       "    </tr>\n",
       "    <tr>\n",
       "      <th>271257</th>\n",
       "      <td>Were they rancid?</td>\n",
       "      <td>0.951150</td>\n",
       "      <td>JY1iPh3alNfatnAg5PGqdQ</td>\n",
       "      <td>1</td>\n",
       "      <td>36</td>\n",
       "    </tr>\n",
       "    <tr>\n",
       "      <th>271258</th>\n",
       "      <td>I wouldn't order them again.</td>\n",
       "      <td>0.958192</td>\n",
       "      <td>JY1iPh3alNfatnAg5PGqdQ</td>\n",
       "      <td>1</td>\n",
       "      <td>36</td>\n",
       "    </tr>\n",
       "    <tr>\n",
       "      <th>271259</th>\n",
       "      <td>Thank you to Kolten Lindsey for reaching out w...</td>\n",
       "      <td>0.958191</td>\n",
       "      <td>JY1iPh3alNfatnAg5PGqdQ</td>\n",
       "      <td>1</td>\n",
       "      <td>36</td>\n",
       "    </tr>\n",
       "    <tr>\n",
       "      <th>271260</th>\n",
       "      <td>We will return!</td>\n",
       "      <td>0.966500</td>\n",
       "      <td>JY1iPh3alNfatnAg5PGqdQ</td>\n",
       "      <td>1</td>\n",
       "      <td>36</td>\n",
       "    </tr>\n",
       "    <tr>\n",
       "      <th>271261</th>\n",
       "      <td>[1] Would've tipped more, but cuz &amp; I noticed ...</td>\n",
       "      <td>0.958191</td>\n",
       "      <td>JY1iPh3alNfatnAg5PGqdQ</td>\n",
       "      <td>1</td>\n",
       "      <td>36</td>\n",
       "    </tr>\n",
       "    <tr>\n",
       "      <th>271262</th>\n",
       "      <td>Major turn off!</td>\n",
       "      <td>0.980036</td>\n",
       "      <td>JY1iPh3alNfatnAg5PGqdQ</td>\n",
       "      <td>1</td>\n",
       "      <td>36</td>\n",
       "    </tr>\n",
       "    <tr>\n",
       "      <th>271263</th>\n",
       "      <td>[2] ENJ offers two syrup options: a corn syrup...</td>\n",
       "      <td>0.980352</td>\n",
       "      <td>JY1iPh3alNfatnAg5PGqdQ</td>\n",
       "      <td>1</td>\n",
       "      <td>36</td>\n",
       "    </tr>\n",
       "  </tbody>\n",
       "</table>\n",
       "</div>"
      ],
      "text/plain": [
       "                                                 sentence  pred_useful  \\\n",
       "271228                                        3.25 stars!     0.970774   \n",
       "271229  [1]\\n\\nCome for the German Pancake and Avocado...     0.958191   \n",
       "271230  I was invited to this morning's private traini...     0.972879   \n",
       "271231  I was allowed to take up to three guests with ...     0.968057   \n",
       "271232  It was very nice to be personally greeted by K...     0.967196   \n",
       "271233  This Scottsdale location is the first to open ...     0.965599   \n",
       "271234  Elmer's private shareholders wanted to be able...     0.974501   \n",
       "271235  My 20-something cousin and I found the cozy sp...     0.962976   \n",
       "271236  I tipped our server \"S.\" 20% of the original t...     0.976181   \n",
       "271237  There were ten entrees and a handful of bevera...     0.980484   \n",
       "271238  http://www.yelp.com/biz_photos/egg-n-joe-scott...     0.970039   \n",
       "271239  http://www.yelp.com/biz_photos/egg-n-joe-scott...     0.972099   \n",
       "271240  http://www.yelp.com/biz_photos/egg-n-joe-scott...     0.970271   \n",
       "271241  He immediately suggested the Lingonberry, as h...     0.965882   \n",
       "271242  http://www.yelp.com/biz_photos/egg-n-joe-scott...     0.981800   \n",
       "271243  :)  I asked him which choice of meat did he re...     0.974941   \n",
       "271244  In retrospect, I should've stuck with bacon, b...     0.974358   \n",
       "271245  http://www.yelp.com/biz_photos/egg-n-joe-scott...     0.975565   \n",
       "271246  We wondered why, since it was the only benedic...     0.950785   \n",
       "271247  This was quickly remedied when \"S.\" delivered ...     0.972084   \n",
       "271248  I enjoyed the German pancake's texture and lem...     0.950660   \n",
       "271249  Thank goodness Sprout's is next door, because ...     0.971222   \n",
       "271250                                         Thank you!     0.975456   \n",
       "271251  The bacon strips, as I already mentioned, were...     0.982866   \n",
       "271252                                               Ugh.     0.964089   \n",
       "271253  Cousin thought they were good, though, but I'm...     0.967065   \n",
       "271254  I also liked the texture of the crepes, but fo...     0.951090   \n",
       "271255  I'd soon order the German pancake again and as...     0.949009   \n",
       "271256                        FYI, both links were awful!     0.974408   \n",
       "271257                                  Were they rancid?     0.951150   \n",
       "271258                       I wouldn't order them again.     0.958192   \n",
       "271259  Thank you to Kolten Lindsey for reaching out w...     0.958191   \n",
       "271260                                    We will return!     0.966500   \n",
       "271261  [1] Would've tipped more, but cuz & I noticed ...     0.958191   \n",
       "271262                                    Major turn off!     0.980036   \n",
       "271263  [2] ENJ offers two syrup options: a corn syrup...     0.980352   \n",
       "\n",
       "                     review_id  elite_prior  sent_cnt  \n",
       "271228  JY1iPh3alNfatnAg5PGqdQ            1        36  \n",
       "271229  JY1iPh3alNfatnAg5PGqdQ            1        36  \n",
       "271230  JY1iPh3alNfatnAg5PGqdQ            1        36  \n",
       "271231  JY1iPh3alNfatnAg5PGqdQ            1        36  \n",
       "271232  JY1iPh3alNfatnAg5PGqdQ            1        36  \n",
       "271233  JY1iPh3alNfatnAg5PGqdQ            1        36  \n",
       "271234  JY1iPh3alNfatnAg5PGqdQ            1        36  \n",
       "271235  JY1iPh3alNfatnAg5PGqdQ            1        36  \n",
       "271236  JY1iPh3alNfatnAg5PGqdQ            1        36  \n",
       "271237  JY1iPh3alNfatnAg5PGqdQ            1        36  \n",
       "271238  JY1iPh3alNfatnAg5PGqdQ            1        36  \n",
       "271239  JY1iPh3alNfatnAg5PGqdQ            1        36  \n",
       "271240  JY1iPh3alNfatnAg5PGqdQ            1        36  \n",
       "271241  JY1iPh3alNfatnAg5PGqdQ            1        36  \n",
       "271242  JY1iPh3alNfatnAg5PGqdQ            1        36  \n",
       "271243  JY1iPh3alNfatnAg5PGqdQ            1        36  \n",
       "271244  JY1iPh3alNfatnAg5PGqdQ            1        36  \n",
       "271245  JY1iPh3alNfatnAg5PGqdQ            1        36  \n",
       "271246  JY1iPh3alNfatnAg5PGqdQ            1        36  \n",
       "271247  JY1iPh3alNfatnAg5PGqdQ            1        36  \n",
       "271248  JY1iPh3alNfatnAg5PGqdQ            1        36  \n",
       "271249  JY1iPh3alNfatnAg5PGqdQ            1        36  \n",
       "271250  JY1iPh3alNfatnAg5PGqdQ            1        36  \n",
       "271251  JY1iPh3alNfatnAg5PGqdQ            1        36  \n",
       "271252  JY1iPh3alNfatnAg5PGqdQ            1        36  \n",
       "271253  JY1iPh3alNfatnAg5PGqdQ            1        36  \n",
       "271254  JY1iPh3alNfatnAg5PGqdQ            1        36  \n",
       "271255  JY1iPh3alNfatnAg5PGqdQ            1        36  \n",
       "271256  JY1iPh3alNfatnAg5PGqdQ            1        36  \n",
       "271257  JY1iPh3alNfatnAg5PGqdQ            1        36  \n",
       "271258  JY1iPh3alNfatnAg5PGqdQ            1        36  \n",
       "271259  JY1iPh3alNfatnAg5PGqdQ            1        36  \n",
       "271260  JY1iPh3alNfatnAg5PGqdQ            1        36  \n",
       "271261  JY1iPh3alNfatnAg5PGqdQ            1        36  \n",
       "271262  JY1iPh3alNfatnAg5PGqdQ            1        36  \n",
       "271263  JY1iPh3alNfatnAg5PGqdQ            1        36  "
      ]
     },
     "execution_count": 396,
     "metadata": {},
     "output_type": "execute_result"
    }
   ],
   "source": [
    "review_LDA[review_LDA['review_id'] == 'JY1iPh3alNfatnAg5PGqdQ'][['sentence', 'pred_useful', 'review_id', 'elite_prior', 'sent_cnt']]"
   ]
  },
  {
   "cell_type": "markdown",
   "metadata": {
    "heading_collapsed": true
   },
   "source": [
    "### Predict Usefulness - NMF"
   ]
  },
  {
   "cell_type": "code",
   "execution_count": 515,
   "metadata": {
    "ExecuteTime": {
     "end_time": "2017-11-07T19:04:23.972545Z",
     "start_time": "2017-11-07T19:04:23.960599Z"
    },
    "hidden": true
   },
   "outputs": [
    {
     "data": {
      "text/plain": [
       "['NMF_1',\n",
       " 'NMF_2',\n",
       " 'NMF_3',\n",
       " 'NMF_4',\n",
       " 'NMF_5',\n",
       " 'sent_cnt',\n",
       " 'user_stars',\n",
       " 'elite_prior']"
      ]
     },
     "execution_count": 515,
     "metadata": {},
     "output_type": "execute_result"
    }
   ],
   "source": [
    "no_topics = 5\n",
    "NMF_cols_pred = ['NMF_' + str(i) for i in range(1, no_topics + 1)]\n",
    "\n",
    "feature_cols = NMF_cols_pred + ['sent_cnt'] + ['user_stars'] + ['elite_prior']\n",
    "#  + ['sent_cnt'] + ['user_stars'] + ['elite_prior']\n",
    "feature_cols"
   ]
  },
  {
   "cell_type": "code",
   "execution_count": 516,
   "metadata": {
    "ExecuteTime": {
     "end_time": "2017-11-07T19:04:30.357068Z",
     "start_time": "2017-11-07T19:04:30.298103Z"
    },
    "collapsed": true,
    "hidden": true
   },
   "outputs": [],
   "source": [
    "\n",
    "X = bus_review_NMF[bus_review_NMF['useful'] >= 0][feature_cols]\n",
    "y = bus_review_NMF[bus_review_NMF['useful'] >= 0]['useful_flag']\n",
    "\n",
    "# train/test split\n",
    "X_train, X_test, y_train, y_test = train_test_split(X, y, test_size=0.3, random_state=123)\n"
   ]
  },
  {
   "cell_type": "code",
   "execution_count": 564,
   "metadata": {
    "ExecuteTime": {
     "end_time": "2017-11-07T19:30:56.971544Z",
     "start_time": "2017-11-07T19:30:56.704030Z"
    },
    "hidden": true
   },
   "outputs": [
    {
     "name": "stdout",
     "output_type": "stream",
     "text": [
      "Logistic Train ROC: 0.800728597623\n",
      "Logistic Test ROC: 0.785647048655\n",
      "[[10080  3374]\n",
      " [  492  1049]]\n",
      "\n",
      "precision 0.237169342076\n",
      "recall 0.680726800779\n",
      "avg precision: 0.322775890388\n"
     ]
    }
   ],
   "source": [
    "logregM_NMF = LogisticRegression(C=1, penalty='l2', random_state=100, class_weight='balanced')\n",
    "\n",
    "logregM_NMF.fit(X_train, y_train)\n",
    "\n",
    "y_pred_train = logregM_NMF.predict_proba(X_train)\n",
    "y_pred_test = logregM_NMF.predict_proba(X_test)\n",
    "y_pred_test_class = logregM_NMF.predict(X_test)\n",
    "\n",
    "fpr_rt_LR, tpr_rt_LR, _ = roc_curve(y_test, y_pred_test[:,1])\n",
    "\n",
    "print (\"Logistic Train ROC:\", metrics.roc_auc_score(y_train, y_pred_train[:,1]))\n",
    "print (\"Logistic Test ROC:\", metrics.roc_auc_score(y_test, y_pred_test[:,1]))\n",
    "\n",
    "lr_auc = metrics.roc_auc_score(y_test, y_pred_test[:,1])\n",
    "\n",
    "print(metrics.confusion_matrix(y_test, y_pred_test_class))\n",
    "print(\"\\nprecision\", metrics.precision_score(y_test, y_pred_test_class))\n",
    "print(\"recall\", metrics.recall_score(y_test, y_pred_test_class))\n",
    "\n",
    "print(\"avg precision:\", average_precision_score(y_test, y_pred_test[:,1]))\n"
   ]
  },
  {
   "cell_type": "code",
   "execution_count": null,
   "metadata": {
    "collapsed": true,
    "hidden": true
   },
   "outputs": [],
   "source": []
  },
  {
   "cell_type": "code",
   "execution_count": null,
   "metadata": {
    "collapsed": true,
    "hidden": true
   },
   "outputs": [],
   "source": []
  },
  {
   "cell_type": "code",
   "execution_count": null,
   "metadata": {
    "collapsed": true,
    "hidden": true
   },
   "outputs": [],
   "source": []
  },
  {
   "cell_type": "code",
   "execution_count": null,
   "metadata": {
    "collapsed": true,
    "hidden": true
   },
   "outputs": [],
   "source": []
  },
  {
   "cell_type": "code",
   "execution_count": null,
   "metadata": {
    "collapsed": true,
    "hidden": true
   },
   "outputs": [],
   "source": []
  },
  {
   "cell_type": "markdown",
   "metadata": {},
   "source": [
    "### Tests Case"
   ]
  },
  {
   "cell_type": "code",
   "execution_count": null,
   "metadata": {
    "collapsed": true
   },
   "outputs": [],
   "source": []
  },
  {
   "cell_type": "code",
   "execution_count": 148,
   "metadata": {
    "ExecuteTime": {
     "end_time": "2017-11-08T01:59:34.044586Z",
     "start_time": "2017-11-08T01:59:33.956238Z"
    },
    "collapsed": true
   },
   "outputs": [],
   "source": [
    "def custom_tokenize(text):\n",
    "    try:\n",
    "        return sent_tokenize(text)\n",
    "    except:\n",
    "        return ''\n",
    "\n",
    "    \n",
    "def tokenize_stem(df, col_name):\n",
    "    '''\n",
    "    Input dataframe.\n",
    "    Output dataframe do stemming on a specific column\n",
    "    '''\n",
    "    # Tokenize\n",
    "    df['token'] = df[col_name].apply(word_tokenize) \n",
    "\n",
    "    # Create stem words\n",
    "    prog = re.compile('^([a-zA-Z]+|\\W)$')\n",
    "\n",
    "    #     df['stemmed'] = df[\"token\"].\\\n",
    "    #         apply(lambda x: [stemmer.stem(y) for y in x if re.match('^([a-zA-Z]+|\\W)$', y)])\n",
    "    df['stemmed'] = df[\"token\"].\\\n",
    "        apply(lambda x: [stemmer.stem(y) for y in x if prog.match(y)])\n",
    "\n",
    "    df['stemmed2'] = df['stemmed'].apply(lambda x: ', '.join(x)).str.replace(',', '')\n",
    "    #   df['stemmed2'] = df['stemmed2'].str.replace(',', '')\n",
    "\n",
    "    df.drop('token', axis=1, inplace=True)\n",
    "    df.drop('stemmed', axis=1, inplace=True)\n",
    "    \n",
    "    return df\n",
    "\n",
    "# bus_review_small['sent_token'] = bus_review_small['review_txt'].apply(custom_tokenize) \n",
    "\n",
    "def custom_sent_pol(text):\n",
    "    try:\n",
    "        return TextBlob(text).sentiment[0]\n",
    "    except:\n",
    "        return 0"
   ]
  },
  {
   "cell_type": "code",
   "execution_count": 190,
   "metadata": {
    "ExecuteTime": {
     "end_time": "2017-11-08T03:12:08.224318Z",
     "start_time": "2017-11-08T03:12:08.157503Z"
    },
    "scrolled": true
   },
   "outputs": [
    {
     "data": {
      "text/html": [
       "<div>\n",
       "<style>\n",
       "    .dataframe thead tr:only-child th {\n",
       "        text-align: right;\n",
       "    }\n",
       "\n",
       "    .dataframe thead th {\n",
       "        text-align: left;\n",
       "    }\n",
       "\n",
       "    .dataframe tbody tr th {\n",
       "        vertical-align: top;\n",
       "    }\n",
       "</style>\n",
       "<table border=\"1\" class=\"dataframe\">\n",
       "  <thead>\n",
       "    <tr style=\"text-align: right;\">\n",
       "      <th></th>\n",
       "      <th>review_id</th>\n",
       "      <th>user_stars</th>\n",
       "      <th>useful</th>\n",
       "      <th>funny</th>\n",
       "      <th>sent_cnt</th>\n",
       "    </tr>\n",
       "  </thead>\n",
       "  <tbody>\n",
       "    <tr>\n",
       "      <th>12210</th>\n",
       "      <td>D45Y8tOIR5NQ8lkPvl5BRA</td>\n",
       "      <td>3</td>\n",
       "      <td>133.0</td>\n",
       "      <td>145.0</td>\n",
       "      <td>22</td>\n",
       "    </tr>\n",
       "    <tr>\n",
       "      <th>9879</th>\n",
       "      <td>1Zhfk21ia7GWBj8tDqdHxw</td>\n",
       "      <td>4</td>\n",
       "      <td>87.0</td>\n",
       "      <td>68.0</td>\n",
       "      <td>17</td>\n",
       "    </tr>\n",
       "    <tr>\n",
       "      <th>8982</th>\n",
       "      <td>mKet63rigUFJsC3N27Fdng</td>\n",
       "      <td>4</td>\n",
       "      <td>67.0</td>\n",
       "      <td>58.0</td>\n",
       "      <td>12</td>\n",
       "    </tr>\n",
       "    <tr>\n",
       "      <th>14524</th>\n",
       "      <td>WoFULsgUMf3e1-0Q1euzvw</td>\n",
       "      <td>1</td>\n",
       "      <td>60.0</td>\n",
       "      <td>45.0</td>\n",
       "      <td>11</td>\n",
       "    </tr>\n",
       "    <tr>\n",
       "      <th>9338</th>\n",
       "      <td>Y88af2FSebo58pXeL7hlgA</td>\n",
       "      <td>5</td>\n",
       "      <td>56.0</td>\n",
       "      <td>46.0</td>\n",
       "      <td>11</td>\n",
       "    </tr>\n",
       "    <tr>\n",
       "      <th>13953</th>\n",
       "      <td>VuEhuOaTjpyf84nF11JKyg</td>\n",
       "      <td>5</td>\n",
       "      <td>50.0</td>\n",
       "      <td>22.0</td>\n",
       "      <td>27</td>\n",
       "    </tr>\n",
       "    <tr>\n",
       "      <th>8345</th>\n",
       "      <td>s3X4-9c8cgmtLlmhVTsOag</td>\n",
       "      <td>5</td>\n",
       "      <td>47.0</td>\n",
       "      <td>33.0</td>\n",
       "      <td>11</td>\n",
       "    </tr>\n",
       "    <tr>\n",
       "      <th>1544</th>\n",
       "      <td>4zES7MtNZS3tJAoQ6hYWbQ</td>\n",
       "      <td>5</td>\n",
       "      <td>44.0</td>\n",
       "      <td>31.0</td>\n",
       "      <td>38</td>\n",
       "    </tr>\n",
       "    <tr>\n",
       "      <th>11741</th>\n",
       "      <td>njJ4Ad7Vv7tHSYLZpR9vcw</td>\n",
       "      <td>4</td>\n",
       "      <td>42.0</td>\n",
       "      <td>41.0</td>\n",
       "      <td>15</td>\n",
       "    </tr>\n",
       "    <tr>\n",
       "      <th>7356</th>\n",
       "      <td>639dORyBRumKB1qScufR7w</td>\n",
       "      <td>5</td>\n",
       "      <td>42.0</td>\n",
       "      <td>28.0</td>\n",
       "      <td>29</td>\n",
       "    </tr>\n",
       "    <tr>\n",
       "      <th>13411</th>\n",
       "      <td>hKxjOq0hAaGDycorYFuDVw</td>\n",
       "      <td>4</td>\n",
       "      <td>42.0</td>\n",
       "      <td>29.0</td>\n",
       "      <td>29</td>\n",
       "    </tr>\n",
       "    <tr>\n",
       "      <th>1785</th>\n",
       "      <td>gcW-NTQbYA-o_tjfz49n6A</td>\n",
       "      <td>4</td>\n",
       "      <td>40.0</td>\n",
       "      <td>39.0</td>\n",
       "      <td>13</td>\n",
       "    </tr>\n",
       "    <tr>\n",
       "      <th>11245</th>\n",
       "      <td>kPdndTNqb7lARHauPiVO5A</td>\n",
       "      <td>5</td>\n",
       "      <td>38.0</td>\n",
       "      <td>34.0</td>\n",
       "      <td>23</td>\n",
       "    </tr>\n",
       "    <tr>\n",
       "      <th>10566</th>\n",
       "      <td>8HcQ7sc7RjTV3J28gYGkvw</td>\n",
       "      <td>2</td>\n",
       "      <td>37.0</td>\n",
       "      <td>23.0</td>\n",
       "      <td>18</td>\n",
       "    </tr>\n",
       "    <tr>\n",
       "      <th>11704</th>\n",
       "      <td>OfGV9G0TruKWi0t4wB2YiA</td>\n",
       "      <td>5</td>\n",
       "      <td>37.0</td>\n",
       "      <td>17.0</td>\n",
       "      <td>20</td>\n",
       "    </tr>\n",
       "    <tr>\n",
       "      <th>3205</th>\n",
       "      <td>GkcNZHKJ4YdWlmoh7ScTgg</td>\n",
       "      <td>4</td>\n",
       "      <td>35.0</td>\n",
       "      <td>29.0</td>\n",
       "      <td>18</td>\n",
       "    </tr>\n",
       "    <tr>\n",
       "      <th>10787</th>\n",
       "      <td>DHqWs19iBmMHL5zyLaEt9Q</td>\n",
       "      <td>4</td>\n",
       "      <td>31.0</td>\n",
       "      <td>23.0</td>\n",
       "      <td>47</td>\n",
       "    </tr>\n",
       "    <tr>\n",
       "      <th>2572</th>\n",
       "      <td>etCnTTgfx37Tawk0Mb2gAA</td>\n",
       "      <td>4</td>\n",
       "      <td>30.0</td>\n",
       "      <td>25.0</td>\n",
       "      <td>14</td>\n",
       "    </tr>\n",
       "    <tr>\n",
       "      <th>10388</th>\n",
       "      <td>ke87GJPJpBjiahmcurkwLw</td>\n",
       "      <td>5</td>\n",
       "      <td>29.0</td>\n",
       "      <td>12.0</td>\n",
       "      <td>20</td>\n",
       "    </tr>\n",
       "    <tr>\n",
       "      <th>683</th>\n",
       "      <td>i17MeneTjlbWsNMVBMc8yA</td>\n",
       "      <td>4</td>\n",
       "      <td>28.0</td>\n",
       "      <td>28.0</td>\n",
       "      <td>24</td>\n",
       "    </tr>\n",
       "    <tr>\n",
       "      <th>13967</th>\n",
       "      <td>3Wmu8XYhSdNveivSXI_eXQ</td>\n",
       "      <td>1</td>\n",
       "      <td>28.0</td>\n",
       "      <td>5.0</td>\n",
       "      <td>13</td>\n",
       "    </tr>\n",
       "    <tr>\n",
       "      <th>9180</th>\n",
       "      <td>8H2UU00--LS9sLNFl-ULxg</td>\n",
       "      <td>3</td>\n",
       "      <td>28.0</td>\n",
       "      <td>21.0</td>\n",
       "      <td>24</td>\n",
       "    </tr>\n",
       "    <tr>\n",
       "      <th>4182</th>\n",
       "      <td>cJqxw-P_GZrYndKEd01s5Q</td>\n",
       "      <td>4</td>\n",
       "      <td>27.0</td>\n",
       "      <td>17.0</td>\n",
       "      <td>36</td>\n",
       "    </tr>\n",
       "    <tr>\n",
       "      <th>14652</th>\n",
       "      <td>X6ATuischf72VY2NSQcHPg</td>\n",
       "      <td>1</td>\n",
       "      <td>27.0</td>\n",
       "      <td>18.0</td>\n",
       "      <td>21</td>\n",
       "    </tr>\n",
       "    <tr>\n",
       "      <th>3050</th>\n",
       "      <td>ahPTof-gaJL49pOGHxJefw</td>\n",
       "      <td>5</td>\n",
       "      <td>27.0</td>\n",
       "      <td>24.0</td>\n",
       "      <td>10</td>\n",
       "    </tr>\n",
       "    <tr>\n",
       "      <th>7990</th>\n",
       "      <td>A1Pm1ggjlkXmOVkxvnzEQA</td>\n",
       "      <td>4</td>\n",
       "      <td>27.0</td>\n",
       "      <td>21.0</td>\n",
       "      <td>18</td>\n",
       "    </tr>\n",
       "    <tr>\n",
       "      <th>3932</th>\n",
       "      <td>kcMam70IAiosS0ZsAJW8Jw</td>\n",
       "      <td>2</td>\n",
       "      <td>26.0</td>\n",
       "      <td>17.0</td>\n",
       "      <td>25</td>\n",
       "    </tr>\n",
       "    <tr>\n",
       "      <th>14443</th>\n",
       "      <td>9OSySQgbFQPF6CK9aZnSMQ</td>\n",
       "      <td>2</td>\n",
       "      <td>25.0</td>\n",
       "      <td>8.0</td>\n",
       "      <td>20</td>\n",
       "    </tr>\n",
       "    <tr>\n",
       "      <th>13569</th>\n",
       "      <td>QUs48mqeJErRBdDylFK3nQ</td>\n",
       "      <td>5</td>\n",
       "      <td>25.0</td>\n",
       "      <td>22.0</td>\n",
       "      <td>11</td>\n",
       "    </tr>\n",
       "    <tr>\n",
       "      <th>12899</th>\n",
       "      <td>zK8w3qhfsREJMCm6edi9ig</td>\n",
       "      <td>5</td>\n",
       "      <td>25.0</td>\n",
       "      <td>20.0</td>\n",
       "      <td>18</td>\n",
       "    </tr>\n",
       "    <tr>\n",
       "      <th>...</th>\n",
       "      <td>...</td>\n",
       "      <td>...</td>\n",
       "      <td>...</td>\n",
       "      <td>...</td>\n",
       "      <td>...</td>\n",
       "    </tr>\n",
       "    <tr>\n",
       "      <th>9193</th>\n",
       "      <td>6sS1nw-NBbnBmhehubMaAQ</td>\n",
       "      <td>1</td>\n",
       "      <td>0.0</td>\n",
       "      <td>0.0</td>\n",
       "      <td>11</td>\n",
       "    </tr>\n",
       "    <tr>\n",
       "      <th>9195</th>\n",
       "      <td>wYG8_vvp9Ax9VZyFSfwVzg</td>\n",
       "      <td>3</td>\n",
       "      <td>0.0</td>\n",
       "      <td>0.0</td>\n",
       "      <td>32</td>\n",
       "    </tr>\n",
       "    <tr>\n",
       "      <th>2715</th>\n",
       "      <td>tBj0ydd1XmWKadoixigjHA</td>\n",
       "      <td>4</td>\n",
       "      <td>0.0</td>\n",
       "      <td>1.0</td>\n",
       "      <td>19</td>\n",
       "    </tr>\n",
       "    <tr>\n",
       "      <th>2735</th>\n",
       "      <td>LXk202sII2L4PALYnjXI9w</td>\n",
       "      <td>5</td>\n",
       "      <td>0.0</td>\n",
       "      <td>0.0</td>\n",
       "      <td>14</td>\n",
       "    </tr>\n",
       "    <tr>\n",
       "      <th>2718</th>\n",
       "      <td>J0HMgPEoOTJEZAv-pmarjA</td>\n",
       "      <td>5</td>\n",
       "      <td>0.0</td>\n",
       "      <td>0.0</td>\n",
       "      <td>11</td>\n",
       "    </tr>\n",
       "    <tr>\n",
       "      <th>2719</th>\n",
       "      <td>mvBvONC046NWn2uxRZLsWQ</td>\n",
       "      <td>4</td>\n",
       "      <td>0.0</td>\n",
       "      <td>0.0</td>\n",
       "      <td>15</td>\n",
       "    </tr>\n",
       "    <tr>\n",
       "      <th>9229</th>\n",
       "      <td>3WLm1ghoCS1eCSdvYUG1lg</td>\n",
       "      <td>3</td>\n",
       "      <td>0.0</td>\n",
       "      <td>1.0</td>\n",
       "      <td>16</td>\n",
       "    </tr>\n",
       "    <tr>\n",
       "      <th>9227</th>\n",
       "      <td>lL4Hp0SxX82PwPuwFw6ufQ</td>\n",
       "      <td>3</td>\n",
       "      <td>0.0</td>\n",
       "      <td>0.0</td>\n",
       "      <td>14</td>\n",
       "    </tr>\n",
       "    <tr>\n",
       "      <th>2723</th>\n",
       "      <td>56IGOTaWnQaZTdug7hxltg</td>\n",
       "      <td>3</td>\n",
       "      <td>0.0</td>\n",
       "      <td>0.0</td>\n",
       "      <td>10</td>\n",
       "    </tr>\n",
       "    <tr>\n",
       "      <th>9222</th>\n",
       "      <td>D7oqSFA_np0SENbEO7HV1w</td>\n",
       "      <td>3</td>\n",
       "      <td>0.0</td>\n",
       "      <td>0.0</td>\n",
       "      <td>11</td>\n",
       "    </tr>\n",
       "    <tr>\n",
       "      <th>2724</th>\n",
       "      <td>xqE1I17fL9TosmGKAfnKYw</td>\n",
       "      <td>4</td>\n",
       "      <td>0.0</td>\n",
       "      <td>0.0</td>\n",
       "      <td>14</td>\n",
       "    </tr>\n",
       "    <tr>\n",
       "      <th>9219</th>\n",
       "      <td>81rq2HXGEGv0U88K7ZF9vQ</td>\n",
       "      <td>4</td>\n",
       "      <td>0.0</td>\n",
       "      <td>0.0</td>\n",
       "      <td>10</td>\n",
       "    </tr>\n",
       "    <tr>\n",
       "      <th>9218</th>\n",
       "      <td>LU1lk-L4cIPFn-vr4MoKJQ</td>\n",
       "      <td>2</td>\n",
       "      <td>0.0</td>\n",
       "      <td>0.0</td>\n",
       "      <td>16</td>\n",
       "    </tr>\n",
       "    <tr>\n",
       "      <th>2725</th>\n",
       "      <td>5n-05l0TcMkxBFVHaLsU6Q</td>\n",
       "      <td>4</td>\n",
       "      <td>0.0</td>\n",
       "      <td>1.0</td>\n",
       "      <td>19</td>\n",
       "    </tr>\n",
       "    <tr>\n",
       "      <th>9216</th>\n",
       "      <td>a2uOSihcZpXB6TnuOVyh1w</td>\n",
       "      <td>5</td>\n",
       "      <td>0.0</td>\n",
       "      <td>0.0</td>\n",
       "      <td>18</td>\n",
       "    </tr>\n",
       "    <tr>\n",
       "      <th>9215</th>\n",
       "      <td>EVR85a03E_eBejeY0UIiVA</td>\n",
       "      <td>3</td>\n",
       "      <td>0.0</td>\n",
       "      <td>1.0</td>\n",
       "      <td>18</td>\n",
       "    </tr>\n",
       "    <tr>\n",
       "      <th>9213</th>\n",
       "      <td>9Yqy2GLTTK7dENd5jZVoIw</td>\n",
       "      <td>5</td>\n",
       "      <td>0.0</td>\n",
       "      <td>0.0</td>\n",
       "      <td>13</td>\n",
       "    </tr>\n",
       "    <tr>\n",
       "      <th>2726</th>\n",
       "      <td>fDdCm50a7k3t3iFhlv-HUQ</td>\n",
       "      <td>4</td>\n",
       "      <td>0.0</td>\n",
       "      <td>0.0</td>\n",
       "      <td>19</td>\n",
       "    </tr>\n",
       "    <tr>\n",
       "      <th>2727</th>\n",
       "      <td>XexRMeRfvm4xEzm_WcGDtg</td>\n",
       "      <td>2</td>\n",
       "      <td>0.0</td>\n",
       "      <td>0.0</td>\n",
       "      <td>14</td>\n",
       "    </tr>\n",
       "    <tr>\n",
       "      <th>2728</th>\n",
       "      <td>hA1lYIP20JQoYJY_B1mBZg</td>\n",
       "      <td>2</td>\n",
       "      <td>0.0</td>\n",
       "      <td>1.0</td>\n",
       "      <td>14</td>\n",
       "    </tr>\n",
       "    <tr>\n",
       "      <th>9208</th>\n",
       "      <td>ITYOaSV9Y-l6NCsOUbiHqQ</td>\n",
       "      <td>4</td>\n",
       "      <td>0.0</td>\n",
       "      <td>0.0</td>\n",
       "      <td>21</td>\n",
       "    </tr>\n",
       "    <tr>\n",
       "      <th>2729</th>\n",
       "      <td>XgAK7-32k7l3O0Bm5NIG-g</td>\n",
       "      <td>4</td>\n",
       "      <td>0.0</td>\n",
       "      <td>0.0</td>\n",
       "      <td>13</td>\n",
       "    </tr>\n",
       "    <tr>\n",
       "      <th>9206</th>\n",
       "      <td>wuIPKkH1InnC35gZaLT7IA</td>\n",
       "      <td>5</td>\n",
       "      <td>0.0</td>\n",
       "      <td>0.0</td>\n",
       "      <td>10</td>\n",
       "    </tr>\n",
       "    <tr>\n",
       "      <th>9204</th>\n",
       "      <td>XrN14G4Vu8CpK4yxacnElg</td>\n",
       "      <td>5</td>\n",
       "      <td>0.0</td>\n",
       "      <td>0.0</td>\n",
       "      <td>10</td>\n",
       "    </tr>\n",
       "    <tr>\n",
       "      <th>9201</th>\n",
       "      <td>4Our2_CvA6BCaBXqiiNrjA</td>\n",
       "      <td>5</td>\n",
       "      <td>0.0</td>\n",
       "      <td>0.0</td>\n",
       "      <td>11</td>\n",
       "    </tr>\n",
       "    <tr>\n",
       "      <th>9200</th>\n",
       "      <td>bilg1vjYMc2Kuej2MeGO4Q</td>\n",
       "      <td>4</td>\n",
       "      <td>0.0</td>\n",
       "      <td>0.0</td>\n",
       "      <td>27</td>\n",
       "    </tr>\n",
       "    <tr>\n",
       "      <th>2733</th>\n",
       "      <td>uKW75J0_C1zfVM22IxyI2A</td>\n",
       "      <td>3</td>\n",
       "      <td>0.0</td>\n",
       "      <td>0.0</td>\n",
       "      <td>10</td>\n",
       "    </tr>\n",
       "    <tr>\n",
       "      <th>2734</th>\n",
       "      <td>O977H8LT-oCMsctPVR_1Zg</td>\n",
       "      <td>4</td>\n",
       "      <td>0.0</td>\n",
       "      <td>0.0</td>\n",
       "      <td>10</td>\n",
       "    </tr>\n",
       "    <tr>\n",
       "      <th>9197</th>\n",
       "      <td>UIizwTAbYOopA9tEKX81lw</td>\n",
       "      <td>3</td>\n",
       "      <td>0.0</td>\n",
       "      <td>0.0</td>\n",
       "      <td>18</td>\n",
       "    </tr>\n",
       "    <tr>\n",
       "      <th>15141</th>\n",
       "      <td>K2qtRkPmVMYIFnVNSFXNvg</td>\n",
       "      <td>5</td>\n",
       "      <td>0.0</td>\n",
       "      <td>0.0</td>\n",
       "      <td>24</td>\n",
       "    </tr>\n",
       "  </tbody>\n",
       "</table>\n",
       "<p>15142 rows × 5 columns</p>\n",
       "</div>"
      ],
      "text/plain": [
       "                    review_id user_stars  useful  funny  sent_cnt\n",
       "12210  D45Y8tOIR5NQ8lkPvl5BRA          3   133.0  145.0        22\n",
       "9879   1Zhfk21ia7GWBj8tDqdHxw          4    87.0   68.0        17\n",
       "8982   mKet63rigUFJsC3N27Fdng          4    67.0   58.0        12\n",
       "14524  WoFULsgUMf3e1-0Q1euzvw          1    60.0   45.0        11\n",
       "9338   Y88af2FSebo58pXeL7hlgA          5    56.0   46.0        11\n",
       "13953  VuEhuOaTjpyf84nF11JKyg          5    50.0   22.0        27\n",
       "8345   s3X4-9c8cgmtLlmhVTsOag          5    47.0   33.0        11\n",
       "1544   4zES7MtNZS3tJAoQ6hYWbQ          5    44.0   31.0        38\n",
       "11741  njJ4Ad7Vv7tHSYLZpR9vcw          4    42.0   41.0        15\n",
       "7356   639dORyBRumKB1qScufR7w          5    42.0   28.0        29\n",
       "13411  hKxjOq0hAaGDycorYFuDVw          4    42.0   29.0        29\n",
       "1785   gcW-NTQbYA-o_tjfz49n6A          4    40.0   39.0        13\n",
       "11245  kPdndTNqb7lARHauPiVO5A          5    38.0   34.0        23\n",
       "10566  8HcQ7sc7RjTV3J28gYGkvw          2    37.0   23.0        18\n",
       "11704  OfGV9G0TruKWi0t4wB2YiA          5    37.0   17.0        20\n",
       "3205   GkcNZHKJ4YdWlmoh7ScTgg          4    35.0   29.0        18\n",
       "10787  DHqWs19iBmMHL5zyLaEt9Q          4    31.0   23.0        47\n",
       "2572   etCnTTgfx37Tawk0Mb2gAA          4    30.0   25.0        14\n",
       "10388  ke87GJPJpBjiahmcurkwLw          5    29.0   12.0        20\n",
       "683    i17MeneTjlbWsNMVBMc8yA          4    28.0   28.0        24\n",
       "13967  3Wmu8XYhSdNveivSXI_eXQ          1    28.0    5.0        13\n",
       "9180   8H2UU00--LS9sLNFl-ULxg          3    28.0   21.0        24\n",
       "4182   cJqxw-P_GZrYndKEd01s5Q          4    27.0   17.0        36\n",
       "14652  X6ATuischf72VY2NSQcHPg          1    27.0   18.0        21\n",
       "3050   ahPTof-gaJL49pOGHxJefw          5    27.0   24.0        10\n",
       "7990   A1Pm1ggjlkXmOVkxvnzEQA          4    27.0   21.0        18\n",
       "3932   kcMam70IAiosS0ZsAJW8Jw          2    26.0   17.0        25\n",
       "14443  9OSySQgbFQPF6CK9aZnSMQ          2    25.0    8.0        20\n",
       "13569  QUs48mqeJErRBdDylFK3nQ          5    25.0   22.0        11\n",
       "12899  zK8w3qhfsREJMCm6edi9ig          5    25.0   20.0        18\n",
       "...                       ...        ...     ...    ...       ...\n",
       "9193   6sS1nw-NBbnBmhehubMaAQ          1     0.0    0.0        11\n",
       "9195   wYG8_vvp9Ax9VZyFSfwVzg          3     0.0    0.0        32\n",
       "2715   tBj0ydd1XmWKadoixigjHA          4     0.0    1.0        19\n",
       "2735   LXk202sII2L4PALYnjXI9w          5     0.0    0.0        14\n",
       "2718   J0HMgPEoOTJEZAv-pmarjA          5     0.0    0.0        11\n",
       "2719   mvBvONC046NWn2uxRZLsWQ          4     0.0    0.0        15\n",
       "9229   3WLm1ghoCS1eCSdvYUG1lg          3     0.0    1.0        16\n",
       "9227   lL4Hp0SxX82PwPuwFw6ufQ          3     0.0    0.0        14\n",
       "2723   56IGOTaWnQaZTdug7hxltg          3     0.0    0.0        10\n",
       "9222   D7oqSFA_np0SENbEO7HV1w          3     0.0    0.0        11\n",
       "2724   xqE1I17fL9TosmGKAfnKYw          4     0.0    0.0        14\n",
       "9219   81rq2HXGEGv0U88K7ZF9vQ          4     0.0    0.0        10\n",
       "9218   LU1lk-L4cIPFn-vr4MoKJQ          2     0.0    0.0        16\n",
       "2725   5n-05l0TcMkxBFVHaLsU6Q          4     0.0    1.0        19\n",
       "9216   a2uOSihcZpXB6TnuOVyh1w          5     0.0    0.0        18\n",
       "9215   EVR85a03E_eBejeY0UIiVA          3     0.0    1.0        18\n",
       "9213   9Yqy2GLTTK7dENd5jZVoIw          5     0.0    0.0        13\n",
       "2726   fDdCm50a7k3t3iFhlv-HUQ          4     0.0    0.0        19\n",
       "2727   XexRMeRfvm4xEzm_WcGDtg          2     0.0    0.0        14\n",
       "2728   hA1lYIP20JQoYJY_B1mBZg          2     0.0    1.0        14\n",
       "9208   ITYOaSV9Y-l6NCsOUbiHqQ          4     0.0    0.0        21\n",
       "2729   XgAK7-32k7l3O0Bm5NIG-g          4     0.0    0.0        13\n",
       "9206   wuIPKkH1InnC35gZaLT7IA          5     0.0    0.0        10\n",
       "9204   XrN14G4Vu8CpK4yxacnElg          5     0.0    0.0        10\n",
       "9201   4Our2_CvA6BCaBXqiiNrjA          5     0.0    0.0        11\n",
       "9200   bilg1vjYMc2Kuej2MeGO4Q          4     0.0    0.0        27\n",
       "2733   uKW75J0_C1zfVM22IxyI2A          3     0.0    0.0        10\n",
       "2734   O977H8LT-oCMsctPVR_1Zg          4     0.0    0.0        10\n",
       "9197   UIizwTAbYOopA9tEKX81lw          3     0.0    0.0        18\n",
       "15141  K2qtRkPmVMYIFnVNSFXNvg          5     0.0    0.0        24\n",
       "\n",
       "[15142 rows x 5 columns]"
      ]
     },
     "execution_count": 190,
     "metadata": {},
     "output_type": "execute_result"
    }
   ],
   "source": [
    "bus_review_LDA_mny_pol.sort_values('useful', ascending = False)[['review_id', 'user_stars', 'useful', 'funny', 'sent_cnt']]\n",
    "#sorted(review_LDA.useful, reverse=True)"
   ]
  },
  {
   "cell_type": "code",
   "execution_count": 289,
   "metadata": {
    "ExecuteTime": {
     "end_time": "2017-11-09T13:46:54.094066Z",
     "start_time": "2017-11-09T13:46:54.078244Z"
    }
   },
   "outputs": [
    {
     "name": "stdout",
     "output_type": "stream",
     "text": [
      "Wow! I had been wanting to try Little Miss BBQ's heavenly smoked meats since its inception, but did not want to wait in the long lines. They do offer pick up/to go orders for meat orders totaling 5 lbs. or more so I placed an order through e-mail for 5 lbs. plus BBQ sauce and sides. Note that you have to place an order about one week in advance for them to be able to prepare it for you (By 4 P.M. Friday for an order the following week). I invited some friends over so we could share in this meaty feast!\n",
      "\n",
      "We got:\n",
      "2+ lbs. beef short rib ($20 per pound, only sold on Friday and Saturday. Each rib is about a pound so you can get an idea of how much to order)\n",
      "1 lb. pulled pork ($14.50 per pound)\n",
      "2 lbs. fatty brisket ($19 per pound)\n",
      "1 pint jalapeño cheddar grits ($4)\n",
      "1 pint BBQ beans ($4)\n",
      "1 squeeze bottle house BBQ sauce ($2)\n",
      "Pickles, onions, jalapeños, and the happiness that you feel when you eat good food (Priceless ;) )\n",
      "\n",
      "I received a confirmation e-mail about a day later with a pick up time of 10:15. We got there a little early at 10 and there were already about 5 people waiting in line before the official opening at 11. The order took only a few short minutes to be made and the cashier was friendly and cheerful. Apparently they had just completed an order for the Cardinals before we came by to pick up our meal. Nice!\n",
      "\n",
      "The delicious aroma of slowly BBQ'd meat taunted us while we were in the car driving home. Opening up the packages was like opening up a present on Christmas day :). The brisket and short rib had an amazing rich bark on it, and all the meats had smoke rings for days... My favorite of all the meats were the short ribs. They weren't very short looking, as they were gigantic bones the size of my forearm. :) It was everything you'd want in BBQ: deep smoky flavor, lovely bark crust, and tender texture. The fatty brisket was my second favorite, also being very tender and full of flavor. The pulled pork was good as well, but it's harder to get brisket and short rib right so I applaud them on their BBQ perfection!\n",
      "\n",
      "The sides were also quite good, and the squeeze bottle filled with house BBQ sauce was a steal at $2. I loved the tangy flavor, with perfect consistency, and not too sweet.\n",
      "\n",
      "If you can plan ahead and invest in the bulk pick up order, this is the way to go! No lines, and you'll have amazing BBQ in the comfort of your own home.\n",
      "\n",
      "elite_prior                      1\n",
      "user_stars                       5\n",
      "city                       Phoenix\n",
      "date           2016-01-24 00:00:00\n",
      "Name: 13953, dtype: object\n"
     ]
    }
   ],
   "source": [
    "loc = 13953\n",
    "# loc = 7356\n",
    "\n",
    "print(bus_review_LDA_mny_pol.iloc[loc]['review_txt'])\n",
    "print()\n",
    "print(bus_review_LDA_mny_pol.iloc[loc][['elite_prior', 'user_stars', 'city', 'date']])"
   ]
  },
  {
   "cell_type": "code",
   "execution_count": 311,
   "metadata": {
    "ExecuteTime": {
     "end_time": "2017-11-09T22:47:02.370785Z",
     "start_time": "2017-11-09T22:47:02.352585Z"
    }
   },
   "outputs": [],
   "source": [
    "no_topics = 12\n",
    "\n",
    "LDA_cols_filt = ['LDA_' + str(i) for i in range(1, no_topics + 1)]\n",
    "LDA_cols_pred = ['LDA_' + str(i) for i in range(1, no_topics)]\n",
    "feature_cols_LDA = LDA_cols_pred + ['sent_cnt'] + ['user_stars'] + ['elite_prior'] + ['polarity']\n",
    "\n",
    "\n",
    "text_example = \"\"\"\n",
    "Umm...wait. Why did no one tell me that there's a pizza place in New York that sells pizzas at only $10.10 and gives you the option of getting UNLIMITED toppings?? Honestly though, if someone did tell me that, I'd have thought they were pulling my leg. To make things even better, I thought the pizzas would be so tiny enough to prevent you from taking full advantage of the unlimited toppings, but they're actually the perfect shape to hold whatever your heart desires.\n",
    "\n",
    "To make things even better (yes, once again), there are actually a LOT of variety in the toppings you can choose, including some less traditional ones that you probably won't see in other pizza places. My only complaint is that there are sooo many tempting ones that don't necessarily go together in terms of flavor profile, but obviously I had to throw them all together on my pizza anyway (but that speaks more to my lack of self-control, so not an actual complaint). \n",
    "\n",
    "That's how I ended up with a Moonstruck pizza (garlic ricotta, mushroom truffle, mozzarella, mushroom, grilled onion, goat cheese, fig balsamic), which I wasn't actually trying to create--it just ended up having all the toppings I naturally gravitate towards topped with things like pepperoni, Italian sausage, salami, meatballs, bacon, banana peppers, pickled red onions, and arugula. Seriously, I have no self control. It actually ended up tasting delicious, despite some flavor clashes, which cements &pizza as my new favorite pizza place.\n",
    "\n",
    "I was actually pretty hungry, so I also split an American Honey with my boyfriend. We added on some spinach, Italian sausage, bacon, and egg. It was delicious, and I loved how the hot honey was incorporated into savory pizza.\n",
    "\n",
    "We were also given the option to sample their drinks! The passion fruit mango was my favorite--it was super fizzy and hit the spot. I also liked the lemonade and the cereal cream soda was really interesting in a good way.\n",
    "\n",
    "Unfortunately, I was too full to try their dessert pizza, but you can bet that I'm definitely going to be back! Who doesn't appreciate a little innovation with their pizza and at such a reasonable price? Definitely come check this place out if you like new pizza and soda combinations!\n",
    "\"\"\"\n",
    "#text_example = bus_review_LDA_mny_pol.iloc[loc]['review_txt']\n",
    "elite = 1\n",
    "rating = 4"
   ]
  },
  {
   "cell_type": "code",
   "execution_count": 312,
   "metadata": {
    "ExecuteTime": {
     "end_time": "2017-11-09T22:47:07.083240Z",
     "start_time": "2017-11-09T22:47:07.052276Z"
    },
    "collapsed": true
   },
   "outputs": [],
   "source": [
    "# Step 1: Sentence tokenize.\n",
    "step1 = custom_tokenize(text_example)\n",
    "step1_df = pd.DataFrame(np.array(step1), columns=['sent'])\n",
    "step1_df['sent_cnt'] = len(step1)\n",
    "step1_df['user_stars'] = rating\n",
    "step1_df['elite_prior'] = elite\n",
    "step1_df['polarity'] = step1_df['sent'].apply(custom_sent_pol)\n",
    "\n"
   ]
  },
  {
   "cell_type": "code",
   "execution_count": 313,
   "metadata": {
    "ExecuteTime": {
     "end_time": "2017-11-09T22:47:11.224735Z",
     "start_time": "2017-11-09T22:47:11.221116Z"
    }
   },
   "outputs": [],
   "source": [
    "#LDA_cols_pred"
   ]
  },
  {
   "cell_type": "code",
   "execution_count": 314,
   "metadata": {
    "ExecuteTime": {
     "end_time": "2017-11-09T22:47:15.382945Z",
     "start_time": "2017-11-09T22:47:15.345105Z"
    },
    "collapsed": true
   },
   "outputs": [],
   "source": [
    "step2 = tokenize_stem(step1_df, 'sent')\n",
    "\n",
    "step3_lda = tf_vectorizer.transform(step2['stemmed2'])\n",
    "\n",
    "lda_test_case = pd.DataFrame(lda_all.transform(step3_lda), columns = LDA_cols_filt )\n"
   ]
  },
  {
   "cell_type": "code",
   "execution_count": 315,
   "metadata": {
    "ExecuteTime": {
     "end_time": "2017-11-09T22:47:19.480486Z",
     "start_time": "2017-11-09T22:47:19.477157Z"
    }
   },
   "outputs": [],
   "source": [
    "#step2.head()"
   ]
  },
  {
   "cell_type": "code",
   "execution_count": 316,
   "metadata": {
    "ExecuteTime": {
     "end_time": "2017-11-09T22:47:23.614837Z",
     "start_time": "2017-11-09T22:47:23.608327Z"
    }
   },
   "outputs": [
    {
     "data": {
      "text/plain": [
       "18"
      ]
     },
     "execution_count": 316,
     "metadata": {},
     "output_type": "execute_result"
    }
   ],
   "source": [
    "len(step2)"
   ]
  },
  {
   "cell_type": "code",
   "execution_count": 317,
   "metadata": {
    "ExecuteTime": {
     "end_time": "2017-11-09T22:47:27.940837Z",
     "start_time": "2017-11-09T22:47:27.933577Z"
    }
   },
   "outputs": [],
   "source": [
    "import random\n",
    "\n",
    "choice = range(1, len(step2))\n",
    "rando = sort(random.choices(choice, k = 4))"
   ]
  },
  {
   "cell_type": "code",
   "execution_count": 318,
   "metadata": {
    "ExecuteTime": {
     "end_time": "2017-11-09T22:47:27.950380Z",
     "start_time": "2017-11-09T22:47:27.944696Z"
    }
   },
   "outputs": [],
   "source": [
    "#lda_test_case.head()"
   ]
  },
  {
   "cell_type": "code",
   "execution_count": 323,
   "metadata": {
    "ExecuteTime": {
     "end_time": "2017-11-09T22:48:15.627502Z",
     "start_time": "2017-11-09T22:48:15.592280Z"
    }
   },
   "outputs": [
    {
     "name": "stdout",
     "output_type": "stream",
     "text": [
      "\n",
      "Umm...wait.\n",
      "Why did no one tell me that there's a pizza place in New York that sells pizzas at only $10.10 and gives you the option of getting UNLIMITED toppings??\n",
      "Seriously, I have no self control.\n",
      "It was delicious, and I loved how the hot honey was incorporated into savory pizza.\n",
      "Definitely come check this place out if you like new pizza and soda combinations!\n"
     ]
    }
   ],
   "source": [
    "test_case_dat = pd.merge(step2, lda_test_case, how='inner', left_index = True, right_index = True)\n",
    "\n",
    "X_testcase = test_case_dat[feature_cols_LDA]\n",
    "test_case_dat['pred'] = logregM_LDA.predict_proba(X_testcase)[:,1]\n",
    "\n",
    "test_case_dat[['sent', 'pred', 'polarity']]\n",
    "\n",
    "most_imp = sorted(test_case_dat['pred'].argsort()[::-1][:5])\n",
    "\n",
    "for i in most_imp:\n",
    "    print(test_case_dat.iloc[i]['sent'])"
   ]
  },
  {
   "cell_type": "code",
   "execution_count": 325,
   "metadata": {
    "ExecuteTime": {
     "end_time": "2017-11-09T22:48:29.410765Z",
     "start_time": "2017-11-09T22:48:29.400137Z"
    }
   },
   "outputs": [
    {
     "name": "stdout",
     "output_type": "stream",
     "text": [
      "My only complaint is that there are sooo many tempting ones that don't necessarily go together in terms of flavor profile, but obviously I had to throw them all together on my pizza anyway (but that speaks more to my lack of self-control, so not an actual complaint).\n",
      "That's how I ended up with a Moonstruck pizza (garlic ricotta, mushroom truffle, mozzarella, mushroom, grilled onion, goat cheese, fig balsamic), which I wasn't actually trying to create--it just ended up having all the toppings I naturally gravitate towards topped with things like pepperoni, Italian sausage, salami, meatballs, bacon, banana peppers, pickled red onions, and arugula.\n",
      "Seriously, I have no self control.\n",
      "It actually ended up tasting delicious, despite some flavor clashes, which cements &pizza as my new favorite pizza place.\n",
      "Unfortunately, I was too full to try their dessert pizza, but you can bet that I'm definitely going to be back!\n"
     ]
    }
   ],
   "source": [
    "choice = range(1, len(step2))\n",
    "rando = sort(np.random.choice(choice, 5, replace=False))\n",
    "\n",
    "for i in rando:\n",
    "    print(step2.iloc[i]['sent'])"
   ]
  },
  {
   "cell_type": "code",
   "execution_count": 307,
   "metadata": {
    "ExecuteTime": {
     "end_time": "2017-11-09T13:52:06.666758Z",
     "start_time": "2017-11-09T13:52:06.638570Z"
    }
   },
   "outputs": [
    {
     "name": "stdout",
     "output_type": "stream",
     "text": [
      "I had been wanting to try Little Miss BBQ's heavenly smoked meats since its inception, but did not want to wait in the long lines.\n",
      "We got:\n",
      "2+ lbs.\n",
      "The delicious aroma of slowly BBQ'd meat taunted us while we were in the car driving home.\n",
      "Opening up the packages was like opening up a present on Christmas day :).\n",
      "If you can plan ahead and invest in the bulk pick up order, this is the way to go!\n"
     ]
    }
   ],
   "source": [
    "test_case_dat = pd.merge(step2, lda_test_case, how='inner', left_index = True, right_index = True)\n",
    "\n",
    "X_testcase = test_case_dat[feature_cols_LDA]\n",
    "test_case_dat['pred'] = logregM_LDA.predict_proba(X_testcase)[:,1]\n",
    "\n",
    "test_case_dat[['sent', 'pred', 'polarity']]\n",
    "\n",
    "most_imp = sorted(test_case_dat['pred'].argsort()[::-1][:5])\n",
    "\n",
    "for i in most_imp:\n",
    "    print(test_case_dat.iloc[i]['sent'])"
   ]
  },
  {
   "cell_type": "code",
   "execution_count": null,
   "metadata": {
    "collapsed": true
   },
   "outputs": [],
   "source": [
    "test_case_dat[i]['sent']"
   ]
  },
  {
   "cell_type": "markdown",
   "metadata": {},
   "source": [
    "##### NMF Prediction"
   ]
  },
  {
   "cell_type": "code",
   "execution_count": 559,
   "metadata": {
    "ExecuteTime": {
     "end_time": "2017-11-07T19:29:22.047763Z",
     "start_time": "2017-11-07T19:29:22.043358Z"
    },
    "collapsed": true
   },
   "outputs": [],
   "source": [
    "no_topics = 5\n",
    "NMF_cols = ['NMF_' + str(i) for i in range(1, no_topics + 1)]\n",
    "NMF_features = NMF_cols + ['sent_cnt'] + ['user_stars'] + ['elite_prior']"
   ]
  },
  {
   "cell_type": "code",
   "execution_count": 554,
   "metadata": {
    "ExecuteTime": {
     "end_time": "2017-11-07T19:28:05.424034Z",
     "start_time": "2017-11-07T19:28:05.414142Z"
    },
    "collapsed": true
   },
   "outputs": [],
   "source": [
    "step1 = custom_tokenize(text_example)\n",
    "step1_df = pd.DataFrame(np.array(step1), columns=['sent'])\n",
    "step1_df['sent_cnt'] = len(step1)\n",
    "step1_df['user_stars'] = rating\n",
    "step1_df['elite_prior'] = elite"
   ]
  },
  {
   "cell_type": "code",
   "execution_count": 555,
   "metadata": {
    "ExecuteTime": {
     "end_time": "2017-11-07T19:28:11.195554Z",
     "start_time": "2017-11-07T19:28:11.168981Z"
    },
    "collapsed": true
   },
   "outputs": [],
   "source": [
    "step2 = tokenize_stem(step1_df, 'sent')\n",
    "\n",
    "step3_nmf = tfidf_vectorizer.transform(step2['stemmed2'])\n",
    "\n"
   ]
  },
  {
   "cell_type": "code",
   "execution_count": 563,
   "metadata": {
    "ExecuteTime": {
     "end_time": "2017-11-07T19:30:33.534654Z",
     "start_time": "2017-11-07T19:30:33.523321Z"
    },
    "collapsed": true,
    "scrolled": true
   },
   "outputs": [],
   "source": [
    "nmf_test_case = pd.DataFrame(nmf.transform(step3_nmf), columns = NMF_cols )\n",
    "\n",
    "test_case_dat = pd.merge(step2, nmf_test_case, how='inner', left_index = True, right_index = True)\n",
    "\n",
    "X_testcase = test_case_dat[feature_cols]"
   ]
  },
  {
   "cell_type": "code",
   "execution_count": 565,
   "metadata": {
    "ExecuteTime": {
     "end_time": "2017-11-07T19:31:03.919524Z",
     "start_time": "2017-11-07T19:31:03.877719Z"
    },
    "collapsed": true
   },
   "outputs": [
    {
     "data": {
      "text/html": [
       "<div>\n",
       "<style>\n",
       "    .dataframe thead tr:only-child th {\n",
       "        text-align: right;\n",
       "    }\n",
       "\n",
       "    .dataframe thead th {\n",
       "        text-align: left;\n",
       "    }\n",
       "\n",
       "    .dataframe tbody tr th {\n",
       "        vertical-align: top;\n",
       "    }\n",
       "</style>\n",
       "<table border=\"1\" class=\"dataframe\">\n",
       "  <thead>\n",
       "    <tr style=\"text-align: right;\">\n",
       "      <th></th>\n",
       "      <th>sent</th>\n",
       "      <th>sent_cnt</th>\n",
       "      <th>user_stars</th>\n",
       "      <th>elite_prior</th>\n",
       "      <th>stemmed2</th>\n",
       "      <th>NMF_1</th>\n",
       "      <th>NMF_2</th>\n",
       "      <th>NMF_3</th>\n",
       "      <th>NMF_4</th>\n",
       "      <th>NMF_5</th>\n",
       "      <th>pred</th>\n",
       "    </tr>\n",
       "  </thead>\n",
       "  <tbody>\n",
       "    <tr>\n",
       "      <th>0</th>\n",
       "      <td>THE WRONG TEAM\\nWanted some dessert to go.</td>\n",
       "      <td>21</td>\n",
       "      <td>2</td>\n",
       "      <td>0</td>\n",
       "      <td>the wrong team want some dessert to go .</td>\n",
       "      <td>0.000000</td>\n",
       "      <td>0.000000</td>\n",
       "      <td>0.000128</td>\n",
       "      <td>0.000000</td>\n",
       "      <td>0.002178</td>\n",
       "      <td>0.674948</td>\n",
       "    </tr>\n",
       "    <tr>\n",
       "      <th>1</th>\n",
       "      <td>Walked in, it was hotter inside the restaurant...</td>\n",
       "      <td>21</td>\n",
       "      <td>2</td>\n",
       "      <td>0</td>\n",
       "      <td>walk in  it was hotter insid the restaur than ...</td>\n",
       "      <td>0.000000</td>\n",
       "      <td>0.000000</td>\n",
       "      <td>0.000000</td>\n",
       "      <td>0.000000</td>\n",
       "      <td>0.002384</td>\n",
       "      <td>0.674942</td>\n",
       "    </tr>\n",
       "    <tr>\n",
       "      <th>2</th>\n",
       "      <td>Owner guy looked straight into my eyes then we...</td>\n",
       "      <td>21</td>\n",
       "      <td>2</td>\n",
       "      <td>0</td>\n",
       "      <td>owner guy look straight into my eye then went ...</td>\n",
       "      <td>0.000017</td>\n",
       "      <td>0.000000</td>\n",
       "      <td>0.000008</td>\n",
       "      <td>0.000000</td>\n",
       "      <td>0.002327</td>\n",
       "      <td>0.674939</td>\n",
       "    </tr>\n",
       "    <tr>\n",
       "      <th>3</th>\n",
       "      <td>NO HELLO, NO WAVE, NO NOD.</td>\n",
       "      <td>21</td>\n",
       "      <td>2</td>\n",
       "      <td>0</td>\n",
       "      <td>no hello  no wave  no nod .</td>\n",
       "      <td>0.000000</td>\n",
       "      <td>0.000000</td>\n",
       "      <td>0.000000</td>\n",
       "      <td>0.000000</td>\n",
       "      <td>0.000000</td>\n",
       "      <td>0.675179</td>\n",
       "    </tr>\n",
       "    <tr>\n",
       "      <th>4</th>\n",
       "      <td>Starting to think this is one of the places wh...</td>\n",
       "      <td>21</td>\n",
       "      <td>2</td>\n",
       "      <td>0</td>\n",
       "      <td>start to think this is one of the place where ...</td>\n",
       "      <td>0.000000</td>\n",
       "      <td>0.000000</td>\n",
       "      <td>0.007163</td>\n",
       "      <td>0.000000</td>\n",
       "      <td>0.001277</td>\n",
       "      <td>0.674271</td>\n",
       "    </tr>\n",
       "    <tr>\n",
       "      <th>5</th>\n",
       "      <td>I scan the dessert case.</td>\n",
       "      <td>21</td>\n",
       "      <td>2</td>\n",
       "      <td>0</td>\n",
       "      <td>i scan the dessert case .</td>\n",
       "      <td>0.000000</td>\n",
       "      <td>0.000000</td>\n",
       "      <td>0.000000</td>\n",
       "      <td>0.000000</td>\n",
       "      <td>0.000494</td>\n",
       "      <td>0.675130</td>\n",
       "    </tr>\n",
       "    <tr>\n",
       "      <th>6</th>\n",
       "      <td>Tiramisu, creme brulee, key lime pie, lemon ta...</td>\n",
       "      <td>21</td>\n",
       "      <td>2</td>\n",
       "      <td>0</td>\n",
       "      <td>tiramisu  creme brule  key lime pie  lemon tar...</td>\n",
       "      <td>0.000000</td>\n",
       "      <td>0.000000</td>\n",
       "      <td>0.000000</td>\n",
       "      <td>0.000000</td>\n",
       "      <td>0.000385</td>\n",
       "      <td>0.675140</td>\n",
       "    </tr>\n",
       "    <tr>\n",
       "      <th>7</th>\n",
       "      <td>I decide on chocolate cream pie after scanning...</td>\n",
       "      <td>21</td>\n",
       "      <td>2</td>\n",
       "      <td>0</td>\n",
       "      <td>i decid on chocol cream pie after scan the des...</td>\n",
       "      <td>0.000000</td>\n",
       "      <td>0.000000</td>\n",
       "      <td>0.000000</td>\n",
       "      <td>0.000000</td>\n",
       "      <td>0.003815</td>\n",
       "      <td>0.674799</td>\n",
       "    </tr>\n",
       "    <tr>\n",
       "      <th>8</th>\n",
       "      <td>I take another glance at the owner.</td>\n",
       "      <td>21</td>\n",
       "      <td>2</td>\n",
       "      <td>0</td>\n",
       "      <td>i take anoth glanc at the owner .</td>\n",
       "      <td>0.000000</td>\n",
       "      <td>0.000000</td>\n",
       "      <td>0.000000</td>\n",
       "      <td>0.000000</td>\n",
       "      <td>0.001082</td>\n",
       "      <td>0.675071</td>\n",
       "    </tr>\n",
       "    <tr>\n",
       "      <th>9</th>\n",
       "      <td>He again makes eye contact but says and does n...</td>\n",
       "      <td>21</td>\n",
       "      <td>2</td>\n",
       "      <td>0</td>\n",
       "      <td>he again make eye contact but say and doe noth...</td>\n",
       "      <td>0.000181</td>\n",
       "      <td>0.000000</td>\n",
       "      <td>0.000097</td>\n",
       "      <td>0.000050</td>\n",
       "      <td>0.002069</td>\n",
       "      <td>0.674868</td>\n",
       "    </tr>\n",
       "    <tr>\n",
       "      <th>10</th>\n",
       "      <td>THE RUDE\\nThe icing on the cake of the crappy ...</td>\n",
       "      <td>21</td>\n",
       "      <td>2</td>\n",
       "      <td>0</td>\n",
       "      <td>the rude the ice on the cake of the crappi exp...</td>\n",
       "      <td>0.000391</td>\n",
       "      <td>0.000000</td>\n",
       "      <td>0.000000</td>\n",
       "      <td>0.000000</td>\n",
       "      <td>0.002238</td>\n",
       "      <td>0.674787</td>\n",
       "    </tr>\n",
       "    <tr>\n",
       "      <th>11</th>\n",
       "      <td>We stood looking dumb and ready to order our f...</td>\n",
       "      <td>21</td>\n",
       "      <td>2</td>\n",
       "      <td>0</td>\n",
       "      <td>we stood look dumb and readi to order our frea...</td>\n",
       "      <td>0.000000</td>\n",
       "      <td>0.000000</td>\n",
       "      <td>0.000000</td>\n",
       "      <td>0.000000</td>\n",
       "      <td>0.004008</td>\n",
       "      <td>0.674780</td>\n",
       "    </tr>\n",
       "    <tr>\n",
       "      <th>12</th>\n",
       "      <td>We were straight up ignored from the moment we...</td>\n",
       "      <td>21</td>\n",
       "      <td>2</td>\n",
       "      <td>0</td>\n",
       "      <td>we were straight up ignor from the moment we w...</td>\n",
       "      <td>0.000000</td>\n",
       "      <td>0.000000</td>\n",
       "      <td>0.000000</td>\n",
       "      <td>0.000000</td>\n",
       "      <td>0.005383</td>\n",
       "      <td>0.674643</td>\n",
       "    </tr>\n",
       "    <tr>\n",
       "      <th>13</th>\n",
       "      <td>THE RUSH\\nI ask him what the other chocolate p...</td>\n",
       "      <td>21</td>\n",
       "      <td>2</td>\n",
       "      <td>0</td>\n",
       "      <td>the rush i ask him what the other chocol pie l...</td>\n",
       "      <td>0.000000</td>\n",
       "      <td>0.000000</td>\n",
       "      <td>0.000000</td>\n",
       "      <td>0.000000</td>\n",
       "      <td>0.005359</td>\n",
       "      <td>0.674646</td>\n",
       "    </tr>\n",
       "    <tr>\n",
       "      <th>14</th>\n",
       "      <td>I give up and ask for the other chocolate thin...</td>\n",
       "      <td>21</td>\n",
       "      <td>2</td>\n",
       "      <td>0</td>\n",
       "      <td>i give up and ask for the other chocol thing  ...</td>\n",
       "      <td>0.000000</td>\n",
       "      <td>0.000011</td>\n",
       "      <td>0.000000</td>\n",
       "      <td>0.000000</td>\n",
       "      <td>0.002042</td>\n",
       "      <td>0.674970</td>\n",
       "    </tr>\n",
       "    <tr>\n",
       "      <th>15</th>\n",
       "      <td>He says my chocolate cream pie choice is an ex...</td>\n",
       "      <td>21</td>\n",
       "      <td>2</td>\n",
       "      <td>0</td>\n",
       "      <td>he say my chocol cream pie choic is an excel c...</td>\n",
       "      <td>0.000057</td>\n",
       "      <td>0.000000</td>\n",
       "      <td>0.000000</td>\n",
       "      <td>0.000210</td>\n",
       "      <td>0.001730</td>\n",
       "      <td>0.674915</td>\n",
       "    </tr>\n",
       "    <tr>\n",
       "      <th>16</th>\n",
       "      <td>THE DESSERT\\nChocolate cream pie tart thing wa...</td>\n",
       "      <td>21</td>\n",
       "      <td>2</td>\n",
       "      <td>0</td>\n",
       "      <td>the dessert chocol cream pie tart thing was be...</td>\n",
       "      <td>0.000000</td>\n",
       "      <td>0.000936</td>\n",
       "      <td>0.000000</td>\n",
       "      <td>0.000000</td>\n",
       "      <td>0.002100</td>\n",
       "      <td>0.674525</td>\n",
       "    </tr>\n",
       "    <tr>\n",
       "      <th>17</th>\n",
       "      <td>It was delicious.</td>\n",
       "      <td>21</td>\n",
       "      <td>2</td>\n",
       "      <td>0</td>\n",
       "      <td>it was delici .</td>\n",
       "      <td>0.000000</td>\n",
       "      <td>0.000000</td>\n",
       "      <td>0.000000</td>\n",
       "      <td>0.004934</td>\n",
       "      <td>0.001981</td>\n",
       "      <td>0.673420</td>\n",
       "    </tr>\n",
       "    <tr>\n",
       "      <th>18</th>\n",
       "      <td>It was $8.00.</td>\n",
       "      <td>21</td>\n",
       "      <td>2</td>\n",
       "      <td>0</td>\n",
       "      <td>it was $ .</td>\n",
       "      <td>0.000000</td>\n",
       "      <td>0.000000</td>\n",
       "      <td>0.000000</td>\n",
       "      <td>0.000000</td>\n",
       "      <td>0.000000</td>\n",
       "      <td>0.675179</td>\n",
       "    </tr>\n",
       "    <tr>\n",
       "      <th>19</th>\n",
       "      <td>Unfortunately, not delicious enough to return.</td>\n",
       "      <td>21</td>\n",
       "      <td>2</td>\n",
       "      <td>0</td>\n",
       "      <td>unfortun  not delici enough to return .</td>\n",
       "      <td>0.000000</td>\n",
       "      <td>0.000000</td>\n",
       "      <td>0.000000</td>\n",
       "      <td>0.002222</td>\n",
       "      <td>0.001814</td>\n",
       "      <td>0.674296</td>\n",
       "    </tr>\n",
       "    <tr>\n",
       "      <th>20</th>\n",
       "      <td>Thumb up for the pie\\nThumb down for ignorance...</td>\n",
       "      <td>21</td>\n",
       "      <td>2</td>\n",
       "      <td>0</td>\n",
       "      <td>thumb up for the pie thumb down for ignor boo</td>\n",
       "      <td>0.000000</td>\n",
       "      <td>0.000000</td>\n",
       "      <td>0.000000</td>\n",
       "      <td>0.000000</td>\n",
       "      <td>0.000081</td>\n",
       "      <td>0.675171</td>\n",
       "    </tr>\n",
       "  </tbody>\n",
       "</table>\n",
       "</div>"
      ],
      "text/plain": [
       "                                                 sent  sent_cnt  user_stars  \\\n",
       "0          THE WRONG TEAM\\nWanted some dessert to go.        21           2   \n",
       "1   Walked in, it was hotter inside the restaurant...        21           2   \n",
       "2   Owner guy looked straight into my eyes then we...        21           2   \n",
       "3                          NO HELLO, NO WAVE, NO NOD.        21           2   \n",
       "4   Starting to think this is one of the places wh...        21           2   \n",
       "5                            I scan the dessert case.        21           2   \n",
       "6   Tiramisu, creme brulee, key lime pie, lemon ta...        21           2   \n",
       "7   I decide on chocolate cream pie after scanning...        21           2   \n",
       "8                 I take another glance at the owner.        21           2   \n",
       "9   He again makes eye contact but says and does n...        21           2   \n",
       "10  THE RUDE\\nThe icing on the cake of the crappy ...        21           2   \n",
       "11  We stood looking dumb and ready to order our f...        21           2   \n",
       "12  We were straight up ignored from the moment we...        21           2   \n",
       "13  THE RUSH\\nI ask him what the other chocolate p...        21           2   \n",
       "14  I give up and ask for the other chocolate thin...        21           2   \n",
       "15  He says my chocolate cream pie choice is an ex...        21           2   \n",
       "16  THE DESSERT\\nChocolate cream pie tart thing wa...        21           2   \n",
       "17                                  It was delicious.        21           2   \n",
       "18                                      It was $8.00.        21           2   \n",
       "19     Unfortunately, not delicious enough to return.        21           2   \n",
       "20  Thumb up for the pie\\nThumb down for ignorance...        21           2   \n",
       "\n",
       "    elite_prior                                           stemmed2     NMF_1  \\\n",
       "0             0           the wrong team want some dessert to go .  0.000000   \n",
       "1             0  walk in  it was hotter insid the restaur than ...  0.000000   \n",
       "2             0  owner guy look straight into my eye then went ...  0.000017   \n",
       "3             0                        no hello  no wave  no nod .  0.000000   \n",
       "4             0  start to think this is one of the place where ...  0.000000   \n",
       "5             0                          i scan the dessert case .  0.000000   \n",
       "6             0  tiramisu  creme brule  key lime pie  lemon tar...  0.000000   \n",
       "7             0  i decid on chocol cream pie after scan the des...  0.000000   \n",
       "8             0                  i take anoth glanc at the owner .  0.000000   \n",
       "9             0  he again make eye contact but say and doe noth...  0.000181   \n",
       "10            0  the rude the ice on the cake of the crappi exp...  0.000391   \n",
       "11            0  we stood look dumb and readi to order our frea...  0.000000   \n",
       "12            0  we were straight up ignor from the moment we w...  0.000000   \n",
       "13            0  the rush i ask him what the other chocol pie l...  0.000000   \n",
       "14            0  i give up and ask for the other chocol thing  ...  0.000000   \n",
       "15            0  he say my chocol cream pie choic is an excel c...  0.000057   \n",
       "16            0  the dessert chocol cream pie tart thing was be...  0.000000   \n",
       "17            0                                    it was delici .  0.000000   \n",
       "18            0                                         it was $ .  0.000000   \n",
       "19            0            unfortun  not delici enough to return .  0.000000   \n",
       "20            0      thumb up for the pie thumb down for ignor boo  0.000000   \n",
       "\n",
       "       NMF_2     NMF_3     NMF_4     NMF_5      pred  \n",
       "0   0.000000  0.000128  0.000000  0.002178  0.674948  \n",
       "1   0.000000  0.000000  0.000000  0.002384  0.674942  \n",
       "2   0.000000  0.000008  0.000000  0.002327  0.674939  \n",
       "3   0.000000  0.000000  0.000000  0.000000  0.675179  \n",
       "4   0.000000  0.007163  0.000000  0.001277  0.674271  \n",
       "5   0.000000  0.000000  0.000000  0.000494  0.675130  \n",
       "6   0.000000  0.000000  0.000000  0.000385  0.675140  \n",
       "7   0.000000  0.000000  0.000000  0.003815  0.674799  \n",
       "8   0.000000  0.000000  0.000000  0.001082  0.675071  \n",
       "9   0.000000  0.000097  0.000050  0.002069  0.674868  \n",
       "10  0.000000  0.000000  0.000000  0.002238  0.674787  \n",
       "11  0.000000  0.000000  0.000000  0.004008  0.674780  \n",
       "12  0.000000  0.000000  0.000000  0.005383  0.674643  \n",
       "13  0.000000  0.000000  0.000000  0.005359  0.674646  \n",
       "14  0.000011  0.000000  0.000000  0.002042  0.674970  \n",
       "15  0.000000  0.000000  0.000210  0.001730  0.674915  \n",
       "16  0.000936  0.000000  0.000000  0.002100  0.674525  \n",
       "17  0.000000  0.000000  0.004934  0.001981  0.673420  \n",
       "18  0.000000  0.000000  0.000000  0.000000  0.675179  \n",
       "19  0.000000  0.000000  0.002222  0.001814  0.674296  \n",
       "20  0.000000  0.000000  0.000000  0.000081  0.675171  "
      ]
     },
     "execution_count": 565,
     "metadata": {},
     "output_type": "execute_result"
    }
   ],
   "source": [
    "test_case_dat['pred'] = logregM_NMF.predict_proba(X_testcase)[:,1]\n",
    "\n",
    "test_case_dat"
   ]
  },
  {
   "cell_type": "code",
   "execution_count": null,
   "metadata": {
    "collapsed": true
   },
   "outputs": [],
   "source": []
  },
  {
   "cell_type": "code",
   "execution_count": null,
   "metadata": {
    "collapsed": true
   },
   "outputs": [],
   "source": []
  },
  {
   "cell_type": "code",
   "execution_count": null,
   "metadata": {
    "collapsed": true
   },
   "outputs": [],
   "source": []
  },
  {
   "cell_type": "code",
   "execution_count": 250,
   "metadata": {
    "ExecuteTime": {
     "end_time": "2017-11-05T21:30:33.024042Z",
     "start_time": "2017-11-05T21:30:16.279820Z"
    }
   },
   "outputs": [
    {
     "name": "stdout",
     "output_type": "stream",
     "text": [
      "RForest ROC train:  0.687863677821\n",
      "RForest ROC test:  0.674024896234\n",
      "[[6601 6853]\n",
      " [ 347 1194]]\n",
      "\n",
      "precision 0.148378277619\n",
      "recall 0.774821544452\n",
      "avg precision: 0.167490701917\n"
     ]
    },
    {
     "data": {
      "text/html": [
       "<div>\n",
       "<style>\n",
       "    .dataframe thead tr:only-child th {\n",
       "        text-align: right;\n",
       "    }\n",
       "\n",
       "    .dataframe thead th {\n",
       "        text-align: left;\n",
       "    }\n",
       "\n",
       "    .dataframe tbody tr th {\n",
       "        vertical-align: top;\n",
       "    }\n",
       "</style>\n",
       "<table border=\"1\" class=\"dataframe\">\n",
       "  <thead>\n",
       "    <tr style=\"text-align: right;\">\n",
       "      <th></th>\n",
       "      <th>feature</th>\n",
       "      <th>importance</th>\n",
       "    </tr>\n",
       "  </thead>\n",
       "  <tbody>\n",
       "    <tr>\n",
       "      <th>0</th>\n",
       "      <td>LDA_3</td>\n",
       "      <td>0.378104</td>\n",
       "    </tr>\n",
       "    <tr>\n",
       "      <th>1</th>\n",
       "      <td>LDA_4</td>\n",
       "      <td>0.359828</td>\n",
       "    </tr>\n",
       "    <tr>\n",
       "      <th>2</th>\n",
       "      <td>LDA_1</td>\n",
       "      <td>0.147856</td>\n",
       "    </tr>\n",
       "    <tr>\n",
       "      <th>3</th>\n",
       "      <td>LDA_2</td>\n",
       "      <td>0.114213</td>\n",
       "    </tr>\n",
       "  </tbody>\n",
       "</table>\n",
       "</div>"
      ],
      "text/plain": [
       "  feature  importance\n",
       "0   LDA_3    0.378104\n",
       "1   LDA_4    0.359828\n",
       "2   LDA_1    0.147856\n",
       "3   LDA_2    0.114213"
      ]
     },
     "execution_count": 250,
     "metadata": {},
     "output_type": "execute_result"
    }
   ],
   "source": [
    "Forest = RandomForestClassifier(n_estimators=500, max_depth = 4, min_samples_split=30, class_weight='balanced',\n",
    "                                bootstrap=True, oob_score=True, random_state=100)\n",
    "\n",
    "Forest.fit(X_train, y_train)\n",
    "y_pred_train = Forest.predict_proba(X_train)\n",
    "y_pred_test = Forest.predict_proba(X_test)\n",
    "y_pred_test_class = Forest.predict(X_test)\n",
    "\n",
    "fpr_rt_RF, tpr_rt_RF, _ = roc_curve(y_test, y_pred_test[:,1])\n",
    "\n",
    "#print(\"RForest Accuracy: \", metrics.accuracy_score(y_test, y_pred_test))\n",
    "print(\"RForest ROC train: \", metrics.roc_auc_score(y_train, y_pred_train[:,1]))\n",
    "print(\"RForest ROC test: \", metrics.roc_auc_score(y_test, y_pred_test[:,1]))\n",
    "\n",
    "rf_auc = metrics.roc_auc_score(y_test, y_pred_test[:,1])\n",
    "\n",
    "\n",
    "\n",
    "print(metrics.confusion_matrix(y_test, y_pred_test_class))\n",
    "\n",
    "print(\"\\nprecision\", metrics.precision_score(y_test, y_pred_test_class))\n",
    "print(\"recall\", metrics.recall_score(y_test, y_pred_test_class))\n",
    "\n",
    "print(\"avg precision:\", average_precision_score(y_test, y_pred_test[:,1]))\n",
    "\n",
    "features = X_train.columns\n",
    "pd.DataFrame({'feature': features, 'importance': Forest.feature_importances_}).\\\n",
    "sort_values('importance', ascending=False).reset_index(drop=True)\n"
   ]
  },
  {
   "cell_type": "code",
   "execution_count": null,
   "metadata": {
    "collapsed": true
   },
   "outputs": [],
   "source": []
  },
  {
   "cell_type": "code",
   "execution_count": null,
   "metadata": {
    "collapsed": true
   },
   "outputs": [],
   "source": []
  },
  {
   "cell_type": "code",
   "execution_count": null,
   "metadata": {
    "collapsed": true
   },
   "outputs": [],
   "source": []
  },
  {
   "cell_type": "code",
   "execution_count": null,
   "metadata": {
    "collapsed": true
   },
   "outputs": [],
   "source": []
  },
  {
   "cell_type": "code",
   "execution_count": 87,
   "metadata": {
    "ExecuteTime": {
     "end_time": "2017-11-05T18:51:19.807281Z",
     "start_time": "2017-11-05T18:51:19.784425Z"
    }
   },
   "outputs": [
    {
     "data": {
      "text/plain": [
       "0    48092\n",
       "1     1890\n",
       "Name: funny_flag, dtype: int64"
      ]
     },
     "execution_count": 87,
     "metadata": {},
     "output_type": "execute_result"
    }
   ],
   "source": [
    "bus_review_LDA.funny_flag.value_counts()"
   ]
  },
  {
   "cell_type": "markdown",
   "metadata": {
    "heading_collapsed": true
   },
   "source": [
    "### Models good rev"
   ]
  },
  {
   "cell_type": "code",
   "execution_count": 130,
   "metadata": {
    "ExecuteTime": {
     "end_time": "2017-11-05T19:05:22.409854Z",
     "start_time": "2017-11-05T19:05:22.368033Z"
    },
    "collapsed": true,
    "hidden": true
   },
   "outputs": [],
   "source": [
    "X = bus_review_LDA_g[bus_review_LDA_g['useful'] >= 0][feature_cols]\n",
    "y = bus_review_LDA_g[bus_review_LDA_g['useful'] >= 0]['useful_flag']\n",
    "\n",
    "# train/test split\n",
    "X_train, X_test, y_train, y_test = train_test_split(X, y, test_size=0.3, random_state=123)\n"
   ]
  },
  {
   "cell_type": "code",
   "execution_count": 131,
   "metadata": {
    "ExecuteTime": {
     "end_time": "2017-11-05T19:05:38.665337Z",
     "start_time": "2017-11-05T19:05:38.317969Z"
    },
    "hidden": true
   },
   "outputs": [
    {
     "name": "stdout",
     "output_type": "stream",
     "text": [
      "Logistic Train ROC: 0.79614722585\n",
      "Logistic Test ROC: 0.788610102578\n",
      "[[6224 1980]\n",
      " [ 295  632]]\n",
      "\n",
      "precision 0.241960183767\n",
      "recall 0.681769147789\n",
      "avg precision: 0.308324898838\n"
     ]
    }
   ],
   "source": [
    "logregM = LogisticRegression(C=1, penalty='l2', random_state=100, class_weight='balanced')\n",
    "\n",
    "logregM.fit(X_train, y_train)\n",
    "\n",
    "y_pred_train = logregM.predict_proba(X_train)\n",
    "y_pred_test = logregM.predict_proba(X_test)\n",
    "y_pred_test_class = logregM.predict(X_test)\n",
    "\n",
    "fpr_rt_LR, tpr_rt_LR, _ = roc_curve(y_test, y_pred_test[:,1])\n",
    "\n",
    "print (\"Logistic Train ROC:\", metrics.roc_auc_score(y_train, y_pred_train[:,1]))\n",
    "print (\"Logistic Test ROC:\", metrics.roc_auc_score(y_test, y_pred_test[:,1]))\n",
    "\n",
    "lr_auc = metrics.roc_auc_score(y_test, y_pred_test[:,1])\n",
    "\n",
    "print(metrics.confusion_matrix(y_test, y_pred_test_class))\n",
    "print(\"\\nprecision\", metrics.precision_score(y_test, y_pred_test_class))\n",
    "print(\"recall\", metrics.recall_score(y_test, y_pred_test_class))\n",
    "\n",
    "print(\"avg precision:\", average_precision_score(y_test, y_pred_test[:,1]))"
   ]
  },
  {
   "cell_type": "code",
   "execution_count": 132,
   "metadata": {
    "ExecuteTime": {
     "end_time": "2017-11-05T19:06:28.276811Z",
     "start_time": "2017-11-05T19:06:14.046556Z"
    },
    "hidden": true
   },
   "outputs": [
    {
     "name": "stdout",
     "output_type": "stream",
     "text": [
      "RForest ROC train:  0.805675079862\n",
      "RForest ROC test:  0.786141169856\n",
      "[[5766 2438]\n",
      " [ 253  674]]\n",
      "\n",
      "precision 0.216580976864\n",
      "recall 0.727076591154\n",
      "avg precision: 0.300755728965\n"
     ]
    },
    {
     "data": {
      "text/html": [
       "<div>\n",
       "<style>\n",
       "    .dataframe thead tr:only-child th {\n",
       "        text-align: right;\n",
       "    }\n",
       "\n",
       "    .dataframe thead th {\n",
       "        text-align: left;\n",
       "    }\n",
       "\n",
       "    .dataframe tbody tr th {\n",
       "        vertical-align: top;\n",
       "    }\n",
       "</style>\n",
       "<table border=\"1\" class=\"dataframe\">\n",
       "  <thead>\n",
       "    <tr style=\"text-align: right;\">\n",
       "      <th></th>\n",
       "      <th>feature</th>\n",
       "      <th>importance</th>\n",
       "    </tr>\n",
       "  </thead>\n",
       "  <tbody>\n",
       "    <tr>\n",
       "      <th>0</th>\n",
       "      <td>elite_prior</td>\n",
       "      <td>0.392429</td>\n",
       "    </tr>\n",
       "    <tr>\n",
       "      <th>1</th>\n",
       "      <td>sent_cnt</td>\n",
       "      <td>0.331381</td>\n",
       "    </tr>\n",
       "    <tr>\n",
       "      <th>2</th>\n",
       "      <td>LDA_4</td>\n",
       "      <td>0.050279</td>\n",
       "    </tr>\n",
       "    <tr>\n",
       "      <th>3</th>\n",
       "      <td>LDA_1</td>\n",
       "      <td>0.031189</td>\n",
       "    </tr>\n",
       "    <tr>\n",
       "      <th>4</th>\n",
       "      <td>user_stars</td>\n",
       "      <td>0.031037</td>\n",
       "    </tr>\n",
       "    <tr>\n",
       "      <th>5</th>\n",
       "      <td>LDA_2</td>\n",
       "      <td>0.028823</td>\n",
       "    </tr>\n",
       "    <tr>\n",
       "      <th>6</th>\n",
       "      <td>LDA_6</td>\n",
       "      <td>0.026052</td>\n",
       "    </tr>\n",
       "    <tr>\n",
       "      <th>7</th>\n",
       "      <td>LDA_9</td>\n",
       "      <td>0.024203</td>\n",
       "    </tr>\n",
       "    <tr>\n",
       "      <th>8</th>\n",
       "      <td>LDA_8</td>\n",
       "      <td>0.021133</td>\n",
       "    </tr>\n",
       "    <tr>\n",
       "      <th>9</th>\n",
       "      <td>LDA_3</td>\n",
       "      <td>0.018056</td>\n",
       "    </tr>\n",
       "    <tr>\n",
       "      <th>10</th>\n",
       "      <td>LDA_5</td>\n",
       "      <td>0.017925</td>\n",
       "    </tr>\n",
       "    <tr>\n",
       "      <th>11</th>\n",
       "      <td>LDA_7</td>\n",
       "      <td>0.016461</td>\n",
       "    </tr>\n",
       "    <tr>\n",
       "      <th>12</th>\n",
       "      <td>LDA_10</td>\n",
       "      <td>0.011032</td>\n",
       "    </tr>\n",
       "  </tbody>\n",
       "</table>\n",
       "</div>"
      ],
      "text/plain": [
       "        feature  importance\n",
       "0   elite_prior    0.392429\n",
       "1      sent_cnt    0.331381\n",
       "2         LDA_4    0.050279\n",
       "3         LDA_1    0.031189\n",
       "4    user_stars    0.031037\n",
       "5         LDA_2    0.028823\n",
       "6         LDA_6    0.026052\n",
       "7         LDA_9    0.024203\n",
       "8         LDA_8    0.021133\n",
       "9         LDA_3    0.018056\n",
       "10        LDA_5    0.017925\n",
       "11        LDA_7    0.016461\n",
       "12       LDA_10    0.011032"
      ]
     },
     "execution_count": 132,
     "metadata": {},
     "output_type": "execute_result"
    }
   ],
   "source": [
    "Forest = RandomForestClassifier(n_estimators=500, max_depth = 4, min_samples_split=30, class_weight='balanced',\n",
    "                                bootstrap=True, oob_score=True, random_state=100)\n",
    "\n",
    "Forest.fit(X_train, y_train)\n",
    "y_pred_train = Forest.predict_proba(X_train)\n",
    "y_pred_test = Forest.predict_proba(X_test)\n",
    "y_pred_test_class = Forest.predict(X_test)\n",
    "\n",
    "fpr_rt_RF, tpr_rt_RF, _ = roc_curve(y_test, y_pred_test[:,1])\n",
    "\n",
    "#print(\"RForest Accuracy: \", metrics.accuracy_score(y_test, y_pred_test))\n",
    "print(\"RForest ROC train: \", metrics.roc_auc_score(y_train, y_pred_train[:,1]))\n",
    "print(\"RForest ROC test: \", metrics.roc_auc_score(y_test, y_pred_test[:,1]))\n",
    "\n",
    "rf_auc = metrics.roc_auc_score(y_test, y_pred_test[:,1])\n",
    "\n",
    "\n",
    "\n",
    "print(metrics.confusion_matrix(y_test, y_pred_test_class))\n",
    "\n",
    "print(\"\\nprecision\", metrics.precision_score(y_test, y_pred_test_class))\n",
    "print(\"recall\", metrics.recall_score(y_test, y_pred_test_class))\n",
    "\n",
    "print(\"avg precision:\", average_precision_score(y_test, y_pred_test[:,1]))\n",
    "\n",
    "features = X_train.columns\n",
    "pd.DataFrame({'feature': features, 'importance': Forest.feature_importances_}).\\\n",
    "sort_values('importance', ascending=False).reset_index(drop=True)\n"
   ]
  },
  {
   "cell_type": "code",
   "execution_count": null,
   "metadata": {
    "collapsed": true,
    "hidden": true
   },
   "outputs": [],
   "source": []
  },
  {
   "cell_type": "code",
   "execution_count": 137,
   "metadata": {
    "ExecuteTime": {
     "end_time": "2017-11-05T19:10:06.941254Z",
     "start_time": "2017-11-05T19:10:06.888060Z"
    },
    "collapsed": true,
    "hidden": true
   },
   "outputs": [],
   "source": [
    "X = bus_review_LDA_b[bus_review_LDA_b['useful'] >= 0][feature_cols]\n",
    "y = bus_review_LDA_b[bus_review_LDA_b['useful'] >= 0]['useful_flag']\n",
    "\n",
    "# train/test split\n",
    "X_train, X_test, y_train, y_test = train_test_split(X, y, test_size=0.3, random_state=123)\n"
   ]
  },
  {
   "cell_type": "code",
   "execution_count": 138,
   "metadata": {
    "ExecuteTime": {
     "end_time": "2017-11-05T19:10:12.357747Z",
     "start_time": "2017-11-05T19:10:12.081635Z"
    },
    "hidden": true
   },
   "outputs": [
    {
     "name": "stdout",
     "output_type": "stream",
     "text": [
      "Logistic Train ROC: 0.793040293667\n",
      "Logistic Test ROC: 0.785190455665\n",
      "[[3930 1265]\n",
      " [ 206  446]]\n",
      "\n",
      "precision 0.260666277031\n",
      "recall 0.684049079755\n",
      "avg precision: 0.326519150605\n"
     ]
    }
   ],
   "source": [
    "logregM = LogisticRegression(C=100, penalty='l2', random_state=100, class_weight='balanced')\n",
    "\n",
    "logregM.fit(X_train, y_train)\n",
    "\n",
    "y_pred_train = logregM.predict_proba(X_train)\n",
    "y_pred_test = logregM.predict_proba(X_test)\n",
    "y_pred_test_class = logregM.predict(X_test)\n",
    "\n",
    "fpr_rt_LR, tpr_rt_LR, _ = roc_curve(y_test, y_pred_test[:,1])\n",
    "\n",
    "print (\"Logistic Train ROC:\", metrics.roc_auc_score(y_train, y_pred_train[:,1]))\n",
    "print (\"Logistic Test ROC:\", metrics.roc_auc_score(y_test, y_pred_test[:,1]))\n",
    "\n",
    "lr_auc = metrics.roc_auc_score(y_test, y_pred_test[:,1])\n",
    "\n",
    "print(metrics.confusion_matrix(y_test, y_pred_test_class))\n",
    "print(\"\\nprecision\", metrics.precision_score(y_test, y_pred_test_class))\n",
    "print(\"recall\", metrics.recall_score(y_test, y_pred_test_class))\n",
    "\n",
    "print(\"avg precision:\", average_precision_score(y_test, y_pred_test[:,1]))"
   ]
  },
  {
   "cell_type": "code",
   "execution_count": 139,
   "metadata": {
    "ExecuteTime": {
     "end_time": "2017-11-05T19:10:25.845133Z",
     "start_time": "2017-11-05T19:10:17.744672Z"
    },
    "hidden": true
   },
   "outputs": [
    {
     "name": "stdout",
     "output_type": "stream",
     "text": [
      "RForest ROC train:  0.807833662577\n",
      "RForest ROC test:  0.775342028968\n",
      "[[3889 1306]\n",
      " [ 209  443]]\n",
      "\n",
      "precision 0.25328759291\n",
      "recall 0.679447852761\n",
      "avg precision: 0.325120837905\n"
     ]
    },
    {
     "data": {
      "text/html": [
       "<div>\n",
       "<style>\n",
       "    .dataframe thead tr:only-child th {\n",
       "        text-align: right;\n",
       "    }\n",
       "\n",
       "    .dataframe thead th {\n",
       "        text-align: left;\n",
       "    }\n",
       "\n",
       "    .dataframe tbody tr th {\n",
       "        vertical-align: top;\n",
       "    }\n",
       "</style>\n",
       "<table border=\"1\" class=\"dataframe\">\n",
       "  <thead>\n",
       "    <tr style=\"text-align: right;\">\n",
       "      <th></th>\n",
       "      <th>feature</th>\n",
       "      <th>importance</th>\n",
       "    </tr>\n",
       "  </thead>\n",
       "  <tbody>\n",
       "    <tr>\n",
       "      <th>0</th>\n",
       "      <td>elite_prior</td>\n",
       "      <td>0.381893</td>\n",
       "    </tr>\n",
       "    <tr>\n",
       "      <th>1</th>\n",
       "      <td>sent_cnt</td>\n",
       "      <td>0.324252</td>\n",
       "    </tr>\n",
       "    <tr>\n",
       "      <th>2</th>\n",
       "      <td>LDA_8</td>\n",
       "      <td>0.046240</td>\n",
       "    </tr>\n",
       "    <tr>\n",
       "      <th>3</th>\n",
       "      <td>LDA_3</td>\n",
       "      <td>0.037508</td>\n",
       "    </tr>\n",
       "    <tr>\n",
       "      <th>4</th>\n",
       "      <td>LDA_5</td>\n",
       "      <td>0.035156</td>\n",
       "    </tr>\n",
       "    <tr>\n",
       "      <th>5</th>\n",
       "      <td>LDA_2</td>\n",
       "      <td>0.031713</td>\n",
       "    </tr>\n",
       "    <tr>\n",
       "      <th>6</th>\n",
       "      <td>LDA_6</td>\n",
       "      <td>0.029710</td>\n",
       "    </tr>\n",
       "    <tr>\n",
       "      <th>7</th>\n",
       "      <td>user_stars</td>\n",
       "      <td>0.025863</td>\n",
       "    </tr>\n",
       "    <tr>\n",
       "      <th>8</th>\n",
       "      <td>LDA_10</td>\n",
       "      <td>0.025087</td>\n",
       "    </tr>\n",
       "    <tr>\n",
       "      <th>9</th>\n",
       "      <td>LDA_9</td>\n",
       "      <td>0.021224</td>\n",
       "    </tr>\n",
       "    <tr>\n",
       "      <th>10</th>\n",
       "      <td>LDA_4</td>\n",
       "      <td>0.016071</td>\n",
       "    </tr>\n",
       "    <tr>\n",
       "      <th>11</th>\n",
       "      <td>LDA_1</td>\n",
       "      <td>0.014505</td>\n",
       "    </tr>\n",
       "    <tr>\n",
       "      <th>12</th>\n",
       "      <td>LDA_7</td>\n",
       "      <td>0.010779</td>\n",
       "    </tr>\n",
       "  </tbody>\n",
       "</table>\n",
       "</div>"
      ],
      "text/plain": [
       "        feature  importance\n",
       "0   elite_prior    0.381893\n",
       "1      sent_cnt    0.324252\n",
       "2         LDA_8    0.046240\n",
       "3         LDA_3    0.037508\n",
       "4         LDA_5    0.035156\n",
       "5         LDA_2    0.031713\n",
       "6         LDA_6    0.029710\n",
       "7    user_stars    0.025863\n",
       "8        LDA_10    0.025087\n",
       "9         LDA_9    0.021224\n",
       "10        LDA_4    0.016071\n",
       "11        LDA_1    0.014505\n",
       "12        LDA_7    0.010779"
      ]
     },
     "execution_count": 139,
     "metadata": {},
     "output_type": "execute_result"
    }
   ],
   "source": [
    "Forest = RandomForestClassifier(n_estimators=500, max_depth = 4, min_samples_split=30, class_weight='balanced',\n",
    "                                bootstrap=True, oob_score=True, random_state=100)\n",
    "\n",
    "Forest.fit(X_train, y_train)\n",
    "y_pred_train = Forest.predict_proba(X_train)\n",
    "y_pred_test = Forest.predict_proba(X_test)\n",
    "y_pred_test_class = Forest.predict(X_test)\n",
    "\n",
    "fpr_rt_RF, tpr_rt_RF, _ = roc_curve(y_test, y_pred_test[:,1])\n",
    "\n",
    "#print(\"RForest Accuracy: \", metrics.accuracy_score(y_test, y_pred_test))\n",
    "print(\"RForest ROC train: \", metrics.roc_auc_score(y_train, y_pred_train[:,1]))\n",
    "print(\"RForest ROC test: \", metrics.roc_auc_score(y_test, y_pred_test[:,1]))\n",
    "\n",
    "rf_auc = metrics.roc_auc_score(y_test, y_pred_test[:,1])\n",
    "\n",
    "\n",
    "\n",
    "print(metrics.confusion_matrix(y_test, y_pred_test_class))\n",
    "\n",
    "print(\"\\nprecision\", metrics.precision_score(y_test, y_pred_test_class))\n",
    "print(\"recall\", metrics.recall_score(y_test, y_pred_test_class))\n",
    "\n",
    "print(\"avg precision:\", average_precision_score(y_test, y_pred_test[:,1]))\n",
    "\n",
    "features = X_train.columns\n",
    "pd.DataFrame({'feature': features, 'importance': Forest.feature_importances_}).\\\n",
    "sort_values('importance', ascending=False).reset_index(drop=True)"
   ]
  },
  {
   "cell_type": "code",
   "execution_count": null,
   "metadata": {
    "collapsed": true,
    "hidden": true
   },
   "outputs": [],
   "source": []
  },
  {
   "cell_type": "code",
   "execution_count": null,
   "metadata": {
    "collapsed": true,
    "hidden": true
   },
   "outputs": [],
   "source": []
  },
  {
   "cell_type": "code",
   "execution_count": null,
   "metadata": {
    "collapsed": true,
    "hidden": true
   },
   "outputs": [],
   "source": []
  },
  {
   "cell_type": "code",
   "execution_count": null,
   "metadata": {
    "ExecuteTime": {
     "end_time": "2017-11-02T18:59:10.668482Z",
     "start_time": "2017-11-02T18:59:10.238721Z"
    },
    "collapsed": true,
    "hidden": true
   },
   "outputs": [],
   "source": [
    "review_LDA.iloc[:, 1:]"
   ]
  },
  {
   "cell_type": "markdown",
   "metadata": {},
   "source": [
    "### Plots"
   ]
  },
  {
   "cell_type": "code",
   "execution_count": 468,
   "metadata": {
    "ExecuteTime": {
     "end_time": "2017-11-07T15:28:24.108107Z",
     "start_time": "2017-11-07T15:28:24.096607Z"
    }
   },
   "outputs": [
    {
     "data": {
      "text/plain": [
       "Index(['user_id', 'business_id', 'name', 'categories', 'attributes', 'stars',\n",
       "       'review_count', 'city', 'state', 'postal_code', 'latitude', 'longitude',\n",
       "       'categories2', 'name_cnt', 'Sushi', 'Pizza', 'Restaurants', 'Cat_Flag',\n",
       "       'cool', 'date', 'funny', 'review_id', 'user_stars', 'review_txt',\n",
       "       'useful', 'yelping_since', 'first_yr_elite', 'elite_prior',\n",
       "       'sent_token', 'sentence', 'sent_cnt', 'polarity', 'stemmed2', 'LDA_1',\n",
       "       'LDA_2', 'LDA_3', 'LDA_4', 'LDA_5', 'Max_LDA', 'pred_useful'],\n",
       "      dtype='object')"
      ]
     },
     "execution_count": 468,
     "metadata": {},
     "output_type": "execute_result"
    }
   ],
   "source": [
    "review_LDA.columns"
   ]
  },
  {
   "cell_type": "code",
   "execution_count": null,
   "metadata": {
    "ExecuteTime": {
     "end_time": "2017-11-02T18:59:18.656644Z",
     "start_time": "2017-11-02T18:59:18.649079Z"
    },
    "collapsed": true
   },
   "outputs": [],
   "source": [
    "review_LDA.columns[29:]"
   ]
  },
  {
   "cell_type": "code",
   "execution_count": 469,
   "metadata": {
    "ExecuteTime": {
     "end_time": "2017-11-07T15:29:51.657143Z",
     "start_time": "2017-11-07T15:29:51.648153Z"
    }
   },
   "outputs": [
    {
     "name": "stdout",
     "output_type": "stream",
     "text": [
      "['elite_prior', 'sent_token', 'sentence']\n",
      "['sent_cnt', 'polarity', 'stemmed2']\n",
      "['LDA_1', 'LDA_2', 'LDA_3']\n",
      "['LDA_4', 'LDA_5', 'Max_LDA']\n",
      "['pred_useful']\n",
      "[]\n",
      "[]\n"
     ]
    }
   ],
   "source": [
    "for i in range(27, 48, 3):\n",
    "    print(review_LDA.columns.tolist()[i:i+3])"
   ]
  },
  {
   "cell_type": "code",
   "execution_count": 467,
   "metadata": {
    "ExecuteTime": {
     "end_time": "2017-11-07T15:28:16.649828Z",
     "start_time": "2017-11-07T15:25:47.589883Z"
    },
    "scrolled": false
   },
   "outputs": [
    {
     "data": {
      "image/png": "[encoded data removed]",
      "text/plain": [
       "<matplotlib.figure.Figure at 0x1b9a44320>"
      ]
     },
     "metadata": {},
     "output_type": "display_data"
    },
    {
     "data": {
      "image/png": "[encoded data removed]",
      "text/plain": [
       "<matplotlib.figure.Figure at 0x1b9aced30>"
      ]
     },
     "metadata": {},
     "output_type": "display_data"
    },
    {
     "data": {
      "image/png": "[encoded data removed]",
      "text/plain": [
       "<matplotlib.figure.Figure at 0x1b55510b8>"
      ]
     },
     "metadata": {},
     "output_type": "display_data"
    },
    {
     "data": {
      "image/png": "[encoded data removed]",
      "text/plain": [
       "<matplotlib.figure.Figure at 0x1b5a23c18>"
      ]
     },
     "metadata": {},
     "output_type": "display_data"
    },
    {
     "data": {
      "image/png": "[encoded data removed]",
      "text/plain": [
       "<matplotlib.figure.Figure at 0x1ada4e240>"
      ]
     },
     "metadata": {},
     "output_type": "display_data"
    },
    {
     "data": {
      "image/png": "[encoded data removed]",
      "text/plain": [
       "<matplotlib.figure.Figure at 0x1ace8dcf8>"
      ]
     },
     "metadata": {},
     "output_type": "display_data"
    },
    {
     "data": {
      "image/png": "[encoded data removed]",
      "text/plain": [
       "<matplotlib.figure.Figure at 0x1abd72390>"
      ]
     },
     "metadata": {},
     "output_type": "display_data"
    }
   ],
   "source": [
    "for i in range(27, 48, 3):\n",
    "    sns.pairplot(review_LDA[review_LDA.columns.tolist()[i:i+3] + ['Pizza']], hue=\"Pizza\", palette='coolwarm')"
   ]
  },
  {
   "cell_type": "code",
   "execution_count": null,
   "metadata": {
    "collapsed": true
   },
   "outputs": [],
   "source": []
  },
  {
   "cell_type": "code",
   "execution_count": null,
   "metadata": {
    "ExecuteTime": {
     "end_time": "2017-11-02T19:24:11.902122Z",
     "start_time": "2017-11-02T19:23:09.296216Z"
    },
    "collapsed": true,
    "scrolled": true
   },
   "outputs": [],
   "source": [
    "for i in range(27, 48, 3):\n",
    "    sns.pairplot(review_LDA[review_LDA.columns.tolist()[i:i+3] + ['city']], hue=\"city\", palette='coolwarm')"
   ]
  },
  {
   "cell_type": "code",
   "execution_count": null,
   "metadata": {
    "collapsed": true
   },
   "outputs": [],
   "source": []
  },
  {
   "cell_type": "code",
   "execution_count": null,
   "metadata": {
    "collapsed": true
   },
   "outputs": [],
   "source": []
  },
  {
   "cell_type": "code",
   "execution_count": null,
   "metadata": {
    "collapsed": true
   },
   "outputs": [],
   "source": []
  },
  {
   "cell_type": "markdown",
   "metadata": {},
   "source": [
    "#### Sentiment Analysis"
   ]
  },
  {
   "cell_type": "code",
   "execution_count": null,
   "metadata": {
    "ExecuteTime": {
     "end_time": "2017-11-01T18:30:01.897378Z",
     "start_time": "2017-11-01T18:29:43.903036Z"
    },
    "collapsed": true
   },
   "outputs": [],
   "source": [
    "reviews_vect_df['polarity'] = reviews_vect_df['review_txt'].apply(lambda text: TextBlob(text).sentiment[0])\n",
    "reviews_vect_df['subjectivity'] = reviews_vect_df['review_txt'].apply(lambda text: TextBlob(text).sentiment[1])\n",
    "\n",
    "#TextBlob(reviews_vect_df.iloc[0]['review_txt']).sentiment"
   ]
  },
  {
   "cell_type": "code",
   "execution_count": null,
   "metadata": {
    "ExecuteTime": {
     "end_time": "2017-11-01T18:30:01.914245Z",
     "start_time": "2017-11-01T18:30:01.900014Z"
    },
    "collapsed": true
   },
   "outputs": [],
   "source": [
    "TextBlob(reviews_vect_df.iloc[0]['review_txt']).sentiment"
   ]
  },
  {
   "cell_type": "code",
   "execution_count": null,
   "metadata": {
    "ExecuteTime": {
     "end_time": "2017-11-01T18:33:46.015779Z",
     "start_time": "2017-11-01T18:33:45.575936Z"
    },
    "collapsed": true
   },
   "outputs": [],
   "source": [
    "pd.set_option('display.max_columns', 500)\n",
    "reviews_vect_df.head()"
   ]
  },
  {
   "cell_type": "code",
   "execution_count": null,
   "metadata": {
    "collapsed": true
   },
   "outputs": [],
   "source": []
  },
  {
   "cell_type": "code",
   "execution_count": null,
   "metadata": {
    "collapsed": true
   },
   "outputs": [],
   "source": []
  },
  {
   "cell_type": "code",
   "execution_count": null,
   "metadata": {
    "collapsed": true
   },
   "outputs": [],
   "source": []
  },
  {
   "cell_type": "code",
   "execution_count": null,
   "metadata": {
    "collapsed": true
   },
   "outputs": [],
   "source": []
  },
  {
   "cell_type": "code",
   "execution_count": null,
   "metadata": {
    "collapsed": true
   },
   "outputs": [],
   "source": []
  },
  {
   "cell_type": "code",
   "execution_count": null,
   "metadata": {
    "collapsed": true
   },
   "outputs": [],
   "source": []
  },
  {
   "cell_type": "code",
   "execution_count": null,
   "metadata": {
    "collapsed": true
   },
   "outputs": [],
   "source": []
  },
  {
   "cell_type": "code",
   "execution_count": null,
   "metadata": {
    "collapsed": true
   },
   "outputs": [],
   "source": []
  },
  {
   "cell_type": "code",
   "execution_count": null,
   "metadata": {
    "collapsed": true
   },
   "outputs": [],
   "source": []
  },
  {
   "cell_type": "code",
   "execution_count": null,
   "metadata": {
    "collapsed": true
   },
   "outputs": [],
   "source": []
  },
  {
   "cell_type": "code",
   "execution_count": null,
   "metadata": {
    "collapsed": true
   },
   "outputs": [],
   "source": []
  },
  {
   "cell_type": "code",
   "execution_count": null,
   "metadata": {
    "collapsed": true
   },
   "outputs": [],
   "source": []
  },
  {
   "cell_type": "code",
   "execution_count": null,
   "metadata": {
    "collapsed": true
   },
   "outputs": [],
   "source": []
  },
  {
   "cell_type": "code",
   "execution_count": null,
   "metadata": {
    "collapsed": true
   },
   "outputs": [],
   "source": []
  }
 ],
 "metadata": {
  "kernelspec": {
   "display_name": "Python 3",
   "language": "python",
   "name": "python3"
  },
  "language_info": {
   "codemirror_mode": {
    "name": "ipython",
    "version": 3
   },
   "file_extension": ".py",
   "mimetype": "text/x-python",
   "name": "python",
   "nbconvert_exporter": "python",
   "pygments_lexer": "ipython3",
   "version": "3.6.0"
  },
  "toc": {
   "nav_menu": {},
   "number_sections": true,
   "sideBar": true,
   "skip_h1_title": false,
   "toc_cell": false,
   "toc_position": {
    "height": "1089px",
    "left": "0px",
    "right": "20px",
    "top": "106px",
    "width": "220px"
   },
   "toc_section_display": "block",
   "toc_window_display": true
  },
  "varInspector": {
   "cols": {
    "lenName": 16,
    "lenType": 16,
    "lenVar": 40
   },
   "kernels_config": {
    "python": {
     "delete_cmd_postfix": "",
     "delete_cmd_prefix": "del ",
     "library": "var_list.py",
     "varRefreshCmd": "print(var_dic_list())"
    },
    "r": {
     "delete_cmd_postfix": ") ",
     "delete_cmd_prefix": "rm(",
     "library": "var_list.r",
     "varRefreshCmd": "cat(var_dic_list()) "
    }
   },
   "oldHeight": 316.5,
   "position": {
    "height": "40px",
    "left": "1076.21px",
    "right": "20px",
    "top": "141.961px",
    "width": "546px"
   },
   "types_to_exclude": [
    "module",
    "function",
    "builtin_function_or_method",
    "instance",
    "_Feature"
   ],
   "varInspector_section_display": "none",
   "window_display": false
  }
 },
 "nbformat": 4,
 "nbformat_minor": 2
}
