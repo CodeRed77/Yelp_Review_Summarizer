{
 "cells": [
  {
   "cell_type": "code",
   "execution_count": 205,
   "metadata": {
    "ExecuteTime": {
     "end_time": "2017-11-04T19:16:08.251351Z",
     "start_time": "2017-11-04T19:16:08.244110Z"
    }
   },
   "outputs": [
    {
     "data": {
      "text/html": [
       "<style>.container { width:100% !important; }</style>"
      ],
      "text/plain": [
       "<IPython.core.display.HTML object>"
      ]
     },
     "metadata": {},
     "output_type": "display_data"
    }
   ],
   "source": [
    "from IPython.core.display import display, HTML\n",
    "display(HTML(\"<style>.container { width:100% !important; }</style>\"))\n",
    "# add quotes before and after <style>"
   ]
  },
  {
   "cell_type": "markdown",
   "metadata": {},
   "source": [
    "### Load packages"
   ]
  },
  {
   "cell_type": "code",
   "execution_count": 1,
   "metadata": {
    "ExecuteTime": {
     "end_time": "2017-11-08T00:16:12.946313Z",
     "start_time": "2017-11-08T00:16:11.005731Z"
    }
   },
   "outputs": [
    {
     "name": "stdout",
     "output_type": "stream",
     "text": [
      "Populating the interactive namespace from numpy and matplotlib\n"
     ]
    }
   ],
   "source": [
    "import nltk\n",
    "import datetime\n",
    "import re\n",
    "import requests\n",
    "import pandas as pd\n",
    "import numpy as np\n",
    "from bs4 import BeautifulSoup\n",
    "import lxml\n",
    "from io import StringIO\n",
    "from collections import Counter\n",
    "from sklearn.decomposition import PCA\n",
    "import pickle\n",
    "import json\n",
    "import os\n",
    "\n",
    "import seaborn as sns\n",
    "sns.set_style(\"darkgrid\")\n",
    "%pylab inline\n",
    "\n",
    "#visualization\n",
    "from IPython.display import Image\n",
    "import pydotplus\n",
    "from sklearn.tree import export_graphviz\n",
    "\n",
    "# visualization\n",
    "%matplotlib inline\n",
    "import matplotlib.pyplot as plt"
   ]
  },
  {
   "cell_type": "code",
   "execution_count": 2,
   "metadata": {
    "ExecuteTime": {
     "end_time": "2017-11-08T00:16:13.019558Z",
     "start_time": "2017-11-08T00:16:12.977474Z"
    },
    "collapsed": true
   },
   "outputs": [],
   "source": [
    "from sklearn.naive_bayes import GaussianNB\n",
    "from sklearn.svm import SVC\n",
    "from sklearn.tree import DecisionTreeClassifier\n",
    "from sklearn.ensemble import RandomForestClassifier\n",
    "from sklearn.linear_model import LinearRegression, LogisticRegression\n",
    "from sklearn.model_selection import train_test_split\n",
    "from sklearn import metrics\n",
    "import scipy.stats as stats\n",
    "from sklearn.metrics import roc_curve, auc\n",
    "from sklearn.utils import resample\n",
    "from sklearn.neighbors import KNeighborsClassifier\n",
    "from sklearn import metrics\n",
    "from sklearn.metrics import confusion_matrix\n",
    "from sklearn.metrics import average_precision_score\n",
    "from imblearn.over_sampling import SMOTE\n",
    "from sklearn.model_selection import GridSearchCV"
   ]
  },
  {
   "cell_type": "code",
   "execution_count": 3,
   "metadata": {
    "ExecuteTime": {
     "end_time": "2017-11-08T00:16:13.120868Z",
     "start_time": "2017-11-08T00:16:13.039913Z"
    },
    "collapsed": true
   },
   "outputs": [],
   "source": [
    "from nltk.stem.snowball import SnowballStemmer\n",
    "stemmer = SnowballStemmer(\"english\")\n",
    "from nltk.tokenize import word_tokenize\n",
    "from nltk.tokenize import sent_tokenize\n",
    "from nltk.corpus import stopwords\n",
    "from nltk.stem.wordnet import WordNetLemmatizer\n",
    "from nltk.stem.porter import PorterStemmer\n",
    "from sklearn.feature_extraction.text import CountVectorizer, TfidfVectorizer\n",
    "from sklearn.feature_extraction import text\n",
    "from sklearn.feature_extraction.text import TfidfTransformer\n",
    "from sklearn.decomposition import NMF, LatentDirichletAllocation\n",
    "from sklearn.naive_bayes import MultinomialNB\n",
    "\n",
    "from textblob import TextBlob\n"
   ]
  },
  {
   "cell_type": "code",
   "execution_count": null,
   "metadata": {
    "collapsed": true
   },
   "outputs": [],
   "source": []
  },
  {
   "cell_type": "markdown",
   "metadata": {},
   "source": [
    "### Load Datasets"
   ]
  },
  {
   "cell_type": "code",
   "execution_count": 4,
   "metadata": {
    "ExecuteTime": {
     "end_time": "2017-11-05T15:15:33.902934Z",
     "start_time": "2017-11-05T15:15:33.900113Z"
    },
    "collapsed": true
   },
   "outputs": [],
   "source": [
    "# Load in Review Data Separately"
   ]
  },
  {
   "cell_type": "code",
   "execution_count": 5,
   "metadata": {
    "ExecuteTime": {
     "end_time": "2017-11-05T15:15:39.184047Z",
     "start_time": "2017-11-05T15:15:35.388995Z"
    },
    "collapsed": true
   },
   "outputs": [],
   "source": [
    "review1 = np.load((\"data/review1.pkl\"))"
   ]
  },
  {
   "cell_type": "code",
   "execution_count": 6,
   "metadata": {
    "ExecuteTime": {
     "end_time": "2017-11-05T15:15:42.999433Z",
     "start_time": "2017-11-05T15:15:39.186119Z"
    },
    "collapsed": true
   },
   "outputs": [],
   "source": [
    "review2 = np.load((\"data/review2.pkl\"))"
   ]
  },
  {
   "cell_type": "code",
   "execution_count": 7,
   "metadata": {
    "ExecuteTime": {
     "end_time": "2017-11-05T15:15:47.796470Z",
     "start_time": "2017-11-05T15:15:43.004777Z"
    },
    "collapsed": true
   },
   "outputs": [],
   "source": [
    "review3 = np.load((\"data/review3.pkl\"))"
   ]
  },
  {
   "cell_type": "code",
   "execution_count": 8,
   "metadata": {
    "ExecuteTime": {
     "end_time": "2017-11-05T15:15:52.634221Z",
     "start_time": "2017-11-05T15:15:47.798655Z"
    },
    "collapsed": true
   },
   "outputs": [],
   "source": [
    "review4 = np.load((\"data/review4.pkl\"))"
   ]
  },
  {
   "cell_type": "code",
   "execution_count": 9,
   "metadata": {
    "ExecuteTime": {
     "end_time": "2017-11-05T15:15:55.965283Z",
     "start_time": "2017-11-05T15:15:52.637013Z"
    },
    "collapsed": true
   },
   "outputs": [],
   "source": [
    "review5 = np.load((\"data/review5.pkl\"))"
   ]
  },
  {
   "cell_type": "code",
   "execution_count": 10,
   "metadata": {
    "ExecuteTime": {
     "end_time": "2017-11-05T15:15:55.979223Z",
     "start_time": "2017-11-05T15:15:55.968627Z"
    }
   },
   "outputs": [
    {
     "data": {
      "text/plain": [
       "(1000000, 9)"
      ]
     },
     "execution_count": 10,
     "metadata": {},
     "output_type": "execute_result"
    }
   ],
   "source": [
    "review1.shape"
   ]
  },
  {
   "cell_type": "code",
   "execution_count": 11,
   "metadata": {
    "ExecuteTime": {
     "end_time": "2017-11-05T15:16:05.890687Z",
     "start_time": "2017-11-05T15:15:55.982547Z"
    },
    "collapsed": true
   },
   "outputs": [],
   "source": [
    "# Concatenate files\n",
    "review = pd.concat([review1, review2, review3, review4, review5], ignore_index=True)"
   ]
  },
  {
   "cell_type": "code",
   "execution_count": 12,
   "metadata": {
    "ExecuteTime": {
     "end_time": "2017-11-05T15:16:05.911443Z",
     "start_time": "2017-11-05T15:16:05.897595Z"
    }
   },
   "outputs": [
    {
     "data": {
      "text/plain": [
       "(4736897, 9)"
      ]
     },
     "execution_count": 12,
     "metadata": {},
     "output_type": "execute_result"
    }
   ],
   "source": [
    "review.shape"
   ]
  },
  {
   "cell_type": "code",
   "execution_count": 13,
   "metadata": {
    "ExecuteTime": {
     "end_time": "2017-11-03T12:34:29.042258Z",
     "start_time": "2017-11-03T12:34:29.038724Z"
    },
    "collapsed": true
   },
   "outputs": [],
   "source": [
    "#sorted(review.date, reverse=True)"
   ]
  },
  {
   "cell_type": "code",
   "execution_count": 2,
   "metadata": {
    "ExecuteTime": {
     "end_time": "2017-11-06T01:25:42.581212Z",
     "start_time": "2017-11-06T01:25:37.588202Z"
    },
    "collapsed": true
   },
   "outputs": [],
   "source": [
    "# All other files\n",
    "\n",
    "business = np.load(\"data/business.pkl\")\n",
    "# tips = np.load(\"data/tips.pkl\")\n",
    "# checkin = np.load(\"data/checkin.pkl\")\n",
    "user_small = np.load('data/user_small.pkl')"
   ]
  },
  {
   "cell_type": "code",
   "execution_count": 14,
   "metadata": {
    "ExecuteTime": {
     "end_time": "2017-11-06T01:33:32.242328Z",
     "start_time": "2017-11-06T01:33:32.233546Z"
    }
   },
   "outputs": [
    {
     "data": {
      "text/plain": [
       "{'Alcohol': 'full_bar',\n",
       " 'Ambience': {'casual': False,\n",
       "  'classy': False,\n",
       "  'hipster': False,\n",
       "  'intimate': False,\n",
       "  'romantic': False,\n",
       "  'touristy': False,\n",
       "  'trendy': False,\n",
       "  'upscale': False},\n",
       " 'BestNights': {'friday': False,\n",
       "  'monday': False,\n",
       "  'saturday': True,\n",
       "  'sunday': False,\n",
       "  'thursday': False,\n",
       "  'tuesday': False,\n",
       "  'wednesday': False},\n",
       " 'BikeParking': True,\n",
       " 'BusinessAcceptsCreditCards': True,\n",
       " 'BusinessParking': {'garage': False,\n",
       "  'lot': False,\n",
       "  'street': False,\n",
       "  'valet': False},\n",
       " 'CoatCheck': False,\n",
       " 'DogsAllowed': False,\n",
       " 'GoodForDancing': False,\n",
       " 'HappyHour': False,\n",
       " 'HasTV': True,\n",
       " 'Music': {'background_music': False,\n",
       "  'dj': False,\n",
       "  'jukebox': True,\n",
       "  'karaoke': False,\n",
       "  'live': False,\n",
       "  'no_music': False,\n",
       "  'video': False},\n",
       " 'NoiseLevel': 'loud',\n",
       " 'OutdoorSeating': False,\n",
       " 'RestaurantsGoodForGroups': True,\n",
       " 'RestaurantsPriceRange2': 2,\n",
       " 'Smoking': 'outdoor',\n",
       " 'WheelchairAccessible': False}"
      ]
     },
     "execution_count": 14,
     "metadata": {},
     "output_type": "execute_result"
    }
   ],
   "source": [
    "business.iloc[25]['attributes']"
   ]
  },
  {
   "cell_type": "code",
   "execution_count": 14,
   "metadata": {
    "ExecuteTime": {
     "end_time": "2017-11-05T15:16:34.024895Z",
     "start_time": "2017-11-05T15:16:33.353125Z"
    },
    "collapsed": true
   },
   "outputs": [],
   "source": [
    "# earliest elite status\n",
    "\n",
    "user_small['first_yr_elite'] = [min(x) if len(x) > 0 else 99999 for x in user_small.elite.tolist()]"
   ]
  },
  {
   "cell_type": "code",
   "execution_count": 236,
   "metadata": {
    "ExecuteTime": {
     "end_time": "2017-11-04T19:44:25.553194Z",
     "start_time": "2017-11-04T19:44:25.538359Z"
    }
   },
   "outputs": [
    {
     "data": {
      "text/html": [
       "<div>\n",
       "<style>\n",
       "    .dataframe thead tr:only-child th {\n",
       "        text-align: right;\n",
       "    }\n",
       "\n",
       "    .dataframe thead th {\n",
       "        text-align: left;\n",
       "    }\n",
       "\n",
       "    .dataframe tbody tr th {\n",
       "        vertical-align: top;\n",
       "    }\n",
       "</style>\n",
       "<table border=\"1\" class=\"dataframe\">\n",
       "  <thead>\n",
       "    <tr style=\"text-align: right;\">\n",
       "      <th></th>\n",
       "      <th>user_id</th>\n",
       "      <th>elite</th>\n",
       "      <th>yelping_since</th>\n",
       "      <th>first_yr_elite</th>\n",
       "    </tr>\n",
       "  </thead>\n",
       "  <tbody>\n",
       "    <tr>\n",
       "      <th>0</th>\n",
       "      <td>lsSiIjAKVl-QRxKjRErBeg</td>\n",
       "      <td>[2014, 2016, 2013, 2011, 2012, 2015, 2010, 2017]</td>\n",
       "      <td>2010-07-13</td>\n",
       "      <td>2010</td>\n",
       "    </tr>\n",
       "    <tr>\n",
       "      <th>1</th>\n",
       "      <td>om5ZiponkpRqUNa3pVPiRg</td>\n",
       "      <td>[2014, 2017, 2011, 2012, 2015, 2009, 2013, 200...</td>\n",
       "      <td>2006-01-18</td>\n",
       "      <td>2006</td>\n",
       "    </tr>\n",
       "    <tr>\n",
       "      <th>2</th>\n",
       "      <td>-lGwMGHMC_XihFJNKCJNRg</td>\n",
       "      <td>[]</td>\n",
       "      <td>2014-10-31</td>\n",
       "      <td>99999</td>\n",
       "    </tr>\n",
       "    <tr>\n",
       "      <th>3</th>\n",
       "      <td>D-ydMTPGWXTVm4_jjp0k9g</td>\n",
       "      <td>[2016, 2017]</td>\n",
       "      <td>2013-04-01</td>\n",
       "      <td>2016</td>\n",
       "    </tr>\n",
       "    <tr>\n",
       "      <th>4</th>\n",
       "      <td>PcvbBOCOcs6_suRDH7TSTg</td>\n",
       "      <td>[2017, 2016]</td>\n",
       "      <td>2012-08-16</td>\n",
       "      <td>2016</td>\n",
       "    </tr>\n",
       "  </tbody>\n",
       "</table>\n",
       "</div>"
      ],
      "text/plain": [
       "                  user_id                                              elite  \\\n",
       "0  lsSiIjAKVl-QRxKjRErBeg   [2014, 2016, 2013, 2011, 2012, 2015, 2010, 2017]   \n",
       "1  om5ZiponkpRqUNa3pVPiRg  [2014, 2017, 2011, 2012, 2015, 2009, 2013, 200...   \n",
       "2  -lGwMGHMC_XihFJNKCJNRg                                                 []   \n",
       "3  D-ydMTPGWXTVm4_jjp0k9g                                       [2016, 2017]   \n",
       "4  PcvbBOCOcs6_suRDH7TSTg                                       [2017, 2016]   \n",
       "\n",
       "  yelping_since  first_yr_elite  \n",
       "0    2010-07-13            2010  \n",
       "1    2006-01-18            2006  \n",
       "2    2014-10-31           99999  \n",
       "3    2013-04-01            2016  \n",
       "4    2012-08-16            2016  "
      ]
     },
     "execution_count": 236,
     "metadata": {},
     "output_type": "execute_result"
    }
   ],
   "source": [
    "user_small.head()"
   ]
  },
  {
   "cell_type": "code",
   "execution_count": 15,
   "metadata": {
    "ExecuteTime": {
     "end_time": "2017-11-05T15:16:39.616378Z",
     "start_time": "2017-11-05T15:16:39.479692Z"
    },
    "collapsed": true
   },
   "outputs": [],
   "source": [
    " user_small.drop('elite', axis=1, inplace = True)"
   ]
  },
  {
   "cell_type": "code",
   "execution_count": 16,
   "metadata": {
    "ExecuteTime": {
     "end_time": "2017-11-05T15:16:46.636933Z",
     "start_time": "2017-11-05T15:16:46.597121Z"
    }
   },
   "outputs": [
    {
     "data": {
      "text/html": [
       "<div>\n",
       "<style>\n",
       "    .dataframe thead tr:only-child th {\n",
       "        text-align: right;\n",
       "    }\n",
       "\n",
       "    .dataframe thead th {\n",
       "        text-align: left;\n",
       "    }\n",
       "\n",
       "    .dataframe tbody tr th {\n",
       "        vertical-align: top;\n",
       "    }\n",
       "</style>\n",
       "<table border=\"1\" class=\"dataframe\">\n",
       "  <thead>\n",
       "    <tr style=\"text-align: right;\">\n",
       "      <th></th>\n",
       "      <th>business_id</th>\n",
       "      <th>date</th>\n",
       "      <th>likes</th>\n",
       "      <th>text</th>\n",
       "      <th>user_id</th>\n",
       "    </tr>\n",
       "  </thead>\n",
       "  <tbody>\n",
       "    <tr>\n",
       "      <th>0</th>\n",
       "      <td>tJRDll5yqpZwehenzE2cSg</td>\n",
       "      <td>2012-07-15</td>\n",
       "      <td>0</td>\n",
       "      <td>Get here early enough to have dinner.</td>\n",
       "      <td>zcTZk7OG8ovAmh_fenH21g</td>\n",
       "    </tr>\n",
       "    <tr>\n",
       "      <th>1</th>\n",
       "      <td>jH19V2I9fIslnNhDzPmdkA</td>\n",
       "      <td>2015-08-12</td>\n",
       "      <td>0</td>\n",
       "      <td>Great breakfast large portions and friendly wa...</td>\n",
       "      <td>ZcLKXikTHYOnYt5VYRO5sg</td>\n",
       "    </tr>\n",
       "    <tr>\n",
       "      <th>2</th>\n",
       "      <td>dAa0hB2yrnHzVmsCkN4YvQ</td>\n",
       "      <td>2014-06-20</td>\n",
       "      <td>0</td>\n",
       "      <td>Nice place. Great staff.  A fixture in the tow...</td>\n",
       "      <td>oaYhjqBbh18ZhU0bpyzSuw</td>\n",
       "    </tr>\n",
       "    <tr>\n",
       "      <th>3</th>\n",
       "      <td>dAa0hB2yrnHzVmsCkN4YvQ</td>\n",
       "      <td>2016-10-12</td>\n",
       "      <td>0</td>\n",
       "      <td>Happy hour 5-7 Monday - Friday</td>\n",
       "      <td>ulQ8Nyj7jCUR8M83SUMoRQ</td>\n",
       "    </tr>\n",
       "    <tr>\n",
       "      <th>4</th>\n",
       "      <td>ESzO3Av0b1_TzKOiqzbQYQ</td>\n",
       "      <td>2017-01-28</td>\n",
       "      <td>0</td>\n",
       "      <td>Parking is a premium, keep circling, you will ...</td>\n",
       "      <td>ulQ8Nyj7jCUR8M83SUMoRQ</td>\n",
       "    </tr>\n",
       "  </tbody>\n",
       "</table>\n",
       "</div>"
      ],
      "text/plain": [
       "              business_id        date  likes  \\\n",
       "0  tJRDll5yqpZwehenzE2cSg  2012-07-15      0   \n",
       "1  jH19V2I9fIslnNhDzPmdkA  2015-08-12      0   \n",
       "2  dAa0hB2yrnHzVmsCkN4YvQ  2014-06-20      0   \n",
       "3  dAa0hB2yrnHzVmsCkN4YvQ  2016-10-12      0   \n",
       "4  ESzO3Av0b1_TzKOiqzbQYQ  2017-01-28      0   \n",
       "\n",
       "                                                text                 user_id  \n",
       "0              Get here early enough to have dinner.  zcTZk7OG8ovAmh_fenH21g  \n",
       "1  Great breakfast large portions and friendly wa...  ZcLKXikTHYOnYt5VYRO5sg  \n",
       "2  Nice place. Great staff.  A fixture in the tow...  oaYhjqBbh18ZhU0bpyzSuw  \n",
       "3                     Happy hour 5-7 Monday - Friday  ulQ8Nyj7jCUR8M83SUMoRQ  \n",
       "4  Parking is a premium, keep circling, you will ...  ulQ8Nyj7jCUR8M83SUMoRQ  "
      ]
     },
     "execution_count": 16,
     "metadata": {},
     "output_type": "execute_result"
    }
   ],
   "source": [
    "tips.head()"
   ]
  },
  {
   "cell_type": "code",
   "execution_count": 17,
   "metadata": {
    "ExecuteTime": {
     "end_time": "2017-11-05T15:16:49.427047Z",
     "start_time": "2017-11-05T15:16:49.381633Z"
    }
   },
   "outputs": [
    {
     "data": {
      "text/html": [
       "<div>\n",
       "<style>\n",
       "    .dataframe thead tr:only-child th {\n",
       "        text-align: right;\n",
       "    }\n",
       "\n",
       "    .dataframe thead th {\n",
       "        text-align: left;\n",
       "    }\n",
       "\n",
       "    .dataframe tbody tr th {\n",
       "        vertical-align: top;\n",
       "    }\n",
       "</style>\n",
       "<table border=\"1\" class=\"dataframe\">\n",
       "  <thead>\n",
       "    <tr style=\"text-align: right;\">\n",
       "      <th></th>\n",
       "      <th>address</th>\n",
       "      <th>attributes</th>\n",
       "      <th>business_id</th>\n",
       "      <th>categories</th>\n",
       "      <th>city</th>\n",
       "      <th>hours</th>\n",
       "      <th>is_open</th>\n",
       "      <th>latitude</th>\n",
       "      <th>longitude</th>\n",
       "      <th>name</th>\n",
       "      <th>neighborhood</th>\n",
       "      <th>postal_code</th>\n",
       "      <th>review_count</th>\n",
       "      <th>stars</th>\n",
       "      <th>state</th>\n",
       "    </tr>\n",
       "  </thead>\n",
       "  <tbody>\n",
       "    <tr>\n",
       "      <th>0</th>\n",
       "      <td>691 Richmond Rd</td>\n",
       "      <td>{'RestaurantsPriceRange2': 2, 'BusinessParking...</td>\n",
       "      <td>YDf95gJZaq05wvo7hTQbbQ</td>\n",
       "      <td>[Shopping, Shopping Centers]</td>\n",
       "      <td>Richmond Heights</td>\n",
       "      <td>{'Monday': '10:00-21:00', 'Tuesday': '10:00-21...</td>\n",
       "      <td>1</td>\n",
       "      <td>41.541716</td>\n",
       "      <td>-81.493116</td>\n",
       "      <td>Richmond Town Square</td>\n",
       "      <td></td>\n",
       "      <td>44143</td>\n",
       "      <td>17</td>\n",
       "      <td>2.0</td>\n",
       "      <td>OH</td>\n",
       "    </tr>\n",
       "    <tr>\n",
       "      <th>1</th>\n",
       "      <td>2824 Milton Rd</td>\n",
       "      <td>{'GoodForMeal': {'dessert': False, 'latenight'...</td>\n",
       "      <td>mLwM-h2YhXl2NCgdS84_Bw</td>\n",
       "      <td>[Food, Soul Food, Convenience Stores, Restaura...</td>\n",
       "      <td>Charlotte</td>\n",
       "      <td>{'Monday': '10:00-22:00', 'Tuesday': '10:00-22...</td>\n",
       "      <td>0</td>\n",
       "      <td>35.236870</td>\n",
       "      <td>-80.741976</td>\n",
       "      <td>South Florida Style Chicken &amp; Ribs</td>\n",
       "      <td>Eastland</td>\n",
       "      <td>28215</td>\n",
       "      <td>4</td>\n",
       "      <td>4.5</td>\n",
       "      <td>NC</td>\n",
       "    </tr>\n",
       "    <tr>\n",
       "      <th>2</th>\n",
       "      <td>337 Danforth Avenue</td>\n",
       "      <td>{'BusinessParking': {'garage': False, 'street'...</td>\n",
       "      <td>v2WhjAB3PIBA8J8VxG3wEg</td>\n",
       "      <td>[Food, Coffee &amp; Tea]</td>\n",
       "      <td>Toronto</td>\n",
       "      <td>{'Monday': '10:00-19:00', 'Tuesday': '10:00-19...</td>\n",
       "      <td>0</td>\n",
       "      <td>43.677126</td>\n",
       "      <td>-79.353285</td>\n",
       "      <td>The Tea Emporium</td>\n",
       "      <td>Riverdale</td>\n",
       "      <td>M4K 1N7</td>\n",
       "      <td>7</td>\n",
       "      <td>4.5</td>\n",
       "      <td>ON</td>\n",
       "    </tr>\n",
       "  </tbody>\n",
       "</table>\n",
       "</div>"
      ],
      "text/plain": [
       "               address                                         attributes  \\\n",
       "0      691 Richmond Rd  {'RestaurantsPriceRange2': 2, 'BusinessParking...   \n",
       "1       2824 Milton Rd  {'GoodForMeal': {'dessert': False, 'latenight'...   \n",
       "2  337 Danforth Avenue  {'BusinessParking': {'garage': False, 'street'...   \n",
       "\n",
       "              business_id                                         categories  \\\n",
       "0  YDf95gJZaq05wvo7hTQbbQ                       [Shopping, Shopping Centers]   \n",
       "1  mLwM-h2YhXl2NCgdS84_Bw  [Food, Soul Food, Convenience Stores, Restaura...   \n",
       "2  v2WhjAB3PIBA8J8VxG3wEg                               [Food, Coffee & Tea]   \n",
       "\n",
       "               city                                              hours  \\\n",
       "0  Richmond Heights  {'Monday': '10:00-21:00', 'Tuesday': '10:00-21...   \n",
       "1         Charlotte  {'Monday': '10:00-22:00', 'Tuesday': '10:00-22...   \n",
       "2           Toronto  {'Monday': '10:00-19:00', 'Tuesday': '10:00-19...   \n",
       "\n",
       "   is_open   latitude  longitude                                name  \\\n",
       "0        1  41.541716 -81.493116                Richmond Town Square   \n",
       "1        0  35.236870 -80.741976  South Florida Style Chicken & Ribs   \n",
       "2        0  43.677126 -79.353285                    The Tea Emporium   \n",
       "\n",
       "  neighborhood postal_code  review_count  stars state  \n",
       "0                    44143            17    2.0    OH  \n",
       "1     Eastland       28215             4    4.5    NC  \n",
       "2    Riverdale     M4K 1N7             7    4.5    ON  "
      ]
     },
     "execution_count": 17,
     "metadata": {},
     "output_type": "execute_result"
    }
   ],
   "source": [
    "business.head(3)"
   ]
  },
  {
   "cell_type": "code",
   "execution_count": 18,
   "metadata": {
    "ExecuteTime": {
     "end_time": "2017-11-05T15:16:52.420466Z",
     "start_time": "2017-11-05T15:16:52.316106Z"
    }
   },
   "outputs": [
    {
     "data": {
      "text/html": [
       "<div>\n",
       "<style>\n",
       "    .dataframe thead tr:only-child th {\n",
       "        text-align: right;\n",
       "    }\n",
       "\n",
       "    .dataframe thead th {\n",
       "        text-align: left;\n",
       "    }\n",
       "\n",
       "    .dataframe tbody tr th {\n",
       "        vertical-align: top;\n",
       "    }\n",
       "</style>\n",
       "<table border=\"1\" class=\"dataframe\">\n",
       "  <thead>\n",
       "    <tr style=\"text-align: right;\">\n",
       "      <th></th>\n",
       "      <th>business_id</th>\n",
       "      <th>cool</th>\n",
       "      <th>date</th>\n",
       "      <th>funny</th>\n",
       "      <th>review_id</th>\n",
       "      <th>user_stars</th>\n",
       "      <th>review_txt</th>\n",
       "      <th>useful</th>\n",
       "      <th>user_id</th>\n",
       "    </tr>\n",
       "  </thead>\n",
       "  <tbody>\n",
       "    <tr>\n",
       "      <th>0</th>\n",
       "      <td>uYHaNptLzDLoV_JZ_MuzUA</td>\n",
       "      <td>0</td>\n",
       "      <td>2016-07-12</td>\n",
       "      <td>0</td>\n",
       "      <td>VfBHSwC5Vz_pbFluy07i9Q</td>\n",
       "      <td>5</td>\n",
       "      <td>My girlfriend and I stayed here for 3 nights a...</td>\n",
       "      <td>0</td>\n",
       "      <td>cjpdDjZyprfyDG3RlkVG3w</td>\n",
       "    </tr>\n",
       "    <tr>\n",
       "      <th>1</th>\n",
       "      <td>uYHaNptLzDLoV_JZ_MuzUA</td>\n",
       "      <td>0</td>\n",
       "      <td>2016-10-02</td>\n",
       "      <td>0</td>\n",
       "      <td>3zRpneRKDsOPq92tq7ybAA</td>\n",
       "      <td>3</td>\n",
       "      <td>If you need an inexpensive place to stay for a...</td>\n",
       "      <td>0</td>\n",
       "      <td>bjTcT8Ty4cJZhEOEo01FGA</td>\n",
       "    </tr>\n",
       "    <tr>\n",
       "      <th>2</th>\n",
       "      <td>uYHaNptLzDLoV_JZ_MuzUA</td>\n",
       "      <td>0</td>\n",
       "      <td>2015-09-17</td>\n",
       "      <td>0</td>\n",
       "      <td>ne5WhI1jUFOcRn-b-gAzHA</td>\n",
       "      <td>3</td>\n",
       "      <td>Mittlerweile gibt es in Edinburgh zwei Ableger...</td>\n",
       "      <td>0</td>\n",
       "      <td>AXgRULmWcME7J6Ix3I--ww</td>\n",
       "    </tr>\n",
       "    <tr>\n",
       "      <th>3</th>\n",
       "      <td>uYHaNptLzDLoV_JZ_MuzUA</td>\n",
       "      <td>0</td>\n",
       "      <td>2016-08-21</td>\n",
       "      <td>0</td>\n",
       "      <td>llmdwOgDReucVoWEry61Lw</td>\n",
       "      <td>4</td>\n",
       "      <td>Location is everything and this hotel has it! ...</td>\n",
       "      <td>0</td>\n",
       "      <td>oU2SSOmsp_A8JYI7Z2JJ5w</td>\n",
       "    </tr>\n",
       "    <tr>\n",
       "      <th>4</th>\n",
       "      <td>uYHaNptLzDLoV_JZ_MuzUA</td>\n",
       "      <td>0</td>\n",
       "      <td>2013-11-20</td>\n",
       "      <td>0</td>\n",
       "      <td>DuffS87NaSMDmIfluvT83g</td>\n",
       "      <td>5</td>\n",
       "      <td>gute lage im stadtzentrum. shoppingmeile und s...</td>\n",
       "      <td>0</td>\n",
       "      <td>0xtbPEna2Kei11vsU-U2Mw</td>\n",
       "    </tr>\n",
       "  </tbody>\n",
       "</table>\n",
       "</div>"
      ],
      "text/plain": [
       "              business_id  cool        date  funny               review_id  \\\n",
       "0  uYHaNptLzDLoV_JZ_MuzUA     0  2016-07-12      0  VfBHSwC5Vz_pbFluy07i9Q   \n",
       "1  uYHaNptLzDLoV_JZ_MuzUA     0  2016-10-02      0  3zRpneRKDsOPq92tq7ybAA   \n",
       "2  uYHaNptLzDLoV_JZ_MuzUA     0  2015-09-17      0  ne5WhI1jUFOcRn-b-gAzHA   \n",
       "3  uYHaNptLzDLoV_JZ_MuzUA     0  2016-08-21      0  llmdwOgDReucVoWEry61Lw   \n",
       "4  uYHaNptLzDLoV_JZ_MuzUA     0  2013-11-20      0  DuffS87NaSMDmIfluvT83g   \n",
       "\n",
       "  user_stars                                         review_txt  useful  \\\n",
       "0          5  My girlfriend and I stayed here for 3 nights a...       0   \n",
       "1          3  If you need an inexpensive place to stay for a...       0   \n",
       "2          3  Mittlerweile gibt es in Edinburgh zwei Ableger...       0   \n",
       "3          4  Location is everything and this hotel has it! ...       0   \n",
       "4          5  gute lage im stadtzentrum. shoppingmeile und s...       0   \n",
       "\n",
       "                  user_id  \n",
       "0  cjpdDjZyprfyDG3RlkVG3w  \n",
       "1  bjTcT8Ty4cJZhEOEo01FGA  \n",
       "2  AXgRULmWcME7J6Ix3I--ww  \n",
       "3  oU2SSOmsp_A8JYI7Z2JJ5w  \n",
       "4  0xtbPEna2Kei11vsU-U2Mw  "
      ]
     },
     "execution_count": 18,
     "metadata": {},
     "output_type": "execute_result"
    }
   ],
   "source": [
    "review.columns = ['business_id', 'cool', 'date', 'funny', 'review_id', 'user_stars', 'review_txt', 'useful', 'user_id']\n",
    "review.head()"
   ]
  },
  {
   "cell_type": "code",
   "execution_count": 19,
   "metadata": {
    "ExecuteTime": {
     "end_time": "2017-11-05T15:16:59.207043Z",
     "start_time": "2017-11-05T15:16:58.139847Z"
    }
   },
   "outputs": [
    {
     "data": {
      "text/plain": [
       "count    4.736897e+06\n",
       "mean     9.882921e-01\n",
       "std      2.600021e+00\n",
       "min      0.000000e+00\n",
       "25%      0.000000e+00\n",
       "50%      0.000000e+00\n",
       "75%      1.000000e+00\n",
       "max      1.125000e+03\n",
       "Name: useful, dtype: float64"
      ]
     },
     "execution_count": 19,
     "metadata": {},
     "output_type": "execute_result"
    }
   ],
   "source": [
    "review.useful.describe()"
   ]
  },
  {
   "cell_type": "code",
   "execution_count": 20,
   "metadata": {
    "ExecuteTime": {
     "end_time": "2017-11-05T15:18:03.704954Z",
     "start_time": "2017-11-05T15:16:59.215839Z"
    }
   },
   "outputs": [
    {
     "data": {
      "text/plain": [
       "count    1.981990e+06\n",
       "mean     2.361989e+00\n",
       "std      3.593301e+00\n",
       "min      1.000000e+00\n",
       "25%      1.000000e+00\n",
       "50%      1.000000e+00\n",
       "75%      3.000000e+00\n",
       "max      1.125000e+03\n",
       "Name: useful, dtype: float64"
      ]
     },
     "execution_count": 20,
     "metadata": {},
     "output_type": "execute_result"
    }
   ],
   "source": [
    "review[review['useful'] > 0]['useful'].describe()"
   ]
  },
  {
   "cell_type": "code",
   "execution_count": 21,
   "metadata": {
    "ExecuteTime": {
     "end_time": "2017-11-05T15:18:03.965426Z",
     "start_time": "2017-11-05T15:18:03.728972Z"
    }
   },
   "outputs": [
    {
     "data": {
      "text/html": [
       "<div>\n",
       "<style>\n",
       "    .dataframe thead tr:only-child th {\n",
       "        text-align: right;\n",
       "    }\n",
       "\n",
       "    .dataframe thead th {\n",
       "        text-align: left;\n",
       "    }\n",
       "\n",
       "    .dataframe tbody tr th {\n",
       "        vertical-align: top;\n",
       "    }\n",
       "</style>\n",
       "<table border=\"1\" class=\"dataframe\">\n",
       "  <thead>\n",
       "    <tr style=\"text-align: right;\">\n",
       "      <th></th>\n",
       "      <th>business_id</th>\n",
       "      <th>cool</th>\n",
       "      <th>date</th>\n",
       "      <th>funny</th>\n",
       "      <th>review_id</th>\n",
       "      <th>user_stars</th>\n",
       "      <th>review_txt</th>\n",
       "      <th>useful</th>\n",
       "      <th>user_id</th>\n",
       "    </tr>\n",
       "  </thead>\n",
       "  <tbody>\n",
       "    <tr>\n",
       "      <th>4614802</th>\n",
       "      <td>DN0b4Un8--Uf6SEWLeh0UA</td>\n",
       "      <td>513</td>\n",
       "      <td>2010-08-01</td>\n",
       "      <td>631</td>\n",
       "      <td>A8mLBytNM2zmjHgSpsuZDA</td>\n",
       "      <td>1</td>\n",
       "      <td>In retrospect, I should have known better than...</td>\n",
       "      <td>1125</td>\n",
       "      <td>qiTy11I-yp6foxIghRfGOA</td>\n",
       "    </tr>\n",
       "    <tr>\n",
       "      <th>4615135</th>\n",
       "      <td>DN0b4Un8--Uf6SEWLeh0UA</td>\n",
       "      <td>102</td>\n",
       "      <td>2012-11-18</td>\n",
       "      <td>262</td>\n",
       "      <td>69suGHxR3PVxicAgmUlhzA</td>\n",
       "      <td>1</td>\n",
       "      <td>We were very disappointed with this restaurant...</td>\n",
       "      <td>580</td>\n",
       "      <td>XmIsBXpdBevTYCe8gKQruQ</td>\n",
       "    </tr>\n",
       "  </tbody>\n",
       "</table>\n",
       "</div>"
      ],
      "text/plain": [
       "                    business_id  cool        date  funny  \\\n",
       "4614802  DN0b4Un8--Uf6SEWLeh0UA   513  2010-08-01    631   \n",
       "4615135  DN0b4Un8--Uf6SEWLeh0UA   102  2012-11-18    262   \n",
       "\n",
       "                      review_id user_stars  \\\n",
       "4614802  A8mLBytNM2zmjHgSpsuZDA          1   \n",
       "4615135  69suGHxR3PVxicAgmUlhzA          1   \n",
       "\n",
       "                                                review_txt  useful  \\\n",
       "4614802  In retrospect, I should have known better than...    1125   \n",
       "4615135  We were very disappointed with this restaurant...     580   \n",
       "\n",
       "                        user_id  \n",
       "4614802  qiTy11I-yp6foxIghRfGOA  \n",
       "4615135  XmIsBXpdBevTYCe8gKQruQ  "
      ]
     },
     "execution_count": 21,
     "metadata": {},
     "output_type": "execute_result"
    }
   ],
   "source": [
    "_ = (review[review['useful'] > 500])\n",
    "\n",
    "_"
   ]
  },
  {
   "cell_type": "code",
   "execution_count": 22,
   "metadata": {
    "ExecuteTime": {
     "end_time": "2017-11-05T15:18:03.998447Z",
     "start_time": "2017-11-05T15:18:03.972963Z"
    }
   },
   "outputs": [
    {
     "data": {
      "text/plain": [
       "'In retrospect, I should have known better than to step foot into Amy\\'s Baking Company (a.k.a. ABC Bistro).  \\n\\n-8 pm on a Saturday night, three tables are occupied\\n-a sign on the door indicates they\\'re looking for an experienced line cook, a dishwasher, waitresses, you name it\\n-Pita Jungle, just a stone\\'s throw away, is packed to the gills\\n\\nThese are all bad signs.  They go ignored, however, because I\\'d eaten one thing all day, and I had drove here to try their pizza.  Never, ever again.\\n\\nThe waitress brings me out a water and a menu to my table for one  on the patio, which I had all to myself.  Browsing the apps, I was pleasantly surprised to see several things priced $3, which seemed like a bargain, given the high price of everything else.  $3 tapanade sounded like a good deal, but I was informed that it didn\\'t come with anything - it was $3 extra for bread.  Since I was solo, I decided to skip it and instead pay $14 for their 12\" margherita pizza.  \\n\\nAbout three minutes later, the waitress drops off my pizza.  \"Your pizza\", she says, leaves a plate and off she goes.  I sat for a moment, confused as to how things happened so quickly.  I try to grab a slice of the pizza, but it was so blazing hot that I wasn\\'t even going to attempt to handle it.  I waited for a few minutes to let it cool off, only to discover that not only had it cooled enough to handle, but was actually well-cooled and most likely reheated.  After a closer inspection of the pie in front of me, it was evident that it had been reheated, as there were smaller tomatoes that had spent their time in the oven, and larger tomatoes that had barely been kissed by the heat of the oven.\\n\\nI took a bite, and was immediately underwhelmed.  The crust had very little character, was slightly sweet but had that store-bought quality to it.  The pesto tasted okay, but the tomatoes were completely tasteless and overall, it just fell flat.  It\\'s margherita - the ingredients need to shine to make such a simple pizza.  These ingredients were sub-par.  After two small pieces, I decided I was wasting my calories and just gave up on it.\\n\\nSo I sat outside, not eating, and sat.  And sat.  Where the hell was the waitress?  I glanced inside a few times, hoping to catch her eye, but she must have been occupied elsewhere.  \\n\\nThe owner comes out.  \"How\\'d you like your pizza?\"  Instead of immediately responding, I asked how it had come out so quickly.  In short, he told me another table had ordered it, decided they didn\\'t want it, and it sat in the kitchen for two minutes, who in turn decided to send it out to me since I didn\\'t order anything else.  \\n\\nMe: \"Well, it didn\\'t really taste fresh\".\\nHim: \"No, no, our pizzas are the best.  Ask our customers.  You\\'re the first person since we\\'ve opened to ever not like our pizzas\".  \\n\\nHe got very defensive about the pizza, but I hadn\\'t really launched a harsh criticism on the pizza, just said I didn\\'t really enjoy it.  So I sat some more, with an empty drink, and realized they wanted me gone.  The owner wouldn\\'t make eye contact with me.  The server never came back out asking if I wanted something else.  And they still hadn\\'t refilled my drink.\\n\\nSo I sat on a patio, alone, and decided to have a smoke.  The waitress comes out...\\n\\nHer: \"Sir, there\\'s a no smoking sign over there, I was told to tell you to not to smoke here.\"  \\nMe: \"Is this the last f*** you in this experience?\"\\nHer: \"Yes, I think so\".\\n\\nShe walks away.  I walk inside, pay the bill, and leave.  No apologies, no discounts on the bill, nothing.  $18 for weak iced tea and shitty pizza.\\n\\nThis is arrogance in its worst form.  I can forgive bad food, but I cannot forgive misplaced arrogance and the blatant dismissal of a customer, whether you agree with them or not.  \\n\\nPerhaps the sign on the door should also say, \"Wanted: New owner\".  \\n\\nI cannot, for the life of me, recommend this restaurant to anyone.\\n\\n---\\nUPDATE:\\nSince Yelp\\'s 5000 character limit will not let me post the full response by the owner (Amy B.), here is a link to the comments:\\nhttp://blogs.phoenixnewtimes.com/bella/2010/08/ouch_todays_hard_lesson_on_yel.php'"
      ]
     },
     "execution_count": 22,
     "metadata": {},
     "output_type": "execute_result"
    }
   ],
   "source": [
    "review.iloc[4614802,:]['review_txt']"
   ]
  },
  {
   "cell_type": "code",
   "execution_count": 23,
   "metadata": {
    "ExecuteTime": {
     "end_time": "2017-11-05T15:18:04.067847Z",
     "start_time": "2017-11-05T15:18:04.009253Z"
    }
   },
   "outputs": [
    {
     "data": {
      "text/plain": [
       "count    156639.000000\n",
       "mean         30.238159\n",
       "std          96.486631\n",
       "min           3.000000\n",
       "25%           4.000000\n",
       "50%           9.000000\n",
       "75%          23.000000\n",
       "max        6979.000000\n",
       "Name: review_count, dtype: float64"
      ]
     },
     "execution_count": 23,
     "metadata": {},
     "output_type": "execute_result"
    }
   ],
   "source": [
    "business.review_count.describe()"
   ]
  },
  {
   "cell_type": "code",
   "execution_count": 24,
   "metadata": {
    "ExecuteTime": {
     "end_time": "2017-11-05T15:18:04.231827Z",
     "start_time": "2017-11-05T15:18:04.071155Z"
    }
   },
   "outputs": [
    {
     "data": {
      "text/plain": [
       "Las Vegas      24768\n",
       "Phoenix        15656\n",
       "Toronto        15483\n",
       "Charlotte       7557\n",
       "Scottsdale      7510\n",
       "Pittsburgh      5688\n",
       "Montréal        5175\n",
       "Mesa            5146\n",
       "Henderson       4130\n",
       "Tempe           3949\n",
       "Chandler        3649\n",
       "Edinburgh       3625\n",
       "Cleveland       2979\n",
       "Madison         2891\n",
       "Glendale        2841\n",
       "Gilbert         2835\n",
       "Mississauga     2316\n",
       "Stuttgart       1975\n",
       "Peoria          1527\n",
       "Markham         1390\n",
       "Name: city, dtype: int64"
      ]
     },
     "execution_count": 24,
     "metadata": {},
     "output_type": "execute_result"
    }
   ],
   "source": [
    "business.city.value_counts(ascending=False)[:20]"
   ]
  },
  {
   "cell_type": "code",
   "execution_count": 25,
   "metadata": {
    "ExecuteTime": {
     "end_time": "2017-11-05T15:18:04.443798Z",
     "start_time": "2017-11-05T15:18:04.235120Z"
    }
   },
   "outputs": [
    {
     "data": {
      "text/html": [
       "<div>\n",
       "<style>\n",
       "    .dataframe thead tr:only-child th {\n",
       "        text-align: right;\n",
       "    }\n",
       "\n",
       "    .dataframe thead th {\n",
       "        text-align: left;\n",
       "    }\n",
       "\n",
       "    .dataframe tbody tr th {\n",
       "        vertical-align: top;\n",
       "    }\n",
       "</style>\n",
       "<table border=\"1\" class=\"dataframe\">\n",
       "  <thead>\n",
       "    <tr style=\"text-align: right;\">\n",
       "      <th></th>\n",
       "      <th>address</th>\n",
       "      <th>attributes</th>\n",
       "      <th>business_id</th>\n",
       "      <th>categories</th>\n",
       "      <th>city</th>\n",
       "      <th>hours</th>\n",
       "      <th>is_open</th>\n",
       "      <th>latitude</th>\n",
       "      <th>longitude</th>\n",
       "      <th>name</th>\n",
       "      <th>neighborhood</th>\n",
       "      <th>postal_code</th>\n",
       "      <th>review_count</th>\n",
       "      <th>stars</th>\n",
       "      <th>state</th>\n",
       "    </tr>\n",
       "  </thead>\n",
       "  <tbody>\n",
       "    <tr>\n",
       "      <th>59560</th>\n",
       "      <td>7366 E Shea Blvd, Ste 112</td>\n",
       "      <td>{'GoodForMeal': {'dessert': True, 'latenight':...</td>\n",
       "      <td>DN0b4Un8--Uf6SEWLeh0UA</td>\n",
       "      <td>[American (New), Italian, Food, Restaurants, P...</td>\n",
       "      <td>Scottsdale</td>\n",
       "      <td>{'Tuesday': '12:00-21:00', 'Friday': '12:00-21...</td>\n",
       "      <td>0</td>\n",
       "      <td>33.584012</td>\n",
       "      <td>-111.922265</td>\n",
       "      <td>Amy's Baking Company</td>\n",
       "      <td></td>\n",
       "      <td>85260</td>\n",
       "      <td>479</td>\n",
       "      <td>3.0</td>\n",
       "      <td>AZ</td>\n",
       "    </tr>\n",
       "  </tbody>\n",
       "</table>\n",
       "</div>"
      ],
      "text/plain": [
       "                         address  \\\n",
       "59560  7366 E Shea Blvd, Ste 112   \n",
       "\n",
       "                                              attributes  \\\n",
       "59560  {'GoodForMeal': {'dessert': True, 'latenight':...   \n",
       "\n",
       "                  business_id  \\\n",
       "59560  DN0b4Un8--Uf6SEWLeh0UA   \n",
       "\n",
       "                                              categories        city  \\\n",
       "59560  [American (New), Italian, Food, Restaurants, P...  Scottsdale   \n",
       "\n",
       "                                                   hours  is_open   latitude  \\\n",
       "59560  {'Tuesday': '12:00-21:00', 'Friday': '12:00-21...        0  33.584012   \n",
       "\n",
       "        longitude                  name neighborhood postal_code  \\\n",
       "59560 -111.922265  Amy's Baking Company                    85260   \n",
       "\n",
       "       review_count  stars state  \n",
       "59560           479    3.0    AZ  "
      ]
     },
     "execution_count": 25,
     "metadata": {},
     "output_type": "execute_result"
    }
   ],
   "source": [
    "business[business['business_id'] == 'DN0b4Un8--Uf6SEWLeh0UA']"
   ]
  },
  {
   "cell_type": "code",
   "execution_count": 26,
   "metadata": {
    "ExecuteTime": {
     "end_time": "2017-11-05T15:18:06.364096Z",
     "start_time": "2017-11-05T15:18:04.448117Z"
    },
    "collapsed": true
   },
   "outputs": [],
   "source": [
    "# Keep only Major Cities\n",
    "\n",
    "business_maj = business.loc[business['city']\\\n",
    "                            .isin(['Phoenix', 'Charlotte', 'Toronto', 'Charlotte', 'Scottsdale'])]"
   ]
  },
  {
   "cell_type": "code",
   "execution_count": 27,
   "metadata": {
    "ExecuteTime": {
     "end_time": "2017-11-05T15:18:08.141277Z",
     "start_time": "2017-11-05T15:18:08.134629Z"
    }
   },
   "outputs": [
    {
     "data": {
      "text/plain": [
       "(46206, 15)"
      ]
     },
     "execution_count": 27,
     "metadata": {},
     "output_type": "execute_result"
    }
   ],
   "source": [
    "business_maj.shape"
   ]
  },
  {
   "cell_type": "code",
   "execution_count": 28,
   "metadata": {
    "ExecuteTime": {
     "end_time": "2017-11-05T15:18:09.536389Z",
     "start_time": "2017-11-05T15:18:09.262452Z"
    },
    "collapsed": true,
    "scrolled": true
   },
   "outputs": [],
   "source": [
    "## Analyze specific types of businesses\n",
    "\n",
    "bus_small = business_maj[[\"name\", \"business_id\", \"categories\", \"attributes\", 'stars', 'review_count', 'city', 'state', 'postal_code', 'latitude', 'longitude']].copy()\n",
    "bus_small['categories2'] = bus_small['categories'].apply(lambda x: ', '.join(x)).str.replace(',', '')\n"
   ]
  },
  {
   "cell_type": "code",
   "execution_count": 29,
   "metadata": {
    "ExecuteTime": {
     "end_time": "2017-11-05T15:18:17.661231Z",
     "start_time": "2017-11-05T15:18:17.599889Z"
    }
   },
   "outputs": [
    {
     "data": {
      "text/html": [
       "<div>\n",
       "<style>\n",
       "    .dataframe thead tr:only-child th {\n",
       "        text-align: right;\n",
       "    }\n",
       "\n",
       "    .dataframe thead th {\n",
       "        text-align: left;\n",
       "    }\n",
       "\n",
       "    .dataframe tbody tr th {\n",
       "        vertical-align: top;\n",
       "    }\n",
       "</style>\n",
       "<table border=\"1\" class=\"dataframe\">\n",
       "  <thead>\n",
       "    <tr style=\"text-align: right;\">\n",
       "      <th></th>\n",
       "      <th>name</th>\n",
       "      <th>business_id</th>\n",
       "      <th>categories</th>\n",
       "      <th>attributes</th>\n",
       "      <th>stars</th>\n",
       "      <th>review_count</th>\n",
       "      <th>city</th>\n",
       "      <th>state</th>\n",
       "      <th>postal_code</th>\n",
       "      <th>latitude</th>\n",
       "      <th>longitude</th>\n",
       "      <th>categories2</th>\n",
       "    </tr>\n",
       "  </thead>\n",
       "  <tbody>\n",
       "    <tr>\n",
       "      <th>1</th>\n",
       "      <td>South Florida Style Chicken &amp; Ribs</td>\n",
       "      <td>mLwM-h2YhXl2NCgdS84_Bw</td>\n",
       "      <td>[Food, Soul Food, Convenience Stores, Restaura...</td>\n",
       "      <td>{'GoodForMeal': {'dessert': False, 'latenight'...</td>\n",
       "      <td>4.5</td>\n",
       "      <td>4</td>\n",
       "      <td>Charlotte</td>\n",
       "      <td>NC</td>\n",
       "      <td>28215</td>\n",
       "      <td>35.236870</td>\n",
       "      <td>-80.741976</td>\n",
       "      <td>Food Soul Food Convenience Stores Restaurants</td>\n",
       "    </tr>\n",
       "    <tr>\n",
       "      <th>2</th>\n",
       "      <td>The Tea Emporium</td>\n",
       "      <td>v2WhjAB3PIBA8J8VxG3wEg</td>\n",
       "      <td>[Food, Coffee &amp; Tea]</td>\n",
       "      <td>{'BusinessParking': {'garage': False, 'street'...</td>\n",
       "      <td>4.5</td>\n",
       "      <td>7</td>\n",
       "      <td>Toronto</td>\n",
       "      <td>ON</td>\n",
       "      <td>M4K 1N7</td>\n",
       "      <td>43.677126</td>\n",
       "      <td>-79.353285</td>\n",
       "      <td>Food Coffee &amp; Tea</td>\n",
       "    </tr>\n",
       "    <tr>\n",
       "      <th>3</th>\n",
       "      <td>TRUmatch</td>\n",
       "      <td>CVtCbSB1zUcUWg-9TNGTuQ</td>\n",
       "      <td>[Professional Services, Matchmakers]</td>\n",
       "      <td>{}</td>\n",
       "      <td>3.0</td>\n",
       "      <td>3</td>\n",
       "      <td>Scottsdale</td>\n",
       "      <td>AZ</td>\n",
       "      <td>85258</td>\n",
       "      <td>33.565082</td>\n",
       "      <td>-111.916400</td>\n",
       "      <td>Professional Services Matchmakers</td>\n",
       "    </tr>\n",
       "    <tr>\n",
       "      <th>4</th>\n",
       "      <td>Blimpie</td>\n",
       "      <td>duHFBe87uNSXImQmvBh87Q</td>\n",
       "      <td>[Sandwiches, Restaurants]</td>\n",
       "      <td>{'RestaurantsTableService': False, 'GoodForMea...</td>\n",
       "      <td>4.5</td>\n",
       "      <td>10</td>\n",
       "      <td>Phoenix</td>\n",
       "      <td>AZ</td>\n",
       "      <td>85016</td>\n",
       "      <td>33.505928</td>\n",
       "      <td>-112.038847</td>\n",
       "      <td>Sandwiches Restaurants</td>\n",
       "    </tr>\n",
       "    <tr>\n",
       "      <th>5</th>\n",
       "      <td>Baxter's Cigars</td>\n",
       "      <td>uUEMrhJiL1a1pCA_I1SU7Q</td>\n",
       "      <td>[Shopping, Tobacco Shops]</td>\n",
       "      <td>{'BusinessAcceptsCreditCards': True, 'Restaura...</td>\n",
       "      <td>5.0</td>\n",
       "      <td>35</td>\n",
       "      <td>Phoenix</td>\n",
       "      <td>AZ</td>\n",
       "      <td>85016</td>\n",
       "      <td>33.508068</td>\n",
       "      <td>-112.037552</td>\n",
       "      <td>Shopping Tobacco Shops</td>\n",
       "    </tr>\n",
       "  </tbody>\n",
       "</table>\n",
       "</div>"
      ],
      "text/plain": [
       "                                 name             business_id  \\\n",
       "1  South Florida Style Chicken & Ribs  mLwM-h2YhXl2NCgdS84_Bw   \n",
       "2                    The Tea Emporium  v2WhjAB3PIBA8J8VxG3wEg   \n",
       "3                            TRUmatch  CVtCbSB1zUcUWg-9TNGTuQ   \n",
       "4                             Blimpie  duHFBe87uNSXImQmvBh87Q   \n",
       "5                     Baxter's Cigars  uUEMrhJiL1a1pCA_I1SU7Q   \n",
       "\n",
       "                                          categories  \\\n",
       "1  [Food, Soul Food, Convenience Stores, Restaura...   \n",
       "2                               [Food, Coffee & Tea]   \n",
       "3               [Professional Services, Matchmakers]   \n",
       "4                          [Sandwiches, Restaurants]   \n",
       "5                          [Shopping, Tobacco Shops]   \n",
       "\n",
       "                                          attributes  stars  review_count  \\\n",
       "1  {'GoodForMeal': {'dessert': False, 'latenight'...    4.5             4   \n",
       "2  {'BusinessParking': {'garage': False, 'street'...    4.5             7   \n",
       "3                                                 {}    3.0             3   \n",
       "4  {'RestaurantsTableService': False, 'GoodForMea...    4.5            10   \n",
       "5  {'BusinessAcceptsCreditCards': True, 'Restaura...    5.0            35   \n",
       "\n",
       "         city state postal_code   latitude   longitude  \\\n",
       "1   Charlotte    NC       28215  35.236870  -80.741976   \n",
       "2     Toronto    ON     M4K 1N7  43.677126  -79.353285   \n",
       "3  Scottsdale    AZ       85258  33.565082 -111.916400   \n",
       "4     Phoenix    AZ       85016  33.505928 -112.038847   \n",
       "5     Phoenix    AZ       85016  33.508068 -112.037552   \n",
       "\n",
       "                                     categories2  \n",
       "1  Food Soul Food Convenience Stores Restaurants  \n",
       "2                              Food Coffee & Tea  \n",
       "3              Professional Services Matchmakers  \n",
       "4                         Sandwiches Restaurants  \n",
       "5                         Shopping Tobacco Shops  "
      ]
     },
     "execution_count": 29,
     "metadata": {},
     "output_type": "execute_result"
    }
   ],
   "source": [
    "bus_small.head()"
   ]
  },
  {
   "cell_type": "code",
   "execution_count": 30,
   "metadata": {
    "ExecuteTime": {
     "end_time": "2017-11-05T15:18:24.806743Z",
     "start_time": "2017-11-05T15:18:24.686934Z"
    },
    "collapsed": true
   },
   "outputs": [],
   "source": [
    "#Add Count of Name Frequency, identify potential chains\n",
    "bus_small['name_cnt'] = bus_small['name'].groupby(bus_small['name']).transform('count')"
   ]
  },
  {
   "cell_type": "code",
   "execution_count": 31,
   "metadata": {
    "ExecuteTime": {
     "end_time": "2017-11-05T15:18:25.787899Z",
     "start_time": "2017-11-05T15:18:25.581935Z"
    },
    "collapsed": true
   },
   "outputs": [],
   "source": [
    "# convert several Dummy Flags if category contains this description\n",
    "for category in ['Sushi', 'Pizza', 'Restaurants']:\n",
    "    bus_small.loc[:, category] = bus_small.categories2.str.contains(category).astype(int)\n",
    "\n",
    "bus_small['Cat_Flag'] = (bus_small.Sushi + bus_small.Pizza > 0).astype(int)\n"
   ]
  },
  {
   "cell_type": "code",
   "execution_count": 32,
   "metadata": {
    "ExecuteTime": {
     "end_time": "2017-11-05T15:18:27.024547Z",
     "start_time": "2017-11-05T15:18:27.021106Z"
    },
    "collapsed": true
   },
   "outputs": [],
   "source": [
    "# conditions = [\n",
    "#     (df['Set'] == 'Z') & (df['Type'] == 'A'),\n",
    "#     (df['Set'] == 'Z') & (df['Type'] == 'B'),\n",
    "#     (df['Type'] == 'B')]\n",
    "# choices = ['yellow', 'blue', 'purple']\n",
    "# df['color'] = np.select(conditions, choices, default='black')"
   ]
  },
  {
   "cell_type": "code",
   "execution_count": 33,
   "metadata": {
    "ExecuteTime": {
     "end_time": "2017-11-05T15:18:28.082291Z",
     "start_time": "2017-11-05T15:18:28.002127Z"
    }
   },
   "outputs": [
    {
     "data": {
      "text/html": [
       "<div>\n",
       "<style>\n",
       "    .dataframe thead tr:only-child th {\n",
       "        text-align: right;\n",
       "    }\n",
       "\n",
       "    .dataframe thead th {\n",
       "        text-align: left;\n",
       "    }\n",
       "\n",
       "    .dataframe tbody tr th {\n",
       "        vertical-align: top;\n",
       "    }\n",
       "</style>\n",
       "<table border=\"1\" class=\"dataframe\">\n",
       "  <thead>\n",
       "    <tr style=\"text-align: right;\">\n",
       "      <th>Pizza</th>\n",
       "      <th>0</th>\n",
       "      <th>1</th>\n",
       "    </tr>\n",
       "    <tr>\n",
       "      <th>Sushi</th>\n",
       "      <th></th>\n",
       "      <th></th>\n",
       "    </tr>\n",
       "  </thead>\n",
       "  <tbody>\n",
       "    <tr>\n",
       "      <th>0</th>\n",
       "      <td>44398</td>\n",
       "      <td>1254</td>\n",
       "    </tr>\n",
       "    <tr>\n",
       "      <th>1</th>\n",
       "      <td>550</td>\n",
       "      <td>4</td>\n",
       "    </tr>\n",
       "  </tbody>\n",
       "</table>\n",
       "</div>"
      ],
      "text/plain": [
       "Pizza      0     1\n",
       "Sushi             \n",
       "0      44398  1254\n",
       "1        550     4"
      ]
     },
     "execution_count": 33,
     "metadata": {},
     "output_type": "execute_result"
    }
   ],
   "source": [
    "pd.crosstab(bus_small.Sushi, bus_small.Pizza)"
   ]
  },
  {
   "cell_type": "code",
   "execution_count": 34,
   "metadata": {
    "ExecuteTime": {
     "end_time": "2017-11-05T15:18:28.645167Z",
     "start_time": "2017-11-05T15:18:28.642387Z"
    },
    "collapsed": true
   },
   "outputs": [],
   "source": [
    "# pd.crosstab(bus_small.Sushi, bus_small.Coffee)"
   ]
  },
  {
   "cell_type": "code",
   "execution_count": 35,
   "metadata": {
    "ExecuteTime": {
     "end_time": "2017-11-05T15:18:29.537916Z",
     "start_time": "2017-11-05T15:18:29.531343Z"
    },
    "collapsed": true
   },
   "outputs": [],
   "source": [
    "#pd.crosstab(bus_small.Pizza, bus_small.Burger)"
   ]
  },
  {
   "cell_type": "code",
   "execution_count": 36,
   "metadata": {
    "ExecuteTime": {
     "end_time": "2017-11-05T15:18:31.977531Z",
     "start_time": "2017-11-05T15:18:31.974536Z"
    },
    "collapsed": true
   },
   "outputs": [],
   "source": [
    "# pd.crosstab(bus_small.Pizza, bus_small.Coffee)"
   ]
  },
  {
   "cell_type": "code",
   "execution_count": null,
   "metadata": {
    "collapsed": true
   },
   "outputs": [],
   "source": []
  },
  {
   "cell_type": "code",
   "execution_count": 37,
   "metadata": {
    "ExecuteTime": {
     "end_time": "2017-11-05T15:18:32.881607Z",
     "start_time": "2017-11-05T15:18:32.877578Z"
    },
    "collapsed": true
   },
   "outputs": [],
   "source": [
    "# bus_small.Coffee.value_counts()"
   ]
  },
  {
   "cell_type": "code",
   "execution_count": 38,
   "metadata": {
    "ExecuteTime": {
     "end_time": "2017-11-05T15:18:33.332840Z",
     "start_time": "2017-11-05T15:18:33.311161Z"
    }
   },
   "outputs": [
    {
     "data": {
      "text/plain": [
       "0    44948\n",
       "1     1258\n",
       "Name: Pizza, dtype: int64"
      ]
     },
     "execution_count": 38,
     "metadata": {},
     "output_type": "execute_result"
    }
   ],
   "source": [
    "bus_small.Pizza.value_counts()"
   ]
  },
  {
   "cell_type": "code",
   "execution_count": 39,
   "metadata": {
    "ExecuteTime": {
     "end_time": "2017-11-05T15:18:34.012698Z",
     "start_time": "2017-11-05T15:18:34.003684Z"
    }
   },
   "outputs": [
    {
     "data": {
      "text/plain": [
       "0    45652\n",
       "1      554\n",
       "Name: Sushi, dtype: int64"
      ]
     },
     "execution_count": 39,
     "metadata": {},
     "output_type": "execute_result"
    }
   ],
   "source": [
    "bus_small.Sushi.value_counts()"
   ]
  },
  {
   "cell_type": "code",
   "execution_count": 40,
   "metadata": {
    "ExecuteTime": {
     "end_time": "2017-11-05T15:18:34.794903Z",
     "start_time": "2017-11-05T15:18:34.783877Z"
    }
   },
   "outputs": [
    {
     "data": {
      "text/plain": [
       "0    44398\n",
       "1     1808\n",
       "Name: Cat_Flag, dtype: int64"
      ]
     },
     "execution_count": 40,
     "metadata": {},
     "output_type": "execute_result"
    }
   ],
   "source": [
    "bus_small.Cat_Flag.value_counts()"
   ]
  },
  {
   "cell_type": "markdown",
   "metadata": {
    "ExecuteTime": {
     "end_time": "2017-11-02T21:25:03.109872Z",
     "start_time": "2017-11-02T21:25:03.104310Z"
    }
   },
   "source": [
    "#### Filter on review Count threshold"
   ]
  },
  {
   "cell_type": "code",
   "execution_count": 41,
   "metadata": {
    "ExecuteTime": {
     "end_time": "2017-11-05T15:18:46.002264Z",
     "start_time": "2017-11-05T15:18:45.976389Z"
    },
    "collapsed": true
   },
   "outputs": [],
   "source": [
    "# review count threshold!!!\n",
    "review_cnt = 10\n",
    "\n",
    "#bus_list = bus_small[(bus_small['Cat_Flag'] == 1) & (bus_small['review_count'] >= review_cnt)]\n",
    "bus_list = bus_small[(bus_small['Restaurants'] == 1) & \n",
    "                     (bus_small['review_count'] >= review_cnt) ]"
   ]
  },
  {
   "cell_type": "code",
   "execution_count": 42,
   "metadata": {
    "ExecuteTime": {
     "end_time": "2017-11-05T15:18:47.321620Z",
     "start_time": "2017-11-05T15:18:47.316558Z"
    }
   },
   "outputs": [
    {
     "data": {
      "text/plain": [
       "(10100, 17)"
      ]
     },
     "execution_count": 42,
     "metadata": {},
     "output_type": "execute_result"
    }
   ],
   "source": [
    "bus_list.shape"
   ]
  },
  {
   "cell_type": "markdown",
   "metadata": {},
   "source": [
    "#### Merge Business and Review Data\n"
   ]
  },
  {
   "cell_type": "code",
   "execution_count": 43,
   "metadata": {
    "ExecuteTime": {
     "end_time": "2017-11-05T15:19:08.199615Z",
     "start_time": "2017-11-05T15:18:56.008288Z"
    },
    "collapsed": true
   },
   "outputs": [],
   "source": [
    "# Keep only recent reviews\n",
    "rev_recent = review[review['date'] < '2017-01-01']"
   ]
  },
  {
   "cell_type": "code",
   "execution_count": 44,
   "metadata": {
    "ExecuteTime": {
     "end_time": "2017-11-05T15:19:47.281732Z",
     "start_time": "2017-11-05T15:19:13.902119Z"
    },
    "collapsed": true
   },
   "outputs": [],
   "source": [
    "# Merge Businesses and Review\n",
    "bus_review = bus_list.set_index('business_id').join(rev_recent.set_index('business_id'), how='left')\n",
    "bus_review.reset_index(inplace = True)"
   ]
  },
  {
   "cell_type": "code",
   "execution_count": 47,
   "metadata": {
    "ExecuteTime": {
     "end_time": "2017-11-05T15:20:51.748977Z",
     "start_time": "2017-11-05T15:20:21.254796Z"
    },
    "collapsed": true
   },
   "outputs": [],
   "source": [
    "# Append Reviewer history data\n",
    "bus_review_elite = bus_review.set_index('user_id').join(user_small.set_index('user_id'), how='left')\n",
    "\n",
    "bus_review_elite.reset_index(inplace = True)"
   ]
  },
  {
   "cell_type": "code",
   "execution_count": 48,
   "metadata": {
    "ExecuteTime": {
     "end_time": "2017-11-05T15:20:51.841867Z",
     "start_time": "2017-11-05T15:20:51.754803Z"
    },
    "scrolled": true
   },
   "outputs": [
    {
     "data": {
      "text/html": [
       "<div>\n",
       "<style>\n",
       "    .dataframe thead tr:only-child th {\n",
       "        text-align: right;\n",
       "    }\n",
       "\n",
       "    .dataframe thead th {\n",
       "        text-align: left;\n",
       "    }\n",
       "\n",
       "    .dataframe tbody tr th {\n",
       "        vertical-align: top;\n",
       "    }\n",
       "</style>\n",
       "<table border=\"1\" class=\"dataframe\">\n",
       "  <thead>\n",
       "    <tr style=\"text-align: right;\">\n",
       "      <th></th>\n",
       "      <th>user_id</th>\n",
       "      <th>business_id</th>\n",
       "      <th>name</th>\n",
       "      <th>categories</th>\n",
       "      <th>attributes</th>\n",
       "      <th>stars</th>\n",
       "      <th>review_count</th>\n",
       "      <th>city</th>\n",
       "      <th>state</th>\n",
       "      <th>postal_code</th>\n",
       "      <th>...</th>\n",
       "      <th>Cat_Flag</th>\n",
       "      <th>cool</th>\n",
       "      <th>date</th>\n",
       "      <th>funny</th>\n",
       "      <th>review_id</th>\n",
       "      <th>user_stars</th>\n",
       "      <th>review_txt</th>\n",
       "      <th>useful</th>\n",
       "      <th>yelping_since</th>\n",
       "      <th>first_yr_elite</th>\n",
       "    </tr>\n",
       "  </thead>\n",
       "  <tbody>\n",
       "    <tr>\n",
       "      <th>0</th>\n",
       "      <td>---PLwSf5gKdIoVnyRHgBA</td>\n",
       "      <td>Y5CTA3S9TVkpr3Yvwaki-A</td>\n",
       "      <td>iPic Theaters</td>\n",
       "      <td>[Bars, Arts &amp; Entertainment, Nightlife, Cinema...</td>\n",
       "      <td>{'GoodForKids': True}</td>\n",
       "      <td>4.0</td>\n",
       "      <td>473</td>\n",
       "      <td>Scottsdale</td>\n",
       "      <td>AZ</td>\n",
       "      <td>85254</td>\n",
       "      <td>...</td>\n",
       "      <td>0</td>\n",
       "      <td>0.0</td>\n",
       "      <td>2016-06-12</td>\n",
       "      <td>0.0</td>\n",
       "      <td>QXzgdKOdmrccxZ60Er7gig</td>\n",
       "      <td>3</td>\n",
       "      <td>I love iPic in that I don't like crowds and I ...</td>\n",
       "      <td>0.0</td>\n",
       "      <td>2015-07-31</td>\n",
       "      <td>99999.0</td>\n",
       "    </tr>\n",
       "    <tr>\n",
       "      <th>1</th>\n",
       "      <td>---cu1hq55BP9DWVXXKHZg</td>\n",
       "      <td>EGzsR_Tyd0QOaZ6g7wPl-w</td>\n",
       "      <td>Filibertos Mexican Food</td>\n",
       "      <td>[Mexican, Restaurants]</td>\n",
       "      <td>{'RestaurantsTableService': False, 'GoodForMea...</td>\n",
       "      <td>4.5</td>\n",
       "      <td>10</td>\n",
       "      <td>Phoenix</td>\n",
       "      <td>AZ</td>\n",
       "      <td>85020</td>\n",
       "      <td>...</td>\n",
       "      <td>0</td>\n",
       "      <td>0.0</td>\n",
       "      <td>2014-11-19</td>\n",
       "      <td>0.0</td>\n",
       "      <td>C64IMmOZmJWiNdFe3ELklQ</td>\n",
       "      <td>4</td>\n",
       "      <td>Went to this location on 11/19/2014. Its not t...</td>\n",
       "      <td>1.0</td>\n",
       "      <td>2009-04-18</td>\n",
       "      <td>99999.0</td>\n",
       "    </tr>\n",
       "    <tr>\n",
       "      <th>2</th>\n",
       "      <td>---cu1hq55BP9DWVXXKHZg</td>\n",
       "      <td>eCJDiRPoSuA0bsb7F1gNUA</td>\n",
       "      <td>Asian Cafe</td>\n",
       "      <td>[Asian Fusion, Chinese, Restaurants, Fast Food...</td>\n",
       "      <td>{'GoodForMeal': {'dessert': False, 'latenight'...</td>\n",
       "      <td>4.0</td>\n",
       "      <td>48</td>\n",
       "      <td>Phoenix</td>\n",
       "      <td>AZ</td>\n",
       "      <td>85023</td>\n",
       "      <td>...</td>\n",
       "      <td>0</td>\n",
       "      <td>0.0</td>\n",
       "      <td>2014-11-20</td>\n",
       "      <td>0.0</td>\n",
       "      <td>O0frjb1NA2AD5VnHNWVpcg</td>\n",
       "      <td>1</td>\n",
       "      <td>Somehow 11111 N 7th Street is \"too far for us....</td>\n",
       "      <td>0.0</td>\n",
       "      <td>2009-04-18</td>\n",
       "      <td>99999.0</td>\n",
       "    </tr>\n",
       "    <tr>\n",
       "      <th>3</th>\n",
       "      <td>--2HUmLkcNHZp0xw6AMBPg</td>\n",
       "      <td>Hpi9raHlFm6prTSzFHTurg</td>\n",
       "      <td>Corleones Philly Steaks</td>\n",
       "      <td>[Chicken Wings, Sandwiches, Restaurants, Pizza...</td>\n",
       "      <td>{'Alcohol': 'none', 'HasTV': True, 'NoiseLevel...</td>\n",
       "      <td>3.5</td>\n",
       "      <td>124</td>\n",
       "      <td>Scottsdale</td>\n",
       "      <td>AZ</td>\n",
       "      <td>85260</td>\n",
       "      <td>...</td>\n",
       "      <td>1</td>\n",
       "      <td>0.0</td>\n",
       "      <td>2016-07-29</td>\n",
       "      <td>0.0</td>\n",
       "      <td>PX83ZIZisbi6IFN9Guk9ZQ</td>\n",
       "      <td>5</td>\n",
       "      <td>Great team! Love this place.  I have come in r...</td>\n",
       "      <td>0.0</td>\n",
       "      <td>2016-07-28</td>\n",
       "      <td>99999.0</td>\n",
       "    </tr>\n",
       "    <tr>\n",
       "      <th>4</th>\n",
       "      <td>--3WaS23LcIXtxyFULJHTA</td>\n",
       "      <td>ADgacmZ-qXrSOhMfU6bmTA</td>\n",
       "      <td>5Church</td>\n",
       "      <td>[Food, Restaurants, American (New), Breakfast ...</td>\n",
       "      <td>{'Alcohol': 'full_bar', 'HasTV': True, 'NoiseL...</td>\n",
       "      <td>3.5</td>\n",
       "      <td>507</td>\n",
       "      <td>Charlotte</td>\n",
       "      <td>NC</td>\n",
       "      <td>28202</td>\n",
       "      <td>...</td>\n",
       "      <td>0</td>\n",
       "      <td>1.0</td>\n",
       "      <td>2016-02-08</td>\n",
       "      <td>0.0</td>\n",
       "      <td>rsYI3LPC6a7JhjjDYNCTKw</td>\n",
       "      <td>3</td>\n",
       "      <td>We stopped in here for drinks and appetizers o...</td>\n",
       "      <td>1.0</td>\n",
       "      <td>2010-05-02</td>\n",
       "      <td>2012.0</td>\n",
       "    </tr>\n",
       "  </tbody>\n",
       "</table>\n",
       "<p>5 rows × 27 columns</p>\n",
       "</div>"
      ],
      "text/plain": [
       "                  user_id             business_id                     name  \\\n",
       "0  ---PLwSf5gKdIoVnyRHgBA  Y5CTA3S9TVkpr3Yvwaki-A            iPic Theaters   \n",
       "1  ---cu1hq55BP9DWVXXKHZg  EGzsR_Tyd0QOaZ6g7wPl-w  Filibertos Mexican Food   \n",
       "2  ---cu1hq55BP9DWVXXKHZg  eCJDiRPoSuA0bsb7F1gNUA               Asian Cafe   \n",
       "3  --2HUmLkcNHZp0xw6AMBPg  Hpi9raHlFm6prTSzFHTurg  Corleones Philly Steaks   \n",
       "4  --3WaS23LcIXtxyFULJHTA  ADgacmZ-qXrSOhMfU6bmTA                  5Church   \n",
       "\n",
       "                                          categories  \\\n",
       "0  [Bars, Arts & Entertainment, Nightlife, Cinema...   \n",
       "1                             [Mexican, Restaurants]   \n",
       "2  [Asian Fusion, Chinese, Restaurants, Fast Food...   \n",
       "3  [Chicken Wings, Sandwiches, Restaurants, Pizza...   \n",
       "4  [Food, Restaurants, American (New), Breakfast ...   \n",
       "\n",
       "                                          attributes  stars  review_count  \\\n",
       "0                              {'GoodForKids': True}    4.0           473   \n",
       "1  {'RestaurantsTableService': False, 'GoodForMea...    4.5            10   \n",
       "2  {'GoodForMeal': {'dessert': False, 'latenight'...    4.0            48   \n",
       "3  {'Alcohol': 'none', 'HasTV': True, 'NoiseLevel...    3.5           124   \n",
       "4  {'Alcohol': 'full_bar', 'HasTV': True, 'NoiseL...    3.5           507   \n",
       "\n",
       "         city state postal_code      ...        Cat_Flag  cool        date  \\\n",
       "0  Scottsdale    AZ       85254      ...               0   0.0  2016-06-12   \n",
       "1     Phoenix    AZ       85020      ...               0   0.0  2014-11-19   \n",
       "2     Phoenix    AZ       85023      ...               0   0.0  2014-11-20   \n",
       "3  Scottsdale    AZ       85260      ...               1   0.0  2016-07-29   \n",
       "4   Charlotte    NC       28202      ...               0   1.0  2016-02-08   \n",
       "\n",
       "   funny               review_id  user_stars  \\\n",
       "0    0.0  QXzgdKOdmrccxZ60Er7gig           3   \n",
       "1    0.0  C64IMmOZmJWiNdFe3ELklQ           4   \n",
       "2    0.0  O0frjb1NA2AD5VnHNWVpcg           1   \n",
       "3    0.0  PX83ZIZisbi6IFN9Guk9ZQ           5   \n",
       "4    0.0  rsYI3LPC6a7JhjjDYNCTKw           3   \n",
       "\n",
       "                                          review_txt  useful  yelping_since  \\\n",
       "0  I love iPic in that I don't like crowds and I ...     0.0     2015-07-31   \n",
       "1  Went to this location on 11/19/2014. Its not t...     1.0     2009-04-18   \n",
       "2  Somehow 11111 N 7th Street is \"too far for us....     0.0     2009-04-18   \n",
       "3  Great team! Love this place.  I have come in r...     0.0     2016-07-28   \n",
       "4  We stopped in here for drinks and appetizers o...     1.0     2010-05-02   \n",
       "\n",
       "  first_yr_elite  \n",
       "0        99999.0  \n",
       "1        99999.0  \n",
       "2        99999.0  \n",
       "3        99999.0  \n",
       "4         2012.0  \n",
       "\n",
       "[5 rows x 27 columns]"
      ]
     },
     "execution_count": 48,
     "metadata": {},
     "output_type": "execute_result"
    }
   ],
   "source": [
    "bus_review_elite.head()"
   ]
  },
  {
   "cell_type": "code",
   "execution_count": null,
   "metadata": {
    "collapsed": true
   },
   "outputs": [],
   "source": []
  },
  {
   "cell_type": "markdown",
   "metadata": {},
   "source": [
    "#### convert to date and create categorical vars"
   ]
  },
  {
   "cell_type": "code",
   "execution_count": 49,
   "metadata": {
    "ExecuteTime": {
     "end_time": "2017-11-05T15:21:03.906759Z",
     "start_time": "2017-11-05T15:21:03.095794Z"
    },
    "collapsed": true
   },
   "outputs": [],
   "source": [
    "# convert to date\n",
    "bus_review_elite.date = pd.to_datetime(bus_review_elite.date, format=\"%Y/%m/%d\")\n",
    "\n",
    "# convert some vars to category\n",
    "for col in ['city', 'state', 'postal_code', 'stars']:\n",
    "    bus_review_elite[col] = bus_review_elite[col].astype('category')\n"
   ]
  },
  {
   "cell_type": "code",
   "execution_count": 50,
   "metadata": {
    "ExecuteTime": {
     "end_time": "2017-11-05T15:21:05.531457Z",
     "start_time": "2017-11-05T15:21:05.445076Z"
    },
    "collapsed": true,
    "scrolled": true
   },
   "outputs": [],
   "source": [
    "bus_review_elite['elite_prior'] = (bus_review_elite['first_yr_elite'] <= bus_review_elite['date'].dt.year).astype(int)\n"
   ]
  },
  {
   "cell_type": "code",
   "execution_count": null,
   "metadata": {
    "collapsed": true
   },
   "outputs": [],
   "source": []
  },
  {
   "cell_type": "code",
   "execution_count": null,
   "metadata": {
    "collapsed": true
   },
   "outputs": [],
   "source": []
  },
  {
   "cell_type": "code",
   "execution_count": 51,
   "metadata": {
    "ExecuteTime": {
     "end_time": "2017-11-05T15:21:15.402577Z",
     "start_time": "2017-11-05T15:21:13.584527Z"
    },
    "scrolled": true
   },
   "outputs": [
    {
     "name": "stdout",
     "output_type": "stream",
     "text": [
      "<class 'pandas.core.frame.DataFrame'>\n",
      "RangeIndex: 750350 entries, 0 to 750349\n",
      "Data columns (total 28 columns):\n",
      "user_id           750124 non-null object\n",
      "business_id       750350 non-null object\n",
      "name              750350 non-null object\n",
      "categories        750350 non-null object\n",
      "attributes        750350 non-null object\n",
      "stars             750350 non-null category\n",
      "review_count      750350 non-null int64\n",
      "city              750350 non-null category\n",
      "state             750350 non-null category\n",
      "postal_code       750350 non-null category\n",
      "latitude          750350 non-null float64\n",
      "longitude         750350 non-null float64\n",
      "categories2       750350 non-null object\n",
      "name_cnt          750350 non-null int64\n",
      "Sushi             750350 non-null int64\n",
      "Pizza             750350 non-null int64\n",
      "Restaurants       750350 non-null int64\n",
      "Cat_Flag          750350 non-null int64\n",
      "cool              750124 non-null float64\n",
      "date              750124 non-null datetime64[ns]\n",
      "funny             750124 non-null float64\n",
      "review_id         750124 non-null object\n",
      "user_stars        750124 non-null category\n",
      "review_txt        750124 non-null object\n",
      "useful            750124 non-null float64\n",
      "yelping_since     750124 non-null object\n",
      "first_yr_elite    750124 non-null float64\n",
      "elite_prior       750350 non-null int64\n",
      "dtypes: category(5), datetime64[ns](1), float64(6), int64(7), object(9)\n",
      "memory usage: 136.1+ MB\n"
     ]
    }
   ],
   "source": [
    "bus_review_elite.info()"
   ]
  },
  {
   "cell_type": "markdown",
   "metadata": {},
   "source": [
    "#### pickle bus + review (big) file"
   ]
  },
  {
   "cell_type": "code",
   "execution_count": 52,
   "metadata": {
    "ExecuteTime": {
     "end_time": "2017-11-05T15:21:32.537984Z",
     "start_time": "2017-11-05T15:21:17.805126Z"
    },
    "collapsed": true
   },
   "outputs": [],
   "source": [
    "bus_review_elite.to_pickle('data/bus_review_elite.pkl')"
   ]
  },
  {
   "cell_type": "code",
   "execution_count": 53,
   "metadata": {
    "ExecuteTime": {
     "end_time": "2017-11-05T15:21:32.558980Z",
     "start_time": "2017-11-05T15:21:32.546028Z"
    }
   },
   "outputs": [
    {
     "data": {
      "text/plain": [
       "(750350, 28)"
      ]
     },
     "execution_count": 53,
     "metadata": {},
     "output_type": "execute_result"
    }
   ],
   "source": [
    "bus_review_elite.shape"
   ]
  },
  {
   "cell_type": "code",
   "execution_count": 54,
   "metadata": {
    "ExecuteTime": {
     "end_time": "2017-11-05T15:21:39.464948Z",
     "start_time": "2017-11-05T15:21:39.382319Z"
    }
   },
   "outputs": [
    {
     "data": {
      "text/html": [
       "<div>\n",
       "<style>\n",
       "    .dataframe thead tr:only-child th {\n",
       "        text-align: right;\n",
       "    }\n",
       "\n",
       "    .dataframe thead th {\n",
       "        text-align: left;\n",
       "    }\n",
       "\n",
       "    .dataframe tbody tr th {\n",
       "        vertical-align: top;\n",
       "    }\n",
       "</style>\n",
       "<table border=\"1\" class=\"dataframe\">\n",
       "  <thead>\n",
       "    <tr style=\"text-align: right;\">\n",
       "      <th></th>\n",
       "      <th>user_id</th>\n",
       "      <th>business_id</th>\n",
       "      <th>name</th>\n",
       "      <th>categories</th>\n",
       "      <th>attributes</th>\n",
       "      <th>stars</th>\n",
       "      <th>review_count</th>\n",
       "      <th>city</th>\n",
       "      <th>state</th>\n",
       "      <th>postal_code</th>\n",
       "      <th>...</th>\n",
       "      <th>cool</th>\n",
       "      <th>date</th>\n",
       "      <th>funny</th>\n",
       "      <th>review_id</th>\n",
       "      <th>user_stars</th>\n",
       "      <th>review_txt</th>\n",
       "      <th>useful</th>\n",
       "      <th>yelping_since</th>\n",
       "      <th>first_yr_elite</th>\n",
       "      <th>elite_prior</th>\n",
       "    </tr>\n",
       "  </thead>\n",
       "  <tbody>\n",
       "    <tr>\n",
       "      <th>0</th>\n",
       "      <td>---PLwSf5gKdIoVnyRHgBA</td>\n",
       "      <td>Y5CTA3S9TVkpr3Yvwaki-A</td>\n",
       "      <td>iPic Theaters</td>\n",
       "      <td>[Bars, Arts &amp; Entertainment, Nightlife, Cinema...</td>\n",
       "      <td>{'GoodForKids': True}</td>\n",
       "      <td>4.0</td>\n",
       "      <td>473</td>\n",
       "      <td>Scottsdale</td>\n",
       "      <td>AZ</td>\n",
       "      <td>85254</td>\n",
       "      <td>...</td>\n",
       "      <td>0.0</td>\n",
       "      <td>2016-06-12</td>\n",
       "      <td>0.0</td>\n",
       "      <td>QXzgdKOdmrccxZ60Er7gig</td>\n",
       "      <td>3</td>\n",
       "      <td>I love iPic in that I don't like crowds and I ...</td>\n",
       "      <td>0.0</td>\n",
       "      <td>2015-07-31</td>\n",
       "      <td>99999.0</td>\n",
       "      <td>0</td>\n",
       "    </tr>\n",
       "    <tr>\n",
       "      <th>1</th>\n",
       "      <td>---cu1hq55BP9DWVXXKHZg</td>\n",
       "      <td>EGzsR_Tyd0QOaZ6g7wPl-w</td>\n",
       "      <td>Filibertos Mexican Food</td>\n",
       "      <td>[Mexican, Restaurants]</td>\n",
       "      <td>{'RestaurantsTableService': False, 'GoodForMea...</td>\n",
       "      <td>4.5</td>\n",
       "      <td>10</td>\n",
       "      <td>Phoenix</td>\n",
       "      <td>AZ</td>\n",
       "      <td>85020</td>\n",
       "      <td>...</td>\n",
       "      <td>0.0</td>\n",
       "      <td>2014-11-19</td>\n",
       "      <td>0.0</td>\n",
       "      <td>C64IMmOZmJWiNdFe3ELklQ</td>\n",
       "      <td>4</td>\n",
       "      <td>Went to this location on 11/19/2014. Its not t...</td>\n",
       "      <td>1.0</td>\n",
       "      <td>2009-04-18</td>\n",
       "      <td>99999.0</td>\n",
       "      <td>0</td>\n",
       "    </tr>\n",
       "    <tr>\n",
       "      <th>2</th>\n",
       "      <td>---cu1hq55BP9DWVXXKHZg</td>\n",
       "      <td>eCJDiRPoSuA0bsb7F1gNUA</td>\n",
       "      <td>Asian Cafe</td>\n",
       "      <td>[Asian Fusion, Chinese, Restaurants, Fast Food...</td>\n",
       "      <td>{'GoodForMeal': {'dessert': False, 'latenight'...</td>\n",
       "      <td>4.0</td>\n",
       "      <td>48</td>\n",
       "      <td>Phoenix</td>\n",
       "      <td>AZ</td>\n",
       "      <td>85023</td>\n",
       "      <td>...</td>\n",
       "      <td>0.0</td>\n",
       "      <td>2014-11-20</td>\n",
       "      <td>0.0</td>\n",
       "      <td>O0frjb1NA2AD5VnHNWVpcg</td>\n",
       "      <td>1</td>\n",
       "      <td>Somehow 11111 N 7th Street is \"too far for us....</td>\n",
       "      <td>0.0</td>\n",
       "      <td>2009-04-18</td>\n",
       "      <td>99999.0</td>\n",
       "      <td>0</td>\n",
       "    </tr>\n",
       "    <tr>\n",
       "      <th>3</th>\n",
       "      <td>--2HUmLkcNHZp0xw6AMBPg</td>\n",
       "      <td>Hpi9raHlFm6prTSzFHTurg</td>\n",
       "      <td>Corleones Philly Steaks</td>\n",
       "      <td>[Chicken Wings, Sandwiches, Restaurants, Pizza...</td>\n",
       "      <td>{'Alcohol': 'none', 'HasTV': True, 'NoiseLevel...</td>\n",
       "      <td>3.5</td>\n",
       "      <td>124</td>\n",
       "      <td>Scottsdale</td>\n",
       "      <td>AZ</td>\n",
       "      <td>85260</td>\n",
       "      <td>...</td>\n",
       "      <td>0.0</td>\n",
       "      <td>2016-07-29</td>\n",
       "      <td>0.0</td>\n",
       "      <td>PX83ZIZisbi6IFN9Guk9ZQ</td>\n",
       "      <td>5</td>\n",
       "      <td>Great team! Love this place.  I have come in r...</td>\n",
       "      <td>0.0</td>\n",
       "      <td>2016-07-28</td>\n",
       "      <td>99999.0</td>\n",
       "      <td>0</td>\n",
       "    </tr>\n",
       "    <tr>\n",
       "      <th>4</th>\n",
       "      <td>--3WaS23LcIXtxyFULJHTA</td>\n",
       "      <td>ADgacmZ-qXrSOhMfU6bmTA</td>\n",
       "      <td>5Church</td>\n",
       "      <td>[Food, Restaurants, American (New), Breakfast ...</td>\n",
       "      <td>{'Alcohol': 'full_bar', 'HasTV': True, 'NoiseL...</td>\n",
       "      <td>3.5</td>\n",
       "      <td>507</td>\n",
       "      <td>Charlotte</td>\n",
       "      <td>NC</td>\n",
       "      <td>28202</td>\n",
       "      <td>...</td>\n",
       "      <td>1.0</td>\n",
       "      <td>2016-02-08</td>\n",
       "      <td>0.0</td>\n",
       "      <td>rsYI3LPC6a7JhjjDYNCTKw</td>\n",
       "      <td>3</td>\n",
       "      <td>We stopped in here for drinks and appetizers o...</td>\n",
       "      <td>1.0</td>\n",
       "      <td>2010-05-02</td>\n",
       "      <td>2012.0</td>\n",
       "      <td>1</td>\n",
       "    </tr>\n",
       "  </tbody>\n",
       "</table>\n",
       "<p>5 rows × 28 columns</p>\n",
       "</div>"
      ],
      "text/plain": [
       "                  user_id             business_id                     name  \\\n",
       "0  ---PLwSf5gKdIoVnyRHgBA  Y5CTA3S9TVkpr3Yvwaki-A            iPic Theaters   \n",
       "1  ---cu1hq55BP9DWVXXKHZg  EGzsR_Tyd0QOaZ6g7wPl-w  Filibertos Mexican Food   \n",
       "2  ---cu1hq55BP9DWVXXKHZg  eCJDiRPoSuA0bsb7F1gNUA               Asian Cafe   \n",
       "3  --2HUmLkcNHZp0xw6AMBPg  Hpi9raHlFm6prTSzFHTurg  Corleones Philly Steaks   \n",
       "4  --3WaS23LcIXtxyFULJHTA  ADgacmZ-qXrSOhMfU6bmTA                  5Church   \n",
       "\n",
       "                                          categories  \\\n",
       "0  [Bars, Arts & Entertainment, Nightlife, Cinema...   \n",
       "1                             [Mexican, Restaurants]   \n",
       "2  [Asian Fusion, Chinese, Restaurants, Fast Food...   \n",
       "3  [Chicken Wings, Sandwiches, Restaurants, Pizza...   \n",
       "4  [Food, Restaurants, American (New), Breakfast ...   \n",
       "\n",
       "                                          attributes stars  review_count  \\\n",
       "0                              {'GoodForKids': True}   4.0           473   \n",
       "1  {'RestaurantsTableService': False, 'GoodForMea...   4.5            10   \n",
       "2  {'GoodForMeal': {'dessert': False, 'latenight'...   4.0            48   \n",
       "3  {'Alcohol': 'none', 'HasTV': True, 'NoiseLevel...   3.5           124   \n",
       "4  {'Alcohol': 'full_bar', 'HasTV': True, 'NoiseL...   3.5           507   \n",
       "\n",
       "         city state postal_code     ...      cool       date funny  \\\n",
       "0  Scottsdale    AZ       85254     ...       0.0 2016-06-12   0.0   \n",
       "1     Phoenix    AZ       85020     ...       0.0 2014-11-19   0.0   \n",
       "2     Phoenix    AZ       85023     ...       0.0 2014-11-20   0.0   \n",
       "3  Scottsdale    AZ       85260     ...       0.0 2016-07-29   0.0   \n",
       "4   Charlotte    NC       28202     ...       1.0 2016-02-08   0.0   \n",
       "\n",
       "                review_id  user_stars  \\\n",
       "0  QXzgdKOdmrccxZ60Er7gig           3   \n",
       "1  C64IMmOZmJWiNdFe3ELklQ           4   \n",
       "2  O0frjb1NA2AD5VnHNWVpcg           1   \n",
       "3  PX83ZIZisbi6IFN9Guk9ZQ           5   \n",
       "4  rsYI3LPC6a7JhjjDYNCTKw           3   \n",
       "\n",
       "                                          review_txt  useful  yelping_since  \\\n",
       "0  I love iPic in that I don't like crowds and I ...     0.0     2015-07-31   \n",
       "1  Went to this location on 11/19/2014. Its not t...     1.0     2009-04-18   \n",
       "2  Somehow 11111 N 7th Street is \"too far for us....     0.0     2009-04-18   \n",
       "3  Great team! Love this place.  I have come in r...     0.0     2016-07-28   \n",
       "4  We stopped in here for drinks and appetizers o...     1.0     2010-05-02   \n",
       "\n",
       "   first_yr_elite elite_prior  \n",
       "0         99999.0           0  \n",
       "1         99999.0           0  \n",
       "2         99999.0           0  \n",
       "3         99999.0           0  \n",
       "4          2012.0           1  \n",
       "\n",
       "[5 rows x 28 columns]"
      ]
     },
     "execution_count": 54,
     "metadata": {},
     "output_type": "execute_result"
    }
   ],
   "source": [
    "bus_review_elite.head()"
   ]
  },
  {
   "cell_type": "code",
   "execution_count": 55,
   "metadata": {
    "ExecuteTime": {
     "end_time": "2017-11-05T15:21:40.378355Z",
     "start_time": "2017-11-05T15:21:40.172252Z"
    }
   },
   "outputs": [
    {
     "data": {
      "text/plain": [
       "Phoenix       258718\n",
       "Toronto       230906\n",
       "Scottsdale    142844\n",
       "Charlotte     117882\n",
       "Name: city, dtype: int64"
      ]
     },
     "execution_count": 55,
     "metadata": {},
     "output_type": "execute_result"
    }
   ],
   "source": [
    "bus_review.city.value_counts()"
   ]
  },
  {
   "cell_type": "code",
   "execution_count": 4,
   "metadata": {
    "ExecuteTime": {
     "end_time": "2017-11-08T00:16:24.470097Z",
     "start_time": "2017-11-08T00:16:20.195679Z"
    },
    "collapsed": true
   },
   "outputs": [],
   "source": [
    "bus_review_elite = np.load('data/bus_review_elite.pkl')"
   ]
  },
  {
   "cell_type": "markdown",
   "metadata": {},
   "source": [
    "### Compute User Review Count"
   ]
  },
  {
   "cell_type": "code",
   "execution_count": 12,
   "metadata": {
    "ExecuteTime": {
     "end_time": "2017-11-08T00:21:05.742644Z",
     "start_time": "2017-11-08T00:21:04.494518Z"
    },
    "collapsed": true
   },
   "outputs": [],
   "source": [
    "user_rvw_cnt = bus_review_elite.groupby('user_id').count().reset_index()[['user_id', 'state']]"
   ]
  },
  {
   "cell_type": "code",
   "execution_count": 14,
   "metadata": {
    "ExecuteTime": {
     "end_time": "2017-11-08T00:21:40.409259Z",
     "start_time": "2017-11-08T00:21:40.342887Z"
    }
   },
   "outputs": [
    {
     "data": {
      "text/html": [
       "<div>\n",
       "<style>\n",
       "    .dataframe thead tr:only-child th {\n",
       "        text-align: right;\n",
       "    }\n",
       "\n",
       "    .dataframe thead th {\n",
       "        text-align: left;\n",
       "    }\n",
       "\n",
       "    .dataframe tbody tr th {\n",
       "        vertical-align: top;\n",
       "    }\n",
       "</style>\n",
       "<table border=\"1\" class=\"dataframe\">\n",
       "  <thead>\n",
       "    <tr style=\"text-align: right;\">\n",
       "      <th></th>\n",
       "      <th>user_id</th>\n",
       "      <th>user_rvw_cnt</th>\n",
       "    </tr>\n",
       "  </thead>\n",
       "  <tbody>\n",
       "    <tr>\n",
       "      <th>0</th>\n",
       "      <td>---PLwSf5gKdIoVnyRHgBA</td>\n",
       "      <td>1</td>\n",
       "    </tr>\n",
       "    <tr>\n",
       "      <th>1</th>\n",
       "      <td>---cu1hq55BP9DWVXXKHZg</td>\n",
       "      <td>2</td>\n",
       "    </tr>\n",
       "    <tr>\n",
       "      <th>2</th>\n",
       "      <td>--2HUmLkcNHZp0xw6AMBPg</td>\n",
       "      <td>1</td>\n",
       "    </tr>\n",
       "    <tr>\n",
       "      <th>3</th>\n",
       "      <td>--3WaS23LcIXtxyFULJHTA</td>\n",
       "      <td>7</td>\n",
       "    </tr>\n",
       "    <tr>\n",
       "      <th>4</th>\n",
       "      <td>--41c9Tl0C9OGewIR7Qyzg</td>\n",
       "      <td>1</td>\n",
       "    </tr>\n",
       "  </tbody>\n",
       "</table>\n",
       "</div>"
      ],
      "text/plain": [
       "                  user_id  user_rvw_cnt\n",
       "0  ---PLwSf5gKdIoVnyRHgBA             1\n",
       "1  ---cu1hq55BP9DWVXXKHZg             2\n",
       "2  --2HUmLkcNHZp0xw6AMBPg             1\n",
       "3  --3WaS23LcIXtxyFULJHTA             7\n",
       "4  --41c9Tl0C9OGewIR7Qyzg             1"
      ]
     },
     "execution_count": 14,
     "metadata": {},
     "output_type": "execute_result"
    }
   ],
   "source": [
    "user_rvw_cnt.columns = ['user_id', 'user_rvw_cnt']\n",
    "user_rvw_cnt.head()\n",
    "# [['review_id', 'state']]"
   ]
  },
  {
   "cell_type": "code",
   "execution_count": 31,
   "metadata": {
    "ExecuteTime": {
     "end_time": "2017-11-08T00:28:44.537914Z",
     "start_time": "2017-11-08T00:28:44.424008Z"
    },
    "collapsed": true
   },
   "outputs": [
    {
     "data": {
      "text/plain": [
       "(0.304, 1.994]        127341\n",
       "(1.994, 2.989]         37512\n",
       "(2.989, 3.983]         17701\n",
       "(3.983, 4.977]         10333\n",
       "(4.977, 5.971]          6434\n",
       "(5.971, 6.966]          4664\n",
       "(6.966, 7.96]           3272\n",
       "(7.96, 8.954]           2532\n",
       "(8.954, 9.949]          1940\n",
       "(9.949, 10.943]         1524\n",
       "(10.943, 11.937]        1231\n",
       "(11.937, 12.931]        1000\n",
       "(12.931, 13.926]         849\n",
       "(13.926, 14.92]          732\n",
       "(14.92, 15.914]          641\n",
       "(15.914, 16.909]         551\n",
       "(16.909, 17.903]         478\n",
       "(18.897, 19.891]         406\n",
       "(17.903, 18.897]         397\n",
       "(19.891, 20.886]         351\n",
       "(20.886, 21.88]          293\n",
       "(21.88, 22.874]          248\n",
       "(22.874, 23.869]         241\n",
       "(23.869, 24.863]         214\n",
       "(24.863, 25.857]         187\n",
       "(26.851, 27.846]         182\n",
       "(25.857, 26.851]         181\n",
       "(27.846, 28.84]          135\n",
       "(30.829, 31.823]         135\n",
       "(28.84, 29.834]          130\n",
       "                       ...  \n",
       "(319.171, 320.166]         0\n",
       "(317.183, 318.177]         0\n",
       "(290.337, 291.331]         0\n",
       "(316.189, 317.183]         0\n",
       "(291.331, 292.326]         0\n",
       "(292.326, 293.32]          0\n",
       "(293.32, 294.314]          0\n",
       "(294.314, 295.309]         0\n",
       "(295.309, 296.303]         0\n",
       "(296.303, 297.297]         0\n",
       "(297.297, 298.291]         0\n",
       "(298.291, 299.286]         0\n",
       "(475.274, 476.269]         0\n",
       "(300.28, 301.274]          0\n",
       "(301.274, 302.269]         0\n",
       "(302.269, 303.263]         0\n",
       "(474.28, 475.274]          0\n",
       "(304.257, 305.251]         0\n",
       "(473.286, 474.28]          0\n",
       "(472.291, 473.286]         0\n",
       "(471.297, 472.291]         0\n",
       "(308.234, 309.229]         0\n",
       "(309.229, 310.223]         0\n",
       "(310.223, 311.217]         0\n",
       "(311.217, 312.211]         0\n",
       "(312.211, 313.206]         0\n",
       "(313.206, 314.2]           0\n",
       "(314.2, 315.194]           0\n",
       "(315.194, 316.189]         0\n",
       "(348.006, 349.0]           0\n",
       "Name: user_rvw_cnt, Length: 700, dtype: int64"
      ]
     },
     "execution_count": 31,
     "metadata": {},
     "output_type": "execute_result"
    }
   ],
   "source": [
    "pd.cut(user_rvw_cnt.user_rvw_cnt, 700).value_counts()"
   ]
  },
  {
   "cell_type": "code",
   "execution_count": 34,
   "metadata": {
    "ExecuteTime": {
     "end_time": "2017-11-08T00:30:28.731784Z",
     "start_time": "2017-11-08T00:30:28.721451Z"
    }
   },
   "outputs": [],
   "source": [
    "# Keep those that had 3 or more reviews\n",
    "user_rvw_cnt_mny = user_rvw_cnt[user_rvw_cnt['user_rvw_cnt'] >= 3]"
   ]
  },
  {
   "cell_type": "code",
   "execution_count": 35,
   "metadata": {
    "ExecuteTime": {
     "end_time": "2017-11-08T00:30:30.315251Z",
     "start_time": "2017-11-08T00:30:30.310365Z"
    }
   },
   "outputs": [
    {
     "name": "stdout",
     "output_type": "stream",
     "text": [
      "(224576, 2)\n",
      "(59723, 2)\n"
     ]
    }
   ],
   "source": [
    "print(user_rvw_cnt.shape)\n",
    "print(user_rvw_cnt_mny.shape)"
   ]
  },
  {
   "cell_type": "code",
   "execution_count": 36,
   "metadata": {
    "ExecuteTime": {
     "end_time": "2017-11-08T00:32:13.727791Z",
     "start_time": "2017-11-08T00:32:12.359588Z"
    }
   },
   "outputs": [
    {
     "data": {
      "text/plain": [
       "(750124, 29)"
      ]
     },
     "execution_count": 36,
     "metadata": {},
     "output_type": "execute_result"
    }
   ],
   "source": [
    "# This Df is at the review level\n",
    "user_rvw_cnt_mny_df = pd.merge(user_rvw_cnt, bus_review_elite, how='inner', left_on = 'user_id', right_on = 'user_id')\n",
    "user_rvw_cnt_mny_df.shape"
   ]
  },
  {
   "cell_type": "markdown",
   "metadata": {},
   "source": [
    "#### randomly subsample reviews"
   ]
  },
  {
   "cell_type": "code",
   "execution_count": 56,
   "metadata": {
    "ExecuteTime": {
     "end_time": "2017-11-05T15:21:50.987728Z",
     "start_time": "2017-11-05T15:21:50.582955Z"
    },
    "collapsed": true
   },
   "outputs": [],
   "source": [
    "bus_review_small = bus_review_elite.sample(n = 50000, random_state=50)\n",
    "bus_review_small.drop_duplicates(['review_id'], keep='first', inplace=True)"
   ]
  },
  {
   "cell_type": "code",
   "execution_count": 57,
   "metadata": {
    "ExecuteTime": {
     "end_time": "2017-11-05T15:21:54.180147Z",
     "start_time": "2017-11-05T15:21:53.586683Z"
    },
    "collapsed": true
   },
   "outputs": [],
   "source": [
    "bus_review_small.to_pickle('data/bus_review_small.pkl')"
   ]
  },
  {
   "cell_type": "code",
   "execution_count": 58,
   "metadata": {
    "ExecuteTime": {
     "end_time": "2017-11-05T15:21:55.741843Z",
     "start_time": "2017-11-05T15:21:55.701103Z"
    }
   },
   "outputs": [
    {
     "data": {
      "text/plain": [
       "173465    In retrospect, I should have known better than...\n",
       "Name: review_txt, dtype: object"
      ]
     },
     "execution_count": 58,
     "metadata": {},
     "output_type": "execute_result"
    }
   ],
   "source": [
    "bus_review.loc[bus_review['useful'] > 1000, 'review_txt']"
   ]
  },
  {
   "cell_type": "code",
   "execution_count": 52,
   "metadata": {
    "ExecuteTime": {
     "end_time": "2017-11-03T12:51:42.352793Z",
     "start_time": "2017-11-03T12:51:42.349551Z"
    },
    "collapsed": true
   },
   "outputs": [],
   "source": [
    "#bus_review.set_index('review_id', inplace=True)"
   ]
  },
  {
   "cell_type": "markdown",
   "metadata": {
    "collapsed": true
   },
   "source": [
    "#### Randomly subsample from those that had many reviews (3 or more)"
   ]
  },
  {
   "cell_type": "code",
   "execution_count": 37,
   "metadata": {
    "ExecuteTime": {
     "end_time": "2017-11-08T00:34:28.582114Z",
     "start_time": "2017-11-08T00:34:27.745692Z"
    },
    "collapsed": true
   },
   "outputs": [],
   "source": [
    "bus_review_small_mny = user_rvw_cnt_mny_df.sample(n = 50000, random_state=50)\n",
    "bus_review_small_mny.drop_duplicates(['review_id'], keep='first', inplace=True)"
   ]
  },
  {
   "cell_type": "code",
   "execution_count": 38,
   "metadata": {
    "ExecuteTime": {
     "end_time": "2017-11-08T00:34:33.041720Z",
     "start_time": "2017-11-08T00:34:32.582310Z"
    },
    "collapsed": true
   },
   "outputs": [],
   "source": [
    "bus_review_small_mny.to_pickle('data/bus_review_small_mny.pkl')"
   ]
  },
  {
   "cell_type": "code",
   "execution_count": 39,
   "metadata": {
    "ExecuteTime": {
     "end_time": "2017-11-08T00:34:44.924278Z",
     "start_time": "2017-11-08T00:34:44.918693Z"
    }
   },
   "outputs": [
    {
     "data": {
      "text/plain": [
       "Index(['user_id', 'user_rvw_cnt', 'business_id', 'name', 'categories',\n",
       "       'attributes', 'stars', 'review_count', 'city', 'state', 'postal_code',\n",
       "       'latitude', 'longitude', 'categories2', 'name_cnt', 'Sushi', 'Pizza',\n",
       "       'Restaurants', 'Cat_Flag', 'cool', 'date', 'funny', 'review_id',\n",
       "       'user_stars', 'review_txt', 'useful', 'yelping_since', 'first_yr_elite',\n",
       "       'elite_prior'],\n",
       "      dtype='object')"
      ]
     },
     "execution_count": 39,
     "metadata": {},
     "output_type": "execute_result"
    }
   ],
   "source": [
    "bus_review_small_mny.columns"
   ]
  },
  {
   "cell_type": "code",
   "execution_count": null,
   "metadata": {
    "collapsed": true
   },
   "outputs": [],
   "source": []
  },
  {
   "cell_type": "code",
   "execution_count": null,
   "metadata": {
    "collapsed": true
   },
   "outputs": [],
   "source": []
  },
  {
   "cell_type": "code",
   "execution_count": null,
   "metadata": {
    "collapsed": true
   },
   "outputs": [],
   "source": []
  },
  {
   "cell_type": "code",
   "execution_count": null,
   "metadata": {
    "collapsed": true
   },
   "outputs": [],
   "source": []
  },
  {
   "cell_type": "code",
   "execution_count": null,
   "metadata": {
    "collapsed": true
   },
   "outputs": [],
   "source": []
  },
  {
   "cell_type": "code",
   "execution_count": null,
   "metadata": {
    "collapsed": true
   },
   "outputs": [],
   "source": []
  },
  {
   "cell_type": "code",
   "execution_count": null,
   "metadata": {
    "collapsed": true
   },
   "outputs": [],
   "source": []
  },
  {
   "cell_type": "code",
   "execution_count": null,
   "metadata": {
    "collapsed": true
   },
   "outputs": [],
   "source": []
  },
  {
   "cell_type": "code",
   "execution_count": null,
   "metadata": {
    "collapsed": true
   },
   "outputs": [],
   "source": []
  },
  {
   "cell_type": "code",
   "execution_count": null,
   "metadata": {
    "collapsed": true
   },
   "outputs": [],
   "source": []
  },
  {
   "cell_type": "code",
   "execution_count": null,
   "metadata": {
    "collapsed": true
   },
   "outputs": [],
   "source": []
  },
  {
   "cell_type": "code",
   "execution_count": null,
   "metadata": {
    "collapsed": true
   },
   "outputs": [],
   "source": []
  },
  {
   "cell_type": "code",
   "execution_count": null,
   "metadata": {
    "collapsed": true
   },
   "outputs": [],
   "source": []
  },
  {
   "cell_type": "code",
   "execution_count": null,
   "metadata": {
    "collapsed": true
   },
   "outputs": [],
   "source": []
  },
  {
   "cell_type": "code",
   "execution_count": null,
   "metadata": {
    "collapsed": true
   },
   "outputs": [],
   "source": []
  },
  {
   "cell_type": "markdown",
   "metadata": {},
   "source": [
    "### Sentence Tokenize"
   ]
  },
  {
   "cell_type": "code",
   "execution_count": 5,
   "metadata": {
    "ExecuteTime": {
     "end_time": "2017-11-04T00:01:43.289570Z",
     "start_time": "2017-11-04T00:01:42.985469Z"
    },
    "collapsed": true
   },
   "outputs": [],
   "source": [
    "bus_review_small = np.load('data/bus_review_small.pkl')"
   ]
  },
  {
   "cell_type": "code",
   "execution_count": 292,
   "metadata": {
    "ExecuteTime": {
     "end_time": "2017-11-04T20:12:47.346789Z",
     "start_time": "2017-11-04T20:12:47.335419Z"
    },
    "scrolled": true
   },
   "outputs": [
    {
     "data": {
      "text/plain": [
       "544639    I was thrilled when I saw on twitter that anot...\n",
       "282611    went here on a break from Jury Duty once. it w...\n",
       "352137    Despite the reviews about slow waiting times w...\n",
       "463957    Food quality a 10. Had the pulled pork with ch...\n",
       "683036    Great drinks; spectacular sweet potato fries, ...\n",
       "626109    Out of the way place that serves fresh flavorf...\n",
       "246475    Came here with the husband for dinner and orde...\n",
       "542830    I was immediately greeted with friendly faces....\n",
       "653769    This place is so awesome that I literally can'...\n",
       "560460    As many of the reviewers, I heard about Over E...\n",
       "Name: review_txt, dtype: object"
      ]
     },
     "execution_count": 292,
     "metadata": {},
     "output_type": "execute_result"
    }
   ],
   "source": [
    "bus_review_small.iloc[:10,:]['review_txt']"
   ]
  },
  {
   "cell_type": "code",
   "execution_count": 293,
   "metadata": {
    "ExecuteTime": {
     "end_time": "2017-11-04T20:12:50.173995Z",
     "start_time": "2017-11-04T20:12:50.156849Z"
    },
    "collapsed": true
   },
   "outputs": [],
   "source": [
    "def custom_tokenize(text):\n",
    "    try:\n",
    "        return sent_tokenize(text)\n",
    "    except:\n",
    "        return ''\n"
   ]
  },
  {
   "cell_type": "code",
   "execution_count": 294,
   "metadata": {
    "ExecuteTime": {
     "end_time": "2017-11-04T20:12:51.543718Z",
     "start_time": "2017-11-04T20:12:51.539118Z"
    }
   },
   "outputs": [
    {
     "data": {
      "text/plain": [
       "(50000, 28)"
      ]
     },
     "execution_count": 294,
     "metadata": {},
     "output_type": "execute_result"
    }
   ],
   "source": [
    "bus_review_small.shape"
   ]
  },
  {
   "cell_type": "code",
   "execution_count": 295,
   "metadata": {
    "ExecuteTime": {
     "end_time": "2017-11-04T20:13:13.373522Z",
     "start_time": "2017-11-04T20:12:55.573147Z"
    },
    "collapsed": true
   },
   "outputs": [],
   "source": [
    "bus_review_small['sent_token'] = bus_review_small['review_txt'].apply(custom_tokenize) "
   ]
  },
  {
   "cell_type": "code",
   "execution_count": null,
   "metadata": {
    "collapsed": true
   },
   "outputs": [],
   "source": []
  },
  {
   "cell_type": "code",
   "execution_count": 9,
   "metadata": {
    "ExecuteTime": {
     "end_time": "2017-11-04T00:02:03.837306Z",
     "start_time": "2017-11-04T00:02:03.784989Z"
    }
   },
   "outputs": [
    {
     "data": {
      "text/html": [
       "<div>\n",
       "<style>\n",
       "    .dataframe thead tr:only-child th {\n",
       "        text-align: right;\n",
       "    }\n",
       "\n",
       "    .dataframe thead th {\n",
       "        text-align: left;\n",
       "    }\n",
       "\n",
       "    .dataframe tbody tr th {\n",
       "        vertical-align: top;\n",
       "    }\n",
       "</style>\n",
       "<table border=\"1\" class=\"dataframe\">\n",
       "  <thead>\n",
       "    <tr style=\"text-align: right;\">\n",
       "      <th></th>\n",
       "      <th>business_id</th>\n",
       "      <th>name</th>\n",
       "      <th>categories</th>\n",
       "      <th>attributes</th>\n",
       "      <th>stars</th>\n",
       "      <th>review_count</th>\n",
       "      <th>city</th>\n",
       "      <th>state</th>\n",
       "      <th>postal_code</th>\n",
       "      <th>latitude</th>\n",
       "      <th>...</th>\n",
       "      <th>Cat_Flag</th>\n",
       "      <th>cool</th>\n",
       "      <th>date</th>\n",
       "      <th>funny</th>\n",
       "      <th>review_id</th>\n",
       "      <th>user_stars</th>\n",
       "      <th>review_txt</th>\n",
       "      <th>useful</th>\n",
       "      <th>user_id</th>\n",
       "      <th>sent_token</th>\n",
       "    </tr>\n",
       "  </thead>\n",
       "  <tbody>\n",
       "    <tr>\n",
       "      <th>544639</th>\n",
       "      <td>iGEvDk6hsizigmXhDKs2Vg</td>\n",
       "      <td>Seven Lives Tacos Y Mariscos</td>\n",
       "      <td>[Restaurants, Mexican, Seafood]</td>\n",
       "      <td>{'RestaurantsTableService': False, 'GoodForMea...</td>\n",
       "      <td>4.5</td>\n",
       "      <td>838</td>\n",
       "      <td>Toronto</td>\n",
       "      <td>ON</td>\n",
       "      <td>M5T 2K2</td>\n",
       "      <td>43.654341</td>\n",
       "      <td>...</td>\n",
       "      <td>0</td>\n",
       "      <td>0.0</td>\n",
       "      <td>2016-02-12</td>\n",
       "      <td>0.0</td>\n",
       "      <td>i-QGnPlonj9KGSgfSKSL-A</td>\n",
       "      <td>5</td>\n",
       "      <td>The best seafood tacos in the city. A little p...</td>\n",
       "      <td>0.0</td>\n",
       "      <td>Lk7gBKmQ9qQnEioIhB0-yQ</td>\n",
       "      <td>[The best seafood tacos in the city., A little...</td>\n",
       "    </tr>\n",
       "    <tr>\n",
       "      <th>282611</th>\n",
       "      <td>NFm869_w6cvVaWaNpAzjeA</td>\n",
       "      <td>Soul Gastrolounge</td>\n",
       "      <td>[Nightlife, Tapas Bars, Lounges, Restaurants, ...</td>\n",
       "      <td>{'Alcohol': 'full_bar', 'HasTV': False, 'Noise...</td>\n",
       "      <td>4.0</td>\n",
       "      <td>764</td>\n",
       "      <td>Charlotte</td>\n",
       "      <td>NC</td>\n",
       "      <td>28205</td>\n",
       "      <td>35.220214</td>\n",
       "      <td>...</td>\n",
       "      <td>0</td>\n",
       "      <td>0.0</td>\n",
       "      <td>2014-03-27</td>\n",
       "      <td>0.0</td>\n",
       "      <td>2yDbp3hxbDyOuQV-bIRN6w</td>\n",
       "      <td>5</td>\n",
       "      <td>This place is so much fun to go to!!!  I am in...</td>\n",
       "      <td>0.0</td>\n",
       "      <td>zGD1LkmZLX2FrVbj0iTtzA</td>\n",
       "      <td>[This place is so much fun to go to!!!, I am i...</td>\n",
       "    </tr>\n",
       "    <tr>\n",
       "      <th>352137</th>\n",
       "      <td>T6ha3lAVg7mjr6GTnH9V-A</td>\n",
       "      <td>Pojangmacha Food</td>\n",
       "      <td>[Food Stands, Restaurants, Korean, Fast Food]</td>\n",
       "      <td>{'RestaurantsTableService': False, 'GoodForMea...</td>\n",
       "      <td>4.0</td>\n",
       "      <td>74</td>\n",
       "      <td>Toronto</td>\n",
       "      <td>ON</td>\n",
       "      <td>M2N 5S2</td>\n",
       "      <td>43.779100</td>\n",
       "      <td>...</td>\n",
       "      <td>0</td>\n",
       "      <td>0.0</td>\n",
       "      <td>2012-01-21</td>\n",
       "      <td>0.0</td>\n",
       "      <td>Y_-GZJTe99tVrVhL1St9vA</td>\n",
       "      <td>4</td>\n",
       "      <td>One of the fave street food for people in Nort...</td>\n",
       "      <td>0.0</td>\n",
       "      <td>Upq-i76O879cJIb6DbrpiA</td>\n",
       "      <td>[One of the fave street food for people in Nor...</td>\n",
       "    </tr>\n",
       "    <tr>\n",
       "      <th>463957</th>\n",
       "      <td>b_8jCti0vuouJ_fjZpdmZw</td>\n",
       "      <td>Soul Cafe</td>\n",
       "      <td>[Breakfast &amp; Brunch, Music Venues, Nightlife, ...</td>\n",
       "      <td>{'Alcohol': 'full_bar', 'HasTV': True, 'NoiseL...</td>\n",
       "      <td>4.0</td>\n",
       "      <td>315</td>\n",
       "      <td>Scottsdale</td>\n",
       "      <td>AZ</td>\n",
       "      <td>85255</td>\n",
       "      <td>33.698164</td>\n",
       "      <td>...</td>\n",
       "      <td>0</td>\n",
       "      <td>0.0</td>\n",
       "      <td>2015-11-02</td>\n",
       "      <td>0.0</td>\n",
       "      <td>azZ1NH_Wy7hTQOjevs7TcA</td>\n",
       "      <td>5</td>\n",
       "      <td>We brought our friends from New Jersey here fo...</td>\n",
       "      <td>0.0</td>\n",
       "      <td>tNj_oJiHZPSInVFOGnRyFg</td>\n",
       "      <td>[We brought our friends from New Jersey here f...</td>\n",
       "    </tr>\n",
       "    <tr>\n",
       "      <th>683036</th>\n",
       "      <td>u6xb2aUAvX6i1WhsQWqgWg</td>\n",
       "      <td>Lo-Lo's Chicken &amp; Waffles</td>\n",
       "      <td>[Breakfast &amp; Brunch, Southern, Soul Food, Rest...</td>\n",
       "      <td>{'RestaurantsTableService': True, 'GoodForMeal...</td>\n",
       "      <td>4.0</td>\n",
       "      <td>620</td>\n",
       "      <td>Scottsdale</td>\n",
       "      <td>AZ</td>\n",
       "      <td>85257</td>\n",
       "      <td>33.478732</td>\n",
       "      <td>...</td>\n",
       "      <td>0</td>\n",
       "      <td>1.0</td>\n",
       "      <td>2012-08-11</td>\n",
       "      <td>0.0</td>\n",
       "      <td>aFA-jzA3pHz0JXK_ZpN0eQ</td>\n",
       "      <td>4</td>\n",
       "      <td>Oh thank you, crispy waffles and chicken... Se...</td>\n",
       "      <td>0.0</td>\n",
       "      <td>CZLCeIDYQiGJSquzg73jMQ</td>\n",
       "      <td>[Oh thank you, crispy waffles and chicken... S...</td>\n",
       "    </tr>\n",
       "  </tbody>\n",
       "</table>\n",
       "<p>5 rows × 26 columns</p>\n",
       "</div>"
      ],
      "text/plain": [
       "                   business_id                          name  \\\n",
       "544639  iGEvDk6hsizigmXhDKs2Vg  Seven Lives Tacos Y Mariscos   \n",
       "282611  NFm869_w6cvVaWaNpAzjeA             Soul Gastrolounge   \n",
       "352137  T6ha3lAVg7mjr6GTnH9V-A              Pojangmacha Food   \n",
       "463957  b_8jCti0vuouJ_fjZpdmZw                     Soul Cafe   \n",
       "683036  u6xb2aUAvX6i1WhsQWqgWg     Lo-Lo's Chicken & Waffles   \n",
       "\n",
       "                                               categories  \\\n",
       "544639                    [Restaurants, Mexican, Seafood]   \n",
       "282611  [Nightlife, Tapas Bars, Lounges, Restaurants, ...   \n",
       "352137      [Food Stands, Restaurants, Korean, Fast Food]   \n",
       "463957  [Breakfast & Brunch, Music Venues, Nightlife, ...   \n",
       "683036  [Breakfast & Brunch, Southern, Soul Food, Rest...   \n",
       "\n",
       "                                               attributes stars  review_count  \\\n",
       "544639  {'RestaurantsTableService': False, 'GoodForMea...   4.5           838   \n",
       "282611  {'Alcohol': 'full_bar', 'HasTV': False, 'Noise...   4.0           764   \n",
       "352137  {'RestaurantsTableService': False, 'GoodForMea...   4.0            74   \n",
       "463957  {'Alcohol': 'full_bar', 'HasTV': True, 'NoiseL...   4.0           315   \n",
       "683036  {'RestaurantsTableService': True, 'GoodForMeal...   4.0           620   \n",
       "\n",
       "              city state postal_code   latitude  \\\n",
       "544639     Toronto    ON     M5T 2K2  43.654341   \n",
       "282611   Charlotte    NC       28205  35.220214   \n",
       "352137     Toronto    ON     M2N 5S2  43.779100   \n",
       "463957  Scottsdale    AZ       85255  33.698164   \n",
       "683036  Scottsdale    AZ       85257  33.478732   \n",
       "\n",
       "                              ...                          Cat_Flag cool  \\\n",
       "544639                        ...                                 0  0.0   \n",
       "282611                        ...                                 0  0.0   \n",
       "352137                        ...                                 0  0.0   \n",
       "463957                        ...                                 0  0.0   \n",
       "683036                        ...                                 0  1.0   \n",
       "\n",
       "             date  funny               review_id  user_stars  \\\n",
       "544639 2016-02-12    0.0  i-QGnPlonj9KGSgfSKSL-A           5   \n",
       "282611 2014-03-27    0.0  2yDbp3hxbDyOuQV-bIRN6w           5   \n",
       "352137 2012-01-21    0.0  Y_-GZJTe99tVrVhL1St9vA           4   \n",
       "463957 2015-11-02    0.0  azZ1NH_Wy7hTQOjevs7TcA           5   \n",
       "683036 2012-08-11    0.0  aFA-jzA3pHz0JXK_ZpN0eQ           4   \n",
       "\n",
       "                                               review_txt  useful  \\\n",
       "544639  The best seafood tacos in the city. A little p...     0.0   \n",
       "282611  This place is so much fun to go to!!!  I am in...     0.0   \n",
       "352137  One of the fave street food for people in Nort...     0.0   \n",
       "463957  We brought our friends from New Jersey here fo...     0.0   \n",
       "683036  Oh thank you, crispy waffles and chicken... Se...     0.0   \n",
       "\n",
       "                       user_id  \\\n",
       "544639  Lk7gBKmQ9qQnEioIhB0-yQ   \n",
       "282611  zGD1LkmZLX2FrVbj0iTtzA   \n",
       "352137  Upq-i76O879cJIb6DbrpiA   \n",
       "463957  tNj_oJiHZPSInVFOGnRyFg   \n",
       "683036  CZLCeIDYQiGJSquzg73jMQ   \n",
       "\n",
       "                                               sent_token  \n",
       "544639  [The best seafood tacos in the city., A little...  \n",
       "282611  [This place is so much fun to go to!!!, I am i...  \n",
       "352137  [One of the fave street food for people in Nor...  \n",
       "463957  [We brought our friends from New Jersey here f...  \n",
       "683036  [Oh thank you, crispy waffles and chicken... S...  \n",
       "\n",
       "[5 rows x 26 columns]"
      ]
     },
     "execution_count": 9,
     "metadata": {},
     "output_type": "execute_result"
    }
   ],
   "source": [
    "bus_review_small.head()"
   ]
  },
  {
   "cell_type": "code",
   "execution_count": 296,
   "metadata": {
    "ExecuteTime": {
     "end_time": "2017-11-04T20:13:59.661269Z",
     "start_time": "2017-11-04T20:13:23.614570Z"
    },
    "collapsed": true,
    "scrolled": true
   },
   "outputs": [],
   "source": [
    "# Each row is a sentence\n",
    "review_sent = pd.DataFrame(bus_review_small.set_index(['review_id'])['sent_token'].apply(pd.Series).stack()).reset_index()"
   ]
  },
  {
   "cell_type": "code",
   "execution_count": 297,
   "metadata": {
    "ExecuteTime": {
     "end_time": "2017-11-04T20:13:59.675668Z",
     "start_time": "2017-11-04T20:13:59.664626Z"
    }
   },
   "outputs": [
    {
     "data": {
      "text/html": [
       "<div>\n",
       "<style>\n",
       "    .dataframe thead tr:only-child th {\n",
       "        text-align: right;\n",
       "    }\n",
       "\n",
       "    .dataframe thead th {\n",
       "        text-align: left;\n",
       "    }\n",
       "\n",
       "    .dataframe tbody tr th {\n",
       "        vertical-align: top;\n",
       "    }\n",
       "</style>\n",
       "<table border=\"1\" class=\"dataframe\">\n",
       "  <thead>\n",
       "    <tr style=\"text-align: right;\">\n",
       "      <th></th>\n",
       "      <th>review_id</th>\n",
       "      <th>level_1</th>\n",
       "      <th>0</th>\n",
       "    </tr>\n",
       "  </thead>\n",
       "  <tbody>\n",
       "    <tr>\n",
       "      <th>0</th>\n",
       "      <td>DBFkxzPlSx0VBLdCGWPXpA</td>\n",
       "      <td>0</td>\n",
       "      <td>I was thrilled when I saw on twitter that anot...</td>\n",
       "    </tr>\n",
       "    <tr>\n",
       "      <th>1</th>\n",
       "      <td>DBFkxzPlSx0VBLdCGWPXpA</td>\n",
       "      <td>1</td>\n",
       "      <td>They are officially open today!</td>\n",
       "    </tr>\n",
       "    <tr>\n",
       "      <th>2</th>\n",
       "      <td>DBFkxzPlSx0VBLdCGWPXpA</td>\n",
       "      <td>2</td>\n",
       "      <td>Located at 261 Queen W, in my opinion this is ...</td>\n",
       "    </tr>\n",
       "    <tr>\n",
       "      <th>3</th>\n",
       "      <td>DBFkxzPlSx0VBLdCGWPXpA</td>\n",
       "      <td>3</td>\n",
       "      <td>Who wouldn't want to have a comforting hot bow...</td>\n",
       "    </tr>\n",
       "    <tr>\n",
       "      <th>4</th>\n",
       "      <td>DBFkxzPlSx0VBLdCGWPXpA</td>\n",
       "      <td>4</td>\n",
       "      <td>Can you believe that they have 450 Arita porce...</td>\n",
       "    </tr>\n",
       "  </tbody>\n",
       "</table>\n",
       "</div>"
      ],
      "text/plain": [
       "                review_id  level_1  \\\n",
       "0  DBFkxzPlSx0VBLdCGWPXpA        0   \n",
       "1  DBFkxzPlSx0VBLdCGWPXpA        1   \n",
       "2  DBFkxzPlSx0VBLdCGWPXpA        2   \n",
       "3  DBFkxzPlSx0VBLdCGWPXpA        3   \n",
       "4  DBFkxzPlSx0VBLdCGWPXpA        4   \n",
       "\n",
       "                                                   0  \n",
       "0  I was thrilled when I saw on twitter that anot...  \n",
       "1                    They are officially open today!  \n",
       "2  Located at 261 Queen W, in my opinion this is ...  \n",
       "3  Who wouldn't want to have a comforting hot bow...  \n",
       "4  Can you believe that they have 450 Arita porce...  "
      ]
     },
     "execution_count": 297,
     "metadata": {},
     "output_type": "execute_result"
    }
   ],
   "source": [
    "review_sent.head()"
   ]
  },
  {
   "cell_type": "code",
   "execution_count": 298,
   "metadata": {
    "ExecuteTime": {
     "end_time": "2017-11-04T20:14:00.170174Z",
     "start_time": "2017-11-04T20:13:59.678223Z"
    },
    "collapsed": true
   },
   "outputs": [],
   "source": [
    "review_sent['sent_cnt'] = review_sent['review_id'].groupby(review_sent['review_id']).transform('count')\n",
    "review_sent.drop('level_1', axis=1, inplace=True)\n",
    "\n",
    "review_sent.columns = ['review_id', 'sentence', 'sent_cnt']\n"
   ]
  },
  {
   "cell_type": "code",
   "execution_count": 299,
   "metadata": {
    "ExecuteTime": {
     "end_time": "2017-11-04T20:14:00.179253Z",
     "start_time": "2017-11-04T20:14:00.173305Z"
    }
   },
   "outputs": [
    {
     "data": {
      "text/plain": [
       "(428381, 3)"
      ]
     },
     "execution_count": 299,
     "metadata": {},
     "output_type": "execute_result"
    }
   ],
   "source": [
    "review_sent.shape"
   ]
  },
  {
   "cell_type": "code",
   "execution_count": 300,
   "metadata": {
    "ExecuteTime": {
     "end_time": "2017-11-04T20:14:00.287329Z",
     "start_time": "2017-11-04T20:14:00.182259Z"
    }
   },
   "outputs": [
    {
     "name": "stdout",
     "output_type": "stream",
     "text": [
      "<class 'pandas.core.frame.DataFrame'>\n",
      "RangeIndex: 428381 entries, 0 to 428380\n",
      "Data columns (total 3 columns):\n",
      "review_id    428363 non-null object\n",
      "sentence     428381 non-null object\n",
      "sent_cnt     428363 non-null float64\n",
      "dtypes: float64(1), object(2)\n",
      "memory usage: 9.8+ MB\n"
     ]
    }
   ],
   "source": [
    "review_sent.info()"
   ]
  },
  {
   "cell_type": "code",
   "execution_count": 301,
   "metadata": {
    "ExecuteTime": {
     "end_time": "2017-11-04T20:14:00.422742Z",
     "start_time": "2017-11-04T20:14:00.289777Z"
    }
   },
   "outputs": [
    {
     "data": {
      "text/plain": [
       "Series([], Name: review_id, dtype: int64)"
      ]
     },
     "execution_count": 301,
     "metadata": {},
     "output_type": "execute_result"
    }
   ],
   "source": [
    "#bus_review_small.duplicated('review_id')\n",
    "names = bus_review_small.review_id.value_counts()\n",
    "names[names > 1]"
   ]
  },
  {
   "cell_type": "code",
   "execution_count": 302,
   "metadata": {
    "ExecuteTime": {
     "end_time": "2017-11-04T20:14:00.436844Z",
     "start_time": "2017-11-04T20:14:00.426619Z"
    }
   },
   "outputs": [
    {
     "data": {
      "text/plain": [
       "(50000,)"
      ]
     },
     "execution_count": 302,
     "metadata": {},
     "output_type": "execute_result"
    }
   ],
   "source": [
    "bus_review_small.review_id.shape"
   ]
  },
  {
   "cell_type": "code",
   "execution_count": 303,
   "metadata": {
    "ExecuteTime": {
     "end_time": "2017-11-04T20:14:00.445998Z",
     "start_time": "2017-11-04T20:14:00.439825Z"
    },
    "collapsed": true
   },
   "outputs": [],
   "source": [
    "### Drop duplicates review Ids"
   ]
  },
  {
   "cell_type": "code",
   "execution_count": 304,
   "metadata": {
    "ExecuteTime": {
     "end_time": "2017-11-04T20:14:00.560476Z",
     "start_time": "2017-11-04T20:14:00.450305Z"
    },
    "collapsed": true,
    "scrolled": true
   },
   "outputs": [],
   "source": [
    "bus_review_small.drop_duplicates(['review_id'], keep='first', inplace=True)"
   ]
  },
  {
   "cell_type": "code",
   "execution_count": 305,
   "metadata": {
    "ExecuteTime": {
     "end_time": "2017-11-04T20:14:01.692306Z",
     "start_time": "2017-11-04T20:14:00.563781Z"
    },
    "collapsed": true
   },
   "outputs": [],
   "source": [
    "review_sent_merge = pd.merge(bus_review_small, review_sent, how='inner', left_on = 'review_id', right_on = 'review_id')\n"
   ]
  },
  {
   "cell_type": "code",
   "execution_count": 306,
   "metadata": {
    "ExecuteTime": {
     "end_time": "2017-11-04T20:14:01.779762Z",
     "start_time": "2017-11-04T20:14:01.696062Z"
    },
    "scrolled": true
   },
   "outputs": [
    {
     "data": {
      "text/html": [
       "<div>\n",
       "<style>\n",
       "    .dataframe thead tr:only-child th {\n",
       "        text-align: right;\n",
       "    }\n",
       "\n",
       "    .dataframe thead th {\n",
       "        text-align: left;\n",
       "    }\n",
       "\n",
       "    .dataframe tbody tr th {\n",
       "        vertical-align: top;\n",
       "    }\n",
       "</style>\n",
       "<table border=\"1\" class=\"dataframe\">\n",
       "  <thead>\n",
       "    <tr style=\"text-align: right;\">\n",
       "      <th></th>\n",
       "      <th>user_id</th>\n",
       "      <th>business_id</th>\n",
       "      <th>name</th>\n",
       "      <th>categories</th>\n",
       "      <th>attributes</th>\n",
       "      <th>stars</th>\n",
       "      <th>review_count</th>\n",
       "      <th>city</th>\n",
       "      <th>state</th>\n",
       "      <th>postal_code</th>\n",
       "      <th>...</th>\n",
       "      <th>review_id</th>\n",
       "      <th>user_stars</th>\n",
       "      <th>review_txt</th>\n",
       "      <th>useful</th>\n",
       "      <th>yelping_since</th>\n",
       "      <th>first_yr_elite</th>\n",
       "      <th>elite_prior</th>\n",
       "      <th>sent_token</th>\n",
       "      <th>sentence</th>\n",
       "      <th>sent_cnt</th>\n",
       "    </tr>\n",
       "  </thead>\n",
       "  <tbody>\n",
       "    <tr>\n",
       "      <th>0</th>\n",
       "      <td>i8A3MWU33_mtMu3LUMlnWQ</td>\n",
       "      <td>s-YJpfR-LFRnH7qYVFuJuw</td>\n",
       "      <td>Touhenboku Ramen Restaurant</td>\n",
       "      <td>[Japanese, Food, Restaurants, Ramen, Desserts]</td>\n",
       "      <td>{'RestaurantsTableService': True, 'GoodForMeal...</td>\n",
       "      <td>3.5</td>\n",
       "      <td>201</td>\n",
       "      <td>Toronto</td>\n",
       "      <td>ON</td>\n",
       "      <td>M5V 1Z4</td>\n",
       "      <td>...</td>\n",
       "      <td>DBFkxzPlSx0VBLdCGWPXpA</td>\n",
       "      <td>3</td>\n",
       "      <td>I was thrilled when I saw on twitter that anot...</td>\n",
       "      <td>2.0</td>\n",
       "      <td>2010-11-10</td>\n",
       "      <td>2013.0</td>\n",
       "      <td>1</td>\n",
       "      <td>[I was thrilled when I saw on twitter that ano...</td>\n",
       "      <td>I was thrilled when I saw on twitter that anot...</td>\n",
       "      <td>27.0</td>\n",
       "    </tr>\n",
       "    <tr>\n",
       "      <th>1</th>\n",
       "      <td>i8A3MWU33_mtMu3LUMlnWQ</td>\n",
       "      <td>s-YJpfR-LFRnH7qYVFuJuw</td>\n",
       "      <td>Touhenboku Ramen Restaurant</td>\n",
       "      <td>[Japanese, Food, Restaurants, Ramen, Desserts]</td>\n",
       "      <td>{'RestaurantsTableService': True, 'GoodForMeal...</td>\n",
       "      <td>3.5</td>\n",
       "      <td>201</td>\n",
       "      <td>Toronto</td>\n",
       "      <td>ON</td>\n",
       "      <td>M5V 1Z4</td>\n",
       "      <td>...</td>\n",
       "      <td>DBFkxzPlSx0VBLdCGWPXpA</td>\n",
       "      <td>3</td>\n",
       "      <td>I was thrilled when I saw on twitter that anot...</td>\n",
       "      <td>2.0</td>\n",
       "      <td>2010-11-10</td>\n",
       "      <td>2013.0</td>\n",
       "      <td>1</td>\n",
       "      <td>[I was thrilled when I saw on twitter that ano...</td>\n",
       "      <td>They are officially open today!</td>\n",
       "      <td>27.0</td>\n",
       "    </tr>\n",
       "    <tr>\n",
       "      <th>2</th>\n",
       "      <td>i8A3MWU33_mtMu3LUMlnWQ</td>\n",
       "      <td>s-YJpfR-LFRnH7qYVFuJuw</td>\n",
       "      <td>Touhenboku Ramen Restaurant</td>\n",
       "      <td>[Japanese, Food, Restaurants, Ramen, Desserts]</td>\n",
       "      <td>{'RestaurantsTableService': True, 'GoodForMeal...</td>\n",
       "      <td>3.5</td>\n",
       "      <td>201</td>\n",
       "      <td>Toronto</td>\n",
       "      <td>ON</td>\n",
       "      <td>M5V 1Z4</td>\n",
       "      <td>...</td>\n",
       "      <td>DBFkxzPlSx0VBLdCGWPXpA</td>\n",
       "      <td>3</td>\n",
       "      <td>I was thrilled when I saw on twitter that anot...</td>\n",
       "      <td>2.0</td>\n",
       "      <td>2010-11-10</td>\n",
       "      <td>2013.0</td>\n",
       "      <td>1</td>\n",
       "      <td>[I was thrilled when I saw on twitter that ano...</td>\n",
       "      <td>Located at 261 Queen W, in my opinion this is ...</td>\n",
       "      <td>27.0</td>\n",
       "    </tr>\n",
       "    <tr>\n",
       "      <th>3</th>\n",
       "      <td>i8A3MWU33_mtMu3LUMlnWQ</td>\n",
       "      <td>s-YJpfR-LFRnH7qYVFuJuw</td>\n",
       "      <td>Touhenboku Ramen Restaurant</td>\n",
       "      <td>[Japanese, Food, Restaurants, Ramen, Desserts]</td>\n",
       "      <td>{'RestaurantsTableService': True, 'GoodForMeal...</td>\n",
       "      <td>3.5</td>\n",
       "      <td>201</td>\n",
       "      <td>Toronto</td>\n",
       "      <td>ON</td>\n",
       "      <td>M5V 1Z4</td>\n",
       "      <td>...</td>\n",
       "      <td>DBFkxzPlSx0VBLdCGWPXpA</td>\n",
       "      <td>3</td>\n",
       "      <td>I was thrilled when I saw on twitter that anot...</td>\n",
       "      <td>2.0</td>\n",
       "      <td>2010-11-10</td>\n",
       "      <td>2013.0</td>\n",
       "      <td>1</td>\n",
       "      <td>[I was thrilled when I saw on twitter that ano...</td>\n",
       "      <td>Who wouldn't want to have a comforting hot bow...</td>\n",
       "      <td>27.0</td>\n",
       "    </tr>\n",
       "    <tr>\n",
       "      <th>4</th>\n",
       "      <td>i8A3MWU33_mtMu3LUMlnWQ</td>\n",
       "      <td>s-YJpfR-LFRnH7qYVFuJuw</td>\n",
       "      <td>Touhenboku Ramen Restaurant</td>\n",
       "      <td>[Japanese, Food, Restaurants, Ramen, Desserts]</td>\n",
       "      <td>{'RestaurantsTableService': True, 'GoodForMeal...</td>\n",
       "      <td>3.5</td>\n",
       "      <td>201</td>\n",
       "      <td>Toronto</td>\n",
       "      <td>ON</td>\n",
       "      <td>M5V 1Z4</td>\n",
       "      <td>...</td>\n",
       "      <td>DBFkxzPlSx0VBLdCGWPXpA</td>\n",
       "      <td>3</td>\n",
       "      <td>I was thrilled when I saw on twitter that anot...</td>\n",
       "      <td>2.0</td>\n",
       "      <td>2010-11-10</td>\n",
       "      <td>2013.0</td>\n",
       "      <td>1</td>\n",
       "      <td>[I was thrilled when I saw on twitter that ano...</td>\n",
       "      <td>Can you believe that they have 450 Arita porce...</td>\n",
       "      <td>27.0</td>\n",
       "    </tr>\n",
       "    <tr>\n",
       "      <th>5</th>\n",
       "      <td>i8A3MWU33_mtMu3LUMlnWQ</td>\n",
       "      <td>s-YJpfR-LFRnH7qYVFuJuw</td>\n",
       "      <td>Touhenboku Ramen Restaurant</td>\n",
       "      <td>[Japanese, Food, Restaurants, Ramen, Desserts]</td>\n",
       "      <td>{'RestaurantsTableService': True, 'GoodForMeal...</td>\n",
       "      <td>3.5</td>\n",
       "      <td>201</td>\n",
       "      <td>Toronto</td>\n",
       "      <td>ON</td>\n",
       "      <td>M5V 1Z4</td>\n",
       "      <td>...</td>\n",
       "      <td>DBFkxzPlSx0VBLdCGWPXpA</td>\n",
       "      <td>3</td>\n",
       "      <td>I was thrilled when I saw on twitter that anot...</td>\n",
       "      <td>2.0</td>\n",
       "      <td>2010-11-10</td>\n",
       "      <td>2013.0</td>\n",
       "      <td>1</td>\n",
       "      <td>[I was thrilled when I saw on twitter that ano...</td>\n",
       "      <td>So it is not surprising that they even importe...</td>\n",
       "      <td>27.0</td>\n",
       "    </tr>\n",
       "    <tr>\n",
       "      <th>6</th>\n",
       "      <td>i8A3MWU33_mtMu3LUMlnWQ</td>\n",
       "      <td>s-YJpfR-LFRnH7qYVFuJuw</td>\n",
       "      <td>Touhenboku Ramen Restaurant</td>\n",
       "      <td>[Japanese, Food, Restaurants, Ramen, Desserts]</td>\n",
       "      <td>{'RestaurantsTableService': True, 'GoodForMeal...</td>\n",
       "      <td>3.5</td>\n",
       "      <td>201</td>\n",
       "      <td>Toronto</td>\n",
       "      <td>ON</td>\n",
       "      <td>M5V 1Z4</td>\n",
       "      <td>...</td>\n",
       "      <td>DBFkxzPlSx0VBLdCGWPXpA</td>\n",
       "      <td>3</td>\n",
       "      <td>I was thrilled when I saw on twitter that anot...</td>\n",
       "      <td>2.0</td>\n",
       "      <td>2010-11-10</td>\n",
       "      <td>2013.0</td>\n",
       "      <td>1</td>\n",
       "      <td>[I was thrilled when I saw on twitter that ano...</td>\n",
       "      <td>Unlike most other ramen shops, Touhenboku used...</td>\n",
       "      <td>27.0</td>\n",
       "    </tr>\n",
       "    <tr>\n",
       "      <th>7</th>\n",
       "      <td>i8A3MWU33_mtMu3LUMlnWQ</td>\n",
       "      <td>s-YJpfR-LFRnH7qYVFuJuw</td>\n",
       "      <td>Touhenboku Ramen Restaurant</td>\n",
       "      <td>[Japanese, Food, Restaurants, Ramen, Desserts]</td>\n",
       "      <td>{'RestaurantsTableService': True, 'GoodForMeal...</td>\n",
       "      <td>3.5</td>\n",
       "      <td>201</td>\n",
       "      <td>Toronto</td>\n",
       "      <td>ON</td>\n",
       "      <td>M5V 1Z4</td>\n",
       "      <td>...</td>\n",
       "      <td>DBFkxzPlSx0VBLdCGWPXpA</td>\n",
       "      <td>3</td>\n",
       "      <td>I was thrilled when I saw on twitter that anot...</td>\n",
       "      <td>2.0</td>\n",
       "      <td>2010-11-10</td>\n",
       "      <td>2013.0</td>\n",
       "      <td>1</td>\n",
       "      <td>[I was thrilled when I saw on twitter that ano...</td>\n",
       "      <td>Chef Machida also mixed his own flour blend in...</td>\n",
       "      <td>27.0</td>\n",
       "    </tr>\n",
       "    <tr>\n",
       "      <th>8</th>\n",
       "      <td>i8A3MWU33_mtMu3LUMlnWQ</td>\n",
       "      <td>s-YJpfR-LFRnH7qYVFuJuw</td>\n",
       "      <td>Touhenboku Ramen Restaurant</td>\n",
       "      <td>[Japanese, Food, Restaurants, Ramen, Desserts]</td>\n",
       "      <td>{'RestaurantsTableService': True, 'GoodForMeal...</td>\n",
       "      <td>3.5</td>\n",
       "      <td>201</td>\n",
       "      <td>Toronto</td>\n",
       "      <td>ON</td>\n",
       "      <td>M5V 1Z4</td>\n",
       "      <td>...</td>\n",
       "      <td>DBFkxzPlSx0VBLdCGWPXpA</td>\n",
       "      <td>3</td>\n",
       "      <td>I was thrilled when I saw on twitter that anot...</td>\n",
       "      <td>2.0</td>\n",
       "      <td>2010-11-10</td>\n",
       "      <td>2013.0</td>\n",
       "      <td>1</td>\n",
       "      <td>[I was thrilled when I saw on twitter that ano...</td>\n",
       "      <td>There's 4 types of ramen on their menu : White...</td>\n",
       "      <td>27.0</td>\n",
       "    </tr>\n",
       "    <tr>\n",
       "      <th>9</th>\n",
       "      <td>i8A3MWU33_mtMu3LUMlnWQ</td>\n",
       "      <td>s-YJpfR-LFRnH7qYVFuJuw</td>\n",
       "      <td>Touhenboku Ramen Restaurant</td>\n",
       "      <td>[Japanese, Food, Restaurants, Ramen, Desserts]</td>\n",
       "      <td>{'RestaurantsTableService': True, 'GoodForMeal...</td>\n",
       "      <td>3.5</td>\n",
       "      <td>201</td>\n",
       "      <td>Toronto</td>\n",
       "      <td>ON</td>\n",
       "      <td>M5V 1Z4</td>\n",
       "      <td>...</td>\n",
       "      <td>DBFkxzPlSx0VBLdCGWPXpA</td>\n",
       "      <td>3</td>\n",
       "      <td>I was thrilled when I saw on twitter that anot...</td>\n",
       "      <td>2.0</td>\n",
       "      <td>2010-11-10</td>\n",
       "      <td>2013.0</td>\n",
       "      <td>1</td>\n",
       "      <td>[I was thrilled when I saw on twitter that ano...</td>\n",
       "      <td>Each topped with wood ear mushrooms, half a bo...</td>\n",
       "      <td>27.0</td>\n",
       "    </tr>\n",
       "  </tbody>\n",
       "</table>\n",
       "<p>10 rows × 31 columns</p>\n",
       "</div>"
      ],
      "text/plain": [
       "                  user_id             business_id  \\\n",
       "0  i8A3MWU33_mtMu3LUMlnWQ  s-YJpfR-LFRnH7qYVFuJuw   \n",
       "1  i8A3MWU33_mtMu3LUMlnWQ  s-YJpfR-LFRnH7qYVFuJuw   \n",
       "2  i8A3MWU33_mtMu3LUMlnWQ  s-YJpfR-LFRnH7qYVFuJuw   \n",
       "3  i8A3MWU33_mtMu3LUMlnWQ  s-YJpfR-LFRnH7qYVFuJuw   \n",
       "4  i8A3MWU33_mtMu3LUMlnWQ  s-YJpfR-LFRnH7qYVFuJuw   \n",
       "5  i8A3MWU33_mtMu3LUMlnWQ  s-YJpfR-LFRnH7qYVFuJuw   \n",
       "6  i8A3MWU33_mtMu3LUMlnWQ  s-YJpfR-LFRnH7qYVFuJuw   \n",
       "7  i8A3MWU33_mtMu3LUMlnWQ  s-YJpfR-LFRnH7qYVFuJuw   \n",
       "8  i8A3MWU33_mtMu3LUMlnWQ  s-YJpfR-LFRnH7qYVFuJuw   \n",
       "9  i8A3MWU33_mtMu3LUMlnWQ  s-YJpfR-LFRnH7qYVFuJuw   \n",
       "\n",
       "                          name  \\\n",
       "0  Touhenboku Ramen Restaurant   \n",
       "1  Touhenboku Ramen Restaurant   \n",
       "2  Touhenboku Ramen Restaurant   \n",
       "3  Touhenboku Ramen Restaurant   \n",
       "4  Touhenboku Ramen Restaurant   \n",
       "5  Touhenboku Ramen Restaurant   \n",
       "6  Touhenboku Ramen Restaurant   \n",
       "7  Touhenboku Ramen Restaurant   \n",
       "8  Touhenboku Ramen Restaurant   \n",
       "9  Touhenboku Ramen Restaurant   \n",
       "\n",
       "                                       categories  \\\n",
       "0  [Japanese, Food, Restaurants, Ramen, Desserts]   \n",
       "1  [Japanese, Food, Restaurants, Ramen, Desserts]   \n",
       "2  [Japanese, Food, Restaurants, Ramen, Desserts]   \n",
       "3  [Japanese, Food, Restaurants, Ramen, Desserts]   \n",
       "4  [Japanese, Food, Restaurants, Ramen, Desserts]   \n",
       "5  [Japanese, Food, Restaurants, Ramen, Desserts]   \n",
       "6  [Japanese, Food, Restaurants, Ramen, Desserts]   \n",
       "7  [Japanese, Food, Restaurants, Ramen, Desserts]   \n",
       "8  [Japanese, Food, Restaurants, Ramen, Desserts]   \n",
       "9  [Japanese, Food, Restaurants, Ramen, Desserts]   \n",
       "\n",
       "                                          attributes stars  review_count  \\\n",
       "0  {'RestaurantsTableService': True, 'GoodForMeal...   3.5           201   \n",
       "1  {'RestaurantsTableService': True, 'GoodForMeal...   3.5           201   \n",
       "2  {'RestaurantsTableService': True, 'GoodForMeal...   3.5           201   \n",
       "3  {'RestaurantsTableService': True, 'GoodForMeal...   3.5           201   \n",
       "4  {'RestaurantsTableService': True, 'GoodForMeal...   3.5           201   \n",
       "5  {'RestaurantsTableService': True, 'GoodForMeal...   3.5           201   \n",
       "6  {'RestaurantsTableService': True, 'GoodForMeal...   3.5           201   \n",
       "7  {'RestaurantsTableService': True, 'GoodForMeal...   3.5           201   \n",
       "8  {'RestaurantsTableService': True, 'GoodForMeal...   3.5           201   \n",
       "9  {'RestaurantsTableService': True, 'GoodForMeal...   3.5           201   \n",
       "\n",
       "      city state postal_code   ...                  review_id  user_stars  \\\n",
       "0  Toronto    ON     M5V 1Z4   ...     DBFkxzPlSx0VBLdCGWPXpA           3   \n",
       "1  Toronto    ON     M5V 1Z4   ...     DBFkxzPlSx0VBLdCGWPXpA           3   \n",
       "2  Toronto    ON     M5V 1Z4   ...     DBFkxzPlSx0VBLdCGWPXpA           3   \n",
       "3  Toronto    ON     M5V 1Z4   ...     DBFkxzPlSx0VBLdCGWPXpA           3   \n",
       "4  Toronto    ON     M5V 1Z4   ...     DBFkxzPlSx0VBLdCGWPXpA           3   \n",
       "5  Toronto    ON     M5V 1Z4   ...     DBFkxzPlSx0VBLdCGWPXpA           3   \n",
       "6  Toronto    ON     M5V 1Z4   ...     DBFkxzPlSx0VBLdCGWPXpA           3   \n",
       "7  Toronto    ON     M5V 1Z4   ...     DBFkxzPlSx0VBLdCGWPXpA           3   \n",
       "8  Toronto    ON     M5V 1Z4   ...     DBFkxzPlSx0VBLdCGWPXpA           3   \n",
       "9  Toronto    ON     M5V 1Z4   ...     DBFkxzPlSx0VBLdCGWPXpA           3   \n",
       "\n",
       "                                          review_txt  useful  yelping_since  \\\n",
       "0  I was thrilled when I saw on twitter that anot...     2.0     2010-11-10   \n",
       "1  I was thrilled when I saw on twitter that anot...     2.0     2010-11-10   \n",
       "2  I was thrilled when I saw on twitter that anot...     2.0     2010-11-10   \n",
       "3  I was thrilled when I saw on twitter that anot...     2.0     2010-11-10   \n",
       "4  I was thrilled when I saw on twitter that anot...     2.0     2010-11-10   \n",
       "5  I was thrilled when I saw on twitter that anot...     2.0     2010-11-10   \n",
       "6  I was thrilled when I saw on twitter that anot...     2.0     2010-11-10   \n",
       "7  I was thrilled when I saw on twitter that anot...     2.0     2010-11-10   \n",
       "8  I was thrilled when I saw on twitter that anot...     2.0     2010-11-10   \n",
       "9  I was thrilled when I saw on twitter that anot...     2.0     2010-11-10   \n",
       "\n",
       "   first_yr_elite  elite_prior  \\\n",
       "0          2013.0            1   \n",
       "1          2013.0            1   \n",
       "2          2013.0            1   \n",
       "3          2013.0            1   \n",
       "4          2013.0            1   \n",
       "5          2013.0            1   \n",
       "6          2013.0            1   \n",
       "7          2013.0            1   \n",
       "8          2013.0            1   \n",
       "9          2013.0            1   \n",
       "\n",
       "                                          sent_token  \\\n",
       "0  [I was thrilled when I saw on twitter that ano...   \n",
       "1  [I was thrilled when I saw on twitter that ano...   \n",
       "2  [I was thrilled when I saw on twitter that ano...   \n",
       "3  [I was thrilled when I saw on twitter that ano...   \n",
       "4  [I was thrilled when I saw on twitter that ano...   \n",
       "5  [I was thrilled when I saw on twitter that ano...   \n",
       "6  [I was thrilled when I saw on twitter that ano...   \n",
       "7  [I was thrilled when I saw on twitter that ano...   \n",
       "8  [I was thrilled when I saw on twitter that ano...   \n",
       "9  [I was thrilled when I saw on twitter that ano...   \n",
       "\n",
       "                                            sentence sent_cnt  \n",
       "0  I was thrilled when I saw on twitter that anot...     27.0  \n",
       "1                    They are officially open today!     27.0  \n",
       "2  Located at 261 Queen W, in my opinion this is ...     27.0  \n",
       "3  Who wouldn't want to have a comforting hot bow...     27.0  \n",
       "4  Can you believe that they have 450 Arita porce...     27.0  \n",
       "5  So it is not surprising that they even importe...     27.0  \n",
       "6  Unlike most other ramen shops, Touhenboku used...     27.0  \n",
       "7  Chef Machida also mixed his own flour blend in...     27.0  \n",
       "8  There's 4 types of ramen on their menu : White...     27.0  \n",
       "9  Each topped with wood ear mushrooms, half a bo...     27.0  \n",
       "\n",
       "[10 rows x 31 columns]"
      ]
     },
     "execution_count": 306,
     "metadata": {},
     "output_type": "execute_result"
    }
   ],
   "source": [
    "review_sent_merge.head(10)"
   ]
  },
  {
   "cell_type": "code",
   "execution_count": 307,
   "metadata": {
    "ExecuteTime": {
     "end_time": "2017-11-04T20:14:05.077547Z",
     "start_time": "2017-11-04T20:14:05.073966Z"
    },
    "collapsed": true
   },
   "outputs": [],
   "source": [
    "# prog = re.compile(pattern)\n",
    "# result = prog.match(string)"
   ]
  },
  {
   "cell_type": "code",
   "execution_count": 308,
   "metadata": {
    "ExecuteTime": {
     "end_time": "2017-11-04T20:14:05.480718Z",
     "start_time": "2017-11-04T20:14:05.477328Z"
    },
    "collapsed": true
   },
   "outputs": [],
   "source": [
    "# prog = re.compile('^([a-zA-Z]+|\\W)$')"
   ]
  },
  {
   "cell_type": "markdown",
   "metadata": {
    "ExecuteTime": {
     "end_time": "2017-10-31T20:17:23.228418Z",
     "start_time": "2017-10-31T20:17:23.158223Z"
    }
   },
   "source": [
    "#### Tokenize"
   ]
  },
  {
   "cell_type": "code",
   "execution_count": 309,
   "metadata": {
    "ExecuteTime": {
     "end_time": "2017-11-04T20:16:30.073383Z",
     "start_time": "2017-11-04T20:16:30.044081Z"
    },
    "collapsed": true
   },
   "outputs": [],
   "source": [
    "def tokenize_stem(df, col_name):\n",
    "    '''\n",
    "    Input dataframe.\n",
    "    Output dataframe do stemming on a specific column\n",
    "    '''\n",
    "    # Tokenize\n",
    "    df['token'] = df[col_name].apply(word_tokenize) \n",
    "\n",
    "    # Create stem words\n",
    "    prog = re.compile('^([a-zA-Z]+|\\W)$')\n",
    "    \n",
    "#     df['stemmed'] = df[\"token\"].\\\n",
    "#         apply(lambda x: [stemmer.stem(y) for y in x if re.match('^([a-zA-Z]+|\\W)$', y)])\n",
    "    df['stemmed'] = df[\"token\"].\\\n",
    "        apply(lambda x: [stemmer.stem(y) for y in x if prog.match(y)])\n",
    "\n",
    "    df['stemmed2'] = df['stemmed'].apply(lambda x: ', '.join(x)).str.replace(',', '')\n",
    "#   df['stemmed2'] = df['stemmed2'].str.replace(',', '')\n",
    "        \n",
    "    df.drop('token', axis=1)\n",
    "    df.drop('stemmed', axis=1)\n",
    "\n",
    "    return df"
   ]
  },
  {
   "cell_type": "code",
   "execution_count": 310,
   "metadata": {
    "ExecuteTime": {
     "end_time": "2017-11-04T20:16:30.771361Z",
     "start_time": "2017-11-04T20:16:30.766323Z"
    }
   },
   "outputs": [
    {
     "data": {
      "text/plain": [
       "(428381, 31)"
      ]
     },
     "execution_count": 310,
     "metadata": {},
     "output_type": "execute_result"
    }
   ],
   "source": [
    "### Create a small file\n",
    "review_sent_merge.shape"
   ]
  },
  {
   "cell_type": "code",
   "execution_count": 311,
   "metadata": {
    "ExecuteTime": {
     "end_time": "2017-11-04T20:16:31.385116Z",
     "start_time": "2017-11-04T20:16:31.331508Z"
    },
    "scrolled": true
   },
   "outputs": [
    {
     "data": {
      "text/html": [
       "<div>\n",
       "<style>\n",
       "    .dataframe thead tr:only-child th {\n",
       "        text-align: right;\n",
       "    }\n",
       "\n",
       "    .dataframe thead th {\n",
       "        text-align: left;\n",
       "    }\n",
       "\n",
       "    .dataframe tbody tr th {\n",
       "        vertical-align: top;\n",
       "    }\n",
       "</style>\n",
       "<table border=\"1\" class=\"dataframe\">\n",
       "  <thead>\n",
       "    <tr style=\"text-align: right;\">\n",
       "      <th></th>\n",
       "      <th>user_id</th>\n",
       "      <th>business_id</th>\n",
       "      <th>name</th>\n",
       "      <th>categories</th>\n",
       "      <th>attributes</th>\n",
       "      <th>stars</th>\n",
       "      <th>review_count</th>\n",
       "      <th>city</th>\n",
       "      <th>state</th>\n",
       "      <th>postal_code</th>\n",
       "      <th>...</th>\n",
       "      <th>review_id</th>\n",
       "      <th>user_stars</th>\n",
       "      <th>review_txt</th>\n",
       "      <th>useful</th>\n",
       "      <th>yelping_since</th>\n",
       "      <th>first_yr_elite</th>\n",
       "      <th>elite_prior</th>\n",
       "      <th>sent_token</th>\n",
       "      <th>sentence</th>\n",
       "      <th>sent_cnt</th>\n",
       "    </tr>\n",
       "  </thead>\n",
       "  <tbody>\n",
       "    <tr>\n",
       "      <th>0</th>\n",
       "      <td>i8A3MWU33_mtMu3LUMlnWQ</td>\n",
       "      <td>s-YJpfR-LFRnH7qYVFuJuw</td>\n",
       "      <td>Touhenboku Ramen Restaurant</td>\n",
       "      <td>[Japanese, Food, Restaurants, Ramen, Desserts]</td>\n",
       "      <td>{'RestaurantsTableService': True, 'GoodForMeal...</td>\n",
       "      <td>3.5</td>\n",
       "      <td>201</td>\n",
       "      <td>Toronto</td>\n",
       "      <td>ON</td>\n",
       "      <td>M5V 1Z4</td>\n",
       "      <td>...</td>\n",
       "      <td>DBFkxzPlSx0VBLdCGWPXpA</td>\n",
       "      <td>3</td>\n",
       "      <td>I was thrilled when I saw on twitter that anot...</td>\n",
       "      <td>2.0</td>\n",
       "      <td>2010-11-10</td>\n",
       "      <td>2013.0</td>\n",
       "      <td>1</td>\n",
       "      <td>[I was thrilled when I saw on twitter that ano...</td>\n",
       "      <td>I was thrilled when I saw on twitter that anot...</td>\n",
       "      <td>27.0</td>\n",
       "    </tr>\n",
       "    <tr>\n",
       "      <th>1</th>\n",
       "      <td>i8A3MWU33_mtMu3LUMlnWQ</td>\n",
       "      <td>s-YJpfR-LFRnH7qYVFuJuw</td>\n",
       "      <td>Touhenboku Ramen Restaurant</td>\n",
       "      <td>[Japanese, Food, Restaurants, Ramen, Desserts]</td>\n",
       "      <td>{'RestaurantsTableService': True, 'GoodForMeal...</td>\n",
       "      <td>3.5</td>\n",
       "      <td>201</td>\n",
       "      <td>Toronto</td>\n",
       "      <td>ON</td>\n",
       "      <td>M5V 1Z4</td>\n",
       "      <td>...</td>\n",
       "      <td>DBFkxzPlSx0VBLdCGWPXpA</td>\n",
       "      <td>3</td>\n",
       "      <td>I was thrilled when I saw on twitter that anot...</td>\n",
       "      <td>2.0</td>\n",
       "      <td>2010-11-10</td>\n",
       "      <td>2013.0</td>\n",
       "      <td>1</td>\n",
       "      <td>[I was thrilled when I saw on twitter that ano...</td>\n",
       "      <td>They are officially open today!</td>\n",
       "      <td>27.0</td>\n",
       "    </tr>\n",
       "    <tr>\n",
       "      <th>2</th>\n",
       "      <td>i8A3MWU33_mtMu3LUMlnWQ</td>\n",
       "      <td>s-YJpfR-LFRnH7qYVFuJuw</td>\n",
       "      <td>Touhenboku Ramen Restaurant</td>\n",
       "      <td>[Japanese, Food, Restaurants, Ramen, Desserts]</td>\n",
       "      <td>{'RestaurantsTableService': True, 'GoodForMeal...</td>\n",
       "      <td>3.5</td>\n",
       "      <td>201</td>\n",
       "      <td>Toronto</td>\n",
       "      <td>ON</td>\n",
       "      <td>M5V 1Z4</td>\n",
       "      <td>...</td>\n",
       "      <td>DBFkxzPlSx0VBLdCGWPXpA</td>\n",
       "      <td>3</td>\n",
       "      <td>I was thrilled when I saw on twitter that anot...</td>\n",
       "      <td>2.0</td>\n",
       "      <td>2010-11-10</td>\n",
       "      <td>2013.0</td>\n",
       "      <td>1</td>\n",
       "      <td>[I was thrilled when I saw on twitter that ano...</td>\n",
       "      <td>Located at 261 Queen W, in my opinion this is ...</td>\n",
       "      <td>27.0</td>\n",
       "    </tr>\n",
       "    <tr>\n",
       "      <th>3</th>\n",
       "      <td>i8A3MWU33_mtMu3LUMlnWQ</td>\n",
       "      <td>s-YJpfR-LFRnH7qYVFuJuw</td>\n",
       "      <td>Touhenboku Ramen Restaurant</td>\n",
       "      <td>[Japanese, Food, Restaurants, Ramen, Desserts]</td>\n",
       "      <td>{'RestaurantsTableService': True, 'GoodForMeal...</td>\n",
       "      <td>3.5</td>\n",
       "      <td>201</td>\n",
       "      <td>Toronto</td>\n",
       "      <td>ON</td>\n",
       "      <td>M5V 1Z4</td>\n",
       "      <td>...</td>\n",
       "      <td>DBFkxzPlSx0VBLdCGWPXpA</td>\n",
       "      <td>3</td>\n",
       "      <td>I was thrilled when I saw on twitter that anot...</td>\n",
       "      <td>2.0</td>\n",
       "      <td>2010-11-10</td>\n",
       "      <td>2013.0</td>\n",
       "      <td>1</td>\n",
       "      <td>[I was thrilled when I saw on twitter that ano...</td>\n",
       "      <td>Who wouldn't want to have a comforting hot bow...</td>\n",
       "      <td>27.0</td>\n",
       "    </tr>\n",
       "    <tr>\n",
       "      <th>4</th>\n",
       "      <td>i8A3MWU33_mtMu3LUMlnWQ</td>\n",
       "      <td>s-YJpfR-LFRnH7qYVFuJuw</td>\n",
       "      <td>Touhenboku Ramen Restaurant</td>\n",
       "      <td>[Japanese, Food, Restaurants, Ramen, Desserts]</td>\n",
       "      <td>{'RestaurantsTableService': True, 'GoodForMeal...</td>\n",
       "      <td>3.5</td>\n",
       "      <td>201</td>\n",
       "      <td>Toronto</td>\n",
       "      <td>ON</td>\n",
       "      <td>M5V 1Z4</td>\n",
       "      <td>...</td>\n",
       "      <td>DBFkxzPlSx0VBLdCGWPXpA</td>\n",
       "      <td>3</td>\n",
       "      <td>I was thrilled when I saw on twitter that anot...</td>\n",
       "      <td>2.0</td>\n",
       "      <td>2010-11-10</td>\n",
       "      <td>2013.0</td>\n",
       "      <td>1</td>\n",
       "      <td>[I was thrilled when I saw on twitter that ano...</td>\n",
       "      <td>Can you believe that they have 450 Arita porce...</td>\n",
       "      <td>27.0</td>\n",
       "    </tr>\n",
       "  </tbody>\n",
       "</table>\n",
       "<p>5 rows × 31 columns</p>\n",
       "</div>"
      ],
      "text/plain": [
       "                  user_id             business_id  \\\n",
       "0  i8A3MWU33_mtMu3LUMlnWQ  s-YJpfR-LFRnH7qYVFuJuw   \n",
       "1  i8A3MWU33_mtMu3LUMlnWQ  s-YJpfR-LFRnH7qYVFuJuw   \n",
       "2  i8A3MWU33_mtMu3LUMlnWQ  s-YJpfR-LFRnH7qYVFuJuw   \n",
       "3  i8A3MWU33_mtMu3LUMlnWQ  s-YJpfR-LFRnH7qYVFuJuw   \n",
       "4  i8A3MWU33_mtMu3LUMlnWQ  s-YJpfR-LFRnH7qYVFuJuw   \n",
       "\n",
       "                          name  \\\n",
       "0  Touhenboku Ramen Restaurant   \n",
       "1  Touhenboku Ramen Restaurant   \n",
       "2  Touhenboku Ramen Restaurant   \n",
       "3  Touhenboku Ramen Restaurant   \n",
       "4  Touhenboku Ramen Restaurant   \n",
       "\n",
       "                                       categories  \\\n",
       "0  [Japanese, Food, Restaurants, Ramen, Desserts]   \n",
       "1  [Japanese, Food, Restaurants, Ramen, Desserts]   \n",
       "2  [Japanese, Food, Restaurants, Ramen, Desserts]   \n",
       "3  [Japanese, Food, Restaurants, Ramen, Desserts]   \n",
       "4  [Japanese, Food, Restaurants, Ramen, Desserts]   \n",
       "\n",
       "                                          attributes stars  review_count  \\\n",
       "0  {'RestaurantsTableService': True, 'GoodForMeal...   3.5           201   \n",
       "1  {'RestaurantsTableService': True, 'GoodForMeal...   3.5           201   \n",
       "2  {'RestaurantsTableService': True, 'GoodForMeal...   3.5           201   \n",
       "3  {'RestaurantsTableService': True, 'GoodForMeal...   3.5           201   \n",
       "4  {'RestaurantsTableService': True, 'GoodForMeal...   3.5           201   \n",
       "\n",
       "      city state postal_code   ...                  review_id  user_stars  \\\n",
       "0  Toronto    ON     M5V 1Z4   ...     DBFkxzPlSx0VBLdCGWPXpA           3   \n",
       "1  Toronto    ON     M5V 1Z4   ...     DBFkxzPlSx0VBLdCGWPXpA           3   \n",
       "2  Toronto    ON     M5V 1Z4   ...     DBFkxzPlSx0VBLdCGWPXpA           3   \n",
       "3  Toronto    ON     M5V 1Z4   ...     DBFkxzPlSx0VBLdCGWPXpA           3   \n",
       "4  Toronto    ON     M5V 1Z4   ...     DBFkxzPlSx0VBLdCGWPXpA           3   \n",
       "\n",
       "                                          review_txt  useful  yelping_since  \\\n",
       "0  I was thrilled when I saw on twitter that anot...     2.0     2010-11-10   \n",
       "1  I was thrilled when I saw on twitter that anot...     2.0     2010-11-10   \n",
       "2  I was thrilled when I saw on twitter that anot...     2.0     2010-11-10   \n",
       "3  I was thrilled when I saw on twitter that anot...     2.0     2010-11-10   \n",
       "4  I was thrilled when I saw on twitter that anot...     2.0     2010-11-10   \n",
       "\n",
       "   first_yr_elite  elite_prior  \\\n",
       "0          2013.0            1   \n",
       "1          2013.0            1   \n",
       "2          2013.0            1   \n",
       "3          2013.0            1   \n",
       "4          2013.0            1   \n",
       "\n",
       "                                          sent_token  \\\n",
       "0  [I was thrilled when I saw on twitter that ano...   \n",
       "1  [I was thrilled when I saw on twitter that ano...   \n",
       "2  [I was thrilled when I saw on twitter that ano...   \n",
       "3  [I was thrilled when I saw on twitter that ano...   \n",
       "4  [I was thrilled when I saw on twitter that ano...   \n",
       "\n",
       "                                            sentence sent_cnt  \n",
       "0  I was thrilled when I saw on twitter that anot...     27.0  \n",
       "1                    They are officially open today!     27.0  \n",
       "2  Located at 261 Queen W, in my opinion this is ...     27.0  \n",
       "3  Who wouldn't want to have a comforting hot bow...     27.0  \n",
       "4  Can you believe that they have 450 Arita porce...     27.0  \n",
       "\n",
       "[5 rows x 31 columns]"
      ]
     },
     "execution_count": 311,
     "metadata": {},
     "output_type": "execute_result"
    }
   ],
   "source": [
    "review_sent_merge.head()"
   ]
  },
  {
   "cell_type": "markdown",
   "metadata": {},
   "source": [
    "### Sentiment Analysis - sentence at a time"
   ]
  },
  {
   "cell_type": "code",
   "execution_count": 312,
   "metadata": {
    "ExecuteTime": {
     "end_time": "2017-11-04T20:16:33.216101Z",
     "start_time": "2017-11-04T20:16:33.207029Z"
    },
    "collapsed": true
   },
   "outputs": [],
   "source": [
    "# bus_review_small['sent_token'] = bus_review_small['review_txt'].apply(custom_tokenize) \n",
    "\n",
    "def custom_sent_pol(text):\n",
    "    try:\n",
    "        return TextBlob(text).sentiment[0]\n",
    "    except:\n",
    "        return 0\n",
    "    \n",
    "\n"
   ]
  },
  {
   "cell_type": "code",
   "execution_count": 313,
   "metadata": {
    "ExecuteTime": {
     "end_time": "2017-11-04T20:17:46.414829Z",
     "start_time": "2017-11-04T20:16:34.647494Z"
    },
    "collapsed": true
   },
   "outputs": [],
   "source": [
    "# Sentence level sentiment\n",
    "review_sent_merge['polarity'] = review_sent_merge['sentence'].apply(custom_sent_pol)\n"
   ]
  },
  {
   "cell_type": "code",
   "execution_count": 314,
   "metadata": {
    "ExecuteTime": {
     "end_time": "2017-11-04T20:17:46.420610Z",
     "start_time": "2017-11-04T20:17:46.416590Z"
    }
   },
   "outputs": [
    {
     "data": {
      "text/plain": [
       "(428381, 32)"
      ]
     },
     "execution_count": 314,
     "metadata": {},
     "output_type": "execute_result"
    }
   ],
   "source": [
    "review_sent_merge.shape"
   ]
  },
  {
   "cell_type": "code",
   "execution_count": 315,
   "metadata": {
    "ExecuteTime": {
     "end_time": "2017-11-04T20:17:46.487818Z",
     "start_time": "2017-11-04T20:17:46.424052Z"
    }
   },
   "outputs": [
    {
     "data": {
      "text/html": [
       "<div>\n",
       "<style>\n",
       "    .dataframe thead tr:only-child th {\n",
       "        text-align: right;\n",
       "    }\n",
       "\n",
       "    .dataframe thead th {\n",
       "        text-align: left;\n",
       "    }\n",
       "\n",
       "    .dataframe tbody tr th {\n",
       "        vertical-align: top;\n",
       "    }\n",
       "</style>\n",
       "<table border=\"1\" class=\"dataframe\">\n",
       "  <thead>\n",
       "    <tr style=\"text-align: right;\">\n",
       "      <th></th>\n",
       "      <th>user_id</th>\n",
       "      <th>business_id</th>\n",
       "      <th>name</th>\n",
       "      <th>categories</th>\n",
       "      <th>attributes</th>\n",
       "      <th>stars</th>\n",
       "      <th>review_count</th>\n",
       "      <th>city</th>\n",
       "      <th>state</th>\n",
       "      <th>postal_code</th>\n",
       "      <th>...</th>\n",
       "      <th>user_stars</th>\n",
       "      <th>review_txt</th>\n",
       "      <th>useful</th>\n",
       "      <th>yelping_since</th>\n",
       "      <th>first_yr_elite</th>\n",
       "      <th>elite_prior</th>\n",
       "      <th>sent_token</th>\n",
       "      <th>sentence</th>\n",
       "      <th>sent_cnt</th>\n",
       "      <th>polarity</th>\n",
       "    </tr>\n",
       "  </thead>\n",
       "  <tbody>\n",
       "    <tr>\n",
       "      <th>0</th>\n",
       "      <td>i8A3MWU33_mtMu3LUMlnWQ</td>\n",
       "      <td>s-YJpfR-LFRnH7qYVFuJuw</td>\n",
       "      <td>Touhenboku Ramen Restaurant</td>\n",
       "      <td>[Japanese, Food, Restaurants, Ramen, Desserts]</td>\n",
       "      <td>{'RestaurantsTableService': True, 'GoodForMeal...</td>\n",
       "      <td>3.5</td>\n",
       "      <td>201</td>\n",
       "      <td>Toronto</td>\n",
       "      <td>ON</td>\n",
       "      <td>M5V 1Z4</td>\n",
       "      <td>...</td>\n",
       "      <td>3</td>\n",
       "      <td>I was thrilled when I saw on twitter that anot...</td>\n",
       "      <td>2.0</td>\n",
       "      <td>2010-11-10</td>\n",
       "      <td>2013.0</td>\n",
       "      <td>1</td>\n",
       "      <td>[I was thrilled when I saw on twitter that ano...</td>\n",
       "      <td>I was thrilled when I saw on twitter that anot...</td>\n",
       "      <td>27.0</td>\n",
       "      <td>0.425</td>\n",
       "    </tr>\n",
       "    <tr>\n",
       "      <th>1</th>\n",
       "      <td>i8A3MWU33_mtMu3LUMlnWQ</td>\n",
       "      <td>s-YJpfR-LFRnH7qYVFuJuw</td>\n",
       "      <td>Touhenboku Ramen Restaurant</td>\n",
       "      <td>[Japanese, Food, Restaurants, Ramen, Desserts]</td>\n",
       "      <td>{'RestaurantsTableService': True, 'GoodForMeal...</td>\n",
       "      <td>3.5</td>\n",
       "      <td>201</td>\n",
       "      <td>Toronto</td>\n",
       "      <td>ON</td>\n",
       "      <td>M5V 1Z4</td>\n",
       "      <td>...</td>\n",
       "      <td>3</td>\n",
       "      <td>I was thrilled when I saw on twitter that anot...</td>\n",
       "      <td>2.0</td>\n",
       "      <td>2010-11-10</td>\n",
       "      <td>2013.0</td>\n",
       "      <td>1</td>\n",
       "      <td>[I was thrilled when I saw on twitter that ano...</td>\n",
       "      <td>They are officially open today!</td>\n",
       "      <td>27.0</td>\n",
       "      <td>0.000</td>\n",
       "    </tr>\n",
       "    <tr>\n",
       "      <th>2</th>\n",
       "      <td>i8A3MWU33_mtMu3LUMlnWQ</td>\n",
       "      <td>s-YJpfR-LFRnH7qYVFuJuw</td>\n",
       "      <td>Touhenboku Ramen Restaurant</td>\n",
       "      <td>[Japanese, Food, Restaurants, Ramen, Desserts]</td>\n",
       "      <td>{'RestaurantsTableService': True, 'GoodForMeal...</td>\n",
       "      <td>3.5</td>\n",
       "      <td>201</td>\n",
       "      <td>Toronto</td>\n",
       "      <td>ON</td>\n",
       "      <td>M5V 1Z4</td>\n",
       "      <td>...</td>\n",
       "      <td>3</td>\n",
       "      <td>I was thrilled when I saw on twitter that anot...</td>\n",
       "      <td>2.0</td>\n",
       "      <td>2010-11-10</td>\n",
       "      <td>2013.0</td>\n",
       "      <td>1</td>\n",
       "      <td>[I was thrilled when I saw on twitter that ano...</td>\n",
       "      <td>Located at 261 Queen W, in my opinion this is ...</td>\n",
       "      <td>27.0</td>\n",
       "      <td>1.000</td>\n",
       "    </tr>\n",
       "    <tr>\n",
       "      <th>3</th>\n",
       "      <td>i8A3MWU33_mtMu3LUMlnWQ</td>\n",
       "      <td>s-YJpfR-LFRnH7qYVFuJuw</td>\n",
       "      <td>Touhenboku Ramen Restaurant</td>\n",
       "      <td>[Japanese, Food, Restaurants, Ramen, Desserts]</td>\n",
       "      <td>{'RestaurantsTableService': True, 'GoodForMeal...</td>\n",
       "      <td>3.5</td>\n",
       "      <td>201</td>\n",
       "      <td>Toronto</td>\n",
       "      <td>ON</td>\n",
       "      <td>M5V 1Z4</td>\n",
       "      <td>...</td>\n",
       "      <td>3</td>\n",
       "      <td>I was thrilled when I saw on twitter that anot...</td>\n",
       "      <td>2.0</td>\n",
       "      <td>2010-11-10</td>\n",
       "      <td>2013.0</td>\n",
       "      <td>1</td>\n",
       "      <td>[I was thrilled when I saw on twitter that ano...</td>\n",
       "      <td>Who wouldn't want to have a comforting hot bow...</td>\n",
       "      <td>27.0</td>\n",
       "      <td>0.125</td>\n",
       "    </tr>\n",
       "    <tr>\n",
       "      <th>4</th>\n",
       "      <td>i8A3MWU33_mtMu3LUMlnWQ</td>\n",
       "      <td>s-YJpfR-LFRnH7qYVFuJuw</td>\n",
       "      <td>Touhenboku Ramen Restaurant</td>\n",
       "      <td>[Japanese, Food, Restaurants, Ramen, Desserts]</td>\n",
       "      <td>{'RestaurantsTableService': True, 'GoodForMeal...</td>\n",
       "      <td>3.5</td>\n",
       "      <td>201</td>\n",
       "      <td>Toronto</td>\n",
       "      <td>ON</td>\n",
       "      <td>M5V 1Z4</td>\n",
       "      <td>...</td>\n",
       "      <td>3</td>\n",
       "      <td>I was thrilled when I saw on twitter that anot...</td>\n",
       "      <td>2.0</td>\n",
       "      <td>2010-11-10</td>\n",
       "      <td>2013.0</td>\n",
       "      <td>1</td>\n",
       "      <td>[I was thrilled when I saw on twitter that ano...</td>\n",
       "      <td>Can you believe that they have 450 Arita porce...</td>\n",
       "      <td>27.0</td>\n",
       "      <td>0.250</td>\n",
       "    </tr>\n",
       "  </tbody>\n",
       "</table>\n",
       "<p>5 rows × 32 columns</p>\n",
       "</div>"
      ],
      "text/plain": [
       "                  user_id             business_id  \\\n",
       "0  i8A3MWU33_mtMu3LUMlnWQ  s-YJpfR-LFRnH7qYVFuJuw   \n",
       "1  i8A3MWU33_mtMu3LUMlnWQ  s-YJpfR-LFRnH7qYVFuJuw   \n",
       "2  i8A3MWU33_mtMu3LUMlnWQ  s-YJpfR-LFRnH7qYVFuJuw   \n",
       "3  i8A3MWU33_mtMu3LUMlnWQ  s-YJpfR-LFRnH7qYVFuJuw   \n",
       "4  i8A3MWU33_mtMu3LUMlnWQ  s-YJpfR-LFRnH7qYVFuJuw   \n",
       "\n",
       "                          name  \\\n",
       "0  Touhenboku Ramen Restaurant   \n",
       "1  Touhenboku Ramen Restaurant   \n",
       "2  Touhenboku Ramen Restaurant   \n",
       "3  Touhenboku Ramen Restaurant   \n",
       "4  Touhenboku Ramen Restaurant   \n",
       "\n",
       "                                       categories  \\\n",
       "0  [Japanese, Food, Restaurants, Ramen, Desserts]   \n",
       "1  [Japanese, Food, Restaurants, Ramen, Desserts]   \n",
       "2  [Japanese, Food, Restaurants, Ramen, Desserts]   \n",
       "3  [Japanese, Food, Restaurants, Ramen, Desserts]   \n",
       "4  [Japanese, Food, Restaurants, Ramen, Desserts]   \n",
       "\n",
       "                                          attributes stars  review_count  \\\n",
       "0  {'RestaurantsTableService': True, 'GoodForMeal...   3.5           201   \n",
       "1  {'RestaurantsTableService': True, 'GoodForMeal...   3.5           201   \n",
       "2  {'RestaurantsTableService': True, 'GoodForMeal...   3.5           201   \n",
       "3  {'RestaurantsTableService': True, 'GoodForMeal...   3.5           201   \n",
       "4  {'RestaurantsTableService': True, 'GoodForMeal...   3.5           201   \n",
       "\n",
       "      city state postal_code   ...     user_stars  \\\n",
       "0  Toronto    ON     M5V 1Z4   ...              3   \n",
       "1  Toronto    ON     M5V 1Z4   ...              3   \n",
       "2  Toronto    ON     M5V 1Z4   ...              3   \n",
       "3  Toronto    ON     M5V 1Z4   ...              3   \n",
       "4  Toronto    ON     M5V 1Z4   ...              3   \n",
       "\n",
       "                                          review_txt useful  yelping_since  \\\n",
       "0  I was thrilled when I saw on twitter that anot...    2.0     2010-11-10   \n",
       "1  I was thrilled when I saw on twitter that anot...    2.0     2010-11-10   \n",
       "2  I was thrilled when I saw on twitter that anot...    2.0     2010-11-10   \n",
       "3  I was thrilled when I saw on twitter that anot...    2.0     2010-11-10   \n",
       "4  I was thrilled when I saw on twitter that anot...    2.0     2010-11-10   \n",
       "\n",
       "   first_yr_elite  elite_prior  \\\n",
       "0          2013.0            1   \n",
       "1          2013.0            1   \n",
       "2          2013.0            1   \n",
       "3          2013.0            1   \n",
       "4          2013.0            1   \n",
       "\n",
       "                                          sent_token  \\\n",
       "0  [I was thrilled when I saw on twitter that ano...   \n",
       "1  [I was thrilled when I saw on twitter that ano...   \n",
       "2  [I was thrilled when I saw on twitter that ano...   \n",
       "3  [I was thrilled when I saw on twitter that ano...   \n",
       "4  [I was thrilled when I saw on twitter that ano...   \n",
       "\n",
       "                                            sentence  sent_cnt polarity  \n",
       "0  I was thrilled when I saw on twitter that anot...      27.0    0.425  \n",
       "1                    They are officially open today!      27.0    0.000  \n",
       "2  Located at 261 Queen W, in my opinion this is ...      27.0    1.000  \n",
       "3  Who wouldn't want to have a comforting hot bow...      27.0    0.125  \n",
       "4  Can you believe that they have 450 Arita porce...      27.0    0.250  \n",
       "\n",
       "[5 rows x 32 columns]"
      ]
     },
     "execution_count": 315,
     "metadata": {},
     "output_type": "execute_result"
    }
   ],
   "source": [
    "review_sent_merge.head()"
   ]
  },
  {
   "cell_type": "markdown",
   "metadata": {},
   "source": [
    "#### Tokenize by sentence"
   ]
  },
  {
   "cell_type": "code",
   "execution_count": 316,
   "metadata": {
    "ExecuteTime": {
     "end_time": "2017-11-04T20:20:42.873451Z",
     "start_time": "2017-11-04T20:17:46.491944Z"
    },
    "collapsed": true
   },
   "outputs": [],
   "source": [
    "reviews_sent_token = tokenize_stem(review_sent_merge, 'sentence')"
   ]
  },
  {
   "cell_type": "code",
   "execution_count": 317,
   "metadata": {
    "ExecuteTime": {
     "end_time": "2017-11-04T20:20:43.005681Z",
     "start_time": "2017-11-04T20:20:42.879352Z"
    }
   },
   "outputs": [
    {
     "data": {
      "text/html": [
       "<div>\n",
       "<style>\n",
       "    .dataframe thead tr:only-child th {\n",
       "        text-align: right;\n",
       "    }\n",
       "\n",
       "    .dataframe thead th {\n",
       "        text-align: left;\n",
       "    }\n",
       "\n",
       "    .dataframe tbody tr th {\n",
       "        vertical-align: top;\n",
       "    }\n",
       "</style>\n",
       "<table border=\"1\" class=\"dataframe\">\n",
       "  <thead>\n",
       "    <tr style=\"text-align: right;\">\n",
       "      <th></th>\n",
       "      <th>user_id</th>\n",
       "      <th>business_id</th>\n",
       "      <th>name</th>\n",
       "      <th>categories</th>\n",
       "      <th>attributes</th>\n",
       "      <th>stars</th>\n",
       "      <th>review_count</th>\n",
       "      <th>city</th>\n",
       "      <th>state</th>\n",
       "      <th>postal_code</th>\n",
       "      <th>...</th>\n",
       "      <th>yelping_since</th>\n",
       "      <th>first_yr_elite</th>\n",
       "      <th>elite_prior</th>\n",
       "      <th>sent_token</th>\n",
       "      <th>sentence</th>\n",
       "      <th>sent_cnt</th>\n",
       "      <th>polarity</th>\n",
       "      <th>token</th>\n",
       "      <th>stemmed</th>\n",
       "      <th>stemmed2</th>\n",
       "    </tr>\n",
       "  </thead>\n",
       "  <tbody>\n",
       "    <tr>\n",
       "      <th>0</th>\n",
       "      <td>i8A3MWU33_mtMu3LUMlnWQ</td>\n",
       "      <td>s-YJpfR-LFRnH7qYVFuJuw</td>\n",
       "      <td>Touhenboku Ramen Restaurant</td>\n",
       "      <td>[Japanese, Food, Restaurants, Ramen, Desserts]</td>\n",
       "      <td>{'RestaurantsTableService': True, 'GoodForMeal...</td>\n",
       "      <td>3.5</td>\n",
       "      <td>201</td>\n",
       "      <td>Toronto</td>\n",
       "      <td>ON</td>\n",
       "      <td>M5V 1Z4</td>\n",
       "      <td>...</td>\n",
       "      <td>2010-11-10</td>\n",
       "      <td>2013.0</td>\n",
       "      <td>1</td>\n",
       "      <td>[I was thrilled when I saw on twitter that ano...</td>\n",
       "      <td>I was thrilled when I saw on twitter that anot...</td>\n",
       "      <td>27.0</td>\n",
       "      <td>0.425</td>\n",
       "      <td>[I, was, thrilled, when, I, saw, on, twitter, ...</td>\n",
       "      <td>[i, was, thrill, when, i, saw, on, twitter, th...</td>\n",
       "      <td>i was thrill when i saw on twitter that anoth ...</td>\n",
       "    </tr>\n",
       "    <tr>\n",
       "      <th>1</th>\n",
       "      <td>i8A3MWU33_mtMu3LUMlnWQ</td>\n",
       "      <td>s-YJpfR-LFRnH7qYVFuJuw</td>\n",
       "      <td>Touhenboku Ramen Restaurant</td>\n",
       "      <td>[Japanese, Food, Restaurants, Ramen, Desserts]</td>\n",
       "      <td>{'RestaurantsTableService': True, 'GoodForMeal...</td>\n",
       "      <td>3.5</td>\n",
       "      <td>201</td>\n",
       "      <td>Toronto</td>\n",
       "      <td>ON</td>\n",
       "      <td>M5V 1Z4</td>\n",
       "      <td>...</td>\n",
       "      <td>2010-11-10</td>\n",
       "      <td>2013.0</td>\n",
       "      <td>1</td>\n",
       "      <td>[I was thrilled when I saw on twitter that ano...</td>\n",
       "      <td>They are officially open today!</td>\n",
       "      <td>27.0</td>\n",
       "      <td>0.000</td>\n",
       "      <td>[They, are, officially, open, today, !]</td>\n",
       "      <td>[they, are, offici, open, today, !]</td>\n",
       "      <td>they are offici open today !</td>\n",
       "    </tr>\n",
       "    <tr>\n",
       "      <th>2</th>\n",
       "      <td>i8A3MWU33_mtMu3LUMlnWQ</td>\n",
       "      <td>s-YJpfR-LFRnH7qYVFuJuw</td>\n",
       "      <td>Touhenboku Ramen Restaurant</td>\n",
       "      <td>[Japanese, Food, Restaurants, Ramen, Desserts]</td>\n",
       "      <td>{'RestaurantsTableService': True, 'GoodForMeal...</td>\n",
       "      <td>3.5</td>\n",
       "      <td>201</td>\n",
       "      <td>Toronto</td>\n",
       "      <td>ON</td>\n",
       "      <td>M5V 1Z4</td>\n",
       "      <td>...</td>\n",
       "      <td>2010-11-10</td>\n",
       "      <td>2013.0</td>\n",
       "      <td>1</td>\n",
       "      <td>[I was thrilled when I saw on twitter that ano...</td>\n",
       "      <td>Located at 261 Queen W, in my opinion this is ...</td>\n",
       "      <td>27.0</td>\n",
       "      <td>1.000</td>\n",
       "      <td>[Located, at, 261, Queen, W, ,, in, my, opinio...</td>\n",
       "      <td>[locat, at, queen, w, ,, in, my, opinion, this...</td>\n",
       "      <td>locat at queen w  in my opinion this is probab...</td>\n",
       "    </tr>\n",
       "    <tr>\n",
       "      <th>3</th>\n",
       "      <td>i8A3MWU33_mtMu3LUMlnWQ</td>\n",
       "      <td>s-YJpfR-LFRnH7qYVFuJuw</td>\n",
       "      <td>Touhenboku Ramen Restaurant</td>\n",
       "      <td>[Japanese, Food, Restaurants, Ramen, Desserts]</td>\n",
       "      <td>{'RestaurantsTableService': True, 'GoodForMeal...</td>\n",
       "      <td>3.5</td>\n",
       "      <td>201</td>\n",
       "      <td>Toronto</td>\n",
       "      <td>ON</td>\n",
       "      <td>M5V 1Z4</td>\n",
       "      <td>...</td>\n",
       "      <td>2010-11-10</td>\n",
       "      <td>2013.0</td>\n",
       "      <td>1</td>\n",
       "      <td>[I was thrilled when I saw on twitter that ano...</td>\n",
       "      <td>Who wouldn't want to have a comforting hot bow...</td>\n",
       "      <td>27.0</td>\n",
       "      <td>0.125</td>\n",
       "      <td>[Who, would, n't, want, to, have, a, comfortin...</td>\n",
       "      <td>[who, would, want, to, have, a, comfort, hot, ...</td>\n",
       "      <td>who would want to have a comfort hot bowl of r...</td>\n",
       "    </tr>\n",
       "    <tr>\n",
       "      <th>4</th>\n",
       "      <td>i8A3MWU33_mtMu3LUMlnWQ</td>\n",
       "      <td>s-YJpfR-LFRnH7qYVFuJuw</td>\n",
       "      <td>Touhenboku Ramen Restaurant</td>\n",
       "      <td>[Japanese, Food, Restaurants, Ramen, Desserts]</td>\n",
       "      <td>{'RestaurantsTableService': True, 'GoodForMeal...</td>\n",
       "      <td>3.5</td>\n",
       "      <td>201</td>\n",
       "      <td>Toronto</td>\n",
       "      <td>ON</td>\n",
       "      <td>M5V 1Z4</td>\n",
       "      <td>...</td>\n",
       "      <td>2010-11-10</td>\n",
       "      <td>2013.0</td>\n",
       "      <td>1</td>\n",
       "      <td>[I was thrilled when I saw on twitter that ano...</td>\n",
       "      <td>Can you believe that they have 450 Arita porce...</td>\n",
       "      <td>27.0</td>\n",
       "      <td>0.250</td>\n",
       "      <td>[Can, you, believe, that, they, have, 450, Ari...</td>\n",
       "      <td>[can, you, believ, that, they, have, arita, po...</td>\n",
       "      <td>can you believ that they have arita porcelain ...</td>\n",
       "    </tr>\n",
       "  </tbody>\n",
       "</table>\n",
       "<p>5 rows × 35 columns</p>\n",
       "</div>"
      ],
      "text/plain": [
       "                  user_id             business_id  \\\n",
       "0  i8A3MWU33_mtMu3LUMlnWQ  s-YJpfR-LFRnH7qYVFuJuw   \n",
       "1  i8A3MWU33_mtMu3LUMlnWQ  s-YJpfR-LFRnH7qYVFuJuw   \n",
       "2  i8A3MWU33_mtMu3LUMlnWQ  s-YJpfR-LFRnH7qYVFuJuw   \n",
       "3  i8A3MWU33_mtMu3LUMlnWQ  s-YJpfR-LFRnH7qYVFuJuw   \n",
       "4  i8A3MWU33_mtMu3LUMlnWQ  s-YJpfR-LFRnH7qYVFuJuw   \n",
       "\n",
       "                          name  \\\n",
       "0  Touhenboku Ramen Restaurant   \n",
       "1  Touhenboku Ramen Restaurant   \n",
       "2  Touhenboku Ramen Restaurant   \n",
       "3  Touhenboku Ramen Restaurant   \n",
       "4  Touhenboku Ramen Restaurant   \n",
       "\n",
       "                                       categories  \\\n",
       "0  [Japanese, Food, Restaurants, Ramen, Desserts]   \n",
       "1  [Japanese, Food, Restaurants, Ramen, Desserts]   \n",
       "2  [Japanese, Food, Restaurants, Ramen, Desserts]   \n",
       "3  [Japanese, Food, Restaurants, Ramen, Desserts]   \n",
       "4  [Japanese, Food, Restaurants, Ramen, Desserts]   \n",
       "\n",
       "                                          attributes stars  review_count  \\\n",
       "0  {'RestaurantsTableService': True, 'GoodForMeal...   3.5           201   \n",
       "1  {'RestaurantsTableService': True, 'GoodForMeal...   3.5           201   \n",
       "2  {'RestaurantsTableService': True, 'GoodForMeal...   3.5           201   \n",
       "3  {'RestaurantsTableService': True, 'GoodForMeal...   3.5           201   \n",
       "4  {'RestaurantsTableService': True, 'GoodForMeal...   3.5           201   \n",
       "\n",
       "      city state postal_code  \\\n",
       "0  Toronto    ON     M5V 1Z4   \n",
       "1  Toronto    ON     M5V 1Z4   \n",
       "2  Toronto    ON     M5V 1Z4   \n",
       "3  Toronto    ON     M5V 1Z4   \n",
       "4  Toronto    ON     M5V 1Z4   \n",
       "\n",
       "                         ...                          yelping_since  \\\n",
       "0                        ...                             2010-11-10   \n",
       "1                        ...                             2010-11-10   \n",
       "2                        ...                             2010-11-10   \n",
       "3                        ...                             2010-11-10   \n",
       "4                        ...                             2010-11-10   \n",
       "\n",
       "   first_yr_elite elite_prior  \\\n",
       "0          2013.0           1   \n",
       "1          2013.0           1   \n",
       "2          2013.0           1   \n",
       "3          2013.0           1   \n",
       "4          2013.0           1   \n",
       "\n",
       "                                          sent_token  \\\n",
       "0  [I was thrilled when I saw on twitter that ano...   \n",
       "1  [I was thrilled when I saw on twitter that ano...   \n",
       "2  [I was thrilled when I saw on twitter that ano...   \n",
       "3  [I was thrilled when I saw on twitter that ano...   \n",
       "4  [I was thrilled when I saw on twitter that ano...   \n",
       "\n",
       "                                            sentence  sent_cnt  polarity  \\\n",
       "0  I was thrilled when I saw on twitter that anot...      27.0     0.425   \n",
       "1                    They are officially open today!      27.0     0.000   \n",
       "2  Located at 261 Queen W, in my opinion this is ...      27.0     1.000   \n",
       "3  Who wouldn't want to have a comforting hot bow...      27.0     0.125   \n",
       "4  Can you believe that they have 450 Arita porce...      27.0     0.250   \n",
       "\n",
       "                                               token  \\\n",
       "0  [I, was, thrilled, when, I, saw, on, twitter, ...   \n",
       "1            [They, are, officially, open, today, !]   \n",
       "2  [Located, at, 261, Queen, W, ,, in, my, opinio...   \n",
       "3  [Who, would, n't, want, to, have, a, comfortin...   \n",
       "4  [Can, you, believe, that, they, have, 450, Ari...   \n",
       "\n",
       "                                             stemmed  \\\n",
       "0  [i, was, thrill, when, i, saw, on, twitter, th...   \n",
       "1                [they, are, offici, open, today, !]   \n",
       "2  [locat, at, queen, w, ,, in, my, opinion, this...   \n",
       "3  [who, would, want, to, have, a, comfort, hot, ...   \n",
       "4  [can, you, believ, that, they, have, arita, po...   \n",
       "\n",
       "                                            stemmed2  \n",
       "0  i was thrill when i saw on twitter that anoth ...  \n",
       "1                       they are offici open today !  \n",
       "2  locat at queen w  in my opinion this is probab...  \n",
       "3  who would want to have a comfort hot bowl of r...  \n",
       "4  can you believ that they have arita porcelain ...  \n",
       "\n",
       "[5 rows x 35 columns]"
      ]
     },
     "execution_count": 317,
     "metadata": {},
     "output_type": "execute_result"
    }
   ],
   "source": [
    "reviews_sent_token.head()"
   ]
  },
  {
   "cell_type": "code",
   "execution_count": 318,
   "metadata": {
    "ExecuteTime": {
     "end_time": "2017-11-04T20:20:44.022141Z",
     "start_time": "2017-11-04T20:20:43.010657Z"
    },
    "scrolled": true
   },
   "outputs": [
    {
     "name": "stdout",
     "output_type": "stream",
     "text": [
      "<class 'pandas.core.frame.DataFrame'>\n",
      "Int64Index: 428381 entries, 0 to 428380\n",
      "Data columns (total 35 columns):\n",
      "user_id           428363 non-null object\n",
      "business_id       428381 non-null object\n",
      "name              428381 non-null object\n",
      "categories        428381 non-null object\n",
      "attributes        428381 non-null object\n",
      "stars             428381 non-null category\n",
      "review_count      428381 non-null int64\n",
      "city              428381 non-null category\n",
      "state             428381 non-null category\n",
      "postal_code       428381 non-null category\n",
      "latitude          428381 non-null float64\n",
      "longitude         428381 non-null float64\n",
      "categories2       428381 non-null object\n",
      "name_cnt          428381 non-null int64\n",
      "Sushi             428381 non-null int64\n",
      "Pizza             428381 non-null int64\n",
      "Restaurants       428381 non-null int64\n",
      "Cat_Flag          428381 non-null int64\n",
      "cool              428363 non-null float64\n",
      "date              428363 non-null datetime64[ns]\n",
      "funny             428363 non-null float64\n",
      "review_id         428363 non-null object\n",
      "user_stars        428363 non-null category\n",
      "review_txt        428363 non-null object\n",
      "useful            428363 non-null float64\n",
      "yelping_since     428363 non-null object\n",
      "first_yr_elite    428363 non-null float64\n",
      "elite_prior       428381 non-null int64\n",
      "sent_token        428381 non-null object\n",
      "sentence          428381 non-null object\n",
      "sent_cnt          428363 non-null float64\n",
      "polarity          428381 non-null float64\n",
      "token             428381 non-null object\n",
      "stemmed           428381 non-null object\n",
      "stemmed2          428381 non-null object\n",
      "dtypes: category(5), datetime64[ns](1), float64(8), int64(7), object(14)\n",
      "memory usage: 103.9+ MB\n"
     ]
    }
   ],
   "source": [
    "reviews_sent_token.info()"
   ]
  },
  {
   "cell_type": "code",
   "execution_count": 319,
   "metadata": {
    "ExecuteTime": {
     "end_time": "2017-11-04T20:20:44.049048Z",
     "start_time": "2017-11-04T20:20:44.037171Z"
    }
   },
   "outputs": [
    {
     "data": {
      "text/plain": [
       "(428381, 35)"
      ]
     },
     "execution_count": 319,
     "metadata": {},
     "output_type": "execute_result"
    }
   ],
   "source": [
    "reviews_sent_token.shape"
   ]
  },
  {
   "cell_type": "code",
   "execution_count": 320,
   "metadata": {
    "ExecuteTime": {
     "end_time": "2017-11-04T20:20:56.479397Z",
     "start_time": "2017-11-04T20:20:44.055697Z"
    },
    "collapsed": true
   },
   "outputs": [],
   "source": [
    "reviews_sent_token.to_pickle('data/reviews_sent_token.pkl')"
   ]
  },
  {
   "cell_type": "markdown",
   "metadata": {},
   "source": [
    "### Load dataset"
   ]
  },
  {
   "cell_type": "code",
   "execution_count": 321,
   "metadata": {
    "ExecuteTime": {
     "end_time": "2017-11-04T20:21:03.390408Z",
     "start_time": "2017-11-04T20:20:56.486087Z"
    },
    "collapsed": true
   },
   "outputs": [],
   "source": [
    "reviews_sent_token = np.load('data/reviews_sent_token.pkl')"
   ]
  },
  {
   "cell_type": "code",
   "execution_count": 322,
   "metadata": {
    "ExecuteTime": {
     "end_time": "2017-11-04T20:21:04.194789Z",
     "start_time": "2017-11-04T20:21:03.395336Z"
    }
   },
   "outputs": [
    {
     "data": {
      "text/plain": [
       "0.15265344310000001"
      ]
     },
     "execution_count": 322,
     "metadata": {},
     "output_type": "execute_result"
    }
   ],
   "source": [
    "(reviews_sent_token.memory_usage(deep=True).sum())/(10e9)"
   ]
  },
  {
   "cell_type": "code",
   "execution_count": 323,
   "metadata": {
    "ExecuteTime": {
     "end_time": "2017-11-04T20:21:04.204436Z",
     "start_time": "2017-11-04T20:21:04.200263Z"
    },
    "collapsed": true
   },
   "outputs": [],
   "source": [
    "#reviews_tokenized = tokenize_stem(reviews_token, 'review_txt')"
   ]
  },
  {
   "cell_type": "code",
   "execution_count": 324,
   "metadata": {
    "ExecuteTime": {
     "end_time": "2017-11-04T20:21:04.209647Z",
     "start_time": "2017-11-04T20:21:04.207087Z"
    },
    "collapsed": true
   },
   "outputs": [],
   "source": [
    "#reviews_token.shape"
   ]
  },
  {
   "cell_type": "code",
   "execution_count": 325,
   "metadata": {
    "ExecuteTime": {
     "end_time": "2017-11-04T20:21:04.220742Z",
     "start_time": "2017-11-04T20:21:04.213170Z"
    }
   },
   "outputs": [
    {
     "data": {
      "text/plain": [
       "(428381, 35)"
      ]
     },
     "execution_count": 325,
     "metadata": {},
     "output_type": "execute_result"
    }
   ],
   "source": [
    "#reviews_tokenized.to_pickle('data/reviews_tokenized.pkl')\n",
    "reviews_sent_token.shape"
   ]
  },
  {
   "cell_type": "code",
   "execution_count": 326,
   "metadata": {
    "ExecuteTime": {
     "end_time": "2017-11-04T20:21:04.296468Z",
     "start_time": "2017-11-04T20:21:04.223451Z"
    },
    "scrolled": true
   },
   "outputs": [
    {
     "data": {
      "text/html": [
       "<div>\n",
       "<style>\n",
       "    .dataframe thead tr:only-child th {\n",
       "        text-align: right;\n",
       "    }\n",
       "\n",
       "    .dataframe thead th {\n",
       "        text-align: left;\n",
       "    }\n",
       "\n",
       "    .dataframe tbody tr th {\n",
       "        vertical-align: top;\n",
       "    }\n",
       "</style>\n",
       "<table border=\"1\" class=\"dataframe\">\n",
       "  <thead>\n",
       "    <tr style=\"text-align: right;\">\n",
       "      <th></th>\n",
       "      <th>user_id</th>\n",
       "      <th>business_id</th>\n",
       "      <th>name</th>\n",
       "      <th>categories</th>\n",
       "      <th>attributes</th>\n",
       "      <th>stars</th>\n",
       "      <th>review_count</th>\n",
       "      <th>city</th>\n",
       "      <th>state</th>\n",
       "      <th>postal_code</th>\n",
       "      <th>...</th>\n",
       "      <th>yelping_since</th>\n",
       "      <th>first_yr_elite</th>\n",
       "      <th>elite_prior</th>\n",
       "      <th>sent_token</th>\n",
       "      <th>sentence</th>\n",
       "      <th>sent_cnt</th>\n",
       "      <th>polarity</th>\n",
       "      <th>token</th>\n",
       "      <th>stemmed</th>\n",
       "      <th>stemmed2</th>\n",
       "    </tr>\n",
       "  </thead>\n",
       "  <tbody>\n",
       "    <tr>\n",
       "      <th>0</th>\n",
       "      <td>i8A3MWU33_mtMu3LUMlnWQ</td>\n",
       "      <td>s-YJpfR-LFRnH7qYVFuJuw</td>\n",
       "      <td>Touhenboku Ramen Restaurant</td>\n",
       "      <td>[Japanese, Food, Restaurants, Ramen, Desserts]</td>\n",
       "      <td>{'RestaurantsTableService': True, 'GoodForMeal...</td>\n",
       "      <td>3.5</td>\n",
       "      <td>201</td>\n",
       "      <td>Toronto</td>\n",
       "      <td>ON</td>\n",
       "      <td>M5V 1Z4</td>\n",
       "      <td>...</td>\n",
       "      <td>2010-11-10</td>\n",
       "      <td>2013.0</td>\n",
       "      <td>1</td>\n",
       "      <td>[I was thrilled when I saw on twitter that ano...</td>\n",
       "      <td>I was thrilled when I saw on twitter that anot...</td>\n",
       "      <td>27.0</td>\n",
       "      <td>0.425</td>\n",
       "      <td>[I, was, thrilled, when, I, saw, on, twitter, ...</td>\n",
       "      <td>[i, was, thrill, when, i, saw, on, twitter, th...</td>\n",
       "      <td>i was thrill when i saw on twitter that anoth ...</td>\n",
       "    </tr>\n",
       "    <tr>\n",
       "      <th>1</th>\n",
       "      <td>i8A3MWU33_mtMu3LUMlnWQ</td>\n",
       "      <td>s-YJpfR-LFRnH7qYVFuJuw</td>\n",
       "      <td>Touhenboku Ramen Restaurant</td>\n",
       "      <td>[Japanese, Food, Restaurants, Ramen, Desserts]</td>\n",
       "      <td>{'RestaurantsTableService': True, 'GoodForMeal...</td>\n",
       "      <td>3.5</td>\n",
       "      <td>201</td>\n",
       "      <td>Toronto</td>\n",
       "      <td>ON</td>\n",
       "      <td>M5V 1Z4</td>\n",
       "      <td>...</td>\n",
       "      <td>2010-11-10</td>\n",
       "      <td>2013.0</td>\n",
       "      <td>1</td>\n",
       "      <td>[I was thrilled when I saw on twitter that ano...</td>\n",
       "      <td>They are officially open today!</td>\n",
       "      <td>27.0</td>\n",
       "      <td>0.000</td>\n",
       "      <td>[They, are, officially, open, today, !]</td>\n",
       "      <td>[they, are, offici, open, today, !]</td>\n",
       "      <td>they are offici open today !</td>\n",
       "    </tr>\n",
       "    <tr>\n",
       "      <th>2</th>\n",
       "      <td>i8A3MWU33_mtMu3LUMlnWQ</td>\n",
       "      <td>s-YJpfR-LFRnH7qYVFuJuw</td>\n",
       "      <td>Touhenboku Ramen Restaurant</td>\n",
       "      <td>[Japanese, Food, Restaurants, Ramen, Desserts]</td>\n",
       "      <td>{'RestaurantsTableService': True, 'GoodForMeal...</td>\n",
       "      <td>3.5</td>\n",
       "      <td>201</td>\n",
       "      <td>Toronto</td>\n",
       "      <td>ON</td>\n",
       "      <td>M5V 1Z4</td>\n",
       "      <td>...</td>\n",
       "      <td>2010-11-10</td>\n",
       "      <td>2013.0</td>\n",
       "      <td>1</td>\n",
       "      <td>[I was thrilled when I saw on twitter that ano...</td>\n",
       "      <td>Located at 261 Queen W, in my opinion this is ...</td>\n",
       "      <td>27.0</td>\n",
       "      <td>1.000</td>\n",
       "      <td>[Located, at, 261, Queen, W, ,, in, my, opinio...</td>\n",
       "      <td>[locat, at, queen, w, ,, in, my, opinion, this...</td>\n",
       "      <td>locat at queen w  in my opinion this is probab...</td>\n",
       "    </tr>\n",
       "    <tr>\n",
       "      <th>3</th>\n",
       "      <td>i8A3MWU33_mtMu3LUMlnWQ</td>\n",
       "      <td>s-YJpfR-LFRnH7qYVFuJuw</td>\n",
       "      <td>Touhenboku Ramen Restaurant</td>\n",
       "      <td>[Japanese, Food, Restaurants, Ramen, Desserts]</td>\n",
       "      <td>{'RestaurantsTableService': True, 'GoodForMeal...</td>\n",
       "      <td>3.5</td>\n",
       "      <td>201</td>\n",
       "      <td>Toronto</td>\n",
       "      <td>ON</td>\n",
       "      <td>M5V 1Z4</td>\n",
       "      <td>...</td>\n",
       "      <td>2010-11-10</td>\n",
       "      <td>2013.0</td>\n",
       "      <td>1</td>\n",
       "      <td>[I was thrilled when I saw on twitter that ano...</td>\n",
       "      <td>Who wouldn't want to have a comforting hot bow...</td>\n",
       "      <td>27.0</td>\n",
       "      <td>0.125</td>\n",
       "      <td>[Who, would, n't, want, to, have, a, comfortin...</td>\n",
       "      <td>[who, would, want, to, have, a, comfort, hot, ...</td>\n",
       "      <td>who would want to have a comfort hot bowl of r...</td>\n",
       "    </tr>\n",
       "    <tr>\n",
       "      <th>4</th>\n",
       "      <td>i8A3MWU33_mtMu3LUMlnWQ</td>\n",
       "      <td>s-YJpfR-LFRnH7qYVFuJuw</td>\n",
       "      <td>Touhenboku Ramen Restaurant</td>\n",
       "      <td>[Japanese, Food, Restaurants, Ramen, Desserts]</td>\n",
       "      <td>{'RestaurantsTableService': True, 'GoodForMeal...</td>\n",
       "      <td>3.5</td>\n",
       "      <td>201</td>\n",
       "      <td>Toronto</td>\n",
       "      <td>ON</td>\n",
       "      <td>M5V 1Z4</td>\n",
       "      <td>...</td>\n",
       "      <td>2010-11-10</td>\n",
       "      <td>2013.0</td>\n",
       "      <td>1</td>\n",
       "      <td>[I was thrilled when I saw on twitter that ano...</td>\n",
       "      <td>Can you believe that they have 450 Arita porce...</td>\n",
       "      <td>27.0</td>\n",
       "      <td>0.250</td>\n",
       "      <td>[Can, you, believe, that, they, have, 450, Ari...</td>\n",
       "      <td>[can, you, believ, that, they, have, arita, po...</td>\n",
       "      <td>can you believ that they have arita porcelain ...</td>\n",
       "    </tr>\n",
       "  </tbody>\n",
       "</table>\n",
       "<p>5 rows × 35 columns</p>\n",
       "</div>"
      ],
      "text/plain": [
       "                  user_id             business_id  \\\n",
       "0  i8A3MWU33_mtMu3LUMlnWQ  s-YJpfR-LFRnH7qYVFuJuw   \n",
       "1  i8A3MWU33_mtMu3LUMlnWQ  s-YJpfR-LFRnH7qYVFuJuw   \n",
       "2  i8A3MWU33_mtMu3LUMlnWQ  s-YJpfR-LFRnH7qYVFuJuw   \n",
       "3  i8A3MWU33_mtMu3LUMlnWQ  s-YJpfR-LFRnH7qYVFuJuw   \n",
       "4  i8A3MWU33_mtMu3LUMlnWQ  s-YJpfR-LFRnH7qYVFuJuw   \n",
       "\n",
       "                          name  \\\n",
       "0  Touhenboku Ramen Restaurant   \n",
       "1  Touhenboku Ramen Restaurant   \n",
       "2  Touhenboku Ramen Restaurant   \n",
       "3  Touhenboku Ramen Restaurant   \n",
       "4  Touhenboku Ramen Restaurant   \n",
       "\n",
       "                                       categories  \\\n",
       "0  [Japanese, Food, Restaurants, Ramen, Desserts]   \n",
       "1  [Japanese, Food, Restaurants, Ramen, Desserts]   \n",
       "2  [Japanese, Food, Restaurants, Ramen, Desserts]   \n",
       "3  [Japanese, Food, Restaurants, Ramen, Desserts]   \n",
       "4  [Japanese, Food, Restaurants, Ramen, Desserts]   \n",
       "\n",
       "                                          attributes stars  review_count  \\\n",
       "0  {'RestaurantsTableService': True, 'GoodForMeal...   3.5           201   \n",
       "1  {'RestaurantsTableService': True, 'GoodForMeal...   3.5           201   \n",
       "2  {'RestaurantsTableService': True, 'GoodForMeal...   3.5           201   \n",
       "3  {'RestaurantsTableService': True, 'GoodForMeal...   3.5           201   \n",
       "4  {'RestaurantsTableService': True, 'GoodForMeal...   3.5           201   \n",
       "\n",
       "      city state postal_code  \\\n",
       "0  Toronto    ON     M5V 1Z4   \n",
       "1  Toronto    ON     M5V 1Z4   \n",
       "2  Toronto    ON     M5V 1Z4   \n",
       "3  Toronto    ON     M5V 1Z4   \n",
       "4  Toronto    ON     M5V 1Z4   \n",
       "\n",
       "                         ...                          yelping_since  \\\n",
       "0                        ...                             2010-11-10   \n",
       "1                        ...                             2010-11-10   \n",
       "2                        ...                             2010-11-10   \n",
       "3                        ...                             2010-11-10   \n",
       "4                        ...                             2010-11-10   \n",
       "\n",
       "   first_yr_elite elite_prior  \\\n",
       "0          2013.0           1   \n",
       "1          2013.0           1   \n",
       "2          2013.0           1   \n",
       "3          2013.0           1   \n",
       "4          2013.0           1   \n",
       "\n",
       "                                          sent_token  \\\n",
       "0  [I was thrilled when I saw on twitter that ano...   \n",
       "1  [I was thrilled when I saw on twitter that ano...   \n",
       "2  [I was thrilled when I saw on twitter that ano...   \n",
       "3  [I was thrilled when I saw on twitter that ano...   \n",
       "4  [I was thrilled when I saw on twitter that ano...   \n",
       "\n",
       "                                            sentence  sent_cnt  polarity  \\\n",
       "0  I was thrilled when I saw on twitter that anot...      27.0     0.425   \n",
       "1                    They are officially open today!      27.0     0.000   \n",
       "2  Located at 261 Queen W, in my opinion this is ...      27.0     1.000   \n",
       "3  Who wouldn't want to have a comforting hot bow...      27.0     0.125   \n",
       "4  Can you believe that they have 450 Arita porce...      27.0     0.250   \n",
       "\n",
       "                                               token  \\\n",
       "0  [I, was, thrilled, when, I, saw, on, twitter, ...   \n",
       "1            [They, are, officially, open, today, !]   \n",
       "2  [Located, at, 261, Queen, W, ,, in, my, opinio...   \n",
       "3  [Who, would, n't, want, to, have, a, comfortin...   \n",
       "4  [Can, you, believe, that, they, have, 450, Ari...   \n",
       "\n",
       "                                             stemmed  \\\n",
       "0  [i, was, thrill, when, i, saw, on, twitter, th...   \n",
       "1                [they, are, offici, open, today, !]   \n",
       "2  [locat, at, queen, w, ,, in, my, opinion, this...   \n",
       "3  [who, would, want, to, have, a, comfort, hot, ...   \n",
       "4  [can, you, believ, that, they, have, arita, po...   \n",
       "\n",
       "                                            stemmed2  \n",
       "0  i was thrill when i saw on twitter that anoth ...  \n",
       "1                       they are offici open today !  \n",
       "2  locat at queen w  in my opinion this is probab...  \n",
       "3  who would want to have a comfort hot bowl of r...  \n",
       "4  can you believ that they have arita porcelain ...  \n",
       "\n",
       "[5 rows x 35 columns]"
      ]
     },
     "execution_count": 326,
     "metadata": {},
     "output_type": "execute_result"
    }
   ],
   "source": [
    "reviews_sent_token.head()"
   ]
  },
  {
   "cell_type": "markdown",
   "metadata": {},
   "source": [
    "#### Count Vectorize and LDA on all Sentences"
   ]
  },
  {
   "cell_type": "code",
   "execution_count": 327,
   "metadata": {
    "ExecuteTime": {
     "end_time": "2017-11-04T20:21:04.303164Z",
     "start_time": "2017-11-04T20:21:04.299691Z"
    },
    "collapsed": true
   },
   "outputs": [],
   "source": [
    "# reviews_vect_df['review_txt'].head()[0]"
   ]
  },
  {
   "cell_type": "code",
   "execution_count": 328,
   "metadata": {
    "ExecuteTime": {
     "end_time": "2017-11-04T20:21:04.309546Z",
     "start_time": "2017-11-04T20:21:04.307011Z"
    },
    "collapsed": true
   },
   "outputs": [],
   "source": [
    "#reviews_sent_token.head()"
   ]
  },
  {
   "cell_type": "code",
   "execution_count": 329,
   "metadata": {
    "ExecuteTime": {
     "end_time": "2017-11-04T20:21:04.325254Z",
     "start_time": "2017-11-04T20:21:04.313020Z"
    },
    "collapsed": true
   },
   "outputs": [],
   "source": [
    "def display_topics(model, feature_names, no_top_words):\n",
    "    for topic_idx, topic in enumerate(model.components_):\n",
    "        print( \"Topic %d:\" % (topic_idx + 1))\n",
    "        print(\" \".join([feature_names[i]\n",
    "                        for i in topic.argsort()[ :-no_top_words - 1:-1]]))\n"
   ]
  },
  {
   "cell_type": "code",
   "execution_count": 330,
   "metadata": {
    "ExecuteTime": {
     "end_time": "2017-11-04T20:21:04.332648Z",
     "start_time": "2017-11-04T20:21:04.328655Z"
    },
    "code_folding": [],
    "collapsed": true
   },
   "outputs": [],
   "source": [
    "#lda_fit.components_"
   ]
  },
  {
   "cell_type": "code",
   "execution_count": 331,
   "metadata": {
    "ExecuteTime": {
     "end_time": "2017-11-04T20:21:04.347202Z",
     "start_time": "2017-11-04T20:21:04.337663Z"
    },
    "collapsed": true
   },
   "outputs": [],
   "source": [
    "no_topics = 30\n",
    "no_top_words = 10\n",
    "\n",
    "LDA_cols = ['LDA_' + str(i) for i in range(1, no_topics + 1)]\n"
   ]
  },
  {
   "cell_type": "code",
   "execution_count": 388,
   "metadata": {
    "ExecuteTime": {
     "end_time": "2017-11-04T21:47:08.125010Z",
     "start_time": "2017-11-04T21:47:02.229176Z"
    },
    "collapsed": true
   },
   "outputs": [],
   "source": [
    "# LDA can only use raw term counts for LDA because it is a probabilistic graphical model\n",
    "tf_vectorizer = CountVectorizer(max_df=0.90, min_df=20, stop_words = my_stop_words)\n",
    "\n",
    "tf = tf_vectorizer.fit_transform(reviews_sent_token['stemmed2'])\n",
    "tf_feature_names = tf_vectorizer.get_feature_names()\n"
   ]
  },
  {
   "cell_type": "code",
   "execution_count": 389,
   "metadata": {
    "ExecuteTime": {
     "end_time": "2017-11-04T21:47:08.133665Z",
     "start_time": "2017-11-04T21:47:08.126710Z"
    },
    "collapsed": true
   },
   "outputs": [],
   "source": [
    "lda = LatentDirichletAllocation(n_components = no_topics, max_iter = 10, learning_method='online',\n",
    "                                learning_offset=50., random_state = 10)\n",
    "\n",
    "\n"
   ]
  },
  {
   "cell_type": "code",
   "execution_count": 390,
   "metadata": {
    "ExecuteTime": {
     "end_time": "2017-11-04T21:58:09.981065Z",
     "start_time": "2017-11-04T21:47:09.521895Z"
    },
    "collapsed": true
   },
   "outputs": [],
   "source": [
    "lda_fit = lda.fit(tf)"
   ]
  },
  {
   "cell_type": "code",
   "execution_count": 335,
   "metadata": {
    "ExecuteTime": {
     "end_time": "2017-11-04T20:32:09.699309Z",
     "start_time": "2017-11-04T20:32:09.648205Z"
    },
    "collapsed": true
   },
   "outputs": [],
   "source": [
    "# save the model to disk\n",
    "# https://machinelearningmastery.com/save-load-machine-learning-models-python-scikit-learn/\n",
    "filename = 'lda.sav'\n",
    "pickle.dump(lda, open(filename, 'wb'))\n",
    "\n",
    "\n",
    "filename = 'lda_fit.sav'\n",
    "pickle.dump(lda_fit, open(filename, 'wb'))\n"
   ]
  },
  {
   "cell_type": "markdown",
   "metadata": {
    "collapsed": true
   },
   "source": [
    "### NMF"
   ]
  },
  {
   "cell_type": "code",
   "execution_count": 381,
   "metadata": {
    "ExecuteTime": {
     "end_time": "2017-11-04T21:42:59.054233Z",
     "start_time": "2017-11-04T21:42:59.045329Z"
    },
    "collapsed": true
   },
   "outputs": [],
   "source": [
    "more_words = ['pizza', 'beer', 'burger', 'salad', 'mexican', 'chicken', 'phoenix', 'fri', 'taco', 'toronto', 'charlott', 'sauc']\n",
    "\n",
    "my_stop_words = text.ENGLISH_STOP_WORDS.union(more_words)"
   ]
  },
  {
   "cell_type": "code",
   "execution_count": 384,
   "metadata": {
    "ExecuteTime": {
     "end_time": "2017-11-04T21:43:07.071759Z",
     "start_time": "2017-11-04T21:43:00.833490Z"
    },
    "collapsed": true
   },
   "outputs": [],
   "source": [
    "# TFIDF\n",
    "tfidf_vectorizer = TfidfVectorizer(max_df=0.90, min_df=20, stop_words = my_stop_words)\n",
    "# stop_words='english'\n",
    "tfidf = tfidf_vectorizer.fit_transform(reviews_sent_token['stemmed2'])\n",
    "tfidf_feature_names = tfidf_vectorizer.get_feature_names()\n"
   ]
  },
  {
   "cell_type": "code",
   "execution_count": 385,
   "metadata": {
    "ExecuteTime": {
     "end_time": "2017-11-04T21:44:49.297394Z",
     "start_time": "2017-11-04T21:43:07.073715Z"
    },
    "collapsed": true
   },
   "outputs": [],
   "source": [
    "nmf = NMF(n_components = 20, random_state=1, alpha=.1, l1_ratio=.5, init='nndsvd').fit(tfidf)\n"
   ]
  },
  {
   "cell_type": "code",
   "execution_count": 387,
   "metadata": {
    "ExecuteTime": {
     "end_time": "2017-11-04T21:44:49.337369Z",
     "start_time": "2017-11-04T21:44:49.320948Z"
    },
    "collapsed": true
   },
   "outputs": [
    {
     "name": "stdout",
     "output_type": "stream",
     "text": [
      "Topic 1:\n",
      "great atmospher experi price select spot overal tast lunch drink\n",
      "Topic 2:\n",
      "good pretti price tast overal select thing look alway portion\n",
      "Topic 3:\n",
      "place recommend awesom favorit look high new want star busi\n",
      "Topic 4:\n",
      "food price excel qualiti fresh fast decent awesom fantast ok\n",
      "Topic 5:\n",
      "like tast look feel felt someth did fresh lot chees\n",
      "Topic 6:\n",
      "servic excel custom slow fast quick alway terribl bad attent\n",
      "Topic 7:\n",
      "love absolut atmospher decor husband everyth locat patio ambianc restaur\n",
      "Topic 8:\n",
      "veri nice tasti disappoint price fresh attent reason flavor atmospher\n",
      "Topic 9:\n",
      "time everi went long second visit sever mani lunch alway\n",
      "Topic 10:\n",
      "order drink dish chees took sandwich came minut appet got\n",
      "Topic 11:\n",
      "definit recommend return high worth visit area soon check anyon\n",
      "Topic 12:\n",
      "delici fresh everyth absolut perfect flavor alway sandwich tast bread\n",
      "Topic 13:\n",
      "realli enjoy nice want tasti impress cool experi bad atmospher\n",
      "Topic 14:\n",
      "friend staff alway super attent help server recommend went fast\n",
      "Topic 15:\n",
      "amaz absolut everyth flavor experi simpli tast sandwich staff alway\n",
      "Topic 16:\n",
      "tri menu decid want dish someth item everyth new differ\n",
      "Topic 17:\n",
      "just ok right okay bad say want mayb perfect think\n",
      "Topic 18:\n",
      "best town restaur far probabl hand sushi thing citi meal\n",
      "Topic 19:\n",
      "come year sure alway wo probabl soon everi think ca\n",
      "Topic 20:\n",
      "wait did restaur onli tabl eat drink minut came got\n"
     ]
    }
   ],
   "source": [
    "display_topics(nmf, tfidf_feature_names, no_top_words=10)"
   ]
  },
  {
   "cell_type": "markdown",
   "metadata": {},
   "source": [
    "### LDA Topics"
   ]
  },
  {
   "cell_type": "code",
   "execution_count": 393,
   "metadata": {
    "ExecuteTime": {
     "end_time": "2017-11-04T22:11:15.430437Z",
     "start_time": "2017-11-04T22:11:15.407031Z"
    },
    "code_folding": [],
    "collapsed": true
   },
   "outputs": [
    {
     "name": "stdout",
     "output_type": "stream",
     "text": [
      "Topic 1:\n",
      "sandwich special ca noth option decent stop food absolut pack consist typic present lettuc cafe\n",
      "Topic 2:\n",
      "price recommend chees star day bad expect high els wing bbq street averag cheap money\n",
      "Topic 3:\n",
      "realli flavor work beef fish grill week surpris veggi help wife extrem pleas complet pleasant\n",
      "Topic 4:\n",
      "good food definit pretti disappoint qualiti left gave salmon ambianc varieti expens given receiv standard\n",
      "Topic 5:\n",
      "came lunch small hour rice worth big chip bacon bean glass cocktail dure beauti space\n",
      "Topic 6:\n",
      "order dinner end flavour hand pepper comfort boyfriend basic ramen readi mouth min tortilla oyster\n",
      "Topic 7:\n",
      "dish breakfast waiter bring sat chef french butter turn saw rate greet unfortun pancak paid\n",
      "Topic 8:\n",
      "ask bread open return point free hope okay wish dress eaten season bun sign complaint\n",
      "Topic 9:\n",
      "food servic wait tabl nice minut excel walk wine patio outsid share second crispi pick\n",
      "Topic 10:\n",
      "got lot locat meat anoth sit probabl close let leav pasta oh list shop soon\n",
      "Topic 11:\n",
      "delici perfect tasti cook pork half total tender tuna wow ladi waffl stick broth brown\n",
      "Topic 12:\n",
      "place restaur amaz experi tell thank music kid authent drive treat vibe addit horribl world\n",
      "Topic 13:\n",
      "love alway server feel like live clean group husband water final room brought wrong felt\n",
      "Topic 14:\n",
      "like did tast look bar serv enjoy said took howev decor bite care fair ani\n",
      "Topic 15:\n",
      "best drink want sweet happi potato home town yelp late dip stay mind citi consid\n",
      "Topic 16:\n",
      "hot custom told owner piec pay bowl local rib dri believ problem avail dog cost\n",
      "Topic 17:\n",
      "sushi actual thought old line kitchen parti slice style ingredi read wrap grab past play\n",
      "Topic 18:\n",
      "eat think way long reason away food whi attent price regular warm prepar set rememb\n",
      "Topic 19:\n",
      "bit roll awesom soup ani spici year doe mayb red extra curri type garlic cut\n",
      "Topic 20:\n",
      "becaus night right waitress fantast fast far door ate bartend later crust toast lack thai\n",
      "Topic 21:\n",
      "just befor shrimp person wonder famili burrito salsa entre date joint sausag lamb app word\n",
      "Topic 22:\n",
      "fresh use spot dessert start plate super cream ice light fun cake instead hit soft\n",
      "Topic 23:\n",
      "sure differ dine kind manag onc huge tea fan chocol scottsdal abl choos hungri bottl\n",
      "Topic 24:\n",
      "great thing food atmospher servic mani steak appet hous chees deal chines mac anyon margarita\n",
      "Topic 25:\n",
      "menu know everyth coffe overal item usual larg ok arriv choic hard cours noodl main\n",
      "Topic 26:\n",
      "onli busi someth portion quick egg insid green onion guy mushroom reserv alreadi brisket cash\n",
      "Topic 27:\n",
      "make went peopl favorit offer select brunch especi chang yummi someon italian sunday tip talk\n",
      "Topic 28:\n",
      "review new check decid anyth coupl cool impress tomato mix miss suggest add month heard\n",
      "Topic 29:\n",
      "veri time come littl seat visit area sinc everi quit nice size everyon park finish\n",
      "Topic 30:\n",
      "tri friend meal staff say better need veri time servic includ wo today slow weekend\n"
     ]
    }
   ],
   "source": [
    "#display_topics(nmf, tfidf_feature_names, no_top_words)\n",
    "display_topics(lda_fit, tf_feature_names, no_top_words=15)"
   ]
  },
  {
   "cell_type": "code",
   "execution_count": 337,
   "metadata": {
    "ExecuteTime": {
     "end_time": "2017-11-04T20:32:09.743758Z",
     "start_time": "2017-11-04T20:32:09.735948Z"
    },
    "collapsed": true
   },
   "outputs": [],
   "source": [
    "# load the model from disk\n",
    "filename = 'lda_fit.sav'\n",
    "\n",
    "lda_fit = pickle.load(open(filename, 'rb'))\n"
   ]
  },
  {
   "cell_type": "code",
   "execution_count": 338,
   "metadata": {
    "ExecuteTime": {
     "end_time": "2017-11-04T20:32:28.370344Z",
     "start_time": "2017-11-04T20:32:09.747304Z"
    },
    "collapsed": true
   },
   "outputs": [],
   "source": [
    "# Create a DF with LDA cols\n",
    "lda_x = pd.DataFrame(lda.transform(tf), columns = LDA_cols)\n"
   ]
  },
  {
   "cell_type": "markdown",
   "metadata": {},
   "source": [
    "### Pickle file"
   ]
  },
  {
   "cell_type": "code",
   "execution_count": 339,
   "metadata": {
    "ExecuteTime": {
     "end_time": "2017-11-04T20:32:28.604105Z",
     "start_time": "2017-11-04T20:32:28.373828Z"
    },
    "collapsed": true
   },
   "outputs": [],
   "source": [
    "lda_x.to_pickle('data/lda_x.pkl')"
   ]
  },
  {
   "cell_type": "code",
   "execution_count": 340,
   "metadata": {
    "ExecuteTime": {
     "end_time": "2017-11-04T20:32:28.617665Z",
     "start_time": "2017-11-04T20:32:28.610710Z"
    }
   },
   "outputs": [
    {
     "data": {
      "text/plain": [
       "(428381, 30)"
      ]
     },
     "execution_count": 340,
     "metadata": {},
     "output_type": "execute_result"
    }
   ],
   "source": [
    "lda_x.shape"
   ]
  },
  {
   "cell_type": "code",
   "execution_count": 341,
   "metadata": {
    "ExecuteTime": {
     "end_time": "2017-11-04T20:32:28.663563Z",
     "start_time": "2017-11-04T20:32:28.620709Z"
    }
   },
   "outputs": [
    {
     "data": {
      "text/html": [
       "<div>\n",
       "<style>\n",
       "    .dataframe thead tr:only-child th {\n",
       "        text-align: right;\n",
       "    }\n",
       "\n",
       "    .dataframe thead th {\n",
       "        text-align: left;\n",
       "    }\n",
       "\n",
       "    .dataframe tbody tr th {\n",
       "        vertical-align: top;\n",
       "    }\n",
       "</style>\n",
       "<table border=\"1\" class=\"dataframe\">\n",
       "  <thead>\n",
       "    <tr style=\"text-align: right;\">\n",
       "      <th></th>\n",
       "      <th>LDA_1</th>\n",
       "      <th>LDA_2</th>\n",
       "      <th>LDA_3</th>\n",
       "      <th>LDA_4</th>\n",
       "      <th>LDA_5</th>\n",
       "      <th>LDA_6</th>\n",
       "      <th>LDA_7</th>\n",
       "      <th>LDA_8</th>\n",
       "      <th>LDA_9</th>\n",
       "      <th>LDA_10</th>\n",
       "      <th>...</th>\n",
       "      <th>LDA_21</th>\n",
       "      <th>LDA_22</th>\n",
       "      <th>LDA_23</th>\n",
       "      <th>LDA_24</th>\n",
       "      <th>LDA_25</th>\n",
       "      <th>LDA_26</th>\n",
       "      <th>LDA_27</th>\n",
       "      <th>LDA_28</th>\n",
       "      <th>LDA_29</th>\n",
       "      <th>LDA_30</th>\n",
       "    </tr>\n",
       "  </thead>\n",
       "  <tbody>\n",
       "    <tr>\n",
       "      <th>0</th>\n",
       "      <td>0.602222</td>\n",
       "      <td>0.002222</td>\n",
       "      <td>0.002222</td>\n",
       "      <td>0.002222</td>\n",
       "      <td>0.002222</td>\n",
       "      <td>0.002222</td>\n",
       "      <td>0.002222</td>\n",
       "      <td>0.002222</td>\n",
       "      <td>0.002222</td>\n",
       "      <td>0.002222</td>\n",
       "      <td>...</td>\n",
       "      <td>0.002222</td>\n",
       "      <td>0.002222</td>\n",
       "      <td>0.002222</td>\n",
       "      <td>0.002222</td>\n",
       "      <td>0.002222</td>\n",
       "      <td>0.135556</td>\n",
       "      <td>0.002222</td>\n",
       "      <td>0.002222</td>\n",
       "      <td>0.002222</td>\n",
       "      <td>0.002222</td>\n",
       "    </tr>\n",
       "    <tr>\n",
       "      <th>1</th>\n",
       "      <td>0.008333</td>\n",
       "      <td>0.008333</td>\n",
       "      <td>0.008333</td>\n",
       "      <td>0.008333</td>\n",
       "      <td>0.008333</td>\n",
       "      <td>0.008333</td>\n",
       "      <td>0.008333</td>\n",
       "      <td>0.008333</td>\n",
       "      <td>0.258333</td>\n",
       "      <td>0.008333</td>\n",
       "      <td>...</td>\n",
       "      <td>0.008333</td>\n",
       "      <td>0.008333</td>\n",
       "      <td>0.258333</td>\n",
       "      <td>0.008333</td>\n",
       "      <td>0.008333</td>\n",
       "      <td>0.008333</td>\n",
       "      <td>0.008333</td>\n",
       "      <td>0.008333</td>\n",
       "      <td>0.008333</td>\n",
       "      <td>0.008333</td>\n",
       "    </tr>\n",
       "    <tr>\n",
       "      <th>2</th>\n",
       "      <td>0.003333</td>\n",
       "      <td>0.003333</td>\n",
       "      <td>0.003333</td>\n",
       "      <td>0.003333</td>\n",
       "      <td>0.003333</td>\n",
       "      <td>0.003333</td>\n",
       "      <td>0.103333</td>\n",
       "      <td>0.003333</td>\n",
       "      <td>0.103333</td>\n",
       "      <td>0.003333</td>\n",
       "      <td>...</td>\n",
       "      <td>0.003333</td>\n",
       "      <td>0.003333</td>\n",
       "      <td>0.003333</td>\n",
       "      <td>0.103333</td>\n",
       "      <td>0.003333</td>\n",
       "      <td>0.503333</td>\n",
       "      <td>0.003333</td>\n",
       "      <td>0.003333</td>\n",
       "      <td>0.003333</td>\n",
       "      <td>0.003333</td>\n",
       "    </tr>\n",
       "    <tr>\n",
       "      <th>3</th>\n",
       "      <td>0.002381</td>\n",
       "      <td>0.002381</td>\n",
       "      <td>0.002381</td>\n",
       "      <td>0.002381</td>\n",
       "      <td>0.002381</td>\n",
       "      <td>0.002381</td>\n",
       "      <td>0.002381</td>\n",
       "      <td>0.002381</td>\n",
       "      <td>0.002381</td>\n",
       "      <td>0.002381</td>\n",
       "      <td>...</td>\n",
       "      <td>0.002381</td>\n",
       "      <td>0.002381</td>\n",
       "      <td>0.002381</td>\n",
       "      <td>0.002381</td>\n",
       "      <td>0.002381</td>\n",
       "      <td>0.073810</td>\n",
       "      <td>0.002381</td>\n",
       "      <td>0.073810</td>\n",
       "      <td>0.073810</td>\n",
       "      <td>0.002381</td>\n",
       "    </tr>\n",
       "    <tr>\n",
       "      <th>4</th>\n",
       "      <td>0.002778</td>\n",
       "      <td>0.002778</td>\n",
       "      <td>0.002778</td>\n",
       "      <td>0.002778</td>\n",
       "      <td>0.002778</td>\n",
       "      <td>0.002778</td>\n",
       "      <td>0.002778</td>\n",
       "      <td>0.002778</td>\n",
       "      <td>0.002778</td>\n",
       "      <td>0.002778</td>\n",
       "      <td>...</td>\n",
       "      <td>0.002778</td>\n",
       "      <td>0.002778</td>\n",
       "      <td>0.002778</td>\n",
       "      <td>0.002778</td>\n",
       "      <td>0.002778</td>\n",
       "      <td>0.086111</td>\n",
       "      <td>0.002778</td>\n",
       "      <td>0.086111</td>\n",
       "      <td>0.002778</td>\n",
       "      <td>0.002778</td>\n",
       "    </tr>\n",
       "    <tr>\n",
       "      <th>5</th>\n",
       "      <td>0.006667</td>\n",
       "      <td>0.006667</td>\n",
       "      <td>0.006667</td>\n",
       "      <td>0.006667</td>\n",
       "      <td>0.006667</td>\n",
       "      <td>0.006667</td>\n",
       "      <td>0.006667</td>\n",
       "      <td>0.006667</td>\n",
       "      <td>0.006667</td>\n",
       "      <td>0.006667</td>\n",
       "      <td>...</td>\n",
       "      <td>0.006667</td>\n",
       "      <td>0.006667</td>\n",
       "      <td>0.006667</td>\n",
       "      <td>0.006667</td>\n",
       "      <td>0.006667</td>\n",
       "      <td>0.006667</td>\n",
       "      <td>0.006667</td>\n",
       "      <td>0.806667</td>\n",
       "      <td>0.006667</td>\n",
       "      <td>0.006667</td>\n",
       "    </tr>\n",
       "    <tr>\n",
       "      <th>6</th>\n",
       "      <td>0.073810</td>\n",
       "      <td>0.073810</td>\n",
       "      <td>0.002381</td>\n",
       "      <td>0.002381</td>\n",
       "      <td>0.002381</td>\n",
       "      <td>0.002381</td>\n",
       "      <td>0.002381</td>\n",
       "      <td>0.002381</td>\n",
       "      <td>0.002381</td>\n",
       "      <td>0.002381</td>\n",
       "      <td>...</td>\n",
       "      <td>0.002381</td>\n",
       "      <td>0.002381</td>\n",
       "      <td>0.288095</td>\n",
       "      <td>0.002381</td>\n",
       "      <td>0.073810</td>\n",
       "      <td>0.073810</td>\n",
       "      <td>0.145238</td>\n",
       "      <td>0.002381</td>\n",
       "      <td>0.002381</td>\n",
       "      <td>0.002381</td>\n",
       "    </tr>\n",
       "    <tr>\n",
       "      <th>7</th>\n",
       "      <td>0.002778</td>\n",
       "      <td>0.002778</td>\n",
       "      <td>0.002778</td>\n",
       "      <td>0.002778</td>\n",
       "      <td>0.002778</td>\n",
       "      <td>0.002778</td>\n",
       "      <td>0.002778</td>\n",
       "      <td>0.002778</td>\n",
       "      <td>0.002778</td>\n",
       "      <td>0.086111</td>\n",
       "      <td>...</td>\n",
       "      <td>0.002778</td>\n",
       "      <td>0.002778</td>\n",
       "      <td>0.002778</td>\n",
       "      <td>0.002778</td>\n",
       "      <td>0.002778</td>\n",
       "      <td>0.002778</td>\n",
       "      <td>0.086111</td>\n",
       "      <td>0.002778</td>\n",
       "      <td>0.002778</td>\n",
       "      <td>0.586111</td>\n",
       "    </tr>\n",
       "    <tr>\n",
       "      <th>8</th>\n",
       "      <td>0.002083</td>\n",
       "      <td>0.002083</td>\n",
       "      <td>0.002083</td>\n",
       "      <td>0.002083</td>\n",
       "      <td>0.064583</td>\n",
       "      <td>0.002083</td>\n",
       "      <td>0.002083</td>\n",
       "      <td>0.002083</td>\n",
       "      <td>0.439583</td>\n",
       "      <td>0.189583</td>\n",
       "      <td>...</td>\n",
       "      <td>0.064583</td>\n",
       "      <td>0.002083</td>\n",
       "      <td>0.002083</td>\n",
       "      <td>0.002083</td>\n",
       "      <td>0.002083</td>\n",
       "      <td>0.064583</td>\n",
       "      <td>0.064583</td>\n",
       "      <td>0.002083</td>\n",
       "      <td>0.002083</td>\n",
       "      <td>0.002083</td>\n",
       "    </tr>\n",
       "    <tr>\n",
       "      <th>9</th>\n",
       "      <td>0.003333</td>\n",
       "      <td>0.103333</td>\n",
       "      <td>0.003333</td>\n",
       "      <td>0.003333</td>\n",
       "      <td>0.003333</td>\n",
       "      <td>0.803333</td>\n",
       "      <td>0.003333</td>\n",
       "      <td>0.003333</td>\n",
       "      <td>0.003333</td>\n",
       "      <td>0.003333</td>\n",
       "      <td>...</td>\n",
       "      <td>0.003333</td>\n",
       "      <td>0.003333</td>\n",
       "      <td>0.003333</td>\n",
       "      <td>0.003333</td>\n",
       "      <td>0.003333</td>\n",
       "      <td>0.003333</td>\n",
       "      <td>0.003333</td>\n",
       "      <td>0.003333</td>\n",
       "      <td>0.003333</td>\n",
       "      <td>0.003333</td>\n",
       "    </tr>\n",
       "  </tbody>\n",
       "</table>\n",
       "<p>10 rows × 30 columns</p>\n",
       "</div>"
      ],
      "text/plain": [
       "      LDA_1     LDA_2     LDA_3     LDA_4     LDA_5     LDA_6     LDA_7  \\\n",
       "0  0.602222  0.002222  0.002222  0.002222  0.002222  0.002222  0.002222   \n",
       "1  0.008333  0.008333  0.008333  0.008333  0.008333  0.008333  0.008333   \n",
       "2  0.003333  0.003333  0.003333  0.003333  0.003333  0.003333  0.103333   \n",
       "3  0.002381  0.002381  0.002381  0.002381  0.002381  0.002381  0.002381   \n",
       "4  0.002778  0.002778  0.002778  0.002778  0.002778  0.002778  0.002778   \n",
       "5  0.006667  0.006667  0.006667  0.006667  0.006667  0.006667  0.006667   \n",
       "6  0.073810  0.073810  0.002381  0.002381  0.002381  0.002381  0.002381   \n",
       "7  0.002778  0.002778  0.002778  0.002778  0.002778  0.002778  0.002778   \n",
       "8  0.002083  0.002083  0.002083  0.002083  0.064583  0.002083  0.002083   \n",
       "9  0.003333  0.103333  0.003333  0.003333  0.003333  0.803333  0.003333   \n",
       "\n",
       "      LDA_8     LDA_9    LDA_10    ...       LDA_21    LDA_22    LDA_23  \\\n",
       "0  0.002222  0.002222  0.002222    ...     0.002222  0.002222  0.002222   \n",
       "1  0.008333  0.258333  0.008333    ...     0.008333  0.008333  0.258333   \n",
       "2  0.003333  0.103333  0.003333    ...     0.003333  0.003333  0.003333   \n",
       "3  0.002381  0.002381  0.002381    ...     0.002381  0.002381  0.002381   \n",
       "4  0.002778  0.002778  0.002778    ...     0.002778  0.002778  0.002778   \n",
       "5  0.006667  0.006667  0.006667    ...     0.006667  0.006667  0.006667   \n",
       "6  0.002381  0.002381  0.002381    ...     0.002381  0.002381  0.288095   \n",
       "7  0.002778  0.002778  0.086111    ...     0.002778  0.002778  0.002778   \n",
       "8  0.002083  0.439583  0.189583    ...     0.064583  0.002083  0.002083   \n",
       "9  0.003333  0.003333  0.003333    ...     0.003333  0.003333  0.003333   \n",
       "\n",
       "     LDA_24    LDA_25    LDA_26    LDA_27    LDA_28    LDA_29    LDA_30  \n",
       "0  0.002222  0.002222  0.135556  0.002222  0.002222  0.002222  0.002222  \n",
       "1  0.008333  0.008333  0.008333  0.008333  0.008333  0.008333  0.008333  \n",
       "2  0.103333  0.003333  0.503333  0.003333  0.003333  0.003333  0.003333  \n",
       "3  0.002381  0.002381  0.073810  0.002381  0.073810  0.073810  0.002381  \n",
       "4  0.002778  0.002778  0.086111  0.002778  0.086111  0.002778  0.002778  \n",
       "5  0.006667  0.006667  0.006667  0.006667  0.806667  0.006667  0.006667  \n",
       "6  0.002381  0.073810  0.073810  0.145238  0.002381  0.002381  0.002381  \n",
       "7  0.002778  0.002778  0.002778  0.086111  0.002778  0.002778  0.586111  \n",
       "8  0.002083  0.002083  0.064583  0.064583  0.002083  0.002083  0.002083  \n",
       "9  0.003333  0.003333  0.003333  0.003333  0.003333  0.003333  0.003333  \n",
       "\n",
       "[10 rows x 30 columns]"
      ]
     },
     "execution_count": 341,
     "metadata": {},
     "output_type": "execute_result"
    }
   ],
   "source": [
    "lda_x.head(10)"
   ]
  },
  {
   "cell_type": "code",
   "execution_count": 342,
   "metadata": {
    "ExecuteTime": {
     "end_time": "2017-11-04T20:32:29.642019Z",
     "start_time": "2017-11-04T20:32:28.667592Z"
    },
    "collapsed": true
   },
   "outputs": [],
   "source": [
    "# First merge back to original df\n",
    "review_LDA = pd.merge(reviews_sent_token, lda_x, left_index = True, right_index = True)\n"
   ]
  },
  {
   "cell_type": "code",
   "execution_count": 343,
   "metadata": {
    "ExecuteTime": {
     "end_time": "2017-11-04T20:32:29.656959Z",
     "start_time": "2017-11-04T20:32:29.645869Z"
    }
   },
   "outputs": [
    {
     "data": {
      "text/plain": [
       "Index(['user_id', 'business_id', 'name', 'categories', 'attributes', 'stars',\n",
       "       'review_count', 'city', 'state', 'postal_code', 'latitude', 'longitude',\n",
       "       'categories2', 'name_cnt', 'Sushi', 'Pizza', 'Restaurants', 'Cat_Flag',\n",
       "       'cool', 'date', 'funny', 'review_id', 'user_stars', 'review_txt',\n",
       "       'useful', 'yelping_since', 'first_yr_elite', 'elite_prior',\n",
       "       'sent_token', 'sentence', 'sent_cnt', 'polarity', 'token', 'stemmed',\n",
       "       'stemmed2', 'LDA_1', 'LDA_2', 'LDA_3', 'LDA_4', 'LDA_5', 'LDA_6',\n",
       "       'LDA_7', 'LDA_8', 'LDA_9', 'LDA_10', 'LDA_11', 'LDA_12', 'LDA_13',\n",
       "       'LDA_14', 'LDA_15', 'LDA_16', 'LDA_17', 'LDA_18', 'LDA_19', 'LDA_20',\n",
       "       'LDA_21', 'LDA_22', 'LDA_23', 'LDA_24', 'LDA_25', 'LDA_26', 'LDA_27',\n",
       "       'LDA_28', 'LDA_29', 'LDA_30'],\n",
       "      dtype='object')"
      ]
     },
     "execution_count": 343,
     "metadata": {},
     "output_type": "execute_result"
    }
   ],
   "source": [
    "review_LDA.columns"
   ]
  },
  {
   "cell_type": "code",
   "execution_count": 344,
   "metadata": {
    "ExecuteTime": {
     "end_time": "2017-11-04T20:32:29.670316Z",
     "start_time": "2017-11-04T20:32:29.659699Z"
    }
   },
   "outputs": [
    {
     "data": {
      "text/plain": [
       "(428381, 65)"
      ]
     },
     "execution_count": 344,
     "metadata": {},
     "output_type": "execute_result"
    }
   ],
   "source": [
    "review_LDA.shape"
   ]
  },
  {
   "cell_type": "markdown",
   "metadata": {},
   "source": [
    "   ### Split LDA by Good / Bad Reviews"
   ]
  },
  {
   "cell_type": "code",
   "execution_count": null,
   "metadata": {
    "collapsed": true
   },
   "outputs": [],
   "source": [
    "reviews_sent_token = np.load('data/reviews_sent_token.pkl')"
   ]
  },
  {
   "cell_type": "code",
   "execution_count": 417,
   "metadata": {
    "ExecuteTime": {
     "end_time": "2017-11-05T01:07:07.704105Z",
     "start_time": "2017-11-05T01:07:07.528933Z"
    },
    "collapsed": true
   },
   "outputs": [],
   "source": [
    "good_r = reviews_sent_token.loc[(reviews_sent_token['user_stars'] == 4) | (reviews_sent_token['user_stars'] == 5)]\n",
    "\n",
    "bad_r = reviews_sent_token.loc[(reviews_sent_token['user_stars'] == 1) |\n",
    "                               (reviews_sent_token['user_stars'] == 2) |\n",
    "                               (reviews_sent_token['user_stars'] == 3)]"
   ]
  },
  {
   "cell_type": "code",
   "execution_count": 450,
   "metadata": {
    "ExecuteTime": {
     "end_time": "2017-11-05T14:44:46.853346Z",
     "start_time": "2017-11-05T14:44:46.847699Z"
    },
    "collapsed": true
   },
   "outputs": [],
   "source": [
    "# small sample\n",
    "good_r_small = good_r.iloc[0:1000]\n",
    "bad_r_small = bad_r.iloc[0:1000]"
   ]
  },
  {
   "cell_type": "code",
   "execution_count": 457,
   "metadata": {
    "ExecuteTime": {
     "end_time": "2017-11-05T14:47:56.757035Z",
     "start_time": "2017-11-05T14:47:56.745184Z"
    },
    "collapsed": true
   },
   "outputs": [],
   "source": [
    "no_topics = 10\n",
    "no_top_words = 10\n",
    "\n",
    "LDA_cols = ['LDA_' + str(i) for i in range(1, no_topics + 1)]"
   ]
  },
  {
   "cell_type": "code",
   "execution_count": 445,
   "metadata": {
    "ExecuteTime": {
     "end_time": "2017-11-05T14:41:48.444754Z",
     "start_time": "2017-11-05T14:41:48.436343Z"
    },
    "collapsed": true
   },
   "outputs": [],
   "source": [
    "# Define vectorizer and LDA\n",
    "tf_vectorizer = CountVectorizer(max_df=0.90, min_df=20, stop_words = my_stop_words)\n",
    "\n",
    "# LDA\n",
    "lda = LatentDirichletAllocation(n_components = no_topics, max_iter = 10, learning_method='online',\n",
    "                                learning_offset=50., random_state = 10)\n"
   ]
  },
  {
   "cell_type": "code",
   "execution_count": 471,
   "metadata": {
    "ExecuteTime": {
     "end_time": "2017-11-05T15:04:40.691975Z",
     "start_time": "2017-11-05T15:04:40.659680Z"
    },
    "collapsed": true
   },
   "outputs": [],
   "source": [
    "def Df_Vect(df, vectorizer, column):\n",
    "    tf_vectorized = vectorizer.fit_transform(df[column])\n",
    "    tf_feature_names = vectorizer.get_feature_names()\n",
    "    return tf_vectorized, tf_feature_names\n",
    "\n",
    "def LDA_fit(tf_vectorized, LDA_cols, tf_feature_names):\n",
    "    lda_fit = lda.fit(tf_vectorized)\n",
    "    \n",
    "    # df with weights\n",
    "    lda_x = pd.DataFrame(lda.transform(tf_vectorized), columns = LDA_cols)\n",
    "\n",
    "    #display_topics(nmf, tfidf_feature_names, no_top_words)\n",
    "    display_topics(lda_fit, tf_feature_names, no_top_words=15)\n",
    "    \n",
    "    return lda_fit, lda_x\n",
    "\n",
    "# Merge LDA to main df and also return collapsed DF\n",
    "def LDA_merge(big_df, main_df, lda_df, LDA_cols):\n",
    "    #review_LDA = pd.merge(reviews_sent_token, lda_x, left_index = True, right_index = True)\n",
    "    review_LDA = pd.merge(main_df, lda_df, left_index = True, right_index = True)\n",
    "    \n",
    "    review_LDA_agg = review_LDA.groupby('review_id').mean().reset_index()[['review_id'] + ['sent_cnt'] + LDA_cols]\n",
    "    \n",
    "    bus_review_LDA = big_df.set_index('review_id').join(review_LDA_agg.set_index('review_id'), how ='inner')\n",
    "    bus_review_LDA.reset_index(inplace=True)\n",
    "    return review_LDA, bus_review_LDA"
   ]
  },
  {
   "cell_type": "code",
   "execution_count": 472,
   "metadata": {
    "ExecuteTime": {
     "end_time": "2017-11-05T15:05:17.575086Z",
     "start_time": "2017-11-05T15:05:17.563800Z"
    }
   },
   "outputs": [
    {
     "data": {
      "text/plain": [
       "131"
      ]
     },
     "execution_count": 472,
     "metadata": {},
     "output_type": "execute_result"
    }
   ],
   "source": [
    "good_r_small.review_id.nunique()"
   ]
  },
  {
   "cell_type": "code",
   "execution_count": 477,
   "metadata": {
    "ExecuteTime": {
     "end_time": "2017-11-05T15:09:37.927168Z",
     "start_time": "2017-11-05T15:09:37.813499Z"
    },
    "collapsed": true
   },
   "outputs": [
    {
     "data": {
      "text/html": [
       "<div>\n",
       "<style>\n",
       "    .dataframe thead tr:only-child th {\n",
       "        text-align: right;\n",
       "    }\n",
       "\n",
       "    .dataframe thead th {\n",
       "        text-align: left;\n",
       "    }\n",
       "\n",
       "    .dataframe tbody tr th {\n",
       "        vertical-align: top;\n",
       "    }\n",
       "</style>\n",
       "<table border=\"1\" class=\"dataframe\">\n",
       "  <thead>\n",
       "    <tr style=\"text-align: right;\">\n",
       "      <th></th>\n",
       "      <th>user_id</th>\n",
       "      <th>business_id</th>\n",
       "      <th>name</th>\n",
       "      <th>categories</th>\n",
       "      <th>attributes</th>\n",
       "      <th>stars</th>\n",
       "      <th>review_count</th>\n",
       "      <th>city</th>\n",
       "      <th>state</th>\n",
       "      <th>postal_code</th>\n",
       "      <th>...</th>\n",
       "      <th>date</th>\n",
       "      <th>funny</th>\n",
       "      <th>review_id</th>\n",
       "      <th>user_stars</th>\n",
       "      <th>review_txt</th>\n",
       "      <th>useful</th>\n",
       "      <th>yelping_since</th>\n",
       "      <th>first_yr_elite</th>\n",
       "      <th>elite_prior</th>\n",
       "      <th>sent_token</th>\n",
       "    </tr>\n",
       "  </thead>\n",
       "  <tbody>\n",
       "    <tr>\n",
       "      <th>544639</th>\n",
       "      <td>i8A3MWU33_mtMu3LUMlnWQ</td>\n",
       "      <td>s-YJpfR-LFRnH7qYVFuJuw</td>\n",
       "      <td>Touhenboku Ramen Restaurant</td>\n",
       "      <td>[Japanese, Food, Restaurants, Ramen, Desserts]</td>\n",
       "      <td>{'RestaurantsTableService': True, 'GoodForMeal...</td>\n",
       "      <td>3.5</td>\n",
       "      <td>201</td>\n",
       "      <td>Toronto</td>\n",
       "      <td>ON</td>\n",
       "      <td>M5V 1Z4</td>\n",
       "      <td>...</td>\n",
       "      <td>2013-11-17</td>\n",
       "      <td>0.0</td>\n",
       "      <td>DBFkxzPlSx0VBLdCGWPXpA</td>\n",
       "      <td>3</td>\n",
       "      <td>I was thrilled when I saw on twitter that anot...</td>\n",
       "      <td>2.0</td>\n",
       "      <td>2010-11-10</td>\n",
       "      <td>2013.0</td>\n",
       "      <td>1</td>\n",
       "      <td>[I was thrilled when I saw on twitter that ano...</td>\n",
       "    </tr>\n",
       "    <tr>\n",
       "      <th>282611</th>\n",
       "      <td>NMmu4oC-YRqdi0WY9pV78g</td>\n",
       "      <td>1zH3_Agw8CTgSmKgg4JNmg</td>\n",
       "      <td>Yasda Bento</td>\n",
       "      <td>[Korean, Noodles, Japanese, Restaurants]</td>\n",
       "      <td>{'RestaurantsTableService': False, 'GoodForMea...</td>\n",
       "      <td>3.5</td>\n",
       "      <td>61</td>\n",
       "      <td>Phoenix</td>\n",
       "      <td>AZ</td>\n",
       "      <td>85003</td>\n",
       "      <td>...</td>\n",
       "      <td>2008-08-22</td>\n",
       "      <td>1.0</td>\n",
       "      <td>SnwEJ7lAqGs6kZ2nbghudw</td>\n",
       "      <td>2</td>\n",
       "      <td>went here on a break from Jury Duty once. it w...</td>\n",
       "      <td>2.0</td>\n",
       "      <td>2008-08-18</td>\n",
       "      <td>2008.0</td>\n",
       "      <td>1</td>\n",
       "      <td>[went here on a break from Jury Duty once., it...</td>\n",
       "    </tr>\n",
       "    <tr>\n",
       "      <th>352137</th>\n",
       "      <td>T23h5oJqopYrLXp_A1GFYA</td>\n",
       "      <td>8XoDXN2DKmQGJHZhkQbJ9A</td>\n",
       "      <td>Emily's Cafe</td>\n",
       "      <td>[Restaurants, Breakfast &amp; Brunch, Cafes]</td>\n",
       "      <td>{'RestaurantsTableService': True, 'GoodForMeal...</td>\n",
       "      <td>3.5</td>\n",
       "      <td>79</td>\n",
       "      <td>Scottsdale</td>\n",
       "      <td>AZ</td>\n",
       "      <td>85255</td>\n",
       "      <td>...</td>\n",
       "      <td>2016-05-23</td>\n",
       "      <td>0.0</td>\n",
       "      <td>6GcGV7Sq-axwgmPBdEy3fQ</td>\n",
       "      <td>3</td>\n",
       "      <td>Despite the reviews about slow waiting times w...</td>\n",
       "      <td>0.0</td>\n",
       "      <td>2014-05-23</td>\n",
       "      <td>99999.0</td>\n",
       "      <td>0</td>\n",
       "      <td>[Despite the reviews about slow waiting times ...</td>\n",
       "    </tr>\n",
       "    <tr>\n",
       "      <th>463957</th>\n",
       "      <td>bK-lus15ReXTyDqdEj4OQg</td>\n",
       "      <td>6nKR80xEGHYf2UxAe_Cu_g</td>\n",
       "      <td>The Thumb BBQ</td>\n",
       "      <td>[Gas Stations, Burgers, Automotive, American (...</td>\n",
       "      <td>{'Alcohol': 'beer_and_wine', 'HasTV': True, 'N...</td>\n",
       "      <td>4.0</td>\n",
       "      <td>660</td>\n",
       "      <td>Scottsdale</td>\n",
       "      <td>AZ</td>\n",
       "      <td>85260</td>\n",
       "      <td>...</td>\n",
       "      <td>2013-04-29</td>\n",
       "      <td>0.0</td>\n",
       "      <td>0VX2IuiyGmC-LrLfYUnGeQ</td>\n",
       "      <td>5</td>\n",
       "      <td>Food quality a 10. Had the pulled pork with ch...</td>\n",
       "      <td>0.0</td>\n",
       "      <td>2011-11-04</td>\n",
       "      <td>99999.0</td>\n",
       "      <td>0</td>\n",
       "      <td>[Food quality a 10., Had the pulled pork with ...</td>\n",
       "    </tr>\n",
       "    <tr>\n",
       "      <th>683036</th>\n",
       "      <td>uAf25oGZ8aURLI3u57GF_w</td>\n",
       "      <td>NPiLy71qqXzb45k9eQOgCQ</td>\n",
       "      <td>Maizie's Cafe &amp; Bistro</td>\n",
       "      <td>[Cafes, Restaurants, American (New)]</td>\n",
       "      <td>{'RestaurantsTableService': True, 'GoodForMeal...</td>\n",
       "      <td>4.0</td>\n",
       "      <td>382</td>\n",
       "      <td>Phoenix</td>\n",
       "      <td>AZ</td>\n",
       "      <td>85012</td>\n",
       "      <td>...</td>\n",
       "      <td>2011-04-18</td>\n",
       "      <td>0.0</td>\n",
       "      <td>Cd3JHCfGtdYdMJ2_Ipqh6Q</td>\n",
       "      <td>5</td>\n",
       "      <td>Great drinks; spectacular sweet potato fries, ...</td>\n",
       "      <td>1.0</td>\n",
       "      <td>2011-04-16</td>\n",
       "      <td>99999.0</td>\n",
       "      <td>0</td>\n",
       "      <td>[Great drinks; spectacular sweet potato fries,...</td>\n",
       "    </tr>\n",
       "  </tbody>\n",
       "</table>\n",
       "<p>5 rows × 29 columns</p>\n",
       "</div>"
      ],
      "text/plain": [
       "                       user_id             business_id  \\\n",
       "544639  i8A3MWU33_mtMu3LUMlnWQ  s-YJpfR-LFRnH7qYVFuJuw   \n",
       "282611  NMmu4oC-YRqdi0WY9pV78g  1zH3_Agw8CTgSmKgg4JNmg   \n",
       "352137  T23h5oJqopYrLXp_A1GFYA  8XoDXN2DKmQGJHZhkQbJ9A   \n",
       "463957  bK-lus15ReXTyDqdEj4OQg  6nKR80xEGHYf2UxAe_Cu_g   \n",
       "683036  uAf25oGZ8aURLI3u57GF_w  NPiLy71qqXzb45k9eQOgCQ   \n",
       "\n",
       "                               name  \\\n",
       "544639  Touhenboku Ramen Restaurant   \n",
       "282611                  Yasda Bento   \n",
       "352137                 Emily's Cafe   \n",
       "463957                The Thumb BBQ   \n",
       "683036       Maizie's Cafe & Bistro   \n",
       "\n",
       "                                               categories  \\\n",
       "544639     [Japanese, Food, Restaurants, Ramen, Desserts]   \n",
       "282611           [Korean, Noodles, Japanese, Restaurants]   \n",
       "352137           [Restaurants, Breakfast & Brunch, Cafes]   \n",
       "463957  [Gas Stations, Burgers, Automotive, American (...   \n",
       "683036               [Cafes, Restaurants, American (New)]   \n",
       "\n",
       "                                               attributes stars  review_count  \\\n",
       "544639  {'RestaurantsTableService': True, 'GoodForMeal...   3.5           201   \n",
       "282611  {'RestaurantsTableService': False, 'GoodForMea...   3.5            61   \n",
       "352137  {'RestaurantsTableService': True, 'GoodForMeal...   3.5            79   \n",
       "463957  {'Alcohol': 'beer_and_wine', 'HasTV': True, 'N...   4.0           660   \n",
       "683036  {'RestaurantsTableService': True, 'GoodForMeal...   4.0           382   \n",
       "\n",
       "              city state postal_code  \\\n",
       "544639     Toronto    ON     M5V 1Z4   \n",
       "282611     Phoenix    AZ       85003   \n",
       "352137  Scottsdale    AZ       85255   \n",
       "463957  Scottsdale    AZ       85260   \n",
       "683036     Phoenix    AZ       85012   \n",
       "\n",
       "                              ...                               date  funny  \\\n",
       "544639                        ...                         2013-11-17    0.0   \n",
       "282611                        ...                         2008-08-22    1.0   \n",
       "352137                        ...                         2016-05-23    0.0   \n",
       "463957                        ...                         2013-04-29    0.0   \n",
       "683036                        ...                         2011-04-18    0.0   \n",
       "\n",
       "                     review_id  user_stars  \\\n",
       "544639  DBFkxzPlSx0VBLdCGWPXpA           3   \n",
       "282611  SnwEJ7lAqGs6kZ2nbghudw           2   \n",
       "352137  6GcGV7Sq-axwgmPBdEy3fQ           3   \n",
       "463957  0VX2IuiyGmC-LrLfYUnGeQ           5   \n",
       "683036  Cd3JHCfGtdYdMJ2_Ipqh6Q           5   \n",
       "\n",
       "                                               review_txt  useful  \\\n",
       "544639  I was thrilled when I saw on twitter that anot...     2.0   \n",
       "282611  went here on a break from Jury Duty once. it w...     2.0   \n",
       "352137  Despite the reviews about slow waiting times w...     0.0   \n",
       "463957  Food quality a 10. Had the pulled pork with ch...     0.0   \n",
       "683036  Great drinks; spectacular sweet potato fries, ...     1.0   \n",
       "\n",
       "        yelping_since  first_yr_elite  elite_prior  \\\n",
       "544639     2010-11-10          2013.0            1   \n",
       "282611     2008-08-18          2008.0            1   \n",
       "352137     2014-05-23         99999.0            0   \n",
       "463957     2011-11-04         99999.0            0   \n",
       "683036     2011-04-16         99999.0            0   \n",
       "\n",
       "                                               sent_token  \n",
       "544639  [I was thrilled when I saw on twitter that ano...  \n",
       "282611  [went here on a break from Jury Duty once., it...  \n",
       "352137  [Despite the reviews about slow waiting times ...  \n",
       "463957  [Food quality a 10., Had the pulled pork with ...  \n",
       "683036  [Great drinks; spectacular sweet potato fries,...  \n",
       "\n",
       "[5 rows x 29 columns]"
      ]
     },
     "execution_count": 477,
     "metadata": {},
     "output_type": "execute_result"
    }
   ],
   "source": [
    "bus_review_small.head()"
   ]
  },
  {
   "cell_type": "code",
   "execution_count": 475,
   "metadata": {
    "ExecuteTime": {
     "end_time": "2017-11-05T15:08:23.249295Z",
     "start_time": "2017-11-05T15:08:23.243357Z"
    }
   },
   "outputs": [
    {
     "data": {
      "text/plain": [
       "(1000, 35)"
      ]
     },
     "execution_count": 475,
     "metadata": {},
     "output_type": "execute_result"
    }
   ],
   "source": [
    "good_r_small.shape"
   ]
  },
  {
   "cell_type": "code",
   "execution_count": 455,
   "metadata": {
    "ExecuteTime": {
     "end_time": "2017-11-05T14:46:33.321761Z",
     "start_time": "2017-11-05T14:46:33.293945Z"
    },
    "collapsed": true
   },
   "outputs": [],
   "source": [
    "good_tf, good_feat = Df_Vect(good_r_small, tf_vectorizer, 'stemmed2')"
   ]
  },
  {
   "cell_type": "code",
   "execution_count": 458,
   "metadata": {
    "ExecuteTime": {
     "end_time": "2017-11-05T14:48:01.076990Z",
     "start_time": "2017-11-05T14:48:00.041160Z"
    },
    "collapsed": true
   },
   "outputs": [
    {
     "name": "stdout",
     "output_type": "stream",
     "text": [
      "Topic 1:\n",
      "tri delici realli drink love good nice fresh food time thing alway order servic amaz\n",
      "Topic 2:\n",
      "place servic littl staff friend veri onli becaus nice thing price food great tri recommend\n",
      "Topic 3:\n",
      "got dish wait did look thing come becaus nice good staff food great eat onli\n",
      "Topic 4:\n",
      "food good price look realli onli fresh ca drink like just great tabl place tri\n",
      "Topic 5:\n",
      "tabl ca wait nice food veri friend great place servic amaz love definit littl recommend\n",
      "Topic 6:\n",
      "sandwich menu friend onli good thing nice delici food alway amaz perfect like servic best\n",
      "Topic 7:\n",
      "order best food menu becaus sandwich ca price amaz thing friend staff tri come got\n",
      "Topic 8:\n",
      "just amaz eat perfect definit thing becaus like onli wait ca love delici come time\n",
      "Topic 9:\n",
      "great time love alway come recommend food look nice like wait staff tabl becaus best\n",
      "Topic 10:\n",
      "like veri restaur fresh becaus nice did alway onli time food good place definit sandwich\n"
     ]
    }
   ],
   "source": [
    "lda_good, lda_x_good = LDA_fit(good_tf, LDA_cols, good_feat)"
   ]
  },
  {
   "cell_type": "code",
   "execution_count": 462,
   "metadata": {
    "ExecuteTime": {
     "end_time": "2017-11-05T14:58:34.880883Z",
     "start_time": "2017-11-05T14:58:32.786355Z"
    },
    "collapsed": true
   },
   "outputs": [],
   "source": [
    "review_LDA_good, bus_review_LDA_good = LDA_merge(bus_review_small, good_r_small, lda_x_good, LDA_cols)"
   ]
  },
  {
   "cell_type": "code",
   "execution_count": 466,
   "metadata": {
    "ExecuteTime": {
     "end_time": "2017-11-05T14:59:48.412402Z",
     "start_time": "2017-11-05T14:59:48.406961Z"
    }
   },
   "outputs": [
    {
     "data": {
      "text/plain": [
       "(92, 40)"
      ]
     },
     "execution_count": 466,
     "metadata": {},
     "output_type": "execute_result"
    }
   ],
   "source": [
    "bus_review_LDA_good.shape"
   ]
  },
  {
   "cell_type": "code",
   "execution_count": 467,
   "metadata": {
    "ExecuteTime": {
     "end_time": "2017-11-05T15:00:02.411323Z",
     "start_time": "2017-11-05T15:00:02.406445Z"
    }
   },
   "outputs": [
    {
     "data": {
      "text/plain": [
       "(684, 45)"
      ]
     },
     "execution_count": 467,
     "metadata": {},
     "output_type": "execute_result"
    }
   ],
   "source": [
    "review_LDA_good.shape"
   ]
  },
  {
   "cell_type": "code",
   "execution_count": 469,
   "metadata": {
    "ExecuteTime": {
     "end_time": "2017-11-05T15:01:35.500093Z",
     "start_time": "2017-11-05T15:01:35.495418Z"
    }
   },
   "outputs": [
    {
     "data": {
      "text/plain": [
       "(1000, 10)"
      ]
     },
     "execution_count": 469,
     "metadata": {},
     "output_type": "execute_result"
    }
   ],
   "source": [
    "lda_x_good.shape"
   ]
  },
  {
   "cell_type": "code",
   "execution_count": null,
   "metadata": {
    "ExecuteTime": {
     "end_time": "2017-11-05T15:02:12.577092Z",
     "start_time": "2017-11-05T15:02:12.559543Z"
    },
    "collapsed": true
   },
   "outputs": [],
   "source": []
  },
  {
   "cell_type": "code",
   "execution_count": 460,
   "metadata": {
    "ExecuteTime": {
     "end_time": "2017-11-05T14:48:19.284088Z",
     "start_time": "2017-11-05T14:48:19.238919Z"
    },
    "collapsed": true
   },
   "outputs": [
    {
     "data": {
      "text/html": [
       "<div>\n",
       "<style>\n",
       "    .dataframe thead tr:only-child th {\n",
       "        text-align: right;\n",
       "    }\n",
       "\n",
       "    .dataframe thead th {\n",
       "        text-align: left;\n",
       "    }\n",
       "\n",
       "    .dataframe tbody tr th {\n",
       "        vertical-align: top;\n",
       "    }\n",
       "</style>\n",
       "<table border=\"1\" class=\"dataframe\">\n",
       "  <thead>\n",
       "    <tr style=\"text-align: right;\">\n",
       "      <th></th>\n",
       "      <th>LDA_1</th>\n",
       "      <th>LDA_2</th>\n",
       "      <th>LDA_3</th>\n",
       "      <th>LDA_4</th>\n",
       "      <th>LDA_5</th>\n",
       "      <th>LDA_6</th>\n",
       "      <th>LDA_7</th>\n",
       "      <th>LDA_8</th>\n",
       "      <th>LDA_9</th>\n",
       "      <th>LDA_10</th>\n",
       "    </tr>\n",
       "  </thead>\n",
       "  <tbody>\n",
       "    <tr>\n",
       "      <th>0</th>\n",
       "      <td>0.050000</td>\n",
       "      <td>0.050000</td>\n",
       "      <td>0.050000</td>\n",
       "      <td>0.549999</td>\n",
       "      <td>0.050000</td>\n",
       "      <td>0.050000</td>\n",
       "      <td>0.050000</td>\n",
       "      <td>0.050000</td>\n",
       "      <td>0.050001</td>\n",
       "      <td>0.050000</td>\n",
       "    </tr>\n",
       "    <tr>\n",
       "      <th>1</th>\n",
       "      <td>0.100000</td>\n",
       "      <td>0.100000</td>\n",
       "      <td>0.100000</td>\n",
       "      <td>0.100000</td>\n",
       "      <td>0.100000</td>\n",
       "      <td>0.100000</td>\n",
       "      <td>0.100000</td>\n",
       "      <td>0.100000</td>\n",
       "      <td>0.100000</td>\n",
       "      <td>0.100000</td>\n",
       "    </tr>\n",
       "    <tr>\n",
       "      <th>2</th>\n",
       "      <td>0.100000</td>\n",
       "      <td>0.100000</td>\n",
       "      <td>0.100000</td>\n",
       "      <td>0.100000</td>\n",
       "      <td>0.100000</td>\n",
       "      <td>0.100000</td>\n",
       "      <td>0.100000</td>\n",
       "      <td>0.100000</td>\n",
       "      <td>0.100000</td>\n",
       "      <td>0.100000</td>\n",
       "    </tr>\n",
       "    <tr>\n",
       "      <th>3</th>\n",
       "      <td>0.274998</td>\n",
       "      <td>0.025000</td>\n",
       "      <td>0.025000</td>\n",
       "      <td>0.025000</td>\n",
       "      <td>0.025000</td>\n",
       "      <td>0.025000</td>\n",
       "      <td>0.274981</td>\n",
       "      <td>0.025000</td>\n",
       "      <td>0.275022</td>\n",
       "      <td>0.025000</td>\n",
       "    </tr>\n",
       "    <tr>\n",
       "      <th>4</th>\n",
       "      <td>0.050000</td>\n",
       "      <td>0.550000</td>\n",
       "      <td>0.050000</td>\n",
       "      <td>0.050000</td>\n",
       "      <td>0.050000</td>\n",
       "      <td>0.050000</td>\n",
       "      <td>0.050000</td>\n",
       "      <td>0.050000</td>\n",
       "      <td>0.050000</td>\n",
       "      <td>0.050000</td>\n",
       "    </tr>\n",
       "    <tr>\n",
       "      <th>5</th>\n",
       "      <td>0.100000</td>\n",
       "      <td>0.100000</td>\n",
       "      <td>0.100000</td>\n",
       "      <td>0.100000</td>\n",
       "      <td>0.100000</td>\n",
       "      <td>0.100000</td>\n",
       "      <td>0.100000</td>\n",
       "      <td>0.100000</td>\n",
       "      <td>0.100000</td>\n",
       "      <td>0.100000</td>\n",
       "    </tr>\n",
       "    <tr>\n",
       "      <th>6</th>\n",
       "      <td>0.025001</td>\n",
       "      <td>0.275778</td>\n",
       "      <td>0.025000</td>\n",
       "      <td>0.279427</td>\n",
       "      <td>0.025000</td>\n",
       "      <td>0.025000</td>\n",
       "      <td>0.025000</td>\n",
       "      <td>0.025000</td>\n",
       "      <td>0.025000</td>\n",
       "      <td>0.269793</td>\n",
       "    </tr>\n",
       "    <tr>\n",
       "      <th>7</th>\n",
       "      <td>0.025000</td>\n",
       "      <td>0.276108</td>\n",
       "      <td>0.025000</td>\n",
       "      <td>0.025000</td>\n",
       "      <td>0.025000</td>\n",
       "      <td>0.025000</td>\n",
       "      <td>0.025000</td>\n",
       "      <td>0.025000</td>\n",
       "      <td>0.273938</td>\n",
       "      <td>0.274954</td>\n",
       "    </tr>\n",
       "    <tr>\n",
       "      <th>8</th>\n",
       "      <td>0.100000</td>\n",
       "      <td>0.100000</td>\n",
       "      <td>0.100000</td>\n",
       "      <td>0.100000</td>\n",
       "      <td>0.100000</td>\n",
       "      <td>0.100000</td>\n",
       "      <td>0.100000</td>\n",
       "      <td>0.100000</td>\n",
       "      <td>0.100000</td>\n",
       "      <td>0.100000</td>\n",
       "    </tr>\n",
       "    <tr>\n",
       "      <th>9</th>\n",
       "      <td>0.050000</td>\n",
       "      <td>0.050000</td>\n",
       "      <td>0.050000</td>\n",
       "      <td>0.050000</td>\n",
       "      <td>0.050000</td>\n",
       "      <td>0.050000</td>\n",
       "      <td>0.050000</td>\n",
       "      <td>0.550000</td>\n",
       "      <td>0.050000</td>\n",
       "      <td>0.050000</td>\n",
       "    </tr>\n",
       "    <tr>\n",
       "      <th>10</th>\n",
       "      <td>0.100000</td>\n",
       "      <td>0.100000</td>\n",
       "      <td>0.100000</td>\n",
       "      <td>0.100000</td>\n",
       "      <td>0.100000</td>\n",
       "      <td>0.100000</td>\n",
       "      <td>0.100000</td>\n",
       "      <td>0.100000</td>\n",
       "      <td>0.100000</td>\n",
       "      <td>0.100000</td>\n",
       "    </tr>\n",
       "    <tr>\n",
       "      <th>11</th>\n",
       "      <td>0.050002</td>\n",
       "      <td>0.050000</td>\n",
       "      <td>0.050000</td>\n",
       "      <td>0.050001</td>\n",
       "      <td>0.050000</td>\n",
       "      <td>0.050000</td>\n",
       "      <td>0.050000</td>\n",
       "      <td>0.050000</td>\n",
       "      <td>0.050000</td>\n",
       "      <td>0.549998</td>\n",
       "    </tr>\n",
       "    <tr>\n",
       "      <th>12</th>\n",
       "      <td>0.020000</td>\n",
       "      <td>0.020000</td>\n",
       "      <td>0.020000</td>\n",
       "      <td>0.420011</td>\n",
       "      <td>0.020000</td>\n",
       "      <td>0.020000</td>\n",
       "      <td>0.020000</td>\n",
       "      <td>0.419989</td>\n",
       "      <td>0.020000</td>\n",
       "      <td>0.020000</td>\n",
       "    </tr>\n",
       "    <tr>\n",
       "      <th>13</th>\n",
       "      <td>0.050000</td>\n",
       "      <td>0.550000</td>\n",
       "      <td>0.050000</td>\n",
       "      <td>0.050000</td>\n",
       "      <td>0.050000</td>\n",
       "      <td>0.050000</td>\n",
       "      <td>0.050000</td>\n",
       "      <td>0.050000</td>\n",
       "      <td>0.050000</td>\n",
       "      <td>0.050000</td>\n",
       "    </tr>\n",
       "    <tr>\n",
       "      <th>14</th>\n",
       "      <td>0.050000</td>\n",
       "      <td>0.050000</td>\n",
       "      <td>0.050000</td>\n",
       "      <td>0.050000</td>\n",
       "      <td>0.050000</td>\n",
       "      <td>0.050000</td>\n",
       "      <td>0.050000</td>\n",
       "      <td>0.550000</td>\n",
       "      <td>0.050000</td>\n",
       "      <td>0.050000</td>\n",
       "    </tr>\n",
       "    <tr>\n",
       "      <th>15</th>\n",
       "      <td>0.033333</td>\n",
       "      <td>0.033333</td>\n",
       "      <td>0.033333</td>\n",
       "      <td>0.033333</td>\n",
       "      <td>0.033333</td>\n",
       "      <td>0.033333</td>\n",
       "      <td>0.033333</td>\n",
       "      <td>0.033333</td>\n",
       "      <td>0.033333</td>\n",
       "      <td>0.700000</td>\n",
       "    </tr>\n",
       "    <tr>\n",
       "      <th>16</th>\n",
       "      <td>0.050000</td>\n",
       "      <td>0.050012</td>\n",
       "      <td>0.050000</td>\n",
       "      <td>0.050000</td>\n",
       "      <td>0.050000</td>\n",
       "      <td>0.549988</td>\n",
       "      <td>0.050000</td>\n",
       "      <td>0.050000</td>\n",
       "      <td>0.050000</td>\n",
       "      <td>0.050000</td>\n",
       "    </tr>\n",
       "    <tr>\n",
       "      <th>17</th>\n",
       "      <td>0.033334</td>\n",
       "      <td>0.033336</td>\n",
       "      <td>0.033333</td>\n",
       "      <td>0.033333</td>\n",
       "      <td>0.033333</td>\n",
       "      <td>0.033333</td>\n",
       "      <td>0.033333</td>\n",
       "      <td>0.033333</td>\n",
       "      <td>0.361465</td>\n",
       "      <td>0.371865</td>\n",
       "    </tr>\n",
       "    <tr>\n",
       "      <th>18</th>\n",
       "      <td>0.025000</td>\n",
       "      <td>0.025000</td>\n",
       "      <td>0.025000</td>\n",
       "      <td>0.025000</td>\n",
       "      <td>0.025000</td>\n",
       "      <td>0.025000</td>\n",
       "      <td>0.025000</td>\n",
       "      <td>0.025000</td>\n",
       "      <td>0.529565</td>\n",
       "      <td>0.270434</td>\n",
       "    </tr>\n",
       "    <tr>\n",
       "      <th>19</th>\n",
       "      <td>0.100000</td>\n",
       "      <td>0.100000</td>\n",
       "      <td>0.100000</td>\n",
       "      <td>0.100000</td>\n",
       "      <td>0.100000</td>\n",
       "      <td>0.100000</td>\n",
       "      <td>0.100000</td>\n",
       "      <td>0.100000</td>\n",
       "      <td>0.100000</td>\n",
       "      <td>0.100000</td>\n",
       "    </tr>\n",
       "    <tr>\n",
       "      <th>20</th>\n",
       "      <td>0.100000</td>\n",
       "      <td>0.100000</td>\n",
       "      <td>0.100000</td>\n",
       "      <td>0.100000</td>\n",
       "      <td>0.100000</td>\n",
       "      <td>0.100000</td>\n",
       "      <td>0.100000</td>\n",
       "      <td>0.100000</td>\n",
       "      <td>0.100000</td>\n",
       "      <td>0.100000</td>\n",
       "    </tr>\n",
       "    <tr>\n",
       "      <th>21</th>\n",
       "      <td>0.050008</td>\n",
       "      <td>0.050000</td>\n",
       "      <td>0.050000</td>\n",
       "      <td>0.050000</td>\n",
       "      <td>0.050000</td>\n",
       "      <td>0.050000</td>\n",
       "      <td>0.050000</td>\n",
       "      <td>0.050000</td>\n",
       "      <td>0.549992</td>\n",
       "      <td>0.050000</td>\n",
       "    </tr>\n",
       "    <tr>\n",
       "      <th>22</th>\n",
       "      <td>0.050000</td>\n",
       "      <td>0.050000</td>\n",
       "      <td>0.050000</td>\n",
       "      <td>0.050000</td>\n",
       "      <td>0.050000</td>\n",
       "      <td>0.050000</td>\n",
       "      <td>0.050000</td>\n",
       "      <td>0.550000</td>\n",
       "      <td>0.050000</td>\n",
       "      <td>0.050000</td>\n",
       "    </tr>\n",
       "    <tr>\n",
       "      <th>23</th>\n",
       "      <td>0.100000</td>\n",
       "      <td>0.100000</td>\n",
       "      <td>0.100000</td>\n",
       "      <td>0.100000</td>\n",
       "      <td>0.100000</td>\n",
       "      <td>0.100000</td>\n",
       "      <td>0.100000</td>\n",
       "      <td>0.100000</td>\n",
       "      <td>0.100000</td>\n",
       "      <td>0.100000</td>\n",
       "    </tr>\n",
       "    <tr>\n",
       "      <th>24</th>\n",
       "      <td>0.033333</td>\n",
       "      <td>0.366647</td>\n",
       "      <td>0.033333</td>\n",
       "      <td>0.033333</td>\n",
       "      <td>0.366686</td>\n",
       "      <td>0.033333</td>\n",
       "      <td>0.033333</td>\n",
       "      <td>0.033333</td>\n",
       "      <td>0.033333</td>\n",
       "      <td>0.033333</td>\n",
       "    </tr>\n",
       "    <tr>\n",
       "      <th>25</th>\n",
       "      <td>0.050000</td>\n",
       "      <td>0.050000</td>\n",
       "      <td>0.050000</td>\n",
       "      <td>0.050000</td>\n",
       "      <td>0.050000</td>\n",
       "      <td>0.050000</td>\n",
       "      <td>0.050000</td>\n",
       "      <td>0.050000</td>\n",
       "      <td>0.050000</td>\n",
       "      <td>0.549999</td>\n",
       "    </tr>\n",
       "    <tr>\n",
       "      <th>26</th>\n",
       "      <td>0.050000</td>\n",
       "      <td>0.050000</td>\n",
       "      <td>0.050000</td>\n",
       "      <td>0.050000</td>\n",
       "      <td>0.050000</td>\n",
       "      <td>0.050000</td>\n",
       "      <td>0.050000</td>\n",
       "      <td>0.050000</td>\n",
       "      <td>0.050000</td>\n",
       "      <td>0.549999</td>\n",
       "    </tr>\n",
       "    <tr>\n",
       "      <th>27</th>\n",
       "      <td>0.100000</td>\n",
       "      <td>0.100000</td>\n",
       "      <td>0.100000</td>\n",
       "      <td>0.100000</td>\n",
       "      <td>0.100000</td>\n",
       "      <td>0.100000</td>\n",
       "      <td>0.100000</td>\n",
       "      <td>0.100000</td>\n",
       "      <td>0.100000</td>\n",
       "      <td>0.100000</td>\n",
       "    </tr>\n",
       "    <tr>\n",
       "      <th>28</th>\n",
       "      <td>0.100000</td>\n",
       "      <td>0.100000</td>\n",
       "      <td>0.100000</td>\n",
       "      <td>0.100000</td>\n",
       "      <td>0.100000</td>\n",
       "      <td>0.100000</td>\n",
       "      <td>0.100000</td>\n",
       "      <td>0.100000</td>\n",
       "      <td>0.100000</td>\n",
       "      <td>0.100000</td>\n",
       "    </tr>\n",
       "    <tr>\n",
       "      <th>29</th>\n",
       "      <td>0.281589</td>\n",
       "      <td>0.025000</td>\n",
       "      <td>0.025000</td>\n",
       "      <td>0.518410</td>\n",
       "      <td>0.025000</td>\n",
       "      <td>0.025001</td>\n",
       "      <td>0.025000</td>\n",
       "      <td>0.025000</td>\n",
       "      <td>0.025000</td>\n",
       "      <td>0.025000</td>\n",
       "    </tr>\n",
       "    <tr>\n",
       "      <th>...</th>\n",
       "      <td>...</td>\n",
       "      <td>...</td>\n",
       "      <td>...</td>\n",
       "      <td>...</td>\n",
       "      <td>...</td>\n",
       "      <td>...</td>\n",
       "      <td>...</td>\n",
       "      <td>...</td>\n",
       "      <td>...</td>\n",
       "      <td>...</td>\n",
       "    </tr>\n",
       "    <tr>\n",
       "      <th>970</th>\n",
       "      <td>0.100000</td>\n",
       "      <td>0.100000</td>\n",
       "      <td>0.100000</td>\n",
       "      <td>0.100000</td>\n",
       "      <td>0.100000</td>\n",
       "      <td>0.100000</td>\n",
       "      <td>0.100000</td>\n",
       "      <td>0.100000</td>\n",
       "      <td>0.100000</td>\n",
       "      <td>0.100000</td>\n",
       "    </tr>\n",
       "    <tr>\n",
       "      <th>971</th>\n",
       "      <td>0.100000</td>\n",
       "      <td>0.100000</td>\n",
       "      <td>0.100000</td>\n",
       "      <td>0.100000</td>\n",
       "      <td>0.100000</td>\n",
       "      <td>0.100000</td>\n",
       "      <td>0.100000</td>\n",
       "      <td>0.100000</td>\n",
       "      <td>0.100000</td>\n",
       "      <td>0.100000</td>\n",
       "    </tr>\n",
       "    <tr>\n",
       "      <th>972</th>\n",
       "      <td>0.033333</td>\n",
       "      <td>0.033341</td>\n",
       "      <td>0.033333</td>\n",
       "      <td>0.033333</td>\n",
       "      <td>0.033333</td>\n",
       "      <td>0.367219</td>\n",
       "      <td>0.033333</td>\n",
       "      <td>0.033333</td>\n",
       "      <td>0.366103</td>\n",
       "      <td>0.033337</td>\n",
       "    </tr>\n",
       "    <tr>\n",
       "      <th>973</th>\n",
       "      <td>0.025000</td>\n",
       "      <td>0.275010</td>\n",
       "      <td>0.025000</td>\n",
       "      <td>0.025000</td>\n",
       "      <td>0.025000</td>\n",
       "      <td>0.025000</td>\n",
       "      <td>0.025000</td>\n",
       "      <td>0.275013</td>\n",
       "      <td>0.274974</td>\n",
       "      <td>0.025003</td>\n",
       "    </tr>\n",
       "    <tr>\n",
       "      <th>974</th>\n",
       "      <td>0.100000</td>\n",
       "      <td>0.100000</td>\n",
       "      <td>0.100000</td>\n",
       "      <td>0.100000</td>\n",
       "      <td>0.100000</td>\n",
       "      <td>0.100000</td>\n",
       "      <td>0.100000</td>\n",
       "      <td>0.100000</td>\n",
       "      <td>0.100000</td>\n",
       "      <td>0.100000</td>\n",
       "    </tr>\n",
       "    <tr>\n",
       "      <th>975</th>\n",
       "      <td>0.050000</td>\n",
       "      <td>0.050000</td>\n",
       "      <td>0.050000</td>\n",
       "      <td>0.050000</td>\n",
       "      <td>0.050000</td>\n",
       "      <td>0.050000</td>\n",
       "      <td>0.550000</td>\n",
       "      <td>0.050000</td>\n",
       "      <td>0.050000</td>\n",
       "      <td>0.050000</td>\n",
       "    </tr>\n",
       "    <tr>\n",
       "      <th>976</th>\n",
       "      <td>0.699983</td>\n",
       "      <td>0.033333</td>\n",
       "      <td>0.033333</td>\n",
       "      <td>0.033333</td>\n",
       "      <td>0.033333</td>\n",
       "      <td>0.033333</td>\n",
       "      <td>0.033333</td>\n",
       "      <td>0.033333</td>\n",
       "      <td>0.033351</td>\n",
       "      <td>0.033333</td>\n",
       "    </tr>\n",
       "    <tr>\n",
       "      <th>977</th>\n",
       "      <td>0.275001</td>\n",
       "      <td>0.025000</td>\n",
       "      <td>0.025000</td>\n",
       "      <td>0.025000</td>\n",
       "      <td>0.275007</td>\n",
       "      <td>0.025000</td>\n",
       "      <td>0.025000</td>\n",
       "      <td>0.025000</td>\n",
       "      <td>0.025000</td>\n",
       "      <td>0.274991</td>\n",
       "    </tr>\n",
       "    <tr>\n",
       "      <th>978</th>\n",
       "      <td>0.033333</td>\n",
       "      <td>0.033333</td>\n",
       "      <td>0.033333</td>\n",
       "      <td>0.033333</td>\n",
       "      <td>0.033333</td>\n",
       "      <td>0.033333</td>\n",
       "      <td>0.033333</td>\n",
       "      <td>0.033334</td>\n",
       "      <td>0.369105</td>\n",
       "      <td>0.364228</td>\n",
       "    </tr>\n",
       "    <tr>\n",
       "      <th>979</th>\n",
       "      <td>0.033333</td>\n",
       "      <td>0.033333</td>\n",
       "      <td>0.033333</td>\n",
       "      <td>0.351566</td>\n",
       "      <td>0.033333</td>\n",
       "      <td>0.033333</td>\n",
       "      <td>0.033333</td>\n",
       "      <td>0.033333</td>\n",
       "      <td>0.381767</td>\n",
       "      <td>0.033333</td>\n",
       "    </tr>\n",
       "    <tr>\n",
       "      <th>980</th>\n",
       "      <td>0.100000</td>\n",
       "      <td>0.100000</td>\n",
       "      <td>0.100000</td>\n",
       "      <td>0.100000</td>\n",
       "      <td>0.100000</td>\n",
       "      <td>0.100000</td>\n",
       "      <td>0.100000</td>\n",
       "      <td>0.100000</td>\n",
       "      <td>0.100000</td>\n",
       "      <td>0.100000</td>\n",
       "    </tr>\n",
       "    <tr>\n",
       "      <th>981</th>\n",
       "      <td>0.050000</td>\n",
       "      <td>0.050000</td>\n",
       "      <td>0.050000</td>\n",
       "      <td>0.050000</td>\n",
       "      <td>0.050000</td>\n",
       "      <td>0.050000</td>\n",
       "      <td>0.050000</td>\n",
       "      <td>0.050000</td>\n",
       "      <td>0.550000</td>\n",
       "      <td>0.050000</td>\n",
       "    </tr>\n",
       "    <tr>\n",
       "      <th>982</th>\n",
       "      <td>0.100000</td>\n",
       "      <td>0.100000</td>\n",
       "      <td>0.100000</td>\n",
       "      <td>0.100000</td>\n",
       "      <td>0.100000</td>\n",
       "      <td>0.100000</td>\n",
       "      <td>0.100000</td>\n",
       "      <td>0.100000</td>\n",
       "      <td>0.100000</td>\n",
       "      <td>0.100000</td>\n",
       "    </tr>\n",
       "    <tr>\n",
       "      <th>983</th>\n",
       "      <td>0.276876</td>\n",
       "      <td>0.025000</td>\n",
       "      <td>0.025000</td>\n",
       "      <td>0.261742</td>\n",
       "      <td>0.025000</td>\n",
       "      <td>0.025000</td>\n",
       "      <td>0.025000</td>\n",
       "      <td>0.025000</td>\n",
       "      <td>0.286382</td>\n",
       "      <td>0.025000</td>\n",
       "    </tr>\n",
       "    <tr>\n",
       "      <th>984</th>\n",
       "      <td>0.549997</td>\n",
       "      <td>0.050000</td>\n",
       "      <td>0.050000</td>\n",
       "      <td>0.050003</td>\n",
       "      <td>0.050000</td>\n",
       "      <td>0.050000</td>\n",
       "      <td>0.050000</td>\n",
       "      <td>0.050000</td>\n",
       "      <td>0.050000</td>\n",
       "      <td>0.050000</td>\n",
       "    </tr>\n",
       "    <tr>\n",
       "      <th>985</th>\n",
       "      <td>0.100000</td>\n",
       "      <td>0.100000</td>\n",
       "      <td>0.100000</td>\n",
       "      <td>0.100000</td>\n",
       "      <td>0.100000</td>\n",
       "      <td>0.100000</td>\n",
       "      <td>0.100000</td>\n",
       "      <td>0.100000</td>\n",
       "      <td>0.100000</td>\n",
       "      <td>0.100000</td>\n",
       "    </tr>\n",
       "    <tr>\n",
       "      <th>986</th>\n",
       "      <td>0.100000</td>\n",
       "      <td>0.100000</td>\n",
       "      <td>0.100000</td>\n",
       "      <td>0.100000</td>\n",
       "      <td>0.100000</td>\n",
       "      <td>0.100000</td>\n",
       "      <td>0.100000</td>\n",
       "      <td>0.100000</td>\n",
       "      <td>0.100000</td>\n",
       "      <td>0.100000</td>\n",
       "    </tr>\n",
       "    <tr>\n",
       "      <th>987</th>\n",
       "      <td>0.050000</td>\n",
       "      <td>0.050000</td>\n",
       "      <td>0.050000</td>\n",
       "      <td>0.050000</td>\n",
       "      <td>0.050000</td>\n",
       "      <td>0.050000</td>\n",
       "      <td>0.050000</td>\n",
       "      <td>0.550000</td>\n",
       "      <td>0.050000</td>\n",
       "      <td>0.050000</td>\n",
       "    </tr>\n",
       "    <tr>\n",
       "      <th>988</th>\n",
       "      <td>0.100000</td>\n",
       "      <td>0.100000</td>\n",
       "      <td>0.100000</td>\n",
       "      <td>0.100000</td>\n",
       "      <td>0.100000</td>\n",
       "      <td>0.100000</td>\n",
       "      <td>0.100000</td>\n",
       "      <td>0.100000</td>\n",
       "      <td>0.100000</td>\n",
       "      <td>0.100000</td>\n",
       "    </tr>\n",
       "    <tr>\n",
       "      <th>989</th>\n",
       "      <td>0.016667</td>\n",
       "      <td>0.016667</td>\n",
       "      <td>0.133172</td>\n",
       "      <td>0.016669</td>\n",
       "      <td>0.016667</td>\n",
       "      <td>0.183316</td>\n",
       "      <td>0.016667</td>\n",
       "      <td>0.186962</td>\n",
       "      <td>0.235304</td>\n",
       "      <td>0.177911</td>\n",
       "    </tr>\n",
       "    <tr>\n",
       "      <th>990</th>\n",
       "      <td>0.366667</td>\n",
       "      <td>0.033333</td>\n",
       "      <td>0.033333</td>\n",
       "      <td>0.033333</td>\n",
       "      <td>0.033333</td>\n",
       "      <td>0.033333</td>\n",
       "      <td>0.033333</td>\n",
       "      <td>0.366666</td>\n",
       "      <td>0.033333</td>\n",
       "      <td>0.033333</td>\n",
       "    </tr>\n",
       "    <tr>\n",
       "      <th>991</th>\n",
       "      <td>0.100000</td>\n",
       "      <td>0.100000</td>\n",
       "      <td>0.100000</td>\n",
       "      <td>0.100000</td>\n",
       "      <td>0.100000</td>\n",
       "      <td>0.100000</td>\n",
       "      <td>0.100000</td>\n",
       "      <td>0.100000</td>\n",
       "      <td>0.100000</td>\n",
       "      <td>0.100000</td>\n",
       "    </tr>\n",
       "    <tr>\n",
       "      <th>992</th>\n",
       "      <td>0.020000</td>\n",
       "      <td>0.219982</td>\n",
       "      <td>0.220002</td>\n",
       "      <td>0.020000</td>\n",
       "      <td>0.220025</td>\n",
       "      <td>0.020000</td>\n",
       "      <td>0.020000</td>\n",
       "      <td>0.219991</td>\n",
       "      <td>0.020000</td>\n",
       "      <td>0.020000</td>\n",
       "    </tr>\n",
       "    <tr>\n",
       "      <th>993</th>\n",
       "      <td>0.050000</td>\n",
       "      <td>0.050000</td>\n",
       "      <td>0.550000</td>\n",
       "      <td>0.050000</td>\n",
       "      <td>0.050000</td>\n",
       "      <td>0.050000</td>\n",
       "      <td>0.050000</td>\n",
       "      <td>0.050000</td>\n",
       "      <td>0.050000</td>\n",
       "      <td>0.050000</td>\n",
       "    </tr>\n",
       "    <tr>\n",
       "      <th>994</th>\n",
       "      <td>0.033336</td>\n",
       "      <td>0.033336</td>\n",
       "      <td>0.033336</td>\n",
       "      <td>0.033333</td>\n",
       "      <td>0.033333</td>\n",
       "      <td>0.033336</td>\n",
       "      <td>0.033333</td>\n",
       "      <td>0.033333</td>\n",
       "      <td>0.033337</td>\n",
       "      <td>0.699986</td>\n",
       "    </tr>\n",
       "    <tr>\n",
       "      <th>995</th>\n",
       "      <td>0.100000</td>\n",
       "      <td>0.100000</td>\n",
       "      <td>0.100000</td>\n",
       "      <td>0.100000</td>\n",
       "      <td>0.100000</td>\n",
       "      <td>0.100000</td>\n",
       "      <td>0.100000</td>\n",
       "      <td>0.100000</td>\n",
       "      <td>0.100000</td>\n",
       "      <td>0.100000</td>\n",
       "    </tr>\n",
       "    <tr>\n",
       "      <th>996</th>\n",
       "      <td>0.100000</td>\n",
       "      <td>0.100000</td>\n",
       "      <td>0.100000</td>\n",
       "      <td>0.100000</td>\n",
       "      <td>0.100000</td>\n",
       "      <td>0.100000</td>\n",
       "      <td>0.100000</td>\n",
       "      <td>0.100000</td>\n",
       "      <td>0.100000</td>\n",
       "      <td>0.100000</td>\n",
       "    </tr>\n",
       "    <tr>\n",
       "      <th>997</th>\n",
       "      <td>0.025000</td>\n",
       "      <td>0.025000</td>\n",
       "      <td>0.025017</td>\n",
       "      <td>0.423760</td>\n",
       "      <td>0.025000</td>\n",
       "      <td>0.025001</td>\n",
       "      <td>0.025000</td>\n",
       "      <td>0.025000</td>\n",
       "      <td>0.376221</td>\n",
       "      <td>0.025000</td>\n",
       "    </tr>\n",
       "    <tr>\n",
       "      <th>998</th>\n",
       "      <td>0.050000</td>\n",
       "      <td>0.050000</td>\n",
       "      <td>0.050000</td>\n",
       "      <td>0.050000</td>\n",
       "      <td>0.050000</td>\n",
       "      <td>0.050000</td>\n",
       "      <td>0.050000</td>\n",
       "      <td>0.050000</td>\n",
       "      <td>0.050000</td>\n",
       "      <td>0.550000</td>\n",
       "    </tr>\n",
       "    <tr>\n",
       "      <th>999</th>\n",
       "      <td>0.033334</td>\n",
       "      <td>0.033334</td>\n",
       "      <td>0.033333</td>\n",
       "      <td>0.699997</td>\n",
       "      <td>0.033333</td>\n",
       "      <td>0.033335</td>\n",
       "      <td>0.033333</td>\n",
       "      <td>0.033333</td>\n",
       "      <td>0.033333</td>\n",
       "      <td>0.033333</td>\n",
       "    </tr>\n",
       "  </tbody>\n",
       "</table>\n",
       "<p>1000 rows × 10 columns</p>\n",
       "</div>"
      ],
      "text/plain": [
       "        LDA_1     LDA_2     LDA_3     LDA_4     LDA_5     LDA_6     LDA_7  \\\n",
       "0    0.050000  0.050000  0.050000  0.549999  0.050000  0.050000  0.050000   \n",
       "1    0.100000  0.100000  0.100000  0.100000  0.100000  0.100000  0.100000   \n",
       "2    0.100000  0.100000  0.100000  0.100000  0.100000  0.100000  0.100000   \n",
       "3    0.274998  0.025000  0.025000  0.025000  0.025000  0.025000  0.274981   \n",
       "4    0.050000  0.550000  0.050000  0.050000  0.050000  0.050000  0.050000   \n",
       "5    0.100000  0.100000  0.100000  0.100000  0.100000  0.100000  0.100000   \n",
       "6    0.025001  0.275778  0.025000  0.279427  0.025000  0.025000  0.025000   \n",
       "7    0.025000  0.276108  0.025000  0.025000  0.025000  0.025000  0.025000   \n",
       "8    0.100000  0.100000  0.100000  0.100000  0.100000  0.100000  0.100000   \n",
       "9    0.050000  0.050000  0.050000  0.050000  0.050000  0.050000  0.050000   \n",
       "10   0.100000  0.100000  0.100000  0.100000  0.100000  0.100000  0.100000   \n",
       "11   0.050002  0.050000  0.050000  0.050001  0.050000  0.050000  0.050000   \n",
       "12   0.020000  0.020000  0.020000  0.420011  0.020000  0.020000  0.020000   \n",
       "13   0.050000  0.550000  0.050000  0.050000  0.050000  0.050000  0.050000   \n",
       "14   0.050000  0.050000  0.050000  0.050000  0.050000  0.050000  0.050000   \n",
       "15   0.033333  0.033333  0.033333  0.033333  0.033333  0.033333  0.033333   \n",
       "16   0.050000  0.050012  0.050000  0.050000  0.050000  0.549988  0.050000   \n",
       "17   0.033334  0.033336  0.033333  0.033333  0.033333  0.033333  0.033333   \n",
       "18   0.025000  0.025000  0.025000  0.025000  0.025000  0.025000  0.025000   \n",
       "19   0.100000  0.100000  0.100000  0.100000  0.100000  0.100000  0.100000   \n",
       "20   0.100000  0.100000  0.100000  0.100000  0.100000  0.100000  0.100000   \n",
       "21   0.050008  0.050000  0.050000  0.050000  0.050000  0.050000  0.050000   \n",
       "22   0.050000  0.050000  0.050000  0.050000  0.050000  0.050000  0.050000   \n",
       "23   0.100000  0.100000  0.100000  0.100000  0.100000  0.100000  0.100000   \n",
       "24   0.033333  0.366647  0.033333  0.033333  0.366686  0.033333  0.033333   \n",
       "25   0.050000  0.050000  0.050000  0.050000  0.050000  0.050000  0.050000   \n",
       "26   0.050000  0.050000  0.050000  0.050000  0.050000  0.050000  0.050000   \n",
       "27   0.100000  0.100000  0.100000  0.100000  0.100000  0.100000  0.100000   \n",
       "28   0.100000  0.100000  0.100000  0.100000  0.100000  0.100000  0.100000   \n",
       "29   0.281589  0.025000  0.025000  0.518410  0.025000  0.025001  0.025000   \n",
       "..        ...       ...       ...       ...       ...       ...       ...   \n",
       "970  0.100000  0.100000  0.100000  0.100000  0.100000  0.100000  0.100000   \n",
       "971  0.100000  0.100000  0.100000  0.100000  0.100000  0.100000  0.100000   \n",
       "972  0.033333  0.033341  0.033333  0.033333  0.033333  0.367219  0.033333   \n",
       "973  0.025000  0.275010  0.025000  0.025000  0.025000  0.025000  0.025000   \n",
       "974  0.100000  0.100000  0.100000  0.100000  0.100000  0.100000  0.100000   \n",
       "975  0.050000  0.050000  0.050000  0.050000  0.050000  0.050000  0.550000   \n",
       "976  0.699983  0.033333  0.033333  0.033333  0.033333  0.033333  0.033333   \n",
       "977  0.275001  0.025000  0.025000  0.025000  0.275007  0.025000  0.025000   \n",
       "978  0.033333  0.033333  0.033333  0.033333  0.033333  0.033333  0.033333   \n",
       "979  0.033333  0.033333  0.033333  0.351566  0.033333  0.033333  0.033333   \n",
       "980  0.100000  0.100000  0.100000  0.100000  0.100000  0.100000  0.100000   \n",
       "981  0.050000  0.050000  0.050000  0.050000  0.050000  0.050000  0.050000   \n",
       "982  0.100000  0.100000  0.100000  0.100000  0.100000  0.100000  0.100000   \n",
       "983  0.276876  0.025000  0.025000  0.261742  0.025000  0.025000  0.025000   \n",
       "984  0.549997  0.050000  0.050000  0.050003  0.050000  0.050000  0.050000   \n",
       "985  0.100000  0.100000  0.100000  0.100000  0.100000  0.100000  0.100000   \n",
       "986  0.100000  0.100000  0.100000  0.100000  0.100000  0.100000  0.100000   \n",
       "987  0.050000  0.050000  0.050000  0.050000  0.050000  0.050000  0.050000   \n",
       "988  0.100000  0.100000  0.100000  0.100000  0.100000  0.100000  0.100000   \n",
       "989  0.016667  0.016667  0.133172  0.016669  0.016667  0.183316  0.016667   \n",
       "990  0.366667  0.033333  0.033333  0.033333  0.033333  0.033333  0.033333   \n",
       "991  0.100000  0.100000  0.100000  0.100000  0.100000  0.100000  0.100000   \n",
       "992  0.020000  0.219982  0.220002  0.020000  0.220025  0.020000  0.020000   \n",
       "993  0.050000  0.050000  0.550000  0.050000  0.050000  0.050000  0.050000   \n",
       "994  0.033336  0.033336  0.033336  0.033333  0.033333  0.033336  0.033333   \n",
       "995  0.100000  0.100000  0.100000  0.100000  0.100000  0.100000  0.100000   \n",
       "996  0.100000  0.100000  0.100000  0.100000  0.100000  0.100000  0.100000   \n",
       "997  0.025000  0.025000  0.025017  0.423760  0.025000  0.025001  0.025000   \n",
       "998  0.050000  0.050000  0.050000  0.050000  0.050000  0.050000  0.050000   \n",
       "999  0.033334  0.033334  0.033333  0.699997  0.033333  0.033335  0.033333   \n",
       "\n",
       "        LDA_8     LDA_9    LDA_10  \n",
       "0    0.050000  0.050001  0.050000  \n",
       "1    0.100000  0.100000  0.100000  \n",
       "2    0.100000  0.100000  0.100000  \n",
       "3    0.025000  0.275022  0.025000  \n",
       "4    0.050000  0.050000  0.050000  \n",
       "5    0.100000  0.100000  0.100000  \n",
       "6    0.025000  0.025000  0.269793  \n",
       "7    0.025000  0.273938  0.274954  \n",
       "8    0.100000  0.100000  0.100000  \n",
       "9    0.550000  0.050000  0.050000  \n",
       "10   0.100000  0.100000  0.100000  \n",
       "11   0.050000  0.050000  0.549998  \n",
       "12   0.419989  0.020000  0.020000  \n",
       "13   0.050000  0.050000  0.050000  \n",
       "14   0.550000  0.050000  0.050000  \n",
       "15   0.033333  0.033333  0.700000  \n",
       "16   0.050000  0.050000  0.050000  \n",
       "17   0.033333  0.361465  0.371865  \n",
       "18   0.025000  0.529565  0.270434  \n",
       "19   0.100000  0.100000  0.100000  \n",
       "20   0.100000  0.100000  0.100000  \n",
       "21   0.050000  0.549992  0.050000  \n",
       "22   0.550000  0.050000  0.050000  \n",
       "23   0.100000  0.100000  0.100000  \n",
       "24   0.033333  0.033333  0.033333  \n",
       "25   0.050000  0.050000  0.549999  \n",
       "26   0.050000  0.050000  0.549999  \n",
       "27   0.100000  0.100000  0.100000  \n",
       "28   0.100000  0.100000  0.100000  \n",
       "29   0.025000  0.025000  0.025000  \n",
       "..        ...       ...       ...  \n",
       "970  0.100000  0.100000  0.100000  \n",
       "971  0.100000  0.100000  0.100000  \n",
       "972  0.033333  0.366103  0.033337  \n",
       "973  0.275013  0.274974  0.025003  \n",
       "974  0.100000  0.100000  0.100000  \n",
       "975  0.050000  0.050000  0.050000  \n",
       "976  0.033333  0.033351  0.033333  \n",
       "977  0.025000  0.025000  0.274991  \n",
       "978  0.033334  0.369105  0.364228  \n",
       "979  0.033333  0.381767  0.033333  \n",
       "980  0.100000  0.100000  0.100000  \n",
       "981  0.050000  0.550000  0.050000  \n",
       "982  0.100000  0.100000  0.100000  \n",
       "983  0.025000  0.286382  0.025000  \n",
       "984  0.050000  0.050000  0.050000  \n",
       "985  0.100000  0.100000  0.100000  \n",
       "986  0.100000  0.100000  0.100000  \n",
       "987  0.550000  0.050000  0.050000  \n",
       "988  0.100000  0.100000  0.100000  \n",
       "989  0.186962  0.235304  0.177911  \n",
       "990  0.366666  0.033333  0.033333  \n",
       "991  0.100000  0.100000  0.100000  \n",
       "992  0.219991  0.020000  0.020000  \n",
       "993  0.050000  0.050000  0.050000  \n",
       "994  0.033333  0.033337  0.699986  \n",
       "995  0.100000  0.100000  0.100000  \n",
       "996  0.100000  0.100000  0.100000  \n",
       "997  0.025000  0.376221  0.025000  \n",
       "998  0.050000  0.050000  0.550000  \n",
       "999  0.033333  0.033333  0.033333  \n",
       "\n",
       "[1000 rows x 10 columns]"
      ]
     },
     "execution_count": 460,
     "metadata": {},
     "output_type": "execute_result"
    }
   ],
   "source": [
    "lda_x_good"
   ]
  },
  {
   "cell_type": "code",
   "execution_count": null,
   "metadata": {
    "collapsed": true
   },
   "outputs": [],
   "source": []
  },
  {
   "cell_type": "code",
   "execution_count": null,
   "metadata": {
    "collapsed": true
   },
   "outputs": [],
   "source": [
    "no_topics = 10\n",
    "no_top_words = 10\n",
    "\n",
    "LDA_cols = ['LDA_' + str(i) for i in range(1, no_topics + 1)]"
   ]
  },
  {
   "cell_type": "code",
   "execution_count": null,
   "metadata": {
    "collapsed": true
   },
   "outputs": [],
   "source": [
    "# GOOD"
   ]
  },
  {
   "cell_type": "code",
   "execution_count": 420,
   "metadata": {
    "ExecuteTime": {
     "end_time": "2017-11-05T01:08:27.103587Z",
     "start_time": "2017-11-05T01:08:23.457686Z"
    },
    "collapsed": true
   },
   "outputs": [],
   "source": [
    "# LDA can only use raw term counts for LDA because it is a probabilistic graphical model\n",
    "tf_vectorizer_good = CountVectorizer(max_df=0.90, min_df=20, stop_words = my_stop_words)\n",
    "\n",
    "tf_good = tf_vectorizer_good.fit_transform(good_r['stemmed2'])\n",
    "tf_feature_names_good = tf_vectorizer_good.get_feature_names()\n"
   ]
  },
  {
   "cell_type": "code",
   "execution_count": 429,
   "metadata": {
    "ExecuteTime": {
     "end_time": "2017-11-05T01:45:26.160577Z",
     "start_time": "2017-11-05T01:45:26.154901Z"
    },
    "collapsed": true
   },
   "outputs": [],
   "source": [
    "lda_good = LatentDirichletAllocation(n_components = no_topics, max_iter = 10, learning_method='online',\n",
    "                                learning_offset=50., random_state = 10)\n"
   ]
  },
  {
   "cell_type": "code",
   "execution_count": 430,
   "metadata": {
    "ExecuteTime": {
     "end_time": "2017-11-05T02:00:26.286957Z",
     "start_time": "2017-11-05T01:45:27.682173Z"
    },
    "collapsed": true
   },
   "outputs": [],
   "source": [
    "lda_fit_good = lda_good.fit(tf_good)\n",
    "\n",
    "lda_x = pd.DataFrame(lda_good.transform(tf_good), columns = LDA_cols)\n"
   ]
  },
  {
   "cell_type": "code",
   "execution_count": 431,
   "metadata": {
    "ExecuteTime": {
     "end_time": "2017-11-05T02:00:26.305833Z",
     "start_time": "2017-11-05T02:00:26.290308Z"
    },
    "scrolled": true
   },
   "outputs": [
    {
     "name": "stdout",
     "output_type": "stream",
     "text": [
      "Topic 1:\n",
      "order wait make onli night perfect know day sure tabl star cook got ca walk\n",
      "Topic 2:\n",
      "like definit tast enjoy experi eat tasti littl busi veri roll good way use rice\n",
      "Topic 3:\n",
      "great food good servic drink veri pretti price say seat sushi awesom atmospher worth pork\n",
      "Topic 4:\n",
      "tri come came order time becaus meat sinc beef meal soup egg offer befor ask\n",
      "Topic 5:\n",
      "restaur bar excel menu favorit food open expect order item took actual becaus free old\n",
      "Topic 6:\n",
      "friend realli time just veri nice food staff alway good dinner went servic think like\n",
      "Topic 7:\n",
      "best chees did thing flavor better good wine dessert spici start quit bread appet grill\n",
      "Topic 8:\n",
      "place love lunch visit special area spot locat coffe year patio larg lot fun small\n",
      "Topic 9:\n",
      "amaz place dish bit peopl right happi new hour like review fish usual home attent\n",
      "Topic 10:\n",
      "delici fresh recommend everyth sandwich sweet serv high quick someth ani need just potato check\n"
     ]
    }
   ],
   "source": [
    "#display_topics(nmf, tfidf_feature_names, no_top_words)\n",
    "display_topics(lda_fit_good, tf_feature_names_good, no_top_words=15)"
   ]
  },
  {
   "cell_type": "code",
   "execution_count": null,
   "metadata": {
    "collapsed": true
   },
   "outputs": [],
   "source": []
  },
  {
   "cell_type": "code",
   "execution_count": null,
   "metadata": {
    "collapsed": true
   },
   "outputs": [],
   "source": []
  },
  {
   "cell_type": "markdown",
   "metadata": {},
   "source": [
    "### Testing"
   ]
  },
  {
   "cell_type": "code",
   "execution_count": 5,
   "metadata": {
    "ExecuteTime": {
     "end_time": "2017-11-05T17:02:09.264386Z",
     "start_time": "2017-11-05T17:02:09.261448Z"
    },
    "collapsed": true
   },
   "outputs": [],
   "source": [
    "from sklearn.externals import joblib"
   ]
  },
  {
   "cell_type": "code",
   "execution_count": 12,
   "metadata": {
    "ExecuteTime": {
     "end_time": "2017-11-05T17:12:40.267686Z",
     "start_time": "2017-11-05T17:12:39.938346Z"
    },
    "collapsed": true
   },
   "outputs": [],
   "source": [
    "lda_all = joblib.load('lda_all.pkl')\n",
    "lda_fit = joblib.load('lda_fit.pkl')\n",
    "tf = joblib.load('tf.pkl')\n",
    "\n",
    "tf_vectorizer = joblib.load('tf_vectorizer.pkl')"
   ]
  },
  {
   "cell_type": "code",
   "execution_count": 8,
   "metadata": {
    "ExecuteTime": {
     "end_time": "2017-11-05T17:03:17.325737Z",
     "start_time": "2017-11-05T17:02:52.826886Z"
    },
    "collapsed": true
   },
   "outputs": [],
   "source": [
    "x = lda_all.transform(tf)"
   ]
  },
  {
   "cell_type": "code",
   "execution_count": 9,
   "metadata": {
    "ExecuteTime": {
     "end_time": "2017-11-05T17:03:24.319155Z",
     "start_time": "2017-11-05T17:03:24.311470Z"
    }
   },
   "outputs": [
    {
     "data": {
      "text/plain": [
       "array([[ 0.07333336,  0.54000021,  0.00666667, ...,  0.00666667,\n",
       "         0.00666667,  0.00666667],\n",
       "       [ 0.025     ,  0.27500004,  0.025     , ...,  0.02501397,\n",
       "         0.025     ,  0.025     ],\n",
       "       [ 0.01      ,  0.01      ,  0.01000385, ...,  0.01      ,\n",
       "         0.01      ,  0.01      ],\n",
       "       ..., \n",
       "       [ 0.02000271,  0.02000287,  0.02      , ...,  0.02000295,\n",
       "         0.41998943,  0.21999729],\n",
       "       [ 0.02500371,  0.27498753,  0.025     , ...,  0.025     ,\n",
       "         0.025     ,  0.275     ],\n",
       "       [ 0.1       ,  0.1       ,  0.1       , ...,  0.1       ,\n",
       "         0.1       ,  0.1       ]])"
      ]
     },
     "execution_count": 9,
     "metadata": {},
     "output_type": "execute_result"
    }
   ],
   "source": [
    "x"
   ]
  },
  {
   "cell_type": "code",
   "execution_count": 11,
   "metadata": {
    "ExecuteTime": {
     "end_time": "2017-11-05T17:11:07.286602Z",
     "start_time": "2017-11-05T17:11:07.276810Z"
    },
    "collapsed": true
   },
   "outputs": [],
   "source": [
    "def display_topics(model, feature_names, no_top_words):\n",
    "    for topic_idx, topic in enumerate(model.components_):\n",
    "        print( \"Topic %d:\" % (topic_idx + 1))\n",
    "        print(\" \".join([feature_names[i]\n",
    "                        for i in topic.argsort()[ :-no_top_words - 1:-1]]))\n"
   ]
  },
  {
   "cell_type": "code",
   "execution_count": 13,
   "metadata": {
    "ExecuteTime": {
     "end_time": "2017-11-05T17:13:13.123206Z",
     "start_time": "2017-11-05T17:13:13.107646Z"
    }
   },
   "outputs": [
    {
     "name": "stdout",
     "output_type": "stream",
     "text": [
      "Topic 1:\n",
      "food want bar experi enjoy star place bad disappoint anoth expect noth small home restaur\n",
      "Topic 2:\n",
      "place love got definit night onli portion excel favorit wine open offer dine come sushi\n",
      "Topic 3:\n",
      "realli delici menu tast come everyth cook bread egg coffe overal item larg ok return\n",
      "Topic 4:\n",
      "like just did place eat look restaur think know ani said good serv make spot\n",
      "Topic 5:\n",
      "tri lunch recommend bit flavor fresh way locat right like rice high great special soup\n",
      "Topic 6:\n",
      "order good best dish thing better chees dinner lot tri busi sure meat new tasti\n",
      "Topic 7:\n",
      "wait becaus drink ask came tabl peopl minut befor place ca did hot just custom\n",
      "Topic 8:\n",
      "time meal pretti say good sweet sinc everi veri big quick long tri went day\n",
      "Topic 9:\n",
      "great servic veri friend nice littl good staff seat hour visit atmospher happi work restaur\n",
      "Topic 10:\n",
      "food price alway amaz server qualiti perfect select sit kind feel let water line room\n"
     ]
    }
   ],
   "source": [
    "tf_feature_names = tf_vectorizer.get_feature_names()\n",
    "\n",
    "#display_topics(nmf, tfidf_feature_names, no_top_words)\n",
    "display_topics(lda_fit, tf_feature_names, no_top_words = 15)"
   ]
  },
  {
   "cell_type": "code",
   "execution_count": null,
   "metadata": {
    "collapsed": true
   },
   "outputs": [],
   "source": []
  },
  {
   "cell_type": "code",
   "execution_count": null,
   "metadata": {
    "collapsed": true
   },
   "outputs": [],
   "source": []
  },
  {
   "cell_type": "code",
   "execution_count": null,
   "metadata": {
    "collapsed": true
   },
   "outputs": [],
   "source": []
  },
  {
   "cell_type": "code",
   "execution_count": null,
   "metadata": {
    "collapsed": true
   },
   "outputs": [],
   "source": [
    "# BAD"
   ]
  },
  {
   "cell_type": "code",
   "execution_count": 435,
   "metadata": {
    "ExecuteTime": {
     "end_time": "2017-11-05T02:05:23.877790Z",
     "start_time": "2017-11-05T02:05:20.993725Z"
    },
    "collapsed": true
   },
   "outputs": [],
   "source": [
    "# LDA can only use raw term counts for LDA because it is a probabilistic graphical model\n",
    "\n",
    "no_topics = 10\n",
    "\n",
    "tf_vectorizer_bad = TfidfVectorizer(max_df=0.90, min_df=20, stop_words = my_stop_words)\n",
    "\n",
    "tf_bad = tf_vectorizer_bad.fit_transform(bad_r['stemmed2'])\n",
    "tf_feature_names_bad = tf_vectorizer_bad.get_feature_names()\n"
   ]
  },
  {
   "cell_type": "code",
   "execution_count": 436,
   "metadata": {
    "ExecuteTime": {
     "end_time": "2017-11-05T02:05:24.154879Z",
     "start_time": "2017-11-05T02:05:24.145694Z"
    }
   },
   "outputs": [
    {
     "data": {
      "text/plain": [
       "10"
      ]
     },
     "execution_count": 436,
     "metadata": {},
     "output_type": "execute_result"
    }
   ],
   "source": [
    "no_topics"
   ]
  },
  {
   "cell_type": "code",
   "execution_count": 437,
   "metadata": {
    "ExecuteTime": {
     "end_time": "2017-11-05T02:05:25.781707Z",
     "start_time": "2017-11-05T02:05:25.776739Z"
    },
    "collapsed": true
   },
   "outputs": [],
   "source": [
    "lda_bad = LatentDirichletAllocation(n_components = no_topics, max_iter = 10, learning_method='online',\n",
    "                                learning_offset=50., random_state = 10)\n"
   ]
  },
  {
   "cell_type": "code",
   "execution_count": 438,
   "metadata": {
    "ExecuteTime": {
     "end_time": "2017-11-05T02:08:53.267469Z",
     "start_time": "2017-11-05T02:05:26.479453Z"
    },
    "collapsed": true
   },
   "outputs": [],
   "source": [
    "lda_fit_bad = lda_bad.fit(tf_bad)"
   ]
  },
  {
   "cell_type": "code",
   "execution_count": 439,
   "metadata": {
    "ExecuteTime": {
     "end_time": "2017-11-05T02:08:53.279259Z",
     "start_time": "2017-11-05T02:08:53.269404Z"
    }
   },
   "outputs": [
    {
     "name": "stdout",
     "output_type": "stream",
     "text": [
      "Topic 1:\n",
      "order sandwich lunch decent noth locat went work got special came wrong quick food felt\n",
      "Topic 2:\n",
      "return pretti check roll plate final serv offer ask way bread dessert dish order guess\n",
      "Topic 3:\n",
      "okay decid worst point atmospher lot bit shrimp stop sushi reserv place decor food huge\n",
      "Topic 4:\n",
      "custom night best love worth sure hot let probabl open clean differ owner place chees\n",
      "Topic 5:\n",
      "come tabl ok busi drink just did order want ask told peopl right server waitress\n",
      "Topic 6:\n",
      "disappoint think experi whi averag eat horribl coffe food egg fine veri dine line servic\n",
      "Topic 7:\n",
      "bad minut time better review place wait mayb tri seat look food impress els bland\n",
      "Topic 8:\n",
      "good servic realli food veri great nice like flavor delici tast slow happi staff lack\n",
      "Topic 9:\n",
      "star know tasti dri fresh expect reason amaz half beef walk size rice guy quit\n",
      "Topic 10:\n",
      "price definit recommend wo overal portion small terribl need food qualiti servic ani place high\n"
     ]
    }
   ],
   "source": [
    "display_topics(lda_fit_bad, tf_feature_names_bad, no_top_words=15)"
   ]
  },
  {
   "cell_type": "code",
   "execution_count": null,
   "metadata": {
    "collapsed": true
   },
   "outputs": [],
   "source": []
  },
  {
   "cell_type": "code",
   "execution_count": null,
   "metadata": {
    "collapsed": true
   },
   "outputs": [],
   "source": []
  },
  {
   "cell_type": "markdown",
   "metadata": {},
   "source": [
    "### Aggregate LDA Weights"
   ]
  },
  {
   "cell_type": "code",
   "execution_count": 346,
   "metadata": {
    "ExecuteTime": {
     "end_time": "2017-11-04T20:32:30.534555Z",
     "start_time": "2017-11-04T20:32:30.526694Z"
    },
    "scrolled": true
   },
   "outputs": [
    {
     "data": {
      "text/plain": [
       "['LDA_1',\n",
       " 'LDA_2',\n",
       " 'LDA_3',\n",
       " 'LDA_4',\n",
       " 'LDA_5',\n",
       " 'LDA_6',\n",
       " 'LDA_7',\n",
       " 'LDA_8',\n",
       " 'LDA_9',\n",
       " 'LDA_10',\n",
       " 'LDA_11',\n",
       " 'LDA_12',\n",
       " 'LDA_13',\n",
       " 'LDA_14',\n",
       " 'LDA_15',\n",
       " 'LDA_16',\n",
       " 'LDA_17',\n",
       " 'LDA_18',\n",
       " 'LDA_19',\n",
       " 'LDA_20',\n",
       " 'LDA_21',\n",
       " 'LDA_22',\n",
       " 'LDA_23',\n",
       " 'LDA_24',\n",
       " 'LDA_25',\n",
       " 'LDA_26',\n",
       " 'LDA_27',\n",
       " 'LDA_28',\n",
       " 'LDA_29',\n",
       " 'LDA_30',\n",
       " 'review_id']"
      ]
     },
     "execution_count": 346,
     "metadata": {},
     "output_type": "execute_result"
    }
   ],
   "source": [
    "no_topics = 30\n",
    "LDA_cols = ['LDA_' + str(i) for i in range(1, no_topics + 1)]\n",
    "\n",
    "LDA_cols + ['review_id']"
   ]
  },
  {
   "cell_type": "code",
   "execution_count": 347,
   "metadata": {
    "ExecuteTime": {
     "end_time": "2017-11-04T20:32:31.133439Z",
     "start_time": "2017-11-04T20:32:30.538388Z"
    },
    "collapsed": true
   },
   "outputs": [],
   "source": [
    "review_LDA_agg = review_LDA.groupby('review_id').mean().reset_index()[['review_id'] + ['sent_cnt'] + LDA_cols]"
   ]
  },
  {
   "cell_type": "code",
   "execution_count": 348,
   "metadata": {
    "ExecuteTime": {
     "end_time": "2017-11-04T20:32:31.177818Z",
     "start_time": "2017-11-04T20:32:31.136991Z"
    }
   },
   "outputs": [
    {
     "data": {
      "text/html": [
       "<div>\n",
       "<style>\n",
       "    .dataframe thead tr:only-child th {\n",
       "        text-align: right;\n",
       "    }\n",
       "\n",
       "    .dataframe thead th {\n",
       "        text-align: left;\n",
       "    }\n",
       "\n",
       "    .dataframe tbody tr th {\n",
       "        vertical-align: top;\n",
       "    }\n",
       "</style>\n",
       "<table border=\"1\" class=\"dataframe\">\n",
       "  <thead>\n",
       "    <tr style=\"text-align: right;\">\n",
       "      <th></th>\n",
       "      <th>review_id</th>\n",
       "      <th>sent_cnt</th>\n",
       "      <th>LDA_1</th>\n",
       "      <th>LDA_2</th>\n",
       "      <th>LDA_3</th>\n",
       "      <th>LDA_4</th>\n",
       "      <th>LDA_5</th>\n",
       "      <th>LDA_6</th>\n",
       "      <th>LDA_7</th>\n",
       "      <th>LDA_8</th>\n",
       "      <th>...</th>\n",
       "      <th>LDA_21</th>\n",
       "      <th>LDA_22</th>\n",
       "      <th>LDA_23</th>\n",
       "      <th>LDA_24</th>\n",
       "      <th>LDA_25</th>\n",
       "      <th>LDA_26</th>\n",
       "      <th>LDA_27</th>\n",
       "      <th>LDA_28</th>\n",
       "      <th>LDA_29</th>\n",
       "      <th>LDA_30</th>\n",
       "    </tr>\n",
       "  </thead>\n",
       "  <tbody>\n",
       "    <tr>\n",
       "      <th>0</th>\n",
       "      <td>--8NyycOe-LDQVJoPyLy4g</td>\n",
       "      <td>6.0</td>\n",
       "      <td>0.038059</td>\n",
       "      <td>0.017210</td>\n",
       "      <td>0.013648</td>\n",
       "      <td>0.050880</td>\n",
       "      <td>0.060281</td>\n",
       "      <td>0.013648</td>\n",
       "      <td>0.004389</td>\n",
       "      <td>0.013648</td>\n",
       "      <td>...</td>\n",
       "      <td>0.004389</td>\n",
       "      <td>0.028321</td>\n",
       "      <td>0.045182</td>\n",
       "      <td>0.026611</td>\n",
       "      <td>0.041763</td>\n",
       "      <td>0.121108</td>\n",
       "      <td>0.056578</td>\n",
       "      <td>0.017210</td>\n",
       "      <td>0.004389</td>\n",
       "      <td>0.019541</td>\n",
       "    </tr>\n",
       "    <tr>\n",
       "      <th>1</th>\n",
       "      <td>--GIvp1-Y6--o1IlSTf7mQ</td>\n",
       "      <td>10.0</td>\n",
       "      <td>0.056522</td>\n",
       "      <td>0.022237</td>\n",
       "      <td>0.022237</td>\n",
       "      <td>0.033262</td>\n",
       "      <td>0.005570</td>\n",
       "      <td>0.022237</td>\n",
       "      <td>0.042237</td>\n",
       "      <td>0.005570</td>\n",
       "      <td>...</td>\n",
       "      <td>0.005570</td>\n",
       "      <td>0.069215</td>\n",
       "      <td>0.005570</td>\n",
       "      <td>0.050808</td>\n",
       "      <td>0.022237</td>\n",
       "      <td>0.005570</td>\n",
       "      <td>0.042933</td>\n",
       "      <td>0.038262</td>\n",
       "      <td>0.047548</td>\n",
       "      <td>0.013262</td>\n",
       "    </tr>\n",
       "    <tr>\n",
       "      <th>2</th>\n",
       "      <td>--J4sysENayuet-G4Q3D_g</td>\n",
       "      <td>3.0</td>\n",
       "      <td>0.006032</td>\n",
       "      <td>0.053651</td>\n",
       "      <td>0.006032</td>\n",
       "      <td>0.072698</td>\n",
       "      <td>0.072698</td>\n",
       "      <td>0.006032</td>\n",
       "      <td>0.053651</td>\n",
       "      <td>0.072698</td>\n",
       "      <td>...</td>\n",
       "      <td>0.006032</td>\n",
       "      <td>0.120317</td>\n",
       "      <td>0.006032</td>\n",
       "      <td>0.006032</td>\n",
       "      <td>0.006032</td>\n",
       "      <td>0.139365</td>\n",
       "      <td>0.006032</td>\n",
       "      <td>0.006032</td>\n",
       "      <td>0.006032</td>\n",
       "      <td>0.006032</td>\n",
       "    </tr>\n",
       "    <tr>\n",
       "      <th>3</th>\n",
       "      <td>--NJTPvefTMW0R2z7SJB1w</td>\n",
       "      <td>3.0</td>\n",
       "      <td>0.005309</td>\n",
       "      <td>0.042346</td>\n",
       "      <td>0.005309</td>\n",
       "      <td>0.071975</td>\n",
       "      <td>0.071975</td>\n",
       "      <td>0.042346</td>\n",
       "      <td>0.005309</td>\n",
       "      <td>0.060864</td>\n",
       "      <td>...</td>\n",
       "      <td>0.042346</td>\n",
       "      <td>0.005309</td>\n",
       "      <td>0.005309</td>\n",
       "      <td>0.005309</td>\n",
       "      <td>0.071975</td>\n",
       "      <td>0.005309</td>\n",
       "      <td>0.071975</td>\n",
       "      <td>0.005309</td>\n",
       "      <td>0.005309</td>\n",
       "      <td>0.153457</td>\n",
       "    </tr>\n",
       "    <tr>\n",
       "      <th>4</th>\n",
       "      <td>--Q_lxe0kqc6jk9eRSsH2g</td>\n",
       "      <td>4.0</td>\n",
       "      <td>0.088535</td>\n",
       "      <td>0.005202</td>\n",
       "      <td>0.027929</td>\n",
       "      <td>0.146111</td>\n",
       "      <td>0.146869</td>\n",
       "      <td>0.027929</td>\n",
       "      <td>0.005202</td>\n",
       "      <td>0.046869</td>\n",
       "      <td>...</td>\n",
       "      <td>0.069596</td>\n",
       "      <td>0.046869</td>\n",
       "      <td>0.050657</td>\n",
       "      <td>0.005202</td>\n",
       "      <td>0.138535</td>\n",
       "      <td>0.005202</td>\n",
       "      <td>0.005202</td>\n",
       "      <td>0.027929</td>\n",
       "      <td>0.046869</td>\n",
       "      <td>0.005202</td>\n",
       "    </tr>\n",
       "  </tbody>\n",
       "</table>\n",
       "<p>5 rows × 32 columns</p>\n",
       "</div>"
      ],
      "text/plain": [
       "                review_id  sent_cnt     LDA_1     LDA_2     LDA_3     LDA_4  \\\n",
       "0  --8NyycOe-LDQVJoPyLy4g       6.0  0.038059  0.017210  0.013648  0.050880   \n",
       "1  --GIvp1-Y6--o1IlSTf7mQ      10.0  0.056522  0.022237  0.022237  0.033262   \n",
       "2  --J4sysENayuet-G4Q3D_g       3.0  0.006032  0.053651  0.006032  0.072698   \n",
       "3  --NJTPvefTMW0R2z7SJB1w       3.0  0.005309  0.042346  0.005309  0.071975   \n",
       "4  --Q_lxe0kqc6jk9eRSsH2g       4.0  0.088535  0.005202  0.027929  0.146111   \n",
       "\n",
       "      LDA_5     LDA_6     LDA_7     LDA_8    ...       LDA_21    LDA_22  \\\n",
       "0  0.060281  0.013648  0.004389  0.013648    ...     0.004389  0.028321   \n",
       "1  0.005570  0.022237  0.042237  0.005570    ...     0.005570  0.069215   \n",
       "2  0.072698  0.006032  0.053651  0.072698    ...     0.006032  0.120317   \n",
       "3  0.071975  0.042346  0.005309  0.060864    ...     0.042346  0.005309   \n",
       "4  0.146869  0.027929  0.005202  0.046869    ...     0.069596  0.046869   \n",
       "\n",
       "     LDA_23    LDA_24    LDA_25    LDA_26    LDA_27    LDA_28    LDA_29  \\\n",
       "0  0.045182  0.026611  0.041763  0.121108  0.056578  0.017210  0.004389   \n",
       "1  0.005570  0.050808  0.022237  0.005570  0.042933  0.038262  0.047548   \n",
       "2  0.006032  0.006032  0.006032  0.139365  0.006032  0.006032  0.006032   \n",
       "3  0.005309  0.005309  0.071975  0.005309  0.071975  0.005309  0.005309   \n",
       "4  0.050657  0.005202  0.138535  0.005202  0.005202  0.027929  0.046869   \n",
       "\n",
       "     LDA_30  \n",
       "0  0.019541  \n",
       "1  0.013262  \n",
       "2  0.006032  \n",
       "3  0.153457  \n",
       "4  0.005202  \n",
       "\n",
       "[5 rows x 32 columns]"
      ]
     },
     "execution_count": 348,
     "metadata": {},
     "output_type": "execute_result"
    }
   ],
   "source": [
    "review_LDA_agg.head()"
   ]
  },
  {
   "cell_type": "code",
   "execution_count": 440,
   "metadata": {
    "ExecuteTime": {
     "end_time": "2017-11-05T14:21:17.956330Z",
     "start_time": "2017-11-05T14:21:17.919496Z"
    }
   },
   "outputs": [
    {
     "data": {
      "text/plain": [
       "Index(['user_id', 'business_id', 'name', 'categories', 'attributes', 'stars',\n",
       "       'review_count', 'city', 'state', 'postal_code', 'latitude', 'longitude',\n",
       "       'categories2', 'name_cnt', 'Sushi', 'Pizza', 'Restaurants', 'Cat_Flag',\n",
       "       'cool', 'date', 'funny', 'review_id', 'user_stars', 'review_txt',\n",
       "       'useful', 'yelping_since', 'first_yr_elite', 'elite_prior',\n",
       "       'sent_token'],\n",
       "      dtype='object')"
      ]
     },
     "execution_count": 440,
     "metadata": {},
     "output_type": "execute_result"
    }
   ],
   "source": [
    "bus_review_small.columns"
   ]
  },
  {
   "cell_type": "code",
   "execution_count": 441,
   "metadata": {
    "ExecuteTime": {
     "end_time": "2017-11-05T14:27:44.608327Z",
     "start_time": "2017-11-05T14:27:44.589589Z"
    },
    "collapsed": true
   },
   "outputs": [],
   "source": [
    "# Aggregate LDA weights as a mean of the sentences\n",
    "# Merge back to review df\n",
    "def LDA_agg(df, cols):\n",
    "    LDA_agg = df.groupby('review_id').mean().reset_index()[['review_id'] + ['sent_cnt'] + cols]\n",
    "    bus_review_LDA = bus_review_small.set_index('review_id').join(LDA_agg.set_index('review_id'), how='inner')\n",
    "    return bus_review_LDA\n",
    "    \n",
    "    "
   ]
  },
  {
   "cell_type": "code",
   "execution_count": null,
   "metadata": {
    "collapsed": true
   },
   "outputs": [],
   "source": [
    "bus_review_LDA = LDA_agg()"
   ]
  },
  {
   "cell_type": "code",
   "execution_count": null,
   "metadata": {
    "collapsed": true
   },
   "outputs": [],
   "source": []
  },
  {
   "cell_type": "code",
   "execution_count": null,
   "metadata": {
    "collapsed": true
   },
   "outputs": [],
   "source": []
  },
  {
   "cell_type": "code",
   "execution_count": null,
   "metadata": {
    "collapsed": true
   },
   "outputs": [],
   "source": []
  },
  {
   "cell_type": "code",
   "execution_count": null,
   "metadata": {
    "collapsed": true
   },
   "outputs": [],
   "source": []
  },
  {
   "cell_type": "markdown",
   "metadata": {},
   "source": [
    "### Merge back to data"
   ]
  },
  {
   "cell_type": "code",
   "execution_count": 349,
   "metadata": {
    "ExecuteTime": {
     "end_time": "2017-11-04T20:32:32.099025Z",
     "start_time": "2017-11-04T20:32:31.181183Z"
    },
    "collapsed": true
   },
   "outputs": [],
   "source": [
    "bus_review_LDA = bus_review_small.set_index('review_id').join(review_LDA_agg.set_index('review_id'), how='left')\n",
    "bus_review_LDA.reset_index(inplace=True)"
   ]
  },
  {
   "cell_type": "code",
   "execution_count": 351,
   "metadata": {
    "ExecuteTime": {
     "end_time": "2017-11-04T20:32:32.119641Z",
     "start_time": "2017-11-04T20:32:32.113556Z"
    }
   },
   "outputs": [
    {
     "data": {
      "text/plain": [
       "Index(['review_id', 'sent_cnt', 'LDA_1', 'LDA_2', 'LDA_3', 'LDA_4', 'LDA_5',\n",
       "       'LDA_6', 'LDA_7', 'LDA_8', 'LDA_9', 'LDA_10', 'LDA_11', 'LDA_12',\n",
       "       'LDA_13', 'LDA_14', 'LDA_15', 'LDA_16', 'LDA_17', 'LDA_18', 'LDA_19',\n",
       "       'LDA_20', 'LDA_21', 'LDA_22', 'LDA_23', 'LDA_24', 'LDA_25', 'LDA_26',\n",
       "       'LDA_27', 'LDA_28', 'LDA_29', 'LDA_30'],\n",
       "      dtype='object')"
      ]
     },
     "execution_count": 351,
     "metadata": {},
     "output_type": "execute_result"
    }
   ],
   "source": [
    "review_LDA_agg.columns"
   ]
  },
  {
   "cell_type": "code",
   "execution_count": 352,
   "metadata": {
    "ExecuteTime": {
     "end_time": "2017-11-04T20:32:33.533268Z",
     "start_time": "2017-11-04T20:32:32.122163Z"
    },
    "collapsed": true
   },
   "outputs": [],
   "source": [
    "bus_review_LDA.to_pickle('data/bus_review_LDA.pkl')"
   ]
  },
  {
   "cell_type": "markdown",
   "metadata": {},
   "source": [
    "#### Create Flag for Useful / Funny"
   ]
  },
  {
   "cell_type": "code",
   "execution_count": 137,
   "metadata": {
    "ExecuteTime": {
     "end_time": "2017-11-04T01:36:38.617112Z",
     "start_time": "2017-11-04T01:36:38.153349Z"
    },
    "collapsed": true
   },
   "outputs": [],
   "source": [
    "bus_review_LDA = np.load('data/bus_review_LDA.pkl')"
   ]
  },
  {
   "cell_type": "code",
   "execution_count": 356,
   "metadata": {
    "ExecuteTime": {
     "end_time": "2017-11-04T20:36:32.501593Z",
     "start_time": "2017-11-04T20:36:32.489416Z"
    },
    "collapsed": true
   },
   "outputs": [],
   "source": [
    "# create Targets flags\n",
    "\n",
    "bus_review_LDA['useful_flag'] = np.where(bus_review_LDA['useful'] >= 3, 1, 0)\n",
    "bus_review_LDA['funny_flag'] = np.where(bus_review_LDA['funny'] >= 3, 1, 0)\n",
    "bus_review_LDA['cool_flag'] = np.where(bus_review_LDA['cool'] >= 3, 1, 0)"
   ]
  },
  {
   "cell_type": "code",
   "execution_count": 357,
   "metadata": {
    "ExecuteTime": {
     "end_time": "2017-11-04T20:36:34.835761Z",
     "start_time": "2017-11-04T20:36:34.826840Z"
    }
   },
   "outputs": [
    {
     "data": {
      "text/plain": [
       "0    0.895304\n",
       "1    0.104696\n",
       "Name: useful_flag, dtype: float64"
      ]
     },
     "execution_count": 357,
     "metadata": {},
     "output_type": "execute_result"
    }
   ],
   "source": [
    "bus_review_LDA.useful_flag.value_counts(normalize=True)"
   ]
  },
  {
   "cell_type": "code",
   "execution_count": 358,
   "metadata": {
    "ExecuteTime": {
     "end_time": "2017-11-04T20:36:39.142821Z",
     "start_time": "2017-11-04T20:36:39.136711Z"
    },
    "collapsed": true
   },
   "outputs": [
    {
     "data": {
      "text/plain": [
       "Index(['review_id', 'user_id', 'business_id', 'name', 'categories',\n",
       "       'attributes', 'stars', 'review_count', 'city', 'state', 'postal_code',\n",
       "       'latitude', 'longitude', 'categories2', 'name_cnt', 'Sushi', 'Pizza',\n",
       "       'Restaurants', 'Cat_Flag', 'cool', 'date', 'funny', 'user_stars',\n",
       "       'review_txt', 'useful', 'yelping_since', 'first_yr_elite',\n",
       "       'elite_prior', 'sent_token', 'sent_cnt', 'LDA_1', 'LDA_2', 'LDA_3',\n",
       "       'LDA_4', 'LDA_5', 'LDA_6', 'LDA_7', 'LDA_8', 'LDA_9', 'LDA_10',\n",
       "       'LDA_11', 'LDA_12', 'LDA_13', 'LDA_14', 'LDA_15', 'LDA_16', 'LDA_17',\n",
       "       'LDA_18', 'LDA_19', 'LDA_20', 'LDA_21', 'LDA_22', 'LDA_23', 'LDA_24',\n",
       "       'LDA_25', 'LDA_26', 'LDA_27', 'LDA_28', 'LDA_29', 'LDA_30',\n",
       "       'useful_flag', 'funny_flag', 'cool_flag'],\n",
       "      dtype='object')"
      ]
     },
     "execution_count": 358,
     "metadata": {},
     "output_type": "execute_result"
    }
   ],
   "source": [
    "bus_review_LDA.columns"
   ]
  },
  {
   "cell_type": "code",
   "execution_count": 359,
   "metadata": {
    "ExecuteTime": {
     "end_time": "2017-11-04T20:36:39.488451Z",
     "start_time": "2017-11-04T20:36:39.414636Z"
    },
    "collapsed": true
   },
   "outputs": [
    {
     "data": {
      "text/html": [
       "<div>\n",
       "<style>\n",
       "    .dataframe thead tr:only-child th {\n",
       "        text-align: right;\n",
       "    }\n",
       "\n",
       "    .dataframe thead th {\n",
       "        text-align: left;\n",
       "    }\n",
       "\n",
       "    .dataframe tbody tr th {\n",
       "        vertical-align: top;\n",
       "    }\n",
       "</style>\n",
       "<table border=\"1\" class=\"dataframe\">\n",
       "  <thead>\n",
       "    <tr style=\"text-align: right;\">\n",
       "      <th></th>\n",
       "      <th>review_id</th>\n",
       "      <th>user_id</th>\n",
       "      <th>business_id</th>\n",
       "      <th>name</th>\n",
       "      <th>categories</th>\n",
       "      <th>attributes</th>\n",
       "      <th>stars</th>\n",
       "      <th>review_count</th>\n",
       "      <th>city</th>\n",
       "      <th>state</th>\n",
       "      <th>...</th>\n",
       "      <th>LDA_24</th>\n",
       "      <th>LDA_25</th>\n",
       "      <th>LDA_26</th>\n",
       "      <th>LDA_27</th>\n",
       "      <th>LDA_28</th>\n",
       "      <th>LDA_29</th>\n",
       "      <th>LDA_30</th>\n",
       "      <th>useful_flag</th>\n",
       "      <th>funny_flag</th>\n",
       "      <th>cool_flag</th>\n",
       "    </tr>\n",
       "  </thead>\n",
       "  <tbody>\n",
       "    <tr>\n",
       "      <th>0</th>\n",
       "      <td>DBFkxzPlSx0VBLdCGWPXpA</td>\n",
       "      <td>i8A3MWU33_mtMu3LUMlnWQ</td>\n",
       "      <td>s-YJpfR-LFRnH7qYVFuJuw</td>\n",
       "      <td>Touhenboku Ramen Restaurant</td>\n",
       "      <td>[Japanese, Food, Restaurants, Ramen, Desserts]</td>\n",
       "      <td>{'RestaurantsTableService': True, 'GoodForMeal...</td>\n",
       "      <td>3.5</td>\n",
       "      <td>201</td>\n",
       "      <td>Toronto</td>\n",
       "      <td>ON</td>\n",
       "      <td>...</td>\n",
       "      <td>0.033223</td>\n",
       "      <td>0.020211</td>\n",
       "      <td>0.104262</td>\n",
       "      <td>0.060813</td>\n",
       "      <td>0.039310</td>\n",
       "      <td>0.006594</td>\n",
       "      <td>0.027317</td>\n",
       "      <td>0</td>\n",
       "      <td>0</td>\n",
       "      <td>0</td>\n",
       "    </tr>\n",
       "    <tr>\n",
       "      <th>1</th>\n",
       "      <td>SnwEJ7lAqGs6kZ2nbghudw</td>\n",
       "      <td>NMmu4oC-YRqdi0WY9pV78g</td>\n",
       "      <td>1zH3_Agw8CTgSmKgg4JNmg</td>\n",
       "      <td>Yasda Bento</td>\n",
       "      <td>[Korean, Noodles, Japanese, Restaurants]</td>\n",
       "      <td>{'RestaurantsTableService': False, 'GoodForMea...</td>\n",
       "      <td>3.5</td>\n",
       "      <td>61</td>\n",
       "      <td>Phoenix</td>\n",
       "      <td>AZ</td>\n",
       "      <td>...</td>\n",
       "      <td>0.056402</td>\n",
       "      <td>0.101099</td>\n",
       "      <td>0.006402</td>\n",
       "      <td>0.006402</td>\n",
       "      <td>0.006402</td>\n",
       "      <td>0.006402</td>\n",
       "      <td>0.024259</td>\n",
       "      <td>0</td>\n",
       "      <td>0</td>\n",
       "      <td>0</td>\n",
       "    </tr>\n",
       "    <tr>\n",
       "      <th>2</th>\n",
       "      <td>6GcGV7Sq-axwgmPBdEy3fQ</td>\n",
       "      <td>T23h5oJqopYrLXp_A1GFYA</td>\n",
       "      <td>8XoDXN2DKmQGJHZhkQbJ9A</td>\n",
       "      <td>Emily's Cafe</td>\n",
       "      <td>[Restaurants, Breakfast &amp; Brunch, Cafes]</td>\n",
       "      <td>{'RestaurantsTableService': True, 'GoodForMeal...</td>\n",
       "      <td>3.5</td>\n",
       "      <td>79</td>\n",
       "      <td>Scottsdale</td>\n",
       "      <td>AZ</td>\n",
       "      <td>...</td>\n",
       "      <td>0.003164</td>\n",
       "      <td>0.003164</td>\n",
       "      <td>0.052244</td>\n",
       "      <td>0.031048</td>\n",
       "      <td>0.036497</td>\n",
       "      <td>0.036497</td>\n",
       "      <td>0.003164</td>\n",
       "      <td>0</td>\n",
       "      <td>0</td>\n",
       "      <td>0</td>\n",
       "    </tr>\n",
       "    <tr>\n",
       "      <th>3</th>\n",
       "      <td>0VX2IuiyGmC-LrLfYUnGeQ</td>\n",
       "      <td>bK-lus15ReXTyDqdEj4OQg</td>\n",
       "      <td>6nKR80xEGHYf2UxAe_Cu_g</td>\n",
       "      <td>The Thumb BBQ</td>\n",
       "      <td>[Gas Stations, Burgers, Automotive, American (...</td>\n",
       "      <td>{'Alcohol': 'beer_and_wine', 'HasTV': True, 'N...</td>\n",
       "      <td>4.0</td>\n",
       "      <td>660</td>\n",
       "      <td>Scottsdale</td>\n",
       "      <td>AZ</td>\n",
       "      <td>...</td>\n",
       "      <td>0.009630</td>\n",
       "      <td>0.009630</td>\n",
       "      <td>0.009630</td>\n",
       "      <td>0.009630</td>\n",
       "      <td>0.009630</td>\n",
       "      <td>0.009630</td>\n",
       "      <td>0.009630</td>\n",
       "      <td>0</td>\n",
       "      <td>0</td>\n",
       "      <td>0</td>\n",
       "    </tr>\n",
       "    <tr>\n",
       "      <th>4</th>\n",
       "      <td>Cd3JHCfGtdYdMJ2_Ipqh6Q</td>\n",
       "      <td>uAf25oGZ8aURLI3u57GF_w</td>\n",
       "      <td>NPiLy71qqXzb45k9eQOgCQ</td>\n",
       "      <td>Maizie's Cafe &amp; Bistro</td>\n",
       "      <td>[Cafes, Restaurants, American (New)]</td>\n",
       "      <td>{'RestaurantsTableService': True, 'GoodForMeal...</td>\n",
       "      <td>4.0</td>\n",
       "      <td>382</td>\n",
       "      <td>Phoenix</td>\n",
       "      <td>AZ</td>\n",
       "      <td>...</td>\n",
       "      <td>0.040370</td>\n",
       "      <td>0.051749</td>\n",
       "      <td>0.040370</td>\n",
       "      <td>0.007037</td>\n",
       "      <td>0.007037</td>\n",
       "      <td>0.007037</td>\n",
       "      <td>0.007037</td>\n",
       "      <td>0</td>\n",
       "      <td>0</td>\n",
       "      <td>0</td>\n",
       "    </tr>\n",
       "  </tbody>\n",
       "</table>\n",
       "<p>5 rows × 63 columns</p>\n",
       "</div>"
      ],
      "text/plain": [
       "                review_id                 user_id             business_id  \\\n",
       "0  DBFkxzPlSx0VBLdCGWPXpA  i8A3MWU33_mtMu3LUMlnWQ  s-YJpfR-LFRnH7qYVFuJuw   \n",
       "1  SnwEJ7lAqGs6kZ2nbghudw  NMmu4oC-YRqdi0WY9pV78g  1zH3_Agw8CTgSmKgg4JNmg   \n",
       "2  6GcGV7Sq-axwgmPBdEy3fQ  T23h5oJqopYrLXp_A1GFYA  8XoDXN2DKmQGJHZhkQbJ9A   \n",
       "3  0VX2IuiyGmC-LrLfYUnGeQ  bK-lus15ReXTyDqdEj4OQg  6nKR80xEGHYf2UxAe_Cu_g   \n",
       "4  Cd3JHCfGtdYdMJ2_Ipqh6Q  uAf25oGZ8aURLI3u57GF_w  NPiLy71qqXzb45k9eQOgCQ   \n",
       "\n",
       "                          name  \\\n",
       "0  Touhenboku Ramen Restaurant   \n",
       "1                  Yasda Bento   \n",
       "2                 Emily's Cafe   \n",
       "3                The Thumb BBQ   \n",
       "4       Maizie's Cafe & Bistro   \n",
       "\n",
       "                                          categories  \\\n",
       "0     [Japanese, Food, Restaurants, Ramen, Desserts]   \n",
       "1           [Korean, Noodles, Japanese, Restaurants]   \n",
       "2           [Restaurants, Breakfast & Brunch, Cafes]   \n",
       "3  [Gas Stations, Burgers, Automotive, American (...   \n",
       "4               [Cafes, Restaurants, American (New)]   \n",
       "\n",
       "                                          attributes stars  review_count  \\\n",
       "0  {'RestaurantsTableService': True, 'GoodForMeal...   3.5           201   \n",
       "1  {'RestaurantsTableService': False, 'GoodForMea...   3.5            61   \n",
       "2  {'RestaurantsTableService': True, 'GoodForMeal...   3.5            79   \n",
       "3  {'Alcohol': 'beer_and_wine', 'HasTV': True, 'N...   4.0           660   \n",
       "4  {'RestaurantsTableService': True, 'GoodForMeal...   4.0           382   \n",
       "\n",
       "         city state    ...        LDA_24    LDA_25    LDA_26    LDA_27  \\\n",
       "0     Toronto    ON    ...      0.033223  0.020211  0.104262  0.060813   \n",
       "1     Phoenix    AZ    ...      0.056402  0.101099  0.006402  0.006402   \n",
       "2  Scottsdale    AZ    ...      0.003164  0.003164  0.052244  0.031048   \n",
       "3  Scottsdale    AZ    ...      0.009630  0.009630  0.009630  0.009630   \n",
       "4     Phoenix    AZ    ...      0.040370  0.051749  0.040370  0.007037   \n",
       "\n",
       "     LDA_28    LDA_29    LDA_30  useful_flag  funny_flag  cool_flag  \n",
       "0  0.039310  0.006594  0.027317            0           0          0  \n",
       "1  0.006402  0.006402  0.024259            0           0          0  \n",
       "2  0.036497  0.036497  0.003164            0           0          0  \n",
       "3  0.009630  0.009630  0.009630            0           0          0  \n",
       "4  0.007037  0.007037  0.007037            0           0          0  \n",
       "\n",
       "[5 rows x 63 columns]"
      ]
     },
     "execution_count": 359,
     "metadata": {},
     "output_type": "execute_result"
    }
   ],
   "source": [
    "bus_review_LDA.head()"
   ]
  },
  {
   "cell_type": "markdown",
   "metadata": {},
   "source": [
    "### Create models"
   ]
  },
  {
   "cell_type": "code",
   "execution_count": 180,
   "metadata": {
    "ExecuteTime": {
     "end_time": "2017-11-04T02:10:21.237478Z",
     "start_time": "2017-11-04T02:10:21.232741Z"
    },
    "collapsed": true
   },
   "outputs": [],
   "source": [
    "#review_LDA.isnull().values.any()"
   ]
  },
  {
   "cell_type": "code",
   "execution_count": 181,
   "metadata": {
    "ExecuteTime": {
     "end_time": "2017-11-04T02:10:21.530652Z",
     "start_time": "2017-11-04T02:10:21.527019Z"
    },
    "collapsed": true,
    "scrolled": true
   },
   "outputs": [],
   "source": [
    "#review_LDA.isnull().sum()"
   ]
  },
  {
   "cell_type": "code",
   "execution_count": 360,
   "metadata": {
    "ExecuteTime": {
     "end_time": "2017-11-04T20:37:05.730698Z",
     "start_time": "2017-11-04T20:37:05.720277Z"
    },
    "scrolled": true
   },
   "outputs": [
    {
     "data": {
      "text/plain": [
       "['LDA_1',\n",
       " 'LDA_2',\n",
       " 'LDA_3',\n",
       " 'LDA_4',\n",
       " 'LDA_5',\n",
       " 'LDA_6',\n",
       " 'LDA_7',\n",
       " 'LDA_8',\n",
       " 'LDA_9',\n",
       " 'LDA_10',\n",
       " 'LDA_11',\n",
       " 'LDA_12',\n",
       " 'LDA_13',\n",
       " 'LDA_14',\n",
       " 'LDA_15',\n",
       " 'LDA_16',\n",
       " 'LDA_17',\n",
       " 'LDA_18',\n",
       " 'LDA_19',\n",
       " 'LDA_20',\n",
       " 'LDA_21',\n",
       " 'LDA_22',\n",
       " 'LDA_23',\n",
       " 'LDA_24',\n",
       " 'LDA_25',\n",
       " 'LDA_26',\n",
       " 'LDA_27',\n",
       " 'LDA_28',\n",
       " 'LDA_29',\n",
       " 'LDA_30',\n",
       " 'user_stars',\n",
       " 'sent_cnt',\n",
       " 'elite_prior']"
      ]
     },
     "execution_count": 360,
     "metadata": {},
     "output_type": "execute_result"
    }
   ],
   "source": [
    "no_topics = 30\n",
    "LDA_cols = ['LDA_' + str(i) for i in range(1, no_topics + 1)]\n",
    "\n",
    "feature_cols = LDA_cols + ['user_stars'] + ['sent_cnt'] + ['elite_prior']\n",
    "#  + ['sent_cnt']\n",
    "feature_cols"
   ]
  },
  {
   "cell_type": "code",
   "execution_count": 361,
   "metadata": {
    "ExecuteTime": {
     "end_time": "2017-11-04T20:37:10.553442Z",
     "start_time": "2017-11-04T20:37:10.326532Z"
    },
    "collapsed": true
   },
   "outputs": [],
   "source": [
    "\n",
    "X = bus_review_LDA[bus_review_LDA['useful'] >= 0][feature_cols]\n",
    "y = bus_review_LDA[bus_review_LDA['useful'] >= 0]['funny_flag']\n",
    "\n",
    "# train/test split\n",
    "X_train, X_test, y_train, y_test = train_test_split(X, y, test_size=0.3, random_state=123)\n"
   ]
  },
  {
   "cell_type": "code",
   "execution_count": 362,
   "metadata": {
    "ExecuteTime": {
     "end_time": "2017-11-04T20:37:14.446932Z",
     "start_time": "2017-11-04T20:37:14.442777Z"
    },
    "collapsed": true
   },
   "outputs": [],
   "source": [
    "#X.isnull().sum()"
   ]
  },
  {
   "cell_type": "code",
   "execution_count": 363,
   "metadata": {
    "ExecuteTime": {
     "end_time": "2017-11-04T20:37:17.305482Z",
     "start_time": "2017-11-04T20:37:16.521181Z"
    }
   },
   "outputs": [
    {
     "name": "stdout",
     "output_type": "stream",
     "text": [
      "Logistic Train ROC: 0.846342648241\n",
      "Logistic Test ROC: 0.826052654607\n",
      "[[11081  3365]\n",
      " [  148   401]]\n",
      "\n",
      "precision 0.106479022836\n",
      "recall 0.730418943534\n",
      "avg precision: 0.178806759844\n"
     ]
    }
   ],
   "source": [
    "logregM = LogisticRegression(C=1, penalty='l2', random_state=100, class_weight='balanced')\n",
    "\n",
    "logregM.fit(X_train, y_train)\n",
    "\n",
    "y_pred_train = logregM.predict_proba(X_train)\n",
    "y_pred_test = logregM.predict_proba(X_test)\n",
    "y_pred_test_class = logregM.predict(X_test)\n",
    "\n",
    "fpr_rt_LR, tpr_rt_LR, _ = roc_curve(y_test, y_pred_test[:,1])\n",
    "\n",
    "print (\"Logistic Train ROC:\", metrics.roc_auc_score(y_train, y_pred_train[:,1]))\n",
    "print (\"Logistic Test ROC:\", metrics.roc_auc_score(y_test, y_pred_test[:,1]))\n",
    "\n",
    "lr_auc = metrics.roc_auc_score(y_test, y_pred_test[:,1])\n",
    "\n",
    "print(metrics.confusion_matrix(y_test, y_pred_test_class))\n",
    "print(\"\\nprecision\", metrics.precision_score(y_test, y_pred_test_class))\n",
    "print(\"recall\", metrics.recall_score(y_test, y_pred_test_class))\n",
    "\n",
    "print(\"avg precision:\", average_precision_score(y_test, y_pred_test[:,1]))\n"
   ]
  },
  {
   "cell_type": "code",
   "execution_count": 364,
   "metadata": {
    "ExecuteTime": {
     "end_time": "2017-11-04T20:37:33.406400Z",
     "start_time": "2017-11-04T20:37:33.397140Z"
    },
    "scrolled": true
   },
   "outputs": [
    {
     "data": {
      "text/plain": [
       "[(-1.5474224409579533, 'LDA_1'),\n",
       " (-1.1959038803020146, 'LDA_2'),\n",
       " (-1.1119465337757162, 'LDA_3'),\n",
       " (0.18368352674238272, 'LDA_4'),\n",
       " (-5.009462212972605, 'LDA_5'),\n",
       " (-3.1266745704854744, 'LDA_6'),\n",
       " (-0.77097662426623936, 'LDA_7'),\n",
       " (-4.4828116169391352, 'LDA_8'),\n",
       " (-1.3419099006011002, 'LDA_9'),\n",
       " (0.0165380516113218, 'LDA_10'),\n",
       " (-0.56988569265420552, 'LDA_11'),\n",
       " (-0.39741060928216537, 'LDA_12'),\n",
       " (1.6529711566655796, 'LDA_13'),\n",
       " (-0.75018563997422183, 'LDA_14'),\n",
       " (4.5912266458008295, 'LDA_15'),\n",
       " (2.0716489171493149, 'LDA_16'),\n",
       " (3.5767042775869049, 'LDA_17'),\n",
       " (-5.5308098215079182, 'LDA_18'),\n",
       " (1.3472259496970176, 'LDA_19'),\n",
       " (2.6309955858293486, 'LDA_20'),\n",
       " (1.8971956032056334, 'LDA_21'),\n",
       " (2.0819660553847452, 'LDA_22'),\n",
       " (0.70908779627210694, 'LDA_23'),\n",
       " (-1.4456669388517875, 'LDA_24'),\n",
       " (0.053613097936294013, 'LDA_25'),\n",
       " (-3.2213297676705754, 'LDA_26'),\n",
       " (0.012694423966149665, 'LDA_27'),\n",
       " (4.6640769601554517, 'LDA_28'),\n",
       " (2.8365401994824713, 'LDA_29'),\n",
       " (0.99367999329282597, 'LDA_30'),\n",
       " (-0.15823987262296499, 'user_stars'),\n",
       " (0.091008219162930643, 'sent_cnt'),\n",
       " (1.8932677762671772, 'elite_prior')]"
      ]
     },
     "execution_count": 364,
     "metadata": {},
     "output_type": "execute_result"
    }
   ],
   "source": [
    "(list(zip(logregM.coef_[0], feature_cols)))"
   ]
  },
  {
   "cell_type": "code",
   "execution_count": null,
   "metadata": {
    "collapsed": true
   },
   "outputs": [],
   "source": []
  },
  {
   "cell_type": "code",
   "execution_count": 366,
   "metadata": {
    "ExecuteTime": {
     "end_time": "2017-11-04T20:39:08.331323Z",
     "start_time": "2017-11-04T20:38:40.094534Z"
    },
    "collapsed": true
   },
   "outputs": [
    {
     "name": "stdout",
     "output_type": "stream",
     "text": [
      "RForest ROC train:  0.856042746332\n",
      "RForest ROC test:  0.821029362033\n",
      "[[10940  3506]\n",
      " [  138   411]]\n",
      "\n",
      "precision 0.104927240235\n",
      "recall 0.748633879781\n",
      "avg precision: 0.166792552871\n"
     ]
    },
    {
     "data": {
      "text/html": [
       "<div>\n",
       "<style>\n",
       "    .dataframe thead tr:only-child th {\n",
       "        text-align: right;\n",
       "    }\n",
       "\n",
       "    .dataframe thead th {\n",
       "        text-align: left;\n",
       "    }\n",
       "\n",
       "    .dataframe tbody tr th {\n",
       "        vertical-align: top;\n",
       "    }\n",
       "</style>\n",
       "<table border=\"1\" class=\"dataframe\">\n",
       "  <thead>\n",
       "    <tr style=\"text-align: right;\">\n",
       "      <th></th>\n",
       "      <th>feature</th>\n",
       "      <th>importance</th>\n",
       "    </tr>\n",
       "  </thead>\n",
       "  <tbody>\n",
       "    <tr>\n",
       "      <th>0</th>\n",
       "      <td>elite_prior</td>\n",
       "      <td>0.287231</td>\n",
       "    </tr>\n",
       "    <tr>\n",
       "      <th>1</th>\n",
       "      <td>sent_cnt</td>\n",
       "      <td>0.192545</td>\n",
       "    </tr>\n",
       "    <tr>\n",
       "      <th>2</th>\n",
       "      <td>LDA_28</td>\n",
       "      <td>0.072823</td>\n",
       "    </tr>\n",
       "    <tr>\n",
       "      <th>3</th>\n",
       "      <td>LDA_29</td>\n",
       "      <td>0.046715</td>\n",
       "    </tr>\n",
       "    <tr>\n",
       "      <th>4</th>\n",
       "      <td>LDA_22</td>\n",
       "      <td>0.045414</td>\n",
       "    </tr>\n",
       "    <tr>\n",
       "      <th>5</th>\n",
       "      <td>LDA_15</td>\n",
       "      <td>0.041279</td>\n",
       "    </tr>\n",
       "    <tr>\n",
       "      <th>6</th>\n",
       "      <td>LDA_17</td>\n",
       "      <td>0.036490</td>\n",
       "    </tr>\n",
       "    <tr>\n",
       "      <th>7</th>\n",
       "      <td>LDA_19</td>\n",
       "      <td>0.033983</td>\n",
       "    </tr>\n",
       "    <tr>\n",
       "      <th>8</th>\n",
       "      <td>LDA_23</td>\n",
       "      <td>0.030967</td>\n",
       "    </tr>\n",
       "    <tr>\n",
       "      <th>9</th>\n",
       "      <td>LDA_7</td>\n",
       "      <td>0.019743</td>\n",
       "    </tr>\n",
       "    <tr>\n",
       "      <th>10</th>\n",
       "      <td>LDA_16</td>\n",
       "      <td>0.019251</td>\n",
       "    </tr>\n",
       "    <tr>\n",
       "      <th>11</th>\n",
       "      <td>LDA_30</td>\n",
       "      <td>0.016122</td>\n",
       "    </tr>\n",
       "    <tr>\n",
       "      <th>12</th>\n",
       "      <td>LDA_25</td>\n",
       "      <td>0.015909</td>\n",
       "    </tr>\n",
       "    <tr>\n",
       "      <th>13</th>\n",
       "      <td>LDA_20</td>\n",
       "      <td>0.015275</td>\n",
       "    </tr>\n",
       "    <tr>\n",
       "      <th>14</th>\n",
       "      <td>LDA_21</td>\n",
       "      <td>0.014883</td>\n",
       "    </tr>\n",
       "    <tr>\n",
       "      <th>15</th>\n",
       "      <td>LDA_27</td>\n",
       "      <td>0.013056</td>\n",
       "    </tr>\n",
       "    <tr>\n",
       "      <th>16</th>\n",
       "      <td>LDA_10</td>\n",
       "      <td>0.012813</td>\n",
       "    </tr>\n",
       "    <tr>\n",
       "      <th>17</th>\n",
       "      <td>LDA_8</td>\n",
       "      <td>0.010421</td>\n",
       "    </tr>\n",
       "    <tr>\n",
       "      <th>18</th>\n",
       "      <td>LDA_5</td>\n",
       "      <td>0.009881</td>\n",
       "    </tr>\n",
       "    <tr>\n",
       "      <th>19</th>\n",
       "      <td>LDA_13</td>\n",
       "      <td>0.008997</td>\n",
       "    </tr>\n",
       "    <tr>\n",
       "      <th>20</th>\n",
       "      <td>user_stars</td>\n",
       "      <td>0.008603</td>\n",
       "    </tr>\n",
       "    <tr>\n",
       "      <th>21</th>\n",
       "      <td>LDA_11</td>\n",
       "      <td>0.006664</td>\n",
       "    </tr>\n",
       "    <tr>\n",
       "      <th>22</th>\n",
       "      <td>LDA_1</td>\n",
       "      <td>0.006353</td>\n",
       "    </tr>\n",
       "    <tr>\n",
       "      <th>23</th>\n",
       "      <td>LDA_2</td>\n",
       "      <td>0.005322</td>\n",
       "    </tr>\n",
       "    <tr>\n",
       "      <th>24</th>\n",
       "      <td>LDA_12</td>\n",
       "      <td>0.004830</td>\n",
       "    </tr>\n",
       "    <tr>\n",
       "      <th>25</th>\n",
       "      <td>LDA_26</td>\n",
       "      <td>0.004017</td>\n",
       "    </tr>\n",
       "    <tr>\n",
       "      <th>26</th>\n",
       "      <td>LDA_18</td>\n",
       "      <td>0.003873</td>\n",
       "    </tr>\n",
       "    <tr>\n",
       "      <th>27</th>\n",
       "      <td>LDA_3</td>\n",
       "      <td>0.003713</td>\n",
       "    </tr>\n",
       "    <tr>\n",
       "      <th>28</th>\n",
       "      <td>LDA_6</td>\n",
       "      <td>0.002862</td>\n",
       "    </tr>\n",
       "    <tr>\n",
       "      <th>29</th>\n",
       "      <td>LDA_9</td>\n",
       "      <td>0.002727</td>\n",
       "    </tr>\n",
       "    <tr>\n",
       "      <th>30</th>\n",
       "      <td>LDA_24</td>\n",
       "      <td>0.002603</td>\n",
       "    </tr>\n",
       "    <tr>\n",
       "      <th>31</th>\n",
       "      <td>LDA_14</td>\n",
       "      <td>0.002324</td>\n",
       "    </tr>\n",
       "    <tr>\n",
       "      <th>32</th>\n",
       "      <td>LDA_4</td>\n",
       "      <td>0.002313</td>\n",
       "    </tr>\n",
       "  </tbody>\n",
       "</table>\n",
       "</div>"
      ],
      "text/plain": [
       "        feature  importance\n",
       "0   elite_prior    0.287231\n",
       "1      sent_cnt    0.192545\n",
       "2        LDA_28    0.072823\n",
       "3        LDA_29    0.046715\n",
       "4        LDA_22    0.045414\n",
       "5        LDA_15    0.041279\n",
       "6        LDA_17    0.036490\n",
       "7        LDA_19    0.033983\n",
       "8        LDA_23    0.030967\n",
       "9         LDA_7    0.019743\n",
       "10       LDA_16    0.019251\n",
       "11       LDA_30    0.016122\n",
       "12       LDA_25    0.015909\n",
       "13       LDA_20    0.015275\n",
       "14       LDA_21    0.014883\n",
       "15       LDA_27    0.013056\n",
       "16       LDA_10    0.012813\n",
       "17        LDA_8    0.010421\n",
       "18        LDA_5    0.009881\n",
       "19       LDA_13    0.008997\n",
       "20   user_stars    0.008603\n",
       "21       LDA_11    0.006664\n",
       "22        LDA_1    0.006353\n",
       "23        LDA_2    0.005322\n",
       "24       LDA_12    0.004830\n",
       "25       LDA_26    0.004017\n",
       "26       LDA_18    0.003873\n",
       "27        LDA_3    0.003713\n",
       "28        LDA_6    0.002862\n",
       "29        LDA_9    0.002727\n",
       "30       LDA_24    0.002603\n",
       "31       LDA_14    0.002324\n",
       "32        LDA_4    0.002313"
      ]
     },
     "execution_count": 366,
     "metadata": {},
     "output_type": "execute_result"
    }
   ],
   "source": [
    "Forest = RandomForestClassifier(n_estimators=500, max_depth = 4, min_samples_split=30, class_weight='balanced',\n",
    "                                bootstrap=True, oob_score=True, random_state=100)\n",
    "\n",
    "Forest.fit(X_train, y_train)\n",
    "y_pred_train = Forest.predict_proba(X_train)\n",
    "y_pred_test = Forest.predict_proba(X_test)\n",
    "y_pred_test_class = Forest.predict(X_test)\n",
    "\n",
    "fpr_rt_RF, tpr_rt_RF, _ = roc_curve(y_test, y_pred_test[:,1])\n",
    "\n",
    "#print(\"RForest Accuracy: \", metrics.accuracy_score(y_test, y_pred_test))\n",
    "print(\"RForest ROC train: \", metrics.roc_auc_score(y_train, y_pred_train[:,1]))\n",
    "print(\"RForest ROC test: \", metrics.roc_auc_score(y_test, y_pred_test[:,1]))\n",
    "\n",
    "rf_auc = metrics.roc_auc_score(y_test, y_pred_test[:,1])\n",
    "\n",
    "\n",
    "\n",
    "print(metrics.confusion_matrix(y_test, y_pred_test_class))\n",
    "\n",
    "print(\"\\nprecision\", metrics.precision_score(y_test, y_pred_test_class))\n",
    "print(\"recall\", metrics.recall_score(y_test, y_pred_test_class))\n",
    "\n",
    "print(\"avg precision:\", average_precision_score(y_test, y_pred_test[:,1]))\n",
    "\n",
    "features = X_train.columns\n",
    "pd.DataFrame({'feature': features, 'importance': Forest.feature_importances_}).\\\n",
    "sort_values('importance', ascending=False).reset_index(drop=True)\n"
   ]
  },
  {
   "cell_type": "code",
   "execution_count": 88,
   "metadata": {
    "ExecuteTime": {
     "end_time": "2017-11-03T18:37:08.067998Z",
     "start_time": "2017-11-03T18:37:08.050535Z"
    }
   },
   "outputs": [
    {
     "data": {
      "text/plain": [
       "0    313713\n",
       "1    113025\n",
       "Name: funny_flag, dtype: int64"
      ]
     },
     "execution_count": 88,
     "metadata": {},
     "output_type": "execute_result"
    }
   ],
   "source": [
    "review_LDA.funny_flag.value_counts()"
   ]
  },
  {
   "cell_type": "code",
   "execution_count": null,
   "metadata": {
    "ExecuteTime": {
     "end_time": "2017-11-02T18:58:57.475042Z",
     "start_time": "2017-11-02T18:58:56.986871Z"
    },
    "collapsed": true
   },
   "outputs": [],
   "source": [
    "pd.concat([review_LDA.iloc[:, 1], review_LDA.iloc[:,24:]], axis=1)"
   ]
  },
  {
   "cell_type": "code",
   "execution_count": null,
   "metadata": {
    "ExecuteTime": {
     "end_time": "2017-11-02T18:59:10.668482Z",
     "start_time": "2017-11-02T18:59:10.238721Z"
    },
    "collapsed": true
   },
   "outputs": [],
   "source": [
    "review_LDA.iloc[:, 1:]"
   ]
  },
  {
   "cell_type": "markdown",
   "metadata": {},
   "source": [
    "### Plots"
   ]
  },
  {
   "cell_type": "code",
   "execution_count": null,
   "metadata": {
    "ExecuteTime": {
     "end_time": "2017-11-02T18:59:17.129368Z",
     "start_time": "2017-11-02T18:59:17.120459Z"
    },
    "collapsed": true
   },
   "outputs": [],
   "source": [
    "review_LDA.columns"
   ]
  },
  {
   "cell_type": "code",
   "execution_count": null,
   "metadata": {
    "ExecuteTime": {
     "end_time": "2017-11-02T18:59:18.656644Z",
     "start_time": "2017-11-02T18:59:18.649079Z"
    },
    "collapsed": true
   },
   "outputs": [],
   "source": [
    "review_LDA.columns[29:]"
   ]
  },
  {
   "cell_type": "code",
   "execution_count": null,
   "metadata": {
    "ExecuteTime": {
     "end_time": "2017-11-02T19:20:37.241040Z",
     "start_time": "2017-11-02T19:20:37.233397Z"
    },
    "collapsed": true
   },
   "outputs": [],
   "source": [
    "for i in range(27, 48, 3):\n",
    "    print(review_LDA.columns.tolist()[i:i+3])"
   ]
  },
  {
   "cell_type": "code",
   "execution_count": null,
   "metadata": {
    "ExecuteTime": {
     "end_time": "2017-11-02T19:22:47.745232Z",
     "start_time": "2017-11-02T19:20:48.053159Z"
    },
    "collapsed": true,
    "scrolled": true
   },
   "outputs": [],
   "source": [
    "for i in range(27, 48, 3):\n",
    "    sns.pairplot(review_LDA[review_LDA.columns.tolist()[i:i+3] + ['Pizza']], hue=\"Pizza\", palette='coolwarm')"
   ]
  },
  {
   "cell_type": "code",
   "execution_count": null,
   "metadata": {
    "collapsed": true
   },
   "outputs": [],
   "source": []
  },
  {
   "cell_type": "code",
   "execution_count": null,
   "metadata": {
    "ExecuteTime": {
     "end_time": "2017-11-02T19:24:11.902122Z",
     "start_time": "2017-11-02T19:23:09.296216Z"
    },
    "collapsed": true,
    "scrolled": true
   },
   "outputs": [],
   "source": [
    "for i in range(27, 48, 3):\n",
    "    sns.pairplot(review_LDA[review_LDA.columns.tolist()[i:i+3] + ['city']], hue=\"city\", palette='coolwarm')"
   ]
  },
  {
   "cell_type": "code",
   "execution_count": null,
   "metadata": {
    "collapsed": true
   },
   "outputs": [],
   "source": []
  },
  {
   "cell_type": "code",
   "execution_count": null,
   "metadata": {
    "collapsed": true
   },
   "outputs": [],
   "source": []
  },
  {
   "cell_type": "code",
   "execution_count": null,
   "metadata": {
    "collapsed": true
   },
   "outputs": [],
   "source": []
  },
  {
   "cell_type": "markdown",
   "metadata": {},
   "source": [
    "#### Sentiment Analysis"
   ]
  },
  {
   "cell_type": "code",
   "execution_count": null,
   "metadata": {
    "ExecuteTime": {
     "end_time": "2017-11-01T18:30:01.897378Z",
     "start_time": "2017-11-01T18:29:43.903036Z"
    },
    "collapsed": true
   },
   "outputs": [],
   "source": [
    "reviews_vect_df['polarity'] = reviews_vect_df['review_txt'].apply(lambda text: TextBlob(text).sentiment[0])\n",
    "reviews_vect_df['subjectivity'] = reviews_vect_df['review_txt'].apply(lambda text: TextBlob(text).sentiment[1])\n",
    "\n",
    "#TextBlob(reviews_vect_df.iloc[0]['review_txt']).sentiment"
   ]
  },
  {
   "cell_type": "code",
   "execution_count": null,
   "metadata": {
    "ExecuteTime": {
     "end_time": "2017-11-01T18:30:01.914245Z",
     "start_time": "2017-11-01T18:30:01.900014Z"
    },
    "collapsed": true
   },
   "outputs": [],
   "source": [
    "TextBlob(reviews_vect_df.iloc[0]['review_txt']).sentiment"
   ]
  },
  {
   "cell_type": "code",
   "execution_count": null,
   "metadata": {
    "ExecuteTime": {
     "end_time": "2017-11-01T18:33:46.015779Z",
     "start_time": "2017-11-01T18:33:45.575936Z"
    },
    "collapsed": true
   },
   "outputs": [],
   "source": [
    "pd.set_option('display.max_columns', 500)\n",
    "reviews_vect_df.head()"
   ]
  },
  {
   "cell_type": "code",
   "execution_count": null,
   "metadata": {
    "collapsed": true
   },
   "outputs": [],
   "source": []
  },
  {
   "cell_type": "code",
   "execution_count": null,
   "metadata": {
    "collapsed": true
   },
   "outputs": [],
   "source": []
  },
  {
   "cell_type": "code",
   "execution_count": null,
   "metadata": {
    "collapsed": true
   },
   "outputs": [],
   "source": []
  },
  {
   "cell_type": "code",
   "execution_count": null,
   "metadata": {
    "collapsed": true
   },
   "outputs": [],
   "source": []
  },
  {
   "cell_type": "code",
   "execution_count": null,
   "metadata": {
    "collapsed": true
   },
   "outputs": [],
   "source": []
  },
  {
   "cell_type": "code",
   "execution_count": null,
   "metadata": {
    "collapsed": true
   },
   "outputs": [],
   "source": []
  },
  {
   "cell_type": "code",
   "execution_count": null,
   "metadata": {
    "collapsed": true
   },
   "outputs": [],
   "source": []
  },
  {
   "cell_type": "code",
   "execution_count": null,
   "metadata": {
    "collapsed": true
   },
   "outputs": [],
   "source": []
  },
  {
   "cell_type": "code",
   "execution_count": null,
   "metadata": {
    "collapsed": true
   },
   "outputs": [],
   "source": []
  },
  {
   "cell_type": "code",
   "execution_count": null,
   "metadata": {
    "collapsed": true
   },
   "outputs": [],
   "source": []
  },
  {
   "cell_type": "code",
   "execution_count": null,
   "metadata": {
    "collapsed": true
   },
   "outputs": [],
   "source": []
  },
  {
   "cell_type": "code",
   "execution_count": null,
   "metadata": {
    "collapsed": true
   },
   "outputs": [],
   "source": []
  },
  {
   "cell_type": "code",
   "execution_count": null,
   "metadata": {
    "collapsed": true
   },
   "outputs": [],
   "source": []
  },
  {
   "cell_type": "code",
   "execution_count": null,
   "metadata": {
    "collapsed": true
   },
   "outputs": [],
   "source": []
  }
 ],
 "metadata": {
  "kernelspec": {
   "display_name": "Python 3",
   "language": "python",
   "name": "python3"
  },
  "language_info": {
   "codemirror_mode": {
    "name": "ipython",
    "version": 3
   },
   "file_extension": ".py",
   "mimetype": "text/x-python",
   "name": "python",
   "nbconvert_exporter": "python",
   "pygments_lexer": "ipython3",
   "version": "3.6.0"
  },
  "toc": {
   "nav_menu": {},
   "number_sections": true,
   "sideBar": true,
   "skip_h1_title": false,
   "toc_cell": false,
   "toc_position": {
    "height": "1239px",
    "left": "0px",
    "right": "20px",
    "top": "106px",
    "width": "203px"
   },
   "toc_section_display": "block",
   "toc_window_display": true
  },
  "varInspector": {
   "cols": {
    "lenName": 16,
    "lenType": 16,
    "lenVar": 40
   },
   "kernels_config": {
    "python": {
     "delete_cmd_postfix": "",
     "delete_cmd_prefix": "del ",
     "library": "var_list.py",
     "varRefreshCmd": "print(var_dic_list())"
    },
    "r": {
     "delete_cmd_postfix": ") ",
     "delete_cmd_prefix": "rm(",
     "library": "var_list.r",
     "varRefreshCmd": "cat(var_dic_list()) "
    }
   },
   "types_to_exclude": [
    "module",
    "function",
    "builtin_function_or_method",
    "instance",
    "_Feature"
   ],
   "window_display": false
  }
 },
 "nbformat": 4,
 "nbformat_minor": 2
}
